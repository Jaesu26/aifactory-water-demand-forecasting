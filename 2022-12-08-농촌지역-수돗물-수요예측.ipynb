{
  "cells": [
    {
      "cell_type": "markdown",
      "metadata": {
        "id": "view-in-github",
        "colab_type": "text"
      },
      "source": [
        "<a href=\"https://colab.research.google.com/github/Jaesu26/aifactory-water-demand-forecasting/blob/main/2022-12-08-%EB%86%8D%EC%B4%8C%EC%A7%80%EC%97%AD-%EC%88%98%EB%8F%97%EB%AC%BC-%EC%88%98%EC%9A%94%EC%98%88%EC%B8%A1.ipynb\" target=\"_parent\"><img src=\"https://colab.research.google.com/assets/colab-badge.svg\" alt=\"Open In Colab\"/></a>"
      ]
    },
    {
      "cell_type": "markdown",
      "metadata": {
        "id": "75xRhMA-ZZ4g"
      },
      "source": [
        "# [2022 제2회 K-water AI 경진대회] 수돗물 수요예측 AI 알고리즘 개발\n",
        "\n",
        "- [2022-Task 2] 아포 : 경상북도 김천시 아포읍"
      ]
    },
    {
      "cell_type": "code",
      "source": [
        "import platform"
      ],
      "metadata": {
        "id": "Fis-1n0RrEaE"
      },
      "execution_count": 26,
      "outputs": []
    },
    {
      "cell_type": "code",
      "source": [
        "platform.platform()"
      ],
      "metadata": {
        "colab": {
          "base_uri": "https://localhost:8080/",
          "height": 35
        },
        "id": "iX7on1aorFfs",
        "outputId": "00d77e4e-9345-4b43-c31f-7cd825d40b25"
      },
      "execution_count": 27,
      "outputs": [
        {
          "output_type": "execute_result",
          "data": {
            "text/plain": [
              "'Linux-5.10.133+-x86_64-with-glibc2.27'"
            ],
            "application/vnd.google.colaboratory.intrinsic+json": {
              "type": "string"
            }
          },
          "metadata": {},
          "execution_count": 27
        }
      ]
    },
    {
      "cell_type": "code",
      "source": [
        "!cat /etc/issue.net"
      ],
      "metadata": {
        "colab": {
          "base_uri": "https://localhost:8080/"
        },
        "id": "IME3R6lPrGfF",
        "outputId": "685a0ca2-1354-4eef-e288-6cca8b4ec815"
      },
      "execution_count": 28,
      "outputs": [
        {
          "output_type": "stream",
          "name": "stdout",
          "text": [
            "Ubuntu 18.04.6 LTS\n"
          ]
        }
      ]
    },
    {
      "cell_type": "code",
      "source": [
        "!python --version"
      ],
      "metadata": {
        "colab": {
          "base_uri": "https://localhost:8080/"
        },
        "id": "n7FziWthrHmU",
        "outputId": "08378e09-0b2f-4b8e-9a17-3e6a037dfeb6"
      },
      "execution_count": 29,
      "outputs": [
        {
          "output_type": "stream",
          "name": "stdout",
          "text": [
            "Python 3.8.15\n"
          ]
        }
      ]
    },
    {
      "cell_type": "code",
      "source": [
        "!nvidia-smi"
      ],
      "metadata": {
        "colab": {
          "base_uri": "https://localhost:8080/"
        },
        "id": "Vd5Lew_2q8_V",
        "outputId": "04471fdc-0d86-4ff2-a0e5-49d05aa8d543"
      },
      "execution_count": 25,
      "outputs": [
        {
          "output_type": "stream",
          "name": "stdout",
          "text": [
            "Thu Dec  8 12:18:21 2022       \n",
            "+-----------------------------------------------------------------------------+\n",
            "| NVIDIA-SMI 460.32.03    Driver Version: 460.32.03    CUDA Version: 11.2     |\n",
            "|-------------------------------+----------------------+----------------------+\n",
            "| GPU  Name        Persistence-M| Bus-Id        Disp.A | Volatile Uncorr. ECC |\n",
            "| Fan  Temp  Perf  Pwr:Usage/Cap|         Memory-Usage | GPU-Util  Compute M. |\n",
            "|                               |                      |               MIG M. |\n",
            "|===============================+======================+======================|\n",
            "|   0  Tesla T4            Off  | 00000000:00:04.0 Off |                    0 |\n",
            "| N/A   51C    P0    28W /  70W |      0MiB / 15109MiB |      0%      Default |\n",
            "|                               |                      |                  N/A |\n",
            "+-------------------------------+----------------------+----------------------+\n",
            "                                                                               \n",
            "+-----------------------------------------------------------------------------+\n",
            "| Processes:                                                                  |\n",
            "|  GPU   GI   CI        PID   Type   Process name                  GPU Memory |\n",
            "|        ID   ID                                                   Usage      |\n",
            "|=============================================================================|\n",
            "|  No running processes found                                                 |\n",
            "+-----------------------------------------------------------------------------+\n"
          ]
        }
      ]
    },
    {
      "cell_type": "markdown",
      "source": [
        "런타임 유형: GPU\n",
        "\n",
        "Linux-5.10.133+-x86_64-with-glibc2.27\n",
        "\n",
        "Ubuntu 18.04.6 LTS\n",
        "\n",
        "Python 3.8.15\n",
        "\n",
        "GPU: NVIDIA-SMI 460.32.03\n",
        "\n",
        "Driver Version: 460.32.03 \n",
        "\n",
        "CUDA Version: 11.2"
      ],
      "metadata": {
        "id": "V0vqsPi1rCkk"
      }
    },
    {
      "cell_type": "markdown",
      "metadata": {
        "id": "68xM6jF0ZchA"
      },
      "source": [
        "## 데이터 불러오기"
      ]
    },
    {
      "cell_type": "code",
      "execution_count": 1,
      "metadata": {
        "id": "zJnLWFhmMGG4"
      },
      "outputs": [],
      "source": [
        "import numpy as np\n",
        "import pandas as pd\n",
        "import seaborn as sns\n",
        "import matplotlib.pyplot as plt\n",
        "import warnings\n",
        "import pickle\n",
        "import random\n",
        "import math\n",
        "import os\n",
        "import gc\n",
        "\n",
        "import statsmodels.graphics.tsaplots as sgt\n",
        "\n",
        "from typing import List, Optional, Tuple, Union\n",
        "from numpy.typing import NDArray\n",
        "from easydict import EasyDict\n",
        "\n",
        "from tqdm.auto import tqdm\n",
        "from glob import glob\n",
        "\n",
        "warnings.filterwarnings('ignore') "
      ]
    },
    {
      "cell_type": "code",
      "execution_count": 2,
      "metadata": {
        "colab": {
          "base_uri": "https://localhost:8080/"
        },
        "id": "GjvmmVOVMW_P",
        "outputId": "598e34d4-4840-4e6f-b579-8f62f1d028ed"
      },
      "outputs": [
        {
          "output_type": "stream",
          "name": "stdout",
          "text": [
            "Mounted at /content/drive\n"
          ]
        }
      ],
      "source": [
        "from google.colab import drive\n",
        "\n",
        "drive.mount('/content/drive')  # 구글코랩과 구글드라이브 연결"
      ]
    },
    {
      "cell_type": "code",
      "execution_count": 3,
      "metadata": {
        "colab": {
          "base_uri": "https://localhost:8080/"
        },
        "id": "eVxuuFzhM72P",
        "outputId": "bbe2c48d-0a8f-4c39-e0dc-79d3a7acc68e"
      },
      "outputs": [
        {
          "output_type": "stream",
          "name": "stdout",
          "text": [
            "/content/drive/MyDrive/Colab Notebooks/농촌지역-수돗물-수요예측\n"
          ]
        }
      ],
      "source": [
        "%cd  /content/drive/MyDrive/Colab Notebooks/농촌지역-수돗물-수요예측"
      ]
    },
    {
      "cell_type": "markdown",
      "metadata": {
        "id": "MRrJ4A5RKC4B"
      },
      "source": [
        "- 데이터 불러오기"
      ]
    },
    {
      "cell_type": "code",
      "execution_count": 4,
      "metadata": {
        "id": "N7JdJZofCXED"
      },
      "outputs": [],
      "source": [
        "train_path = './data/data_tr_apo.csv'\n",
        "test_path = './data/data_ts_apo.csv'\n",
        "submission_path = './data/sample_apo.csv'"
      ]
    },
    {
      "cell_type": "code",
      "execution_count": 5,
      "metadata": {
        "id": "dl5XJ4wb7joA"
      },
      "outputs": [],
      "source": [
        "df = pd.read_csv(train_path)\n",
        "test = pd.read_csv(test_path)\n",
        "submission = pd.read_csv(submission_path)"
      ]
    },
    {
      "cell_type": "code",
      "execution_count": 6,
      "metadata": {
        "id": "TOJPBmADOWLF"
      },
      "outputs": [],
      "source": [
        "# 변수 이름을 영문으로 변경\n",
        "df = df.rename(columns={'구미 아포배수지 유출유량 적산차':'flow'})\n",
        "test = test.rename(columns={'구미 아포배수지 유출유량 적산차':'flow'})\n",
        "\n",
        "\n",
        "# 날짜를 datetime 형식으로 변경\n",
        "df['datetime'] = pd.to_datetime(df['datetime'])\n",
        "test['datetime'] = pd.to_datetime(test['datetime'])\n",
        "submission['datetime'] = pd.to_datetime(submission['datetime'])"
      ]
    },
    {
      "cell_type": "code",
      "source": [
        "test2 = test.copy()"
      ],
      "metadata": {
        "id": "G-uMAmgBKe70"
      },
      "execution_count": 7,
      "outputs": []
    },
    {
      "cell_type": "markdown",
      "metadata": {
        "id": "II2XMQAVsAQt"
      },
      "source": [
        "- 가중치 저장폴더"
      ]
    },
    {
      "cell_type": "code",
      "execution_count": 8,
      "metadata": {
        "id": "YnpAfBHMsCb1"
      },
      "outputs": [],
      "source": [
        "def create_folder(path: str) -> None:\n",
        "    try:\n",
        "        if not os.path.exists(path):\n",
        "            os.makedirs(path)\n",
        "    except OSError as error:\n",
        "        print(error)"
      ]
    },
    {
      "cell_type": "markdown",
      "metadata": {
        "id": "S16IL8xJR81a"
      },
      "source": [
        "- 데이터 설명\n",
        "\n",
        "`-` 유량: 단위시간 당 얼마만큼의 체적에 해당하는 액체가 이동했는지 나타냄 ($m^3/h$)\n",
        "\n",
        "`-` 적산값: 1시간마다 측정한 값이 계속 누적 (i.g. $100 \\xrightarrow{~+170~} 270 \\xrightarrow{~+150~} 420 \\xrightarrow{~+110~} 530$)  \n",
        "\n",
        "`-` 적산차값: 적산의 매시간 차이를 계산 ($\\approx$ 시간 단위 공급량,$\\quad$ i.g. $\\operatorname{NA},170, 150, 110$)"
      ]
    },
    {
      "cell_type": "markdown",
      "metadata": {
        "id": "C_dKoED1K0go"
      },
      "source": [
        "## 전처리\n",
        "\n",
        "`-` 데이터는 항상 시간상의 순서대로 존재해야 한다\n",
        "\n",
        "`-` 데이터에서 특정 시점의 적산차값이 결측치일 수도 있지만 특정 시점 자체가 누락되면 안된다 \n",
        "\n",
        "`-` 그래프에 추세는 없어보인다\n",
        "\n",
        "`-` 데이터에 결측치가 존재한다\n",
        "\n",
        "`-` 결측치는 계절성을 고려하여 전날 같은 시각의 적산차값으로 채워주자\n",
        "\n",
        "`-` 이상치가 존재한다 (예컨대 음수 또는 매우 큰 양수)\n",
        "\n",
        "`-` 로그 변환\n",
        "\n",
        "`-` 후처리는 반올림"
      ]
    },
    {
      "cell_type": "markdown",
      "metadata": {
        "id": "n9adsWRfyT_Y"
      },
      "source": [
        "- 이상치와 결측치 처리"
      ]
    },
    {
      "cell_type": "code",
      "execution_count": 9,
      "metadata": {
        "colab": {
          "base_uri": "https://localhost:8080/",
          "height": 283
        },
        "id": "H8s8AF0SxyzB",
        "outputId": "b206c457-f61f-4d29-e768-d3502d60755f"
      },
      "outputs": [
        {
          "output_type": "execute_result",
          "data": {
            "text/plain": [
              "<matplotlib.axes._subplots.AxesSubplot at 0x7fc8de8a1340>"
            ]
          },
          "metadata": {},
          "execution_count": 9
        },
        {
          "output_type": "display_data",
          "data": {
            "text/plain": [
              "<Figure size 432x288 with 1 Axes>"
            ],
            "image/png": "[encoded data removed]"
          },
          "metadata": {
            "needs_background": "light"
          }
        }
      ],
      "source": [
        "df.query('0 < flow < 500').flow.plot.box()"
      ]
    },
    {
      "cell_type": "markdown",
      "metadata": {
        "id": "XOddn-B5Oq-c"
      },
      "source": [
        "`-` 100,000을 넘기는 매우 큰 값이 존재한다\n",
        "\n",
        "`-` 또한, 음수값도 존재하는데 이들은 모두 -100,000보다 작다\n",
        "\n",
        "`-` 위와 같은 경우는 계측기에 문제가 있는 것으로 보인다\n",
        "\n",
        "`-` 0인 경우도 존재한는데 계측기의 오류 또는 모종의 이유로 물이 흐르지 않은 것으로 보인다 (i.g. 배수지 청소로 인해 단수)\n",
        "\n",
        "`-` 이런 경우 적산차값만 사용해 예측하는 것은 불가능하므로 이상치로 처리하겠다  \n",
        "\n",
        "`-` 한편, 큰 양수의 경우 이상치의 기준은 300을 넘지 않는 값 중 최댓값으로 하겠다 (위의 box-plot에 기반함, IQR을 넘는 값들을 보면 300부터 절단되어 빈도수가 매우 작아짐)\n",
        "\n",
        "`-` 이상치와 결측치는 계절성을 고려하여 전날 같은 시각의 적산차값으로 대체하겠다"
      ]
    },
    {
      "cell_type": "code",
      "execution_count": 10,
      "metadata": {
        "id": "g8FoMs9hYhZA"
      },
      "outputs": [],
      "source": [
        "def fillna(time_series: pd.Series, m: int = 24) -> pd.Series:\n",
        "    \"\"\"m 시점 앞의 값으로 결측치를 재귀적으로 채우고 데이터를 반환\"\"\"\n",
        "    assert time_series.ndim == 1\n",
        "    time_series = time_series.copy()  # 원본이 변하지 않도록 복제 \n",
        "    na_idx = time_series[time_series.isnull()].index.values\n",
        "    fill_idx = na_idx - m  # m 시점 앞의 값으로 결측치를 채운다\n",
        "    fill_idx = np.where(fill_idx < 0, fill_idx + m, fill_idx)\n",
        "\n",
        "    if not na_idx.size:                  # 결측치가 존재하지 않으면 원본을 반환\n",
        "        return time_series\n",
        "    if np.in1d(fill_idx, na_idx).all():  # m 시점 앞의 값이 결측치면 원본을 반환\n",
        "        return time_series\n",
        "\n",
        "    time_series[na_idx] = time_series[fill_idx]\n",
        "    return fillna(time_series, m)"
      ]
    },
    {
      "cell_type": "code",
      "execution_count": 11,
      "metadata": {
        "id": "OCTJffl_zdp4"
      },
      "outputs": [],
      "source": [
        "# 이상치는 결측치로 처리한다\n",
        "tmp = df.flow[df.flow < 300].max()\n",
        "df['flow'] = df['flow'].apply(lambda x: x if 0 < x <= tmp else np.nan)\n",
        "test2['flow'] = test2['flow'].apply(lambda x: x if 0 < x <= tmp else np.nan)"
      ]
    },
    {
      "cell_type": "code",
      "execution_count": 12,
      "metadata": {
        "id": "7FiEFzqFJmbQ"
      },
      "outputs": [],
      "source": [
        "# 결측치는 계절성을 고려하여 전날 같은 시각의 적산차값으로 채운다 \n",
        "df['flow'] = fillna(df['flow']).fillna(method='ffill').fillna(0)\n",
        "test2['flow'] = fillna(test2['flow']).fillna(method='ffill').fillna(0)"
      ]
    },
    {
      "cell_type": "markdown",
      "metadata": {
        "id": "bvB62nkihj3a"
      },
      "source": [
        "## 시각화"
      ]
    },
    {
      "cell_type": "code",
      "execution_count": 13,
      "metadata": {
        "id": "V0EIo2-sFMK9"
      },
      "outputs": [],
      "source": [
        "sns.set_theme(style='white')"
      ]
    },
    {
      "cell_type": "code",
      "source": [
        "# 연도별 적산차의 분포\n",
        "df.assign(year = df.datetime.dt.year).\\\n",
        "groupby('year').flow.describe()"
      ],
      "metadata": {
        "colab": {
          "base_uri": "https://localhost:8080/",
          "height": 206
        },
        "id": "FCT68mm7ibpI",
        "outputId": "dac7ec7d-454e-40a5-96f7-e1f42af5e928"
      },
      "execution_count": 14,
      "outputs": [
        {
          "output_type": "execute_result",
          "data": {
            "text/plain": [
              "       count        mean        std   min   25%   50%    75%    max\n",
              "year                                                               \n",
              "2017  8759.0   94.024775  39.571984   3.0  66.0  89.0  115.0  273.0\n",
              "2018  8760.0  102.328196  48.151006   4.0  68.0  93.0  113.0  296.0\n",
              "2019  8760.0   98.975000  48.606899  15.0  63.0  91.0  109.0  283.0\n",
              "2020  8784.0  101.714253  49.576752   4.0  64.0  94.0  113.0  273.0"
            ],
            "text/html": [
              "\n",
              "  <div id=\"df-6166cb53-8923-4d02-a3c4-8f7dad1bff43\">\n",
              "    <div class=\"colab-df-container\">\n",
              "      <div>\n",
              "<style scoped>\n",
              "    .dataframe tbody tr th:only-of-type {\n",
              "        vertical-align: middle;\n",
              "    }\n",
              "\n",
              "    .dataframe tbody tr th {\n",
              "        vertical-align: top;\n",
              "    }\n",
              "\n",
              "    .dataframe thead th {\n",
              "        text-align: right;\n",
              "    }\n",
              "</style>\n",
              "<table border=\"1\" class=\"dataframe\">\n",
              "  <thead>\n",
              "    <tr style=\"text-align: right;\">\n",
              "      <th></th>\n",
              "      <th>count</th>\n",
              "      <th>mean</th>\n",
              "      <th>std</th>\n",
              "      <th>min</th>\n",
              "      <th>25%</th>\n",
              "      <th>50%</th>\n",
              "      <th>75%</th>\n",
              "      <th>max</th>\n",
              "    </tr>\n",
              "    <tr>\n",
              "      <th>year</th>\n",
              "      <th></th>\n",
              "      <th></th>\n",
              "      <th></th>\n",
              "      <th></th>\n",
              "      <th></th>\n",
              "      <th></th>\n",
              "      <th></th>\n",
              "      <th></th>\n",
              "    </tr>\n",
              "  </thead>\n",
              "  <tbody>\n",
              "    <tr>\n",
              "      <th>2017</th>\n",
              "      <td>8759.0</td>\n",
              "      <td>94.024775</td>\n",
              "      <td>39.571984</td>\n",
              "      <td>3.0</td>\n",
              "      <td>66.0</td>\n",
              "      <td>89.0</td>\n",
              "      <td>115.0</td>\n",
              "      <td>273.0</td>\n",
              "    </tr>\n",
              "    <tr>\n",
              "      <th>2018</th>\n",
              "      <td>8760.0</td>\n",
              "      <td>102.328196</td>\n",
              "      <td>48.151006</td>\n",
              "      <td>4.0</td>\n",
              "      <td>68.0</td>\n",
              "      <td>93.0</td>\n",
              "      <td>113.0</td>\n",
              "      <td>296.0</td>\n",
              "    </tr>\n",
              "    <tr>\n",
              "      <th>2019</th>\n",
              "      <td>8760.0</td>\n",
              "      <td>98.975000</td>\n",
              "      <td>48.606899</td>\n",
              "      <td>15.0</td>\n",
              "      <td>63.0</td>\n",
              "      <td>91.0</td>\n",
              "      <td>109.0</td>\n",
              "      <td>283.0</td>\n",
              "    </tr>\n",
              "    <tr>\n",
              "      <th>2020</th>\n",
              "      <td>8784.0</td>\n",
              "      <td>101.714253</td>\n",
              "      <td>49.576752</td>\n",
              "      <td>4.0</td>\n",
              "      <td>64.0</td>\n",
              "      <td>94.0</td>\n",
              "      <td>113.0</td>\n",
              "      <td>273.0</td>\n",
              "    </tr>\n",
              "  </tbody>\n",
              "</table>\n",
              "</div>\n",
              "      <button class=\"colab-df-convert\" onclick=\"convertToInteractive('df-6166cb53-8923-4d02-a3c4-8f7dad1bff43')\"\n",
              "              title=\"Convert this dataframe to an interactive table.\"\n",
              "              style=\"display:none;\">\n",
              "        \n",
              "  <svg xmlns=\"http://www.w3.org/2000/svg\" height=\"24px\"viewBox=\"0 0 24 24\"\n",
              "       width=\"24px\">\n",
              "    <path d=\"M0 0h24v24H0V0z\" fill=\"none\"/>\n",
              "    <path d=\"M18.56 5.44l.94 2.06.94-2.06 2.06-.94-2.06-.94-.94-2.06-.94 2.06-2.06.94zm-11 1L8.5 8.5l.94-2.06 2.06-.94-2.06-.94L8.5 2.5l-.94 2.06-2.06.94zm10 10l.94 2.06.94-2.06 2.06-.94-2.06-.94-.94-2.06-.94 2.06-2.06.94z\"/><path d=\"M17.41 7.96l-1.37-1.37c-.4-.4-.92-.59-1.43-.59-.52 0-1.04.2-1.43.59L10.3 9.45l-7.72 7.72c-.78.78-.78 2.05 0 2.83L4 21.41c.39.39.9.59 1.41.59.51 0 1.02-.2 1.41-.59l7.78-7.78 2.81-2.81c.8-.78.8-2.07 0-2.86zM5.41 20L4 18.59l7.72-7.72 1.47 1.35L5.41 20z\"/>\n",
              "  </svg>\n",
              "      </button>\n",
              "      \n",
              "  <style>\n",
              "    .colab-df-container {\n",
              "      display:flex;\n",
              "      flex-wrap:wrap;\n",
              "      gap: 12px;\n",
              "    }\n",
              "\n",
              "    .colab-df-convert {\n",
              "      background-color: #E8F0FE;\n",
              "      border: none;\n",
              "      border-radius: 50%;\n",
              "      cursor: pointer;\n",
              "      display: none;\n",
              "      fill: #1967D2;\n",
              "      height: 32px;\n",
              "      padding: 0 0 0 0;\n",
              "      width: 32px;\n",
              "    }\n",
              "\n",
              "    .colab-df-convert:hover {\n",
              "      background-color: #E2EBFA;\n",
              "      box-shadow: 0px 1px 2px rgba(60, 64, 67, 0.3), 0px 1px 3px 1px rgba(60, 64, 67, 0.15);\n",
              "      fill: #174EA6;\n",
              "    }\n",
              "\n",
              "    [theme=dark] .colab-df-convert {\n",
              "      background-color: #3B4455;\n",
              "      fill: #D2E3FC;\n",
              "    }\n",
              "\n",
              "    [theme=dark] .colab-df-convert:hover {\n",
              "      background-color: #434B5C;\n",
              "      box-shadow: 0px 1px 3px 1px rgba(0, 0, 0, 0.15);\n",
              "      filter: drop-shadow(0px 1px 2px rgba(0, 0, 0, 0.3));\n",
              "      fill: #FFFFFF;\n",
              "    }\n",
              "  </style>\n",
              "\n",
              "      <script>\n",
              "        const buttonEl =\n",
              "          document.querySelector('#df-6166cb53-8923-4d02-a3c4-8f7dad1bff43 button.colab-df-convert');\n",
              "        buttonEl.style.display =\n",
              "          google.colab.kernel.accessAllowed ? 'block' : 'none';\n",
              "\n",
              "        async function convertToInteractive(key) {\n",
              "          const element = document.querySelector('#df-6166cb53-8923-4d02-a3c4-8f7dad1bff43');\n",
              "          const dataTable =\n",
              "            await google.colab.kernel.invokeFunction('convertToInteractive',\n",
              "                                                     [key], {});\n",
              "          if (!dataTable) return;\n",
              "\n",
              "          const docLinkHtml = 'Like what you see? Visit the ' +\n",
              "            '<a target=\"_blank\" href=https://colab.research.google.com/notebooks/data_table.ipynb>data table notebook</a>'\n",
              "            + ' to learn more about interactive tables.';\n",
              "          element.innerHTML = '';\n",
              "          dataTable['output_type'] = 'display_data';\n",
              "          await google.colab.output.renderOutput(dataTable, element);\n",
              "          const docLink = document.createElement('div');\n",
              "          docLink.innerHTML = docLinkHtml;\n",
              "          element.appendChild(docLink);\n",
              "        }\n",
              "      </script>\n",
              "    </div>\n",
              "  </div>\n",
              "  "
            ]
          },
          "metadata": {},
          "execution_count": 14
        }
      ]
    },
    {
      "cell_type": "code",
      "execution_count": 15,
      "metadata": {
        "colab": {
          "base_uri": "https://localhost:8080/",
          "height": 324
        },
        "id": "l3eOIr0N2P6f",
        "outputId": "5a2d0fe2-ac9b-4eec-ba40-98edbe2d000a"
      },
      "outputs": [
        {
          "output_type": "execute_result",
          "data": {
            "text/plain": [
              "<matplotlib.axes._subplots.AxesSubplot at 0x7fc8dec21ac0>"
            ]
          },
          "metadata": {},
          "execution_count": 15
        },
        {
          "output_type": "display_data",
          "data": {
            "text/plain": [
              "<Figure size 432x288 with 1 Axes>"
            ],
            "image/png": "[encoded data removed]"
          },
          "metadata": {}
        }
      ],
      "source": [
        "# 연도별 적산차의 분포\n",
        "df.assign(year = df.datetime.dt.year).boxplot(column='flow', by='year', grid=False)"
      ]
    },
    {
      "cell_type": "markdown",
      "metadata": {
        "id": "aIipbcAj1tNG"
      },
      "source": [
        "`-` 적산차의 경우 2017년과 나머지 연도는 다른 분포를 띄고있다 (평균과 분산이 더 커졌다)\n",
        "\n",
        "`-` 원인은 200을 넘어가는 큰 값의 빈도수에 있다 (배수지를 증설한 듯 하다)\n",
        "\n",
        "`-` 모델 훈련에 2017년 데이터를 사용하지 않는게 미래를 예측하는데 더 나을 수 있다"
      ]
    },
    {
      "cell_type": "code",
      "source": [
        "# 월별 적산차의 분포\n",
        "df.assign(month = df.datetime.dt.month).boxplot(column='flow', by='month', grid=False)"
      ],
      "metadata": {
        "colab": {
          "base_uri": "https://localhost:8080/",
          "height": 324
        },
        "id": "GlcUS87iVwOZ",
        "outputId": "48f17593-0c03-458f-f976-41e89556dd03"
      },
      "execution_count": 16,
      "outputs": [
        {
          "output_type": "execute_result",
          "data": {
            "text/plain": [
              "<matplotlib.axes._subplots.AxesSubplot at 0x7fc8de584ee0>"
            ]
          },
          "metadata": {},
          "execution_count": 16
        },
        {
          "output_type": "display_data",
          "data": {
            "text/plain": [
              "<Figure size 432x288 with 1 Axes>"
            ],
            "image/png": "[encoded data removed]"
          },
          "metadata": {}
        }
      ]
    },
    {
      "cell_type": "markdown",
      "source": [
        "`-` 8월의 수돗물 수요가 평균적으로 가장 많다"
      ],
      "metadata": {
        "id": "AfxB2IRCtT5r"
      }
    },
    {
      "cell_type": "code",
      "source": [
        "# 일별 적산차의 분포\n",
        "df.assign(day = df.datetime.dt.day).boxplot(column='flow', by='day', grid=False)"
      ],
      "metadata": {
        "colab": {
          "base_uri": "https://localhost:8080/",
          "height": 324
        },
        "id": "gkIS4wXcWelh",
        "outputId": "bc909c9f-e502-4cb5-941c-339fe150139b"
      },
      "execution_count": 17,
      "outputs": [
        {
          "output_type": "execute_result",
          "data": {
            "text/plain": [
              "<matplotlib.axes._subplots.AxesSubplot at 0x7fc8de328580>"
            ]
          },
          "metadata": {},
          "execution_count": 17
        },
        {
          "output_type": "display_data",
          "data": {
            "text/plain": [
              "<Figure size 432x288 with 1 Axes>"
            ],
            "image/png": "[encoded data removed]"
          },
          "metadata": {}
        }
      ]
    },
    {
      "cell_type": "code",
      "source": [
        "# 시간별 적산차의 분포\n",
        "df.assign(hour = df.datetime.dt.hour).boxplot(column='flow', by='hour', grid=False)"
      ],
      "metadata": {
        "colab": {
          "base_uri": "https://localhost:8080/",
          "height": 324
        },
        "id": "F8UOXHCCWuNR",
        "outputId": "0406b51b-8ce6-4618-c7b2-acfb3862507f"
      },
      "execution_count": 18,
      "outputs": [
        {
          "output_type": "execute_result",
          "data": {
            "text/plain": [
              "<matplotlib.axes._subplots.AxesSubplot at 0x7fc8de0356a0>"
            ]
          },
          "metadata": {},
          "execution_count": 18
        },
        {
          "output_type": "display_data",
          "data": {
            "text/plain": [
              "<Figure size 432x288 with 1 Axes>"
            ],
            "image/png": "[encoded data removed]"
          },
          "metadata": {}
        }
      ]
    },
    {
      "cell_type": "code",
      "execution_count": 19,
      "metadata": {
        "colab": {
          "base_uri": "https://localhost:8080/",
          "height": 340
        },
        "id": "5lkHLhKReVPo",
        "outputId": "bba5b3d4-bffc-4297-de92-5d4a7c44a855"
      },
      "outputs": [
        {
          "output_type": "execute_result",
          "data": {
            "text/plain": [
              "<matplotlib.axes._subplots.AxesSubplot at 0x7fc8ddde0cd0>"
            ]
          },
          "metadata": {},
          "execution_count": 19
        },
        {
          "output_type": "display_data",
          "data": {
            "text/plain": [
              "<Figure size 864x360 with 1 Axes>"
            ],
            "image/png": "[encoded data removed]"
          },
          "metadata": {}
        }
      ],
      "source": [
        "fig, ax = plt.subplots(figsize=(12, 5))\n",
        "sns.lineplot(data=df['flow'], ax=ax)"
      ]
    },
    {
      "cell_type": "code",
      "execution_count": 20,
      "metadata": {
        "colab": {
          "base_uri": "https://localhost:8080/",
          "height": 501
        },
        "id": "z08EvLmvIJv5",
        "outputId": "bf3c82aa-76b5-42a4-a142-2200a25fd8f6"
      },
      "outputs": [
        {
          "output_type": "display_data",
          "data": {
            "text/plain": [
              "<Figure size 720x576 with 2 Axes>"
            ],
            "image/png": "[encoded data removed]"
          },
          "metadata": {}
        }
      ],
      "source": [
        "fig, (ax1, ax2) = plt.subplots(2, 1, figsize=(10, 8))\n",
        "sgt.plot_acf(df['flow'], lags = 100, ax=ax1);\n",
        "sgt.plot_pacf(df['flow'], lags = 100, ax=ax2);"
      ]
    },
    {
      "cell_type": "markdown",
      "metadata": {
        "id": "aQ0MbMTP593M"
      },
      "source": [
        "`-` 그래프에 2017년을 제외하면 추세는 존재하지 않고 강한 계절성이 존재한다\n",
        "\n",
        "`-` ACF, PACF의 정의에 따라 0시점 차이는 의미가 없으므로 무시한다\n",
        "\n",
        "`-` 계절성이 매우 강하다 (6시간, 18시간, 24시간, 1주, 1달, 1년 등)\n",
        "\n",
        "`-` 신기한 것은 12시점(12시간)차이의 경우 자기상관이 존재하지 않는다\n",
        "\n",
        "`-` 사이클(W 모양)이 대략 24시간 마다 반복되므로 최소 24시간 분량의 변수를 모델의 입력으로 사용해야 한다\n",
        "\n",
        "- 추가 설명\n",
        "\n",
        "`-`  hello 라는 단어를 생각해보자, 다음의 같은 사이클이 반복된다\n",
        "\n",
        "`-` h $\\to$ e, e $\\to$ l, l $\\to$ l, l $\\to$ o, o $\\to$ h \n",
        "\n",
        "`-` 만약 단어 하나만이 입력으로 주어진다면 l이 입력으로 들어왔을 때 다음에 오는 단어가 l인지 o인지 알 수 없다\n",
        "\n",
        "`-` 하지만 연속된 단어 두개가 입력으로 주어진다면 다음에 올 단어를 예측할 수 있다\n",
        "\n",
        "`-` 예컨대 ll 이면 o, lo 이면 h이다\n",
        "\n",
        "`-` 이는 적산차를 예측하는 문제에서도 마찬가지이다"
      ]
    },
    {
      "cell_type": "markdown",
      "source": [
        "- 고점 판단"
      ],
      "metadata": {
        "id": "J4mpIchKGpQR"
      }
    },
    {
      "cell_type": "markdown",
      "source": [
        "`-` 시각화하면 알 수 있는데 고점은 하루에 2번 나타난다 (9시 부근, 20시 부근, 나머지는 잡음으로 생각)"
      ],
      "metadata": {
        "id": "ZDb64B8GI5wg"
      }
    },
    {
      "cell_type": "code",
      "source": [
        "high_value = np.quantile(df['flow'].values, q=1-2/24)  # 하루에 고점은 2번 (시각화로 확인함)"
      ],
      "metadata": {
        "id": "P09Gy3guZdiu"
      },
      "execution_count": 21,
      "outputs": []
    },
    {
      "cell_type": "code",
      "source": [
        "df.assign(year = df.datetime.dt.year).query('year > 2017').\\\n",
        "assign(is_high = (df.flow > high_value).astype(int)).\\\n",
        "assign(hour = df.datetime.dt.hour).\\\n",
        "groupby('hour').agg(high_counts=('is_high', np.sum)).\\\n",
        "reset_index().plot.bar(x='hour', y='high_counts', rot=0)"
      ],
      "metadata": {
        "colab": {
          "base_uri": "https://localhost:8080/",
          "height": 303
        },
        "id": "D1zUSdYNYFz-",
        "outputId": "f78f7498-0f14-4a30-ec40-356b23a2ea6b"
      },
      "execution_count": 22,
      "outputs": [
        {
          "output_type": "execute_result",
          "data": {
            "text/plain": [
              "<matplotlib.axes._subplots.AxesSubplot at 0x7fc8db487580>"
            ]
          },
          "metadata": {},
          "execution_count": 22
        },
        {
          "output_type": "display_data",
          "data": {
            "text/plain": [
              "<Figure size 432x288 with 1 Axes>"
            ],
            "image/png": "[encoded data removed]"
          },
          "metadata": {}
        }
      ]
    },
    {
      "cell_type": "markdown",
      "source": [
        "`-` 모델 학습에서 가장 큰 문제점은 고점이 언제인지 판단하는 것이다\n",
        "\n",
        "`-` 고점이 언제 나타날지 불명확하기에 맞추기 어렵다\n",
        "\n",
        "`-` 고점을 틀렸을 때 손실을 생각하면 맞추지 않는게 낫기에 모델은 고점을 전혀 잡아내지 못한다\n",
        "\n",
        "`-` 즉, 모델은 고점을 잡음으로 취급한다"
      ],
      "metadata": {
        "id": "I6_sMr-OGF_J"
      }
    },
    {
      "cell_type": "markdown",
      "source": [
        "## 딥러닝 모델 학습"
      ],
      "metadata": {
        "id": "pbnHw9XBQ-Qr"
      }
    },
    {
      "cell_type": "code",
      "execution_count": 23,
      "metadata": {
        "id": "wHqcoMavJK1Q"
      },
      "outputs": [],
      "source": [
        "!git clone https://github.com/ts-kim/RevIN.git"
      ]
    },
    {
      "cell_type": "code",
      "execution_count": 30,
      "metadata": {
        "id": "n8LBsMPybBJx"
      },
      "outputs": [],
      "source": [
        "import torch\n",
        "import torch.nn as nn\n",
        "import torch.optim as optim\n",
        "import torch.nn.functional as F\n",
        "from torch import Tensor\n",
        "from torch.utils.data import Dataset, DataLoader\n",
        "from torch.optim.lr_scheduler import _LRScheduler\n",
        "from torch.nn.modules.loss import _Loss\n",
        "from torch.optim import Optimizer\n",
        "from torch.autograd import Variable\n",
        "\n",
        "import sklearn\n",
        "from sklearn.preprocessing import MinMaxScaler\n",
        "from sklearn.model_selection import TimeSeriesSplit\n",
        "from sklearn.metrics import mean_absolute_error, mean_squared_error\n",
        "\n",
        "from RevIN.RevIN import RevIN"
      ]
    },
    {
      "cell_type": "markdown",
      "source": [
        "- base score"
      ],
      "metadata": {
        "id": "bXB8fwZ1vxtA"
      }
    },
    {
      "cell_type": "code",
      "source": [
        "tmp = df['flow'].values\n",
        "m = 48\n",
        "mean_absolute_error(tmp[m:], tmp[:-m])"
      ],
      "metadata": {
        "colab": {
          "base_uri": "https://localhost:8080/"
        },
        "id": "NzeGxpivvhFJ",
        "outputId": "f5d268d5-96b9-439c-f599-3202e55577f9"
      },
      "execution_count": 31,
      "outputs": [
        {
          "output_type": "execute_result",
          "data": {
            "text/plain": [
              "26.555818934742252"
            ]
          },
          "metadata": {},
          "execution_count": 31
        }
      ]
    },
    {
      "cell_type": "code",
      "source": [
        "mean_absolute_error(df['flow'].values[m:], df['flow'].ewm(span=2).mean().values[:-m])"
      ],
      "metadata": {
        "colab": {
          "base_uri": "https://localhost:8080/"
        },
        "id": "RH1e5vC9wHx_",
        "outputId": "60bd692d-a2d1-4814-ad1f-25aa5d1faa54"
      },
      "execution_count": 32,
      "outputs": [
        {
          "output_type": "execute_result",
          "data": {
            "text/plain": [
              "25.772675330276037"
            ]
          },
          "metadata": {},
          "execution_count": 32
        }
      ]
    },
    {
      "cell_type": "markdown",
      "metadata": {
        "id": "0k2BNfj7EAll"
      },
      "source": [
        "- 학습 방법\n",
        "\n",
        "`-` private 데이터는 2022-01-01-00:00:00 부터 존재할 것이다\n",
        "\n",
        "`-` public 데이터는 2021-12-17 23:00:00 까지 존재한다\n",
        "\n",
        "`-` 2021-12-17 23:00:00 에서 337시간 뒤는 2022-01-01 00:00:00 이다\n",
        "\n",
        "`-` 337시간 후의 적산차를 예측하는 모델을 만드는게 적합하지만 그러면 시간상의 차이가 많이 나서 성능이 떨어진다\n",
        "\n",
        "`-` 따라서 1시간 후의 적산차를 예측하는 모델을 만들고 존재하지 않는 시각의 정보는 예측한 정보로 대체하여 사용하겠다\n",
        "\n",
        "`-` 1시간 후의 적산차를 예측하기 위해 pacf 그래프에 근거해 24시간의 배수에 해당하는 분량을 사용하겠다\n",
        "\n",
        "`-` 사이클을 포함하는(24시간 이상) 시계열 중 24시간 차이가 나는 데이터간의 직접적인 상관관계가 가장 크다\n",
        "\n",
        "`-` 하나의 사이클을 포함하면서 과적합을 피하기 위해 24*n 시간 분량을 사용하겠다"
      ]
    },
    {
      "cell_type": "markdown",
      "source": [
        "- 전처리"
      ],
      "metadata": {
        "id": "qU-JFQKOWKe_"
      }
    },
    {
      "cell_type": "code",
      "execution_count": 33,
      "metadata": {
        "id": "HGvNlbWPGnsq"
      },
      "outputs": [],
      "source": [
        "def ts_train2supervised(\n",
        "    ts: NDArray[np.float_], \n",
        "    window: int = 24,\n",
        "    gap: int = 1, \n",
        "    step: int = 336\n",
        ") -> Tuple[NDArray[np.float_], NDArray[np.float_]]:\n",
        "    assert ts.ndim == 2 and ts.shape[1] == 1\n",
        "    X, y = [], []\n",
        "    for t in range(len(ts) - (window+gap+step) + 2):\n",
        "        X.append(ts[t:t+window])\n",
        "        y.append(ts[t+window+gap-1 : t+window+gap+step-1])\n",
        "    X, y = np.array(X), np.array(y)  \n",
        "    return X, y"
      ]
    },
    {
      "cell_type": "markdown",
      "metadata": {
        "id": "ksSFOul4X4Kn"
      },
      "source": [
        "`-` 예측을 위해 train과 test를 병합 "
      ]
    },
    {
      "cell_type": "code",
      "execution_count": 34,
      "metadata": {
        "id": "7HYc-KVpX0df"
      },
      "outputs": [],
      "source": [
        "def ts_test2supervised(\n",
        "    ts: NDArray[np.float_], \n",
        "    window: int = 24\n",
        ") -> NDArray[np.float_]:\n",
        "    assert ts.ndim == 2 and ts.shape[1] == 1\n",
        "    X = []\n",
        "    for t in range(len(ts) - window + 1):\n",
        "        X.append(ts[t:t+window])\n",
        "    X = np.array(X)\n",
        "    return X"
      ]
    },
    {
      "cell_type": "markdown",
      "source": [
        "- 난수 고정, gpu 설정"
      ],
      "metadata": {
        "id": "vZNIkGjNWMMB"
      }
    },
    {
      "cell_type": "code",
      "execution_count": 35,
      "metadata": {
        "id": "v019psysRPs_"
      },
      "outputs": [],
      "source": [
        "def seed_everything(seed):\n",
        "    random.seed(seed)\n",
        "    os.environ['PYTHONHASHSEED'] = str(seed)\n",
        "    np.random.seed(seed)\n",
        "    torch.manual_seed(seed)\n",
        "    torch.cuda.manual_seed(seed)\n",
        "    torch.backends.cudnn.deterministic = True\n",
        "    torch.backends.cudnn.benchmark = False\n",
        "    torch.backends.cudnn.enabled = False  "
      ]
    },
    {
      "cell_type": "code",
      "execution_count": 36,
      "metadata": {
        "id": "pWvI00B4QjAw"
      },
      "outputs": [],
      "source": [
        "def clear_gpu() -> None:\n",
        "    gc.collect()\n",
        "    torch.cuda.empty_cache()"
      ]
    },
    {
      "cell_type": "code",
      "execution_count": 37,
      "metadata": {
        "colab": {
          "base_uri": "https://localhost:8080/"
        },
        "id": "NF4nZggTCFrk",
        "outputId": "5789e048-2178-46bb-a76a-3065b57b59ec"
      },
      "outputs": [
        {
          "output_type": "stream",
          "name": "stdout",
          "text": [
            "현재 device는 cuda입니다\n"
          ]
        }
      ],
      "source": [
        "DEVICE = torch.device('cuda' if torch.cuda.is_available() else 'cpu')\n",
        "print(f'현재 device는 {DEVICE}입니다')"
      ]
    },
    {
      "cell_type": "markdown",
      "metadata": {
        "id": "qDLcPXXlnMNp"
      },
      "source": [
        "- 피쳐 스케일링"
      ]
    },
    {
      "cell_type": "markdown",
      "metadata": {
        "id": "hTgXV10duoi9"
      },
      "source": [
        "`-` 0 ~ 1 사이로 정규화\n",
        "\n",
        "`-` 2017년은 빼고하는 것이 합리적이지만 2017년 데이터는 최댓값, 최솟값에 영향을 주지 않으므로 괜찮다"
      ]
    },
    {
      "cell_type": "code",
      "execution_count": 38,
      "metadata": {
        "id": "mzutTB9enN9p"
      },
      "outputs": [],
      "source": [
        "minmax_scaler = MinMaxScaler()\n",
        "flow_scaled = minmax_scaler.fit_transform(df['flow'].values.reshape(-1, 1))  \n",
        "flow_scaled_test = minmax_scaler.transform(test2['flow'].values.reshape(-1, 1))   "
      ]
    },
    {
      "cell_type": "markdown",
      "metadata": {
        "id": "wBTn29ty8G60"
      },
      "source": [
        "- 데이터 셋과 데이터 로더"
      ]
    },
    {
      "cell_type": "code",
      "execution_count": 39,
      "metadata": {
        "id": "h2fyJFdrkPMw"
      },
      "outputs": [],
      "source": [
        "class CustomDataset(Dataset):\n",
        "    def __init__(self, X: NDArray[np.float_], y: Optional[NDArray[np.float_]] = None) -> None:\n",
        "        super(CustomDataset, self).__init__()\n",
        "        self.X = X\n",
        "        self.y = y\n",
        "\n",
        "    def __getitem__(self, idx: int) -> Union[Tuple[Tensor, Tensor], Tensor]:\n",
        "        X = torch.FloatTensor(self.X[idx])\n",
        "        if self.y is not None:\n",
        "            y = torch.FloatTensor(self.y[idx])\n",
        "            return X, y\n",
        "        return X\n",
        "\n",
        "    def __len__(self) -> int:\n",
        "        return self.X.shape[0]"
      ]
    },
    {
      "cell_type": "code",
      "execution_count": 40,
      "metadata": {
        "id": "Sh9y6n1z8OAc"
      },
      "outputs": [],
      "source": [
        "def get_dataloader(\n",
        "    X: NDArray[np.float_], \n",
        "    y: Optional[NDArray[np.float_]] = None, \n",
        "    batch_size: int = 64, \n",
        "    shuffle: bool = True\n",
        ") -> DataLoader:\n",
        "    dataset = CustomDataset(X, y)    \n",
        "    dataloader = DataLoader(dataset, batch_size=batch_size, shuffle=shuffle)\n",
        "    return dataloader"
      ]
    },
    {
      "cell_type": "markdown",
      "metadata": {
        "id": "8Zcka8vB9vVd"
      },
      "source": [
        "- early stopping"
      ]
    },
    {
      "cell_type": "code",
      "execution_count": 41,
      "metadata": {
        "id": "GThXBWqi7NE1"
      },
      "outputs": [],
      "source": [
        "# ref: https://github.com/Bjarten/early-stopping-pytorch/blob/master/pytorchtools.py\n",
        "class EarlyStopping:\n",
        "    \"\"\"주어진 patience 횟수 이후로 validation score가 개선되지 않으면 학습을 조기 중단\"\"\"\n",
        "    mode_dict = {'min':-1, 'max':1}\n",
        "    score_metrics = [\n",
        "        'accuracy',\n",
        "        'f1_score',\n",
        "        'mae',\n",
        "    ]\n",
        "\n",
        "    def __init__(\n",
        "        self, \n",
        "        patience: int = 7, \n",
        "        monitor: str = 'loss', \n",
        "        mode: str = 'min', \n",
        "        min_delta: float = 0.0, \n",
        "        folder_path: str = './weights', \n",
        "        model_name: str = '',\n",
        "    ) -> None:\n",
        "        self.patience = patience\n",
        "        self.counter = 0\n",
        "        self.mode = mode\n",
        "        self.direction = self.mode_dict[mode]\n",
        "        self.monitor = monitor\n",
        "        self.best_score = -np.Inf\n",
        "        self.valid_loss = np.Inf\n",
        "        self.valid_metric_score = None  # 평가지표 (i.g. accuracy)\n",
        "        self.early_stop = False\n",
        "        self.min_delta = min_delta\n",
        "        self.folder_path = folder_path    \n",
        "        self.model_name = model_name\n",
        "        self.reset_fold()  # for k-fold cross validation\n",
        "\n",
        "    def __call__(\n",
        "        self, \n",
        "        model: nn.Module, \n",
        "        valid_loss: float, \n",
        "        valid_metric_score: Optional[float] = None\n",
        "    ) -> None:\n",
        "        # score는 클수록 좋다\n",
        "        if self.monitor == 'loss':\n",
        "            score = valid_loss * self.direction\n",
        "        elif self.monitor in self.score_metrics:\n",
        "            score = valid_metric_score * self.direction\n",
        "        else:\n",
        "            score = None\n",
        "\n",
        "        # score가 개선되었는지 확인\n",
        "        if score <= self.best_score + self.min_delta: \n",
        "            self.counter += 1 \n",
        "            if self.counter > self.patience:  # 만약 score가 개선되지 않은 에폭이 patience 횟수보다 크다면 조기 중단\n",
        "                self.early_stop = True\n",
        "        else: \n",
        "            self.best_score = score \n",
        "            self.save_checkpoint(model, valid_loss, valid_metric_score) \n",
        "            self.counter = 0  # score가 개선되었으므로 0으로 변경\n",
        "\n",
        "    def save_checkpoint(\n",
        "        self, \n",
        "        model: nn.Module, \n",
        "        valid_loss: float, \n",
        "        valid_metric_score: Optional[float] = None\n",
        "    ) -> None:\n",
        "        \"\"\"validation score가 개선되면 모델을 저장\"\"\"\n",
        "        torch.save(model.state_dict(), self.path) \n",
        "        self.valid_loss = valid_loss  # 모델이 더 좋게 갱신되었으므로 이때의 valid loss를 기준치로 변경\n",
        "        self.valid_metric_score = valid_metric_score  # 이때의 valid metric score도 변경\n",
        "\n",
        "    @property\n",
        "    def path(self) -> str:\n",
        "        return f'{self.folder_path}/{self.model_name}_best_{self.fold}.pt'\n",
        "\n",
        "    def reset_fold(self) -> None:\n",
        "        self.fold = 0\n",
        "\n",
        "    def update_fold(self) -> None:\n",
        "        self.fold += 1\n",
        "\n",
        "    def reset_score(self) -> None:\n",
        "        \"\"\"다음 fold 학습을 위해 score 관련 파라미터를 초기화\"\"\"\n",
        "        self.counter = 0\n",
        "        self.best_score = -np.Inf\n",
        "        self.valid_loss = np.Inf\n",
        "        self.valid_metric_score = None\n",
        "        self.early_stop = False"
      ]
    },
    {
      "cell_type": "markdown",
      "metadata": {
        "id": "Kd-RlDPrAvyT"
      },
      "source": [
        "- 손실 함수"
      ]
    },
    {
      "cell_type": "code",
      "execution_count": 42,
      "metadata": {
        "id": "PvuxFxaFAwwD"
      },
      "outputs": [],
      "source": [
        "loss_fn = nn.L1Loss()"
      ]
    },
    {
      "cell_type": "markdown",
      "source": [
        "- 학습 및 검증"
      ],
      "metadata": {
        "id": "ixIZ19boV4tq"
      }
    },
    {
      "cell_type": "code",
      "execution_count": 44,
      "metadata": {
        "id": "3TYzo_fJAdd0"
      },
      "outputs": [],
      "source": [
        "def train(\n",
        "    model: nn.Module,\n",
        "    dataloader: DataLoader, \n",
        "    device: torch.device,\n",
        "    loss_fn: _Loss, \n",
        "    optimizer: Optimizer, \n",
        "    scaler: torch.cuda.amp.GradScaler,\n",
        "    args: EasyDict,\n",
        "    scheduler: Optional[_LRScheduler] = None\n",
        ") -> Tuple[nn.Module, float]:\n",
        "    \"\"\"dataloader의 데이터로 모델을 학습시킨 후 학습된 모델과 평균 배치 훈련 오차를 반환\"\"\"  \n",
        "    train_loss = 0.0\n",
        "    model.to(device)\n",
        "    model.train()\n",
        "\n",
        "    for X, y in dataloader:  \n",
        "        X, y = X.to(device), y.to(device) \n",
        "        with torch.cuda.amp.autocast():\n",
        "            y_hat = model(X)\n",
        "            loss = loss_fn(y_hat, y)  \n",
        "\n",
        "        optimizer.zero_grad()  \n",
        "        scaler.scale(loss).backward()\n",
        "        scaler.unscale_(optimizer)\n",
        "        torch.nn.utils.clip_grad_norm_(model.parameters(), max_norm=args.max_norm)\n",
        "        scaler.step(optimizer)\n",
        "        scaler.update()\n",
        "        train_loss += (loss.item() / len(dataloader)) \n",
        "  \n",
        "    # 에폭마다 학습률 조절\n",
        "    if scheduler is not None:\n",
        "        scheduler.step()\n",
        "        \n",
        "    return model, train_loss"
      ]
    },
    {
      "cell_type": "code",
      "execution_count": 45,
      "metadata": {
        "id": "fVZDILgmAnfl"
      },
      "outputs": [],
      "source": [
        "def evaluate(\n",
        "    model: nn.Module, \n",
        "    dataloader: DataLoader, \n",
        "    device: torch.device,\n",
        "    loss_fn: _Loss,\n",
        "    args: EasyDict\n",
        ") -> Tuple[float, float]:\n",
        "    \"\"\"dataloader의 데이터를 모델이 평가한 후 평균 배치 검증 오차와 ACD f1 score를 반환\"\"\"\n",
        "    valid_loss = 0.0\n",
        "    y_list, yhat_list = np.array([]).reshape(0, args.num_classes), np.array([]).reshape(0, args.num_classes)\n",
        "    model.to(device)\n",
        "    model.eval()  \n",
        "\n",
        "    with torch.no_grad():  \n",
        "        for X, y in dataloader:  \n",
        "            X, y = X.to(device), y.to(device) \n",
        "            with torch.cuda.amp.autocast():\n",
        "                y_hat = model(X)\n",
        "                loss = loss_fn(y_hat, y)\n",
        "                  \n",
        "            y = y.detach().cpu().numpy()  # y shape: (B, 336)\n",
        "            y_hat = y_hat.detach().cpu().numpy()  # yhat shape: (B, 336)\n",
        "            y_list = np.concatenate([y_list, minmax_scaler.inverse_transform(y)])\n",
        "            yhat_list = np.concatenate([yhat_list, minmax_scaler.inverse_transform(y_hat)])\n",
        "            valid_loss += (loss.item() / len(dataloader))\n",
        "\n",
        "    valid_mae = mean_absolute_error(y_list, yhat_list)        \n",
        "    return valid_loss, valid_mae"
      ]
    },
    {
      "cell_type": "code",
      "execution_count": 46,
      "metadata": {
        "id": "aqXGOMVTAp0V"
      },
      "outputs": [],
      "source": [
        "def kfold_cross_validate(\n",
        "    model: nn.Module, \n",
        "    X: NDArray[np.float_],\n",
        "    y: NDArray[np.float_],\n",
        "    loss_fn: _Loss, \n",
        "    early_stopping: EarlyStopping,\n",
        "    device: torch.device,\n",
        "    args: EasyDict \n",
        ") -> Tuple[nn.Module, List[List[float]], List[List[float]]]:\n",
        "    \"\"\"K겹 교차검증을 통해 모델의 성능을 평가하고 학습된 모델과 폴드별 훈련 손실, 검증 손실을 반환\"\"\"\n",
        "    seed_everything(args.seed)   # 정확한 재현을 위함\n",
        "    fold_valid_loss = []         # 폴드별 best 검증 손실\n",
        "    fold_valid_mae = []          # 폴드별 best 검증 MAE\n",
        "    fold_train_losses_per_epoch = [[] for _ in range(args.num_folds)]  # 폴드별 1 에폭에 따른 훈련 배치 손실\n",
        "    fold_valid_losses_per_epoch = [[] for _ in range(args.num_folds)]  # 폴드별 1 에폭에 따른 검증 배치 손실\n",
        "    early_stopping.reset_fold()  # 폴드 순서 0 번째로 초기화\n",
        "    tscv = TimeSeriesSplit(n_splits=args.num_folds)     \n",
        "\n",
        "    for fold, (train_idx, val_idx) in enumerate(tscv.split(X)):\n",
        "        print(f'[{fold + 1} / {args.num_folds}] Fold Training......')\n",
        "\n",
        "        # 메모리 절약\n",
        "        clear_gpu()\n",
        "\n",
        "        # 훈련 데이터와 검증 데이터로 분할\n",
        "        X_train, y_train = X[train_idx], y[train_idx] \n",
        "        X_val, y_val =  X[val_idx], y[val_idx]\n",
        "\n",
        "        # Dataloader\n",
        "        train_dataloader = get_dataloader(X_train, y_train, args.bs)\n",
        "        valid_dataloader = get_dataloader(X_val, y_val, args.bs, shuffle=False)\n",
        "\n",
        "        # optimizer\n",
        "        optimizer = optim.AdamW(model.parameters(), lr=args.lr, weight_decay=args.weight_decay) \n",
        "\n",
        "        # scheduler\n",
        "        scheduler = optim.lr_scheduler.ExponentialLR(optimizer, gamma=args.lr_gamma)\n",
        "\n",
        "        # grad scalder\n",
        "        scaler = torch.cuda.amp.GradScaler()\n",
        "\n",
        "        # early stopping, 다음 폴드 학습을 위해 score 관련 파라미터 초기화\n",
        "        early_stopping.reset_score()\n",
        "        early_stopping.update_fold()  \n",
        "        \n",
        "        # 폴드마다 모델 학습\n",
        "        for epoch in tqdm(range(1, args.num_epochs+1)):  # (배치사이즈 X 에폭) 만큼 훈련시킴           \n",
        "            model, train_loss = train(model, train_dataloader, device, loss_fn, optimizer, scaler, args, scheduler)  # 모델 학습\n",
        "            valid_loss, valid_mae = evaluate(model, valid_dataloader, device, loss_fn, args)  # 모델 평가\n",
        "            fold_train_losses_per_epoch[fold].append(train_loss) \n",
        "            fold_valid_losses_per_epoch[fold].append(valid_loss)  \n",
        "\n",
        "            print_score_condition = (epoch == 1 or epoch % 10 == 0 or epoch == args.num_epochs)  \n",
        "            score_information = f'[Epoch: {epoch:>2}]  train loss = {train_loss:.5f}  valid loss = {valid_loss:.5f}  valid MAE = {valid_mae:.5f}'\n",
        "\n",
        "            # 평균 배치 훈련 오차와 검증 오차 출력\n",
        "            if print_score_condition:  \n",
        "                print(score_information)  \n",
        "                \n",
        "            # 에폭마다 early stopping 실행\n",
        "            early_stopping(model, valid_loss, valid_mae)  \n",
        "            if early_stopping.early_stop: \n",
        "                if not print_score_condition:  # 이미 출력한 에폭에 대해 중복으로 출력하지 않기 위함\n",
        "                    print(score_information) \n",
        "                print('Early Stopping!')\n",
        "                break \n",
        "\n",
        "        fold_valid_loss.append(early_stopping.valid_loss)  # 폴드별 best 검증 손실\n",
        "        fold_valid_mae.append(early_stopping.valid_metric_score)   # 폴드별 best 검증 MAE\n",
        "\n",
        "        # 폴드 학습 및 검증 종료시 가장 작은 검증 손실과 매트릭 스코어를 출력\n",
        "        print(f'{fold + 1} Fold -> Best Valid Loss: {early_stopping.valid_loss:.5f} Valid MAE: {early_stopping.valid_metric_score:.5f}', end='\\n\\n')\n",
        "      \n",
        "    ## 폴드별 가장 손실이 작은 모델의 평균 검증 손실과 이때의 평균 매트릭 스코어를 출력\n",
        "    print(f'{args.num_folds} Fold Mean Valid Best Loss: {np.mean(fold_valid_loss):.5f}')\n",
        "    print(f'{args.num_folds} Fold Mean Valid Accuracy: {np.mean(fold_valid_mae):.5f}')\n",
        "    return model, fold_train_losses_per_epoch, fold_valid_losses_per_epoch"
      ]
    },
    {
      "cell_type": "markdown",
      "metadata": {
        "id": "pWYLU7_oUqRA"
      },
      "source": [
        "- 에폭에 따른 손실의 변화"
      ]
    },
    {
      "cell_type": "code",
      "execution_count": 47,
      "metadata": {
        "id": "FbH8KhGHTVgA"
      },
      "outputs": [],
      "source": [
        "def show_loss_plot(\n",
        "    fold_train_losses: List[List[float]],\n",
        "    fold_valid_losses: List[List[float]]\n",
        ") -> None:\n",
        "    \"\"\"폴드별로 에폭에 따른 모델의 훈련 손실과 검증 손실의 변화를 시각화\"\"\"\n",
        "    assert len(fold_train_losses) == len(fold_valid_losses)\n",
        "    num_folds = len(fold_train_losses)\n",
        "    ncols = 3\n",
        "    nrows = 1 + (num_folds - 1)//ncols\n",
        "    fig, axes = plt.subplots(nrows, ncols, figsize=(ncols*4, nrows*4)) \n",
        "\n",
        "    # 폴드마다 에폭에 따른 훈련 손실과 검증 손실의 변화를 시각화\n",
        "    for fold, (ax, train_losses, valid_losses) in enumerate(zip(axes.flatten(), fold_train_losses, fold_valid_losses), start=1):\n",
        "        assert len(train_losses) == len(valid_losses) \n",
        "        if fold > num_folds:\n",
        "            break\n",
        "\n",
        "        num_epochs = len(train_losses)\n",
        "        ax.set_title(f'{fold} Fold')\n",
        "        ax.plot(range(1, num_epochs+1), train_losses, label='Train')\n",
        "        ax.plot(range(1, num_epochs+1), valid_losses, label='Valid')\n",
        "        ax.set_xlabel('Epoch')\n",
        "        ax.set_ylabel('Loss')\n",
        "        ax.legend()\n",
        "\n",
        "    fig.suptitle('Train Loss and Valid Loss', x=0.51, y=1.05, fontsize=15)\n",
        "    fig.tight_layout()\n",
        "\n",
        "    # 남는 서브 플랏 제거\n",
        "    for ax in axes.flatten():\n",
        "        if not ax.has_data():\n",
        "            fig.delaxes(ax)"
      ]
    },
    {
      "cell_type": "markdown",
      "source": [
        "- Test 예측"
      ],
      "metadata": {
        "id": "czEnyW8-RuuB"
      }
    },
    {
      "cell_type": "code",
      "execution_count": 49,
      "metadata": {
        "id": "QYwPFyu3jq2X"
      },
      "outputs": [],
      "source": [
        "def predict(\n",
        "    model: nn.Module, \n",
        "    X: NDArray[np.float_],\n",
        "    device: torch.device,\n",
        "    args: EasyDict\n",
        ") -> Tensor:   \n",
        "    weight_paths = glob(args.weight_folder_path + '/*.pt')\n",
        "    dataloader = get_dataloader(X, shuffle=False)\n",
        "    test_preds = torch.zeros(len(dataloader.dataset), args.num_classes)  \n",
        "    num_folds = len([weight_path for weight_path in weight_paths if args.model_name in weight_path])\n",
        "     \n",
        "    for weight_path in tqdm(weight_paths):\n",
        "        if args.model_name not in weight_path:\n",
        "            continue\n",
        "            \n",
        "        preds = np.array([]).reshape(0, args.num_classes)\n",
        "        model.load_state_dict(torch.load(weight_path, map_location=device))\n",
        "        model.to(device)\n",
        "        model.eval()\n",
        "\n",
        "        with torch.no_grad(): \n",
        "            for X in dataloader:  # test 데이터는 라벨(y)이 없다\n",
        "                X = X.to(device)  # shape of X: (Batch, Sequence, Feature)\n",
        "                y_hat = model(X).detach().cpu().numpy()  # shape of yhat: (Batch, Class)\n",
        "                preds = np.concatenate([preds, y_hat]) \n",
        "\n",
        "        test_preds += (preds / num_folds) \n",
        "    return test_preds     "
      ]
    },
    {
      "cell_type": "markdown",
      "source": [
        "- 후처리\n",
        "\n",
        "`-` 훈련 데이터를 보면 적산차값이 모두 정수형이다\n",
        "\n",
        "`-` 예측값도 반올림하여 정수로 만들어주겠다\n",
        "\n",
        "`-` 최솟값과 최댓값을 제한"
      ],
      "metadata": {
        "id": "32lGyi98VsOE"
      }
    },
    {
      "cell_type": "code",
      "source": [
        "MAX = df['flow'].values.max()\n",
        "MIN = df['flow'].values.min()"
      ],
      "metadata": {
        "id": "XtkEbf0aXVrA"
      },
      "execution_count": 50,
      "outputs": []
    },
    {
      "cell_type": "code",
      "source": [
        "def postprocessing(pred: NDArray[np.float_], minimum: float, maximum: float) -> NDArray[np.float_]:\n",
        "    pred = np.clip(pred, minimum, maximum)\n",
        "    pred = np.round(pred)\n",
        "    return pred"
      ],
      "metadata": {
        "id": "ljuUBoGLWb0G"
      },
      "execution_count": 51,
      "outputs": []
    },
    {
      "cell_type": "markdown",
      "metadata": {
        "id": "hiQylcQBg6Rs"
      },
      "source": [
        "### LSTM 모델 학습"
      ]
    },
    {
      "cell_type": "markdown",
      "metadata": {
        "id": "miXCkgdyROMY"
      },
      "source": [
        "#### 모델 학습 준비"
      ]
    },
    {
      "cell_type": "code",
      "execution_count": 82,
      "metadata": {
        "id": "hWjTbSt88Zp1"
      },
      "outputs": [],
      "source": [
        "lstm_args = EasyDict({\n",
        "    'weight_folder_path':'./weights',\n",
        "    'model_name':'lstm',\n",
        "    'window':96,\n",
        "    'gap':1,\n",
        "    'num_classes':336,\n",
        "    'num_epochs':200,\n",
        "    'num_folds':5,\n",
        "    'bs':512,\n",
        "    'lr':2e-3,\n",
        "    'lr_gamma':0.965,\n",
        "    'weight_decay':1e-2,\n",
        "    'max_norm':1.0,\n",
        "    'seed':2022,\n",
        "})"
      ]
    },
    {
      "cell_type": "code",
      "execution_count": 53,
      "metadata": {
        "id": "kQzTwX5w99dk"
      },
      "outputs": [],
      "source": [
        "create_folder(lstm_args.weight_folder_path)"
      ]
    },
    {
      "cell_type": "markdown",
      "metadata": {
        "id": "defexgRJ8B_E"
      },
      "source": [
        "- 데이터 생성"
      ]
    },
    {
      "cell_type": "code",
      "execution_count": 54,
      "metadata": {
        "id": "nPGsiX_ZovQA"
      },
      "outputs": [],
      "source": [
        "Xs, ys = ts_train2supervised(flow_scaled, window=lstm_args.window, gap=lstm_args.gap, step=lstm_args.num_classes)  # s == scaled\n",
        "Xs, ys = Xs[24*365:], ys[24*365:]  # 2017년 제거\n",
        "ys = ys.squeeze(2)"
      ]
    },
    {
      "cell_type": "markdown",
      "metadata": {
        "id": "B53DxlV8BHCE"
      },
      "source": [
        "#### 모델 학습 및 검증"
      ]
    },
    {
      "cell_type": "code",
      "execution_count": 55,
      "metadata": {
        "id": "kmPZ-LAhTK4P"
      },
      "outputs": [],
      "source": [
        "# 참고: https://pytorch.org/docs/stable/generated/torch.nn.LSTM.html\n",
        "# 참고할 것: https://teddylee777.github.io/pytorch/pytorch-rnn\n",
        "# input of shape (batch, sequence, feature(=input size)) \n",
        "class LSTMModel(nn.Module):\n",
        "    def __init__(self, input_size=1, hidden_size=256, num_layers=4, num_classes=336, dropout_prob=0.1):\n",
        "        super(LSTMModel, self).__init__()\n",
        "        self.lstm = nn.LSTM(input_size, hidden_size, num_layers, batch_first=True, dropout=dropout_prob)\n",
        "        self.fc = nn.Linear(hidden_size, num_classes)\n",
        "        self.revin_layer = RevIN(input_size)  # 시간에 따라 변하는 시계열의 평균과 분산을 스케일링\n",
        "\n",
        "    def forward(self, x):  # shape of x: (Batch, Sequence, Feature)\n",
        "        x = self.revin_layer(x, 'norm')\n",
        "        x, _ = self.lstm(x)  # h_0, c_0 기본값은 0으로 채워진 텐서\n",
        "        x = self.fc(x[:, -1, :])  \n",
        "        x = x.unsqueeze(2)\n",
        "        x = self.revin_layer(x, 'denorm')\n",
        "        x = x.squeeze(2)\n",
        "        return x"
      ]
    },
    {
      "cell_type": "code",
      "execution_count": 83,
      "metadata": {
        "id": "5G_xoCI49yLE"
      },
      "outputs": [],
      "source": [
        "early_stopping = EarlyStopping(patience=20,\n",
        "                               monitor='mae',\n",
        "                               mode='min',\n",
        "                               folder_path=lstm_args.weight_folder_path,\n",
        "                               model_name=lstm_args.model_name)"
      ]
    },
    {
      "cell_type": "code",
      "execution_count": 84,
      "metadata": {
        "id": "U5mefyHqRWIK"
      },
      "outputs": [],
      "source": [
        "seed_everything(lstm_args.seed)\n",
        "model = LSTMModel(input_size=1, hidden_size=512, num_layers=2, num_classes=lstm_args.num_classes, dropout_prob=0.5).to(DEVICE)"
      ]
    },
    {
      "cell_type": "code",
      "source": [
        "model, fold_train_losses_per_epoch, fold_valid_losses_per_epoch = kfold_cross_validate(model, Xs, ys, loss_fn, \n",
        "                                                                                       early_stopping, DEVICE, lstm_args)"
      ],
      "metadata": {
        "colab": {
          "base_uri": "https://localhost:8080/",
          "height": 1000,
          "referenced_widgets": [
            "6e6083353b25486ca18c1fad1f8540bd",
            "d5cefe0f5440442ea7ac9538d9016ba1",
            "8473eba518964f6b9777f2cd8e7808a0",
            "17b4cf0da55a4758bb75d6c5e03f5732",
            "9cd83c206c6a437c9f39d993eb773cf7",
            "12c82736b4ab4307a489fcd305200bce",
            "70d163de110b4c7c8f945ff6d923790d",
            "ca57e4afe50c4a21825b91828a4f97fe",
            "23bc1366c2734601bb0303bca75493d5",
            "8fb38c0f0eb24b0bb790d6839d9361b2",
            "ea04ea6fe5b84c6c922bc0ff86566b80",
            "e9a9445e8e7949d9bc07af0464aef208",
            "ffe1f4d4815e4385b282cc42634ddab4",
            "16c6051e0e9b46c7a4466a6eeab35b7b",
            "1d7695dfb9d44a1e9bcb82acc10634ff",
            "42fc0dc665814fe3a9a3b90e235ef671",
            "70c09799692740c69f7d5f00866e6450",
            "f978d9184fb345cd8cd13d4fb60fd346",
            "69513dc0728040de99d03a9da0cf0569",
            "6cc4d461442b490b8f36cb515f9bb9a2",
            "c8d8465b62c5438a87b5182b7edb9ac5",
            "5fa35a258b414253854c336513c457e1",
            "75ca9baf8dc74f179401f261ce64b8ea",
            "47743dd1ca8043e2aa040b7a7820e611",
            "b1c70662f39f426d86cdadb5fcc5a3bb",
            "ebce5df0a10f476a80c577ee9bbf3253",
            "0e33e75bf0d64730b03de2edcf1386ae",
            "7e4856c9c2d64f2a823f0df7823c3bfc",
            "cf22353b50874f9db5fee9acd27893a5",
            "350ece2260174191a6c82d8c21819cde",
            "2d0e7d2cf57b4a01a2be89498a6eaf2f",
            "b219478db09e48eebb6fc8a21287fd54",
            "82a89a6d03a6497b89cf263a2e564c84",
            "a32ae5dcafca4bd9846781ad81a69eb3",
            "38f679e3149c46b08da6d717de1448d8",
            "8f5a630b739041caa30548f172792fd1",
            "92d39498b6774aceab779b5eb9258fe8",
            "019c69077a0b45dbae1c88585871572a",
            "eb6baa5c032b4d94b17d5112e8416a00",
            "51c7125592784e6f8dab23e8de4b24ba",
            "b7257866012d4ea6befab96ca2080b92",
            "94cf48ab399b407ca412707f88b6d34e",
            "882b0b00587f4b5aa339ca0717e15678",
            "f7e321d975fa455da3935a0e49d11f99",
            "56daf1a3709f4991bdc6762bdecc8e93",
            "8aee67ef8587416fb8159812417f104d",
            "7b59cd458ee640dd9c02ef197e96f311",
            "2563c5a47c804bad8b9b6fe88b218bea",
            "4230ff2ff30c4df6a5c7e65eea6d3743",
            "2cc47e87bf27402494df83f4fe13e173",
            "38442bd59df7499fa42f842b5517953f",
            "790707ebe97d4739833b70fe0f8b76ad",
            "50ac3b10e29c4e3a87b1cabaab2ab9ee",
            "c830964d3892453d8e5b43e5c3619c95",
            "5996c21e2c004382b40f4cbfa444acaa"
          ]
        },
        "id": "Yql6UR-aK8rb",
        "outputId": "0115b056-990a-4064-c8e9-ad91c1975f86"
      },
      "execution_count": 85,
      "outputs": [
        {
          "output_type": "stream",
          "name": "stdout",
          "text": [
            "[1 / 5] Fold Training......\n"
          ]
        },
        {
          "output_type": "display_data",
          "data": {
            "text/plain": [
              "  0%|          | 0/200 [00:00<?, ?it/s]"
            ],
            "application/vnd.jupyter.widget-view+json": {
              "version_major": 2,
              "version_minor": 0,
              "model_id": "6e6083353b25486ca18c1fad1f8540bd"
            }
          },
          "metadata": {}
        },
        {
          "output_type": "stream",
          "name": "stdout",
          "text": [
            "[Epoch:  1]  train loss = 0.11295  valid loss = 0.11921  valid MAE = 35.18269\n",
            "[Epoch: 10]  train loss = 0.07870  valid loss = 0.07987  valid MAE = 23.51748\n",
            "[Epoch: 20]  train loss = 0.07574  valid loss = 0.07727  valid MAE = 22.69758\n",
            "[Epoch: 30]  train loss = 0.07452  valid loss = 0.07658  valid MAE = 22.48942\n",
            "[Epoch: 40]  train loss = 0.07418  valid loss = 0.07593  valid MAE = 22.29907\n",
            "[Epoch: 50]  train loss = 0.07380  valid loss = 0.07567  valid MAE = 22.22796\n",
            "[Epoch: 60]  train loss = 0.07348  valid loss = 0.07524  valid MAE = 22.11024\n",
            "[Epoch: 70]  train loss = 0.07317  valid loss = 0.07527  valid MAE = 22.12504\n",
            "[Epoch: 80]  train loss = 0.07272  valid loss = 0.07604  valid MAE = 22.36319\n",
            "[Epoch: 84]  train loss = 0.07256  valid loss = 0.07615  valid MAE = 22.39477\n",
            "Early Stopping!\n",
            "1 Fold -> Best Valid Loss: 0.07520 Valid MAE: 22.09275\n",
            "\n",
            "[2 / 5] Fold Training......\n"
          ]
        },
        {
          "output_type": "display_data",
          "data": {
            "text/plain": [
              "  0%|          | 0/200 [00:00<?, ?it/s]"
            ],
            "application/vnd.jupyter.widget-view+json": {
              "version_major": 2,
              "version_minor": 0,
              "model_id": "e9a9445e8e7949d9bc07af0464aef208"
            }
          },
          "metadata": {}
        },
        {
          "output_type": "stream",
          "name": "stdout",
          "text": [
            "[Epoch:  1]  train loss = 0.10624  valid loss = 0.08331  valid MAE = 24.24710\n",
            "[Epoch: 10]  train loss = 0.07551  valid loss = 0.07355  valid MAE = 21.41071\n",
            "[Epoch: 20]  train loss = 0.07464  valid loss = 0.07135  valid MAE = 20.74943\n",
            "[Epoch: 30]  train loss = 0.07375  valid loss = 0.07039  valid MAE = 20.51683\n",
            "[Epoch: 40]  train loss = 0.07300  valid loss = 0.06992  valid MAE = 20.39977\n",
            "[Epoch: 50]  train loss = 0.07224  valid loss = 0.07002  valid MAE = 20.43735\n",
            "[Epoch: 60]  train loss = 0.07153  valid loss = 0.07051  valid MAE = 20.57359\n",
            "[Epoch: 68]  train loss = 0.07116  valid loss = 0.07000  valid MAE = 20.41700\n",
            "Early Stopping!\n",
            "2 Fold -> Best Valid Loss: 0.06973 Valid MAE: 20.34029\n",
            "\n",
            "[3 / 5] Fold Training......\n"
          ]
        },
        {
          "output_type": "display_data",
          "data": {
            "text/plain": [
              "  0%|          | 0/200 [00:00<?, ?it/s]"
            ],
            "application/vnd.jupyter.widget-view+json": {
              "version_major": 2,
              "version_minor": 0,
              "model_id": "75ca9baf8dc74f179401f261ce64b8ea"
            }
          },
          "metadata": {}
        },
        {
          "output_type": "stream",
          "name": "stdout",
          "text": [
            "[Epoch:  1]  train loss = 0.11426  valid loss = 0.10084  valid MAE = 29.75482\n",
            "[Epoch: 10]  train loss = 0.07446  valid loss = 0.07611  valid MAE = 22.41924\n",
            "[Epoch: 20]  train loss = 0.07321  valid loss = 0.07458  valid MAE = 21.95659\n",
            "[Epoch: 30]  train loss = 0.07223  valid loss = 0.07354  valid MAE = 21.65809\n",
            "[Epoch: 40]  train loss = 0.07178  valid loss = 0.07384  valid MAE = 21.74023\n",
            "[Epoch: 50]  train loss = 0.07105  valid loss = 0.07385  valid MAE = 21.75201\n",
            "[Epoch: 60]  train loss = 0.07059  valid loss = 0.07363  valid MAE = 21.67616\n",
            "[Epoch: 70]  train loss = 0.07019  valid loss = 0.07363  valid MAE = 21.68042\n",
            "[Epoch: 73]  train loss = 0.07006  valid loss = 0.07391  valid MAE = 21.76437\n",
            "Early Stopping!\n",
            "3 Fold -> Best Valid Loss: 0.07337 Valid MAE: 21.60208\n",
            "\n",
            "[4 / 5] Fold Training......\n"
          ]
        },
        {
          "output_type": "display_data",
          "data": {
            "text/plain": [
              "  0%|          | 0/200 [00:00<?, ?it/s]"
            ],
            "application/vnd.jupyter.widget-view+json": {
              "version_major": 2,
              "version_minor": 0,
              "model_id": "a32ae5dcafca4bd9846781ad81a69eb3"
            }
          },
          "metadata": {}
        },
        {
          "output_type": "stream",
          "name": "stdout",
          "text": [
            "[Epoch:  1]  train loss = 0.10261  valid loss = 0.08999  valid MAE = 26.39280\n",
            "[Epoch: 10]  train loss = 0.07378  valid loss = 0.07621  valid MAE = 22.32692\n",
            "[Epoch: 20]  train loss = 0.07247  valid loss = 0.07760  valid MAE = 22.74879\n",
            "[Epoch: 30]  train loss = 0.07141  valid loss = 0.07461  valid MAE = 21.86211\n",
            "[Epoch: 40]  train loss = 0.07081  valid loss = 0.07450  valid MAE = 21.79927\n",
            "[Epoch: 50]  train loss = 0.06996  valid loss = 0.07464  valid MAE = 21.83670\n",
            "[Epoch: 60]  train loss = 0.06946  valid loss = 0.07456  valid MAE = 21.81231\n",
            "[Epoch: 66]  train loss = 0.06925  valid loss = 0.07458  valid MAE = 21.82008\n",
            "Early Stopping!\n",
            "4 Fold -> Best Valid Loss: 0.07438 Valid MAE: 21.77204\n",
            "\n",
            "[5 / 5] Fold Training......\n"
          ]
        },
        {
          "output_type": "display_data",
          "data": {
            "text/plain": [
              "  0%|          | 0/200 [00:00<?, ?it/s]"
            ],
            "application/vnd.jupyter.widget-view+json": {
              "version_major": 2,
              "version_minor": 0,
              "model_id": "56daf1a3709f4991bdc6762bdecc8e93"
            }
          },
          "metadata": {}
        },
        {
          "output_type": "stream",
          "name": "stdout",
          "text": [
            "[Epoch:  1]  train loss = 0.07848  valid loss = 0.07503  valid MAE = 21.95615\n",
            "[Epoch: 10]  train loss = 0.07138  valid loss = 0.07433  valid MAE = 21.79656\n",
            "[Epoch: 20]  train loss = 0.06969  valid loss = 0.07403  valid MAE = 21.71082\n",
            "[Epoch: 30]  train loss = 0.06879  valid loss = 0.07434  valid MAE = 21.81018\n",
            "[Epoch: 40]  train loss = 0.06812  valid loss = 0.07418  valid MAE = 21.74858\n",
            "[Epoch: 43]  train loss = 0.06790  valid loss = 0.07429  valid MAE = 21.77502\n",
            "Early Stopping!\n",
            "5 Fold -> Best Valid Loss: 0.07395 Valid MAE: 21.70009\n",
            "\n",
            "5 Fold Mean Valid Best Loss: 0.07333\n",
            "5 Fold Mean Valid Accuracy: 21.50145\n"
          ]
        }
      ]
    },
    {
      "cell_type": "code",
      "execution_count": 86,
      "metadata": {
        "colab": {
          "base_uri": "https://localhost:8080/",
          "height": 623
        },
        "id": "ksgGH67RTXZo",
        "outputId": "6b8cb23e-fe90-446d-c7b1-0c7297f7131b"
      },
      "outputs": [
        {
          "output_type": "display_data",
          "data": {
            "text/plain": [
              "<Figure size 864x576 with 5 Axes>"
            ],
            "image/png": "[encoded data removed]"
          },
          "metadata": {}
        }
      ],
      "source": [
        "show_loss_plot(fold_train_losses_per_epoch, fold_valid_losses_per_epoch)  "
      ]
    },
    {
      "cell_type": "markdown",
      "metadata": {
        "id": "_qJHHb6SqxkE"
      },
      "source": [
        "#### Test 예측"
      ]
    },
    {
      "cell_type": "code",
      "source": [
        "flow_scaled_all = np.concatenate([flow_scaled[-lstm_args.window:], flow_scaled_test])  # train + test\n",
        "Xs_test = ts_test2supervised(flow_scaled_all, window=lstm_args.window)   "
      ],
      "metadata": {
        "id": "bUTr2eQFdW5-"
      },
      "execution_count": 87,
      "outputs": []
    },
    {
      "cell_type": "code",
      "execution_count": 88,
      "metadata": {
        "colab": {
          "base_uri": "https://localhost:8080/",
          "height": 49,
          "referenced_widgets": [
            "9ea10437183643daa537022a486cbc01",
            "2a182ab624f24897a0de474216c38726",
            "e80aab87030a4fabb064b6b31d967323",
            "f08a7ee7e3f74b28bb7d92e7c51642b1",
            "6b28379949184deeb1651891f13e92d8",
            "f0c755018fe940008ac4a602e201e315",
            "ddfbe5de70b947e9aa42325dcfb48088",
            "f8028f09e81b463c843b178e08f2567d",
            "5fb8246ab12d4897a9786ea5f52709d5",
            "0f18d4bf6a544af487bc42c956bbd3d1",
            "21e478dd5e104a82a6a668828c87ff66"
          ]
        },
        "id": "cCDgzN-prDCB",
        "outputId": "ebebc186-fadb-4e7d-d5e1-7d2ee62000df"
      },
      "outputs": [
        {
          "output_type": "display_data",
          "data": {
            "text/plain": [
              "  0%|          | 0/5 [00:00<?, ?it/s]"
            ],
            "application/vnd.jupyter.widget-view+json": {
              "version_major": 2,
              "version_minor": 0,
              "model_id": "9ea10437183643daa537022a486cbc01"
            }
          },
          "metadata": {}
        }
      ],
      "source": [
        "preds = predict(model, Xs_test, DEVICE, lstm_args)"
      ]
    },
    {
      "cell_type": "code",
      "execution_count": 89,
      "metadata": {
        "id": "sh4c4lWMruF5"
      },
      "outputs": [],
      "source": [
        "preds = minmax_scaler.inverse_transform(preds)\n",
        "submission.loc[:, 'h0':'h335'] = postprocessing(preds, MIN, MAX)\n",
        "submission.to_csv(f'./data/submission_apo_{lstm_args.model_name}.csv', index=False)"
      ]
    },
    {
      "cell_type": "markdown",
      "metadata": {
        "id": "R7aqcvAkYlT1"
      },
      "source": [
        "- 성능 확인"
      ]
    },
    {
      "cell_type": "code",
      "execution_count": 90,
      "metadata": {
        "colab": {
          "base_uri": "https://localhost:8080/"
        },
        "id": "kcFFI6ONpsUT",
        "outputId": "69863ca1-9268-458f-e5f9-73283be74b83"
      },
      "outputs": [
        {
          "output_type": "execute_result",
          "data": {
            "text/plain": [
              "22.005762896702752"
            ]
          },
          "metadata": {},
          "execution_count": 90
        }
      ],
      "source": [
        "tmp = test.copy()\n",
        "for w in range(1, 336):\n",
        "    tmp[f'flow{w}'] = tmp['flow'].shift(-w)\n",
        "\n",
        "y_hat = submission.loc[:, 'h0':'h335'].to_numpy()[:8089]\n",
        "tmp = tmp.dropna().loc[:, 'flow':'flow335'].to_numpy()\n",
        "mean_absolute_error(tmp, y_hat)"
      ]
    },
    {
      "cell_type": "code",
      "source": [
        "idx = 24*102\n",
        "plt.plot(tmp[idx][:24], label='real')\n",
        "plt.plot(submission.loc[idx, 'h0':'h335'].values[:24], label='pred')\n",
        "plt.legend()"
      ],
      "metadata": {
        "colab": {
          "base_uri": "https://localhost:8080/",
          "height": 286
        },
        "id": "OmG-ZYNVzND9",
        "outputId": "110b8cde-4385-4eca-aae7-738a3b569d7e"
      },
      "execution_count": 105,
      "outputs": [
        {
          "output_type": "execute_result",
          "data": {
            "text/plain": [
              "<matplotlib.legend.Legend at 0x7fc8584c8fa0>"
            ]
          },
          "metadata": {},
          "execution_count": 105
        },
        {
          "output_type": "display_data",
          "data": {
            "text/plain": [
              "<Figure size 432x288 with 1 Axes>"
            ],
            "image/png": "[encoded data removed]"
          },
          "metadata": {}
        }
      ]
    },
    {
      "cell_type": "code",
      "source": [],
      "metadata": {
        "id": "6nHJuC4c7XP2"
      },
      "execution_count": null,
      "outputs": []
    }
  ],
  "metadata": {
    "colab": {
      "provenance": [],
      "toc_visible": true,
      "include_colab_link": true
    },
    "gpuClass": "standard",
    "kernelspec": {
      "display_name": "Python 3 (ipykernel)",
      "language": "python",
      "name": "python3"
    },
    "language_info": {
      "codemirror_mode": {
        "name": "ipython",
        "version": 3
      },
      "file_extension": ".py",
      "mimetype": "text/x-python",
      "name": "python",
      "nbconvert_exporter": "python",
      "pygments_lexer": "ipython3",
      "version": "3.8.11"
    },
    "widgets": {
      "application/vnd.jupyter.widget-state+json": {
        "6e6083353b25486ca18c1fad1f8540bd": {
          "model_module": "@jupyter-widgets/controls",
          "model_name": "HBoxModel",
          "model_module_version": "1.5.0",
          "state": {
            "_dom_classes": [],
            "_model_module": "@jupyter-widgets/controls",
            "_model_module_version": "1.5.0",
            "_model_name": "HBoxModel",
            "_view_count": null,
            "_view_module": "@jupyter-widgets/controls",
            "_view_module_version": "1.5.0",
            "_view_name": "HBoxView",
            "box_style": "",
            "children": [
              "IPY_MODEL_d5cefe0f5440442ea7ac9538d9016ba1",
              "IPY_MODEL_8473eba518964f6b9777f2cd8e7808a0",
              "IPY_MODEL_17b4cf0da55a4758bb75d6c5e03f5732"
            ],
            "layout": "IPY_MODEL_9cd83c206c6a437c9f39d993eb773cf7"
          }
        },
        "d5cefe0f5440442ea7ac9538d9016ba1": {
          "model_module": "@jupyter-widgets/controls",
          "model_name": "HTMLModel",
          "model_module_version": "1.5.0",
          "state": {
            "_dom_classes": [],
            "_model_module": "@jupyter-widgets/controls",
            "_model_module_version": "1.5.0",
            "_model_name": "HTMLModel",
            "_view_count": null,
            "_view_module": "@jupyter-widgets/controls",
            "_view_module_version": "1.5.0",
            "_view_name": "HTMLView",
            "description": "",
            "description_tooltip": null,
            "layout": "IPY_MODEL_12c82736b4ab4307a489fcd305200bce",
            "placeholder": "​",
            "style": "IPY_MODEL_70d163de110b4c7c8f945ff6d923790d",
            "value": " 42%"
          }
        },
        "8473eba518964f6b9777f2cd8e7808a0": {
          "model_module": "@jupyter-widgets/controls",
          "model_name": "FloatProgressModel",
          "model_module_version": "1.5.0",
          "state": {
            "_dom_classes": [],
            "_model_module": "@jupyter-widgets/controls",
            "_model_module_version": "1.5.0",
            "_model_name": "FloatProgressModel",
            "_view_count": null,
            "_view_module": "@jupyter-widgets/controls",
            "_view_module_version": "1.5.0",
            "_view_name": "ProgressView",
            "bar_style": "danger",
            "description": "",
            "description_tooltip": null,
            "layout": "IPY_MODEL_ca57e4afe50c4a21825b91828a4f97fe",
            "max": 200,
            "min": 0,
            "orientation": "horizontal",
            "style": "IPY_MODEL_23bc1366c2734601bb0303bca75493d5",
            "value": 83
          }
        },
        "17b4cf0da55a4758bb75d6c5e03f5732": {
          "model_module": "@jupyter-widgets/controls",
          "model_name": "HTMLModel",
          "model_module_version": "1.5.0",
          "state": {
            "_dom_classes": [],
            "_model_module": "@jupyter-widgets/controls",
            "_model_module_version": "1.5.0",
            "_model_name": "HTMLModel",
            "_view_count": null,
            "_view_module": "@jupyter-widgets/controls",
            "_view_module_version": "1.5.0",
            "_view_name": "HTMLView",
            "description": "",
            "description_tooltip": null,
            "layout": "IPY_MODEL_8fb38c0f0eb24b0bb790d6839d9361b2",
            "placeholder": "​",
            "style": "IPY_MODEL_ea04ea6fe5b84c6c922bc0ff86566b80",
            "value": " 83/200 [02:07&lt;02:59,  1.54s/it]"
          }
        },
        "9cd83c206c6a437c9f39d993eb773cf7": {
          "model_module": "@jupyter-widgets/base",
          "model_name": "LayoutModel",
          "model_module_version": "1.2.0",
          "state": {
            "_model_module": "@jupyter-widgets/base",
            "_model_module_version": "1.2.0",
            "_model_name": "LayoutModel",
            "_view_count": null,
            "_view_module": "@jupyter-widgets/base",
            "_view_module_version": "1.2.0",
            "_view_name": "LayoutView",
            "align_content": null,
            "align_items": null,
            "align_self": null,
            "border": null,
            "bottom": null,
            "display": null,
            "flex": null,
            "flex_flow": null,
            "grid_area": null,
            "grid_auto_columns": null,
            "grid_auto_flow": null,
            "grid_auto_rows": null,
            "grid_column": null,
            "grid_gap": null,
            "grid_row": null,
            "grid_template_areas": null,
            "grid_template_columns": null,
            "grid_template_rows": null,
            "height": null,
            "justify_content": null,
            "justify_items": null,
            "left": null,
            "margin": null,
            "max_height": null,
            "max_width": null,
            "min_height": null,
            "min_width": null,
            "object_fit": null,
            "object_position": null,
            "order": null,
            "overflow": null,
            "overflow_x": null,
            "overflow_y": null,
            "padding": null,
            "right": null,
            "top": null,
            "visibility": null,
            "width": null
          }
        },
        "12c82736b4ab4307a489fcd305200bce": {
          "model_module": "@jupyter-widgets/base",
          "model_name": "LayoutModel",
          "model_module_version": "1.2.0",
          "state": {
            "_model_module": "@jupyter-widgets/base",
            "_model_module_version": "1.2.0",
            "_model_name": "LayoutModel",
            "_view_count": null,
            "_view_module": "@jupyter-widgets/base",
            "_view_module_version": "1.2.0",
            "_view_name": "LayoutView",
            "align_content": null,
            "align_items": null,
            "align_self": null,
            "border": null,
            "bottom": null,
            "display": null,
            "flex": null,
            "flex_flow": null,
            "grid_area": null,
            "grid_auto_columns": null,
            "grid_auto_flow": null,
            "grid_auto_rows": null,
            "grid_column": null,
            "grid_gap": null,
            "grid_row": null,
            "grid_template_areas": null,
            "grid_template_columns": null,
            "grid_template_rows": null,
            "height": null,
            "justify_content": null,
            "justify_items": null,
            "left": null,
            "margin": null,
            "max_height": null,
            "max_width": null,
            "min_height": null,
            "min_width": null,
            "object_fit": null,
            "object_position": null,
            "order": null,
            "overflow": null,
            "overflow_x": null,
            "overflow_y": null,
            "padding": null,
            "right": null,
            "top": null,
            "visibility": null,
            "width": null
          }
        },
        "70d163de110b4c7c8f945ff6d923790d": {
          "model_module": "@jupyter-widgets/controls",
          "model_name": "DescriptionStyleModel",
          "model_module_version": "1.5.0",
          "state": {
            "_model_module": "@jupyter-widgets/controls",
            "_model_module_version": "1.5.0",
            "_model_name": "DescriptionStyleModel",
            "_view_count": null,
            "_view_module": "@jupyter-widgets/base",
            "_view_module_version": "1.2.0",
            "_view_name": "StyleView",
            "description_width": ""
          }
        },
        "ca57e4afe50c4a21825b91828a4f97fe": {
          "model_module": "@jupyter-widgets/base",
          "model_name": "LayoutModel",
          "model_module_version": "1.2.0",
          "state": {
            "_model_module": "@jupyter-widgets/base",
            "_model_module_version": "1.2.0",
            "_model_name": "LayoutModel",
            "_view_count": null,
            "_view_module": "@jupyter-widgets/base",
            "_view_module_version": "1.2.0",
            "_view_name": "LayoutView",
            "align_content": null,
            "align_items": null,
            "align_self": null,
            "border": null,
            "bottom": null,
            "display": null,
            "flex": null,
            "flex_flow": null,
            "grid_area": null,
            "grid_auto_columns": null,
            "grid_auto_flow": null,
            "grid_auto_rows": null,
            "grid_column": null,
            "grid_gap": null,
            "grid_row": null,
            "grid_template_areas": null,
            "grid_template_columns": null,
            "grid_template_rows": null,
            "height": null,
            "justify_content": null,
            "justify_items": null,
            "left": null,
            "margin": null,
            "max_height": null,
            "max_width": null,
            "min_height": null,
            "min_width": null,
            "object_fit": null,
            "object_position": null,
            "order": null,
            "overflow": null,
            "overflow_x": null,
            "overflow_y": null,
            "padding": null,
            "right": null,
            "top": null,
            "visibility": null,
            "width": null
          }
        },
        "23bc1366c2734601bb0303bca75493d5": {
          "model_module": "@jupyter-widgets/controls",
          "model_name": "ProgressStyleModel",
          "model_module_version": "1.5.0",
          "state": {
            "_model_module": "@jupyter-widgets/controls",
            "_model_module_version": "1.5.0",
            "_model_name": "ProgressStyleModel",
            "_view_count": null,
            "_view_module": "@jupyter-widgets/base",
            "_view_module_version": "1.2.0",
            "_view_name": "StyleView",
            "bar_color": null,
            "description_width": ""
          }
        },
        "8fb38c0f0eb24b0bb790d6839d9361b2": {
          "model_module": "@jupyter-widgets/base",
          "model_name": "LayoutModel",
          "model_module_version": "1.2.0",
          "state": {
            "_model_module": "@jupyter-widgets/base",
            "_model_module_version": "1.2.0",
            "_model_name": "LayoutModel",
            "_view_count": null,
            "_view_module": "@jupyter-widgets/base",
            "_view_module_version": "1.2.0",
            "_view_name": "LayoutView",
            "align_content": null,
            "align_items": null,
            "align_self": null,
            "border": null,
            "bottom": null,
            "display": null,
            "flex": null,
            "flex_flow": null,
            "grid_area": null,
            "grid_auto_columns": null,
            "grid_auto_flow": null,
            "grid_auto_rows": null,
            "grid_column": null,
            "grid_gap": null,
            "grid_row": null,
            "grid_template_areas": null,
            "grid_template_columns": null,
            "grid_template_rows": null,
            "height": null,
            "justify_content": null,
            "justify_items": null,
            "left": null,
            "margin": null,
            "max_height": null,
            "max_width": null,
            "min_height": null,
            "min_width": null,
            "object_fit": null,
            "object_position": null,
            "order": null,
            "overflow": null,
            "overflow_x": null,
            "overflow_y": null,
            "padding": null,
            "right": null,
            "top": null,
            "visibility": null,
            "width": null
          }
        },
        "ea04ea6fe5b84c6c922bc0ff86566b80": {
          "model_module": "@jupyter-widgets/controls",
          "model_name": "DescriptionStyleModel",
          "model_module_version": "1.5.0",
          "state": {
            "_model_module": "@jupyter-widgets/controls",
            "_model_module_version": "1.5.0",
            "_model_name": "DescriptionStyleModel",
            "_view_count": null,
            "_view_module": "@jupyter-widgets/base",
            "_view_module_version": "1.2.0",
            "_view_name": "StyleView",
            "description_width": ""
          }
        },
        "e9a9445e8e7949d9bc07af0464aef208": {
          "model_module": "@jupyter-widgets/controls",
          "model_name": "HBoxModel",
          "model_module_version": "1.5.0",
          "state": {
            "_dom_classes": [],
            "_model_module": "@jupyter-widgets/controls",
            "_model_module_version": "1.5.0",
            "_model_name": "HBoxModel",
            "_view_count": null,
            "_view_module": "@jupyter-widgets/controls",
            "_view_module_version": "1.5.0",
            "_view_name": "HBoxView",
            "box_style": "",
            "children": [
              "IPY_MODEL_ffe1f4d4815e4385b282cc42634ddab4",
              "IPY_MODEL_16c6051e0e9b46c7a4466a6eeab35b7b",
              "IPY_MODEL_1d7695dfb9d44a1e9bcb82acc10634ff"
            ],
            "layout": "IPY_MODEL_42fc0dc665814fe3a9a3b90e235ef671"
          }
        },
        "ffe1f4d4815e4385b282cc42634ddab4": {
          "model_module": "@jupyter-widgets/controls",
          "model_name": "HTMLModel",
          "model_module_version": "1.5.0",
          "state": {
            "_dom_classes": [],
            "_model_module": "@jupyter-widgets/controls",
            "_model_module_version": "1.5.0",
            "_model_name": "HTMLModel",
            "_view_count": null,
            "_view_module": "@jupyter-widgets/controls",
            "_view_module_version": "1.5.0",
            "_view_name": "HTMLView",
            "description": "",
            "description_tooltip": null,
            "layout": "IPY_MODEL_70c09799692740c69f7d5f00866e6450",
            "placeholder": "​",
            "style": "IPY_MODEL_f978d9184fb345cd8cd13d4fb60fd346",
            "value": " 34%"
          }
        },
        "16c6051e0e9b46c7a4466a6eeab35b7b": {
          "model_module": "@jupyter-widgets/controls",
          "model_name": "FloatProgressModel",
          "model_module_version": "1.5.0",
          "state": {
            "_dom_classes": [],
            "_model_module": "@jupyter-widgets/controls",
            "_model_module_version": "1.5.0",
            "_model_name": "FloatProgressModel",
            "_view_count": null,
            "_view_module": "@jupyter-widgets/controls",
            "_view_module_version": "1.5.0",
            "_view_name": "ProgressView",
            "bar_style": "danger",
            "description": "",
            "description_tooltip": null,
            "layout": "IPY_MODEL_69513dc0728040de99d03a9da0cf0569",
            "max": 200,
            "min": 0,
            "orientation": "horizontal",
            "style": "IPY_MODEL_6cc4d461442b490b8f36cb515f9bb9a2",
            "value": 67
          }
        },
        "1d7695dfb9d44a1e9bcb82acc10634ff": {
          "model_module": "@jupyter-widgets/controls",
          "model_name": "HTMLModel",
          "model_module_version": "1.5.0",
          "state": {
            "_dom_classes": [],
            "_model_module": "@jupyter-widgets/controls",
            "_model_module_version": "1.5.0",
            "_model_name": "HTMLModel",
            "_view_count": null,
            "_view_module": "@jupyter-widgets/controls",
            "_view_module_version": "1.5.0",
            "_view_name": "HTMLView",
            "description": "",
            "description_tooltip": null,
            "layout": "IPY_MODEL_c8d8465b62c5438a87b5182b7edb9ac5",
            "placeholder": "​",
            "style": "IPY_MODEL_5fa35a258b414253854c336513c457e1",
            "value": " 67/200 [02:52&lt;05:35,  2.52s/it]"
          }
        },
        "42fc0dc665814fe3a9a3b90e235ef671": {
          "model_module": "@jupyter-widgets/base",
          "model_name": "LayoutModel",
          "model_module_version": "1.2.0",
          "state": {
            "_model_module": "@jupyter-widgets/base",
            "_model_module_version": "1.2.0",
            "_model_name": "LayoutModel",
            "_view_count": null,
            "_view_module": "@jupyter-widgets/base",
            "_view_module_version": "1.2.0",
            "_view_name": "LayoutView",
            "align_content": null,
            "align_items": null,
            "align_self": null,
            "border": null,
            "bottom": null,
            "display": null,
            "flex": null,
            "flex_flow": null,
            "grid_area": null,
            "grid_auto_columns": null,
            "grid_auto_flow": null,
            "grid_auto_rows": null,
            "grid_column": null,
            "grid_gap": null,
            "grid_row": null,
            "grid_template_areas": null,
            "grid_template_columns": null,
            "grid_template_rows": null,
            "height": null,
            "justify_content": null,
            "justify_items": null,
            "left": null,
            "margin": null,
            "max_height": null,
            "max_width": null,
            "min_height": null,
            "min_width": null,
            "object_fit": null,
            "object_position": null,
            "order": null,
            "overflow": null,
            "overflow_x": null,
            "overflow_y": null,
            "padding": null,
            "right": null,
            "top": null,
            "visibility": null,
            "width": null
          }
        },
        "70c09799692740c69f7d5f00866e6450": {
          "model_module": "@jupyter-widgets/base",
          "model_name": "LayoutModel",
          "model_module_version": "1.2.0",
          "state": {
            "_model_module": "@jupyter-widgets/base",
            "_model_module_version": "1.2.0",
            "_model_name": "LayoutModel",
            "_view_count": null,
            "_view_module": "@jupyter-widgets/base",
            "_view_module_version": "1.2.0",
            "_view_name": "LayoutView",
            "align_content": null,
            "align_items": null,
            "align_self": null,
            "border": null,
            "bottom": null,
            "display": null,
            "flex": null,
            "flex_flow": null,
            "grid_area": null,
            "grid_auto_columns": null,
            "grid_auto_flow": null,
            "grid_auto_rows": null,
            "grid_column": null,
            "grid_gap": null,
            "grid_row": null,
            "grid_template_areas": null,
            "grid_template_columns": null,
            "grid_template_rows": null,
            "height": null,
            "justify_content": null,
            "justify_items": null,
            "left": null,
            "margin": null,
            "max_height": null,
            "max_width": null,
            "min_height": null,
            "min_width": null,
            "object_fit": null,
            "object_position": null,
            "order": null,
            "overflow": null,
            "overflow_x": null,
            "overflow_y": null,
            "padding": null,
            "right": null,
            "top": null,
            "visibility": null,
            "width": null
          }
        },
        "f978d9184fb345cd8cd13d4fb60fd346": {
          "model_module": "@jupyter-widgets/controls",
          "model_name": "DescriptionStyleModel",
          "model_module_version": "1.5.0",
          "state": {
            "_model_module": "@jupyter-widgets/controls",
            "_model_module_version": "1.5.0",
            "_model_name": "DescriptionStyleModel",
            "_view_count": null,
            "_view_module": "@jupyter-widgets/base",
            "_view_module_version": "1.2.0",
            "_view_name": "StyleView",
            "description_width": ""
          }
        },
        "69513dc0728040de99d03a9da0cf0569": {
          "model_module": "@jupyter-widgets/base",
          "model_name": "LayoutModel",
          "model_module_version": "1.2.0",
          "state": {
            "_model_module": "@jupyter-widgets/base",
            "_model_module_version": "1.2.0",
            "_model_name": "LayoutModel",
            "_view_count": null,
            "_view_module": "@jupyter-widgets/base",
            "_view_module_version": "1.2.0",
            "_view_name": "LayoutView",
            "align_content": null,
            "align_items": null,
            "align_self": null,
            "border": null,
            "bottom": null,
            "display": null,
            "flex": null,
            "flex_flow": null,
            "grid_area": null,
            "grid_auto_columns": null,
            "grid_auto_flow": null,
            "grid_auto_rows": null,
            "grid_column": null,
            "grid_gap": null,
            "grid_row": null,
            "grid_template_areas": null,
            "grid_template_columns": null,
            "grid_template_rows": null,
            "height": null,
            "justify_content": null,
            "justify_items": null,
            "left": null,
            "margin": null,
            "max_height": null,
            "max_width": null,
            "min_height": null,
            "min_width": null,
            "object_fit": null,
            "object_position": null,
            "order": null,
            "overflow": null,
            "overflow_x": null,
            "overflow_y": null,
            "padding": null,
            "right": null,
            "top": null,
            "visibility": null,
            "width": null
          }
        },
        "6cc4d461442b490b8f36cb515f9bb9a2": {
          "model_module": "@jupyter-widgets/controls",
          "model_name": "ProgressStyleModel",
          "model_module_version": "1.5.0",
          "state": {
            "_model_module": "@jupyter-widgets/controls",
            "_model_module_version": "1.5.0",
            "_model_name": "ProgressStyleModel",
            "_view_count": null,
            "_view_module": "@jupyter-widgets/base",
            "_view_module_version": "1.2.0",
            "_view_name": "StyleView",
            "bar_color": null,
            "description_width": ""
          }
        },
        "c8d8465b62c5438a87b5182b7edb9ac5": {
          "model_module": "@jupyter-widgets/base",
          "model_name": "LayoutModel",
          "model_module_version": "1.2.0",
          "state": {
            "_model_module": "@jupyter-widgets/base",
            "_model_module_version": "1.2.0",
            "_model_name": "LayoutModel",
            "_view_count": null,
            "_view_module": "@jupyter-widgets/base",
            "_view_module_version": "1.2.0",
            "_view_name": "LayoutView",
            "align_content": null,
            "align_items": null,
            "align_self": null,
            "border": null,
            "bottom": null,
            "display": null,
            "flex": null,
            "flex_flow": null,
            "grid_area": null,
            "grid_auto_columns": null,
            "grid_auto_flow": null,
            "grid_auto_rows": null,
            "grid_column": null,
            "grid_gap": null,
            "grid_row": null,
            "grid_template_areas": null,
            "grid_template_columns": null,
            "grid_template_rows": null,
            "height": null,
            "justify_content": null,
            "justify_items": null,
            "left": null,
            "margin": null,
            "max_height": null,
            "max_width": null,
            "min_height": null,
            "min_width": null,
            "object_fit": null,
            "object_position": null,
            "order": null,
            "overflow": null,
            "overflow_x": null,
            "overflow_y": null,
            "padding": null,
            "right": null,
            "top": null,
            "visibility": null,
            "width": null
          }
        },
        "5fa35a258b414253854c336513c457e1": {
          "model_module": "@jupyter-widgets/controls",
          "model_name": "DescriptionStyleModel",
          "model_module_version": "1.5.0",
          "state": {
            "_model_module": "@jupyter-widgets/controls",
            "_model_module_version": "1.5.0",
            "_model_name": "DescriptionStyleModel",
            "_view_count": null,
            "_view_module": "@jupyter-widgets/base",
            "_view_module_version": "1.2.0",
            "_view_name": "StyleView",
            "description_width": ""
          }
        },
        "75ca9baf8dc74f179401f261ce64b8ea": {
          "model_module": "@jupyter-widgets/controls",
          "model_name": "HBoxModel",
          "model_module_version": "1.5.0",
          "state": {
            "_dom_classes": [],
            "_model_module": "@jupyter-widgets/controls",
            "_model_module_version": "1.5.0",
            "_model_name": "HBoxModel",
            "_view_count": null,
            "_view_module": "@jupyter-widgets/controls",
            "_view_module_version": "1.5.0",
            "_view_name": "HBoxView",
            "box_style": "",
            "children": [
              "IPY_MODEL_47743dd1ca8043e2aa040b7a7820e611",
              "IPY_MODEL_b1c70662f39f426d86cdadb5fcc5a3bb",
              "IPY_MODEL_ebce5df0a10f476a80c577ee9bbf3253"
            ],
            "layout": "IPY_MODEL_0e33e75bf0d64730b03de2edcf1386ae"
          }
        },
        "47743dd1ca8043e2aa040b7a7820e611": {
          "model_module": "@jupyter-widgets/controls",
          "model_name": "HTMLModel",
          "model_module_version": "1.5.0",
          "state": {
            "_dom_classes": [],
            "_model_module": "@jupyter-widgets/controls",
            "_model_module_version": "1.5.0",
            "_model_name": "HTMLModel",
            "_view_count": null,
            "_view_module": "@jupyter-widgets/controls",
            "_view_module_version": "1.5.0",
            "_view_name": "HTMLView",
            "description": "",
            "description_tooltip": null,
            "layout": "IPY_MODEL_7e4856c9c2d64f2a823f0df7823c3bfc",
            "placeholder": "​",
            "style": "IPY_MODEL_cf22353b50874f9db5fee9acd27893a5",
            "value": " 36%"
          }
        },
        "b1c70662f39f426d86cdadb5fcc5a3bb": {
          "model_module": "@jupyter-widgets/controls",
          "model_name": "FloatProgressModel",
          "model_module_version": "1.5.0",
          "state": {
            "_dom_classes": [],
            "_model_module": "@jupyter-widgets/controls",
            "_model_module_version": "1.5.0",
            "_model_name": "FloatProgressModel",
            "_view_count": null,
            "_view_module": "@jupyter-widgets/controls",
            "_view_module_version": "1.5.0",
            "_view_name": "ProgressView",
            "bar_style": "danger",
            "description": "",
            "description_tooltip": null,
            "layout": "IPY_MODEL_350ece2260174191a6c82d8c21819cde",
            "max": 200,
            "min": 0,
            "orientation": "horizontal",
            "style": "IPY_MODEL_2d0e7d2cf57b4a01a2be89498a6eaf2f",
            "value": 72
          }
        },
        "ebce5df0a10f476a80c577ee9bbf3253": {
          "model_module": "@jupyter-widgets/controls",
          "model_name": "HTMLModel",
          "model_module_version": "1.5.0",
          "state": {
            "_dom_classes": [],
            "_model_module": "@jupyter-widgets/controls",
            "_model_module_version": "1.5.0",
            "_model_name": "HTMLModel",
            "_view_count": null,
            "_view_module": "@jupyter-widgets/controls",
            "_view_module_version": "1.5.0",
            "_view_name": "HTMLView",
            "description": "",
            "description_tooltip": null,
            "layout": "IPY_MODEL_b219478db09e48eebb6fc8a21287fd54",
            "placeholder": "​",
            "style": "IPY_MODEL_82a89a6d03a6497b89cf263a2e564c84",
            "value": " 72/200 [04:21&lt;07:35,  3.56s/it]"
          }
        },
        "0e33e75bf0d64730b03de2edcf1386ae": {
          "model_module": "@jupyter-widgets/base",
          "model_name": "LayoutModel",
          "model_module_version": "1.2.0",
          "state": {
            "_model_module": "@jupyter-widgets/base",
            "_model_module_version": "1.2.0",
            "_model_name": "LayoutModel",
            "_view_count": null,
            "_view_module": "@jupyter-widgets/base",
            "_view_module_version": "1.2.0",
            "_view_name": "LayoutView",
            "align_content": null,
            "align_items": null,
            "align_self": null,
            "border": null,
            "bottom": null,
            "display": null,
            "flex": null,
            "flex_flow": null,
            "grid_area": null,
            "grid_auto_columns": null,
            "grid_auto_flow": null,
            "grid_auto_rows": null,
            "grid_column": null,
            "grid_gap": null,
            "grid_row": null,
            "grid_template_areas": null,
            "grid_template_columns": null,
            "grid_template_rows": null,
            "height": null,
            "justify_content": null,
            "justify_items": null,
            "left": null,
            "margin": null,
            "max_height": null,
            "max_width": null,
            "min_height": null,
            "min_width": null,
            "object_fit": null,
            "object_position": null,
            "order": null,
            "overflow": null,
            "overflow_x": null,
            "overflow_y": null,
            "padding": null,
            "right": null,
            "top": null,
            "visibility": null,
            "width": null
          }
        },
        "7e4856c9c2d64f2a823f0df7823c3bfc": {
          "model_module": "@jupyter-widgets/base",
          "model_name": "LayoutModel",
          "model_module_version": "1.2.0",
          "state": {
            "_model_module": "@jupyter-widgets/base",
            "_model_module_version": "1.2.0",
            "_model_name": "LayoutModel",
            "_view_count": null,
            "_view_module": "@jupyter-widgets/base",
            "_view_module_version": "1.2.0",
            "_view_name": "LayoutView",
            "align_content": null,
            "align_items": null,
            "align_self": null,
            "border": null,
            "bottom": null,
            "display": null,
            "flex": null,
            "flex_flow": null,
            "grid_area": null,
            "grid_auto_columns": null,
            "grid_auto_flow": null,
            "grid_auto_rows": null,
            "grid_column": null,
            "grid_gap": null,
            "grid_row": null,
            "grid_template_areas": null,
            "grid_template_columns": null,
            "grid_template_rows": null,
            "height": null,
            "justify_content": null,
            "justify_items": null,
            "left": null,
            "margin": null,
            "max_height": null,
            "max_width": null,
            "min_height": null,
            "min_width": null,
            "object_fit": null,
            "object_position": null,
            "order": null,
            "overflow": null,
            "overflow_x": null,
            "overflow_y": null,
            "padding": null,
            "right": null,
            "top": null,
            "visibility": null,
            "width": null
          }
        },
        "cf22353b50874f9db5fee9acd27893a5": {
          "model_module": "@jupyter-widgets/controls",
          "model_name": "DescriptionStyleModel",
          "model_module_version": "1.5.0",
          "state": {
            "_model_module": "@jupyter-widgets/controls",
            "_model_module_version": "1.5.0",
            "_model_name": "DescriptionStyleModel",
            "_view_count": null,
            "_view_module": "@jupyter-widgets/base",
            "_view_module_version": "1.2.0",
            "_view_name": "StyleView",
            "description_width": ""
          }
        },
        "350ece2260174191a6c82d8c21819cde": {
          "model_module": "@jupyter-widgets/base",
          "model_name": "LayoutModel",
          "model_module_version": "1.2.0",
          "state": {
            "_model_module": "@jupyter-widgets/base",
            "_model_module_version": "1.2.0",
            "_model_name": "LayoutModel",
            "_view_count": null,
            "_view_module": "@jupyter-widgets/base",
            "_view_module_version": "1.2.0",
            "_view_name": "LayoutView",
            "align_content": null,
            "align_items": null,
            "align_self": null,
            "border": null,
            "bottom": null,
            "display": null,
            "flex": null,
            "flex_flow": null,
            "grid_area": null,
            "grid_auto_columns": null,
            "grid_auto_flow": null,
            "grid_auto_rows": null,
            "grid_column": null,
            "grid_gap": null,
            "grid_row": null,
            "grid_template_areas": null,
            "grid_template_columns": null,
            "grid_template_rows": null,
            "height": null,
            "justify_content": null,
            "justify_items": null,
            "left": null,
            "margin": null,
            "max_height": null,
            "max_width": null,
            "min_height": null,
            "min_width": null,
            "object_fit": null,
            "object_position": null,
            "order": null,
            "overflow": null,
            "overflow_x": null,
            "overflow_y": null,
            "padding": null,
            "right": null,
            "top": null,
            "visibility": null,
            "width": null
          }
        },
        "2d0e7d2cf57b4a01a2be89498a6eaf2f": {
          "model_module": "@jupyter-widgets/controls",
          "model_name": "ProgressStyleModel",
          "model_module_version": "1.5.0",
          "state": {
            "_model_module": "@jupyter-widgets/controls",
            "_model_module_version": "1.5.0",
            "_model_name": "ProgressStyleModel",
            "_view_count": null,
            "_view_module": "@jupyter-widgets/base",
            "_view_module_version": "1.2.0",
            "_view_name": "StyleView",
            "bar_color": null,
            "description_width": ""
          }
        },
        "b219478db09e48eebb6fc8a21287fd54": {
          "model_module": "@jupyter-widgets/base",
          "model_name": "LayoutModel",
          "model_module_version": "1.2.0",
          "state": {
            "_model_module": "@jupyter-widgets/base",
            "_model_module_version": "1.2.0",
            "_model_name": "LayoutModel",
            "_view_count": null,
            "_view_module": "@jupyter-widgets/base",
            "_view_module_version": "1.2.0",
            "_view_name": "LayoutView",
            "align_content": null,
            "align_items": null,
            "align_self": null,
            "border": null,
            "bottom": null,
            "display": null,
            "flex": null,
            "flex_flow": null,
            "grid_area": null,
            "grid_auto_columns": null,
            "grid_auto_flow": null,
            "grid_auto_rows": null,
            "grid_column": null,
            "grid_gap": null,
            "grid_row": null,
            "grid_template_areas": null,
            "grid_template_columns": null,
            "grid_template_rows": null,
            "height": null,
            "justify_content": null,
            "justify_items": null,
            "left": null,
            "margin": null,
            "max_height": null,
            "max_width": null,
            "min_height": null,
            "min_width": null,
            "object_fit": null,
            "object_position": null,
            "order": null,
            "overflow": null,
            "overflow_x": null,
            "overflow_y": null,
            "padding": null,
            "right": null,
            "top": null,
            "visibility": null,
            "width": null
          }
        },
        "82a89a6d03a6497b89cf263a2e564c84": {
          "model_module": "@jupyter-widgets/controls",
          "model_name": "DescriptionStyleModel",
          "model_module_version": "1.5.0",
          "state": {
            "_model_module": "@jupyter-widgets/controls",
            "_model_module_version": "1.5.0",
            "_model_name": "DescriptionStyleModel",
            "_view_count": null,
            "_view_module": "@jupyter-widgets/base",
            "_view_module_version": "1.2.0",
            "_view_name": "StyleView",
            "description_width": ""
          }
        },
        "a32ae5dcafca4bd9846781ad81a69eb3": {
          "model_module": "@jupyter-widgets/controls",
          "model_name": "HBoxModel",
          "model_module_version": "1.5.0",
          "state": {
            "_dom_classes": [],
            "_model_module": "@jupyter-widgets/controls",
            "_model_module_version": "1.5.0",
            "_model_name": "HBoxModel",
            "_view_count": null,
            "_view_module": "@jupyter-widgets/controls",
            "_view_module_version": "1.5.0",
            "_view_name": "HBoxView",
            "box_style": "",
            "children": [
              "IPY_MODEL_38f679e3149c46b08da6d717de1448d8",
              "IPY_MODEL_8f5a630b739041caa30548f172792fd1",
              "IPY_MODEL_92d39498b6774aceab779b5eb9258fe8"
            ],
            "layout": "IPY_MODEL_019c69077a0b45dbae1c88585871572a"
          }
        },
        "38f679e3149c46b08da6d717de1448d8": {
          "model_module": "@jupyter-widgets/controls",
          "model_name": "HTMLModel",
          "model_module_version": "1.5.0",
          "state": {
            "_dom_classes": [],
            "_model_module": "@jupyter-widgets/controls",
            "_model_module_version": "1.5.0",
            "_model_name": "HTMLModel",
            "_view_count": null,
            "_view_module": "@jupyter-widgets/controls",
            "_view_module_version": "1.5.0",
            "_view_name": "HTMLView",
            "description": "",
            "description_tooltip": null,
            "layout": "IPY_MODEL_eb6baa5c032b4d94b17d5112e8416a00",
            "placeholder": "​",
            "style": "IPY_MODEL_51c7125592784e6f8dab23e8de4b24ba",
            "value": " 32%"
          }
        },
        "8f5a630b739041caa30548f172792fd1": {
          "model_module": "@jupyter-widgets/controls",
          "model_name": "FloatProgressModel",
          "model_module_version": "1.5.0",
          "state": {
            "_dom_classes": [],
            "_model_module": "@jupyter-widgets/controls",
            "_model_module_version": "1.5.0",
            "_model_name": "FloatProgressModel",
            "_view_count": null,
            "_view_module": "@jupyter-widgets/controls",
            "_view_module_version": "1.5.0",
            "_view_name": "ProgressView",
            "bar_style": "danger",
            "description": "",
            "description_tooltip": null,
            "layout": "IPY_MODEL_b7257866012d4ea6befab96ca2080b92",
            "max": 200,
            "min": 0,
            "orientation": "horizontal",
            "style": "IPY_MODEL_94cf48ab399b407ca412707f88b6d34e",
            "value": 65
          }
        },
        "92d39498b6774aceab779b5eb9258fe8": {
          "model_module": "@jupyter-widgets/controls",
          "model_name": "HTMLModel",
          "model_module_version": "1.5.0",
          "state": {
            "_dom_classes": [],
            "_model_module": "@jupyter-widgets/controls",
            "_model_module_version": "1.5.0",
            "_model_name": "HTMLModel",
            "_view_count": null,
            "_view_module": "@jupyter-widgets/controls",
            "_view_module_version": "1.5.0",
            "_view_name": "HTMLView",
            "description": "",
            "description_tooltip": null,
            "layout": "IPY_MODEL_882b0b00587f4b5aa339ca0717e15678",
            "placeholder": "​",
            "style": "IPY_MODEL_f7e321d975fa455da3935a0e49d11f99",
            "value": " 65/200 [05:02&lt;10:18,  4.58s/it]"
          }
        },
        "019c69077a0b45dbae1c88585871572a": {
          "model_module": "@jupyter-widgets/base",
          "model_name": "LayoutModel",
          "model_module_version": "1.2.0",
          "state": {
            "_model_module": "@jupyter-widgets/base",
            "_model_module_version": "1.2.0",
            "_model_name": "LayoutModel",
            "_view_count": null,
            "_view_module": "@jupyter-widgets/base",
            "_view_module_version": "1.2.0",
            "_view_name": "LayoutView",
            "align_content": null,
            "align_items": null,
            "align_self": null,
            "border": null,
            "bottom": null,
            "display": null,
            "flex": null,
            "flex_flow": null,
            "grid_area": null,
            "grid_auto_columns": null,
            "grid_auto_flow": null,
            "grid_auto_rows": null,
            "grid_column": null,
            "grid_gap": null,
            "grid_row": null,
            "grid_template_areas": null,
            "grid_template_columns": null,
            "grid_template_rows": null,
            "height": null,
            "justify_content": null,
            "justify_items": null,
            "left": null,
            "margin": null,
            "max_height": null,
            "max_width": null,
            "min_height": null,
            "min_width": null,
            "object_fit": null,
            "object_position": null,
            "order": null,
            "overflow": null,
            "overflow_x": null,
            "overflow_y": null,
            "padding": null,
            "right": null,
            "top": null,
            "visibility": null,
            "width": null
          }
        },
        "eb6baa5c032b4d94b17d5112e8416a00": {
          "model_module": "@jupyter-widgets/base",
          "model_name": "LayoutModel",
          "model_module_version": "1.2.0",
          "state": {
            "_model_module": "@jupyter-widgets/base",
            "_model_module_version": "1.2.0",
            "_model_name": "LayoutModel",
            "_view_count": null,
            "_view_module": "@jupyter-widgets/base",
            "_view_module_version": "1.2.0",
            "_view_name": "LayoutView",
            "align_content": null,
            "align_items": null,
            "align_self": null,
            "border": null,
            "bottom": null,
            "display": null,
            "flex": null,
            "flex_flow": null,
            "grid_area": null,
            "grid_auto_columns": null,
            "grid_auto_flow": null,
            "grid_auto_rows": null,
            "grid_column": null,
            "grid_gap": null,
            "grid_row": null,
            "grid_template_areas": null,
            "grid_template_columns": null,
            "grid_template_rows": null,
            "height": null,
            "justify_content": null,
            "justify_items": null,
            "left": null,
            "margin": null,
            "max_height": null,
            "max_width": null,
            "min_height": null,
            "min_width": null,
            "object_fit": null,
            "object_position": null,
            "order": null,
            "overflow": null,
            "overflow_x": null,
            "overflow_y": null,
            "padding": null,
            "right": null,
            "top": null,
            "visibility": null,
            "width": null
          }
        },
        "51c7125592784e6f8dab23e8de4b24ba": {
          "model_module": "@jupyter-widgets/controls",
          "model_name": "DescriptionStyleModel",
          "model_module_version": "1.5.0",
          "state": {
            "_model_module": "@jupyter-widgets/controls",
            "_model_module_version": "1.5.0",
            "_model_name": "DescriptionStyleModel",
            "_view_count": null,
            "_view_module": "@jupyter-widgets/base",
            "_view_module_version": "1.2.0",
            "_view_name": "StyleView",
            "description_width": ""
          }
        },
        "b7257866012d4ea6befab96ca2080b92": {
          "model_module": "@jupyter-widgets/base",
          "model_name": "LayoutModel",
          "model_module_version": "1.2.0",
          "state": {
            "_model_module": "@jupyter-widgets/base",
            "_model_module_version": "1.2.0",
            "_model_name": "LayoutModel",
            "_view_count": null,
            "_view_module": "@jupyter-widgets/base",
            "_view_module_version": "1.2.0",
            "_view_name": "LayoutView",
            "align_content": null,
            "align_items": null,
            "align_self": null,
            "border": null,
            "bottom": null,
            "display": null,
            "flex": null,
            "flex_flow": null,
            "grid_area": null,
            "grid_auto_columns": null,
            "grid_auto_flow": null,
            "grid_auto_rows": null,
            "grid_column": null,
            "grid_gap": null,
            "grid_row": null,
            "grid_template_areas": null,
            "grid_template_columns": null,
            "grid_template_rows": null,
            "height": null,
            "justify_content": null,
            "justify_items": null,
            "left": null,
            "margin": null,
            "max_height": null,
            "max_width": null,
            "min_height": null,
            "min_width": null,
            "object_fit": null,
            "object_position": null,
            "order": null,
            "overflow": null,
            "overflow_x": null,
            "overflow_y": null,
            "padding": null,
            "right": null,
            "top": null,
            "visibility": null,
            "width": null
          }
        },
        "94cf48ab399b407ca412707f88b6d34e": {
          "model_module": "@jupyter-widgets/controls",
          "model_name": "ProgressStyleModel",
          "model_module_version": "1.5.0",
          "state": {
            "_model_module": "@jupyter-widgets/controls",
            "_model_module_version": "1.5.0",
            "_model_name": "ProgressStyleModel",
            "_view_count": null,
            "_view_module": "@jupyter-widgets/base",
            "_view_module_version": "1.2.0",
            "_view_name": "StyleView",
            "bar_color": null,
            "description_width": ""
          }
        },
        "882b0b00587f4b5aa339ca0717e15678": {
          "model_module": "@jupyter-widgets/base",
          "model_name": "LayoutModel",
          "model_module_version": "1.2.0",
          "state": {
            "_model_module": "@jupyter-widgets/base",
            "_model_module_version": "1.2.0",
            "_model_name": "LayoutModel",
            "_view_count": null,
            "_view_module": "@jupyter-widgets/base",
            "_view_module_version": "1.2.0",
            "_view_name": "LayoutView",
            "align_content": null,
            "align_items": null,
            "align_self": null,
            "border": null,
            "bottom": null,
            "display": null,
            "flex": null,
            "flex_flow": null,
            "grid_area": null,
            "grid_auto_columns": null,
            "grid_auto_flow": null,
            "grid_auto_rows": null,
            "grid_column": null,
            "grid_gap": null,
            "grid_row": null,
            "grid_template_areas": null,
            "grid_template_columns": null,
            "grid_template_rows": null,
            "height": null,
            "justify_content": null,
            "justify_items": null,
            "left": null,
            "margin": null,
            "max_height": null,
            "max_width": null,
            "min_height": null,
            "min_width": null,
            "object_fit": null,
            "object_position": null,
            "order": null,
            "overflow": null,
            "overflow_x": null,
            "overflow_y": null,
            "padding": null,
            "right": null,
            "top": null,
            "visibility": null,
            "width": null
          }
        },
        "f7e321d975fa455da3935a0e49d11f99": {
          "model_module": "@jupyter-widgets/controls",
          "model_name": "DescriptionStyleModel",
          "model_module_version": "1.5.0",
          "state": {
            "_model_module": "@jupyter-widgets/controls",
            "_model_module_version": "1.5.0",
            "_model_name": "DescriptionStyleModel",
            "_view_count": null,
            "_view_module": "@jupyter-widgets/base",
            "_view_module_version": "1.2.0",
            "_view_name": "StyleView",
            "description_width": ""
          }
        },
        "56daf1a3709f4991bdc6762bdecc8e93": {
          "model_module": "@jupyter-widgets/controls",
          "model_name": "HBoxModel",
          "model_module_version": "1.5.0",
          "state": {
            "_dom_classes": [],
            "_model_module": "@jupyter-widgets/controls",
            "_model_module_version": "1.5.0",
            "_model_name": "HBoxModel",
            "_view_count": null,
            "_view_module": "@jupyter-widgets/controls",
            "_view_module_version": "1.5.0",
            "_view_name": "HBoxView",
            "box_style": "",
            "children": [
              "IPY_MODEL_8aee67ef8587416fb8159812417f104d",
              "IPY_MODEL_7b59cd458ee640dd9c02ef197e96f311",
              "IPY_MODEL_2563c5a47c804bad8b9b6fe88b218bea"
            ],
            "layout": "IPY_MODEL_4230ff2ff30c4df6a5c7e65eea6d3743"
          }
        },
        "8aee67ef8587416fb8159812417f104d": {
          "model_module": "@jupyter-widgets/controls",
          "model_name": "HTMLModel",
          "model_module_version": "1.5.0",
          "state": {
            "_dom_classes": [],
            "_model_module": "@jupyter-widgets/controls",
            "_model_module_version": "1.5.0",
            "_model_name": "HTMLModel",
            "_view_count": null,
            "_view_module": "@jupyter-widgets/controls",
            "_view_module_version": "1.5.0",
            "_view_name": "HTMLView",
            "description": "",
            "description_tooltip": null,
            "layout": "IPY_MODEL_2cc47e87bf27402494df83f4fe13e173",
            "placeholder": "​",
            "style": "IPY_MODEL_38442bd59df7499fa42f842b5517953f",
            "value": " 21%"
          }
        },
        "7b59cd458ee640dd9c02ef197e96f311": {
          "model_module": "@jupyter-widgets/controls",
          "model_name": "FloatProgressModel",
          "model_module_version": "1.5.0",
          "state": {
            "_dom_classes": [],
            "_model_module": "@jupyter-widgets/controls",
            "_model_module_version": "1.5.0",
            "_model_name": "FloatProgressModel",
            "_view_count": null,
            "_view_module": "@jupyter-widgets/controls",
            "_view_module_version": "1.5.0",
            "_view_name": "ProgressView",
            "bar_style": "danger",
            "description": "",
            "description_tooltip": null,
            "layout": "IPY_MODEL_790707ebe97d4739833b70fe0f8b76ad",
            "max": 200,
            "min": 0,
            "orientation": "horizontal",
            "style": "IPY_MODEL_50ac3b10e29c4e3a87b1cabaab2ab9ee",
            "value": 42
          }
        },
        "2563c5a47c804bad8b9b6fe88b218bea": {
          "model_module": "@jupyter-widgets/controls",
          "model_name": "HTMLModel",
          "model_module_version": "1.5.0",
          "state": {
            "_dom_classes": [],
            "_model_module": "@jupyter-widgets/controls",
            "_model_module_version": "1.5.0",
            "_model_name": "HTMLModel",
            "_view_count": null,
            "_view_module": "@jupyter-widgets/controls",
            "_view_module_version": "1.5.0",
            "_view_name": "HTMLView",
            "description": "",
            "description_tooltip": null,
            "layout": "IPY_MODEL_c830964d3892453d8e5b43e5c3619c95",
            "placeholder": "​",
            "style": "IPY_MODEL_5996c21e2c004382b40f4cbfa444acaa",
            "value": " 42/200 [04:03&lt;14:55,  5.67s/it]"
          }
        },
        "4230ff2ff30c4df6a5c7e65eea6d3743": {
          "model_module": "@jupyter-widgets/base",
          "model_name": "LayoutModel",
          "model_module_version": "1.2.0",
          "state": {
            "_model_module": "@jupyter-widgets/base",
            "_model_module_version": "1.2.0",
            "_model_name": "LayoutModel",
            "_view_count": null,
            "_view_module": "@jupyter-widgets/base",
            "_view_module_version": "1.2.0",
            "_view_name": "LayoutView",
            "align_content": null,
            "align_items": null,
            "align_self": null,
            "border": null,
            "bottom": null,
            "display": null,
            "flex": null,
            "flex_flow": null,
            "grid_area": null,
            "grid_auto_columns": null,
            "grid_auto_flow": null,
            "grid_auto_rows": null,
            "grid_column": null,
            "grid_gap": null,
            "grid_row": null,
            "grid_template_areas": null,
            "grid_template_columns": null,
            "grid_template_rows": null,
            "height": null,
            "justify_content": null,
            "justify_items": null,
            "left": null,
            "margin": null,
            "max_height": null,
            "max_width": null,
            "min_height": null,
            "min_width": null,
            "object_fit": null,
            "object_position": null,
            "order": null,
            "overflow": null,
            "overflow_x": null,
            "overflow_y": null,
            "padding": null,
            "right": null,
            "top": null,
            "visibility": null,
            "width": null
          }
        },
        "2cc47e87bf27402494df83f4fe13e173": {
          "model_module": "@jupyter-widgets/base",
          "model_name": "LayoutModel",
          "model_module_version": "1.2.0",
          "state": {
            "_model_module": "@jupyter-widgets/base",
            "_model_module_version": "1.2.0",
            "_model_name": "LayoutModel",
            "_view_count": null,
            "_view_module": "@jupyter-widgets/base",
            "_view_module_version": "1.2.0",
            "_view_name": "LayoutView",
            "align_content": null,
            "align_items": null,
            "align_self": null,
            "border": null,
            "bottom": null,
            "display": null,
            "flex": null,
            "flex_flow": null,
            "grid_area": null,
            "grid_auto_columns": null,
            "grid_auto_flow": null,
            "grid_auto_rows": null,
            "grid_column": null,
            "grid_gap": null,
            "grid_row": null,
            "grid_template_areas": null,
            "grid_template_columns": null,
            "grid_template_rows": null,
            "height": null,
            "justify_content": null,
            "justify_items": null,
            "left": null,
            "margin": null,
            "max_height": null,
            "max_width": null,
            "min_height": null,
            "min_width": null,
            "object_fit": null,
            "object_position": null,
            "order": null,
            "overflow": null,
            "overflow_x": null,
            "overflow_y": null,
            "padding": null,
            "right": null,
            "top": null,
            "visibility": null,
            "width": null
          }
        },
        "38442bd59df7499fa42f842b5517953f": {
          "model_module": "@jupyter-widgets/controls",
          "model_name": "DescriptionStyleModel",
          "model_module_version": "1.5.0",
          "state": {
            "_model_module": "@jupyter-widgets/controls",
            "_model_module_version": "1.5.0",
            "_model_name": "DescriptionStyleModel",
            "_view_count": null,
            "_view_module": "@jupyter-widgets/base",
            "_view_module_version": "1.2.0",
            "_view_name": "StyleView",
            "description_width": ""
          }
        },
        "790707ebe97d4739833b70fe0f8b76ad": {
          "model_module": "@jupyter-widgets/base",
          "model_name": "LayoutModel",
          "model_module_version": "1.2.0",
          "state": {
            "_model_module": "@jupyter-widgets/base",
            "_model_module_version": "1.2.0",
            "_model_name": "LayoutModel",
            "_view_count": null,
            "_view_module": "@jupyter-widgets/base",
            "_view_module_version": "1.2.0",
            "_view_name": "LayoutView",
            "align_content": null,
            "align_items": null,
            "align_self": null,
            "border": null,
            "bottom": null,
            "display": null,
            "flex": null,
            "flex_flow": null,
            "grid_area": null,
            "grid_auto_columns": null,
            "grid_auto_flow": null,
            "grid_auto_rows": null,
            "grid_column": null,
            "grid_gap": null,
            "grid_row": null,
            "grid_template_areas": null,
            "grid_template_columns": null,
            "grid_template_rows": null,
            "height": null,
            "justify_content": null,
            "justify_items": null,
            "left": null,
            "margin": null,
            "max_height": null,
            "max_width": null,
            "min_height": null,
            "min_width": null,
            "object_fit": null,
            "object_position": null,
            "order": null,
            "overflow": null,
            "overflow_x": null,
            "overflow_y": null,
            "padding": null,
            "right": null,
            "top": null,
            "visibility": null,
            "width": null
          }
        },
        "50ac3b10e29c4e3a87b1cabaab2ab9ee": {
          "model_module": "@jupyter-widgets/controls",
          "model_name": "ProgressStyleModel",
          "model_module_version": "1.5.0",
          "state": {
            "_model_module": "@jupyter-widgets/controls",
            "_model_module_version": "1.5.0",
            "_model_name": "ProgressStyleModel",
            "_view_count": null,
            "_view_module": "@jupyter-widgets/base",
            "_view_module_version": "1.2.0",
            "_view_name": "StyleView",
            "bar_color": null,
            "description_width": ""
          }
        },
        "c830964d3892453d8e5b43e5c3619c95": {
          "model_module": "@jupyter-widgets/base",
          "model_name": "LayoutModel",
          "model_module_version": "1.2.0",
          "state": {
            "_model_module": "@jupyter-widgets/base",
            "_model_module_version": "1.2.0",
            "_model_name": "LayoutModel",
            "_view_count": null,
            "_view_module": "@jupyter-widgets/base",
            "_view_module_version": "1.2.0",
            "_view_name": "LayoutView",
            "align_content": null,
            "align_items": null,
            "align_self": null,
            "border": null,
            "bottom": null,
            "display": null,
            "flex": null,
            "flex_flow": null,
            "grid_area": null,
            "grid_auto_columns": null,
            "grid_auto_flow": null,
            "grid_auto_rows": null,
            "grid_column": null,
            "grid_gap": null,
            "grid_row": null,
            "grid_template_areas": null,
            "grid_template_columns": null,
            "grid_template_rows": null,
            "height": null,
            "justify_content": null,
            "justify_items": null,
            "left": null,
            "margin": null,
            "max_height": null,
            "max_width": null,
            "min_height": null,
            "min_width": null,
            "object_fit": null,
            "object_position": null,
            "order": null,
            "overflow": null,
            "overflow_x": null,
            "overflow_y": null,
            "padding": null,
            "right": null,
            "top": null,
            "visibility": null,
            "width": null
          }
        },
        "5996c21e2c004382b40f4cbfa444acaa": {
          "model_module": "@jupyter-widgets/controls",
          "model_name": "DescriptionStyleModel",
          "model_module_version": "1.5.0",
          "state": {
            "_model_module": "@jupyter-widgets/controls",
            "_model_module_version": "1.5.0",
            "_model_name": "DescriptionStyleModel",
            "_view_count": null,
            "_view_module": "@jupyter-widgets/base",
            "_view_module_version": "1.2.0",
            "_view_name": "StyleView",
            "description_width": ""
          }
        },
        "9ea10437183643daa537022a486cbc01": {
          "model_module": "@jupyter-widgets/controls",
          "model_name": "HBoxModel",
          "model_module_version": "1.5.0",
          "state": {
            "_dom_classes": [],
            "_model_module": "@jupyter-widgets/controls",
            "_model_module_version": "1.5.0",
            "_model_name": "HBoxModel",
            "_view_count": null,
            "_view_module": "@jupyter-widgets/controls",
            "_view_module_version": "1.5.0",
            "_view_name": "HBoxView",
            "box_style": "",
            "children": [
              "IPY_MODEL_2a182ab624f24897a0de474216c38726",
              "IPY_MODEL_e80aab87030a4fabb064b6b31d967323",
              "IPY_MODEL_f08a7ee7e3f74b28bb7d92e7c51642b1"
            ],
            "layout": "IPY_MODEL_6b28379949184deeb1651891f13e92d8"
          }
        },
        "2a182ab624f24897a0de474216c38726": {
          "model_module": "@jupyter-widgets/controls",
          "model_name": "HTMLModel",
          "model_module_version": "1.5.0",
          "state": {
            "_dom_classes": [],
            "_model_module": "@jupyter-widgets/controls",
            "_model_module_version": "1.5.0",
            "_model_name": "HTMLModel",
            "_view_count": null,
            "_view_module": "@jupyter-widgets/controls",
            "_view_module_version": "1.5.0",
            "_view_name": "HTMLView",
            "description": "",
            "description_tooltip": null,
            "layout": "IPY_MODEL_f0c755018fe940008ac4a602e201e315",
            "placeholder": "​",
            "style": "IPY_MODEL_ddfbe5de70b947e9aa42325dcfb48088",
            "value": "100%"
          }
        },
        "e80aab87030a4fabb064b6b31d967323": {
          "model_module": "@jupyter-widgets/controls",
          "model_name": "FloatProgressModel",
          "model_module_version": "1.5.0",
          "state": {
            "_dom_classes": [],
            "_model_module": "@jupyter-widgets/controls",
            "_model_module_version": "1.5.0",
            "_model_name": "FloatProgressModel",
            "_view_count": null,
            "_view_module": "@jupyter-widgets/controls",
            "_view_module_version": "1.5.0",
            "_view_name": "ProgressView",
            "bar_style": "success",
            "description": "",
            "description_tooltip": null,
            "layout": "IPY_MODEL_f8028f09e81b463c843b178e08f2567d",
            "max": 5,
            "min": 0,
            "orientation": "horizontal",
            "style": "IPY_MODEL_5fb8246ab12d4897a9786ea5f52709d5",
            "value": 5
          }
        },
        "f08a7ee7e3f74b28bb7d92e7c51642b1": {
          "model_module": "@jupyter-widgets/controls",
          "model_name": "HTMLModel",
          "model_module_version": "1.5.0",
          "state": {
            "_dom_classes": [],
            "_model_module": "@jupyter-widgets/controls",
            "_model_module_version": "1.5.0",
            "_model_name": "HTMLModel",
            "_view_count": null,
            "_view_module": "@jupyter-widgets/controls",
            "_view_module_version": "1.5.0",
            "_view_name": "HTMLView",
            "description": "",
            "description_tooltip": null,
            "layout": "IPY_MODEL_0f18d4bf6a544af487bc42c956bbd3d1",
            "placeholder": "​",
            "style": "IPY_MODEL_21e478dd5e104a82a6a668828c87ff66",
            "value": " 5/5 [00:15&lt;00:00,  3.14s/it]"
          }
        },
        "6b28379949184deeb1651891f13e92d8": {
          "model_module": "@jupyter-widgets/base",
          "model_name": "LayoutModel",
          "model_module_version": "1.2.0",
          "state": {
            "_model_module": "@jupyter-widgets/base",
            "_model_module_version": "1.2.0",
            "_model_name": "LayoutModel",
            "_view_count": null,
            "_view_module": "@jupyter-widgets/base",
            "_view_module_version": "1.2.0",
            "_view_name": "LayoutView",
            "align_content": null,
            "align_items": null,
            "align_self": null,
            "border": null,
            "bottom": null,
            "display": null,
            "flex": null,
            "flex_flow": null,
            "grid_area": null,
            "grid_auto_columns": null,
            "grid_auto_flow": null,
            "grid_auto_rows": null,
            "grid_column": null,
            "grid_gap": null,
            "grid_row": null,
            "grid_template_areas": null,
            "grid_template_columns": null,
            "grid_template_rows": null,
            "height": null,
            "justify_content": null,
            "justify_items": null,
            "left": null,
            "margin": null,
            "max_height": null,
            "max_width": null,
            "min_height": null,
            "min_width": null,
            "object_fit": null,
            "object_position": null,
            "order": null,
            "overflow": null,
            "overflow_x": null,
            "overflow_y": null,
            "padding": null,
            "right": null,
            "top": null,
            "visibility": null,
            "width": null
          }
        },
        "f0c755018fe940008ac4a602e201e315": {
          "model_module": "@jupyter-widgets/base",
          "model_name": "LayoutModel",
          "model_module_version": "1.2.0",
          "state": {
            "_model_module": "@jupyter-widgets/base",
            "_model_module_version": "1.2.0",
            "_model_name": "LayoutModel",
            "_view_count": null,
            "_view_module": "@jupyter-widgets/base",
            "_view_module_version": "1.2.0",
            "_view_name": "LayoutView",
            "align_content": null,
            "align_items": null,
            "align_self": null,
            "border": null,
            "bottom": null,
            "display": null,
            "flex": null,
            "flex_flow": null,
            "grid_area": null,
            "grid_auto_columns": null,
            "grid_auto_flow": null,
            "grid_auto_rows": null,
            "grid_column": null,
            "grid_gap": null,
            "grid_row": null,
            "grid_template_areas": null,
            "grid_template_columns": null,
            "grid_template_rows": null,
            "height": null,
            "justify_content": null,
            "justify_items": null,
            "left": null,
            "margin": null,
            "max_height": null,
            "max_width": null,
            "min_height": null,
            "min_width": null,
            "object_fit": null,
            "object_position": null,
            "order": null,
            "overflow": null,
            "overflow_x": null,
            "overflow_y": null,
            "padding": null,
            "right": null,
            "top": null,
            "visibility": null,
            "width": null
          }
        },
        "ddfbe5de70b947e9aa42325dcfb48088": {
          "model_module": "@jupyter-widgets/controls",
          "model_name": "DescriptionStyleModel",
          "model_module_version": "1.5.0",
          "state": {
            "_model_module": "@jupyter-widgets/controls",
            "_model_module_version": "1.5.0",
            "_model_name": "DescriptionStyleModel",
            "_view_count": null,
            "_view_module": "@jupyter-widgets/base",
            "_view_module_version": "1.2.0",
            "_view_name": "StyleView",
            "description_width": ""
          }
        },
        "f8028f09e81b463c843b178e08f2567d": {
          "model_module": "@jupyter-widgets/base",
          "model_name": "LayoutModel",
          "model_module_version": "1.2.0",
          "state": {
            "_model_module": "@jupyter-widgets/base",
            "_model_module_version": "1.2.0",
            "_model_name": "LayoutModel",
            "_view_count": null,
            "_view_module": "@jupyter-widgets/base",
            "_view_module_version": "1.2.0",
            "_view_name": "LayoutView",
            "align_content": null,
            "align_items": null,
            "align_self": null,
            "border": null,
            "bottom": null,
            "display": null,
            "flex": null,
            "flex_flow": null,
            "grid_area": null,
            "grid_auto_columns": null,
            "grid_auto_flow": null,
            "grid_auto_rows": null,
            "grid_column": null,
            "grid_gap": null,
            "grid_row": null,
            "grid_template_areas": null,
            "grid_template_columns": null,
            "grid_template_rows": null,
            "height": null,
            "justify_content": null,
            "justify_items": null,
            "left": null,
            "margin": null,
            "max_height": null,
            "max_width": null,
            "min_height": null,
            "min_width": null,
            "object_fit": null,
            "object_position": null,
            "order": null,
            "overflow": null,
            "overflow_x": null,
            "overflow_y": null,
            "padding": null,
            "right": null,
            "top": null,
            "visibility": null,
            "width": null
          }
        },
        "5fb8246ab12d4897a9786ea5f52709d5": {
          "model_module": "@jupyter-widgets/controls",
          "model_name": "ProgressStyleModel",
          "model_module_version": "1.5.0",
          "state": {
            "_model_module": "@jupyter-widgets/controls",
            "_model_module_version": "1.5.0",
            "_model_name": "ProgressStyleModel",
            "_view_count": null,
            "_view_module": "@jupyter-widgets/base",
            "_view_module_version": "1.2.0",
            "_view_name": "StyleView",
            "bar_color": null,
            "description_width": ""
          }
        },
        "0f18d4bf6a544af487bc42c956bbd3d1": {
          "model_module": "@jupyter-widgets/base",
          "model_name": "LayoutModel",
          "model_module_version": "1.2.0",
          "state": {
            "_model_module": "@jupyter-widgets/base",
            "_model_module_version": "1.2.0",
            "_model_name": "LayoutModel",
            "_view_count": null,
            "_view_module": "@jupyter-widgets/base",
            "_view_module_version": "1.2.0",
            "_view_name": "LayoutView",
            "align_content": null,
            "align_items": null,
            "align_self": null,
            "border": null,
            "bottom": null,
            "display": null,
            "flex": null,
            "flex_flow": null,
            "grid_area": null,
            "grid_auto_columns": null,
            "grid_auto_flow": null,
            "grid_auto_rows": null,
            "grid_column": null,
            "grid_gap": null,
            "grid_row": null,
            "grid_template_areas": null,
            "grid_template_columns": null,
            "grid_template_rows": null,
            "height": null,
            "justify_content": null,
            "justify_items": null,
            "left": null,
            "margin": null,
            "max_height": null,
            "max_width": null,
            "min_height": null,
            "min_width": null,
            "object_fit": null,
            "object_position": null,
            "order": null,
            "overflow": null,
            "overflow_x": null,
            "overflow_y": null,
            "padding": null,
            "right": null,
            "top": null,
            "visibility": null,
            "width": null
          }
        },
        "21e478dd5e104a82a6a668828c87ff66": {
          "model_module": "@jupyter-widgets/controls",
          "model_name": "DescriptionStyleModel",
          "model_module_version": "1.5.0",
          "state": {
            "_model_module": "@jupyter-widgets/controls",
            "_model_module_version": "1.5.0",
            "_model_name": "DescriptionStyleModel",
            "_view_count": null,
            "_view_module": "@jupyter-widgets/base",
            "_view_module_version": "1.2.0",
            "_view_name": "StyleView",
            "description_width": ""
          }
        }
      }
    },
    "accelerator": "GPU"
  },
  "nbformat": 4,
  "nbformat_minor": 0
}