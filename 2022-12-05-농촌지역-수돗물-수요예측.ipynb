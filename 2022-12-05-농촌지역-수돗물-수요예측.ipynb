{
  "cells": [
    {
      "cell_type": "markdown",
      "metadata": {
        "id": "view-in-github",
        "colab_type": "text"
      },
      "source": [
        "<a href=\"https://colab.research.google.com/github/Jaesu26/aifactory-water-demand-forecasting/blob/main/2022-12-05-%EB%86%8D%EC%B4%8C%EC%A7%80%EC%97%AD-%EC%88%98%EB%8F%97%EB%AC%BC-%EC%88%98%EC%9A%94%EC%98%88%EC%B8%A1.ipynb\" target=\"_parent\"><img src=\"https://colab.research.google.com/assets/colab-badge.svg\" alt=\"Open In Colab\"/></a>"
      ]
    },
    {
      "cell_type": "markdown",
      "metadata": {
        "id": "75xRhMA-ZZ4g"
      },
      "source": [
        "# [2022 제2회 K-water AI 경진대회] 수돗물 수요예측 AI 알고리즘 개발\n",
        "\n",
        "- [2022-Task 2] 아포 : 경상북도 김천시 아포읍"
      ]
    },
    {
      "cell_type": "markdown",
      "metadata": {
        "id": "68xM6jF0ZchA"
      },
      "source": [
        "## 데이터 불러오기"
      ]
    },
    {
      "cell_type": "code",
      "execution_count": 1,
      "metadata": {
        "id": "zJnLWFhmMGG4"
      },
      "outputs": [],
      "source": [
        "import numpy as np\n",
        "import pandas as pd\n",
        "import seaborn as sns\n",
        "import matplotlib.pyplot as plt\n",
        "import warnings\n",
        "import pickle\n",
        "import random\n",
        "import math\n",
        "import os\n",
        "import gc\n",
        "\n",
        "import statsmodels.graphics.tsaplots as sgt\n",
        "\n",
        "from typing import Any, Dict, List, Optional, Tuple, Union\n",
        "from numpy.typing import NDArray\n",
        "from easydict import EasyDict\n",
        "\n",
        "from tqdm.auto import tqdm\n",
        "from glob import glob\n",
        "\n",
        "warnings.filterwarnings('ignore') "
      ]
    },
    {
      "cell_type": "code",
      "execution_count": 2,
      "metadata": {
        "colab": {
          "base_uri": "https://localhost:8080/"
        },
        "id": "GjvmmVOVMW_P",
        "outputId": "a3193f41-be54-4d32-a694-e31cd99b24a6"
      },
      "outputs": [
        {
          "output_type": "stream",
          "name": "stdout",
          "text": [
            "Mounted at /content/drive\n"
          ]
        }
      ],
      "source": [
        "from google.colab import drive\n",
        "\n",
        "drive.mount('/content/drive')  ## 구글코랩과 구글드라이브 연결"
      ]
    },
    {
      "cell_type": "code",
      "execution_count": 3,
      "metadata": {
        "colab": {
          "base_uri": "https://localhost:8080/"
        },
        "id": "eVxuuFzhM72P",
        "outputId": "3a13b3db-d09e-4d0c-a0b6-6299ecb70dc6"
      },
      "outputs": [
        {
          "output_type": "stream",
          "name": "stdout",
          "text": [
            "/content/drive/MyDrive/Colab Notebooks/농촌지역-수돗물-수요예측\n"
          ]
        }
      ],
      "source": [
        "%cd  /content/drive/MyDrive/Colab Notebooks/농촌지역-수돗물-수요예측"
      ]
    },
    {
      "cell_type": "markdown",
      "metadata": {
        "id": "MRrJ4A5RKC4B"
      },
      "source": [
        "- 데이터 불러오기"
      ]
    },
    {
      "cell_type": "code",
      "execution_count": 4,
      "metadata": {
        "id": "N7JdJZofCXED"
      },
      "outputs": [],
      "source": [
        "train_path = './data/data_tr_apo.csv'\n",
        "test_path = './data/data_ts_apo.csv'\n",
        "submission_path = './data/sample_apo.csv'"
      ]
    },
    {
      "cell_type": "code",
      "execution_count": 27,
      "metadata": {
        "id": "dl5XJ4wb7joA"
      },
      "outputs": [],
      "source": [
        "df = pd.read_csv(train_path)\n",
        "test = pd.read_csv(test_path)\n",
        "submission = pd.read_csv(submission_path)"
      ]
    },
    {
      "cell_type": "code",
      "execution_count": 28,
      "metadata": {
        "id": "TOJPBmADOWLF"
      },
      "outputs": [],
      "source": [
        "# 변수 이름을 영문으로 변경\n",
        "df = df.rename(columns={'구미 아포배수지 유출유량 적산차':'flow'})\n",
        "test = test.rename(columns={'구미 아포배수지 유출유량 적산차':'flow'})\n",
        "\n",
        "\n",
        "# 날짜를 datetime 형식으로 변경\n",
        "df['datetime'] = pd.to_datetime(df['datetime'])\n",
        "test['datetime'] = pd.to_datetime(test['datetime'])"
      ]
    },
    {
      "cell_type": "code",
      "source": [
        "test2 = test.copy()"
      ],
      "metadata": {
        "id": "G-uMAmgBKe70"
      },
      "execution_count": 29,
      "outputs": []
    },
    {
      "cell_type": "markdown",
      "metadata": {
        "id": "II2XMQAVsAQt"
      },
      "source": [
        "- 가중치 저장폴더"
      ]
    },
    {
      "cell_type": "code",
      "execution_count": 8,
      "metadata": {
        "id": "YnpAfBHMsCb1"
      },
      "outputs": [],
      "source": [
        "def create_folder(path: str) -> None:\n",
        "    try:\n",
        "        if not os.path.exists(path):\n",
        "            os.makedirs(path)\n",
        "    except OSError as error:\n",
        "        print(error)"
      ]
    },
    {
      "cell_type": "markdown",
      "metadata": {
        "id": "S16IL8xJR81a"
      },
      "source": [
        "- 데이터 설명\n",
        "\n",
        "`-` 유량: 단위시간 당 얼마만큼의 체적에 해당하는 액체가 이동했는지 나타냄 ($m^3/h$)\n",
        "\n",
        "`-` 적산값: 1시간마다 측정한 값이 계속 누적 (i.g. $100 \\xrightarrow{~+170~} 270 \\xrightarrow{~+150~} 420 \\xrightarrow{~+110~} 530$)  \n",
        "\n",
        "`-` 적산차값: 적산의 매시간 차이를 계산 ($\\approx$ 시간 단위 공급량,$\\quad$ i.g. $\\operatorname{NA},170, 150, 110$)"
      ]
    },
    {
      "cell_type": "markdown",
      "metadata": {
        "id": "C_dKoED1K0go"
      },
      "source": [
        "## 전처리\n",
        "\n",
        "`-` 데이터는 항상 시간상의 순서대로 존재해야 한다\n",
        "\n",
        "`-` 데이터에서 특정 시점의 적산차값이 결측치일 수도 있지만 특정 시점 자체가 누락되면 안된다 \n",
        "\n",
        "`-` 그래프에 추세는 없어보인다\n",
        "\n",
        "`-` 데이터에 결측치가 존재한다\n",
        "\n",
        "`-` 결측치는 계절성을 고려하여 전날 같은 시각의 적산차값으로 채워주자\n",
        "\n",
        "`-` 이상치가 존재한다 (예컨대 음수 또는 매우 큰 양수)\n",
        "\n",
        "`-` 로그 변환\n",
        "\n",
        "`-` 후처리는 반올림"
      ]
    },
    {
      "cell_type": "markdown",
      "metadata": {
        "id": "n9adsWRfyT_Y"
      },
      "source": [
        "- 이상치와 결측치 처리"
      ]
    },
    {
      "cell_type": "code",
      "execution_count": 30,
      "metadata": {
        "colab": {
          "base_uri": "https://localhost:8080/",
          "height": 286
        },
        "id": "H8s8AF0SxyzB",
        "outputId": "a7a48c54-38fd-4ab8-840c-da4ce7aa4c90"
      },
      "outputs": [
        {
          "output_type": "execute_result",
          "data": {
            "text/plain": [
              "<matplotlib.axes._subplots.AxesSubplot at 0x7fcadd16cc10>"
            ]
          },
          "metadata": {},
          "execution_count": 30
        },
        {
          "output_type": "display_data",
          "data": {
            "text/plain": [
              "<Figure size 432x288 with 1 Axes>"
            ],
            "image/png": "[encoded data removed]"
          },
          "metadata": {}
        }
      ],
      "source": [
        "df.query('0 < flow < 500').flow.plot.box()"
      ]
    },
    {
      "cell_type": "markdown",
      "metadata": {
        "id": "XOddn-B5Oq-c"
      },
      "source": [
        "`-` 100,000을 넘기는 매우 큰 값이 존재한다\n",
        "\n",
        "`-` 또한, 음수값도 존재하는데 이들은 모두 -100,000보다 작다\n",
        "\n",
        "`-` 위와 같은 경우는 계측기에 문제가 있는 것으로 보인다\n",
        "\n",
        "`-` 0인 경우도 존재한는데 계측기의 오류 또는 모종의 이유로 물이 흐르지 않은 것으로 보인다 (i.g. 배수지 청소로 인해 단수)\n",
        "\n",
        "`-` 이런 경우 적산차값만 사용해 예측하는 것은 불가능하므로 이상치로 처리하겠다  \n",
        "\n",
        "`-` 한편, 큰 양수의 경우 이상치의 기준은 300을 넘지 않는 값 중 최댓값으로 하겠다 (위의 box-plot에 기반함, IQR을 넘는 값들을 보면 300부터 절단되어 빈도수가 매우 작아짐)\n",
        "\n",
        "`-` 이상치와 결측치는 계절성을 고려하여 전날 같은 시각의 적산차값으로 대체하겠다"
      ]
    },
    {
      "cell_type": "code",
      "execution_count": 9,
      "metadata": {
        "id": "g8FoMs9hYhZA"
      },
      "outputs": [],
      "source": [
        "def fillna(time_series: pd.Series, m: int = 24) -> pd.Series:\n",
        "    \"\"\"m 시점 앞의 값으로 결측치를 재귀적으로 채우고 데이터를 반환\"\"\"\n",
        "    assert time_series.ndim == 1\n",
        "    time_series = time_series.copy()  # 원본이 변하지 않도록 복제 \n",
        "    na_idx = time_series[time_series.isnull()].index.values\n",
        "    fill_idx = na_idx - m  # m 시점 앞의 값으로 결측치를 채운다\n",
        "    fill_idx = np.where(fill_idx < 0, fill_idx + m, fill_idx)\n",
        "\n",
        "    if not na_idx.size:                  # 결측치가 존재하지 않으면 원본을 반환\n",
        "        return time_series\n",
        "    if np.in1d(fill_idx, na_idx).all():  # m 시점 앞의 값이 결측치면 원본을 반환\n",
        "        return time_series\n",
        "\n",
        "    time_series[na_idx] = time_series[fill_idx]\n",
        "    return fillna(time_series, m)"
      ]
    },
    {
      "cell_type": "code",
      "execution_count": 31,
      "metadata": {
        "id": "OCTJffl_zdp4"
      },
      "outputs": [],
      "source": [
        "# 이상치는 결측치로 처리한다\n",
        "tmp = df.flow[df.flow < 300].max()\n",
        "df['flow'] = df['flow'].apply(lambda x: x if 0 < x <= tmp else np.nan)\n",
        "test2['flow'] = test2['flow'].apply(lambda x: x if 0 < x <= tmp else np.nan)"
      ]
    },
    {
      "cell_type": "code",
      "execution_count": 32,
      "metadata": {
        "id": "7FiEFzqFJmbQ"
      },
      "outputs": [],
      "source": [
        "# 결측치는 계절성을 고려하여 전날 같은 시각의 적산차값으로 채운다 \n",
        "df['flow'] = fillna(df['flow']).fillna(method='ffill').fillna(0)\n",
        "test2['flow'] = fillna(test2['flow']).fillna(method='ffill').fillna(0)"
      ]
    },
    {
      "cell_type": "markdown",
      "metadata": {
        "id": "bvB62nkihj3a"
      },
      "source": [
        "## 시각화"
      ]
    },
    {
      "cell_type": "code",
      "execution_count": 33,
      "metadata": {
        "id": "V0EIo2-sFMK9"
      },
      "outputs": [],
      "source": [
        "sns.set_theme(style='white')"
      ]
    },
    {
      "cell_type": "code",
      "source": [
        "# 연도별 적산차의 분포\n",
        "df.assign(year = df.datetime.dt.year).\\\n",
        "groupby('year').flow.describe()"
      ],
      "metadata": {
        "colab": {
          "base_uri": "https://localhost:8080/",
          "height": 206
        },
        "id": "FCT68mm7ibpI",
        "outputId": "5b75cab6-b211-444a-87ed-b8778bc16d6a"
      },
      "execution_count": 34,
      "outputs": [
        {
          "output_type": "execute_result",
          "data": {
            "text/plain": [
              "       count        mean        std   min   25%   50%    75%    max\n",
              "year                                                               \n",
              "2017  8759.0   94.024775  39.571984   3.0  66.0  89.0  115.0  273.0\n",
              "2018  8760.0  102.328196  48.151006   4.0  68.0  93.0  113.0  296.0\n",
              "2019  8760.0   98.975000  48.606899  15.0  63.0  91.0  109.0  283.0\n",
              "2020  8784.0  101.714253  49.576752   4.0  64.0  94.0  113.0  273.0"
            ],
            "text/html": [
              "\n",
              "  <div id=\"df-9629aeb8-196f-41fd-b656-b1abe4dc2c38\">\n",
              "    <div class=\"colab-df-container\">\n",
              "      <div>\n",
              "<style scoped>\n",
              "    .dataframe tbody tr th:only-of-type {\n",
              "        vertical-align: middle;\n",
              "    }\n",
              "\n",
              "    .dataframe tbody tr th {\n",
              "        vertical-align: top;\n",
              "    }\n",
              "\n",
              "    .dataframe thead th {\n",
              "        text-align: right;\n",
              "    }\n",
              "</style>\n",
              "<table border=\"1\" class=\"dataframe\">\n",
              "  <thead>\n",
              "    <tr style=\"text-align: right;\">\n",
              "      <th></th>\n",
              "      <th>count</th>\n",
              "      <th>mean</th>\n",
              "      <th>std</th>\n",
              "      <th>min</th>\n",
              "      <th>25%</th>\n",
              "      <th>50%</th>\n",
              "      <th>75%</th>\n",
              "      <th>max</th>\n",
              "    </tr>\n",
              "    <tr>\n",
              "      <th>year</th>\n",
              "      <th></th>\n",
              "      <th></th>\n",
              "      <th></th>\n",
              "      <th></th>\n",
              "      <th></th>\n",
              "      <th></th>\n",
              "      <th></th>\n",
              "      <th></th>\n",
              "    </tr>\n",
              "  </thead>\n",
              "  <tbody>\n",
              "    <tr>\n",
              "      <th>2017</th>\n",
              "      <td>8759.0</td>\n",
              "      <td>94.024775</td>\n",
              "      <td>39.571984</td>\n",
              "      <td>3.0</td>\n",
              "      <td>66.0</td>\n",
              "      <td>89.0</td>\n",
              "      <td>115.0</td>\n",
              "      <td>273.0</td>\n",
              "    </tr>\n",
              "    <tr>\n",
              "      <th>2018</th>\n",
              "      <td>8760.0</td>\n",
              "      <td>102.328196</td>\n",
              "      <td>48.151006</td>\n",
              "      <td>4.0</td>\n",
              "      <td>68.0</td>\n",
              "      <td>93.0</td>\n",
              "      <td>113.0</td>\n",
              "      <td>296.0</td>\n",
              "    </tr>\n",
              "    <tr>\n",
              "      <th>2019</th>\n",
              "      <td>8760.0</td>\n",
              "      <td>98.975000</td>\n",
              "      <td>48.606899</td>\n",
              "      <td>15.0</td>\n",
              "      <td>63.0</td>\n",
              "      <td>91.0</td>\n",
              "      <td>109.0</td>\n",
              "      <td>283.0</td>\n",
              "    </tr>\n",
              "    <tr>\n",
              "      <th>2020</th>\n",
              "      <td>8784.0</td>\n",
              "      <td>101.714253</td>\n",
              "      <td>49.576752</td>\n",
              "      <td>4.0</td>\n",
              "      <td>64.0</td>\n",
              "      <td>94.0</td>\n",
              "      <td>113.0</td>\n",
              "      <td>273.0</td>\n",
              "    </tr>\n",
              "  </tbody>\n",
              "</table>\n",
              "</div>\n",
              "      <button class=\"colab-df-convert\" onclick=\"convertToInteractive('df-9629aeb8-196f-41fd-b656-b1abe4dc2c38')\"\n",
              "              title=\"Convert this dataframe to an interactive table.\"\n",
              "              style=\"display:none;\">\n",
              "        \n",
              "  <svg xmlns=\"http://www.w3.org/2000/svg\" height=\"24px\"viewBox=\"0 0 24 24\"\n",
              "       width=\"24px\">\n",
              "    <path d=\"M0 0h24v24H0V0z\" fill=\"none\"/>\n",
              "    <path d=\"M18.56 5.44l.94 2.06.94-2.06 2.06-.94-2.06-.94-.94-2.06-.94 2.06-2.06.94zm-11 1L8.5 8.5l.94-2.06 2.06-.94-2.06-.94L8.5 2.5l-.94 2.06-2.06.94zm10 10l.94 2.06.94-2.06 2.06-.94-2.06-.94-.94-2.06-.94 2.06-2.06.94z\"/><path d=\"M17.41 7.96l-1.37-1.37c-.4-.4-.92-.59-1.43-.59-.52 0-1.04.2-1.43.59L10.3 9.45l-7.72 7.72c-.78.78-.78 2.05 0 2.83L4 21.41c.39.39.9.59 1.41.59.51 0 1.02-.2 1.41-.59l7.78-7.78 2.81-2.81c.8-.78.8-2.07 0-2.86zM5.41 20L4 18.59l7.72-7.72 1.47 1.35L5.41 20z\"/>\n",
              "  </svg>\n",
              "      </button>\n",
              "      \n",
              "  <style>\n",
              "    .colab-df-container {\n",
              "      display:flex;\n",
              "      flex-wrap:wrap;\n",
              "      gap: 12px;\n",
              "    }\n",
              "\n",
              "    .colab-df-convert {\n",
              "      background-color: #E8F0FE;\n",
              "      border: none;\n",
              "      border-radius: 50%;\n",
              "      cursor: pointer;\n",
              "      display: none;\n",
              "      fill: #1967D2;\n",
              "      height: 32px;\n",
              "      padding: 0 0 0 0;\n",
              "      width: 32px;\n",
              "    }\n",
              "\n",
              "    .colab-df-convert:hover {\n",
              "      background-color: #E2EBFA;\n",
              "      box-shadow: 0px 1px 2px rgba(60, 64, 67, 0.3), 0px 1px 3px 1px rgba(60, 64, 67, 0.15);\n",
              "      fill: #174EA6;\n",
              "    }\n",
              "\n",
              "    [theme=dark] .colab-df-convert {\n",
              "      background-color: #3B4455;\n",
              "      fill: #D2E3FC;\n",
              "    }\n",
              "\n",
              "    [theme=dark] .colab-df-convert:hover {\n",
              "      background-color: #434B5C;\n",
              "      box-shadow: 0px 1px 3px 1px rgba(0, 0, 0, 0.15);\n",
              "      filter: drop-shadow(0px 1px 2px rgba(0, 0, 0, 0.3));\n",
              "      fill: #FFFFFF;\n",
              "    }\n",
              "  </style>\n",
              "\n",
              "      <script>\n",
              "        const buttonEl =\n",
              "          document.querySelector('#df-9629aeb8-196f-41fd-b656-b1abe4dc2c38 button.colab-df-convert');\n",
              "        buttonEl.style.display =\n",
              "          google.colab.kernel.accessAllowed ? 'block' : 'none';\n",
              "\n",
              "        async function convertToInteractive(key) {\n",
              "          const element = document.querySelector('#df-9629aeb8-196f-41fd-b656-b1abe4dc2c38');\n",
              "          const dataTable =\n",
              "            await google.colab.kernel.invokeFunction('convertToInteractive',\n",
              "                                                     [key], {});\n",
              "          if (!dataTable) return;\n",
              "\n",
              "          const docLinkHtml = 'Like what you see? Visit the ' +\n",
              "            '<a target=\"_blank\" href=https://colab.research.google.com/notebooks/data_table.ipynb>data table notebook</a>'\n",
              "            + ' to learn more about interactive tables.';\n",
              "          element.innerHTML = '';\n",
              "          dataTable['output_type'] = 'display_data';\n",
              "          await google.colab.output.renderOutput(dataTable, element);\n",
              "          const docLink = document.createElement('div');\n",
              "          docLink.innerHTML = docLinkHtml;\n",
              "          element.appendChild(docLink);\n",
              "        }\n",
              "      </script>\n",
              "    </div>\n",
              "  </div>\n",
              "  "
            ]
          },
          "metadata": {},
          "execution_count": 34
        }
      ]
    },
    {
      "cell_type": "code",
      "execution_count": 35,
      "metadata": {
        "colab": {
          "base_uri": "https://localhost:8080/",
          "height": 324
        },
        "id": "l3eOIr0N2P6f",
        "outputId": "817df524-57fa-4f59-e13c-97548d811c67"
      },
      "outputs": [
        {
          "output_type": "execute_result",
          "data": {
            "text/plain": [
              "<matplotlib.axes._subplots.AxesSubplot at 0x7fcb5517d610>"
            ]
          },
          "metadata": {},
          "execution_count": 35
        },
        {
          "output_type": "display_data",
          "data": {
            "text/plain": [
              "<Figure size 432x288 with 1 Axes>"
            ],
            "image/png": "[encoded data removed]"
          },
          "metadata": {}
        }
      ],
      "source": [
        "# 연도별 적산차의 분포\n",
        "df.assign(year = df.datetime.dt.year).boxplot(column='flow', by='year', grid=False)"
      ]
    },
    {
      "cell_type": "markdown",
      "metadata": {
        "id": "aIipbcAj1tNG"
      },
      "source": [
        "`-` 적산차의 경우 2017년과 나머지 연도는 다른 분포를 띄고있다 (평균과 분산이 더 커졌다)\n",
        "\n",
        "`-` 원인은 200을 넘어가는 큰 값의 빈도수에 있다 (배수지를 증설한 듯 하다)\n",
        "\n",
        "`-` 모델 훈련에 2017년 데이터를 사용하지 않는게 미래를 예측하는데 더 나을 수 있다"
      ]
    },
    {
      "cell_type": "code",
      "source": [
        "# 월별 적산차의 분포\n",
        "df.assign(month = df.datetime.dt.month).boxplot(column='flow', by='month', grid=False)"
      ],
      "metadata": {
        "colab": {
          "base_uri": "https://localhost:8080/",
          "height": 324
        },
        "id": "GlcUS87iVwOZ",
        "outputId": "acd6cee3-9e70-47e5-d7a2-aee1563c780b"
      },
      "execution_count": 36,
      "outputs": [
        {
          "output_type": "execute_result",
          "data": {
            "text/plain": [
              "<matplotlib.axes._subplots.AxesSubplot at 0x7fcadd554eb0>"
            ]
          },
          "metadata": {},
          "execution_count": 36
        },
        {
          "output_type": "display_data",
          "data": {
            "text/plain": [
              "<Figure size 432x288 with 1 Axes>"
            ],
            "image/png": "[encoded data removed]"
          },
          "metadata": {}
        }
      ]
    },
    {
      "cell_type": "markdown",
      "source": [
        "`-` 8월의 수돗물 수요가 평균적으로 가장 많다"
      ],
      "metadata": {
        "id": "AfxB2IRCtT5r"
      }
    },
    {
      "cell_type": "code",
      "source": [
        "# 일별 적산차의 분포\n",
        "df.assign(day = df.datetime.dt.day).boxplot(column='flow', by='day', grid=False)"
      ],
      "metadata": {
        "colab": {
          "base_uri": "https://localhost:8080/",
          "height": 324
        },
        "id": "gkIS4wXcWelh",
        "outputId": "a39ec641-91d5-4d57-c1b7-a416f9b051bb"
      },
      "execution_count": 37,
      "outputs": [
        {
          "output_type": "execute_result",
          "data": {
            "text/plain": [
              "<matplotlib.axes._subplots.AxesSubplot at 0x7fcadd2b0c10>"
            ]
          },
          "metadata": {},
          "execution_count": 37
        },
        {
          "output_type": "display_data",
          "data": {
            "text/plain": [
              "<Figure size 432x288 with 1 Axes>"
            ],
            "image/png": "[encoded data removed]"
          },
          "metadata": {}
        }
      ]
    },
    {
      "cell_type": "code",
      "source": [
        "# 시간별 적산차의 분포\n",
        "df.assign(hour = df.datetime.dt.hour).boxplot(column='flow', by='hour', grid=False)"
      ],
      "metadata": {
        "colab": {
          "base_uri": "https://localhost:8080/",
          "height": 324
        },
        "id": "F8UOXHCCWuNR",
        "outputId": "4a7e9825-defd-4dda-8e0e-06426d178372"
      },
      "execution_count": 38,
      "outputs": [
        {
          "output_type": "execute_result",
          "data": {
            "text/plain": [
              "<matplotlib.axes._subplots.AxesSubplot at 0x7fcadcea10a0>"
            ]
          },
          "metadata": {},
          "execution_count": 38
        },
        {
          "output_type": "display_data",
          "data": {
            "text/plain": [
              "<Figure size 432x288 with 1 Axes>"
            ],
            "image/png": "[encoded data removed]"
          },
          "metadata": {}
        }
      ]
    },
    {
      "cell_type": "code",
      "execution_count": 39,
      "metadata": {
        "colab": {
          "base_uri": "https://localhost:8080/",
          "height": 340
        },
        "id": "5lkHLhKReVPo",
        "outputId": "e1ac4ddf-4f50-47f4-b4c1-1d1c7a3fea15"
      },
      "outputs": [
        {
          "output_type": "execute_result",
          "data": {
            "text/plain": [
              "<matplotlib.axes._subplots.AxesSubplot at 0x7fcadcc611f0>"
            ]
          },
          "metadata": {},
          "execution_count": 39
        },
        {
          "output_type": "display_data",
          "data": {
            "text/plain": [
              "<Figure size 864x360 with 1 Axes>"
            ],
            "image/png": "[encoded data removed]"
          },
          "metadata": {}
        }
      ],
      "source": [
        "fig, ax = plt.subplots(figsize=(12, 5))\n",
        "sns.lineplot(data=df['flow'], ax=ax)"
      ]
    },
    {
      "cell_type": "code",
      "execution_count": 40,
      "metadata": {
        "colab": {
          "base_uri": "https://localhost:8080/",
          "height": 501
        },
        "id": "z08EvLmvIJv5",
        "outputId": "db199e6c-522a-424a-867d-e44e3be0068b"
      },
      "outputs": [
        {
          "output_type": "display_data",
          "data": {
            "text/plain": [
              "<Figure size 720x576 with 2 Axes>"
            ],
            "image/png": "[encoded data removed]"
          },
          "metadata": {}
        }
      ],
      "source": [
        "fig, (ax1, ax2) = plt.subplots(2, 1, figsize=(10, 8))\n",
        "sgt.plot_acf(df['flow'], lags = 100, ax=ax1);\n",
        "sgt.plot_pacf(df['flow'], lags = 100, ax=ax2);"
      ]
    },
    {
      "cell_type": "markdown",
      "metadata": {
        "id": "aQ0MbMTP593M"
      },
      "source": [
        "`-` 그래프에 2017년을 제외하면 추세는 존재하지 않고 강한 계절성이 존재한다\n",
        "\n",
        "`-` ACF, PACF의 정의에 따라 0시점 차이는 의미가 없으므로 무시한다\n",
        "\n",
        "`-` 계절성이 매우 강하다 (6시간, 18시간, 24시간, 1주, 1달, 1년 등)\n",
        "\n",
        "`-` 신기한 것은 12시점(12시간)차이의 경우 자기상관이 존재하지 않는다\n",
        "\n",
        "`-` 사이클(W 모양)이 대략 24시간 마다 반복되므로 최소 24시간 분량의 변수를 모델의 입력으로 사용해야 한다\n",
        "\n",
        "- 추가 설명\n",
        "\n",
        "`-`  hello 라는 단어를 생각해보자, 다음의 같은 사이클이 반복된다\n",
        "\n",
        "`-` h $\\to$ e, e $\\to$ l, l $\\to$ l, l $\\to$ o, o $\\to$ h \n",
        "\n",
        "`-` 만약 단어 하나만이 입력으로 주어진다면 l이 입력으로 들어왔을 때 다음에 오는 단어가 l인지 o인지 알 수 없다\n",
        "\n",
        "`-` 하지만 연속된 단어 두개가 입력으로 주어진다면 다음에 올 단어를 예측할 수 있다\n",
        "\n",
        "`-` 예컨대 ll 이면 o, lo 이면 h이다\n",
        "\n",
        "`-` 이는 적산차를 예측하는 문제에서도 마찬가지이다"
      ]
    },
    {
      "cell_type": "markdown",
      "source": [
        "- 고점 판단"
      ],
      "metadata": {
        "id": "J4mpIchKGpQR"
      }
    },
    {
      "cell_type": "markdown",
      "source": [
        "`-` 시각화하면 알 수 있는데 고점은 하루에 2번 나타난다 (9시 부근, 20시 부근, 나머지는 잡음으로 생각)"
      ],
      "metadata": {
        "id": "ZDb64B8GI5wg"
      }
    },
    {
      "cell_type": "code",
      "source": [
        "high_value = np.quantile(df['flow'].values, q=1-2/24)  # 하루에 고점은 2번 (시각화로 확인함)"
      ],
      "metadata": {
        "id": "P09Gy3guZdiu"
      },
      "execution_count": 41,
      "outputs": []
    },
    {
      "cell_type": "code",
      "source": [
        "df.assign(year = df.datetime.dt.year).query('year > 2017').\\\n",
        "assign(is_high = (df.flow > high_value).astype(int)).\\\n",
        "assign(hour = df.datetime.dt.hour).\\\n",
        "groupby('hour').agg(high_counts=('is_high', np.sum)).\\\n",
        "reset_index().plot.bar(x='hour', y='high_counts', rot=0)"
      ],
      "metadata": {
        "colab": {
          "base_uri": "https://localhost:8080/",
          "height": 303
        },
        "id": "D1zUSdYNYFz-",
        "outputId": "9006f2ff-926b-4656-b01e-19ff7798e27d"
      },
      "execution_count": 42,
      "outputs": [
        {
          "output_type": "execute_result",
          "data": {
            "text/plain": [
              "<matplotlib.axes._subplots.AxesSubplot at 0x7fcadcb0b310>"
            ]
          },
          "metadata": {},
          "execution_count": 42
        },
        {
          "output_type": "display_data",
          "data": {
            "text/plain": [
              "<Figure size 432x288 with 1 Axes>"
            ],
            "image/png": "[encoded data removed]"
          },
          "metadata": {}
        }
      ]
    },
    {
      "cell_type": "markdown",
      "source": [
        "`-` 모델 학습에서 가장 큰 문제점은 고점이 언제인지 판단하는 것이다\n",
        "\n",
        "`-` 고점이 언제 나타날지 불명확하기에 맞추기 어렵다\n",
        "\n",
        "`-` 고점을 틀렸을 때 손실을 생각하면 맞추지 않는게 낫기에 모델은 고점을 전혀 잡아내지 못한다\n",
        "\n",
        "`-` 즉, 모델은 고점을 잡음으로 취급한다"
      ],
      "metadata": {
        "id": "I6_sMr-OGF_J"
      }
    },
    {
      "cell_type": "markdown",
      "source": [
        "## 딥러닝 모델 학습"
      ],
      "metadata": {
        "id": "pbnHw9XBQ-Qr"
      }
    },
    {
      "cell_type": "code",
      "execution_count": 17,
      "metadata": {
        "id": "wHqcoMavJK1Q"
      },
      "outputs": [],
      "source": [
        "# !git clone https://github.com/ts-kim/RevIN.git"
      ]
    },
    {
      "cell_type": "code",
      "execution_count": 18,
      "metadata": {
        "id": "n8LBsMPybBJx"
      },
      "outputs": [],
      "source": [
        "import torch\n",
        "import torch.nn as nn\n",
        "import torch.optim as optim\n",
        "import torch.nn.functional as F\n",
        "from torch import Tensor\n",
        "from torch.utils.data import Dataset, DataLoader\n",
        "from torch.optim.lr_scheduler import _LRScheduler\n",
        "from torch.nn.modules.loss import _Loss\n",
        "from torch.optim import Optimizer\n",
        "from torch.autograd import Variable\n",
        "\n",
        "import sklearn\n",
        "from sklearn.preprocessing import MinMaxScaler\n",
        "from sklearn.model_selection import TimeSeriesSplit\n",
        "from sklearn.metrics import mean_absolute_error, mean_squared_error\n",
        "\n",
        "from RevIN.RevIN import RevIN"
      ]
    },
    {
      "cell_type": "markdown",
      "source": [
        "- base score"
      ],
      "metadata": {
        "id": "bXB8fwZ1vxtA"
      }
    },
    {
      "cell_type": "code",
      "source": [
        "tmp = df['flow'].values\n",
        "m = 48\n",
        "mean_absolute_error(tmp[m:], tmp[:-m])"
      ],
      "metadata": {
        "colab": {
          "base_uri": "https://localhost:8080/"
        },
        "id": "NzeGxpivvhFJ",
        "outputId": "c906fdee-8782-4d36-ac0e-473e64115466"
      },
      "execution_count": 43,
      "outputs": [
        {
          "output_type": "execute_result",
          "data": {
            "text/plain": [
              "26.555818934742252"
            ]
          },
          "metadata": {},
          "execution_count": 43
        }
      ]
    },
    {
      "cell_type": "code",
      "source": [
        "mean_absolute_error(df['flow'].values[m:], df['flow'].ewm(span=2).mean().values[:-m])"
      ],
      "metadata": {
        "colab": {
          "base_uri": "https://localhost:8080/"
        },
        "id": "RH1e5vC9wHx_",
        "outputId": "8de19a92-7bd9-408b-f4af-ce348c57da43"
      },
      "execution_count": 44,
      "outputs": [
        {
          "output_type": "execute_result",
          "data": {
            "text/plain": [
              "25.772675330276037"
            ]
          },
          "metadata": {},
          "execution_count": 44
        }
      ]
    },
    {
      "cell_type": "markdown",
      "metadata": {
        "id": "0k2BNfj7EAll"
      },
      "source": [
        "- 학습 방법\n",
        "\n",
        "`-` private 데이터는 2022-01-01-00:00:00 부터 존재할 것이다\n",
        "\n",
        "`-` public 데이터는 2021-12-17 23:00:00 까지 존재한다\n",
        "\n",
        "`-` 2021-12-17 23:00:00 에서 337시간 뒤는 2022-01-01 00:00:00 이다\n",
        "\n",
        "`-` 337시간 후의 적산차를 예측하는 모델을 만드는게 적합하지만 그러면 시간상의 차이가 많이 나서 성능이 떨어진다\n",
        "\n",
        "`-` 따라서 1시간 후의 적산차를 예측하는 모델을 만들고 존재하지 않는 시각의 정보는 예측한 정보로 대체하여 사용하겠다\n",
        "\n",
        "`-` 1시간 후의 적산차를 예측하기 위해 pacf 그래프에 근거해 24시간의 배수에 해당하는 분량을 사용하겠다\n",
        "\n",
        "`-` 사이클을 포함하는(24시간 이상) 시계열 중 24시간 차이가 나는 데이터간의 직접적인 상관관계가 가장 크다\n",
        "\n",
        "`-` 하나의 사이클을 포함하면서 과적합을 피하기 위해 336시간 분량을 사용하겠다"
      ]
    },
    {
      "cell_type": "markdown",
      "source": [
        "- 전처리"
      ],
      "metadata": {
        "id": "qU-JFQKOWKe_"
      }
    },
    {
      "cell_type": "code",
      "execution_count": 21,
      "metadata": {
        "id": "HGvNlbWPGnsq"
      },
      "outputs": [],
      "source": [
        "def ts_train2supervised(\n",
        "    ts: NDArray[np.float_], \n",
        "    window: int = 24,\n",
        "    gap: int = 1, \n",
        "    step: int = 336\n",
        ") -> Tuple[NDArray[np.float_], NDArray[np.float_]]:\n",
        "    assert ts.ndim == 2 and ts.shape[1] == 1\n",
        "    X, y = [], []\n",
        "    for t in range(len(ts) - (window+gap+step) + 2):\n",
        "        X.append(ts[t:t+window])\n",
        "        y.append(ts[t+window+gap-1 : t+window+gap+step-1])\n",
        "    X, y = np.array(X), np.array(y)  \n",
        "    return X, y"
      ]
    },
    {
      "cell_type": "markdown",
      "metadata": {
        "id": "ksSFOul4X4Kn"
      },
      "source": [
        "`-` 예측을 위해 train과 test를 병합 "
      ]
    },
    {
      "cell_type": "code",
      "execution_count": 22,
      "metadata": {
        "id": "7HYc-KVpX0df"
      },
      "outputs": [],
      "source": [
        "def ts_test2supervised(\n",
        "    ts: NDArray[np.float_], \n",
        "    window: int = 24\n",
        ") -> NDArray[np.float_]:\n",
        "    assert ts.ndim == 2 and ts.shape[1] == 1\n",
        "    X = []\n",
        "    for t in range(len(ts) - window + 1):\n",
        "        X.append(ts[t:t+window])\n",
        "    X = np.array(X)\n",
        "    return X"
      ]
    },
    {
      "cell_type": "markdown",
      "source": [
        "- 난수 고정, gpu 설정"
      ],
      "metadata": {
        "id": "vZNIkGjNWMMB"
      }
    },
    {
      "cell_type": "code",
      "execution_count": 23,
      "metadata": {
        "id": "v019psysRPs_"
      },
      "outputs": [],
      "source": [
        "def seed_everything(seed):\n",
        "    random.seed(seed)\n",
        "    os.environ['PYTHONHASHSEED'] = str(seed)\n",
        "    np.random.seed(seed)\n",
        "    torch.manual_seed(seed)\n",
        "    torch.cuda.manual_seed(seed)\n",
        "    torch.backends.cudnn.deterministic = True\n",
        "    torch.backends.cudnn.benchmark = False\n",
        "    # torch.backends.cudnn.enabled = False  # False 이면 재현이 가능하지만 매우 느려지므로 마지막에 사용하자"
      ]
    },
    {
      "cell_type": "code",
      "execution_count": 24,
      "metadata": {
        "id": "pWvI00B4QjAw"
      },
      "outputs": [],
      "source": [
        "def clear_gpu() -> None:\n",
        "    gc.collect()\n",
        "    torch.cuda.empty_cache()"
      ]
    },
    {
      "cell_type": "code",
      "execution_count": 25,
      "metadata": {
        "colab": {
          "base_uri": "https://localhost:8080/"
        },
        "id": "NF4nZggTCFrk",
        "outputId": "c9b2743b-df99-45cb-90db-fee09123d3f5"
      },
      "outputs": [
        {
          "output_type": "stream",
          "name": "stdout",
          "text": [
            "현재 device는 cuda입니다\n"
          ]
        }
      ],
      "source": [
        "DEVICE = torch.device('cuda' if torch.cuda.is_available() else 'cpu')\n",
        "print(f'현재 device는 {DEVICE}입니다')"
      ]
    },
    {
      "cell_type": "markdown",
      "metadata": {
        "id": "qDLcPXXlnMNp"
      },
      "source": [
        "- 피쳐 스케일링"
      ]
    },
    {
      "cell_type": "markdown",
      "metadata": {
        "id": "hTgXV10duoi9"
      },
      "source": [
        "`-` 0 ~ 1 사이로 정규화"
      ]
    },
    {
      "cell_type": "code",
      "execution_count": 45,
      "metadata": {
        "id": "mzutTB9enN9p"
      },
      "outputs": [],
      "source": [
        "minmax_scaler = MinMaxScaler()\n",
        "flow_scaled = minmax_scaler.fit_transform(df['flow'].values.reshape(-1, 1))  \n",
        "flow_scaled_test = minmax_scaler.transform(test2['flow'].values.reshape(-1, 1))   "
      ]
    },
    {
      "cell_type": "markdown",
      "metadata": {
        "id": "wBTn29ty8G60"
      },
      "source": [
        "- 데이터 셋과 데이터 로더"
      ]
    },
    {
      "cell_type": "code",
      "execution_count": 46,
      "metadata": {
        "id": "h2fyJFdrkPMw"
      },
      "outputs": [],
      "source": [
        "class CustomDataset(Dataset):\n",
        "    def __init__(self, X: NDArray[np.float_], y: Optional[NDArray[np.float_]] = None) -> None:\n",
        "        super(CustomDataset, self).__init__()\n",
        "        self.X = X\n",
        "        self.y = y\n",
        "\n",
        "    def __getitem__(self, idx: int) -> Union[Tuple[Tensor, Tensor], Tensor]:\n",
        "        X = torch.FloatTensor(self.X[idx])\n",
        "        if self.y is not None:\n",
        "            y = torch.FloatTensor(self.y[idx])\n",
        "            return X, y\n",
        "        return X\n",
        "\n",
        "    def __len__(self) -> int:\n",
        "        return self.X.shape[0]"
      ]
    },
    {
      "cell_type": "code",
      "execution_count": 47,
      "metadata": {
        "id": "Sh9y6n1z8OAc"
      },
      "outputs": [],
      "source": [
        "def get_dataloader(\n",
        "    X: NDArray[np.float_], \n",
        "    y: Optional[NDArray[np.float_]] = None, \n",
        "    batch_size: int = 64, \n",
        "    shuffle: bool = True\n",
        ") -> DataLoader:\n",
        "    dataset = CustomDataset(X, y)    \n",
        "    dataloader = DataLoader(dataset, batch_size=batch_size, shuffle=shuffle)\n",
        "    return dataloader"
      ]
    },
    {
      "cell_type": "markdown",
      "metadata": {
        "id": "8Zcka8vB9vVd"
      },
      "source": [
        "- early stopping"
      ]
    },
    {
      "cell_type": "code",
      "execution_count": 48,
      "metadata": {
        "id": "GThXBWqi7NE1"
      },
      "outputs": [],
      "source": [
        "# ref: https://github.com/Bjarten/early-stopping-pytorch/blob/master/pytorchtools.py\n",
        "class EarlyStopping:\n",
        "    \"\"\"주어진 patience 횟수 이후로 validation score가 개선되지 않으면 학습을 조기 중단\"\"\"\n",
        "    mode_dict = {'min':-1, 'max':1}\n",
        "    score_metrics = [\n",
        "        'accuracy',\n",
        "        'f1_score',\n",
        "        'mae',\n",
        "    ]\n",
        "\n",
        "    def __init__(\n",
        "        self, \n",
        "        patience: int = 7, \n",
        "        monitor: str = 'loss', \n",
        "        mode: str = 'min', \n",
        "        min_delta: float = 0.0, \n",
        "        folder_path: str = './weights', \n",
        "        model_name: str = '',\n",
        "    ) -> None:\n",
        "        self.patience = patience\n",
        "        self.counter = 0\n",
        "        self.mode = mode\n",
        "        self.direction = self.mode_dict[mode]\n",
        "        self.monitor = monitor\n",
        "        self.best_score = -np.Inf\n",
        "        self.valid_loss = np.Inf\n",
        "        self.valid_metric_score = None  # 평가지표 (i.g. accuracy)\n",
        "        self.early_stop = False\n",
        "        self.min_delta = min_delta\n",
        "        self.folder_path = folder_path    \n",
        "        self.model_name = model_name\n",
        "        self.reset_fold()  # for k-fold cross validation\n",
        "\n",
        "    def __call__(\n",
        "        self, \n",
        "        model: nn.Module, \n",
        "        valid_loss: float, \n",
        "        valid_metric_score: Optional[float] = None\n",
        "    ) -> None:\n",
        "        # score는 클수록 좋다\n",
        "        if self.monitor == 'loss':\n",
        "            score = valid_loss * self.direction\n",
        "        elif self.monitor in self.score_metrics:\n",
        "            score = valid_metric_score * self.direction\n",
        "        else:\n",
        "            score = None\n",
        "\n",
        "        # score가 개선되었는지 확인\n",
        "        if score <= self.best_score + self.min_delta: \n",
        "            self.counter += 1 \n",
        "            if self.counter > self.patience:  # 만약 score가 개선되지 않은 에폭이 patience 횟수보다 크다면 조기 중단\n",
        "                self.early_stop = True\n",
        "        else: \n",
        "            self.best_score = score \n",
        "            self.save_checkpoint(model, valid_loss, valid_metric_score) \n",
        "            self.counter = 0  # score가 개선되었으므로 0으로 변경\n",
        "\n",
        "    def save_checkpoint(\n",
        "        self, \n",
        "        model: nn.Module, \n",
        "        valid_loss: float, \n",
        "        valid_metric_score: Optional[float] = None\n",
        "    ) -> None:\n",
        "        \"\"\"validation score가 개선되면 모델을 저장\"\"\"\n",
        "        torch.save(model.state_dict(), self.path) \n",
        "        self.valid_loss = valid_loss  # 모델이 더 좋게 갱신되었으므로 이때의 valid loss를 기준치로 변경\n",
        "        self.valid_metric_score = valid_metric_score  # 이때의 valid metric score도 변경\n",
        "\n",
        "    @property\n",
        "    def path(self) -> str:\n",
        "        return f'{self.folder_path}/{self.model_name}_best_{self.fold}.pt'\n",
        "\n",
        "    def reset_fold(self) -> None:\n",
        "        self.fold = 0\n",
        "\n",
        "    def update_fold(self) -> None:\n",
        "        self.fold += 1\n",
        "\n",
        "    def reset_score(self) -> None:\n",
        "        \"\"\"다음 fold 학습을 위해 score 관련 파라미터를 초기화\"\"\"\n",
        "        self.counter = 0\n",
        "        self.best_score = -np.Inf\n",
        "        self.valid_loss = np.Inf\n",
        "        self.valid_metric_score = None\n",
        "        self.early_stop = False"
      ]
    },
    {
      "cell_type": "markdown",
      "metadata": {
        "id": "Kd-RlDPrAvyT"
      },
      "source": [
        "- 손실 함수"
      ]
    },
    {
      "cell_type": "code",
      "execution_count": 89,
      "metadata": {
        "id": "PvuxFxaFAwwD"
      },
      "outputs": [],
      "source": [
        "loss_fn = nn.L1Loss()"
      ]
    },
    {
      "cell_type": "markdown",
      "source": [
        "- 학습 및 검증"
      ],
      "metadata": {
        "id": "ixIZ19boV4tq"
      }
    },
    {
      "cell_type": "code",
      "execution_count": 49,
      "metadata": {
        "id": "3TYzo_fJAdd0"
      },
      "outputs": [],
      "source": [
        "def train(\n",
        "    model: nn.Module,\n",
        "    dataloader: DataLoader, \n",
        "    device: torch.device,\n",
        "    args: EasyDict,\n",
        "    loss_fn: _Loss, \n",
        "    optimizer: Optimizer, \n",
        "    scheduler: Optional[_LRScheduler] = None\n",
        ") -> Tuple[nn.Module, float]:\n",
        "    \"\"\"dataloader의 데이터로 모델을 학습시킨 후 학습된 모델과 평균 배치 훈련 오차를 반환\"\"\"  \n",
        "    train_loss = 0.0\n",
        "    model.to(device)\n",
        "    model.train()\n",
        "    scaler = torch.cuda.amp.GradScaler()\n",
        "\n",
        "    for X, y in dataloader:  \n",
        "        X, y = X.to(device), y.to(device) \n",
        "        with torch.cuda.amp.autocast():\n",
        "            y_hat = model(X)\n",
        "            y_hat = y_hat[:, :, 0]\n",
        "            loss = loss_fn(y_hat, y)  \n",
        "\n",
        "        optimizer.zero_grad()  \n",
        "        scaler.scale(loss).backward()\n",
        "        scaler.unscale_(optimizer)\n",
        "        torch.nn.utils.clip_grad_norm_(model.parameters(), max_norm=args.max_norm)\n",
        "        scaler.step(optimizer)\n",
        "        scaler.update()\n",
        "        train_loss += (loss.item() / len(dataloader)) \n",
        "  \n",
        "    # 에폭마다 학습률 조절\n",
        "    if scheduler is not None:\n",
        "        scheduler.step()\n",
        "        \n",
        "    return model, train_loss"
      ]
    },
    {
      "cell_type": "code",
      "execution_count": 50,
      "metadata": {
        "id": "fVZDILgmAnfl"
      },
      "outputs": [],
      "source": [
        "def evaluate(\n",
        "    model: nn.Module, \n",
        "    dataloader: DataLoader, \n",
        "    device: torch.device,\n",
        "    args: EasyDict,\n",
        "    loss_fn: _Loss\n",
        ") -> Tuple[float, float]:\n",
        "    \"\"\"dataloader의 데이터를 모델이 평가한 후 평균 배치 검증 오차와 ACD f1 score를 반환\"\"\"\n",
        "    valid_loss = 0.0\n",
        "    y_list, yhat_list = np.array([]).reshape(0, args.num_classes), np.array([]).reshape(0, args.num_classes)\n",
        "    model.to(device)\n",
        "    model.eval()  \n",
        "\n",
        "    with torch.no_grad():  \n",
        "        for X, y in dataloader:  \n",
        "            X, y = X.to(device), y.to(device) \n",
        "            with torch.cuda.amp.autocast():\n",
        "                y_hat = model(X)\n",
        "                y_hat = y_hat[:, :, 0]\n",
        "                loss = loss_fn(y_hat, y)\n",
        "                  \n",
        "            y = y.detach().cpu().numpy()  # y shape: (B, 336)\n",
        "            y_hat = y_hat.detach().cpu().numpy()  # yhat shape: (B, 336)\n",
        "            y_list = np.concatenate([y_list, minmax_scaler.inverse_transform(y)])\n",
        "            yhat_list = np.concatenate([yhat_list, minmax_scaler.inverse_transform(y_hat)])\n",
        "            valid_loss += (loss.item() / len(dataloader))\n",
        "\n",
        "    valid_mae = mean_absolute_error(y_list, yhat_list)        \n",
        "    return valid_loss, valid_mae"
      ]
    },
    {
      "cell_type": "code",
      "execution_count": 243,
      "metadata": {
        "id": "aqXGOMVTAp0V"
      },
      "outputs": [],
      "source": [
        "def kfold_cross_validate(\n",
        "    model: nn.Module, \n",
        "    X: NDArray[np.float_],\n",
        "    y: NDArray[np.float_],\n",
        "    loss_fn: _Loss, \n",
        "    early_stopping: EarlyStopping,\n",
        "    device: torch.device,\n",
        "    args: EasyDict \n",
        ") -> Tuple[nn.Module, List[List[float]], List[List[float]]]:\n",
        "    \"\"\"K겹 교차검증을 통해 모델의 성능을 평가하고 학습된 모델과 폴드별 훈련 손실, 검증 손실을 반환\"\"\"\n",
        "    seed_everything(args.seed)   # 정확한 재현을 위함\n",
        "    fold_valid_loss = []         # 폴드별 best 검증 손실\n",
        "    fold_valid_mae = []          # 폴드별 best 검증 MAE\n",
        "    fold_train_losses_per_epoch = [[] for _ in range(args.num_folds)]  # 폴드별 1 에폭에 따른 훈련 배치 손실\n",
        "    fold_valid_losses_per_epoch = [[] for _ in range(args.num_folds)]  # 폴드별 1 에폭에 따른 검증 배치 손실\n",
        "    early_stopping.reset_fold()  # 폴드 순서 0 번째로 초기화\n",
        "    tscv = TimeSeriesSplit(n_splits=args.num_folds)     \n",
        "\n",
        "    for fold, (train_idx, val_idx) in enumerate(tscv.split(X)):\n",
        "        print(f'[{fold + 1} / {args.num_folds}] Fold Training......')\n",
        "\n",
        "        # 메모리 절약\n",
        "        clear_gpu()\n",
        "\n",
        "        # 훈련 데이터와 검증 데이터로 분할\n",
        "        X_train, y_train = X[train_idx], y[train_idx] \n",
        "        X_val, y_val =  X[val_idx], y[val_idx]\n",
        "\n",
        "        # Dataloader\n",
        "        train_dataloader = get_dataloader(X_train, y_train, args.bs)\n",
        "        valid_dataloader = get_dataloader(X_val, y_val, args.bs, shuffle=False)\n",
        "\n",
        "        # optimizer\n",
        "        optimizer = optim.AdamW(model.parameters(), lr=args.lr, weight_decay=args.weight_decay) \n",
        "\n",
        "        # scheduler\n",
        "        scheduler = optim.lr_scheduler.ExponentialLR(optimizer, gamma=args.lr_gamma)\n",
        "\n",
        "        # early stopping, 다음 폴드 학습을 위해 score 관련 파라미터 초기화\n",
        "        early_stopping.reset_score()\n",
        "        early_stopping.update_fold()  \n",
        "        \n",
        "        # 폴드마다 모델 학습\n",
        "        for epoch in tqdm(range(1, args.num_epochs+1)):  # (배치사이즈 X 에폭) 만큼 훈련시킴           \n",
        "            model, train_loss = train(model, train_dataloader, device, args, loss_fn, optimizer, scheduler)  # 모델 학습\n",
        "            valid_loss, valid_mae = evaluate(model, valid_dataloader, device, args, loss_fn)  # 모델 평가\n",
        "            fold_train_losses_per_epoch[fold].append(train_loss) \n",
        "            fold_valid_losses_per_epoch[fold].append(valid_loss)  \n",
        "\n",
        "            print_score_condition = (epoch == 1 or epoch % 10 == 0 or epoch == args.num_epochs)  \n",
        "            score_information = f'[Epoch: {epoch:>2}]  train loss = {train_loss:.5f}  valid loss = {valid_loss:.5f}  valid MAE = {valid_mae:.5f}'\n",
        "\n",
        "            # 평균 배치 훈련 오차와 검증 오차 출력\n",
        "            if print_score_condition:  \n",
        "                print(score_information)  \n",
        "                \n",
        "            # 에폭마다 early stopping 실행\n",
        "            early_stopping(model, valid_loss, valid_mae)  \n",
        "            if early_stopping.early_stop: \n",
        "                if not print_score_condition:  # 이미 출력한 에폭에 대해 중복으로 출력하지 않기 위함\n",
        "                    print(score_information) \n",
        "                print('Early Stopping!')\n",
        "                break \n",
        "\n",
        "        fold_valid_loss.append(early_stopping.valid_loss)  # 폴드별 best 검증 손실\n",
        "        fold_valid_mae.append(early_stopping.valid_metric_score)   # 폴드별 best 검증 MAE\n",
        "\n",
        "        # 폴드 학습 및 검증 종료시 가장 작은 검증 손실과 매트릭 스코어를 출력\n",
        "        print(f'{fold + 1} Fold -> Best Valid Loss: {early_stopping.valid_loss:.5f} Valid MAE: {early_stopping.valid_metric_score:.5f}', end='\\n\\n')\n",
        "      \n",
        "    ## 폴드별 가장 손실이 작은 모델의 평균 검증 손실과 이때의 평균 매트릭 스코어를 출력\n",
        "    print(f'{args.num_folds} Fold Mean Valid Best Loss: {np.mean(fold_valid_loss):.5f}')\n",
        "    print(f'{args.num_folds} Fold Mean Valid Accuracy: {np.mean(fold_valid_mae):.5f}')\n",
        "    return model, fold_train_losses_per_epoch, fold_valid_losses_per_epoch"
      ]
    },
    {
      "cell_type": "markdown",
      "metadata": {
        "id": "pWYLU7_oUqRA"
      },
      "source": [
        "- 에폭에 따른 손실의 변화"
      ]
    },
    {
      "cell_type": "code",
      "execution_count": 53,
      "metadata": {
        "id": "FbH8KhGHTVgA"
      },
      "outputs": [],
      "source": [
        "def show_loss_plot(\n",
        "    fold_train_losses: List[List[float]],\n",
        "    fold_valid_losses: List[List[float]]\n",
        ") -> None:\n",
        "    \"\"\"폴드별로 에폭에 따른 모델의 훈련 손실과 검증 손실의 변화를 시각화\"\"\"\n",
        "    assert len(fold_train_losses) == len(fold_valid_losses)\n",
        "    num_folds = len(fold_train_losses)\n",
        "    ncols = 3\n",
        "    nrows = 1 + (num_folds - 1)//ncols\n",
        "    fig, axes = plt.subplots(nrows, ncols, figsize=(ncols*4, nrows*4)) \n",
        "\n",
        "    # 폴드마다 에폭에 따른 훈련 손실과 검증 손실의 변화를 시각화\n",
        "    for fold, (ax, train_losses, valid_losses) in enumerate(zip(axes.flatten(), fold_train_losses, fold_valid_losses), start=1):\n",
        "        assert len(train_losses) == len(valid_losses) \n",
        "        if fold > num_folds:\n",
        "            break\n",
        "\n",
        "        num_epochs = len(train_losses)\n",
        "        ax.set_title(f'{fold} Fold')\n",
        "        ax.plot(range(1, num_epochs+1), train_losses, label='Train')\n",
        "        ax.plot(range(1, num_epochs+1), valid_losses, label='Valid')\n",
        "        ax.set_xlabel('Epoch')\n",
        "        ax.set_ylabel('Loss')\n",
        "        ax.legend()\n",
        "\n",
        "    fig.suptitle('Train Loss and Valid Loss', x=0.51, y=1.05, fontsize=15)\n",
        "    fig.tight_layout()\n",
        "\n",
        "    # 남는 서브 플랏 제거\n",
        "    for ax in axes.flatten():\n",
        "        if not ax.has_data():\n",
        "            fig.delaxes(ax)"
      ]
    },
    {
      "cell_type": "markdown",
      "source": [
        "- Test 예측"
      ],
      "metadata": {
        "id": "czEnyW8-RuuB"
      }
    },
    {
      "cell_type": "code",
      "execution_count": 54,
      "metadata": {
        "id": "QYwPFyu3jq2X"
      },
      "outputs": [],
      "source": [
        "def predict(\n",
        "    model: nn.Module, \n",
        "    X: NDArray[np.float_],\n",
        "    device: torch.device,\n",
        "    args: EasyDict\n",
        ") -> Tensor:   \n",
        "    weight_paths = glob(args.weight_folder_path + '/*.pt')\n",
        "    dataloader = get_dataloader(X, shuffle=False)\n",
        "    test_preds = torch.zeros(len(dataloader.dataset), args.num_classes)  \n",
        "    num_folds = len([weight_path for weight_path in weight_paths if args.model_name in weight_path])\n",
        "     \n",
        "    for weight_path in tqdm(weight_paths):\n",
        "        if args.model_name not in weight_path:\n",
        "            continue\n",
        "            \n",
        "        preds = np.array([]).reshape(0, args.num_classes)\n",
        "        model.load_state_dict(torch.load(weight_path, map_location=device))\n",
        "        model.to(device)\n",
        "        model.eval()\n",
        "\n",
        "        with torch.no_grad(): \n",
        "            for X in dataloader:  # test 데이터는 라벨(y)이 없다\n",
        "                X = X.to(device)  # shape of X: (Batch, Sequence, Feature)\n",
        "                y_hat = model(X).detach().cpu().squeeze(2).numpy()  # shape of yhat: (Batch, Class)\n",
        "                preds = np.concatenate([preds, y_hat]) \n",
        "\n",
        "        test_preds += (preds / num_folds) \n",
        "    return test_preds     "
      ]
    },
    {
      "cell_type": "markdown",
      "source": [
        "- 후처리\n",
        "\n",
        "`-` 훈련 데이터를 보면 적산차값이 모두 정수형이다\n",
        "\n",
        "`-` 예측값도 반올림하여 정수로 만들어주겠다\n",
        "\n",
        "`-` 최솟값과 최댓값을 제한"
      ],
      "metadata": {
        "id": "32lGyi98VsOE"
      }
    },
    {
      "cell_type": "code",
      "source": [
        "MAX = df['flow'].values.max()\n",
        "MIN = df['flow'].values.min()"
      ],
      "metadata": {
        "id": "XtkEbf0aXVrA"
      },
      "execution_count": 55,
      "outputs": []
    },
    {
      "cell_type": "code",
      "source": [
        "def postprocessing(pred: NDArray[np.float_], minimum: float, maximum: float) -> NDArray[np.float_]:\n",
        "    pred = np.clip(pred, minimum, maximum)\n",
        "    pred = np.round(pred)\n",
        "    return pred"
      ],
      "metadata": {
        "id": "ljuUBoGLWb0G"
      },
      "execution_count": 56,
      "outputs": []
    },
    {
      "cell_type": "markdown",
      "metadata": {
        "id": "hiQylcQBg6Rs"
      },
      "source": [
        "### LSTM 모델 학습"
      ]
    },
    {
      "cell_type": "markdown",
      "metadata": {
        "id": "miXCkgdyROMY"
      },
      "source": [
        "#### 모델 학습 준비"
      ]
    },
    {
      "cell_type": "code",
      "execution_count": 261,
      "metadata": {
        "id": "hWjTbSt88Zp1"
      },
      "outputs": [],
      "source": [
        "lstm_args = EasyDict({\n",
        "    'weight_folder_path':'./weights',\n",
        "    'model_name':'lstm',\n",
        "    'window':96,\n",
        "    'gap':1,\n",
        "    'num_classes':336,\n",
        "    'num_epochs':100,\n",
        "    'num_folds':5,\n",
        "    'bs':512,\n",
        "    'lr':2e-3,\n",
        "    'lr_gamma':0.97,\n",
        "    'weight_decay':1e-2,\n",
        "    'max_norm':1.0,\n",
        "    'seed':2022,\n",
        "})"
      ]
    },
    {
      "cell_type": "code",
      "execution_count": 236,
      "metadata": {
        "id": "kQzTwX5w99dk"
      },
      "outputs": [],
      "source": [
        "create_folder(lstm_args.weight_folder_path)"
      ]
    },
    {
      "cell_type": "markdown",
      "metadata": {
        "id": "defexgRJ8B_E"
      },
      "source": [
        "- 데이터 생성"
      ]
    },
    {
      "cell_type": "code",
      "execution_count": 237,
      "metadata": {
        "id": "nPGsiX_ZovQA"
      },
      "outputs": [],
      "source": [
        "Xs, ys = ts_train2supervised(flow_scaled, window=lstm_args.window, gap=lstm_args.gap, step=lstm_args.num_classes)  # s == scaled\n",
        "Xs, ys = Xs[24*365:], ys[24*365:]  # 2017년 제거\n",
        "ys = ys.squeeze(2)"
      ]
    },
    {
      "cell_type": "markdown",
      "metadata": {
        "id": "B53DxlV8BHCE"
      },
      "source": [
        "#### 모델 학습 및 검증"
      ]
    },
    {
      "cell_type": "code",
      "execution_count": 238,
      "metadata": {
        "id": "kmPZ-LAhTK4P"
      },
      "outputs": [],
      "source": [
        "# 참고: https://pytorch.org/docs/stable/generated/torch.nn.LSTM.html\n",
        "# 참고할 것: https://teddylee777.github.io/pytorch/pytorch-rnn\n",
        "# input of shape (batch, sequence, feature(=input size)) \n",
        "class LSTMModel(nn.Module):\n",
        "    def __init__(self, input_size=1, hidden_size=256, num_layers=4, num_classes=336, dropout_prob=0.1):\n",
        "        super(LSTMModel, self).__init__()\n",
        "        self.lstm = nn.LSTM(input_size, hidden_size, num_layers, batch_first=True, dropout=dropout_prob)\n",
        "        self.fc = nn.Linear(hidden_size, num_classes)\n",
        "        self.revin_layer = RevIN(input_size)  # 시간에 따라 변하는 시계열의 평균과 분산을 스케일링\n",
        "\n",
        "    def forward(self, x):  # shape of x: (Batch, Sequence, Feature)\n",
        "        x = self.revin_layer(x, 'norm')\n",
        "        x, _ = self.lstm(x)  # h_0, c_0 기본값은 0으로 채워진 텐서\n",
        "        x = self.fc(x[:, -1, :])  \n",
        "        x = x.unsqueeze(2)\n",
        "        x = self.revin_layer(x, 'denorm')\n",
        "        return x"
      ]
    },
    {
      "cell_type": "code",
      "execution_count": 257,
      "metadata": {
        "id": "5G_xoCI49yLE"
      },
      "outputs": [],
      "source": [
        "early_stopping = EarlyStopping(patience=20,\n",
        "                               monitor='mae',\n",
        "                               mode='min',\n",
        "                               folder_path=lstm_args.weight_folder_path,\n",
        "                               model_name=lstm_args.model_name)"
      ]
    },
    {
      "cell_type": "code",
      "execution_count": 368,
      "metadata": {
        "id": "U5mefyHqRWIK"
      },
      "outputs": [],
      "source": [
        "seed_everything(lstm_args.seed)\n",
        "model = LSTMModel(input_size=1, hidden_size=512, num_layers=2, num_classes=lstm_args.num_classes, dropout_prob=0.5).to(DEVICE)"
      ]
    },
    {
      "cell_type": "code",
      "source": [
        "model, fold_train_losses_per_epoch, fold_valid_losses_per_epoch = kfold_cross_validate(model, Xs, ys, loss_fn, \n",
        "                                                                                       early_stopping, DEVICE, lstm_args)"
      ],
      "metadata": {
        "colab": {
          "base_uri": "https://localhost:8080/",
          "height": 1000,
          "referenced_widgets": [
            "89be5549a0d545e4b85a458fe8aa551c",
            "a89edbcda29b47d6902af88c3f12e382",
            "d4ccad0c8c40443a83bdec788c887fa4",
            "f89b35e91be0490ea12fe90a5be44776",
            "4d1c3b6435f84e6e881e5142950d53af",
            "199ee8fb1cb948589562dafe17c0bc89",
            "a35e8a97224b4ff5ae70677d711a1496",
            "888bc64df01349798c339c3be9c6b64d",
            "30f7a57f8f1d4d259a4e7ad0198a5654",
            "0716b2f71386458b87732ab659f6088d",
            "9351e4a514c04595b2d9ac4a1adf90e0",
            "1801e91d941e4d4cb5a699950db545f1",
            "a14aebd413a447a590b1d8f656cc494e",
            "0d64accc56ad4fe6920050e231381a08",
            "5594369ff69f4e78adabc0d014442fb2",
            "ee156df2e52d48249a2ff44422cdee62",
            "9217ed146c01443382259fa7816f324d",
            "294554df394d47cfb2cfa789188cd090",
            "bcba570395c24288a1d1543f458b24b2",
            "ca9a91dd194a47e5b31f7d6c57e6c99a",
            "1d0d1538baa84c199830c9420c55cd5a",
            "544c2bfc8d664fc9a5bb2281dad4de96",
            "b58e4c001dcb4e678b5b17fb136a9b45",
            "cec5930e98a748779e274ed4e3d61056",
            "5bd2145b664c4cc59a118672599c103b",
            "083501dd384c4163997466e3a17a7d42",
            "1d32a3371d7744459590c5378935ea8e",
            "5dd03bb4ed1446d3abdebbbd961b4738",
            "32480f5d9e514d60afb3b059db6aa9d6",
            "0c8ddacc94044c4cb231101511ae5633",
            "e3e84e46b54b4d76b01ba28fde1727fd",
            "0ecc650858ca49639a4348045685bfbe",
            "d28469c26c0244ef9085bca759544887",
            "434b99555f224c16accc8f2a522dceba",
            "5e8124c523cd474fa4341efc3a7c44df",
            "35a1f3b4b4ff4614ac5d7cfd7f98f493",
            "ecc62f7bc2a34488bc7f04bb70675e0a",
            "42f6c068c5d34c2e8d42e822db9b1865",
            "8bffef46fd334c799285e46a7388deec",
            "b613aa24d6684f5b8b52cf31f627a7cf",
            "4f1a3f04061c4fa1b0d1454d74a08056",
            "86ed09bd62be4d02b4ddfc365153a8c6",
            "1ffa283387f842c2a5b660d8eee69454",
            "aac3034818d3497db60d8bb73616bb4b",
            "a1f857239e114cdeb272d2af4dd923c1",
            "33abe544889241ba86a21b26d3df123c",
            "1e3629024cb9499e8f4ee3e41e5b0b5e",
            "20cec4b0a9e84f7f888e46738d0c704b",
            "c104b4b50b4a42bfa18cb314d5633813",
            "6ee2588d200440ec891c6f30fadaf1af",
            "104ba9263c414962a52d500b225e690e",
            "ee93f52a43d149a3ab2d8c2ea441e200",
            "9785a973d9c64927bd00f810b989aa36",
            "559f85f6c31f4e239b03e14e8226765e",
            "6ec9604d432e4f4e972024b24dbd485a"
          ]
        },
        "id": "Yql6UR-aK8rb",
        "outputId": "80273f69-318d-4c76-9996-6ece074aa980"
      },
      "execution_count": 267,
      "outputs": [
        {
          "output_type": "stream",
          "name": "stdout",
          "text": [
            "[1 / 5] Fold Training......\n"
          ]
        },
        {
          "output_type": "display_data",
          "data": {
            "text/plain": [
              "  0%|          | 0/100 [00:00<?, ?it/s]"
            ],
            "application/vnd.jupyter.widget-view+json": {
              "version_major": 2,
              "version_minor": 0,
              "model_id": "89be5549a0d545e4b85a458fe8aa551c"
            }
          },
          "metadata": {}
        },
        {
          "output_type": "stream",
          "name": "stdout",
          "text": [
            "[Epoch:  1]  train loss = 0.11296  valid loss = 0.11915  valid MAE = 35.16762\n",
            "[Epoch: 10]  train loss = 0.07790  valid loss = 0.07932  valid MAE = 23.35435\n",
            "[Epoch: 20]  train loss = 0.07540  valid loss = 0.07685  valid MAE = 22.58394\n",
            "[Epoch: 30]  train loss = 0.07454  valid loss = 0.07650  valid MAE = 22.46643\n",
            "[Epoch: 40]  train loss = 0.07419  valid loss = 0.07588  valid MAE = 22.29022\n",
            "[Epoch: 50]  train loss = 0.07361  valid loss = 0.07547  valid MAE = 22.17316\n",
            "[Epoch: 60]  train loss = 0.07334  valid loss = 0.07514  valid MAE = 22.07809\n",
            "[Epoch: 70]  train loss = 0.07293  valid loss = 0.07535  valid MAE = 22.14780\n",
            "[Epoch: 80]  train loss = 0.07249  valid loss = 0.07560  valid MAE = 22.21990\n",
            "[Epoch: 86]  train loss = 0.07230  valid loss = 0.07541  valid MAE = 22.16664\n",
            "Early Stopping!\n",
            "1 Fold -> Best Valid Loss: 0.07504 Valid MAE: 22.05096\n",
            "\n",
            "[2 / 5] Fold Training......\n"
          ]
        },
        {
          "output_type": "display_data",
          "data": {
            "text/plain": [
              "  0%|          | 0/100 [00:00<?, ?it/s]"
            ],
            "application/vnd.jupyter.widget-view+json": {
              "version_major": 2,
              "version_minor": 0,
              "model_id": "1801e91d941e4d4cb5a699950db545f1"
            }
          },
          "metadata": {}
        },
        {
          "output_type": "stream",
          "name": "stdout",
          "text": [
            "[Epoch:  1]  train loss = 0.08610  valid loss = 0.07384  valid MAE = 21.49821\n",
            "[Epoch: 10]  train loss = 0.07444  valid loss = 0.07173  valid MAE = 20.88379\n",
            "[Epoch: 20]  train loss = 0.07349  valid loss = 0.07033  valid MAE = 20.48783\n",
            "[Epoch: 30]  train loss = 0.07198  valid loss = 0.07107  valid MAE = 20.75532\n",
            "[Epoch: 40]  train loss = 0.07066  valid loss = 0.07083  valid MAE = 20.66755\n",
            "[Epoch: 50]  train loss = 0.06984  valid loss = 0.07045  valid MAE = 20.57057\n",
            "[Epoch: 58]  train loss = 0.06947  valid loss = 0.07044  valid MAE = 20.58351\n",
            "Early Stopping!\n",
            "2 Fold -> Best Valid Loss: 0.07008 Valid MAE: 20.44224\n",
            "\n",
            "[3 / 5] Fold Training......\n"
          ]
        },
        {
          "output_type": "display_data",
          "data": {
            "text/plain": [
              "  0%|          | 0/100 [00:00<?, ?it/s]"
            ],
            "application/vnd.jupyter.widget-view+json": {
              "version_major": 2,
              "version_minor": 0,
              "model_id": "b58e4c001dcb4e678b5b17fb136a9b45"
            }
          },
          "metadata": {}
        },
        {
          "output_type": "stream",
          "name": "stdout",
          "text": [
            "[Epoch:  1]  train loss = 0.11541  valid loss = 0.12092  valid MAE = 35.59326\n",
            "[Epoch: 10]  train loss = 0.07932  valid loss = 0.07943  valid MAE = 23.44824\n",
            "[Epoch: 20]  train loss = 0.07495  valid loss = 0.07597  valid MAE = 22.37050\n",
            "[Epoch: 30]  train loss = 0.07426  valid loss = 0.07527  valid MAE = 22.18159\n",
            "[Epoch: 40]  train loss = 0.07380  valid loss = 0.07453  valid MAE = 21.95344\n",
            "[Epoch: 50]  train loss = 0.07353  valid loss = 0.07427  valid MAE = 21.87775\n",
            "[Epoch: 60]  train loss = 0.07331  valid loss = 0.07425  valid MAE = 21.85947\n",
            "[Epoch: 70]  train loss = 0.07314  valid loss = 0.07425  valid MAE = 21.85653\n",
            "[Epoch: 80]  train loss = 0.07299  valid loss = 0.07410  valid MAE = 21.81098\n",
            "[Epoch: 90]  train loss = 0.07282  valid loss = 0.07411  valid MAE = 21.81573\n",
            "[Epoch: 100]  train loss = 0.07266  valid loss = 0.07392  valid MAE = 21.75928\n",
            "3 Fold -> Best Valid Loss: 0.07388 Valid MAE: 21.74595\n",
            "\n",
            "[4 / 5] Fold Training......\n"
          ]
        },
        {
          "output_type": "display_data",
          "data": {
            "text/plain": [
              "  0%|          | 0/100 [00:00<?, ?it/s]"
            ],
            "application/vnd.jupyter.widget-view+json": {
              "version_major": 2,
              "version_minor": 0,
              "model_id": "434b99555f224c16accc8f2a522dceba"
            }
          },
          "metadata": {}
        },
        {
          "output_type": "stream",
          "name": "stdout",
          "text": [
            "[Epoch:  1]  train loss = 0.09147  valid loss = 0.07935  valid MAE = 23.26212\n",
            "[Epoch: 10]  train loss = 0.07373  valid loss = 0.07589  valid MAE = 22.23565\n",
            "[Epoch: 20]  train loss = 0.07283  valid loss = 0.07540  valid MAE = 22.08985\n",
            "[Epoch: 30]  train loss = 0.07362  valid loss = 0.07556  valid MAE = 22.12642\n",
            "[Epoch: 40]  train loss = 0.07080  valid loss = 0.07468  valid MAE = 21.86023\n",
            "[Epoch: 50]  train loss = 0.06990  valid loss = 0.07462  valid MAE = 21.85994\n",
            "[Epoch: 60]  train loss = 0.06916  valid loss = 0.07480  valid MAE = 21.90563\n",
            "[Epoch: 63]  train loss = 0.06896  valid loss = 0.07467  valid MAE = 21.87829\n",
            "Early Stopping!\n",
            "4 Fold -> Best Valid Loss: 0.07449 Valid MAE: 21.81354\n",
            "\n",
            "[5 / 5] Fold Training......\n"
          ]
        },
        {
          "output_type": "display_data",
          "data": {
            "text/plain": [
              "  0%|          | 0/100 [00:00<?, ?it/s]"
            ],
            "application/vnd.jupyter.widget-view+json": {
              "version_major": 2,
              "version_minor": 0,
              "model_id": "a1f857239e114cdeb272d2af4dd923c1"
            }
          },
          "metadata": {}
        },
        {
          "output_type": "stream",
          "name": "stdout",
          "text": [
            "[Epoch:  1]  train loss = 0.07768  valid loss = 0.07518  valid MAE = 22.01731\n",
            "[Epoch: 10]  train loss = 0.07052  valid loss = 0.07443  valid MAE = 21.82739\n",
            "[Epoch: 20]  train loss = 0.06887  valid loss = 0.07418  valid MAE = 21.74353\n",
            "[Epoch: 29]  train loss = 0.06890  valid loss = 0.07439  valid MAE = 21.81301\n",
            "Early Stopping!\n",
            "5 Fold -> Best Valid Loss: 0.07421 Valid MAE: 21.74278\n",
            "\n",
            "5 Fold Mean Valid Best Loss: 0.07354\n",
            "5 Fold Mean Valid Accuracy: 21.55910\n"
          ]
        }
      ]
    },
    {
      "cell_type": "code",
      "execution_count": 268,
      "metadata": {
        "colab": {
          "base_uri": "https://localhost:8080/",
          "height": 623
        },
        "id": "ksgGH67RTXZo",
        "outputId": "c40893a5-4110-428c-cb33-491a54b8f16b"
      },
      "outputs": [
        {
          "output_type": "display_data",
          "data": {
            "text/plain": [
              "<Figure size 864x576 with 5 Axes>"
            ],
            "image/png": "[encoded data removed]"
          },
          "metadata": {}
        }
      ],
      "source": [
        "show_loss_plot(fold_train_losses_per_epoch, fold_valid_losses_per_epoch)"
      ]
    },
    {
      "cell_type": "markdown",
      "metadata": {
        "id": "_qJHHb6SqxkE"
      },
      "source": [
        "#### Test 예측"
      ]
    },
    {
      "cell_type": "code",
      "source": [
        "flow_scaled_all = np.concatenate([flow_scaled[-lstm_args.window:], flow_scaled_test])  # train + test\n",
        "Xs_test = ts_test2supervised(flow_scaled_all, window=lstm_args.window)   "
      ],
      "metadata": {
        "id": "bUTr2eQFdW5-"
      },
      "execution_count": 369,
      "outputs": []
    },
    {
      "cell_type": "code",
      "execution_count": 370,
      "metadata": {
        "colab": {
          "base_uri": "https://localhost:8080/",
          "height": 49,
          "referenced_widgets": [
            "664e3e4d98464841b8a02a50c378ddb1",
            "8f002e1d1bbd48e29b51ddaf7d31af61",
            "e051ee46cd91496289c2da42615853c5",
            "8ac43770faae49aa834489e665a2cdec",
            "ef57e2eab05743a8817fc2ce3dad903f",
            "9cfebcf3e5cb4cc2b13c7655ab560e6c",
            "2922bc56660f49d3937547665a079ee7",
            "5ca27ec3369d4761abea4f17c4304875",
            "84b700e41c094ce7a6d6de89430bf90c",
            "82061f7cf1c84603b86087355b1e5691",
            "672c2defccd048d7a5127727dc3e0076"
          ]
        },
        "id": "cCDgzN-prDCB",
        "outputId": "df260f64-f1ea-45aa-cc64-774dc0cd8443"
      },
      "outputs": [
        {
          "output_type": "display_data",
          "data": {
            "text/plain": [
              "  0%|          | 0/16 [00:00<?, ?it/s]"
            ],
            "application/vnd.jupyter.widget-view+json": {
              "version_major": 2,
              "version_minor": 0,
              "model_id": "664e3e4d98464841b8a02a50c378ddb1"
            }
          },
          "metadata": {}
        }
      ],
      "source": [
        "preds = predict(model, Xs_test, DEVICE, lstm_args)"
      ]
    },
    {
      "cell_type": "code",
      "execution_count": 371,
      "metadata": {
        "id": "sh4c4lWMruF5"
      },
      "outputs": [],
      "source": [
        "preds = minmax_scaler.inverse_transform(preds)\n",
        "submission.loc[:, 'h0':'h335'] = postprocessing(preds, MIN, MAX)\n",
        "# submission.to_csv(f'./data/submission_apo_{lstm_args.model_name}.csv', index=False)"
      ]
    },
    {
      "cell_type": "markdown",
      "metadata": {
        "id": "R7aqcvAkYlT1"
      },
      "source": [
        "- 성능 확인"
      ]
    },
    {
      "cell_type": "code",
      "execution_count": 372,
      "metadata": {
        "colab": {
          "base_uri": "https://localhost:8080/"
        },
        "id": "kcFFI6ONpsUT",
        "outputId": "ec742e9f-c8f8-4bb7-b5a9-90cd56380aba"
      },
      "outputs": [
        {
          "output_type": "execute_result",
          "data": {
            "text/plain": [
              "21.997116895961003"
            ]
          },
          "metadata": {},
          "execution_count": 372
        }
      ],
      "source": [
        "tmp = test.copy()\n",
        "for w in range(1, 336):\n",
        "    tmp[f'flow{w}'] = tmp['flow'].shift(-w)\n",
        "\n",
        "y_hat = submission.loc[:, 'h0':'h335'].to_numpy()[:8089]\n",
        "tmp = tmp.dropna().loc[:, 'flow':'flow335'].to_numpy()\n",
        "mean_absolute_error(tmp, y_hat)"
      ]
    },
    {
      "cell_type": "code",
      "source": [
        "idx = 24*102\n",
        "plt.plot(tmp[idx][:24], label='real')\n",
        "plt.plot(submission.loc[idx, 'h0':'h335'].values[:24], label='pred')\n",
        "plt.legend()"
      ],
      "metadata": {
        "colab": {
          "base_uri": "https://localhost:8080/",
          "height": 286
        },
        "id": "OmG-ZYNVzND9",
        "outputId": "71507011-f485-4170-ef86-7a125a816545"
      },
      "execution_count": 373,
      "outputs": [
        {
          "output_type": "execute_result",
          "data": {
            "text/plain": [
              "<matplotlib.legend.Legend at 0x7fca917fe820>"
            ]
          },
          "metadata": {},
          "execution_count": 373
        },
        {
          "output_type": "display_data",
          "data": {
            "text/plain": [
              "<Figure size 432x288 with 1 Axes>"
            ],
            "image/png": "[encoded data removed]"
          },
          "metadata": {}
        }
      ]
    },
    {
      "cell_type": "markdown",
      "metadata": {
        "id": "LgkTD-g3WHrB"
      },
      "source": [
        "### SCI Net 모델 학습"
      ]
    },
    {
      "cell_type": "markdown",
      "metadata": {
        "id": "eIJ2BlapnPXm"
      },
      "source": [
        "#### 모델 학습 준비"
      ]
    },
    {
      "cell_type": "code",
      "execution_count": 396,
      "metadata": {
        "id": "ZelBODt_nR2W"
      },
      "outputs": [],
      "source": [
        "sci_args = EasyDict({\n",
        "    'weight_folder_path':'./weights',\n",
        "    'model_name':'sci',\n",
        "    'window':336,\n",
        "    'gap':1,\n",
        "    'num_classes':336,\n",
        "    'num_epochs':100,\n",
        "    'num_folds':5,\n",
        "    'bs':512,\n",
        "    'lr':1e-3,\n",
        "    'lr_gamma':0.97,\n",
        "    'weight_decay':1e-2,\n",
        "    'max_norm':1.0,\n",
        "    'seed':22,\n",
        "})"
      ]
    },
    {
      "cell_type": "code",
      "source": [
        "Xs, ys = ts_train2supervised(flow_scaled, window=sci_args.window, gap=sci_args.gap, step=sci_args.num_classes)  # s == scaled\n",
        "Xs, ys = Xs[24*365:], ys[24*365:]  # 2017년 제거\n",
        "ys = ys.squeeze(2)"
      ],
      "metadata": {
        "id": "ILru_SvKvQAX"
      },
      "execution_count": 391,
      "outputs": []
    },
    {
      "cell_type": "code",
      "execution_count": 392,
      "metadata": {
        "id": "Ac6jf_elcyAl"
      },
      "outputs": [],
      "source": [
        "early_stopping = EarlyStopping(patience=20,\n",
        "                               monitor='mae',\n",
        "                               mode='min',\n",
        "                               folder_path=sci_args.weight_folder_path,\n",
        "                               model_name=sci_args.model_name)"
      ]
    },
    {
      "cell_type": "code",
      "execution_count": 393,
      "metadata": {
        "id": "hZOu5RQjjvSh"
      },
      "outputs": [],
      "source": [
        "# https://github.com/ts-kim/RevIN/blob/master/baselines/SCINet/models/SCINet.py\n",
        "# Copyright (c) 2022 Electronics and Telecommunications Research Institute (ETRI) \n",
        "class Splitting(nn.Module):\n",
        "    def __init__(self):\n",
        "        super(Splitting, self).__init__()\n",
        "\n",
        "    def even(self, x):\n",
        "        return x[:, ::2, :]\n",
        "\n",
        "    def odd(self, x):\n",
        "        return x[:, 1::2, :]\n",
        "\n",
        "    def forward(self, x):\n",
        "        \"\"\"Returns the odd and even part\"\"\"\n",
        "        return (self.even(x), self.odd(x))\n",
        "\n",
        "\n",
        "class Interactor(nn.Module):\n",
        "    def __init__(self, in_planes, splitting=True,\n",
        "                 kernel=5, dropout=0.5, groups=1, hidden_size=1, INN=True):\n",
        "        super(Interactor, self).__init__()\n",
        "        self.modified = INN\n",
        "        self.kernel_size = kernel\n",
        "        self.dilation = 1\n",
        "        self.dropout = dropout\n",
        "        self.hidden_size = hidden_size\n",
        "        self.groups = groups\n",
        "\n",
        "        if self.kernel_size % 2 == 0:\n",
        "            pad_l = self.dilation * (self.kernel_size - 2) // 2 + 1  # by default: stride==1 \n",
        "            pad_r = self.dilation * (self.kernel_size) // 2 + 1  # by default: stride==1 \n",
        "        else:\n",
        "            pad_l = self.dilation * (self.kernel_size - 1) // 2 + 1  # we fix the kernel size of the second layer as 3.\n",
        "            pad_r = self.dilation * (self.kernel_size - 1) // 2 + 1\n",
        "\n",
        "        self.splitting = splitting\n",
        "        self.split = Splitting()\n",
        "\n",
        "        modules_P = []\n",
        "        modules_U = []\n",
        "        modules_psi = []\n",
        "        modules_phi = []\n",
        "        prev_size = 1\n",
        "\n",
        "        size_hidden = self.hidden_size\n",
        "        modules_P += [\n",
        "            nn.ReplicationPad1d((pad_l, pad_r)),\n",
        "\n",
        "            nn.Conv1d(in_planes * prev_size, int(in_planes * size_hidden),\n",
        "                      kernel_size=self.kernel_size, dilation=self.dilation, stride=1, groups=self.groups),\n",
        "            nn.LeakyReLU(negative_slope=0.01, inplace=True),\n",
        "\n",
        "            nn.Dropout(self.dropout),\n",
        "            nn.Conv1d(int(in_planes * size_hidden), in_planes,\n",
        "                      kernel_size=3, stride=1, groups=self.groups),\n",
        "            nn.Tanh()\n",
        "        ]\n",
        "        modules_U += [\n",
        "            nn.ReplicationPad1d((pad_l, pad_r)),\n",
        "            nn.Conv1d(in_planes * prev_size, int(in_planes * size_hidden),\n",
        "                      kernel_size=self.kernel_size, dilation=self.dilation, stride=1, groups=self.groups),\n",
        "            nn.LeakyReLU(negative_slope=0.01, inplace=True),\n",
        "            nn.Dropout(self.dropout),\n",
        "            nn.Conv1d(int(in_planes * size_hidden), in_planes,\n",
        "                      kernel_size=3, stride=1, groups=self.groups),\n",
        "            nn.Tanh()\n",
        "        ]\n",
        "\n",
        "        modules_phi += [\n",
        "            nn.ReplicationPad1d((pad_l, pad_r)),\n",
        "            nn.Conv1d(in_planes * prev_size, int(in_planes * size_hidden),\n",
        "                      kernel_size=self.kernel_size, dilation=self.dilation, stride=1, groups=self.groups),\n",
        "            nn.LeakyReLU(negative_slope=0.01, inplace=True),\n",
        "            nn.Dropout(self.dropout),\n",
        "            nn.Conv1d(int(in_planes * size_hidden), in_planes,\n",
        "                      kernel_size=3, stride=1, groups=self.groups),\n",
        "            nn.Tanh()\n",
        "        ]\n",
        "        modules_psi += [\n",
        "            nn.ReplicationPad1d((pad_l, pad_r)),\n",
        "            nn.Conv1d(in_planes * prev_size, int(in_planes * size_hidden),\n",
        "                      kernel_size=self.kernel_size, dilation=self.dilation, stride=1, groups=self.groups),\n",
        "            nn.LeakyReLU(negative_slope=0.01, inplace=True),\n",
        "            nn.Dropout(self.dropout),\n",
        "            nn.Conv1d(int(in_planes * size_hidden), in_planes,\n",
        "                      kernel_size=3, stride=1, groups=self.groups),\n",
        "            nn.Tanh()\n",
        "        ]\n",
        "        self.phi = nn.Sequential(*modules_phi)\n",
        "        self.psi = nn.Sequential(*modules_psi)\n",
        "        self.P = nn.Sequential(*modules_P)\n",
        "        self.U = nn.Sequential(*modules_U)\n",
        "\n",
        "    def forward(self, x):\n",
        "        if self.splitting:\n",
        "            (x_even, x_odd) = self.split(x)\n",
        "        else:\n",
        "            (x_even, x_odd) = x\n",
        "\n",
        "        if self.modified:\n",
        "            x_even = x_even.permute(0, 2, 1)\n",
        "            x_odd = x_odd.permute(0, 2, 1)\n",
        "\n",
        "            d = x_odd.mul(torch.exp(self.phi(x_even)))\n",
        "            c = x_even.mul(torch.exp(self.psi(x_odd)))\n",
        "\n",
        "            x_even_update = c + self.U(d)\n",
        "            x_odd_update = d - self.P(c)\n",
        "            return (x_even_update, x_odd_update)\n",
        "        else:\n",
        "            x_even = x_even.permute(0, 2, 1)\n",
        "            x_odd = x_odd.permute(0, 2, 1)\n",
        "\n",
        "            d = x_odd - self.P(x_even)\n",
        "            c = x_even + self.U(d)\n",
        "            return (c, d)\n",
        "\n",
        "\n",
        "class InteractorLevel(nn.Module):\n",
        "    def __init__(self, in_planes, kernel, dropout, groups , hidden_size, INN):\n",
        "        super(InteractorLevel, self).__init__()\n",
        "        self.level = Interactor(in_planes=in_planes, splitting=True,\n",
        "                 kernel=kernel, dropout=dropout, groups=groups, hidden_size=hidden_size, INN=INN)\n",
        "\n",
        "    def forward(self, x):\n",
        "        (x_even_update, x_odd_update) = self.level(x)\n",
        "        return (x_even_update, x_odd_update)\n",
        "\n",
        "class LevelSCINet(nn.Module):\n",
        "    def __init__(self,in_planes, kernel_size, dropout, groups, hidden_size, INN):\n",
        "        super(LevelSCINet, self).__init__()\n",
        "        self.interact = InteractorLevel(in_planes=in_planes, kernel=kernel_size, dropout=dropout, groups=groups , hidden_size=hidden_size, INN=INN)\n",
        "\n",
        "    def forward(self, x):\n",
        "        (x_even_update, x_odd_update) = self.interact(x)\n",
        "        return x_even_update.permute(0, 2, 1), x_odd_update.permute(0, 2, 1) #even: B, T, D odd: B, T, D\n",
        "\n",
        "class SCINet_Tree(nn.Module):\n",
        "    def __init__(self, in_planes, current_level, kernel_size, dropout, groups, hidden_size, INN):\n",
        "        super().__init__()\n",
        "        self.current_level = current_level\n",
        "\n",
        "        self.workingblock = LevelSCINet(\n",
        "            in_planes=in_planes,\n",
        "            kernel_size=kernel_size,\n",
        "            dropout=dropout,\n",
        "            groups=groups,\n",
        "            hidden_size=hidden_size,\n",
        "            INN=INN)\n",
        "\n",
        "        if current_level != 0:\n",
        "            self.SCINet_Tree_odd=SCINet_Tree(in_planes, current_level-1, kernel_size, dropout, groups, hidden_size, INN)\n",
        "            self.SCINet_Tree_even=SCINet_Tree(in_planes, current_level-1, kernel_size, dropout, groups, hidden_size, INN)\n",
        "    \n",
        "    def zip_up_the_pants(self, even, odd):\n",
        "        even = even.permute(1, 0, 2)\n",
        "        odd = odd.permute(1, 0, 2)  # L, B, D\n",
        "        even_len = even.shape[0]\n",
        "        odd_len = odd.shape[0]\n",
        "        mlen = min((odd_len, even_len))\n",
        "        _ = []\n",
        "        for i in range(mlen):\n",
        "            _.append(even[i].unsqueeze(0))\n",
        "            _.append(odd[i].unsqueeze(0))\n",
        "        if odd_len < even_len: \n",
        "            _.append(even[-1].unsqueeze(0))\n",
        "        return torch.cat(_, 0).permute(1, 0, 2)  # B, L, D\n",
        "        \n",
        "    def forward(self, x):\n",
        "        x_even_update, x_odd_update = self.workingblock(x)\n",
        "        # We recursively reordered these sub-series. You can run the ./utils/recursive_demo.py to emulate this procedure. \n",
        "        if self.current_level == 0:\n",
        "            return self.zip_up_the_pants(x_even_update, x_odd_update)\n",
        "        else:\n",
        "            return self.zip_up_the_pants(self.SCINet_Tree_even(x_even_update), self.SCINet_Tree_odd(x_odd_update))\n",
        "\n",
        "class EncoderTree(nn.Module):\n",
        "    def __init__(self, in_planes,  num_levels, kernel_size, dropout, groups, hidden_size, INN):\n",
        "        super().__init__()\n",
        "        self.levels=num_levels\n",
        "        self.SCINet_Tree=SCINet_Tree(\n",
        "            in_planes=in_planes,\n",
        "            current_level=num_levels-1,\n",
        "            kernel_size=kernel_size,\n",
        "            dropout=dropout ,\n",
        "            groups=groups,\n",
        "            hidden_size=hidden_size,\n",
        "            INN=INN)\n",
        "        \n",
        "    def forward(self, x):\n",
        "        x = self.SCINet_Tree(x)\n",
        "        return x\n",
        "\n",
        "class SCINet(nn.Module):\n",
        "    def __init__(self, output_len, input_len, input_dim=1, hid_size=1, num_stacks=1,\n",
        "                num_levels=3, concat_len=0, groups=1, kernel=5, dropout=0.5,\n",
        "                 single_step_output_One=0, input_len_seg=0, positionalE=False, modified=True):\n",
        "        super(SCINet, self).__init__()\n",
        "        self.input_dim = input_dim\n",
        "        self.input_len = input_len\n",
        "        self.output_len = output_len\n",
        "        self.hidden_size = hid_size\n",
        "        self.num_levels = num_levels\n",
        "        self.groups = groups\n",
        "        self.modified = modified\n",
        "        self.kernel_size = kernel\n",
        "        self.dropout = dropout\n",
        "        self.single_step_output_One = single_step_output_One\n",
        "        self.concat_len = concat_len\n",
        "        self.pe = positionalE\n",
        "        self.revin = RevIN(input_dim)  # b, s, f means b, f\n",
        "\n",
        "        self.blocks1 = EncoderTree(\n",
        "            in_planes=self.input_dim,\n",
        "            num_levels=self.num_levels,\n",
        "            kernel_size=self.kernel_size,\n",
        "            dropout=self.dropout,\n",
        "            groups=self.groups,\n",
        "            hidden_size=self.hidden_size,\n",
        "            INN=modified)\n",
        "\n",
        "        if num_stacks == 2: # we only implement two stacks at most.\n",
        "            self.blocks2 = EncoderTree(\n",
        "                in_planes=self.input_dim,\n",
        "                num_levels=self.num_levels,\n",
        "                kernel_size=self.kernel_size,\n",
        "                dropout=self.dropout,\n",
        "                groups=self.groups,\n",
        "                hidden_size=self.hidden_size,\n",
        "                INN=modified)\n",
        "\n",
        "        self.stacks = num_stacks\n",
        "\n",
        "        for m in self.modules():\n",
        "            if isinstance(m, nn.Conv2d):\n",
        "                n = m.kernel_size[0] * m.kernel_size[1] * m.out_channels\n",
        "                m.weight.data.normal_(0, math.sqrt(2. / n))\n",
        "            elif isinstance(m, nn.BatchNorm2d):\n",
        "                m.weight.data.fill_(1)\n",
        "                m.bias.data.zero_()\n",
        "            elif isinstance(m, nn.Linear):\n",
        "                m.bias.data.zero_()\n",
        "        self.projection1 = nn.Conv1d(self.input_len, self.output_len, kernel_size=1, stride=1, bias=False)\n",
        "        \n",
        "        if self.single_step_output_One:  # only output the N_th timestep.\n",
        "            if self.stacks == 2:\n",
        "                if self.concat_len:\n",
        "                    self.projection2 = nn.Conv1d(self.concat_len + self.output_len, 1,\n",
        "                                                kernel_size = 1, bias = False)\n",
        "                else:\n",
        "                    self.projection2 = nn.Conv1d(self.input_len + self.output_len, 1,\n",
        "                                                kernel_size = 1, bias = False)\n",
        "        else: # output the N timesteps.\n",
        "            if self.stacks == 2:\n",
        "                if self.concat_len:\n",
        "                    self.projection2 = nn.Conv1d(self.concat_len + self.output_len, self.output_len,\n",
        "                                                kernel_size = 1, bias = False)\n",
        "                else:\n",
        "                    self.projection2 = nn.Conv1d(self.input_len + self.output_len, self.output_len,\n",
        "                                                kernel_size = 1, bias = False)\n",
        "\n",
        "        # For positional encoding\n",
        "        self.pe_hidden_size = input_dim\n",
        "        if self.pe_hidden_size % 2 == 1:\n",
        "            self.pe_hidden_size += 1\n",
        "    \n",
        "        num_timescales = self.pe_hidden_size // 2\n",
        "        max_timescale = 10000.0\n",
        "        min_timescale = 1.0\n",
        "\n",
        "        log_timescale_increment = (\n",
        "                math.log(float(max_timescale) / float(min_timescale)) /\n",
        "                max(num_timescales - 1, 1))\n",
        "        temp = torch.arange(num_timescales, dtype=torch.float32)\n",
        "        inv_timescales = min_timescale * torch.exp(\n",
        "            torch.arange(num_timescales, dtype=torch.float32) *\n",
        "            -log_timescale_increment)\n",
        "        self.register_buffer('inv_timescales', inv_timescales)\n",
        "    \n",
        "    def get_position_encoding(self, x):\n",
        "        max_length = x.size()[1]\n",
        "        position = torch.arange(max_length, dtype=torch.float32, device=x.device)  # tensor([0., 1., 2., 3., 4.], device='cuda:0')\n",
        "        temp1 = position.unsqueeze(1)  # 5 1\n",
        "        temp2 = self.inv_timescales.unsqueeze(0)  # 1 256\n",
        "        scaled_time = position.unsqueeze(1) * self.inv_timescales.unsqueeze(0)  # 5 256\n",
        "        signal = torch.cat([torch.sin(scaled_time), torch.cos(scaled_time)], dim=1)  # [T, C]\n",
        "        signal = F.pad(signal, (0, 0, 0, self.pe_hidden_size % 2))\n",
        "        signal = signal.view(1, max_length, self.pe_hidden_size)\n",
        "        return signal\n",
        "\n",
        "    def forward(self, x):\n",
        "        assert self.input_len % (np.power(2, self.num_levels)) == 0  # evenly divided the input length into two parts. (e.g., 32 -> 16 -> 8 -> 4 for 3 levels)\n",
        "        x = self.revin(x, 'norm')\n",
        "\n",
        "        if self.pe:\n",
        "            pe = self.get_position_encoding(x)\n",
        "            if pe.shape[2] > x.shape[2]:\n",
        "                x += pe[:, :, :-1]\n",
        "            else:\n",
        "                x += self.get_position_encoding(x)\n",
        "        # the first stack\n",
        "        res1 = x\n",
        "        x = self.blocks1(x)\n",
        "        x += res1\n",
        "        x = self.projection1(x)\n",
        "\n",
        "        if self.stacks == 1:\n",
        "            x = self.revin(x,'denorm')\n",
        "            return x  # maybe forecast\n",
        "        elif self.stacks == 2:\n",
        "            MidOutPut = x  # maybe forecast\n",
        "            if self.concat_len:\n",
        "                x = torch.cat((res1[:, -self.concat_len:,:], x), dim=1)\n",
        "            else:\n",
        "                x = torch.cat((res1, x), dim=1)\n",
        "\n",
        "            # the second stack\n",
        "            res2 = x\n",
        "            x = self.blocks2(x)\n",
        "            x += res2\n",
        "            x = self.projection2(x)\n",
        "            MidOutPut = self.revin(MidOutPut, 'denorm')\n",
        "            x = self.revin(x, 'denorm')\n",
        "            return x, MidOutPut\n",
        "\n",
        "\n",
        "def get_variable(x):\n",
        "    x = Variable(x)\n",
        "    return x.cuda() if torch.cuda.is_available() else x"
      ]
    },
    {
      "cell_type": "markdown",
      "metadata": {
        "id": "vRw8WNzinSZe"
      },
      "source": [
        "#### 모델 학습 및 검증"
      ]
    },
    {
      "cell_type": "code",
      "execution_count": 397,
      "metadata": {
        "id": "SO7E4Be9kCCw"
      },
      "outputs": [],
      "source": [
        "seed_everything(sci_args.seed)\n",
        "model = SCINet(output_len=sci_args.num_classes, input_len=sci_args.window, input_dim=1, hid_size=1, num_stacks=1,\n",
        "               num_levels=3, concat_len=0, groups=1, kernel=5, dropout=0.5,\n",
        "               single_step_output_One=0, positionalE=False, modified=True)"
      ]
    },
    {
      "cell_type": "code",
      "execution_count": 398,
      "metadata": {
        "id": "lcRGVLUXkR2X",
        "colab": {
          "base_uri": "https://localhost:8080/",
          "height": 1000,
          "referenced_widgets": [
            "0165a9cf7a5c4efebc411208c3b2eaf7",
            "a1baee93c0b3427b9c780d082b88aa0c",
            "177f5cfd4e884b9aba45a857c4b85513",
            "2868809372414b87afeffa9c1fcf4f4b",
            "9d0207d881a14f17945cdc85082e7cad",
            "28cc966d4b5a41d0bf9241c0515f9e56",
            "7154df5e4a864c96a5f2db3bad9a887c",
            "f4fc2fce7c344e838667c03313e63194",
            "db76f3cb92384f359e98f5334ddc60ce",
            "a3b0559733ef4147b40f26ed2c4dbc6b",
            "4b076474b91a44a9b7316a3fa01c1ca4",
            "5c0857435eeb437a8f999ee0a45b3597",
            "51ea6f973bcf4d18bdc2c01e8fe73566",
            "931e3c31d1e14b23a1bfbaa5bc73c39a",
            "1d38f6d9c23a42e2923ec1040d4a91aa",
            "afb42333fd4544f0aeb0499b519eed0b",
            "6602314db3074b49b2a6b2bbadc27769",
            "7a86d0a302324b508e20c54afa2e1d2c",
            "121fd30102a34da3997f57abdfcc4df2",
            "a77e3b13c024422ba740fcc42272038f",
            "8a8062e4acff4ce08f59b0236da40a43",
            "30c6b44056f54f11a509ec57b6158ef2",
            "1a257b1c72ec4e65bf7acfe37b3d4fd9",
            "da0a4976ba7b4ec683a98a165ec05121",
            "7e37075c4ac24f39a1e7ca6b0e53c9cb",
            "16cc6763a6404d8f8fe201f26138a652",
            "62151bbe59324de186f2b4f44e8015f3",
            "0d07d0f7c6b64b848c16e56fca46dcf4",
            "07a0ae49a761497498ec8e7fa464f320",
            "ea1e9322b3504013aaa2c5a04fb54de7",
            "28d9450f46644b03a677617c750a9863",
            "ae57a569c992487c90442591eb874d33",
            "ac789685a71e40e5a2b33cdeb2013f28",
            "ce462fa906a44cb5986c9169ca3cfa6f",
            "07ea6ebe0561425a990a55b4431a6b1d",
            "78a18a6f5c82451c8d3df70b2a0cf6d1",
            "81c72702d9af4991bdd95cdb3d2becb7",
            "682d353b3c834eb0943ec65dff4b26a6",
            "42392043b3764675a8a0227cf9a0eca0",
            "0a77dc04a09244b8bc0c6d3043b59f25",
            "d9130dfc1fa44f88aaf6eb36401ff227",
            "9b1d5bf447a24e9da94ba2c852582bfb",
            "2428e33993ea470baae5d90990b73a43",
            "4f0d91d058dc475283139efdcb4a2a5a",
            "bae9193b90104afb9b8c9ea6110b5e2b",
            "71178284d589420fb9e22866946581b9",
            "4f76afc7d99e438f800d957787fa78d2",
            "3455dba8fb914eaf964ef903151108dc",
            "2abb18e0fa0f479285dfa159b244c7a9",
            "00972ccccf58495597e9ccc0ccc42b4d",
            "d684e882245a4ff59b569f3003353254",
            "fe4d687177154aaea41b911730991f52",
            "1c966a8648e2453cae5911b78220c206",
            "d3ca9d8e0c2e4988bfa0cda327c1d0dc",
            "306bca4c15534fdeb8ff709bf6ff3e5b"
          ]
        },
        "outputId": "bbab1fdc-201f-4d1d-9205-38bece05bbfb"
      },
      "outputs": [
        {
          "output_type": "stream",
          "name": "stdout",
          "text": [
            "[1 / 5] Fold Training......\n"
          ]
        },
        {
          "output_type": "display_data",
          "data": {
            "text/plain": [
              "  0%|          | 0/100 [00:00<?, ?it/s]"
            ],
            "application/vnd.jupyter.widget-view+json": {
              "version_major": 2,
              "version_minor": 0,
              "model_id": "0165a9cf7a5c4efebc411208c3b2eaf7"
            }
          },
          "metadata": {}
        },
        {
          "output_type": "stream",
          "name": "stdout",
          "text": [
            "[Epoch:  1]  train loss = 0.20254  valid loss = 0.17580  valid MAE = 51.80613\n",
            "[Epoch: 10]  train loss = 0.08856  valid loss = 0.09051  valid MAE = 26.72953\n",
            "[Epoch: 20]  train loss = 0.07601  valid loss = 0.07860  valid MAE = 23.22678\n",
            "[Epoch: 30]  train loss = 0.07415  valid loss = 0.07670  valid MAE = 22.66901\n",
            "[Epoch: 40]  train loss = 0.07374  valid loss = 0.07623  valid MAE = 22.52951\n",
            "[Epoch: 50]  train loss = 0.07348  valid loss = 0.07604  valid MAE = 22.47542\n",
            "[Epoch: 60]  train loss = 0.07332  valid loss = 0.07593  valid MAE = 22.44342\n",
            "[Epoch: 70]  train loss = 0.07329  valid loss = 0.07590  valid MAE = 22.43608\n",
            "[Epoch: 80]  train loss = 0.07324  valid loss = 0.07589  valid MAE = 22.43055\n",
            "[Epoch: 90]  train loss = 0.07328  valid loss = 0.07589  valid MAE = 22.43010\n",
            "[Epoch: 100]  train loss = 0.07319  valid loss = 0.07586  valid MAE = 22.42150\n",
            "1 Fold -> Best Valid Loss: 0.07586 Valid MAE: 22.42150\n",
            "\n",
            "[2 / 5] Fold Training......\n"
          ]
        },
        {
          "output_type": "display_data",
          "data": {
            "text/plain": [
              "  0%|          | 0/100 [00:00<?, ?it/s]"
            ],
            "application/vnd.jupyter.widget-view+json": {
              "version_major": 2,
              "version_minor": 0,
              "model_id": "5c0857435eeb437a8f999ee0a45b3597"
            }
          },
          "metadata": {}
        },
        {
          "output_type": "stream",
          "name": "stdout",
          "text": [
            "[Epoch:  1]  train loss = 0.07645  valid loss = 0.07377  valid MAE = 21.50148\n",
            "[Epoch: 10]  train loss = 0.07436  valid loss = 0.07273  valid MAE = 21.20273\n",
            "[Epoch: 20]  train loss = 0.07410  valid loss = 0.07256  valid MAE = 21.15642\n",
            "[Epoch: 30]  train loss = 0.07395  valid loss = 0.07243  valid MAE = 21.12341\n",
            "[Epoch: 40]  train loss = 0.07382  valid loss = 0.07234  valid MAE = 21.10013\n",
            "[Epoch: 50]  train loss = 0.07375  valid loss = 0.07231  valid MAE = 21.09023\n",
            "[Epoch: 60]  train loss = 0.07369  valid loss = 0.07229  valid MAE = 21.08558\n",
            "[Epoch: 70]  train loss = 0.07364  valid loss = 0.07226  valid MAE = 21.07766\n",
            "[Epoch: 80]  train loss = 0.07361  valid loss = 0.07223  valid MAE = 21.06952\n",
            "[Epoch: 90]  train loss = 0.07359  valid loss = 0.07221  valid MAE = 21.06360\n",
            "[Epoch: 100]  train loss = 0.07356  valid loss = 0.07220  valid MAE = 21.06065\n",
            "2 Fold -> Best Valid Loss: 0.07220 Valid MAE: 21.06065\n",
            "\n",
            "[3 / 5] Fold Training......\n"
          ]
        },
        {
          "output_type": "display_data",
          "data": {
            "text/plain": [
              "  0%|          | 0/100 [00:00<?, ?it/s]"
            ],
            "application/vnd.jupyter.widget-view+json": {
              "version_major": 2,
              "version_minor": 0,
              "model_id": "1a257b1c72ec4e65bf7acfe37b3d4fd9"
            }
          },
          "metadata": {}
        },
        {
          "output_type": "stream",
          "name": "stdout",
          "text": [
            "[Epoch:  1]  train loss = 0.07435  valid loss = 0.07543  valid MAE = 22.22166\n",
            "[Epoch: 10]  train loss = 0.07374  valid loss = 0.07509  valid MAE = 22.12559\n",
            "[Epoch: 20]  train loss = 0.07332  valid loss = 0.07479  valid MAE = 22.04025\n",
            "[Epoch: 30]  train loss = 0.07310  valid loss = 0.07467  valid MAE = 22.00969\n",
            "[Epoch: 40]  train loss = 0.07291  valid loss = 0.07462  valid MAE = 21.99645\n",
            "[Epoch: 50]  train loss = 0.07294  valid loss = 0.07457  valid MAE = 21.97918\n",
            "[Epoch: 60]  train loss = 0.07279  valid loss = 0.07450  valid MAE = 21.95867\n",
            "[Epoch: 70]  train loss = 0.07276  valid loss = 0.07445  valid MAE = 21.94354\n",
            "[Epoch: 80]  train loss = 0.07278  valid loss = 0.07446  valid MAE = 21.94756\n",
            "[Epoch: 90]  train loss = 0.07274  valid loss = 0.07442  valid MAE = 21.93699\n",
            "[Epoch: 100]  train loss = 0.07267  valid loss = 0.07440  valid MAE = 21.93039\n",
            "3 Fold -> Best Valid Loss: 0.07439 Valid MAE: 21.92760\n",
            "\n",
            "[4 / 5] Fold Training......\n"
          ]
        },
        {
          "output_type": "display_data",
          "data": {
            "text/plain": [
              "  0%|          | 0/100 [00:00<?, ?it/s]"
            ],
            "application/vnd.jupyter.widget-view+json": {
              "version_major": 2,
              "version_minor": 0,
              "model_id": "ce462fa906a44cb5986c9169ca3cfa6f"
            }
          },
          "metadata": {}
        },
        {
          "output_type": "stream",
          "name": "stdout",
          "text": [
            "[Epoch:  1]  train loss = 0.07423  valid loss = 0.07718  valid MAE = 22.64565\n",
            "[Epoch: 10]  train loss = 0.07361  valid loss = 0.07703  valid MAE = 22.60220\n",
            "[Epoch: 20]  train loss = 0.07344  valid loss = 0.07685  valid MAE = 22.54909\n",
            "[Epoch: 30]  train loss = 0.07331  valid loss = 0.07677  valid MAE = 22.52653\n",
            "[Epoch: 40]  train loss = 0.07322  valid loss = 0.07670  valid MAE = 22.50494\n",
            "[Epoch: 50]  train loss = 0.07316  valid loss = 0.07668  valid MAE = 22.49936\n",
            "[Epoch: 60]  train loss = 0.07311  valid loss = 0.07665  valid MAE = 22.49156\n",
            "[Epoch: 70]  train loss = 0.07307  valid loss = 0.07667  valid MAE = 22.49852\n",
            "[Epoch: 80]  train loss = 0.07302  valid loss = 0.07663  valid MAE = 22.48534\n",
            "[Epoch: 90]  train loss = 0.07301  valid loss = 0.07661  valid MAE = 22.48066\n",
            "[Epoch: 100]  train loss = 0.07300  valid loss = 0.07662  valid MAE = 22.48296\n",
            "4 Fold -> Best Valid Loss: 0.07659 Valid MAE: 22.47529\n",
            "\n",
            "[5 / 5] Fold Training......\n"
          ]
        },
        {
          "output_type": "display_data",
          "data": {
            "text/plain": [
              "  0%|          | 0/100 [00:00<?, ?it/s]"
            ],
            "application/vnd.jupyter.widget-view+json": {
              "version_major": 2,
              "version_minor": 0,
              "model_id": "bae9193b90104afb9b8c9ea6110b5e2b"
            }
          },
          "metadata": {}
        },
        {
          "output_type": "stream",
          "name": "stdout",
          "text": [
            "[Epoch:  1]  train loss = 0.07468  valid loss = 0.07571  valid MAE = 22.22587\n",
            "[Epoch: 10]  train loss = 0.07418  valid loss = 0.07568  valid MAE = 22.22177\n",
            "[Epoch: 20]  train loss = 0.07403  valid loss = 0.07554  valid MAE = 22.18179\n",
            "[Epoch: 30]  train loss = 0.07393  valid loss = 0.07545  valid MAE = 22.15480\n",
            "[Epoch: 40]  train loss = 0.07384  valid loss = 0.07542  valid MAE = 22.14592\n",
            "[Epoch: 50]  train loss = 0.07377  valid loss = 0.07537  valid MAE = 22.13298\n",
            "[Epoch: 60]  train loss = 0.07372  valid loss = 0.07531  valid MAE = 22.11628\n",
            "[Epoch: 70]  train loss = 0.07367  valid loss = 0.07531  valid MAE = 22.11560\n",
            "[Epoch: 80]  train loss = 0.07365  valid loss = 0.07530  valid MAE = 22.11264\n",
            "[Epoch: 90]  train loss = 0.07362  valid loss = 0.07528  valid MAE = 22.10826\n",
            "[Epoch: 100]  train loss = 0.07360  valid loss = 0.07527  valid MAE = 22.10434\n",
            "5 Fold -> Best Valid Loss: 0.07527 Valid MAE: 22.10434\n",
            "\n",
            "5 Fold Mean Valid Best Loss: 0.07486\n",
            "5 Fold Mean Valid Accuracy: 21.99788\n"
          ]
        }
      ],
      "source": [
        "model, fold_train_losses_per_epoch, fold_valid_losses_per_epoch = kfold_cross_validate(model, Xs, ys, loss_fn, \n",
        "                                                                                       early_stopping, DEVICE, sci_args)"
      ]
    },
    {
      "cell_type": "code",
      "source": [
        "show_loss_plot(fold_train_losses_per_epoch, fold_valid_losses_per_epoch)"
      ],
      "metadata": {
        "colab": {
          "base_uri": "https://localhost:8080/",
          "height": 623
        },
        "id": "b6pkZgeWy0mb",
        "outputId": "04c18012-20d4-48ec-98fc-6c528ccef85b"
      },
      "execution_count": 399,
      "outputs": [
        {
          "output_type": "display_data",
          "data": {
            "text/plain": [
              "<Figure size 864x576 with 5 Axes>"
            ],
            "image/png": "[encoded data removed]"
          },
          "metadata": {}
        }
      ]
    },
    {
      "cell_type": "markdown",
      "metadata": {
        "id": "2-QS8Ik7uZHp"
      },
      "source": [
        "#### Test 예측"
      ]
    },
    {
      "cell_type": "code",
      "source": [
        "flow_scaled_all = np.concatenate([flow_scaled[-sci_args.window:], flow_scaled_test])  # train + test\n",
        "Xs_test = ts_test2supervised(flow_scaled_all, window=sci_args.window)   "
      ],
      "metadata": {
        "id": "kawu0ynzx0Vz"
      },
      "execution_count": 400,
      "outputs": []
    },
    {
      "cell_type": "code",
      "execution_count": 401,
      "metadata": {
        "colab": {
          "base_uri": "https://localhost:8080/",
          "height": 49,
          "referenced_widgets": [
            "6b3a4a30c375422783ad6d37e8388ba9",
            "3e5eeac345da48ae99f2f62867f001a5",
            "9a3fb7ab43c141f4b13c45ea74317cf3",
            "09864198fc6f40a18e4a063904461c3b",
            "1736b3baf6f844d1919cfbaddb580a7e",
            "123fb9cc0e1543f1924a30896d0527ff",
            "bf4e9fcec9f645668e1842c8d47e9b83",
            "0b7706671f0142d892ead67510e70467",
            "d89f31c1a33f4cce86cbbf7abaa9a5d6",
            "c358a9e31a3b43d5a84b5fa169742bc3",
            "3b6eb93568d847759498c631a117dab6"
          ]
        },
        "id": "_AyK94l0gURU",
        "outputId": "4e7182d0-a83f-48f0-9820-68cce9fa2871"
      },
      "outputs": [
        {
          "output_type": "display_data",
          "data": {
            "text/plain": [
              "  0%|          | 0/20 [00:00<?, ?it/s]"
            ],
            "application/vnd.jupyter.widget-view+json": {
              "version_major": 2,
              "version_minor": 0,
              "model_id": "6b3a4a30c375422783ad6d37e8388ba9"
            }
          },
          "metadata": {}
        }
      ],
      "source": [
        "preds = predict(model, Xs_test, DEVICE, sci_args)"
      ]
    },
    {
      "cell_type": "code",
      "execution_count": 402,
      "metadata": {
        "id": "y1557nWvgaJE"
      },
      "outputs": [],
      "source": [
        "preds = minmax_scaler.inverse_transform(preds)\n",
        "submission.loc[:, 'h0':'h335'] = postprocessing(preds, MIN, MAX)\n",
        "submission.to_csv(f'./data/submission_apo_{sci_args.model_name}.csv', index=False)"
      ]
    },
    {
      "cell_type": "markdown",
      "metadata": {
        "id": "G-IX37u2gd_N"
      },
      "source": [
        "- 성능 확인"
      ]
    },
    {
      "cell_type": "code",
      "execution_count": 403,
      "metadata": {
        "colab": {
          "base_uri": "https://localhost:8080/"
        },
        "id": "WU08YjBDgiDM",
        "outputId": "86dc25d0-5a85-4901-bce1-3ad20bb9020a"
      },
      "outputs": [
        {
          "output_type": "execute_result",
          "data": {
            "text/plain": [
              "22.46958575431656"
            ]
          },
          "metadata": {},
          "execution_count": 403
        }
      ],
      "source": [
        "tmp = test.copy()\n",
        "for w in range(1, 336):\n",
        "    tmp[f'flow{w}'] = tmp['flow'].shift(-w)\n",
        "\n",
        "y_hat = submission.loc[:, 'h0':'h335'].to_numpy()[:8089]\n",
        "tmp = tmp.dropna().loc[:, 'flow':'flow335'].to_numpy()\n",
        "mean_absolute_error(tmp, y_hat)"
      ]
    },
    {
      "cell_type": "code",
      "source": [
        "idx = 24*102\n",
        "plt.plot(tmp[idx][:24], label='real')\n",
        "plt.plot(submission.loc[idx, 'h0':'h335'].values[:24], label='pred')\n",
        "plt.legend()"
      ],
      "metadata": {
        "colab": {
          "base_uri": "https://localhost:8080/",
          "height": 286
        },
        "id": "FKZaQmWsOtv4",
        "outputId": "c99db1dc-0431-4b34-cc64-ea0461bcffea"
      },
      "execution_count": 404,
      "outputs": [
        {
          "output_type": "execute_result",
          "data": {
            "text/plain": [
              "<matplotlib.legend.Legend at 0x7fca9290bf70>"
            ]
          },
          "metadata": {},
          "execution_count": 404
        },
        {
          "output_type": "display_data",
          "data": {
            "text/plain": [
              "<Figure size 432x288 with 1 Axes>"
            ],
            "image/png": "[encoded data removed]"
          },
          "metadata": {}
        }
      ]
    },
    {
      "cell_type": "markdown",
      "source": [
        "### DLinear 모델 학습"
      ],
      "metadata": {
        "id": "tYYMvziLnTsS"
      }
    },
    {
      "cell_type": "markdown",
      "source": [
        "#### 모델 학습 준비"
      ],
      "metadata": {
        "id": "jCiYE5Brr7AH"
      }
    },
    {
      "cell_type": "code",
      "source": [
        "dlinear_args = EasyDict({\n",
        "    'weight_folder_path':'./weights',\n",
        "    'model_name':'dlinear',\n",
        "    'window':336,\n",
        "    'gap':1,\n",
        "    'num_classes':336,\n",
        "    'num_epochs':100,\n",
        "    'num_folds':5,\n",
        "    'bs':512,\n",
        "    'lr':1e-2,\n",
        "    'lr_gamma':0.98,\n",
        "    'weight_decay':1e-2,\n",
        "    'max_norm':1.0,\n",
        "    'seed':22,\n",
        "    'seq_len':336,\n",
        "    'pred_len':336,\n",
        "    'enc_in':1,\n",
        "    'individual':False,\n",
        "})"
      ],
      "metadata": {
        "id": "2Wnj0XKTr8Q3"
      },
      "execution_count": 374,
      "outputs": []
    },
    {
      "cell_type": "code",
      "source": [
        "create_folder(dlinear_args.weight_folder_path)"
      ],
      "metadata": {
        "id": "icQ1retgdGZP"
      },
      "execution_count": 375,
      "outputs": []
    },
    {
      "cell_type": "code",
      "source": [
        "Xs, ys = ts_train2supervised(flow_scaled, window=dlinear_args.window, gap=dlinear_args.gap, step=dlinear_args.num_classes)  # s == scaled\n",
        "Xs, ys = Xs[24*365:], ys[24*365:]  # 2017년 제거\n",
        "ys = ys.squeeze(2)"
      ],
      "metadata": {
        "id": "8936Tl5rvLOY"
      },
      "execution_count": 376,
      "outputs": []
    },
    {
      "cell_type": "code",
      "source": [
        "early_stopping = EarlyStopping(patience=20,\n",
        "                               monitor='mae',\n",
        "                               mode='min',\n",
        "                               folder_path=dlinear_args.weight_folder_path,\n",
        "                               model_name=dlinear_args.model_name)"
      ],
      "metadata": {
        "id": "sEFvOtDlsEV4"
      },
      "execution_count": 377,
      "outputs": []
    },
    {
      "cell_type": "code",
      "source": [
        "# ref: https://github.com/cure-lab/LTSF-Linear/blob/main/models/DLinear.py\n",
        "class moving_avg(nn.Module):\n",
        "    \"\"\"\n",
        "    Moving average block to highlight the trend of time series\n",
        "    \"\"\"\n",
        "    def __init__(self, kernel_size, stride):\n",
        "        super(moving_avg, self).__init__()\n",
        "        self.kernel_size = kernel_size\n",
        "        self.avg = nn.AvgPool1d(kernel_size=kernel_size, stride=stride, padding=0)\n",
        "\n",
        "    def forward(self, x):\n",
        "        # padding on the both ends of time series\n",
        "        front = x[:, 0:1, :].repeat(1, (self.kernel_size - 1) // 2, 1)\n",
        "        end = x[:, -1:, :].repeat(1, (self.kernel_size - 1) // 2, 1)\n",
        "        x = torch.cat([front, x, end], dim=1)\n",
        "        x = self.avg(x.permute(0, 2, 1))\n",
        "        x = x.permute(0, 2, 1)\n",
        "        return x\n",
        "\n",
        "\n",
        "class series_decomp(nn.Module):\n",
        "    \"\"\"\n",
        "    Series decomposition block\n",
        "    \"\"\"\n",
        "    def __init__(self, kernel_size):\n",
        "        super(series_decomp, self).__init__()\n",
        "        self.moving_avg = moving_avg(kernel_size, stride=1)\n",
        "\n",
        "    def forward(self, x):\n",
        "        moving_mean = self.moving_avg(x)\n",
        "        res = x - moving_mean\n",
        "        return res, moving_mean\n",
        "\n",
        "class DLinear(nn.Module):\n",
        "    \"\"\"\n",
        "    Decomposition-Linear\n",
        "    \"\"\"\n",
        "    def __init__(self, configs):\n",
        "        super(DLinear, self).__init__()\n",
        "        self.seq_len = configs.seq_len\n",
        "        self.pred_len = configs.pred_len\n",
        "        self.revin_layer = RevIN(configs.enc_in)  # 시간에 따라 변하는 시계열의 평균과 분산을 스케일링\n",
        "\n",
        "        # Decompsition Kernel Size\n",
        "        kernel_size = 25\n",
        "        self.decompsition = series_decomp(kernel_size)\n",
        "        self.individual = configs.individual\n",
        "        self.channels = configs.enc_in\n",
        "\n",
        "        if self.individual:\n",
        "            self.Linear_Seasonal = nn.ModuleList()\n",
        "            self.Linear_Trend = nn.ModuleList()\n",
        "            \n",
        "            for i in range(self.channels):\n",
        "                self.Linear_Seasonal.append(nn.Linear(self.seq_len, self.pred_len))\n",
        "                self.Linear_Trend.append(nn.Linear(self.seq_len, self.pred_len))\n",
        "\n",
        "                # Use this two lines if you want to visualize the weights\n",
        "                # self.Linear_Seasonal[i].weight = nn.Parameter((1/self.seq_len)*torch.ones([self.pred_len, self.seq_len]))\n",
        "                # self.Linear_Trend[i].weight = nn.Parameter((1/self.seq_len)*torch.ones([self.pred_len, self.seq_len]))\n",
        "        else:\n",
        "            self.Linear_Seasonal = nn.Linear(self.seq_len, self.pred_len)\n",
        "            self.Linear_Trend = nn.Linear(self.seq_len, self.pred_len)\n",
        "            \n",
        "            # Use this two lines if you want to visualize the weights\n",
        "            # self.Linear_Seasonal.weight = nn.Parameter((1/self.seq_len)*torch.ones([self.pred_len,self.seq_len]))\n",
        "            # self.Linear_Trend.weight = nn.Parameter((1/self.seq_len)*torch.ones([self.pred_len,self.seq_len]))\n",
        "\n",
        "    def forward(self, x):\n",
        "        x = self.revin_layer(x, 'norm')\n",
        "        # x: [Batch, Input length, Channel]\n",
        "        seasonal_init, trend_init = self.decompsition(x)\n",
        "        seasonal_init, trend_init = seasonal_init.permute(0,2,1), trend_init.permute(0,2,1)\n",
        "        if self.individual:\n",
        "            seasonal_output = torch.zeros([seasonal_init.size(0),seasonal_init.size(1),self.pred_len], dtype=seasonal_init.dtype).to(seasonal_init.device)\n",
        "            trend_output = torch.zeros([trend_init.size(0),trend_init.size(1),self.pred_len],dtype=trend_init.dtype).to(trend_init.device)\n",
        "            for i in range(self.channels):\n",
        "                seasonal_output[:,i,:] = self.Linear_Seasonal[i](seasonal_init[:,i,:])\n",
        "                trend_output[:,i,:] = self.Linear_Trend[i](trend_init[:,i,:])\n",
        "        else:\n",
        "            seasonal_output = self.Linear_Seasonal(seasonal_init)\n",
        "            trend_output = self.Linear_Trend(trend_init)\n",
        "\n",
        "        x = seasonal_output + trend_output\n",
        "        x = self.revin_layer(x, 'denorm')\n",
        "        return x.permute(0,2,1) # to [Batch, Output length, Channel]"
      ],
      "metadata": {
        "id": "lvHvoNuOGavd"
      },
      "execution_count": 378,
      "outputs": []
    },
    {
      "cell_type": "markdown",
      "source": [
        "#### 모델 학습 및 검증"
      ],
      "metadata": {
        "id": "x_TCsywLsI46"
      }
    },
    {
      "cell_type": "code",
      "source": [
        "seed_everything(dlinear_args.seed)\n",
        "model = DLinear(dlinear_args)"
      ],
      "metadata": {
        "id": "yysiz2UdsRbH"
      },
      "execution_count": 379,
      "outputs": []
    },
    {
      "cell_type": "code",
      "source": [
        "model, fold_train_losses_per_epoch, fold_valid_losses_per_epoch = kfold_cross_validate(model, Xs, ys, loss_fn, \n",
        "                                                                                       early_stopping, DEVICE, dlinear_args)"
      ],
      "metadata": {
        "id": "0B81Y6ibsLKA",
        "colab": {
          "base_uri": "https://localhost:8080/",
          "height": 1000,
          "referenced_widgets": [
            "f00bb0eeabac410585800ca90496dc9d",
            "cf5da9d8f82343bd8a652df9576299a3",
            "bf857b364c65408a853dbc3d0d9cd30a",
            "c323498b04e148ba90a6aed9a2d34b92",
            "339edcc3596a4f98a839af45d945d3ef",
            "3cdd7cae3a754a1aa9c86d9a409ac0e6",
            "09982578384e4b978525954599b97a3a",
            "6320057dccb4461290dd6ce33a0cdd90",
            "071a55ce47d945919b41a28abf56fc95",
            "7bc701af35784d08a15d1142581de5d1",
            "89ba436da93540a3a9855436740176e2",
            "f87cd730439748bf967695435765244c",
            "31fd816646ee47049374612397a3938a",
            "db2991c25ca14c2dbc1cec86164e1e3c",
            "8f9c47083c954ce5af9026755be4f654",
            "0193850de247473e83cc47899d55084a",
            "4d272cf4acb441b88162f384a53b0dac",
            "6748fbf43c6746f493f854b0b077de06",
            "1c5824a941ea4a89b46dd6b573202993",
            "1ae3714b8af446779c14b219fa45a83c",
            "a600fe3b8d124ec98e28aeb500cb5a06",
            "06e2cd550aee46868eda9cbebad370c1",
            "2bd911c8aa6a4ed3b83fc3ff4fbdee30",
            "6fd399f269284564b9d8bb5658326241",
            "77d8f360e3804970b2b3173897ee1a59",
            "a6732f929570400f82e9fb8ee4ee3bb6",
            "1e52d959c399433fa5c0ce0a6c2c4d85",
            "e8b8c85ff860473f8d2ff57cd0f94c7f",
            "26466843f03f47a68bc41da8e3963ff7",
            "ef5b8d5854d048c49bfc85d526360345",
            "c833438d6f024f7d97c51f16a74a7db3",
            "23821c0bc41043b0a69c407ecae16f59",
            "dd43ae5f47914897ab9e193516d0d64b",
            "e7b6162e44fa411ba051aff4539f2f4a",
            "a24969db52494f339f1408577a9559b5",
            "b2b30511df8a4abea1041a0c157b2406",
            "3ac49194aaed4a459c7ee594e75d61a6",
            "3d340d0d34904628920c34b7795accee",
            "2e724e7b287c43788d308c822cd38ef8",
            "565befc3db8445b58233050e6deec918",
            "3fd9ad51ca054e0ebf48f1c1052d17f6",
            "2ecaa7b449a741a28632d9b28352c567",
            "c23ab5d6624e41aa922ad70afa39481f",
            "9e9b41051a494e92bfaae4006b7ceb6e",
            "b9fda346c34c47f5bd0e805e89573ed7",
            "9372fb0835ec43a8a50c9ef5d0f0e1e3",
            "4b39f3c2e1314054a78d93b4a9b31c15",
            "37ae2623d4724a37b939eb20e02fcf4c",
            "8f21aecf87c8488495c17b62ea87485d",
            "62ea6277ca214c7fa95c3ea38a690f80",
            "35b06e37733f4964bcacbf1f9b5041d1",
            "affa57082ccc408fbc49fb5a5111f537",
            "3b2461499665464a8892cb9a8e4b90e4",
            "eef4ce5bb8844d008334e6ed6289005f",
            "c8d27849f5dc47fdb5428aad5168f3d9"
          ]
        },
        "outputId": "d8c97607-1f70-45da-bed2-6b9820dc1674"
      },
      "execution_count": 380,
      "outputs": [
        {
          "output_type": "stream",
          "name": "stdout",
          "text": [
            "[1 / 5] Fold Training......\n"
          ]
        },
        {
          "output_type": "display_data",
          "data": {
            "text/plain": [
              "  0%|          | 0/100 [00:00<?, ?it/s]"
            ],
            "application/vnd.jupyter.widget-view+json": {
              "version_major": 2,
              "version_minor": 0,
              "model_id": "f00bb0eeabac410585800ca90496dc9d"
            }
          },
          "metadata": {}
        },
        {
          "output_type": "stream",
          "name": "stdout",
          "text": [
            "[Epoch:  1]  train loss = 0.11251  valid loss = 0.09953  valid MAE = 29.40172\n",
            "[Epoch: 10]  train loss = 0.07679  valid loss = 0.07951  valid MAE = 23.49200\n",
            "[Epoch: 20]  train loss = 0.07587  valid loss = 0.07859  valid MAE = 23.21918\n",
            "[Epoch: 30]  train loss = 0.07534  valid loss = 0.07806  valid MAE = 23.06527\n",
            "[Epoch: 40]  train loss = 0.07499  valid loss = 0.07756  valid MAE = 22.91986\n",
            "[Epoch: 50]  train loss = 0.07453  valid loss = 0.07729  valid MAE = 22.84171\n",
            "[Epoch: 60]  train loss = 0.07421  valid loss = 0.07705  valid MAE = 22.77053\n",
            "[Epoch: 70]  train loss = 0.07400  valid loss = 0.07685  valid MAE = 22.71248\n",
            "[Epoch: 80]  train loss = 0.07377  valid loss = 0.07677  valid MAE = 22.68796\n",
            "[Epoch: 90]  train loss = 0.07366  valid loss = 0.07651  valid MAE = 22.61208\n",
            "[Epoch: 100]  train loss = 0.07344  valid loss = 0.07662  valid MAE = 22.64488\n",
            "1 Fold -> Best Valid Loss: 0.07646 Valid MAE: 22.59766\n",
            "\n",
            "[2 / 5] Fold Training......\n"
          ]
        },
        {
          "output_type": "display_data",
          "data": {
            "text/plain": [
              "  0%|          | 0/100 [00:00<?, ?it/s]"
            ],
            "application/vnd.jupyter.widget-view+json": {
              "version_major": 2,
              "version_minor": 0,
              "model_id": "f87cd730439748bf967695435765244c"
            }
          },
          "metadata": {}
        },
        {
          "output_type": "stream",
          "name": "stdout",
          "text": [
            "[Epoch:  1]  train loss = 0.09459  valid loss = 0.08228  valid MAE = 24.00872\n",
            "[Epoch: 10]  train loss = 0.07734  valid loss = 0.07545  valid MAE = 22.00116\n",
            "[Epoch: 20]  train loss = 0.07688  valid loss = 0.07488  valid MAE = 21.83250\n",
            "[Epoch: 30]  train loss = 0.07625  valid loss = 0.07421  valid MAE = 21.64609\n",
            "[Epoch: 40]  train loss = 0.07588  valid loss = 0.07394  valid MAE = 21.57038\n",
            "[Epoch: 50]  train loss = 0.07547  valid loss = 0.07349  valid MAE = 21.43341\n",
            "[Epoch: 60]  train loss = 0.07515  valid loss = 0.07333  valid MAE = 21.38468\n",
            "[Epoch: 70]  train loss = 0.07492  valid loss = 0.07307  valid MAE = 21.31231\n",
            "[Epoch: 80]  train loss = 0.07468  valid loss = 0.07292  valid MAE = 21.26271\n",
            "[Epoch: 90]  train loss = 0.07456  valid loss = 0.07284  valid MAE = 21.24262\n",
            "[Epoch: 100]  train loss = 0.07440  valid loss = 0.07273  valid MAE = 21.20654\n",
            "2 Fold -> Best Valid Loss: 0.07273 Valid MAE: 21.20654\n",
            "\n",
            "[3 / 5] Fold Training......\n"
          ]
        },
        {
          "output_type": "display_data",
          "data": {
            "text/plain": [
              "  0%|          | 0/100 [00:00<?, ?it/s]"
            ],
            "application/vnd.jupyter.widget-view+json": {
              "version_major": 2,
              "version_minor": 0,
              "model_id": "2bd911c8aa6a4ed3b83fc3ff4fbdee30"
            }
          },
          "metadata": {}
        },
        {
          "output_type": "stream",
          "name": "stdout",
          "text": [
            "[Epoch:  1]  train loss = 0.08913  valid loss = 0.08506  valid MAE = 25.04603\n",
            "[Epoch: 10]  train loss = 0.07974  valid loss = 0.08230  valid MAE = 24.23008\n",
            "[Epoch: 20]  train loss = 0.07837  valid loss = 0.08035  valid MAE = 23.65457\n",
            "[Epoch: 30]  train loss = 0.07766  valid loss = 0.07943  valid MAE = 23.39352\n",
            "[Epoch: 40]  train loss = 0.07647  valid loss = 0.07822  valid MAE = 23.04142\n",
            "[Epoch: 50]  train loss = 0.07618  valid loss = 0.07749  valid MAE = 22.80981\n",
            "[Epoch: 60]  train loss = 0.07537  valid loss = 0.07688  valid MAE = 22.64132\n",
            "[Epoch: 70]  train loss = 0.07487  valid loss = 0.07634  valid MAE = 22.48220\n",
            "[Epoch: 80]  train loss = 0.07459  valid loss = 0.07593  valid MAE = 22.35980\n",
            "[Epoch: 90]  train loss = 0.07435  valid loss = 0.07561  valid MAE = 22.27000\n",
            "[Epoch: 100]  train loss = 0.07406  valid loss = 0.07544  valid MAE = 22.22765\n",
            "3 Fold -> Best Valid Loss: 0.07546 Valid MAE: 22.22739\n",
            "\n",
            "[4 / 5] Fold Training......\n"
          ]
        },
        {
          "output_type": "display_data",
          "data": {
            "text/plain": [
              "  0%|          | 0/100 [00:00<?, ?it/s]"
            ],
            "application/vnd.jupyter.widget-view+json": {
              "version_major": 2,
              "version_minor": 0,
              "model_id": "e7b6162e44fa411ba051aff4539f2f4a"
            }
          },
          "metadata": {}
        },
        {
          "output_type": "stream",
          "name": "stdout",
          "text": [
            "[Epoch:  1]  train loss = 0.08772  valid loss = 0.08205  valid MAE = 24.03980\n",
            "[Epoch: 10]  train loss = 0.07734  valid loss = 0.08075  valid MAE = 23.66957\n",
            "[Epoch: 20]  train loss = 0.07664  valid loss = 0.08017  valid MAE = 23.49756\n",
            "[Epoch: 30]  train loss = 0.07612  valid loss = 0.07962  valid MAE = 23.34511\n",
            "[Epoch: 40]  train loss = 0.07559  valid loss = 0.07900  valid MAE = 23.16686\n",
            "[Epoch: 50]  train loss = 0.07519  valid loss = 0.07855  valid MAE = 23.03497\n",
            "[Epoch: 60]  train loss = 0.07489  valid loss = 0.07832  valid MAE = 22.97016\n",
            "[Epoch: 70]  train loss = 0.07464  valid loss = 0.07796  valid MAE = 22.86676\n",
            "[Epoch: 80]  train loss = 0.07441  valid loss = 0.07767  valid MAE = 22.78173\n",
            "[Epoch: 90]  train loss = 0.07420  valid loss = 0.07749  valid MAE = 22.73268\n",
            "[Epoch: 100]  train loss = 0.07406  valid loss = 0.07750  valid MAE = 22.73193\n",
            "4 Fold -> Best Valid Loss: 0.07745 Valid MAE: 22.72018\n",
            "\n",
            "[5 / 5] Fold Training......\n"
          ]
        },
        {
          "output_type": "display_data",
          "data": {
            "text/plain": [
              "  0%|          | 0/100 [00:00<?, ?it/s]"
            ],
            "application/vnd.jupyter.widget-view+json": {
              "version_major": 2,
              "version_minor": 0,
              "model_id": "b9fda346c34c47f5bd0e805e89573ed7"
            }
          },
          "metadata": {}
        },
        {
          "output_type": "stream",
          "name": "stdout",
          "text": [
            "[Epoch:  1]  train loss = 0.08639  valid loss = 0.08010  valid MAE = 23.52003\n",
            "[Epoch: 10]  train loss = 0.07786  valid loss = 0.07951  valid MAE = 23.34890\n",
            "[Epoch: 20]  train loss = 0.07722  valid loss = 0.07875  valid MAE = 23.12455\n",
            "[Epoch: 30]  train loss = 0.07667  valid loss = 0.07819  valid MAE = 22.94683\n",
            "[Epoch: 40]  train loss = 0.07619  valid loss = 0.07768  valid MAE = 22.79905\n",
            "[Epoch: 50]  train loss = 0.07581  valid loss = 0.07731  valid MAE = 22.68397\n",
            "[Epoch: 60]  train loss = 0.07555  valid loss = 0.07695  valid MAE = 22.58488\n",
            "[Epoch: 70]  train loss = 0.07528  valid loss = 0.07678  valid MAE = 22.53426\n",
            "[Epoch: 80]  train loss = 0.07508  valid loss = 0.07653  valid MAE = 22.45928\n",
            "[Epoch: 90]  train loss = 0.07489  valid loss = 0.07638  valid MAE = 22.41740\n",
            "[Epoch: 100]  train loss = 0.07473  valid loss = 0.07621  valid MAE = 22.36754\n",
            "5 Fold -> Best Valid Loss: 0.07621 Valid MAE: 22.36754\n",
            "\n",
            "5 Fold Mean Valid Best Loss: 0.07566\n",
            "5 Fold Mean Valid Accuracy: 22.22386\n"
          ]
        }
      ]
    },
    {
      "cell_type": "code",
      "source": [
        "show_loss_plot(fold_train_losses_per_epoch, fold_valid_losses_per_epoch)"
      ],
      "metadata": {
        "colab": {
          "base_uri": "https://localhost:8080/",
          "height": 623
        },
        "id": "RF93bFv1S3IQ",
        "outputId": "3d8b8274-b05a-4c92-f382-c656c3589250"
      },
      "execution_count": 381,
      "outputs": [
        {
          "output_type": "display_data",
          "data": {
            "text/plain": [
              "<Figure size 864x576 with 5 Axes>"
            ],
            "image/png": "[encoded data removed]"
          },
          "metadata": {}
        }
      ]
    },
    {
      "cell_type": "markdown",
      "source": [
        "#### Test 예측"
      ],
      "metadata": {
        "id": "EVxp8sa7JQnT"
      }
    },
    {
      "cell_type": "code",
      "source": [
        "flow_scaled_all = np.concatenate([flow_scaled[-dlinear_args.window:], flow_scaled_test])  # train + test\n",
        "Xs_test = ts_test2supervised(flow_scaled_all, window=dlinear_args.window)   "
      ],
      "metadata": {
        "id": "1bWTVvZLYO-P"
      },
      "execution_count": 382,
      "outputs": []
    },
    {
      "cell_type": "code",
      "source": [
        "preds = predict(model, Xs_test, DEVICE, dlinear_args)"
      ],
      "metadata": {
        "colab": {
          "base_uri": "https://localhost:8080/",
          "height": 49,
          "referenced_widgets": [
            "dbefb643cf7a48fcb507c72e394bc013",
            "9f9a27e984444c5da0ebabf000579de1",
            "179763c6ae454363adf8104238388964",
            "3ecd0e72bf1f4991894daca4dc13538b",
            "dd1d171aaa2e46f4ab7ba5cda2bc1ed1",
            "c5b029aa93d0487e994658d72dd68261",
            "9b9ba09454c243c282dce1094da4ecfd",
            "0c2925fc5ee549238603b319fa4dab06",
            "0d871f8bee094470a3a7e22d67f3f805",
            "ecaa653b3cba46f0ac8270568baed4b6",
            "77bd950ad6cc4e0ab46a934d09a9fe7d"
          ]
        },
        "id": "EYVl_U0qJYhs",
        "outputId": "40075468-18e3-4771-f490-4c1f56bab31c"
      },
      "execution_count": 383,
      "outputs": [
        {
          "output_type": "display_data",
          "data": {
            "text/plain": [
              "  0%|          | 0/16 [00:00<?, ?it/s]"
            ],
            "application/vnd.jupyter.widget-view+json": {
              "version_major": 2,
              "version_minor": 0,
              "model_id": "dbefb643cf7a48fcb507c72e394bc013"
            }
          },
          "metadata": {}
        }
      ]
    },
    {
      "cell_type": "code",
      "source": [
        "preds = minmax_scaler.inverse_transform(preds)\n",
        "submission.loc[:, 'h0':'h335'] = postprocessing(preds, MIN, MAX)\n",
        "# submission.to_csv(f'./data/submission_apo_{dlinear_args.model_name}.csv', index=False)"
      ],
      "metadata": {
        "id": "gMyFz-XDJbMj"
      },
      "execution_count": 384,
      "outputs": []
    },
    {
      "cell_type": "markdown",
      "source": [
        "- 성능 확인"
      ],
      "metadata": {
        "id": "TJ_EEHeLKKfK"
      }
    },
    {
      "cell_type": "code",
      "source": [
        "tmp = test.copy()\n",
        "for w in range(1, 336):\n",
        "    tmp[f'flow{w}'] = tmp['flow'].shift(-w)\n",
        "\n",
        "y_hat = submission.loc[:, 'h0':'h335'].to_numpy()[:8089]\n",
        "tmp = tmp.dropna().loc[:, 'flow':'flow335'].to_numpy()\n",
        "mean_absolute_error(tmp, y_hat)"
      ],
      "metadata": {
        "colab": {
          "base_uri": "https://localhost:8080/"
        },
        "id": "15u5KWHcJle6",
        "outputId": "7ee81425-a322-4253-b148-304c02a966be"
      },
      "execution_count": 385,
      "outputs": [
        {
          "output_type": "execute_result",
          "data": {
            "text/plain": [
              "22.538765901959746"
            ]
          },
          "metadata": {},
          "execution_count": 385
        }
      ]
    },
    {
      "cell_type": "code",
      "source": [
        "idx = 24*102\n",
        "plt.plot(tmp[idx][:24], label='real')\n",
        "plt.plot(submission.loc[idx, 'h0':'h335'].values[:24], label='pred')\n",
        "plt.legend()"
      ],
      "metadata": {
        "colab": {
          "base_uri": "https://localhost:8080/",
          "height": 286
        },
        "id": "_eYvwtb6HRYp",
        "outputId": "6548a827-1424-412e-da17-7b45708576ce"
      },
      "execution_count": 386,
      "outputs": [
        {
          "output_type": "execute_result",
          "data": {
            "text/plain": [
              "<matplotlib.legend.Legend at 0x7fca918c6d60>"
            ]
          },
          "metadata": {},
          "execution_count": 386
        },
        {
          "output_type": "display_data",
          "data": {
            "text/plain": [
              "<Figure size 432x288 with 1 Axes>"
            ],
            "image/png": "[encoded data removed]"
          },
          "metadata": {}
        }
      ]
    },
    {
      "cell_type": "markdown",
      "source": [
        "### NLinear 모델 학습\n"
      ],
      "metadata": {
        "id": "m4cgzujcKNAh"
      }
    },
    {
      "cell_type": "markdown",
      "source": [
        "#### 모델 학습 준비"
      ],
      "metadata": {
        "id": "wFObQBSDLECa"
      }
    },
    {
      "cell_type": "code",
      "source": [
        "nlinear_args = EasyDict({\n",
        "    'weight_folder_path':'./weights',\n",
        "    'model_name':'nlinear',\n",
        "    'window':336,\n",
        "    'gap':1,\n",
        "    'num_classes':336,\n",
        "    'num_epochs':100,\n",
        "    'num_folds':5,\n",
        "    'bs':512,\n",
        "    'lr':1e-2,\n",
        "    'lr_gamma':0.98,\n",
        "    'weight_decay':1e-2,\n",
        "    'max_norm':1.0,\n",
        "    'seed':22,\n",
        "    'seq_len':336,\n",
        "    'pred_len':336,\n",
        "    'enc_in':1,\n",
        "    'individual':False,\n",
        "})"
      ],
      "metadata": {
        "id": "yzZdE-BTLFvz"
      },
      "execution_count": 351,
      "outputs": []
    },
    {
      "cell_type": "code",
      "source": [
        "create_folder(nlinear_args.weight_folder_path)"
      ],
      "metadata": {
        "id": "Ygkvh1RadI7v"
      },
      "execution_count": 352,
      "outputs": []
    },
    {
      "cell_type": "code",
      "source": [
        "Xs, ys = ts_train2supervised(flow_scaled, window=nlinear_args.window, gap=nlinear_args.gap, step=nlinear_args.num_classes)  # s == scaled\n",
        "ys = ys.squeeze(2)\n",
        "Xs, ys = Xs[24*365:], ys[24*365:]  # 2017년 제거"
      ],
      "metadata": {
        "id": "M5pQnztALUj7"
      },
      "execution_count": 353,
      "outputs": []
    },
    {
      "cell_type": "code",
      "source": [
        "early_stopping = EarlyStopping(patience=20,\n",
        "                               monitor='mae',\n",
        "                               mode='min',\n",
        "                               folder_path=nlinear_args.weight_folder_path,\n",
        "                               model_name=nlinear_args.model_name)"
      ],
      "metadata": {
        "id": "fmiyG42ELYH7"
      },
      "execution_count": 354,
      "outputs": []
    },
    {
      "cell_type": "code",
      "source": [
        "class NLinear(nn.Module):\n",
        "    \"\"\"\n",
        "    Normalization-Linear\n",
        "    \"\"\"\n",
        "    def __init__(self, configs):\n",
        "        super(NLinear, self).__init__()\n",
        "        self.seq_len = configs.seq_len\n",
        "        self.pred_len = configs.pred_len\n",
        "        self.Linear = nn.Linear(self.seq_len, self.pred_len)\n",
        "        self.revin_layer = RevIN(configs.enc_in)  # 시간에 따라 변하는 시계열의 평균과 분산을 스케일링\n",
        "        # Use this line if you want to visualize the weights\n",
        "        # self.Linear.weight = nn.Parameter((1/self.seq_len)*torch.ones([self.pred_len,self.seq_len]))\n",
        "\n",
        "    def forward(self, x):\n",
        "        x = self.revin_layer(x, 'norm')\n",
        "        # x: [Batch, Input length, Channel]\n",
        "        seq_last = x[:, -1:, :].detach()\n",
        "        x = x - seq_last\n",
        "        x = self.Linear(x.permute(0, 2, 1)).permute(0, 2, 1)\n",
        "        x = x + seq_last\n",
        "        x = self.revin_layer(x, 'denorm')\n",
        "        return x # [Batch, Output length, Channel]"
      ],
      "metadata": {
        "id": "TRdXEBaBLsD5"
      },
      "execution_count": 355,
      "outputs": []
    },
    {
      "cell_type": "markdown",
      "source": [
        "#### 모델 학습 및 검증"
      ],
      "metadata": {
        "id": "ZZAEfg88Lcn5"
      }
    },
    {
      "cell_type": "code",
      "source": [
        "seed_everything(nlinear_args.seed)\n",
        "model = NLinear(nlinear_args)"
      ],
      "metadata": {
        "id": "ZzCydpJVLnph"
      },
      "execution_count": 356,
      "outputs": []
    },
    {
      "cell_type": "code",
      "source": [
        "model, fold_train_losses_per_epoch, fold_valid_losses_per_epoch = kfold_cross_validate(model, Xs, ys, loss_fn, \n",
        "                                                                                       early_stopping, DEVICE, nlinear_args)"
      ],
      "metadata": {
        "colab": {
          "base_uri": "https://localhost:8080/",
          "height": 1000,
          "referenced_widgets": [
            "51801c6122e740cc9d3505370488f127",
            "0cb93604656740aebd364e0674d27d40",
            "0d5ab81579224f43ace831e10a038a45",
            "224c791afa6445e2811f7b6768eaeba6",
            "26cea4e80a9248419c9e26a0efa89a91",
            "639cf786797440fdba1633f101f26faa",
            "cfcef53bf2df41198281c70fe9b97f47",
            "44d0a1e4af824b69a0cde005b2786717",
            "fec04afe72f9437389e49f6e0ae99bc4",
            "55dd3856d1384d2e92134d3116355ce1",
            "f2981087cbe84b508b054f1868bd090b",
            "acb774c90225464b84869c1a989cc1fd",
            "a8133030b16f463da3d1e96bf54ad4d3",
            "90bbd9b7983d47f38fbc00f635a44ba0",
            "2131774f207a4b70a11c3784cca9bfef",
            "123a035a620240eba52d3b770667de00",
            "f379493389a848d69cdd8db4f60c5bb4",
            "c0f4aab246a843159efa3f62cc927702",
            "ea57f5eb0b6d4f18a7cc643b5acf8630",
            "d0110fd3db2c43f8a0d71776a3b3d160",
            "d0c0b2b635134b388eda0998cf560eff",
            "377356d67a6b4e8ba0eb69cbd734585b",
            "346f0ef9aac9466996caf06149fb3413",
            "82b9eeb229a543c0910ceea38000ea5b",
            "d79751b0235f4c43ba02710dabc950e6",
            "d7d2290228b54d9ea3c9d5fef254f6f8",
            "11cc132b7c304399aac5cbed7ae522a6",
            "8efcb08c06f048dd88c510ce62b266e4",
            "8231d601b3a74fc2bacc57dbc10993f6",
            "8076389670f94ff1a9c48f76374c7ee1",
            "c3c202cd00f8443593d2d35a34e49f1a",
            "0810745998b4439589285464a16b8887",
            "5d4ede0cee33452e8d10b0abe584bebc",
            "fddb460dfe6f4cbb958022a715bb0816",
            "f2b8da1a7f1c4c6ba6b8bb3c9f03fd2c",
            "4054104bc9ea48208ad7c57f1420a7d0",
            "5b12a90dd0ec4ab6b7168610da3fa649",
            "ce25f78362d949e6a2da7ff8ba46cf44",
            "c691a08f903e468080555798e92abd99",
            "04bddc91b0484af38e206c05a9bbbe20",
            "c4642ecb577b49cc8539534b1d467519",
            "50634e2c10f442778860874742850748",
            "b0916bfe5e8945c283f923b0742fdab3",
            "12bcaf7cfc2e4b89b44279d6015b5fcc",
            "167c9fcf0df649acb72c69d72d445100",
            "6a7e94c85abc4981807f1de2a4ecc283",
            "c99f2cd6c46444ba9f04a403414ea634",
            "045bfbcf209b4fda9a7e345df57db5c1",
            "6f6f9d9796e84a17910e35f6c6090881",
            "6147bf07259c433db21aade5e0705d18",
            "9bd13c6d4ce943738291f52b25c398e3",
            "1a2440f702f944f58b491f1e496985cf",
            "69fee8ff6356489f842466e48d2b9ab8",
            "353c8458dc094b6cbfb5441bb7e2a7d0",
            "bb15f7beaac84651abbba79adddb3643"
          ]
        },
        "id": "4xuGGGkeLqKK",
        "outputId": "9e858a4a-ade0-4625-bd45-4be59e30142d"
      },
      "execution_count": 357,
      "outputs": [
        {
          "output_type": "stream",
          "name": "stdout",
          "text": [
            "[1 / 5] Fold Training......\n"
          ]
        },
        {
          "output_type": "display_data",
          "data": {
            "text/plain": [
              "  0%|          | 0/100 [00:00<?, ?it/s]"
            ],
            "application/vnd.jupyter.widget-view+json": {
              "version_major": 2,
              "version_minor": 0,
              "model_id": "51801c6122e740cc9d3505370488f127"
            }
          },
          "metadata": {}
        },
        {
          "output_type": "stream",
          "name": "stdout",
          "text": [
            "[Epoch:  1]  train loss = 0.18359  valid loss = 0.15244  valid MAE = 45.01435\n",
            "[Epoch: 10]  train loss = 0.07866  valid loss = 0.08236  valid MAE = 24.33033\n",
            "[Epoch: 20]  train loss = 0.07614  valid loss = 0.07943  valid MAE = 23.47250\n",
            "[Epoch: 30]  train loss = 0.07529  valid loss = 0.07849  valid MAE = 23.19494\n",
            "[Epoch: 40]  train loss = 0.07472  valid loss = 0.07801  valid MAE = 23.05522\n",
            "[Epoch: 50]  train loss = 0.07423  valid loss = 0.07742  valid MAE = 22.88068\n",
            "[Epoch: 60]  train loss = 0.07414  valid loss = 0.07729  valid MAE = 22.84271\n",
            "[Epoch: 70]  train loss = 0.07375  valid loss = 0.07712  valid MAE = 22.79062\n",
            "[Epoch: 80]  train loss = 0.07351  valid loss = 0.07677  valid MAE = 22.68732\n",
            "[Epoch: 90]  train loss = 0.07346  valid loss = 0.07654  valid MAE = 22.62105\n",
            "[Epoch: 100]  train loss = 0.07327  valid loss = 0.07657  valid MAE = 22.62769\n",
            "1 Fold -> Best Valid Loss: 0.07648 Valid MAE: 22.60369\n",
            "\n",
            "[2 / 5] Fold Training......\n"
          ]
        },
        {
          "output_type": "display_data",
          "data": {
            "text/plain": [
              "  0%|          | 0/100 [00:00<?, ?it/s]"
            ],
            "application/vnd.jupyter.widget-view+json": {
              "version_major": 2,
              "version_minor": 0,
              "model_id": "acb774c90225464b84869c1a989cc1fd"
            }
          },
          "metadata": {}
        },
        {
          "output_type": "stream",
          "name": "stdout",
          "text": [
            "[Epoch:  1]  train loss = 0.15746  valid loss = 0.11696  valid MAE = 34.16540\n",
            "[Epoch: 10]  train loss = 0.07762  valid loss = 0.07641  valid MAE = 22.28943\n",
            "[Epoch: 20]  train loss = 0.07709  valid loss = 0.07632  valid MAE = 22.26409\n",
            "[Epoch: 30]  train loss = 0.07607  valid loss = 0.07468  valid MAE = 21.78068\n",
            "[Epoch: 40]  train loss = 0.07561  valid loss = 0.07403  valid MAE = 21.59319\n",
            "[Epoch: 50]  train loss = 0.07522  valid loss = 0.07361  valid MAE = 21.46829\n",
            "[Epoch: 60]  train loss = 0.07483  valid loss = 0.07336  valid MAE = 21.39580\n",
            "[Epoch: 70]  train loss = 0.07460  valid loss = 0.07314  valid MAE = 21.32967\n",
            "[Epoch: 80]  train loss = 0.07445  valid loss = 0.07316  valid MAE = 21.33386\n",
            "[Epoch: 90]  train loss = 0.07430  valid loss = 0.07292  valid MAE = 21.26165\n",
            "[Epoch: 100]  train loss = 0.07423  valid loss = 0.07287  valid MAE = 21.25010\n",
            "2 Fold -> Best Valid Loss: 0.07280 Valid MAE: 21.22632\n",
            "\n",
            "[3 / 5] Fold Training......\n"
          ]
        },
        {
          "output_type": "display_data",
          "data": {
            "text/plain": [
              "  0%|          | 0/100 [00:00<?, ?it/s]"
            ],
            "application/vnd.jupyter.widget-view+json": {
              "version_major": 2,
              "version_minor": 0,
              "model_id": "346f0ef9aac9466996caf06149fb3413"
            }
          },
          "metadata": {}
        },
        {
          "output_type": "stream",
          "name": "stdout",
          "text": [
            "[Epoch:  1]  train loss = 0.13017  valid loss = 0.09265  valid MAE = 27.27999\n",
            "[Epoch: 10]  train loss = 0.08063  valid loss = 0.09128  valid MAE = 26.88215\n",
            "[Epoch: 20]  train loss = 0.07724  valid loss = 0.08216  valid MAE = 24.19985\n",
            "[Epoch: 30]  train loss = 0.07654  valid loss = 0.08013  valid MAE = 23.60848\n",
            "[Epoch: 40]  train loss = 0.07561  valid loss = 0.07923  valid MAE = 23.34295\n",
            "[Epoch: 50]  train loss = 0.07669  valid loss = 0.07901  valid MAE = 23.26723\n",
            "[Epoch: 60]  train loss = 0.07508  valid loss = 0.07741  valid MAE = 22.79982\n",
            "[Epoch: 70]  train loss = 0.07428  valid loss = 0.07715  valid MAE = 22.72191\n",
            "[Epoch: 80]  train loss = 0.07432  valid loss = 0.07658  valid MAE = 22.55408\n",
            "[Epoch: 90]  train loss = 0.07410  valid loss = 0.07614  valid MAE = 22.42522\n",
            "[Epoch: 100]  train loss = 0.07366  valid loss = 0.07609  valid MAE = 22.41473\n",
            "3 Fold -> Best Valid Loss: 0.07579 Valid MAE: 22.31734\n",
            "\n",
            "[4 / 5] Fold Training......\n"
          ]
        },
        {
          "output_type": "display_data",
          "data": {
            "text/plain": [
              "  0%|          | 0/100 [00:00<?, ?it/s]"
            ],
            "application/vnd.jupyter.widget-view+json": {
              "version_major": 2,
              "version_minor": 0,
              "model_id": "fddb460dfe6f4cbb958022a715bb0816"
            }
          },
          "metadata": {}
        },
        {
          "output_type": "stream",
          "name": "stdout",
          "text": [
            "[Epoch:  1]  train loss = 0.12082  valid loss = 0.08738  valid MAE = 25.61667\n",
            "[Epoch: 10]  train loss = 0.07843  valid loss = 0.08185  valid MAE = 23.99996\n",
            "[Epoch: 20]  train loss = 0.07699  valid loss = 0.08173  valid MAE = 23.96538\n",
            "[Epoch: 30]  train loss = 0.07599  valid loss = 0.07979  valid MAE = 23.40199\n",
            "[Epoch: 40]  train loss = 0.07534  valid loss = 0.07921  valid MAE = 23.23135\n",
            "[Epoch: 50]  train loss = 0.07470  valid loss = 0.07832  valid MAE = 22.97319\n",
            "[Epoch: 60]  train loss = 0.07447  valid loss = 0.07824  valid MAE = 22.94943\n",
            "[Epoch: 70]  train loss = 0.07425  valid loss = 0.07775  valid MAE = 22.80752\n",
            "[Epoch: 80]  train loss = 0.07411  valid loss = 0.07784  valid MAE = 22.83323\n",
            "[Epoch: 90]  train loss = 0.07399  valid loss = 0.07776  valid MAE = 22.80956\n",
            "[Epoch: 100]  train loss = 0.07389  valid loss = 0.07759  valid MAE = 22.76091\n",
            "4 Fold -> Best Valid Loss: 0.07744 Valid MAE: 22.71608\n",
            "\n",
            "[5 / 5] Fold Training......\n"
          ]
        },
        {
          "output_type": "display_data",
          "data": {
            "text/plain": [
              "  0%|          | 0/100 [00:00<?, ?it/s]"
            ],
            "application/vnd.jupyter.widget-view+json": {
              "version_major": 2,
              "version_minor": 0,
              "model_id": "167c9fcf0df649acb72c69d72d445100"
            }
          },
          "metadata": {}
        },
        {
          "output_type": "stream",
          "name": "stdout",
          "text": [
            "[Epoch:  1]  train loss = 0.11790  valid loss = 0.08510  valid MAE = 24.99242\n",
            "[Epoch: 10]  train loss = 0.07914  valid loss = 0.08117  valid MAE = 23.83688\n",
            "[Epoch: 20]  train loss = 0.07764  valid loss = 0.07977  valid MAE = 23.42031\n",
            "[Epoch: 30]  train loss = 0.07663  valid loss = 0.07825  valid MAE = 22.96843\n",
            "[Epoch: 40]  train loss = 0.07591  valid loss = 0.07771  valid MAE = 22.80979\n",
            "[Epoch: 50]  train loss = 0.07551  valid loss = 0.07711  valid MAE = 22.63563\n",
            "[Epoch: 60]  train loss = 0.07519  valid loss = 0.07703  valid MAE = 22.61142\n",
            "[Epoch: 70]  train loss = 0.07495  valid loss = 0.07649  valid MAE = 22.45029\n",
            "[Epoch: 80]  train loss = 0.07478  valid loss = 0.07652  valid MAE = 22.45210\n",
            "[Epoch: 90]  train loss = 0.07463  valid loss = 0.07639  valid MAE = 22.41818\n",
            "[Epoch: 100]  train loss = 0.07452  valid loss = 0.07636  valid MAE = 22.41053\n",
            "5 Fold -> Best Valid Loss: 0.07611 Valid MAE: 22.33537\n",
            "\n",
            "5 Fold Mean Valid Best Loss: 0.07572\n",
            "5 Fold Mean Valid Accuracy: 22.23976\n"
          ]
        }
      ]
    },
    {
      "cell_type": "markdown",
      "source": [
        "#### Test 예측"
      ],
      "metadata": {
        "id": "pt4WcdahLg9Z"
      }
    },
    {
      "cell_type": "code",
      "source": [
        "flow_scaled_all = np.concatenate([flow_scaled[-nlinear_args.window:], flow_scaled_test])  # train + test\n",
        "Xs_test = ts_test2supervised(flow_scaled_all, window=nlinear_args.window)   "
      ],
      "metadata": {
        "id": "MPrBE6T0OU0i"
      },
      "execution_count": 358,
      "outputs": []
    },
    {
      "cell_type": "code",
      "source": [
        "preds = predict(model, Xs_test, DEVICE, nlinear_args)"
      ],
      "metadata": {
        "colab": {
          "base_uri": "https://localhost:8080/",
          "height": 49,
          "referenced_widgets": [
            "111348ccf0a94b47b5c38a9d33294809",
            "42f4214fed424a84a4c296c1912b6d47",
            "f484a1d241a44a42b23a1dfec8fd5a7c",
            "c46d59e8b8d244898065487c1a62c7b0",
            "d4399d196b404246a7f8cf8820bf11af",
            "8ba581db4dbb4635b4ec93fde27bff59",
            "df4774de8ad046969aac6659ab10c13a",
            "6dda512995ad4e5e926144a8790d4e70",
            "fa7b1b7958ac46f5837a0ad849de6f46",
            "a7a41ab8fbdc44b698253297117e2ff4",
            "08eb37b9f88b4542aabe0d5d84715547"
          ]
        },
        "id": "EnTydPTda09_",
        "outputId": "652d4183-c2a3-4fae-fc26-64004b2a35c9"
      },
      "execution_count": 359,
      "outputs": [
        {
          "output_type": "display_data",
          "data": {
            "text/plain": [
              "  0%|          | 0/16 [00:00<?, ?it/s]"
            ],
            "application/vnd.jupyter.widget-view+json": {
              "version_major": 2,
              "version_minor": 0,
              "model_id": "111348ccf0a94b47b5c38a9d33294809"
            }
          },
          "metadata": {}
        }
      ]
    },
    {
      "cell_type": "code",
      "source": [
        "preds = minmax_scaler.inverse_transform(preds)\n",
        "submission.loc[:, 'h0':'h335'] = postprocessing(preds, MIN, MAX)\n",
        "# submission.to_csv(f'./data/submission_apo_{nlinear_args.model_name}.csv', index=False)"
      ],
      "metadata": {
        "id": "WVjbY_FILmGp"
      },
      "execution_count": 360,
      "outputs": []
    },
    {
      "cell_type": "markdown",
      "source": [
        "- 성능 확인"
      ],
      "metadata": {
        "id": "qeQ8r42zMr8q"
      }
    },
    {
      "cell_type": "code",
      "source": [
        "tmp = test.copy()\n",
        "for w in range(1, 336):\n",
        "    tmp[f'flow{w}'] = tmp['flow'].shift(-w)\n",
        "\n",
        "y_hat = submission.loc[:, 'h0':'h335'].to_numpy()[:8089]\n",
        "tmp = tmp.dropna().loc[:, 'flow':'flow335'].to_numpy()\n",
        "mean_absolute_error(tmp, y_hat)"
      ],
      "metadata": {
        "colab": {
          "base_uri": "https://localhost:8080/"
        },
        "id": "SvZYThTqMs-5",
        "outputId": "d8dc397b-b81e-446c-c9d0-070ec685bf53"
      },
      "execution_count": 361,
      "outputs": [
        {
          "output_type": "execute_result",
          "data": {
            "text/plain": [
              "22.541762328617935"
            ]
          },
          "metadata": {},
          "execution_count": 361
        }
      ]
    },
    {
      "cell_type": "code",
      "source": [
        "idx = 24*102\n",
        "plt.plot(tmp[idx][:24], label='real')\n",
        "plt.plot(submission.loc[idx, 'h0':'h335'].values[:24], label='pred')\n",
        "plt.legend()"
      ],
      "metadata": {
        "id": "vCT40fCagY8A",
        "colab": {
          "base_uri": "https://localhost:8080/",
          "height": 286
        },
        "outputId": "e91c480c-13a8-4e18-adc1-528e6644c2f3"
      },
      "execution_count": 367,
      "outputs": [
        {
          "output_type": "execute_result",
          "data": {
            "text/plain": [
              "<matplotlib.legend.Legend at 0x7fca915dce20>"
            ]
          },
          "metadata": {},
          "execution_count": 367
        },
        {
          "output_type": "display_data",
          "data": {
            "text/plain": [
              "<Figure size 432x288 with 1 Axes>"
            ],
            "image/png": "[encoded data removed]"
          },
          "metadata": {}
        }
      ]
    },
    {
      "cell_type": "code",
      "source": [],
      "metadata": {
        "id": "KLqlUE-hlYt4"
      },
      "execution_count": null,
      "outputs": []
    }
  ],
  "metadata": {
    "colab": {
      "provenance": [],
      "toc_visible": true,
      "include_colab_link": true
    },
    "gpuClass": "standard",
    "kernelspec": {
      "display_name": "Python 3 (ipykernel)",
      "language": "python",
      "name": "python3"
    },
    "language_info": {
      "codemirror_mode": {
        "name": "ipython",
        "version": 3
      },
      "file_extension": ".py",
      "mimetype": "text/x-python",
      "name": "python",
      "nbconvert_exporter": "python",
      "pygments_lexer": "ipython3",
      "version": "3.8.11"
    },
    "widgets": {
      "application/vnd.jupyter.widget-state+json": {
        "89be5549a0d545e4b85a458fe8aa551c": {
          "model_module": "@jupyter-widgets/controls",
          "model_name": "HBoxModel",
          "model_module_version": "1.5.0",
          "state": {
            "_dom_classes": [],
            "_model_module": "@jupyter-widgets/controls",
            "_model_module_version": "1.5.0",
            "_model_name": "HBoxModel",
            "_view_count": null,
            "_view_module": "@jupyter-widgets/controls",
            "_view_module_version": "1.5.0",
            "_view_name": "HBoxView",
            "box_style": "",
            "children": [
              "IPY_MODEL_a89edbcda29b47d6902af88c3f12e382",
              "IPY_MODEL_d4ccad0c8c40443a83bdec788c887fa4",
              "IPY_MODEL_f89b35e91be0490ea12fe90a5be44776"
            ],
            "layout": "IPY_MODEL_4d1c3b6435f84e6e881e5142950d53af"
          }
        },
        "a89edbcda29b47d6902af88c3f12e382": {
          "model_module": "@jupyter-widgets/controls",
          "model_name": "HTMLModel",
          "model_module_version": "1.5.0",
          "state": {
            "_dom_classes": [],
            "_model_module": "@jupyter-widgets/controls",
            "_model_module_version": "1.5.0",
            "_model_name": "HTMLModel",
            "_view_count": null,
            "_view_module": "@jupyter-widgets/controls",
            "_view_module_version": "1.5.0",
            "_view_name": "HTMLView",
            "description": "",
            "description_tooltip": null,
            "layout": "IPY_MODEL_199ee8fb1cb948589562dafe17c0bc89",
            "placeholder": "​",
            "style": "IPY_MODEL_a35e8a97224b4ff5ae70677d711a1496",
            "value": " 85%"
          }
        },
        "d4ccad0c8c40443a83bdec788c887fa4": {
          "model_module": "@jupyter-widgets/controls",
          "model_name": "FloatProgressModel",
          "model_module_version": "1.5.0",
          "state": {
            "_dom_classes": [],
            "_model_module": "@jupyter-widgets/controls",
            "_model_module_version": "1.5.0",
            "_model_name": "FloatProgressModel",
            "_view_count": null,
            "_view_module": "@jupyter-widgets/controls",
            "_view_module_version": "1.5.0",
            "_view_name": "ProgressView",
            "bar_style": "danger",
            "description": "",
            "description_tooltip": null,
            "layout": "IPY_MODEL_888bc64df01349798c339c3be9c6b64d",
            "max": 100,
            "min": 0,
            "orientation": "horizontal",
            "style": "IPY_MODEL_30f7a57f8f1d4d259a4e7ad0198a5654",
            "value": 85
          }
        },
        "f89b35e91be0490ea12fe90a5be44776": {
          "model_module": "@jupyter-widgets/controls",
          "model_name": "HTMLModel",
          "model_module_version": "1.5.0",
          "state": {
            "_dom_classes": [],
            "_model_module": "@jupyter-widgets/controls",
            "_model_module_version": "1.5.0",
            "_model_name": "HTMLModel",
            "_view_count": null,
            "_view_module": "@jupyter-widgets/controls",
            "_view_module_version": "1.5.0",
            "_view_name": "HTMLView",
            "description": "",
            "description_tooltip": null,
            "layout": "IPY_MODEL_0716b2f71386458b87732ab659f6088d",
            "placeholder": "​",
            "style": "IPY_MODEL_9351e4a514c04595b2d9ac4a1adf90e0",
            "value": " 85/100 [01:22&lt;00:14,  1.07it/s]"
          }
        },
        "4d1c3b6435f84e6e881e5142950d53af": {
          "model_module": "@jupyter-widgets/base",
          "model_name": "LayoutModel",
          "model_module_version": "1.2.0",
          "state": {
            "_model_module": "@jupyter-widgets/base",
            "_model_module_version": "1.2.0",
            "_model_name": "LayoutModel",
            "_view_count": null,
            "_view_module": "@jupyter-widgets/base",
            "_view_module_version": "1.2.0",
            "_view_name": "LayoutView",
            "align_content": null,
            "align_items": null,
            "align_self": null,
            "border": null,
            "bottom": null,
            "display": null,
            "flex": null,
            "flex_flow": null,
            "grid_area": null,
            "grid_auto_columns": null,
            "grid_auto_flow": null,
            "grid_auto_rows": null,
            "grid_column": null,
            "grid_gap": null,
            "grid_row": null,
            "grid_template_areas": null,
            "grid_template_columns": null,
            "grid_template_rows": null,
            "height": null,
            "justify_content": null,
            "justify_items": null,
            "left": null,
            "margin": null,
            "max_height": null,
            "max_width": null,
            "min_height": null,
            "min_width": null,
            "object_fit": null,
            "object_position": null,
            "order": null,
            "overflow": null,
            "overflow_x": null,
            "overflow_y": null,
            "padding": null,
            "right": null,
            "top": null,
            "visibility": null,
            "width": null
          }
        },
        "199ee8fb1cb948589562dafe17c0bc89": {
          "model_module": "@jupyter-widgets/base",
          "model_name": "LayoutModel",
          "model_module_version": "1.2.0",
          "state": {
            "_model_module": "@jupyter-widgets/base",
            "_model_module_version": "1.2.0",
            "_model_name": "LayoutModel",
            "_view_count": null,
            "_view_module": "@jupyter-widgets/base",
            "_view_module_version": "1.2.0",
            "_view_name": "LayoutView",
            "align_content": null,
            "align_items": null,
            "align_self": null,
            "border": null,
            "bottom": null,
            "display": null,
            "flex": null,
            "flex_flow": null,
            "grid_area": null,
            "grid_auto_columns": null,
            "grid_auto_flow": null,
            "grid_auto_rows": null,
            "grid_column": null,
            "grid_gap": null,
            "grid_row": null,
            "grid_template_areas": null,
            "grid_template_columns": null,
            "grid_template_rows": null,
            "height": null,
            "justify_content": null,
            "justify_items": null,
            "left": null,
            "margin": null,
            "max_height": null,
            "max_width": null,
            "min_height": null,
            "min_width": null,
            "object_fit": null,
            "object_position": null,
            "order": null,
            "overflow": null,
            "overflow_x": null,
            "overflow_y": null,
            "padding": null,
            "right": null,
            "top": null,
            "visibility": null,
            "width": null
          }
        },
        "a35e8a97224b4ff5ae70677d711a1496": {
          "model_module": "@jupyter-widgets/controls",
          "model_name": "DescriptionStyleModel",
          "model_module_version": "1.5.0",
          "state": {
            "_model_module": "@jupyter-widgets/controls",
            "_model_module_version": "1.5.0",
            "_model_name": "DescriptionStyleModel",
            "_view_count": null,
            "_view_module": "@jupyter-widgets/base",
            "_view_module_version": "1.2.0",
            "_view_name": "StyleView",
            "description_width": ""
          }
        },
        "888bc64df01349798c339c3be9c6b64d": {
          "model_module": "@jupyter-widgets/base",
          "model_name": "LayoutModel",
          "model_module_version": "1.2.0",
          "state": {
            "_model_module": "@jupyter-widgets/base",
            "_model_module_version": "1.2.0",
            "_model_name": "LayoutModel",
            "_view_count": null,
            "_view_module": "@jupyter-widgets/base",
            "_view_module_version": "1.2.0",
            "_view_name": "LayoutView",
            "align_content": null,
            "align_items": null,
            "align_self": null,
            "border": null,
            "bottom": null,
            "display": null,
            "flex": null,
            "flex_flow": null,
            "grid_area": null,
            "grid_auto_columns": null,
            "grid_auto_flow": null,
            "grid_auto_rows": null,
            "grid_column": null,
            "grid_gap": null,
            "grid_row": null,
            "grid_template_areas": null,
            "grid_template_columns": null,
            "grid_template_rows": null,
            "height": null,
            "justify_content": null,
            "justify_items": null,
            "left": null,
            "margin": null,
            "max_height": null,
            "max_width": null,
            "min_height": null,
            "min_width": null,
            "object_fit": null,
            "object_position": null,
            "order": null,
            "overflow": null,
            "overflow_x": null,
            "overflow_y": null,
            "padding": null,
            "right": null,
            "top": null,
            "visibility": null,
            "width": null
          }
        },
        "30f7a57f8f1d4d259a4e7ad0198a5654": {
          "model_module": "@jupyter-widgets/controls",
          "model_name": "ProgressStyleModel",
          "model_module_version": "1.5.0",
          "state": {
            "_model_module": "@jupyter-widgets/controls",
            "_model_module_version": "1.5.0",
            "_model_name": "ProgressStyleModel",
            "_view_count": null,
            "_view_module": "@jupyter-widgets/base",
            "_view_module_version": "1.2.0",
            "_view_name": "StyleView",
            "bar_color": null,
            "description_width": ""
          }
        },
        "0716b2f71386458b87732ab659f6088d": {
          "model_module": "@jupyter-widgets/base",
          "model_name": "LayoutModel",
          "model_module_version": "1.2.0",
          "state": {
            "_model_module": "@jupyter-widgets/base",
            "_model_module_version": "1.2.0",
            "_model_name": "LayoutModel",
            "_view_count": null,
            "_view_module": "@jupyter-widgets/base",
            "_view_module_version": "1.2.0",
            "_view_name": "LayoutView",
            "align_content": null,
            "align_items": null,
            "align_self": null,
            "border": null,
            "bottom": null,
            "display": null,
            "flex": null,
            "flex_flow": null,
            "grid_area": null,
            "grid_auto_columns": null,
            "grid_auto_flow": null,
            "grid_auto_rows": null,
            "grid_column": null,
            "grid_gap": null,
            "grid_row": null,
            "grid_template_areas": null,
            "grid_template_columns": null,
            "grid_template_rows": null,
            "height": null,
            "justify_content": null,
            "justify_items": null,
            "left": null,
            "margin": null,
            "max_height": null,
            "max_width": null,
            "min_height": null,
            "min_width": null,
            "object_fit": null,
            "object_position": null,
            "order": null,
            "overflow": null,
            "overflow_x": null,
            "overflow_y": null,
            "padding": null,
            "right": null,
            "top": null,
            "visibility": null,
            "width": null
          }
        },
        "9351e4a514c04595b2d9ac4a1adf90e0": {
          "model_module": "@jupyter-widgets/controls",
          "model_name": "DescriptionStyleModel",
          "model_module_version": "1.5.0",
          "state": {
            "_model_module": "@jupyter-widgets/controls",
            "_model_module_version": "1.5.0",
            "_model_name": "DescriptionStyleModel",
            "_view_count": null,
            "_view_module": "@jupyter-widgets/base",
            "_view_module_version": "1.2.0",
            "_view_name": "StyleView",
            "description_width": ""
          }
        },
        "1801e91d941e4d4cb5a699950db545f1": {
          "model_module": "@jupyter-widgets/controls",
          "model_name": "HBoxModel",
          "model_module_version": "1.5.0",
          "state": {
            "_dom_classes": [],
            "_model_module": "@jupyter-widgets/controls",
            "_model_module_version": "1.5.0",
            "_model_name": "HBoxModel",
            "_view_count": null,
            "_view_module": "@jupyter-widgets/controls",
            "_view_module_version": "1.5.0",
            "_view_name": "HBoxView",
            "box_style": "",
            "children": [
              "IPY_MODEL_a14aebd413a447a590b1d8f656cc494e",
              "IPY_MODEL_0d64accc56ad4fe6920050e231381a08",
              "IPY_MODEL_5594369ff69f4e78adabc0d014442fb2"
            ],
            "layout": "IPY_MODEL_ee156df2e52d48249a2ff44422cdee62"
          }
        },
        "a14aebd413a447a590b1d8f656cc494e": {
          "model_module": "@jupyter-widgets/controls",
          "model_name": "HTMLModel",
          "model_module_version": "1.5.0",
          "state": {
            "_dom_classes": [],
            "_model_module": "@jupyter-widgets/controls",
            "_model_module_version": "1.5.0",
            "_model_name": "HTMLModel",
            "_view_count": null,
            "_view_module": "@jupyter-widgets/controls",
            "_view_module_version": "1.5.0",
            "_view_name": "HTMLView",
            "description": "",
            "description_tooltip": null,
            "layout": "IPY_MODEL_9217ed146c01443382259fa7816f324d",
            "placeholder": "​",
            "style": "IPY_MODEL_294554df394d47cfb2cfa789188cd090",
            "value": " 57%"
          }
        },
        "0d64accc56ad4fe6920050e231381a08": {
          "model_module": "@jupyter-widgets/controls",
          "model_name": "FloatProgressModel",
          "model_module_version": "1.5.0",
          "state": {
            "_dom_classes": [],
            "_model_module": "@jupyter-widgets/controls",
            "_model_module_version": "1.5.0",
            "_model_name": "FloatProgressModel",
            "_view_count": null,
            "_view_module": "@jupyter-widgets/controls",
            "_view_module_version": "1.5.0",
            "_view_name": "ProgressView",
            "bar_style": "danger",
            "description": "",
            "description_tooltip": null,
            "layout": "IPY_MODEL_bcba570395c24288a1d1543f458b24b2",
            "max": 100,
            "min": 0,
            "orientation": "horizontal",
            "style": "IPY_MODEL_ca9a91dd194a47e5b31f7d6c57e6c99a",
            "value": 57
          }
        },
        "5594369ff69f4e78adabc0d014442fb2": {
          "model_module": "@jupyter-widgets/controls",
          "model_name": "HTMLModel",
          "model_module_version": "1.5.0",
          "state": {
            "_dom_classes": [],
            "_model_module": "@jupyter-widgets/controls",
            "_model_module_version": "1.5.0",
            "_model_name": "HTMLModel",
            "_view_count": null,
            "_view_module": "@jupyter-widgets/controls",
            "_view_module_version": "1.5.0",
            "_view_name": "HTMLView",
            "description": "",
            "description_tooltip": null,
            "layout": "IPY_MODEL_1d0d1538baa84c199830c9420c55cd5a",
            "placeholder": "​",
            "style": "IPY_MODEL_544c2bfc8d664fc9a5bb2281dad4de96",
            "value": " 57/100 [01:34&lt;01:11,  1.66s/it]"
          }
        },
        "ee156df2e52d48249a2ff44422cdee62": {
          "model_module": "@jupyter-widgets/base",
          "model_name": "LayoutModel",
          "model_module_version": "1.2.0",
          "state": {
            "_model_module": "@jupyter-widgets/base",
            "_model_module_version": "1.2.0",
            "_model_name": "LayoutModel",
            "_view_count": null,
            "_view_module": "@jupyter-widgets/base",
            "_view_module_version": "1.2.0",
            "_view_name": "LayoutView",
            "align_content": null,
            "align_items": null,
            "align_self": null,
            "border": null,
            "bottom": null,
            "display": null,
            "flex": null,
            "flex_flow": null,
            "grid_area": null,
            "grid_auto_columns": null,
            "grid_auto_flow": null,
            "grid_auto_rows": null,
            "grid_column": null,
            "grid_gap": null,
            "grid_row": null,
            "grid_template_areas": null,
            "grid_template_columns": null,
            "grid_template_rows": null,
            "height": null,
            "justify_content": null,
            "justify_items": null,
            "left": null,
            "margin": null,
            "max_height": null,
            "max_width": null,
            "min_height": null,
            "min_width": null,
            "object_fit": null,
            "object_position": null,
            "order": null,
            "overflow": null,
            "overflow_x": null,
            "overflow_y": null,
            "padding": null,
            "right": null,
            "top": null,
            "visibility": null,
            "width": null
          }
        },
        "9217ed146c01443382259fa7816f324d": {
          "model_module": "@jupyter-widgets/base",
          "model_name": "LayoutModel",
          "model_module_version": "1.2.0",
          "state": {
            "_model_module": "@jupyter-widgets/base",
            "_model_module_version": "1.2.0",
            "_model_name": "LayoutModel",
            "_view_count": null,
            "_view_module": "@jupyter-widgets/base",
            "_view_module_version": "1.2.0",
            "_view_name": "LayoutView",
            "align_content": null,
            "align_items": null,
            "align_self": null,
            "border": null,
            "bottom": null,
            "display": null,
            "flex": null,
            "flex_flow": null,
            "grid_area": null,
            "grid_auto_columns": null,
            "grid_auto_flow": null,
            "grid_auto_rows": null,
            "grid_column": null,
            "grid_gap": null,
            "grid_row": null,
            "grid_template_areas": null,
            "grid_template_columns": null,
            "grid_template_rows": null,
            "height": null,
            "justify_content": null,
            "justify_items": null,
            "left": null,
            "margin": null,
            "max_height": null,
            "max_width": null,
            "min_height": null,
            "min_width": null,
            "object_fit": null,
            "object_position": null,
            "order": null,
            "overflow": null,
            "overflow_x": null,
            "overflow_y": null,
            "padding": null,
            "right": null,
            "top": null,
            "visibility": null,
            "width": null
          }
        },
        "294554df394d47cfb2cfa789188cd090": {
          "model_module": "@jupyter-widgets/controls",
          "model_name": "DescriptionStyleModel",
          "model_module_version": "1.5.0",
          "state": {
            "_model_module": "@jupyter-widgets/controls",
            "_model_module_version": "1.5.0",
            "_model_name": "DescriptionStyleModel",
            "_view_count": null,
            "_view_module": "@jupyter-widgets/base",
            "_view_module_version": "1.2.0",
            "_view_name": "StyleView",
            "description_width": ""
          }
        },
        "bcba570395c24288a1d1543f458b24b2": {
          "model_module": "@jupyter-widgets/base",
          "model_name": "LayoutModel",
          "model_module_version": "1.2.0",
          "state": {
            "_model_module": "@jupyter-widgets/base",
            "_model_module_version": "1.2.0",
            "_model_name": "LayoutModel",
            "_view_count": null,
            "_view_module": "@jupyter-widgets/base",
            "_view_module_version": "1.2.0",
            "_view_name": "LayoutView",
            "align_content": null,
            "align_items": null,
            "align_self": null,
            "border": null,
            "bottom": null,
            "display": null,
            "flex": null,
            "flex_flow": null,
            "grid_area": null,
            "grid_auto_columns": null,
            "grid_auto_flow": null,
            "grid_auto_rows": null,
            "grid_column": null,
            "grid_gap": null,
            "grid_row": null,
            "grid_template_areas": null,
            "grid_template_columns": null,
            "grid_template_rows": null,
            "height": null,
            "justify_content": null,
            "justify_items": null,
            "left": null,
            "margin": null,
            "max_height": null,
            "max_width": null,
            "min_height": null,
            "min_width": null,
            "object_fit": null,
            "object_position": null,
            "order": null,
            "overflow": null,
            "overflow_x": null,
            "overflow_y": null,
            "padding": null,
            "right": null,
            "top": null,
            "visibility": null,
            "width": null
          }
        },
        "ca9a91dd194a47e5b31f7d6c57e6c99a": {
          "model_module": "@jupyter-widgets/controls",
          "model_name": "ProgressStyleModel",
          "model_module_version": "1.5.0",
          "state": {
            "_model_module": "@jupyter-widgets/controls",
            "_model_module_version": "1.5.0",
            "_model_name": "ProgressStyleModel",
            "_view_count": null,
            "_view_module": "@jupyter-widgets/base",
            "_view_module_version": "1.2.0",
            "_view_name": "StyleView",
            "bar_color": null,
            "description_width": ""
          }
        },
        "1d0d1538baa84c199830c9420c55cd5a": {
          "model_module": "@jupyter-widgets/base",
          "model_name": "LayoutModel",
          "model_module_version": "1.2.0",
          "state": {
            "_model_module": "@jupyter-widgets/base",
            "_model_module_version": "1.2.0",
            "_model_name": "LayoutModel",
            "_view_count": null,
            "_view_module": "@jupyter-widgets/base",
            "_view_module_version": "1.2.0",
            "_view_name": "LayoutView",
            "align_content": null,
            "align_items": null,
            "align_self": null,
            "border": null,
            "bottom": null,
            "display": null,
            "flex": null,
            "flex_flow": null,
            "grid_area": null,
            "grid_auto_columns": null,
            "grid_auto_flow": null,
            "grid_auto_rows": null,
            "grid_column": null,
            "grid_gap": null,
            "grid_row": null,
            "grid_template_areas": null,
            "grid_template_columns": null,
            "grid_template_rows": null,
            "height": null,
            "justify_content": null,
            "justify_items": null,
            "left": null,
            "margin": null,
            "max_height": null,
            "max_width": null,
            "min_height": null,
            "min_width": null,
            "object_fit": null,
            "object_position": null,
            "order": null,
            "overflow": null,
            "overflow_x": null,
            "overflow_y": null,
            "padding": null,
            "right": null,
            "top": null,
            "visibility": null,
            "width": null
          }
        },
        "544c2bfc8d664fc9a5bb2281dad4de96": {
          "model_module": "@jupyter-widgets/controls",
          "model_name": "DescriptionStyleModel",
          "model_module_version": "1.5.0",
          "state": {
            "_model_module": "@jupyter-widgets/controls",
            "_model_module_version": "1.5.0",
            "_model_name": "DescriptionStyleModel",
            "_view_count": null,
            "_view_module": "@jupyter-widgets/base",
            "_view_module_version": "1.2.0",
            "_view_name": "StyleView",
            "description_width": ""
          }
        },
        "b58e4c001dcb4e678b5b17fb136a9b45": {
          "model_module": "@jupyter-widgets/controls",
          "model_name": "HBoxModel",
          "model_module_version": "1.5.0",
          "state": {
            "_dom_classes": [],
            "_model_module": "@jupyter-widgets/controls",
            "_model_module_version": "1.5.0",
            "_model_name": "HBoxModel",
            "_view_count": null,
            "_view_module": "@jupyter-widgets/controls",
            "_view_module_version": "1.5.0",
            "_view_name": "HBoxView",
            "box_style": "",
            "children": [
              "IPY_MODEL_cec5930e98a748779e274ed4e3d61056",
              "IPY_MODEL_5bd2145b664c4cc59a118672599c103b",
              "IPY_MODEL_083501dd384c4163997466e3a17a7d42"
            ],
            "layout": "IPY_MODEL_1d32a3371d7744459590c5378935ea8e"
          }
        },
        "cec5930e98a748779e274ed4e3d61056": {
          "model_module": "@jupyter-widgets/controls",
          "model_name": "HTMLModel",
          "model_module_version": "1.5.0",
          "state": {
            "_dom_classes": [],
            "_model_module": "@jupyter-widgets/controls",
            "_model_module_version": "1.5.0",
            "_model_name": "HTMLModel",
            "_view_count": null,
            "_view_module": "@jupyter-widgets/controls",
            "_view_module_version": "1.5.0",
            "_view_name": "HTMLView",
            "description": "",
            "description_tooltip": null,
            "layout": "IPY_MODEL_5dd03bb4ed1446d3abdebbbd961b4738",
            "placeholder": "​",
            "style": "IPY_MODEL_32480f5d9e514d60afb3b059db6aa9d6",
            "value": "100%"
          }
        },
        "5bd2145b664c4cc59a118672599c103b": {
          "model_module": "@jupyter-widgets/controls",
          "model_name": "FloatProgressModel",
          "model_module_version": "1.5.0",
          "state": {
            "_dom_classes": [],
            "_model_module": "@jupyter-widgets/controls",
            "_model_module_version": "1.5.0",
            "_model_name": "FloatProgressModel",
            "_view_count": null,
            "_view_module": "@jupyter-widgets/controls",
            "_view_module_version": "1.5.0",
            "_view_name": "ProgressView",
            "bar_style": "success",
            "description": "",
            "description_tooltip": null,
            "layout": "IPY_MODEL_0c8ddacc94044c4cb231101511ae5633",
            "max": 100,
            "min": 0,
            "orientation": "horizontal",
            "style": "IPY_MODEL_e3e84e46b54b4d76b01ba28fde1727fd",
            "value": 100
          }
        },
        "083501dd384c4163997466e3a17a7d42": {
          "model_module": "@jupyter-widgets/controls",
          "model_name": "HTMLModel",
          "model_module_version": "1.5.0",
          "state": {
            "_dom_classes": [],
            "_model_module": "@jupyter-widgets/controls",
            "_model_module_version": "1.5.0",
            "_model_name": "HTMLModel",
            "_view_count": null,
            "_view_module": "@jupyter-widgets/controls",
            "_view_module_version": "1.5.0",
            "_view_name": "HTMLView",
            "description": "",
            "description_tooltip": null,
            "layout": "IPY_MODEL_0ecc650858ca49639a4348045685bfbe",
            "placeholder": "​",
            "style": "IPY_MODEL_d28469c26c0244ef9085bca759544887",
            "value": " 100/100 [03:42&lt;00:00,  2.24s/it]"
          }
        },
        "1d32a3371d7744459590c5378935ea8e": {
          "model_module": "@jupyter-widgets/base",
          "model_name": "LayoutModel",
          "model_module_version": "1.2.0",
          "state": {
            "_model_module": "@jupyter-widgets/base",
            "_model_module_version": "1.2.0",
            "_model_name": "LayoutModel",
            "_view_count": null,
            "_view_module": "@jupyter-widgets/base",
            "_view_module_version": "1.2.0",
            "_view_name": "LayoutView",
            "align_content": null,
            "align_items": null,
            "align_self": null,
            "border": null,
            "bottom": null,
            "display": null,
            "flex": null,
            "flex_flow": null,
            "grid_area": null,
            "grid_auto_columns": null,
            "grid_auto_flow": null,
            "grid_auto_rows": null,
            "grid_column": null,
            "grid_gap": null,
            "grid_row": null,
            "grid_template_areas": null,
            "grid_template_columns": null,
            "grid_template_rows": null,
            "height": null,
            "justify_content": null,
            "justify_items": null,
            "left": null,
            "margin": null,
            "max_height": null,
            "max_width": null,
            "min_height": null,
            "min_width": null,
            "object_fit": null,
            "object_position": null,
            "order": null,
            "overflow": null,
            "overflow_x": null,
            "overflow_y": null,
            "padding": null,
            "right": null,
            "top": null,
            "visibility": null,
            "width": null
          }
        },
        "5dd03bb4ed1446d3abdebbbd961b4738": {
          "model_module": "@jupyter-widgets/base",
          "model_name": "LayoutModel",
          "model_module_version": "1.2.0",
          "state": {
            "_model_module": "@jupyter-widgets/base",
            "_model_module_version": "1.2.0",
            "_model_name": "LayoutModel",
            "_view_count": null,
            "_view_module": "@jupyter-widgets/base",
            "_view_module_version": "1.2.0",
            "_view_name": "LayoutView",
            "align_content": null,
            "align_items": null,
            "align_self": null,
            "border": null,
            "bottom": null,
            "display": null,
            "flex": null,
            "flex_flow": null,
            "grid_area": null,
            "grid_auto_columns": null,
            "grid_auto_flow": null,
            "grid_auto_rows": null,
            "grid_column": null,
            "grid_gap": null,
            "grid_row": null,
            "grid_template_areas": null,
            "grid_template_columns": null,
            "grid_template_rows": null,
            "height": null,
            "justify_content": null,
            "justify_items": null,
            "left": null,
            "margin": null,
            "max_height": null,
            "max_width": null,
            "min_height": null,
            "min_width": null,
            "object_fit": null,
            "object_position": null,
            "order": null,
            "overflow": null,
            "overflow_x": null,
            "overflow_y": null,
            "padding": null,
            "right": null,
            "top": null,
            "visibility": null,
            "width": null
          }
        },
        "32480f5d9e514d60afb3b059db6aa9d6": {
          "model_module": "@jupyter-widgets/controls",
          "model_name": "DescriptionStyleModel",
          "model_module_version": "1.5.0",
          "state": {
            "_model_module": "@jupyter-widgets/controls",
            "_model_module_version": "1.5.0",
            "_model_name": "DescriptionStyleModel",
            "_view_count": null,
            "_view_module": "@jupyter-widgets/base",
            "_view_module_version": "1.2.0",
            "_view_name": "StyleView",
            "description_width": ""
          }
        },
        "0c8ddacc94044c4cb231101511ae5633": {
          "model_module": "@jupyter-widgets/base",
          "model_name": "LayoutModel",
          "model_module_version": "1.2.0",
          "state": {
            "_model_module": "@jupyter-widgets/base",
            "_model_module_version": "1.2.0",
            "_model_name": "LayoutModel",
            "_view_count": null,
            "_view_module": "@jupyter-widgets/base",
            "_view_module_version": "1.2.0",
            "_view_name": "LayoutView",
            "align_content": null,
            "align_items": null,
            "align_self": null,
            "border": null,
            "bottom": null,
            "display": null,
            "flex": null,
            "flex_flow": null,
            "grid_area": null,
            "grid_auto_columns": null,
            "grid_auto_flow": null,
            "grid_auto_rows": null,
            "grid_column": null,
            "grid_gap": null,
            "grid_row": null,
            "grid_template_areas": null,
            "grid_template_columns": null,
            "grid_template_rows": null,
            "height": null,
            "justify_content": null,
            "justify_items": null,
            "left": null,
            "margin": null,
            "max_height": null,
            "max_width": null,
            "min_height": null,
            "min_width": null,
            "object_fit": null,
            "object_position": null,
            "order": null,
            "overflow": null,
            "overflow_x": null,
            "overflow_y": null,
            "padding": null,
            "right": null,
            "top": null,
            "visibility": null,
            "width": null
          }
        },
        "e3e84e46b54b4d76b01ba28fde1727fd": {
          "model_module": "@jupyter-widgets/controls",
          "model_name": "ProgressStyleModel",
          "model_module_version": "1.5.0",
          "state": {
            "_model_module": "@jupyter-widgets/controls",
            "_model_module_version": "1.5.0",
            "_model_name": "ProgressStyleModel",
            "_view_count": null,
            "_view_module": "@jupyter-widgets/base",
            "_view_module_version": "1.2.0",
            "_view_name": "StyleView",
            "bar_color": null,
            "description_width": ""
          }
        },
        "0ecc650858ca49639a4348045685bfbe": {
          "model_module": "@jupyter-widgets/base",
          "model_name": "LayoutModel",
          "model_module_version": "1.2.0",
          "state": {
            "_model_module": "@jupyter-widgets/base",
            "_model_module_version": "1.2.0",
            "_model_name": "LayoutModel",
            "_view_count": null,
            "_view_module": "@jupyter-widgets/base",
            "_view_module_version": "1.2.0",
            "_view_name": "LayoutView",
            "align_content": null,
            "align_items": null,
            "align_self": null,
            "border": null,
            "bottom": null,
            "display": null,
            "flex": null,
            "flex_flow": null,
            "grid_area": null,
            "grid_auto_columns": null,
            "grid_auto_flow": null,
            "grid_auto_rows": null,
            "grid_column": null,
            "grid_gap": null,
            "grid_row": null,
            "grid_template_areas": null,
            "grid_template_columns": null,
            "grid_template_rows": null,
            "height": null,
            "justify_content": null,
            "justify_items": null,
            "left": null,
            "margin": null,
            "max_height": null,
            "max_width": null,
            "min_height": null,
            "min_width": null,
            "object_fit": null,
            "object_position": null,
            "order": null,
            "overflow": null,
            "overflow_x": null,
            "overflow_y": null,
            "padding": null,
            "right": null,
            "top": null,
            "visibility": null,
            "width": null
          }
        },
        "d28469c26c0244ef9085bca759544887": {
          "model_module": "@jupyter-widgets/controls",
          "model_name": "DescriptionStyleModel",
          "model_module_version": "1.5.0",
          "state": {
            "_model_module": "@jupyter-widgets/controls",
            "_model_module_version": "1.5.0",
            "_model_name": "DescriptionStyleModel",
            "_view_count": null,
            "_view_module": "@jupyter-widgets/base",
            "_view_module_version": "1.2.0",
            "_view_name": "StyleView",
            "description_width": ""
          }
        },
        "434b99555f224c16accc8f2a522dceba": {
          "model_module": "@jupyter-widgets/controls",
          "model_name": "HBoxModel",
          "model_module_version": "1.5.0",
          "state": {
            "_dom_classes": [],
            "_model_module": "@jupyter-widgets/controls",
            "_model_module_version": "1.5.0",
            "_model_name": "HBoxModel",
            "_view_count": null,
            "_view_module": "@jupyter-widgets/controls",
            "_view_module_version": "1.5.0",
            "_view_name": "HBoxView",
            "box_style": "",
            "children": [
              "IPY_MODEL_5e8124c523cd474fa4341efc3a7c44df",
              "IPY_MODEL_35a1f3b4b4ff4614ac5d7cfd7f98f493",
              "IPY_MODEL_ecc62f7bc2a34488bc7f04bb70675e0a"
            ],
            "layout": "IPY_MODEL_42f6c068c5d34c2e8d42e822db9b1865"
          }
        },
        "5e8124c523cd474fa4341efc3a7c44df": {
          "model_module": "@jupyter-widgets/controls",
          "model_name": "HTMLModel",
          "model_module_version": "1.5.0",
          "state": {
            "_dom_classes": [],
            "_model_module": "@jupyter-widgets/controls",
            "_model_module_version": "1.5.0",
            "_model_name": "HTMLModel",
            "_view_count": null,
            "_view_module": "@jupyter-widgets/controls",
            "_view_module_version": "1.5.0",
            "_view_name": "HTMLView",
            "description": "",
            "description_tooltip": null,
            "layout": "IPY_MODEL_8bffef46fd334c799285e46a7388deec",
            "placeholder": "​",
            "style": "IPY_MODEL_b613aa24d6684f5b8b52cf31f627a7cf",
            "value": " 62%"
          }
        },
        "35a1f3b4b4ff4614ac5d7cfd7f98f493": {
          "model_module": "@jupyter-widgets/controls",
          "model_name": "FloatProgressModel",
          "model_module_version": "1.5.0",
          "state": {
            "_dom_classes": [],
            "_model_module": "@jupyter-widgets/controls",
            "_model_module_version": "1.5.0",
            "_model_name": "FloatProgressModel",
            "_view_count": null,
            "_view_module": "@jupyter-widgets/controls",
            "_view_module_version": "1.5.0",
            "_view_name": "ProgressView",
            "bar_style": "danger",
            "description": "",
            "description_tooltip": null,
            "layout": "IPY_MODEL_4f1a3f04061c4fa1b0d1454d74a08056",
            "max": 100,
            "min": 0,
            "orientation": "horizontal",
            "style": "IPY_MODEL_86ed09bd62be4d02b4ddfc365153a8c6",
            "value": 62
          }
        },
        "ecc62f7bc2a34488bc7f04bb70675e0a": {
          "model_module": "@jupyter-widgets/controls",
          "model_name": "HTMLModel",
          "model_module_version": "1.5.0",
          "state": {
            "_dom_classes": [],
            "_model_module": "@jupyter-widgets/controls",
            "_model_module_version": "1.5.0",
            "_model_name": "HTMLModel",
            "_view_count": null,
            "_view_module": "@jupyter-widgets/controls",
            "_view_module_version": "1.5.0",
            "_view_name": "HTMLView",
            "description": "",
            "description_tooltip": null,
            "layout": "IPY_MODEL_1ffa283387f842c2a5b660d8eee69454",
            "placeholder": "​",
            "style": "IPY_MODEL_aac3034818d3497db60d8bb73616bb4b",
            "value": " 62/100 [03:06&lt;01:55,  3.03s/it]"
          }
        },
        "42f6c068c5d34c2e8d42e822db9b1865": {
          "model_module": "@jupyter-widgets/base",
          "model_name": "LayoutModel",
          "model_module_version": "1.2.0",
          "state": {
            "_model_module": "@jupyter-widgets/base",
            "_model_module_version": "1.2.0",
            "_model_name": "LayoutModel",
            "_view_count": null,
            "_view_module": "@jupyter-widgets/base",
            "_view_module_version": "1.2.0",
            "_view_name": "LayoutView",
            "align_content": null,
            "align_items": null,
            "align_self": null,
            "border": null,
            "bottom": null,
            "display": null,
            "flex": null,
            "flex_flow": null,
            "grid_area": null,
            "grid_auto_columns": null,
            "grid_auto_flow": null,
            "grid_auto_rows": null,
            "grid_column": null,
            "grid_gap": null,
            "grid_row": null,
            "grid_template_areas": null,
            "grid_template_columns": null,
            "grid_template_rows": null,
            "height": null,
            "justify_content": null,
            "justify_items": null,
            "left": null,
            "margin": null,
            "max_height": null,
            "max_width": null,
            "min_height": null,
            "min_width": null,
            "object_fit": null,
            "object_position": null,
            "order": null,
            "overflow": null,
            "overflow_x": null,
            "overflow_y": null,
            "padding": null,
            "right": null,
            "top": null,
            "visibility": null,
            "width": null
          }
        },
        "8bffef46fd334c799285e46a7388deec": {
          "model_module": "@jupyter-widgets/base",
          "model_name": "LayoutModel",
          "model_module_version": "1.2.0",
          "state": {
            "_model_module": "@jupyter-widgets/base",
            "_model_module_version": "1.2.0",
            "_model_name": "LayoutModel",
            "_view_count": null,
            "_view_module": "@jupyter-widgets/base",
            "_view_module_version": "1.2.0",
            "_view_name": "LayoutView",
            "align_content": null,
            "align_items": null,
            "align_self": null,
            "border": null,
            "bottom": null,
            "display": null,
            "flex": null,
            "flex_flow": null,
            "grid_area": null,
            "grid_auto_columns": null,
            "grid_auto_flow": null,
            "grid_auto_rows": null,
            "grid_column": null,
            "grid_gap": null,
            "grid_row": null,
            "grid_template_areas": null,
            "grid_template_columns": null,
            "grid_template_rows": null,
            "height": null,
            "justify_content": null,
            "justify_items": null,
            "left": null,
            "margin": null,
            "max_height": null,
            "max_width": null,
            "min_height": null,
            "min_width": null,
            "object_fit": null,
            "object_position": null,
            "order": null,
            "overflow": null,
            "overflow_x": null,
            "overflow_y": null,
            "padding": null,
            "right": null,
            "top": null,
            "visibility": null,
            "width": null
          }
        },
        "b613aa24d6684f5b8b52cf31f627a7cf": {
          "model_module": "@jupyter-widgets/controls",
          "model_name": "DescriptionStyleModel",
          "model_module_version": "1.5.0",
          "state": {
            "_model_module": "@jupyter-widgets/controls",
            "_model_module_version": "1.5.0",
            "_model_name": "DescriptionStyleModel",
            "_view_count": null,
            "_view_module": "@jupyter-widgets/base",
            "_view_module_version": "1.2.0",
            "_view_name": "StyleView",
            "description_width": ""
          }
        },
        "4f1a3f04061c4fa1b0d1454d74a08056": {
          "model_module": "@jupyter-widgets/base",
          "model_name": "LayoutModel",
          "model_module_version": "1.2.0",
          "state": {
            "_model_module": "@jupyter-widgets/base",
            "_model_module_version": "1.2.0",
            "_model_name": "LayoutModel",
            "_view_count": null,
            "_view_module": "@jupyter-widgets/base",
            "_view_module_version": "1.2.0",
            "_view_name": "LayoutView",
            "align_content": null,
            "align_items": null,
            "align_self": null,
            "border": null,
            "bottom": null,
            "display": null,
            "flex": null,
            "flex_flow": null,
            "grid_area": null,
            "grid_auto_columns": null,
            "grid_auto_flow": null,
            "grid_auto_rows": null,
            "grid_column": null,
            "grid_gap": null,
            "grid_row": null,
            "grid_template_areas": null,
            "grid_template_columns": null,
            "grid_template_rows": null,
            "height": null,
            "justify_content": null,
            "justify_items": null,
            "left": null,
            "margin": null,
            "max_height": null,
            "max_width": null,
            "min_height": null,
            "min_width": null,
            "object_fit": null,
            "object_position": null,
            "order": null,
            "overflow": null,
            "overflow_x": null,
            "overflow_y": null,
            "padding": null,
            "right": null,
            "top": null,
            "visibility": null,
            "width": null
          }
        },
        "86ed09bd62be4d02b4ddfc365153a8c6": {
          "model_module": "@jupyter-widgets/controls",
          "model_name": "ProgressStyleModel",
          "model_module_version": "1.5.0",
          "state": {
            "_model_module": "@jupyter-widgets/controls",
            "_model_module_version": "1.5.0",
            "_model_name": "ProgressStyleModel",
            "_view_count": null,
            "_view_module": "@jupyter-widgets/base",
            "_view_module_version": "1.2.0",
            "_view_name": "StyleView",
            "bar_color": null,
            "description_width": ""
          }
        },
        "1ffa283387f842c2a5b660d8eee69454": {
          "model_module": "@jupyter-widgets/base",
          "model_name": "LayoutModel",
          "model_module_version": "1.2.0",
          "state": {
            "_model_module": "@jupyter-widgets/base",
            "_model_module_version": "1.2.0",
            "_model_name": "LayoutModel",
            "_view_count": null,
            "_view_module": "@jupyter-widgets/base",
            "_view_module_version": "1.2.0",
            "_view_name": "LayoutView",
            "align_content": null,
            "align_items": null,
            "align_self": null,
            "border": null,
            "bottom": null,
            "display": null,
            "flex": null,
            "flex_flow": null,
            "grid_area": null,
            "grid_auto_columns": null,
            "grid_auto_flow": null,
            "grid_auto_rows": null,
            "grid_column": null,
            "grid_gap": null,
            "grid_row": null,
            "grid_template_areas": null,
            "grid_template_columns": null,
            "grid_template_rows": null,
            "height": null,
            "justify_content": null,
            "justify_items": null,
            "left": null,
            "margin": null,
            "max_height": null,
            "max_width": null,
            "min_height": null,
            "min_width": null,
            "object_fit": null,
            "object_position": null,
            "order": null,
            "overflow": null,
            "overflow_x": null,
            "overflow_y": null,
            "padding": null,
            "right": null,
            "top": null,
            "visibility": null,
            "width": null
          }
        },
        "aac3034818d3497db60d8bb73616bb4b": {
          "model_module": "@jupyter-widgets/controls",
          "model_name": "DescriptionStyleModel",
          "model_module_version": "1.5.0",
          "state": {
            "_model_module": "@jupyter-widgets/controls",
            "_model_module_version": "1.5.0",
            "_model_name": "DescriptionStyleModel",
            "_view_count": null,
            "_view_module": "@jupyter-widgets/base",
            "_view_module_version": "1.2.0",
            "_view_name": "StyleView",
            "description_width": ""
          }
        },
        "a1f857239e114cdeb272d2af4dd923c1": {
          "model_module": "@jupyter-widgets/controls",
          "model_name": "HBoxModel",
          "model_module_version": "1.5.0",
          "state": {
            "_dom_classes": [],
            "_model_module": "@jupyter-widgets/controls",
            "_model_module_version": "1.5.0",
            "_model_name": "HBoxModel",
            "_view_count": null,
            "_view_module": "@jupyter-widgets/controls",
            "_view_module_version": "1.5.0",
            "_view_name": "HBoxView",
            "box_style": "",
            "children": [
              "IPY_MODEL_33abe544889241ba86a21b26d3df123c",
              "IPY_MODEL_1e3629024cb9499e8f4ee3e41e5b0b5e",
              "IPY_MODEL_20cec4b0a9e84f7f888e46738d0c704b"
            ],
            "layout": "IPY_MODEL_c104b4b50b4a42bfa18cb314d5633813"
          }
        },
        "33abe544889241ba86a21b26d3df123c": {
          "model_module": "@jupyter-widgets/controls",
          "model_name": "HTMLModel",
          "model_module_version": "1.5.0",
          "state": {
            "_dom_classes": [],
            "_model_module": "@jupyter-widgets/controls",
            "_model_module_version": "1.5.0",
            "_model_name": "HTMLModel",
            "_view_count": null,
            "_view_module": "@jupyter-widgets/controls",
            "_view_module_version": "1.5.0",
            "_view_name": "HTMLView",
            "description": "",
            "description_tooltip": null,
            "layout": "IPY_MODEL_6ee2588d200440ec891c6f30fadaf1af",
            "placeholder": "​",
            "style": "IPY_MODEL_104ba9263c414962a52d500b225e690e",
            "value": " 28%"
          }
        },
        "1e3629024cb9499e8f4ee3e41e5b0b5e": {
          "model_module": "@jupyter-widgets/controls",
          "model_name": "FloatProgressModel",
          "model_module_version": "1.5.0",
          "state": {
            "_dom_classes": [],
            "_model_module": "@jupyter-widgets/controls",
            "_model_module_version": "1.5.0",
            "_model_name": "FloatProgressModel",
            "_view_count": null,
            "_view_module": "@jupyter-widgets/controls",
            "_view_module_version": "1.5.0",
            "_view_name": "ProgressView",
            "bar_style": "danger",
            "description": "",
            "description_tooltip": null,
            "layout": "IPY_MODEL_ee93f52a43d149a3ab2d8c2ea441e200",
            "max": 100,
            "min": 0,
            "orientation": "horizontal",
            "style": "IPY_MODEL_9785a973d9c64927bd00f810b989aa36",
            "value": 28
          }
        },
        "20cec4b0a9e84f7f888e46738d0c704b": {
          "model_module": "@jupyter-widgets/controls",
          "model_name": "HTMLModel",
          "model_module_version": "1.5.0",
          "state": {
            "_dom_classes": [],
            "_model_module": "@jupyter-widgets/controls",
            "_model_module_version": "1.5.0",
            "_model_name": "HTMLModel",
            "_view_count": null,
            "_view_module": "@jupyter-widgets/controls",
            "_view_module_version": "1.5.0",
            "_view_name": "HTMLView",
            "description": "",
            "description_tooltip": null,
            "layout": "IPY_MODEL_559f85f6c31f4e239b03e14e8226765e",
            "placeholder": "​",
            "style": "IPY_MODEL_6ec9604d432e4f4e972024b24dbd485a",
            "value": " 28/100 [01:47&lt;04:27,  3.72s/it]"
          }
        },
        "c104b4b50b4a42bfa18cb314d5633813": {
          "model_module": "@jupyter-widgets/base",
          "model_name": "LayoutModel",
          "model_module_version": "1.2.0",
          "state": {
            "_model_module": "@jupyter-widgets/base",
            "_model_module_version": "1.2.0",
            "_model_name": "LayoutModel",
            "_view_count": null,
            "_view_module": "@jupyter-widgets/base",
            "_view_module_version": "1.2.0",
            "_view_name": "LayoutView",
            "align_content": null,
            "align_items": null,
            "align_self": null,
            "border": null,
            "bottom": null,
            "display": null,
            "flex": null,
            "flex_flow": null,
            "grid_area": null,
            "grid_auto_columns": null,
            "grid_auto_flow": null,
            "grid_auto_rows": null,
            "grid_column": null,
            "grid_gap": null,
            "grid_row": null,
            "grid_template_areas": null,
            "grid_template_columns": null,
            "grid_template_rows": null,
            "height": null,
            "justify_content": null,
            "justify_items": null,
            "left": null,
            "margin": null,
            "max_height": null,
            "max_width": null,
            "min_height": null,
            "min_width": null,
            "object_fit": null,
            "object_position": null,
            "order": null,
            "overflow": null,
            "overflow_x": null,
            "overflow_y": null,
            "padding": null,
            "right": null,
            "top": null,
            "visibility": null,
            "width": null
          }
        },
        "6ee2588d200440ec891c6f30fadaf1af": {
          "model_module": "@jupyter-widgets/base",
          "model_name": "LayoutModel",
          "model_module_version": "1.2.0",
          "state": {
            "_model_module": "@jupyter-widgets/base",
            "_model_module_version": "1.2.0",
            "_model_name": "LayoutModel",
            "_view_count": null,
            "_view_module": "@jupyter-widgets/base",
            "_view_module_version": "1.2.0",
            "_view_name": "LayoutView",
            "align_content": null,
            "align_items": null,
            "align_self": null,
            "border": null,
            "bottom": null,
            "display": null,
            "flex": null,
            "flex_flow": null,
            "grid_area": null,
            "grid_auto_columns": null,
            "grid_auto_flow": null,
            "grid_auto_rows": null,
            "grid_column": null,
            "grid_gap": null,
            "grid_row": null,
            "grid_template_areas": null,
            "grid_template_columns": null,
            "grid_template_rows": null,
            "height": null,
            "justify_content": null,
            "justify_items": null,
            "left": null,
            "margin": null,
            "max_height": null,
            "max_width": null,
            "min_height": null,
            "min_width": null,
            "object_fit": null,
            "object_position": null,
            "order": null,
            "overflow": null,
            "overflow_x": null,
            "overflow_y": null,
            "padding": null,
            "right": null,
            "top": null,
            "visibility": null,
            "width": null
          }
        },
        "104ba9263c414962a52d500b225e690e": {
          "model_module": "@jupyter-widgets/controls",
          "model_name": "DescriptionStyleModel",
          "model_module_version": "1.5.0",
          "state": {
            "_model_module": "@jupyter-widgets/controls",
            "_model_module_version": "1.5.0",
            "_model_name": "DescriptionStyleModel",
            "_view_count": null,
            "_view_module": "@jupyter-widgets/base",
            "_view_module_version": "1.2.0",
            "_view_name": "StyleView",
            "description_width": ""
          }
        },
        "ee93f52a43d149a3ab2d8c2ea441e200": {
          "model_module": "@jupyter-widgets/base",
          "model_name": "LayoutModel",
          "model_module_version": "1.2.0",
          "state": {
            "_model_module": "@jupyter-widgets/base",
            "_model_module_version": "1.2.0",
            "_model_name": "LayoutModel",
            "_view_count": null,
            "_view_module": "@jupyter-widgets/base",
            "_view_module_version": "1.2.0",
            "_view_name": "LayoutView",
            "align_content": null,
            "align_items": null,
            "align_self": null,
            "border": null,
            "bottom": null,
            "display": null,
            "flex": null,
            "flex_flow": null,
            "grid_area": null,
            "grid_auto_columns": null,
            "grid_auto_flow": null,
            "grid_auto_rows": null,
            "grid_column": null,
            "grid_gap": null,
            "grid_row": null,
            "grid_template_areas": null,
            "grid_template_columns": null,
            "grid_template_rows": null,
            "height": null,
            "justify_content": null,
            "justify_items": null,
            "left": null,
            "margin": null,
            "max_height": null,
            "max_width": null,
            "min_height": null,
            "min_width": null,
            "object_fit": null,
            "object_position": null,
            "order": null,
            "overflow": null,
            "overflow_x": null,
            "overflow_y": null,
            "padding": null,
            "right": null,
            "top": null,
            "visibility": null,
            "width": null
          }
        },
        "9785a973d9c64927bd00f810b989aa36": {
          "model_module": "@jupyter-widgets/controls",
          "model_name": "ProgressStyleModel",
          "model_module_version": "1.5.0",
          "state": {
            "_model_module": "@jupyter-widgets/controls",
            "_model_module_version": "1.5.0",
            "_model_name": "ProgressStyleModel",
            "_view_count": null,
            "_view_module": "@jupyter-widgets/base",
            "_view_module_version": "1.2.0",
            "_view_name": "StyleView",
            "bar_color": null,
            "description_width": ""
          }
        },
        "559f85f6c31f4e239b03e14e8226765e": {
          "model_module": "@jupyter-widgets/base",
          "model_name": "LayoutModel",
          "model_module_version": "1.2.0",
          "state": {
            "_model_module": "@jupyter-widgets/base",
            "_model_module_version": "1.2.0",
            "_model_name": "LayoutModel",
            "_view_count": null,
            "_view_module": "@jupyter-widgets/base",
            "_view_module_version": "1.2.0",
            "_view_name": "LayoutView",
            "align_content": null,
            "align_items": null,
            "align_self": null,
            "border": null,
            "bottom": null,
            "display": null,
            "flex": null,
            "flex_flow": null,
            "grid_area": null,
            "grid_auto_columns": null,
            "grid_auto_flow": null,
            "grid_auto_rows": null,
            "grid_column": null,
            "grid_gap": null,
            "grid_row": null,
            "grid_template_areas": null,
            "grid_template_columns": null,
            "grid_template_rows": null,
            "height": null,
            "justify_content": null,
            "justify_items": null,
            "left": null,
            "margin": null,
            "max_height": null,
            "max_width": null,
            "min_height": null,
            "min_width": null,
            "object_fit": null,
            "object_position": null,
            "order": null,
            "overflow": null,
            "overflow_x": null,
            "overflow_y": null,
            "padding": null,
            "right": null,
            "top": null,
            "visibility": null,
            "width": null
          }
        },
        "6ec9604d432e4f4e972024b24dbd485a": {
          "model_module": "@jupyter-widgets/controls",
          "model_name": "DescriptionStyleModel",
          "model_module_version": "1.5.0",
          "state": {
            "_model_module": "@jupyter-widgets/controls",
            "_model_module_version": "1.5.0",
            "_model_name": "DescriptionStyleModel",
            "_view_count": null,
            "_view_module": "@jupyter-widgets/base",
            "_view_module_version": "1.2.0",
            "_view_name": "StyleView",
            "description_width": ""
          }
        },
        "664e3e4d98464841b8a02a50c378ddb1": {
          "model_module": "@jupyter-widgets/controls",
          "model_name": "HBoxModel",
          "model_module_version": "1.5.0",
          "state": {
            "_dom_classes": [],
            "_model_module": "@jupyter-widgets/controls",
            "_model_module_version": "1.5.0",
            "_model_name": "HBoxModel",
            "_view_count": null,
            "_view_module": "@jupyter-widgets/controls",
            "_view_module_version": "1.5.0",
            "_view_name": "HBoxView",
            "box_style": "",
            "children": [
              "IPY_MODEL_8f002e1d1bbd48e29b51ddaf7d31af61",
              "IPY_MODEL_e051ee46cd91496289c2da42615853c5",
              "IPY_MODEL_8ac43770faae49aa834489e665a2cdec"
            ],
            "layout": "IPY_MODEL_ef57e2eab05743a8817fc2ce3dad903f"
          }
        },
        "8f002e1d1bbd48e29b51ddaf7d31af61": {
          "model_module": "@jupyter-widgets/controls",
          "model_name": "HTMLModel",
          "model_module_version": "1.5.0",
          "state": {
            "_dom_classes": [],
            "_model_module": "@jupyter-widgets/controls",
            "_model_module_version": "1.5.0",
            "_model_name": "HTMLModel",
            "_view_count": null,
            "_view_module": "@jupyter-widgets/controls",
            "_view_module_version": "1.5.0",
            "_view_name": "HTMLView",
            "description": "",
            "description_tooltip": null,
            "layout": "IPY_MODEL_9cfebcf3e5cb4cc2b13c7655ab560e6c",
            "placeholder": "​",
            "style": "IPY_MODEL_2922bc56660f49d3937547665a079ee7",
            "value": "100%"
          }
        },
        "e051ee46cd91496289c2da42615853c5": {
          "model_module": "@jupyter-widgets/controls",
          "model_name": "FloatProgressModel",
          "model_module_version": "1.5.0",
          "state": {
            "_dom_classes": [],
            "_model_module": "@jupyter-widgets/controls",
            "_model_module_version": "1.5.0",
            "_model_name": "FloatProgressModel",
            "_view_count": null,
            "_view_module": "@jupyter-widgets/controls",
            "_view_module_version": "1.5.0",
            "_view_name": "ProgressView",
            "bar_style": "success",
            "description": "",
            "description_tooltip": null,
            "layout": "IPY_MODEL_5ca27ec3369d4761abea4f17c4304875",
            "max": 16,
            "min": 0,
            "orientation": "horizontal",
            "style": "IPY_MODEL_84b700e41c094ce7a6d6de89430bf90c",
            "value": 16
          }
        },
        "8ac43770faae49aa834489e665a2cdec": {
          "model_module": "@jupyter-widgets/controls",
          "model_name": "HTMLModel",
          "model_module_version": "1.5.0",
          "state": {
            "_dom_classes": [],
            "_model_module": "@jupyter-widgets/controls",
            "_model_module_version": "1.5.0",
            "_model_name": "HTMLModel",
            "_view_count": null,
            "_view_module": "@jupyter-widgets/controls",
            "_view_module_version": "1.5.0",
            "_view_name": "HTMLView",
            "description": "",
            "description_tooltip": null,
            "layout": "IPY_MODEL_82061f7cf1c84603b86087355b1e5691",
            "placeholder": "​",
            "style": "IPY_MODEL_672c2defccd048d7a5127727dc3e0076",
            "value": " 16/16 [00:11&lt;00:00,  1.02it/s]"
          }
        },
        "ef57e2eab05743a8817fc2ce3dad903f": {
          "model_module": "@jupyter-widgets/base",
          "model_name": "LayoutModel",
          "model_module_version": "1.2.0",
          "state": {
            "_model_module": "@jupyter-widgets/base",
            "_model_module_version": "1.2.0",
            "_model_name": "LayoutModel",
            "_view_count": null,
            "_view_module": "@jupyter-widgets/base",
            "_view_module_version": "1.2.0",
            "_view_name": "LayoutView",
            "align_content": null,
            "align_items": null,
            "align_self": null,
            "border": null,
            "bottom": null,
            "display": null,
            "flex": null,
            "flex_flow": null,
            "grid_area": null,
            "grid_auto_columns": null,
            "grid_auto_flow": null,
            "grid_auto_rows": null,
            "grid_column": null,
            "grid_gap": null,
            "grid_row": null,
            "grid_template_areas": null,
            "grid_template_columns": null,
            "grid_template_rows": null,
            "height": null,
            "justify_content": null,
            "justify_items": null,
            "left": null,
            "margin": null,
            "max_height": null,
            "max_width": null,
            "min_height": null,
            "min_width": null,
            "object_fit": null,
            "object_position": null,
            "order": null,
            "overflow": null,
            "overflow_x": null,
            "overflow_y": null,
            "padding": null,
            "right": null,
            "top": null,
            "visibility": null,
            "width": null
          }
        },
        "9cfebcf3e5cb4cc2b13c7655ab560e6c": {
          "model_module": "@jupyter-widgets/base",
          "model_name": "LayoutModel",
          "model_module_version": "1.2.0",
          "state": {
            "_model_module": "@jupyter-widgets/base",
            "_model_module_version": "1.2.0",
            "_model_name": "LayoutModel",
            "_view_count": null,
            "_view_module": "@jupyter-widgets/base",
            "_view_module_version": "1.2.0",
            "_view_name": "LayoutView",
            "align_content": null,
            "align_items": null,
            "align_self": null,
            "border": null,
            "bottom": null,
            "display": null,
            "flex": null,
            "flex_flow": null,
            "grid_area": null,
            "grid_auto_columns": null,
            "grid_auto_flow": null,
            "grid_auto_rows": null,
            "grid_column": null,
            "grid_gap": null,
            "grid_row": null,
            "grid_template_areas": null,
            "grid_template_columns": null,
            "grid_template_rows": null,
            "height": null,
            "justify_content": null,
            "justify_items": null,
            "left": null,
            "margin": null,
            "max_height": null,
            "max_width": null,
            "min_height": null,
            "min_width": null,
            "object_fit": null,
            "object_position": null,
            "order": null,
            "overflow": null,
            "overflow_x": null,
            "overflow_y": null,
            "padding": null,
            "right": null,
            "top": null,
            "visibility": null,
            "width": null
          }
        },
        "2922bc56660f49d3937547665a079ee7": {
          "model_module": "@jupyter-widgets/controls",
          "model_name": "DescriptionStyleModel",
          "model_module_version": "1.5.0",
          "state": {
            "_model_module": "@jupyter-widgets/controls",
            "_model_module_version": "1.5.0",
            "_model_name": "DescriptionStyleModel",
            "_view_count": null,
            "_view_module": "@jupyter-widgets/base",
            "_view_module_version": "1.2.0",
            "_view_name": "StyleView",
            "description_width": ""
          }
        },
        "5ca27ec3369d4761abea4f17c4304875": {
          "model_module": "@jupyter-widgets/base",
          "model_name": "LayoutModel",
          "model_module_version": "1.2.0",
          "state": {
            "_model_module": "@jupyter-widgets/base",
            "_model_module_version": "1.2.0",
            "_model_name": "LayoutModel",
            "_view_count": null,
            "_view_module": "@jupyter-widgets/base",
            "_view_module_version": "1.2.0",
            "_view_name": "LayoutView",
            "align_content": null,
            "align_items": null,
            "align_self": null,
            "border": null,
            "bottom": null,
            "display": null,
            "flex": null,
            "flex_flow": null,
            "grid_area": null,
            "grid_auto_columns": null,
            "grid_auto_flow": null,
            "grid_auto_rows": null,
            "grid_column": null,
            "grid_gap": null,
            "grid_row": null,
            "grid_template_areas": null,
            "grid_template_columns": null,
            "grid_template_rows": null,
            "height": null,
            "justify_content": null,
            "justify_items": null,
            "left": null,
            "margin": null,
            "max_height": null,
            "max_width": null,
            "min_height": null,
            "min_width": null,
            "object_fit": null,
            "object_position": null,
            "order": null,
            "overflow": null,
            "overflow_x": null,
            "overflow_y": null,
            "padding": null,
            "right": null,
            "top": null,
            "visibility": null,
            "width": null
          }
        },
        "84b700e41c094ce7a6d6de89430bf90c": {
          "model_module": "@jupyter-widgets/controls",
          "model_name": "ProgressStyleModel",
          "model_module_version": "1.5.0",
          "state": {
            "_model_module": "@jupyter-widgets/controls",
            "_model_module_version": "1.5.0",
            "_model_name": "ProgressStyleModel",
            "_view_count": null,
            "_view_module": "@jupyter-widgets/base",
            "_view_module_version": "1.2.0",
            "_view_name": "StyleView",
            "bar_color": null,
            "description_width": ""
          }
        },
        "82061f7cf1c84603b86087355b1e5691": {
          "model_module": "@jupyter-widgets/base",
          "model_name": "LayoutModel",
          "model_module_version": "1.2.0",
          "state": {
            "_model_module": "@jupyter-widgets/base",
            "_model_module_version": "1.2.0",
            "_model_name": "LayoutModel",
            "_view_count": null,
            "_view_module": "@jupyter-widgets/base",
            "_view_module_version": "1.2.0",
            "_view_name": "LayoutView",
            "align_content": null,
            "align_items": null,
            "align_self": null,
            "border": null,
            "bottom": null,
            "display": null,
            "flex": null,
            "flex_flow": null,
            "grid_area": null,
            "grid_auto_columns": null,
            "grid_auto_flow": null,
            "grid_auto_rows": null,
            "grid_column": null,
            "grid_gap": null,
            "grid_row": null,
            "grid_template_areas": null,
            "grid_template_columns": null,
            "grid_template_rows": null,
            "height": null,
            "justify_content": null,
            "justify_items": null,
            "left": null,
            "margin": null,
            "max_height": null,
            "max_width": null,
            "min_height": null,
            "min_width": null,
            "object_fit": null,
            "object_position": null,
            "order": null,
            "overflow": null,
            "overflow_x": null,
            "overflow_y": null,
            "padding": null,
            "right": null,
            "top": null,
            "visibility": null,
            "width": null
          }
        },
        "672c2defccd048d7a5127727dc3e0076": {
          "model_module": "@jupyter-widgets/controls",
          "model_name": "DescriptionStyleModel",
          "model_module_version": "1.5.0",
          "state": {
            "_model_module": "@jupyter-widgets/controls",
            "_model_module_version": "1.5.0",
            "_model_name": "DescriptionStyleModel",
            "_view_count": null,
            "_view_module": "@jupyter-widgets/base",
            "_view_module_version": "1.2.0",
            "_view_name": "StyleView",
            "description_width": ""
          }
        },
        "0165a9cf7a5c4efebc411208c3b2eaf7": {
          "model_module": "@jupyter-widgets/controls",
          "model_name": "HBoxModel",
          "model_module_version": "1.5.0",
          "state": {
            "_dom_classes": [],
            "_model_module": "@jupyter-widgets/controls",
            "_model_module_version": "1.5.0",
            "_model_name": "HBoxModel",
            "_view_count": null,
            "_view_module": "@jupyter-widgets/controls",
            "_view_module_version": "1.5.0",
            "_view_name": "HBoxView",
            "box_style": "",
            "children": [
              "IPY_MODEL_a1baee93c0b3427b9c780d082b88aa0c",
              "IPY_MODEL_177f5cfd4e884b9aba45a857c4b85513",
              "IPY_MODEL_2868809372414b87afeffa9c1fcf4f4b"
            ],
            "layout": "IPY_MODEL_9d0207d881a14f17945cdc85082e7cad"
          }
        },
        "a1baee93c0b3427b9c780d082b88aa0c": {
          "model_module": "@jupyter-widgets/controls",
          "model_name": "HTMLModel",
          "model_module_version": "1.5.0",
          "state": {
            "_dom_classes": [],
            "_model_module": "@jupyter-widgets/controls",
            "_model_module_version": "1.5.0",
            "_model_name": "HTMLModel",
            "_view_count": null,
            "_view_module": "@jupyter-widgets/controls",
            "_view_module_version": "1.5.0",
            "_view_name": "HTMLView",
            "description": "",
            "description_tooltip": null,
            "layout": "IPY_MODEL_28cc966d4b5a41d0bf9241c0515f9e56",
            "placeholder": "​",
            "style": "IPY_MODEL_7154df5e4a864c96a5f2db3bad9a887c",
            "value": "100%"
          }
        },
        "177f5cfd4e884b9aba45a857c4b85513": {
          "model_module": "@jupyter-widgets/controls",
          "model_name": "FloatProgressModel",
          "model_module_version": "1.5.0",
          "state": {
            "_dom_classes": [],
            "_model_module": "@jupyter-widgets/controls",
            "_model_module_version": "1.5.0",
            "_model_name": "FloatProgressModel",
            "_view_count": null,
            "_view_module": "@jupyter-widgets/controls",
            "_view_module_version": "1.5.0",
            "_view_name": "ProgressView",
            "bar_style": "success",
            "description": "",
            "description_tooltip": null,
            "layout": "IPY_MODEL_f4fc2fce7c344e838667c03313e63194",
            "max": 100,
            "min": 0,
            "orientation": "horizontal",
            "style": "IPY_MODEL_db76f3cb92384f359e98f5334ddc60ce",
            "value": 100
          }
        },
        "2868809372414b87afeffa9c1fcf4f4b": {
          "model_module": "@jupyter-widgets/controls",
          "model_name": "HTMLModel",
          "model_module_version": "1.5.0",
          "state": {
            "_dom_classes": [],
            "_model_module": "@jupyter-widgets/controls",
            "_model_module_version": "1.5.0",
            "_model_name": "HTMLModel",
            "_view_count": null,
            "_view_module": "@jupyter-widgets/controls",
            "_view_module_version": "1.5.0",
            "_view_name": "HTMLView",
            "description": "",
            "description_tooltip": null,
            "layout": "IPY_MODEL_a3b0559733ef4147b40f26ed2c4dbc6b",
            "placeholder": "​",
            "style": "IPY_MODEL_4b076474b91a44a9b7316a3fa01c1ca4",
            "value": " 100/100 [02:04&lt;00:00,  1.17s/it]"
          }
        },
        "9d0207d881a14f17945cdc85082e7cad": {
          "model_module": "@jupyter-widgets/base",
          "model_name": "LayoutModel",
          "model_module_version": "1.2.0",
          "state": {
            "_model_module": "@jupyter-widgets/base",
            "_model_module_version": "1.2.0",
            "_model_name": "LayoutModel",
            "_view_count": null,
            "_view_module": "@jupyter-widgets/base",
            "_view_module_version": "1.2.0",
            "_view_name": "LayoutView",
            "align_content": null,
            "align_items": null,
            "align_self": null,
            "border": null,
            "bottom": null,
            "display": null,
            "flex": null,
            "flex_flow": null,
            "grid_area": null,
            "grid_auto_columns": null,
            "grid_auto_flow": null,
            "grid_auto_rows": null,
            "grid_column": null,
            "grid_gap": null,
            "grid_row": null,
            "grid_template_areas": null,
            "grid_template_columns": null,
            "grid_template_rows": null,
            "height": null,
            "justify_content": null,
            "justify_items": null,
            "left": null,
            "margin": null,
            "max_height": null,
            "max_width": null,
            "min_height": null,
            "min_width": null,
            "object_fit": null,
            "object_position": null,
            "order": null,
            "overflow": null,
            "overflow_x": null,
            "overflow_y": null,
            "padding": null,
            "right": null,
            "top": null,
            "visibility": null,
            "width": null
          }
        },
        "28cc966d4b5a41d0bf9241c0515f9e56": {
          "model_module": "@jupyter-widgets/base",
          "model_name": "LayoutModel",
          "model_module_version": "1.2.0",
          "state": {
            "_model_module": "@jupyter-widgets/base",
            "_model_module_version": "1.2.0",
            "_model_name": "LayoutModel",
            "_view_count": null,
            "_view_module": "@jupyter-widgets/base",
            "_view_module_version": "1.2.0",
            "_view_name": "LayoutView",
            "align_content": null,
            "align_items": null,
            "align_self": null,
            "border": null,
            "bottom": null,
            "display": null,
            "flex": null,
            "flex_flow": null,
            "grid_area": null,
            "grid_auto_columns": null,
            "grid_auto_flow": null,
            "grid_auto_rows": null,
            "grid_column": null,
            "grid_gap": null,
            "grid_row": null,
            "grid_template_areas": null,
            "grid_template_columns": null,
            "grid_template_rows": null,
            "height": null,
            "justify_content": null,
            "justify_items": null,
            "left": null,
            "margin": null,
            "max_height": null,
            "max_width": null,
            "min_height": null,
            "min_width": null,
            "object_fit": null,
            "object_position": null,
            "order": null,
            "overflow": null,
            "overflow_x": null,
            "overflow_y": null,
            "padding": null,
            "right": null,
            "top": null,
            "visibility": null,
            "width": null
          }
        },
        "7154df5e4a864c96a5f2db3bad9a887c": {
          "model_module": "@jupyter-widgets/controls",
          "model_name": "DescriptionStyleModel",
          "model_module_version": "1.5.0",
          "state": {
            "_model_module": "@jupyter-widgets/controls",
            "_model_module_version": "1.5.0",
            "_model_name": "DescriptionStyleModel",
            "_view_count": null,
            "_view_module": "@jupyter-widgets/base",
            "_view_module_version": "1.2.0",
            "_view_name": "StyleView",
            "description_width": ""
          }
        },
        "f4fc2fce7c344e838667c03313e63194": {
          "model_module": "@jupyter-widgets/base",
          "model_name": "LayoutModel",
          "model_module_version": "1.2.0",
          "state": {
            "_model_module": "@jupyter-widgets/base",
            "_model_module_version": "1.2.0",
            "_model_name": "LayoutModel",
            "_view_count": null,
            "_view_module": "@jupyter-widgets/base",
            "_view_module_version": "1.2.0",
            "_view_name": "LayoutView",
            "align_content": null,
            "align_items": null,
            "align_self": null,
            "border": null,
            "bottom": null,
            "display": null,
            "flex": null,
            "flex_flow": null,
            "grid_area": null,
            "grid_auto_columns": null,
            "grid_auto_flow": null,
            "grid_auto_rows": null,
            "grid_column": null,
            "grid_gap": null,
            "grid_row": null,
            "grid_template_areas": null,
            "grid_template_columns": null,
            "grid_template_rows": null,
            "height": null,
            "justify_content": null,
            "justify_items": null,
            "left": null,
            "margin": null,
            "max_height": null,
            "max_width": null,
            "min_height": null,
            "min_width": null,
            "object_fit": null,
            "object_position": null,
            "order": null,
            "overflow": null,
            "overflow_x": null,
            "overflow_y": null,
            "padding": null,
            "right": null,
            "top": null,
            "visibility": null,
            "width": null
          }
        },
        "db76f3cb92384f359e98f5334ddc60ce": {
          "model_module": "@jupyter-widgets/controls",
          "model_name": "ProgressStyleModel",
          "model_module_version": "1.5.0",
          "state": {
            "_model_module": "@jupyter-widgets/controls",
            "_model_module_version": "1.5.0",
            "_model_name": "ProgressStyleModel",
            "_view_count": null,
            "_view_module": "@jupyter-widgets/base",
            "_view_module_version": "1.2.0",
            "_view_name": "StyleView",
            "bar_color": null,
            "description_width": ""
          }
        },
        "a3b0559733ef4147b40f26ed2c4dbc6b": {
          "model_module": "@jupyter-widgets/base",
          "model_name": "LayoutModel",
          "model_module_version": "1.2.0",
          "state": {
            "_model_module": "@jupyter-widgets/base",
            "_model_module_version": "1.2.0",
            "_model_name": "LayoutModel",
            "_view_count": null,
            "_view_module": "@jupyter-widgets/base",
            "_view_module_version": "1.2.0",
            "_view_name": "LayoutView",
            "align_content": null,
            "align_items": null,
            "align_self": null,
            "border": null,
            "bottom": null,
            "display": null,
            "flex": null,
            "flex_flow": null,
            "grid_area": null,
            "grid_auto_columns": null,
            "grid_auto_flow": null,
            "grid_auto_rows": null,
            "grid_column": null,
            "grid_gap": null,
            "grid_row": null,
            "grid_template_areas": null,
            "grid_template_columns": null,
            "grid_template_rows": null,
            "height": null,
            "justify_content": null,
            "justify_items": null,
            "left": null,
            "margin": null,
            "max_height": null,
            "max_width": null,
            "min_height": null,
            "min_width": null,
            "object_fit": null,
            "object_position": null,
            "order": null,
            "overflow": null,
            "overflow_x": null,
            "overflow_y": null,
            "padding": null,
            "right": null,
            "top": null,
            "visibility": null,
            "width": null
          }
        },
        "4b076474b91a44a9b7316a3fa01c1ca4": {
          "model_module": "@jupyter-widgets/controls",
          "model_name": "DescriptionStyleModel",
          "model_module_version": "1.5.0",
          "state": {
            "_model_module": "@jupyter-widgets/controls",
            "_model_module_version": "1.5.0",
            "_model_name": "DescriptionStyleModel",
            "_view_count": null,
            "_view_module": "@jupyter-widgets/base",
            "_view_module_version": "1.2.0",
            "_view_name": "StyleView",
            "description_width": ""
          }
        },
        "5c0857435eeb437a8f999ee0a45b3597": {
          "model_module": "@jupyter-widgets/controls",
          "model_name": "HBoxModel",
          "model_module_version": "1.5.0",
          "state": {
            "_dom_classes": [],
            "_model_module": "@jupyter-widgets/controls",
            "_model_module_version": "1.5.0",
            "_model_name": "HBoxModel",
            "_view_count": null,
            "_view_module": "@jupyter-widgets/controls",
            "_view_module_version": "1.5.0",
            "_view_name": "HBoxView",
            "box_style": "",
            "children": [
              "IPY_MODEL_51ea6f973bcf4d18bdc2c01e8fe73566",
              "IPY_MODEL_931e3c31d1e14b23a1bfbaa5bc73c39a",
              "IPY_MODEL_1d38f6d9c23a42e2923ec1040d4a91aa"
            ],
            "layout": "IPY_MODEL_afb42333fd4544f0aeb0499b519eed0b"
          }
        },
        "51ea6f973bcf4d18bdc2c01e8fe73566": {
          "model_module": "@jupyter-widgets/controls",
          "model_name": "HTMLModel",
          "model_module_version": "1.5.0",
          "state": {
            "_dom_classes": [],
            "_model_module": "@jupyter-widgets/controls",
            "_model_module_version": "1.5.0",
            "_model_name": "HTMLModel",
            "_view_count": null,
            "_view_module": "@jupyter-widgets/controls",
            "_view_module_version": "1.5.0",
            "_view_name": "HTMLView",
            "description": "",
            "description_tooltip": null,
            "layout": "IPY_MODEL_6602314db3074b49b2a6b2bbadc27769",
            "placeholder": "​",
            "style": "IPY_MODEL_7a86d0a302324b508e20c54afa2e1d2c",
            "value": "100%"
          }
        },
        "931e3c31d1e14b23a1bfbaa5bc73c39a": {
          "model_module": "@jupyter-widgets/controls",
          "model_name": "FloatProgressModel",
          "model_module_version": "1.5.0",
          "state": {
            "_dom_classes": [],
            "_model_module": "@jupyter-widgets/controls",
            "_model_module_version": "1.5.0",
            "_model_name": "FloatProgressModel",
            "_view_count": null,
            "_view_module": "@jupyter-widgets/controls",
            "_view_module_version": "1.5.0",
            "_view_name": "ProgressView",
            "bar_style": "success",
            "description": "",
            "description_tooltip": null,
            "layout": "IPY_MODEL_121fd30102a34da3997f57abdfcc4df2",
            "max": 100,
            "min": 0,
            "orientation": "horizontal",
            "style": "IPY_MODEL_a77e3b13c024422ba740fcc42272038f",
            "value": 100
          }
        },
        "1d38f6d9c23a42e2923ec1040d4a91aa": {
          "model_module": "@jupyter-widgets/controls",
          "model_name": "HTMLModel",
          "model_module_version": "1.5.0",
          "state": {
            "_dom_classes": [],
            "_model_module": "@jupyter-widgets/controls",
            "_model_module_version": "1.5.0",
            "_model_name": "HTMLModel",
            "_view_count": null,
            "_view_module": "@jupyter-widgets/controls",
            "_view_module_version": "1.5.0",
            "_view_name": "HTMLView",
            "description": "",
            "description_tooltip": null,
            "layout": "IPY_MODEL_8a8062e4acff4ce08f59b0236da40a43",
            "placeholder": "​",
            "style": "IPY_MODEL_30c6b44056f54f11a509ec57b6158ef2",
            "value": " 100/100 [03:21&lt;00:00,  2.01s/it]"
          }
        },
        "afb42333fd4544f0aeb0499b519eed0b": {
          "model_module": "@jupyter-widgets/base",
          "model_name": "LayoutModel",
          "model_module_version": "1.2.0",
          "state": {
            "_model_module": "@jupyter-widgets/base",
            "_model_module_version": "1.2.0",
            "_model_name": "LayoutModel",
            "_view_count": null,
            "_view_module": "@jupyter-widgets/base",
            "_view_module_version": "1.2.0",
            "_view_name": "LayoutView",
            "align_content": null,
            "align_items": null,
            "align_self": null,
            "border": null,
            "bottom": null,
            "display": null,
            "flex": null,
            "flex_flow": null,
            "grid_area": null,
            "grid_auto_columns": null,
            "grid_auto_flow": null,
            "grid_auto_rows": null,
            "grid_column": null,
            "grid_gap": null,
            "grid_row": null,
            "grid_template_areas": null,
            "grid_template_columns": null,
            "grid_template_rows": null,
            "height": null,
            "justify_content": null,
            "justify_items": null,
            "left": null,
            "margin": null,
            "max_height": null,
            "max_width": null,
            "min_height": null,
            "min_width": null,
            "object_fit": null,
            "object_position": null,
            "order": null,
            "overflow": null,
            "overflow_x": null,
            "overflow_y": null,
            "padding": null,
            "right": null,
            "top": null,
            "visibility": null,
            "width": null
          }
        },
        "6602314db3074b49b2a6b2bbadc27769": {
          "model_module": "@jupyter-widgets/base",
          "model_name": "LayoutModel",
          "model_module_version": "1.2.0",
          "state": {
            "_model_module": "@jupyter-widgets/base",
            "_model_module_version": "1.2.0",
            "_model_name": "LayoutModel",
            "_view_count": null,
            "_view_module": "@jupyter-widgets/base",
            "_view_module_version": "1.2.0",
            "_view_name": "LayoutView",
            "align_content": null,
            "align_items": null,
            "align_self": null,
            "border": null,
            "bottom": null,
            "display": null,
            "flex": null,
            "flex_flow": null,
            "grid_area": null,
            "grid_auto_columns": null,
            "grid_auto_flow": null,
            "grid_auto_rows": null,
            "grid_column": null,
            "grid_gap": null,
            "grid_row": null,
            "grid_template_areas": null,
            "grid_template_columns": null,
            "grid_template_rows": null,
            "height": null,
            "justify_content": null,
            "justify_items": null,
            "left": null,
            "margin": null,
            "max_height": null,
            "max_width": null,
            "min_height": null,
            "min_width": null,
            "object_fit": null,
            "object_position": null,
            "order": null,
            "overflow": null,
            "overflow_x": null,
            "overflow_y": null,
            "padding": null,
            "right": null,
            "top": null,
            "visibility": null,
            "width": null
          }
        },
        "7a86d0a302324b508e20c54afa2e1d2c": {
          "model_module": "@jupyter-widgets/controls",
          "model_name": "DescriptionStyleModel",
          "model_module_version": "1.5.0",
          "state": {
            "_model_module": "@jupyter-widgets/controls",
            "_model_module_version": "1.5.0",
            "_model_name": "DescriptionStyleModel",
            "_view_count": null,
            "_view_module": "@jupyter-widgets/base",
            "_view_module_version": "1.2.0",
            "_view_name": "StyleView",
            "description_width": ""
          }
        },
        "121fd30102a34da3997f57abdfcc4df2": {
          "model_module": "@jupyter-widgets/base",
          "model_name": "LayoutModel",
          "model_module_version": "1.2.0",
          "state": {
            "_model_module": "@jupyter-widgets/base",
            "_model_module_version": "1.2.0",
            "_model_name": "LayoutModel",
            "_view_count": null,
            "_view_module": "@jupyter-widgets/base",
            "_view_module_version": "1.2.0",
            "_view_name": "LayoutView",
            "align_content": null,
            "align_items": null,
            "align_self": null,
            "border": null,
            "bottom": null,
            "display": null,
            "flex": null,
            "flex_flow": null,
            "grid_area": null,
            "grid_auto_columns": null,
            "grid_auto_flow": null,
            "grid_auto_rows": null,
            "grid_column": null,
            "grid_gap": null,
            "grid_row": null,
            "grid_template_areas": null,
            "grid_template_columns": null,
            "grid_template_rows": null,
            "height": null,
            "justify_content": null,
            "justify_items": null,
            "left": null,
            "margin": null,
            "max_height": null,
            "max_width": null,
            "min_height": null,
            "min_width": null,
            "object_fit": null,
            "object_position": null,
            "order": null,
            "overflow": null,
            "overflow_x": null,
            "overflow_y": null,
            "padding": null,
            "right": null,
            "top": null,
            "visibility": null,
            "width": null
          }
        },
        "a77e3b13c024422ba740fcc42272038f": {
          "model_module": "@jupyter-widgets/controls",
          "model_name": "ProgressStyleModel",
          "model_module_version": "1.5.0",
          "state": {
            "_model_module": "@jupyter-widgets/controls",
            "_model_module_version": "1.5.0",
            "_model_name": "ProgressStyleModel",
            "_view_count": null,
            "_view_module": "@jupyter-widgets/base",
            "_view_module_version": "1.2.0",
            "_view_name": "StyleView",
            "bar_color": null,
            "description_width": ""
          }
        },
        "8a8062e4acff4ce08f59b0236da40a43": {
          "model_module": "@jupyter-widgets/base",
          "model_name": "LayoutModel",
          "model_module_version": "1.2.0",
          "state": {
            "_model_module": "@jupyter-widgets/base",
            "_model_module_version": "1.2.0",
            "_model_name": "LayoutModel",
            "_view_count": null,
            "_view_module": "@jupyter-widgets/base",
            "_view_module_version": "1.2.0",
            "_view_name": "LayoutView",
            "align_content": null,
            "align_items": null,
            "align_self": null,
            "border": null,
            "bottom": null,
            "display": null,
            "flex": null,
            "flex_flow": null,
            "grid_area": null,
            "grid_auto_columns": null,
            "grid_auto_flow": null,
            "grid_auto_rows": null,
            "grid_column": null,
            "grid_gap": null,
            "grid_row": null,
            "grid_template_areas": null,
            "grid_template_columns": null,
            "grid_template_rows": null,
            "height": null,
            "justify_content": null,
            "justify_items": null,
            "left": null,
            "margin": null,
            "max_height": null,
            "max_width": null,
            "min_height": null,
            "min_width": null,
            "object_fit": null,
            "object_position": null,
            "order": null,
            "overflow": null,
            "overflow_x": null,
            "overflow_y": null,
            "padding": null,
            "right": null,
            "top": null,
            "visibility": null,
            "width": null
          }
        },
        "30c6b44056f54f11a509ec57b6158ef2": {
          "model_module": "@jupyter-widgets/controls",
          "model_name": "DescriptionStyleModel",
          "model_module_version": "1.5.0",
          "state": {
            "_model_module": "@jupyter-widgets/controls",
            "_model_module_version": "1.5.0",
            "_model_name": "DescriptionStyleModel",
            "_view_count": null,
            "_view_module": "@jupyter-widgets/base",
            "_view_module_version": "1.2.0",
            "_view_name": "StyleView",
            "description_width": ""
          }
        },
        "1a257b1c72ec4e65bf7acfe37b3d4fd9": {
          "model_module": "@jupyter-widgets/controls",
          "model_name": "HBoxModel",
          "model_module_version": "1.5.0",
          "state": {
            "_dom_classes": [],
            "_model_module": "@jupyter-widgets/controls",
            "_model_module_version": "1.5.0",
            "_model_name": "HBoxModel",
            "_view_count": null,
            "_view_module": "@jupyter-widgets/controls",
            "_view_module_version": "1.5.0",
            "_view_name": "HBoxView",
            "box_style": "",
            "children": [
              "IPY_MODEL_da0a4976ba7b4ec683a98a165ec05121",
              "IPY_MODEL_7e37075c4ac24f39a1e7ca6b0e53c9cb",
              "IPY_MODEL_16cc6763a6404d8f8fe201f26138a652"
            ],
            "layout": "IPY_MODEL_62151bbe59324de186f2b4f44e8015f3"
          }
        },
        "da0a4976ba7b4ec683a98a165ec05121": {
          "model_module": "@jupyter-widgets/controls",
          "model_name": "HTMLModel",
          "model_module_version": "1.5.0",
          "state": {
            "_dom_classes": [],
            "_model_module": "@jupyter-widgets/controls",
            "_model_module_version": "1.5.0",
            "_model_name": "HTMLModel",
            "_view_count": null,
            "_view_module": "@jupyter-widgets/controls",
            "_view_module_version": "1.5.0",
            "_view_name": "HTMLView",
            "description": "",
            "description_tooltip": null,
            "layout": "IPY_MODEL_0d07d0f7c6b64b848c16e56fca46dcf4",
            "placeholder": "​",
            "style": "IPY_MODEL_07a0ae49a761497498ec8e7fa464f320",
            "value": "100%"
          }
        },
        "7e37075c4ac24f39a1e7ca6b0e53c9cb": {
          "model_module": "@jupyter-widgets/controls",
          "model_name": "FloatProgressModel",
          "model_module_version": "1.5.0",
          "state": {
            "_dom_classes": [],
            "_model_module": "@jupyter-widgets/controls",
            "_model_module_version": "1.5.0",
            "_model_name": "FloatProgressModel",
            "_view_count": null,
            "_view_module": "@jupyter-widgets/controls",
            "_view_module_version": "1.5.0",
            "_view_name": "ProgressView",
            "bar_style": "success",
            "description": "",
            "description_tooltip": null,
            "layout": "IPY_MODEL_ea1e9322b3504013aaa2c5a04fb54de7",
            "max": 100,
            "min": 0,
            "orientation": "horizontal",
            "style": "IPY_MODEL_28d9450f46644b03a677617c750a9863",
            "value": 100
          }
        },
        "16cc6763a6404d8f8fe201f26138a652": {
          "model_module": "@jupyter-widgets/controls",
          "model_name": "HTMLModel",
          "model_module_version": "1.5.0",
          "state": {
            "_dom_classes": [],
            "_model_module": "@jupyter-widgets/controls",
            "_model_module_version": "1.5.0",
            "_model_name": "HTMLModel",
            "_view_count": null,
            "_view_module": "@jupyter-widgets/controls",
            "_view_module_version": "1.5.0",
            "_view_name": "HTMLView",
            "description": "",
            "description_tooltip": null,
            "layout": "IPY_MODEL_ae57a569c992487c90442591eb874d33",
            "placeholder": "​",
            "style": "IPY_MODEL_ac789685a71e40e5a2b33cdeb2013f28",
            "value": " 100/100 [04:53&lt;00:00,  2.94s/it]"
          }
        },
        "62151bbe59324de186f2b4f44e8015f3": {
          "model_module": "@jupyter-widgets/base",
          "model_name": "LayoutModel",
          "model_module_version": "1.2.0",
          "state": {
            "_model_module": "@jupyter-widgets/base",
            "_model_module_version": "1.2.0",
            "_model_name": "LayoutModel",
            "_view_count": null,
            "_view_module": "@jupyter-widgets/base",
            "_view_module_version": "1.2.0",
            "_view_name": "LayoutView",
            "align_content": null,
            "align_items": null,
            "align_self": null,
            "border": null,
            "bottom": null,
            "display": null,
            "flex": null,
            "flex_flow": null,
            "grid_area": null,
            "grid_auto_columns": null,
            "grid_auto_flow": null,
            "grid_auto_rows": null,
            "grid_column": null,
            "grid_gap": null,
            "grid_row": null,
            "grid_template_areas": null,
            "grid_template_columns": null,
            "grid_template_rows": null,
            "height": null,
            "justify_content": null,
            "justify_items": null,
            "left": null,
            "margin": null,
            "max_height": null,
            "max_width": null,
            "min_height": null,
            "min_width": null,
            "object_fit": null,
            "object_position": null,
            "order": null,
            "overflow": null,
            "overflow_x": null,
            "overflow_y": null,
            "padding": null,
            "right": null,
            "top": null,
            "visibility": null,
            "width": null
          }
        },
        "0d07d0f7c6b64b848c16e56fca46dcf4": {
          "model_module": "@jupyter-widgets/base",
          "model_name": "LayoutModel",
          "model_module_version": "1.2.0",
          "state": {
            "_model_module": "@jupyter-widgets/base",
            "_model_module_version": "1.2.0",
            "_model_name": "LayoutModel",
            "_view_count": null,
            "_view_module": "@jupyter-widgets/base",
            "_view_module_version": "1.2.0",
            "_view_name": "LayoutView",
            "align_content": null,
            "align_items": null,
            "align_self": null,
            "border": null,
            "bottom": null,
            "display": null,
            "flex": null,
            "flex_flow": null,
            "grid_area": null,
            "grid_auto_columns": null,
            "grid_auto_flow": null,
            "grid_auto_rows": null,
            "grid_column": null,
            "grid_gap": null,
            "grid_row": null,
            "grid_template_areas": null,
            "grid_template_columns": null,
            "grid_template_rows": null,
            "height": null,
            "justify_content": null,
            "justify_items": null,
            "left": null,
            "margin": null,
            "max_height": null,
            "max_width": null,
            "min_height": null,
            "min_width": null,
            "object_fit": null,
            "object_position": null,
            "order": null,
            "overflow": null,
            "overflow_x": null,
            "overflow_y": null,
            "padding": null,
            "right": null,
            "top": null,
            "visibility": null,
            "width": null
          }
        },
        "07a0ae49a761497498ec8e7fa464f320": {
          "model_module": "@jupyter-widgets/controls",
          "model_name": "DescriptionStyleModel",
          "model_module_version": "1.5.0",
          "state": {
            "_model_module": "@jupyter-widgets/controls",
            "_model_module_version": "1.5.0",
            "_model_name": "DescriptionStyleModel",
            "_view_count": null,
            "_view_module": "@jupyter-widgets/base",
            "_view_module_version": "1.2.0",
            "_view_name": "StyleView",
            "description_width": ""
          }
        },
        "ea1e9322b3504013aaa2c5a04fb54de7": {
          "model_module": "@jupyter-widgets/base",
          "model_name": "LayoutModel",
          "model_module_version": "1.2.0",
          "state": {
            "_model_module": "@jupyter-widgets/base",
            "_model_module_version": "1.2.0",
            "_model_name": "LayoutModel",
            "_view_count": null,
            "_view_module": "@jupyter-widgets/base",
            "_view_module_version": "1.2.0",
            "_view_name": "LayoutView",
            "align_content": null,
            "align_items": null,
            "align_self": null,
            "border": null,
            "bottom": null,
            "display": null,
            "flex": null,
            "flex_flow": null,
            "grid_area": null,
            "grid_auto_columns": null,
            "grid_auto_flow": null,
            "grid_auto_rows": null,
            "grid_column": null,
            "grid_gap": null,
            "grid_row": null,
            "grid_template_areas": null,
            "grid_template_columns": null,
            "grid_template_rows": null,
            "height": null,
            "justify_content": null,
            "justify_items": null,
            "left": null,
            "margin": null,
            "max_height": null,
            "max_width": null,
            "min_height": null,
            "min_width": null,
            "object_fit": null,
            "object_position": null,
            "order": null,
            "overflow": null,
            "overflow_x": null,
            "overflow_y": null,
            "padding": null,
            "right": null,
            "top": null,
            "visibility": null,
            "width": null
          }
        },
        "28d9450f46644b03a677617c750a9863": {
          "model_module": "@jupyter-widgets/controls",
          "model_name": "ProgressStyleModel",
          "model_module_version": "1.5.0",
          "state": {
            "_model_module": "@jupyter-widgets/controls",
            "_model_module_version": "1.5.0",
            "_model_name": "ProgressStyleModel",
            "_view_count": null,
            "_view_module": "@jupyter-widgets/base",
            "_view_module_version": "1.2.0",
            "_view_name": "StyleView",
            "bar_color": null,
            "description_width": ""
          }
        },
        "ae57a569c992487c90442591eb874d33": {
          "model_module": "@jupyter-widgets/base",
          "model_name": "LayoutModel",
          "model_module_version": "1.2.0",
          "state": {
            "_model_module": "@jupyter-widgets/base",
            "_model_module_version": "1.2.0",
            "_model_name": "LayoutModel",
            "_view_count": null,
            "_view_module": "@jupyter-widgets/base",
            "_view_module_version": "1.2.0",
            "_view_name": "LayoutView",
            "align_content": null,
            "align_items": null,
            "align_self": null,
            "border": null,
            "bottom": null,
            "display": null,
            "flex": null,
            "flex_flow": null,
            "grid_area": null,
            "grid_auto_columns": null,
            "grid_auto_flow": null,
            "grid_auto_rows": null,
            "grid_column": null,
            "grid_gap": null,
            "grid_row": null,
            "grid_template_areas": null,
            "grid_template_columns": null,
            "grid_template_rows": null,
            "height": null,
            "justify_content": null,
            "justify_items": null,
            "left": null,
            "margin": null,
            "max_height": null,
            "max_width": null,
            "min_height": null,
            "min_width": null,
            "object_fit": null,
            "object_position": null,
            "order": null,
            "overflow": null,
            "overflow_x": null,
            "overflow_y": null,
            "padding": null,
            "right": null,
            "top": null,
            "visibility": null,
            "width": null
          }
        },
        "ac789685a71e40e5a2b33cdeb2013f28": {
          "model_module": "@jupyter-widgets/controls",
          "model_name": "DescriptionStyleModel",
          "model_module_version": "1.5.0",
          "state": {
            "_model_module": "@jupyter-widgets/controls",
            "_model_module_version": "1.5.0",
            "_model_name": "DescriptionStyleModel",
            "_view_count": null,
            "_view_module": "@jupyter-widgets/base",
            "_view_module_version": "1.2.0",
            "_view_name": "StyleView",
            "description_width": ""
          }
        },
        "ce462fa906a44cb5986c9169ca3cfa6f": {
          "model_module": "@jupyter-widgets/controls",
          "model_name": "HBoxModel",
          "model_module_version": "1.5.0",
          "state": {
            "_dom_classes": [],
            "_model_module": "@jupyter-widgets/controls",
            "_model_module_version": "1.5.0",
            "_model_name": "HBoxModel",
            "_view_count": null,
            "_view_module": "@jupyter-widgets/controls",
            "_view_module_version": "1.5.0",
            "_view_name": "HBoxView",
            "box_style": "",
            "children": [
              "IPY_MODEL_07ea6ebe0561425a990a55b4431a6b1d",
              "IPY_MODEL_78a18a6f5c82451c8d3df70b2a0cf6d1",
              "IPY_MODEL_81c72702d9af4991bdd95cdb3d2becb7"
            ],
            "layout": "IPY_MODEL_682d353b3c834eb0943ec65dff4b26a6"
          }
        },
        "07ea6ebe0561425a990a55b4431a6b1d": {
          "model_module": "@jupyter-widgets/controls",
          "model_name": "HTMLModel",
          "model_module_version": "1.5.0",
          "state": {
            "_dom_classes": [],
            "_model_module": "@jupyter-widgets/controls",
            "_model_module_version": "1.5.0",
            "_model_name": "HTMLModel",
            "_view_count": null,
            "_view_module": "@jupyter-widgets/controls",
            "_view_module_version": "1.5.0",
            "_view_name": "HTMLView",
            "description": "",
            "description_tooltip": null,
            "layout": "IPY_MODEL_42392043b3764675a8a0227cf9a0eca0",
            "placeholder": "​",
            "style": "IPY_MODEL_0a77dc04a09244b8bc0c6d3043b59f25",
            "value": "100%"
          }
        },
        "78a18a6f5c82451c8d3df70b2a0cf6d1": {
          "model_module": "@jupyter-widgets/controls",
          "model_name": "FloatProgressModel",
          "model_module_version": "1.5.0",
          "state": {
            "_dom_classes": [],
            "_model_module": "@jupyter-widgets/controls",
            "_model_module_version": "1.5.0",
            "_model_name": "FloatProgressModel",
            "_view_count": null,
            "_view_module": "@jupyter-widgets/controls",
            "_view_module_version": "1.5.0",
            "_view_name": "ProgressView",
            "bar_style": "success",
            "description": "",
            "description_tooltip": null,
            "layout": "IPY_MODEL_d9130dfc1fa44f88aaf6eb36401ff227",
            "max": 100,
            "min": 0,
            "orientation": "horizontal",
            "style": "IPY_MODEL_9b1d5bf447a24e9da94ba2c852582bfb",
            "value": 100
          }
        },
        "81c72702d9af4991bdd95cdb3d2becb7": {
          "model_module": "@jupyter-widgets/controls",
          "model_name": "HTMLModel",
          "model_module_version": "1.5.0",
          "state": {
            "_dom_classes": [],
            "_model_module": "@jupyter-widgets/controls",
            "_model_module_version": "1.5.0",
            "_model_name": "HTMLModel",
            "_view_count": null,
            "_view_module": "@jupyter-widgets/controls",
            "_view_module_version": "1.5.0",
            "_view_name": "HTMLView",
            "description": "",
            "description_tooltip": null,
            "layout": "IPY_MODEL_2428e33993ea470baae5d90990b73a43",
            "placeholder": "​",
            "style": "IPY_MODEL_4f0d91d058dc475283139efdcb4a2a5a",
            "value": " 100/100 [06:14&lt;00:00,  3.76s/it]"
          }
        },
        "682d353b3c834eb0943ec65dff4b26a6": {
          "model_module": "@jupyter-widgets/base",
          "model_name": "LayoutModel",
          "model_module_version": "1.2.0",
          "state": {
            "_model_module": "@jupyter-widgets/base",
            "_model_module_version": "1.2.0",
            "_model_name": "LayoutModel",
            "_view_count": null,
            "_view_module": "@jupyter-widgets/base",
            "_view_module_version": "1.2.0",
            "_view_name": "LayoutView",
            "align_content": null,
            "align_items": null,
            "align_self": null,
            "border": null,
            "bottom": null,
            "display": null,
            "flex": null,
            "flex_flow": null,
            "grid_area": null,
            "grid_auto_columns": null,
            "grid_auto_flow": null,
            "grid_auto_rows": null,
            "grid_column": null,
            "grid_gap": null,
            "grid_row": null,
            "grid_template_areas": null,
            "grid_template_columns": null,
            "grid_template_rows": null,
            "height": null,
            "justify_content": null,
            "justify_items": null,
            "left": null,
            "margin": null,
            "max_height": null,
            "max_width": null,
            "min_height": null,
            "min_width": null,
            "object_fit": null,
            "object_position": null,
            "order": null,
            "overflow": null,
            "overflow_x": null,
            "overflow_y": null,
            "padding": null,
            "right": null,
            "top": null,
            "visibility": null,
            "width": null
          }
        },
        "42392043b3764675a8a0227cf9a0eca0": {
          "model_module": "@jupyter-widgets/base",
          "model_name": "LayoutModel",
          "model_module_version": "1.2.0",
          "state": {
            "_model_module": "@jupyter-widgets/base",
            "_model_module_version": "1.2.0",
            "_model_name": "LayoutModel",
            "_view_count": null,
            "_view_module": "@jupyter-widgets/base",
            "_view_module_version": "1.2.0",
            "_view_name": "LayoutView",
            "align_content": null,
            "align_items": null,
            "align_self": null,
            "border": null,
            "bottom": null,
            "display": null,
            "flex": null,
            "flex_flow": null,
            "grid_area": null,
            "grid_auto_columns": null,
            "grid_auto_flow": null,
            "grid_auto_rows": null,
            "grid_column": null,
            "grid_gap": null,
            "grid_row": null,
            "grid_template_areas": null,
            "grid_template_columns": null,
            "grid_template_rows": null,
            "height": null,
            "justify_content": null,
            "justify_items": null,
            "left": null,
            "margin": null,
            "max_height": null,
            "max_width": null,
            "min_height": null,
            "min_width": null,
            "object_fit": null,
            "object_position": null,
            "order": null,
            "overflow": null,
            "overflow_x": null,
            "overflow_y": null,
            "padding": null,
            "right": null,
            "top": null,
            "visibility": null,
            "width": null
          }
        },
        "0a77dc04a09244b8bc0c6d3043b59f25": {
          "model_module": "@jupyter-widgets/controls",
          "model_name": "DescriptionStyleModel",
          "model_module_version": "1.5.0",
          "state": {
            "_model_module": "@jupyter-widgets/controls",
            "_model_module_version": "1.5.0",
            "_model_name": "DescriptionStyleModel",
            "_view_count": null,
            "_view_module": "@jupyter-widgets/base",
            "_view_module_version": "1.2.0",
            "_view_name": "StyleView",
            "description_width": ""
          }
        },
        "d9130dfc1fa44f88aaf6eb36401ff227": {
          "model_module": "@jupyter-widgets/base",
          "model_name": "LayoutModel",
          "model_module_version": "1.2.0",
          "state": {
            "_model_module": "@jupyter-widgets/base",
            "_model_module_version": "1.2.0",
            "_model_name": "LayoutModel",
            "_view_count": null,
            "_view_module": "@jupyter-widgets/base",
            "_view_module_version": "1.2.0",
            "_view_name": "LayoutView",
            "align_content": null,
            "align_items": null,
            "align_self": null,
            "border": null,
            "bottom": null,
            "display": null,
            "flex": null,
            "flex_flow": null,
            "grid_area": null,
            "grid_auto_columns": null,
            "grid_auto_flow": null,
            "grid_auto_rows": null,
            "grid_column": null,
            "grid_gap": null,
            "grid_row": null,
            "grid_template_areas": null,
            "grid_template_columns": null,
            "grid_template_rows": null,
            "height": null,
            "justify_content": null,
            "justify_items": null,
            "left": null,
            "margin": null,
            "max_height": null,
            "max_width": null,
            "min_height": null,
            "min_width": null,
            "object_fit": null,
            "object_position": null,
            "order": null,
            "overflow": null,
            "overflow_x": null,
            "overflow_y": null,
            "padding": null,
            "right": null,
            "top": null,
            "visibility": null,
            "width": null
          }
        },
        "9b1d5bf447a24e9da94ba2c852582bfb": {
          "model_module": "@jupyter-widgets/controls",
          "model_name": "ProgressStyleModel",
          "model_module_version": "1.5.0",
          "state": {
            "_model_module": "@jupyter-widgets/controls",
            "_model_module_version": "1.5.0",
            "_model_name": "ProgressStyleModel",
            "_view_count": null,
            "_view_module": "@jupyter-widgets/base",
            "_view_module_version": "1.2.0",
            "_view_name": "StyleView",
            "bar_color": null,
            "description_width": ""
          }
        },
        "2428e33993ea470baae5d90990b73a43": {
          "model_module": "@jupyter-widgets/base",
          "model_name": "LayoutModel",
          "model_module_version": "1.2.0",
          "state": {
            "_model_module": "@jupyter-widgets/base",
            "_model_module_version": "1.2.0",
            "_model_name": "LayoutModel",
            "_view_count": null,
            "_view_module": "@jupyter-widgets/base",
            "_view_module_version": "1.2.0",
            "_view_name": "LayoutView",
            "align_content": null,
            "align_items": null,
            "align_self": null,
            "border": null,
            "bottom": null,
            "display": null,
            "flex": null,
            "flex_flow": null,
            "grid_area": null,
            "grid_auto_columns": null,
            "grid_auto_flow": null,
            "grid_auto_rows": null,
            "grid_column": null,
            "grid_gap": null,
            "grid_row": null,
            "grid_template_areas": null,
            "grid_template_columns": null,
            "grid_template_rows": null,
            "height": null,
            "justify_content": null,
            "justify_items": null,
            "left": null,
            "margin": null,
            "max_height": null,
            "max_width": null,
            "min_height": null,
            "min_width": null,
            "object_fit": null,
            "object_position": null,
            "order": null,
            "overflow": null,
            "overflow_x": null,
            "overflow_y": null,
            "padding": null,
            "right": null,
            "top": null,
            "visibility": null,
            "width": null
          }
        },
        "4f0d91d058dc475283139efdcb4a2a5a": {
          "model_module": "@jupyter-widgets/controls",
          "model_name": "DescriptionStyleModel",
          "model_module_version": "1.5.0",
          "state": {
            "_model_module": "@jupyter-widgets/controls",
            "_model_module_version": "1.5.0",
            "_model_name": "DescriptionStyleModel",
            "_view_count": null,
            "_view_module": "@jupyter-widgets/base",
            "_view_module_version": "1.2.0",
            "_view_name": "StyleView",
            "description_width": ""
          }
        },
        "bae9193b90104afb9b8c9ea6110b5e2b": {
          "model_module": "@jupyter-widgets/controls",
          "model_name": "HBoxModel",
          "model_module_version": "1.5.0",
          "state": {
            "_dom_classes": [],
            "_model_module": "@jupyter-widgets/controls",
            "_model_module_version": "1.5.0",
            "_model_name": "HBoxModel",
            "_view_count": null,
            "_view_module": "@jupyter-widgets/controls",
            "_view_module_version": "1.5.0",
            "_view_name": "HBoxView",
            "box_style": "",
            "children": [
              "IPY_MODEL_71178284d589420fb9e22866946581b9",
              "IPY_MODEL_4f76afc7d99e438f800d957787fa78d2",
              "IPY_MODEL_3455dba8fb914eaf964ef903151108dc"
            ],
            "layout": "IPY_MODEL_2abb18e0fa0f479285dfa159b244c7a9"
          }
        },
        "71178284d589420fb9e22866946581b9": {
          "model_module": "@jupyter-widgets/controls",
          "model_name": "HTMLModel",
          "model_module_version": "1.5.0",
          "state": {
            "_dom_classes": [],
            "_model_module": "@jupyter-widgets/controls",
            "_model_module_version": "1.5.0",
            "_model_name": "HTMLModel",
            "_view_count": null,
            "_view_module": "@jupyter-widgets/controls",
            "_view_module_version": "1.5.0",
            "_view_name": "HTMLView",
            "description": "",
            "description_tooltip": null,
            "layout": "IPY_MODEL_00972ccccf58495597e9ccc0ccc42b4d",
            "placeholder": "​",
            "style": "IPY_MODEL_d684e882245a4ff59b569f3003353254",
            "value": "100%"
          }
        },
        "4f76afc7d99e438f800d957787fa78d2": {
          "model_module": "@jupyter-widgets/controls",
          "model_name": "FloatProgressModel",
          "model_module_version": "1.5.0",
          "state": {
            "_dom_classes": [],
            "_model_module": "@jupyter-widgets/controls",
            "_model_module_version": "1.5.0",
            "_model_name": "FloatProgressModel",
            "_view_count": null,
            "_view_module": "@jupyter-widgets/controls",
            "_view_module_version": "1.5.0",
            "_view_name": "ProgressView",
            "bar_style": "success",
            "description": "",
            "description_tooltip": null,
            "layout": "IPY_MODEL_fe4d687177154aaea41b911730991f52",
            "max": 100,
            "min": 0,
            "orientation": "horizontal",
            "style": "IPY_MODEL_1c966a8648e2453cae5911b78220c206",
            "value": 100
          }
        },
        "3455dba8fb914eaf964ef903151108dc": {
          "model_module": "@jupyter-widgets/controls",
          "model_name": "HTMLModel",
          "model_module_version": "1.5.0",
          "state": {
            "_dom_classes": [],
            "_model_module": "@jupyter-widgets/controls",
            "_model_module_version": "1.5.0",
            "_model_name": "HTMLModel",
            "_view_count": null,
            "_view_module": "@jupyter-widgets/controls",
            "_view_module_version": "1.5.0",
            "_view_name": "HTMLView",
            "description": "",
            "description_tooltip": null,
            "layout": "IPY_MODEL_d3ca9d8e0c2e4988bfa0cda327c1d0dc",
            "placeholder": "​",
            "style": "IPY_MODEL_306bca4c15534fdeb8ff709bf6ff3e5b",
            "value": " 100/100 [07:33&lt;00:00,  4.56s/it]"
          }
        },
        "2abb18e0fa0f479285dfa159b244c7a9": {
          "model_module": "@jupyter-widgets/base",
          "model_name": "LayoutModel",
          "model_module_version": "1.2.0",
          "state": {
            "_model_module": "@jupyter-widgets/base",
            "_model_module_version": "1.2.0",
            "_model_name": "LayoutModel",
            "_view_count": null,
            "_view_module": "@jupyter-widgets/base",
            "_view_module_version": "1.2.0",
            "_view_name": "LayoutView",
            "align_content": null,
            "align_items": null,
            "align_self": null,
            "border": null,
            "bottom": null,
            "display": null,
            "flex": null,
            "flex_flow": null,
            "grid_area": null,
            "grid_auto_columns": null,
            "grid_auto_flow": null,
            "grid_auto_rows": null,
            "grid_column": null,
            "grid_gap": null,
            "grid_row": null,
            "grid_template_areas": null,
            "grid_template_columns": null,
            "grid_template_rows": null,
            "height": null,
            "justify_content": null,
            "justify_items": null,
            "left": null,
            "margin": null,
            "max_height": null,
            "max_width": null,
            "min_height": null,
            "min_width": null,
            "object_fit": null,
            "object_position": null,
            "order": null,
            "overflow": null,
            "overflow_x": null,
            "overflow_y": null,
            "padding": null,
            "right": null,
            "top": null,
            "visibility": null,
            "width": null
          }
        },
        "00972ccccf58495597e9ccc0ccc42b4d": {
          "model_module": "@jupyter-widgets/base",
          "model_name": "LayoutModel",
          "model_module_version": "1.2.0",
          "state": {
            "_model_module": "@jupyter-widgets/base",
            "_model_module_version": "1.2.0",
            "_model_name": "LayoutModel",
            "_view_count": null,
            "_view_module": "@jupyter-widgets/base",
            "_view_module_version": "1.2.0",
            "_view_name": "LayoutView",
            "align_content": null,
            "align_items": null,
            "align_self": null,
            "border": null,
            "bottom": null,
            "display": null,
            "flex": null,
            "flex_flow": null,
            "grid_area": null,
            "grid_auto_columns": null,
            "grid_auto_flow": null,
            "grid_auto_rows": null,
            "grid_column": null,
            "grid_gap": null,
            "grid_row": null,
            "grid_template_areas": null,
            "grid_template_columns": null,
            "grid_template_rows": null,
            "height": null,
            "justify_content": null,
            "justify_items": null,
            "left": null,
            "margin": null,
            "max_height": null,
            "max_width": null,
            "min_height": null,
            "min_width": null,
            "object_fit": null,
            "object_position": null,
            "order": null,
            "overflow": null,
            "overflow_x": null,
            "overflow_y": null,
            "padding": null,
            "right": null,
            "top": null,
            "visibility": null,
            "width": null
          }
        },
        "d684e882245a4ff59b569f3003353254": {
          "model_module": "@jupyter-widgets/controls",
          "model_name": "DescriptionStyleModel",
          "model_module_version": "1.5.0",
          "state": {
            "_model_module": "@jupyter-widgets/controls",
            "_model_module_version": "1.5.0",
            "_model_name": "DescriptionStyleModel",
            "_view_count": null,
            "_view_module": "@jupyter-widgets/base",
            "_view_module_version": "1.2.0",
            "_view_name": "StyleView",
            "description_width": ""
          }
        },
        "fe4d687177154aaea41b911730991f52": {
          "model_module": "@jupyter-widgets/base",
          "model_name": "LayoutModel",
          "model_module_version": "1.2.0",
          "state": {
            "_model_module": "@jupyter-widgets/base",
            "_model_module_version": "1.2.0",
            "_model_name": "LayoutModel",
            "_view_count": null,
            "_view_module": "@jupyter-widgets/base",
            "_view_module_version": "1.2.0",
            "_view_name": "LayoutView",
            "align_content": null,
            "align_items": null,
            "align_self": null,
            "border": null,
            "bottom": null,
            "display": null,
            "flex": null,
            "flex_flow": null,
            "grid_area": null,
            "grid_auto_columns": null,
            "grid_auto_flow": null,
            "grid_auto_rows": null,
            "grid_column": null,
            "grid_gap": null,
            "grid_row": null,
            "grid_template_areas": null,
            "grid_template_columns": null,
            "grid_template_rows": null,
            "height": null,
            "justify_content": null,
            "justify_items": null,
            "left": null,
            "margin": null,
            "max_height": null,
            "max_width": null,
            "min_height": null,
            "min_width": null,
            "object_fit": null,
            "object_position": null,
            "order": null,
            "overflow": null,
            "overflow_x": null,
            "overflow_y": null,
            "padding": null,
            "right": null,
            "top": null,
            "visibility": null,
            "width": null
          }
        },
        "1c966a8648e2453cae5911b78220c206": {
          "model_module": "@jupyter-widgets/controls",
          "model_name": "ProgressStyleModel",
          "model_module_version": "1.5.0",
          "state": {
            "_model_module": "@jupyter-widgets/controls",
            "_model_module_version": "1.5.0",
            "_model_name": "ProgressStyleModel",
            "_view_count": null,
            "_view_module": "@jupyter-widgets/base",
            "_view_module_version": "1.2.0",
            "_view_name": "StyleView",
            "bar_color": null,
            "description_width": ""
          }
        },
        "d3ca9d8e0c2e4988bfa0cda327c1d0dc": {
          "model_module": "@jupyter-widgets/base",
          "model_name": "LayoutModel",
          "model_module_version": "1.2.0",
          "state": {
            "_model_module": "@jupyter-widgets/base",
            "_model_module_version": "1.2.0",
            "_model_name": "LayoutModel",
            "_view_count": null,
            "_view_module": "@jupyter-widgets/base",
            "_view_module_version": "1.2.0",
            "_view_name": "LayoutView",
            "align_content": null,
            "align_items": null,
            "align_self": null,
            "border": null,
            "bottom": null,
            "display": null,
            "flex": null,
            "flex_flow": null,
            "grid_area": null,
            "grid_auto_columns": null,
            "grid_auto_flow": null,
            "grid_auto_rows": null,
            "grid_column": null,
            "grid_gap": null,
            "grid_row": null,
            "grid_template_areas": null,
            "grid_template_columns": null,
            "grid_template_rows": null,
            "height": null,
            "justify_content": null,
            "justify_items": null,
            "left": null,
            "margin": null,
            "max_height": null,
            "max_width": null,
            "min_height": null,
            "min_width": null,
            "object_fit": null,
            "object_position": null,
            "order": null,
            "overflow": null,
            "overflow_x": null,
            "overflow_y": null,
            "padding": null,
            "right": null,
            "top": null,
            "visibility": null,
            "width": null
          }
        },
        "306bca4c15534fdeb8ff709bf6ff3e5b": {
          "model_module": "@jupyter-widgets/controls",
          "model_name": "DescriptionStyleModel",
          "model_module_version": "1.5.0",
          "state": {
            "_model_module": "@jupyter-widgets/controls",
            "_model_module_version": "1.5.0",
            "_model_name": "DescriptionStyleModel",
            "_view_count": null,
            "_view_module": "@jupyter-widgets/base",
            "_view_module_version": "1.2.0",
            "_view_name": "StyleView",
            "description_width": ""
          }
        },
        "6b3a4a30c375422783ad6d37e8388ba9": {
          "model_module": "@jupyter-widgets/controls",
          "model_name": "HBoxModel",
          "model_module_version": "1.5.0",
          "state": {
            "_dom_classes": [],
            "_model_module": "@jupyter-widgets/controls",
            "_model_module_version": "1.5.0",
            "_model_name": "HBoxModel",
            "_view_count": null,
            "_view_module": "@jupyter-widgets/controls",
            "_view_module_version": "1.5.0",
            "_view_name": "HBoxView",
            "box_style": "",
            "children": [
              "IPY_MODEL_3e5eeac345da48ae99f2f62867f001a5",
              "IPY_MODEL_9a3fb7ab43c141f4b13c45ea74317cf3",
              "IPY_MODEL_09864198fc6f40a18e4a063904461c3b"
            ],
            "layout": "IPY_MODEL_1736b3baf6f844d1919cfbaddb580a7e"
          }
        },
        "3e5eeac345da48ae99f2f62867f001a5": {
          "model_module": "@jupyter-widgets/controls",
          "model_name": "HTMLModel",
          "model_module_version": "1.5.0",
          "state": {
            "_dom_classes": [],
            "_model_module": "@jupyter-widgets/controls",
            "_model_module_version": "1.5.0",
            "_model_name": "HTMLModel",
            "_view_count": null,
            "_view_module": "@jupyter-widgets/controls",
            "_view_module_version": "1.5.0",
            "_view_name": "HTMLView",
            "description": "",
            "description_tooltip": null,
            "layout": "IPY_MODEL_123fb9cc0e1543f1924a30896d0527ff",
            "placeholder": "​",
            "style": "IPY_MODEL_bf4e9fcec9f645668e1842c8d47e9b83",
            "value": "100%"
          }
        },
        "9a3fb7ab43c141f4b13c45ea74317cf3": {
          "model_module": "@jupyter-widgets/controls",
          "model_name": "FloatProgressModel",
          "model_module_version": "1.5.0",
          "state": {
            "_dom_classes": [],
            "_model_module": "@jupyter-widgets/controls",
            "_model_module_version": "1.5.0",
            "_model_name": "FloatProgressModel",
            "_view_count": null,
            "_view_module": "@jupyter-widgets/controls",
            "_view_module_version": "1.5.0",
            "_view_name": "ProgressView",
            "bar_style": "success",
            "description": "",
            "description_tooltip": null,
            "layout": "IPY_MODEL_0b7706671f0142d892ead67510e70467",
            "max": 20,
            "min": 0,
            "orientation": "horizontal",
            "style": "IPY_MODEL_d89f31c1a33f4cce86cbbf7abaa9a5d6",
            "value": 20
          }
        },
        "09864198fc6f40a18e4a063904461c3b": {
          "model_module": "@jupyter-widgets/controls",
          "model_name": "HTMLModel",
          "model_module_version": "1.5.0",
          "state": {
            "_dom_classes": [],
            "_model_module": "@jupyter-widgets/controls",
            "_model_module_version": "1.5.0",
            "_model_name": "HTMLModel",
            "_view_count": null,
            "_view_module": "@jupyter-widgets/controls",
            "_view_module_version": "1.5.0",
            "_view_name": "HTMLView",
            "description": "",
            "description_tooltip": null,
            "layout": "IPY_MODEL_c358a9e31a3b43d5a84b5fa169742bc3",
            "placeholder": "​",
            "style": "IPY_MODEL_3b6eb93568d847759498c631a117dab6",
            "value": " 20/20 [00:12&lt;00:00,  1.17it/s]"
          }
        },
        "1736b3baf6f844d1919cfbaddb580a7e": {
          "model_module": "@jupyter-widgets/base",
          "model_name": "LayoutModel",
          "model_module_version": "1.2.0",
          "state": {
            "_model_module": "@jupyter-widgets/base",
            "_model_module_version": "1.2.0",
            "_model_name": "LayoutModel",
            "_view_count": null,
            "_view_module": "@jupyter-widgets/base",
            "_view_module_version": "1.2.0",
            "_view_name": "LayoutView",
            "align_content": null,
            "align_items": null,
            "align_self": null,
            "border": null,
            "bottom": null,
            "display": null,
            "flex": null,
            "flex_flow": null,
            "grid_area": null,
            "grid_auto_columns": null,
            "grid_auto_flow": null,
            "grid_auto_rows": null,
            "grid_column": null,
            "grid_gap": null,
            "grid_row": null,
            "grid_template_areas": null,
            "grid_template_columns": null,
            "grid_template_rows": null,
            "height": null,
            "justify_content": null,
            "justify_items": null,
            "left": null,
            "margin": null,
            "max_height": null,
            "max_width": null,
            "min_height": null,
            "min_width": null,
            "object_fit": null,
            "object_position": null,
            "order": null,
            "overflow": null,
            "overflow_x": null,
            "overflow_y": null,
            "padding": null,
            "right": null,
            "top": null,
            "visibility": null,
            "width": null
          }
        },
        "123fb9cc0e1543f1924a30896d0527ff": {
          "model_module": "@jupyter-widgets/base",
          "model_name": "LayoutModel",
          "model_module_version": "1.2.0",
          "state": {
            "_model_module": "@jupyter-widgets/base",
            "_model_module_version": "1.2.0",
            "_model_name": "LayoutModel",
            "_view_count": null,
            "_view_module": "@jupyter-widgets/base",
            "_view_module_version": "1.2.0",
            "_view_name": "LayoutView",
            "align_content": null,
            "align_items": null,
            "align_self": null,
            "border": null,
            "bottom": null,
            "display": null,
            "flex": null,
            "flex_flow": null,
            "grid_area": null,
            "grid_auto_columns": null,
            "grid_auto_flow": null,
            "grid_auto_rows": null,
            "grid_column": null,
            "grid_gap": null,
            "grid_row": null,
            "grid_template_areas": null,
            "grid_template_columns": null,
            "grid_template_rows": null,
            "height": null,
            "justify_content": null,
            "justify_items": null,
            "left": null,
            "margin": null,
            "max_height": null,
            "max_width": null,
            "min_height": null,
            "min_width": null,
            "object_fit": null,
            "object_position": null,
            "order": null,
            "overflow": null,
            "overflow_x": null,
            "overflow_y": null,
            "padding": null,
            "right": null,
            "top": null,
            "visibility": null,
            "width": null
          }
        },
        "bf4e9fcec9f645668e1842c8d47e9b83": {
          "model_module": "@jupyter-widgets/controls",
          "model_name": "DescriptionStyleModel",
          "model_module_version": "1.5.0",
          "state": {
            "_model_module": "@jupyter-widgets/controls",
            "_model_module_version": "1.5.0",
            "_model_name": "DescriptionStyleModel",
            "_view_count": null,
            "_view_module": "@jupyter-widgets/base",
            "_view_module_version": "1.2.0",
            "_view_name": "StyleView",
            "description_width": ""
          }
        },
        "0b7706671f0142d892ead67510e70467": {
          "model_module": "@jupyter-widgets/base",
          "model_name": "LayoutModel",
          "model_module_version": "1.2.0",
          "state": {
            "_model_module": "@jupyter-widgets/base",
            "_model_module_version": "1.2.0",
            "_model_name": "LayoutModel",
            "_view_count": null,
            "_view_module": "@jupyter-widgets/base",
            "_view_module_version": "1.2.0",
            "_view_name": "LayoutView",
            "align_content": null,
            "align_items": null,
            "align_self": null,
            "border": null,
            "bottom": null,
            "display": null,
            "flex": null,
            "flex_flow": null,
            "grid_area": null,
            "grid_auto_columns": null,
            "grid_auto_flow": null,
            "grid_auto_rows": null,
            "grid_column": null,
            "grid_gap": null,
            "grid_row": null,
            "grid_template_areas": null,
            "grid_template_columns": null,
            "grid_template_rows": null,
            "height": null,
            "justify_content": null,
            "justify_items": null,
            "left": null,
            "margin": null,
            "max_height": null,
            "max_width": null,
            "min_height": null,
            "min_width": null,
            "object_fit": null,
            "object_position": null,
            "order": null,
            "overflow": null,
            "overflow_x": null,
            "overflow_y": null,
            "padding": null,
            "right": null,
            "top": null,
            "visibility": null,
            "width": null
          }
        },
        "d89f31c1a33f4cce86cbbf7abaa9a5d6": {
          "model_module": "@jupyter-widgets/controls",
          "model_name": "ProgressStyleModel",
          "model_module_version": "1.5.0",
          "state": {
            "_model_module": "@jupyter-widgets/controls",
            "_model_module_version": "1.5.0",
            "_model_name": "ProgressStyleModel",
            "_view_count": null,
            "_view_module": "@jupyter-widgets/base",
            "_view_module_version": "1.2.0",
            "_view_name": "StyleView",
            "bar_color": null,
            "description_width": ""
          }
        },
        "c358a9e31a3b43d5a84b5fa169742bc3": {
          "model_module": "@jupyter-widgets/base",
          "model_name": "LayoutModel",
          "model_module_version": "1.2.0",
          "state": {
            "_model_module": "@jupyter-widgets/base",
            "_model_module_version": "1.2.0",
            "_model_name": "LayoutModel",
            "_view_count": null,
            "_view_module": "@jupyter-widgets/base",
            "_view_module_version": "1.2.0",
            "_view_name": "LayoutView",
            "align_content": null,
            "align_items": null,
            "align_self": null,
            "border": null,
            "bottom": null,
            "display": null,
            "flex": null,
            "flex_flow": null,
            "grid_area": null,
            "grid_auto_columns": null,
            "grid_auto_flow": null,
            "grid_auto_rows": null,
            "grid_column": null,
            "grid_gap": null,
            "grid_row": null,
            "grid_template_areas": null,
            "grid_template_columns": null,
            "grid_template_rows": null,
            "height": null,
            "justify_content": null,
            "justify_items": null,
            "left": null,
            "margin": null,
            "max_height": null,
            "max_width": null,
            "min_height": null,
            "min_width": null,
            "object_fit": null,
            "object_position": null,
            "order": null,
            "overflow": null,
            "overflow_x": null,
            "overflow_y": null,
            "padding": null,
            "right": null,
            "top": null,
            "visibility": null,
            "width": null
          }
        },
        "3b6eb93568d847759498c631a117dab6": {
          "model_module": "@jupyter-widgets/controls",
          "model_name": "DescriptionStyleModel",
          "model_module_version": "1.5.0",
          "state": {
            "_model_module": "@jupyter-widgets/controls",
            "_model_module_version": "1.5.0",
            "_model_name": "DescriptionStyleModel",
            "_view_count": null,
            "_view_module": "@jupyter-widgets/base",
            "_view_module_version": "1.2.0",
            "_view_name": "StyleView",
            "description_width": ""
          }
        },
        "f00bb0eeabac410585800ca90496dc9d": {
          "model_module": "@jupyter-widgets/controls",
          "model_name": "HBoxModel",
          "model_module_version": "1.5.0",
          "state": {
            "_dom_classes": [],
            "_model_module": "@jupyter-widgets/controls",
            "_model_module_version": "1.5.0",
            "_model_name": "HBoxModel",
            "_view_count": null,
            "_view_module": "@jupyter-widgets/controls",
            "_view_module_version": "1.5.0",
            "_view_name": "HBoxView",
            "box_style": "",
            "children": [
              "IPY_MODEL_cf5da9d8f82343bd8a652df9576299a3",
              "IPY_MODEL_bf857b364c65408a853dbc3d0d9cd30a",
              "IPY_MODEL_c323498b04e148ba90a6aed9a2d34b92"
            ],
            "layout": "IPY_MODEL_339edcc3596a4f98a839af45d945d3ef"
          }
        },
        "cf5da9d8f82343bd8a652df9576299a3": {
          "model_module": "@jupyter-widgets/controls",
          "model_name": "HTMLModel",
          "model_module_version": "1.5.0",
          "state": {
            "_dom_classes": [],
            "_model_module": "@jupyter-widgets/controls",
            "_model_module_version": "1.5.0",
            "_model_name": "HTMLModel",
            "_view_count": null,
            "_view_module": "@jupyter-widgets/controls",
            "_view_module_version": "1.5.0",
            "_view_name": "HTMLView",
            "description": "",
            "description_tooltip": null,
            "layout": "IPY_MODEL_3cdd7cae3a754a1aa9c86d9a409ac0e6",
            "placeholder": "​",
            "style": "IPY_MODEL_09982578384e4b978525954599b97a3a",
            "value": "100%"
          }
        },
        "bf857b364c65408a853dbc3d0d9cd30a": {
          "model_module": "@jupyter-widgets/controls",
          "model_name": "FloatProgressModel",
          "model_module_version": "1.5.0",
          "state": {
            "_dom_classes": [],
            "_model_module": "@jupyter-widgets/controls",
            "_model_module_version": "1.5.0",
            "_model_name": "FloatProgressModel",
            "_view_count": null,
            "_view_module": "@jupyter-widgets/controls",
            "_view_module_version": "1.5.0",
            "_view_name": "ProgressView",
            "bar_style": "success",
            "description": "",
            "description_tooltip": null,
            "layout": "IPY_MODEL_6320057dccb4461290dd6ce33a0cdd90",
            "max": 100,
            "min": 0,
            "orientation": "horizontal",
            "style": "IPY_MODEL_071a55ce47d945919b41a28abf56fc95",
            "value": 100
          }
        },
        "c323498b04e148ba90a6aed9a2d34b92": {
          "model_module": "@jupyter-widgets/controls",
          "model_name": "HTMLModel",
          "model_module_version": "1.5.0",
          "state": {
            "_dom_classes": [],
            "_model_module": "@jupyter-widgets/controls",
            "_model_module_version": "1.5.0",
            "_model_name": "HTMLModel",
            "_view_count": null,
            "_view_module": "@jupyter-widgets/controls",
            "_view_module_version": "1.5.0",
            "_view_name": "HTMLView",
            "description": "",
            "description_tooltip": null,
            "layout": "IPY_MODEL_7bc701af35784d08a15d1142581de5d1",
            "placeholder": "​",
            "style": "IPY_MODEL_89ba436da93540a3a9855436740176e2",
            "value": " 100/100 [00:27&lt;00:00,  3.78it/s]"
          }
        },
        "339edcc3596a4f98a839af45d945d3ef": {
          "model_module": "@jupyter-widgets/base",
          "model_name": "LayoutModel",
          "model_module_version": "1.2.0",
          "state": {
            "_model_module": "@jupyter-widgets/base",
            "_model_module_version": "1.2.0",
            "_model_name": "LayoutModel",
            "_view_count": null,
            "_view_module": "@jupyter-widgets/base",
            "_view_module_version": "1.2.0",
            "_view_name": "LayoutView",
            "align_content": null,
            "align_items": null,
            "align_self": null,
            "border": null,
            "bottom": null,
            "display": null,
            "flex": null,
            "flex_flow": null,
            "grid_area": null,
            "grid_auto_columns": null,
            "grid_auto_flow": null,
            "grid_auto_rows": null,
            "grid_column": null,
            "grid_gap": null,
            "grid_row": null,
            "grid_template_areas": null,
            "grid_template_columns": null,
            "grid_template_rows": null,
            "height": null,
            "justify_content": null,
            "justify_items": null,
            "left": null,
            "margin": null,
            "max_height": null,
            "max_width": null,
            "min_height": null,
            "min_width": null,
            "object_fit": null,
            "object_position": null,
            "order": null,
            "overflow": null,
            "overflow_x": null,
            "overflow_y": null,
            "padding": null,
            "right": null,
            "top": null,
            "visibility": null,
            "width": null
          }
        },
        "3cdd7cae3a754a1aa9c86d9a409ac0e6": {
          "model_module": "@jupyter-widgets/base",
          "model_name": "LayoutModel",
          "model_module_version": "1.2.0",
          "state": {
            "_model_module": "@jupyter-widgets/base",
            "_model_module_version": "1.2.0",
            "_model_name": "LayoutModel",
            "_view_count": null,
            "_view_module": "@jupyter-widgets/base",
            "_view_module_version": "1.2.0",
            "_view_name": "LayoutView",
            "align_content": null,
            "align_items": null,
            "align_self": null,
            "border": null,
            "bottom": null,
            "display": null,
            "flex": null,
            "flex_flow": null,
            "grid_area": null,
            "grid_auto_columns": null,
            "grid_auto_flow": null,
            "grid_auto_rows": null,
            "grid_column": null,
            "grid_gap": null,
            "grid_row": null,
            "grid_template_areas": null,
            "grid_template_columns": null,
            "grid_template_rows": null,
            "height": null,
            "justify_content": null,
            "justify_items": null,
            "left": null,
            "margin": null,
            "max_height": null,
            "max_width": null,
            "min_height": null,
            "min_width": null,
            "object_fit": null,
            "object_position": null,
            "order": null,
            "overflow": null,
            "overflow_x": null,
            "overflow_y": null,
            "padding": null,
            "right": null,
            "top": null,
            "visibility": null,
            "width": null
          }
        },
        "09982578384e4b978525954599b97a3a": {
          "model_module": "@jupyter-widgets/controls",
          "model_name": "DescriptionStyleModel",
          "model_module_version": "1.5.0",
          "state": {
            "_model_module": "@jupyter-widgets/controls",
            "_model_module_version": "1.5.0",
            "_model_name": "DescriptionStyleModel",
            "_view_count": null,
            "_view_module": "@jupyter-widgets/base",
            "_view_module_version": "1.2.0",
            "_view_name": "StyleView",
            "description_width": ""
          }
        },
        "6320057dccb4461290dd6ce33a0cdd90": {
          "model_module": "@jupyter-widgets/base",
          "model_name": "LayoutModel",
          "model_module_version": "1.2.0",
          "state": {
            "_model_module": "@jupyter-widgets/base",
            "_model_module_version": "1.2.0",
            "_model_name": "LayoutModel",
            "_view_count": null,
            "_view_module": "@jupyter-widgets/base",
            "_view_module_version": "1.2.0",
            "_view_name": "LayoutView",
            "align_content": null,
            "align_items": null,
            "align_self": null,
            "border": null,
            "bottom": null,
            "display": null,
            "flex": null,
            "flex_flow": null,
            "grid_area": null,
            "grid_auto_columns": null,
            "grid_auto_flow": null,
            "grid_auto_rows": null,
            "grid_column": null,
            "grid_gap": null,
            "grid_row": null,
            "grid_template_areas": null,
            "grid_template_columns": null,
            "grid_template_rows": null,
            "height": null,
            "justify_content": null,
            "justify_items": null,
            "left": null,
            "margin": null,
            "max_height": null,
            "max_width": null,
            "min_height": null,
            "min_width": null,
            "object_fit": null,
            "object_position": null,
            "order": null,
            "overflow": null,
            "overflow_x": null,
            "overflow_y": null,
            "padding": null,
            "right": null,
            "top": null,
            "visibility": null,
            "width": null
          }
        },
        "071a55ce47d945919b41a28abf56fc95": {
          "model_module": "@jupyter-widgets/controls",
          "model_name": "ProgressStyleModel",
          "model_module_version": "1.5.0",
          "state": {
            "_model_module": "@jupyter-widgets/controls",
            "_model_module_version": "1.5.0",
            "_model_name": "ProgressStyleModel",
            "_view_count": null,
            "_view_module": "@jupyter-widgets/base",
            "_view_module_version": "1.2.0",
            "_view_name": "StyleView",
            "bar_color": null,
            "description_width": ""
          }
        },
        "7bc701af35784d08a15d1142581de5d1": {
          "model_module": "@jupyter-widgets/base",
          "model_name": "LayoutModel",
          "model_module_version": "1.2.0",
          "state": {
            "_model_module": "@jupyter-widgets/base",
            "_model_module_version": "1.2.0",
            "_model_name": "LayoutModel",
            "_view_count": null,
            "_view_module": "@jupyter-widgets/base",
            "_view_module_version": "1.2.0",
            "_view_name": "LayoutView",
            "align_content": null,
            "align_items": null,
            "align_self": null,
            "border": null,
            "bottom": null,
            "display": null,
            "flex": null,
            "flex_flow": null,
            "grid_area": null,
            "grid_auto_columns": null,
            "grid_auto_flow": null,
            "grid_auto_rows": null,
            "grid_column": null,
            "grid_gap": null,
            "grid_row": null,
            "grid_template_areas": null,
            "grid_template_columns": null,
            "grid_template_rows": null,
            "height": null,
            "justify_content": null,
            "justify_items": null,
            "left": null,
            "margin": null,
            "max_height": null,
            "max_width": null,
            "min_height": null,
            "min_width": null,
            "object_fit": null,
            "object_position": null,
            "order": null,
            "overflow": null,
            "overflow_x": null,
            "overflow_y": null,
            "padding": null,
            "right": null,
            "top": null,
            "visibility": null,
            "width": null
          }
        },
        "89ba436da93540a3a9855436740176e2": {
          "model_module": "@jupyter-widgets/controls",
          "model_name": "DescriptionStyleModel",
          "model_module_version": "1.5.0",
          "state": {
            "_model_module": "@jupyter-widgets/controls",
            "_model_module_version": "1.5.0",
            "_model_name": "DescriptionStyleModel",
            "_view_count": null,
            "_view_module": "@jupyter-widgets/base",
            "_view_module_version": "1.2.0",
            "_view_name": "StyleView",
            "description_width": ""
          }
        },
        "f87cd730439748bf967695435765244c": {
          "model_module": "@jupyter-widgets/controls",
          "model_name": "HBoxModel",
          "model_module_version": "1.5.0",
          "state": {
            "_dom_classes": [],
            "_model_module": "@jupyter-widgets/controls",
            "_model_module_version": "1.5.0",
            "_model_name": "HBoxModel",
            "_view_count": null,
            "_view_module": "@jupyter-widgets/controls",
            "_view_module_version": "1.5.0",
            "_view_name": "HBoxView",
            "box_style": "",
            "children": [
              "IPY_MODEL_31fd816646ee47049374612397a3938a",
              "IPY_MODEL_db2991c25ca14c2dbc1cec86164e1e3c",
              "IPY_MODEL_8f9c47083c954ce5af9026755be4f654"
            ],
            "layout": "IPY_MODEL_0193850de247473e83cc47899d55084a"
          }
        },
        "31fd816646ee47049374612397a3938a": {
          "model_module": "@jupyter-widgets/controls",
          "model_name": "HTMLModel",
          "model_module_version": "1.5.0",
          "state": {
            "_dom_classes": [],
            "_model_module": "@jupyter-widgets/controls",
            "_model_module_version": "1.5.0",
            "_model_name": "HTMLModel",
            "_view_count": null,
            "_view_module": "@jupyter-widgets/controls",
            "_view_module_version": "1.5.0",
            "_view_name": "HTMLView",
            "description": "",
            "description_tooltip": null,
            "layout": "IPY_MODEL_4d272cf4acb441b88162f384a53b0dac",
            "placeholder": "​",
            "style": "IPY_MODEL_6748fbf43c6746f493f854b0b077de06",
            "value": "100%"
          }
        },
        "db2991c25ca14c2dbc1cec86164e1e3c": {
          "model_module": "@jupyter-widgets/controls",
          "model_name": "FloatProgressModel",
          "model_module_version": "1.5.0",
          "state": {
            "_dom_classes": [],
            "_model_module": "@jupyter-widgets/controls",
            "_model_module_version": "1.5.0",
            "_model_name": "FloatProgressModel",
            "_view_count": null,
            "_view_module": "@jupyter-widgets/controls",
            "_view_module_version": "1.5.0",
            "_view_name": "ProgressView",
            "bar_style": "success",
            "description": "",
            "description_tooltip": null,
            "layout": "IPY_MODEL_1c5824a941ea4a89b46dd6b573202993",
            "max": 100,
            "min": 0,
            "orientation": "horizontal",
            "style": "IPY_MODEL_1ae3714b8af446779c14b219fa45a83c",
            "value": 100
          }
        },
        "8f9c47083c954ce5af9026755be4f654": {
          "model_module": "@jupyter-widgets/controls",
          "model_name": "HTMLModel",
          "model_module_version": "1.5.0",
          "state": {
            "_dom_classes": [],
            "_model_module": "@jupyter-widgets/controls",
            "_model_module_version": "1.5.0",
            "_model_name": "HTMLModel",
            "_view_count": null,
            "_view_module": "@jupyter-widgets/controls",
            "_view_module_version": "1.5.0",
            "_view_name": "HTMLView",
            "description": "",
            "description_tooltip": null,
            "layout": "IPY_MODEL_a600fe3b8d124ec98e28aeb500cb5a06",
            "placeholder": "​",
            "style": "IPY_MODEL_06e2cd550aee46868eda9cbebad370c1",
            "value": " 100/100 [00:34&lt;00:00,  2.90it/s]"
          }
        },
        "0193850de247473e83cc47899d55084a": {
          "model_module": "@jupyter-widgets/base",
          "model_name": "LayoutModel",
          "model_module_version": "1.2.0",
          "state": {
            "_model_module": "@jupyter-widgets/base",
            "_model_module_version": "1.2.0",
            "_model_name": "LayoutModel",
            "_view_count": null,
            "_view_module": "@jupyter-widgets/base",
            "_view_module_version": "1.2.0",
            "_view_name": "LayoutView",
            "align_content": null,
            "align_items": null,
            "align_self": null,
            "border": null,
            "bottom": null,
            "display": null,
            "flex": null,
            "flex_flow": null,
            "grid_area": null,
            "grid_auto_columns": null,
            "grid_auto_flow": null,
            "grid_auto_rows": null,
            "grid_column": null,
            "grid_gap": null,
            "grid_row": null,
            "grid_template_areas": null,
            "grid_template_columns": null,
            "grid_template_rows": null,
            "height": null,
            "justify_content": null,
            "justify_items": null,
            "left": null,
            "margin": null,
            "max_height": null,
            "max_width": null,
            "min_height": null,
            "min_width": null,
            "object_fit": null,
            "object_position": null,
            "order": null,
            "overflow": null,
            "overflow_x": null,
            "overflow_y": null,
            "padding": null,
            "right": null,
            "top": null,
            "visibility": null,
            "width": null
          }
        },
        "4d272cf4acb441b88162f384a53b0dac": {
          "model_module": "@jupyter-widgets/base",
          "model_name": "LayoutModel",
          "model_module_version": "1.2.0",
          "state": {
            "_model_module": "@jupyter-widgets/base",
            "_model_module_version": "1.2.0",
            "_model_name": "LayoutModel",
            "_view_count": null,
            "_view_module": "@jupyter-widgets/base",
            "_view_module_version": "1.2.0",
            "_view_name": "LayoutView",
            "align_content": null,
            "align_items": null,
            "align_self": null,
            "border": null,
            "bottom": null,
            "display": null,
            "flex": null,
            "flex_flow": null,
            "grid_area": null,
            "grid_auto_columns": null,
            "grid_auto_flow": null,
            "grid_auto_rows": null,
            "grid_column": null,
            "grid_gap": null,
            "grid_row": null,
            "grid_template_areas": null,
            "grid_template_columns": null,
            "grid_template_rows": null,
            "height": null,
            "justify_content": null,
            "justify_items": null,
            "left": null,
            "margin": null,
            "max_height": null,
            "max_width": null,
            "min_height": null,
            "min_width": null,
            "object_fit": null,
            "object_position": null,
            "order": null,
            "overflow": null,
            "overflow_x": null,
            "overflow_y": null,
            "padding": null,
            "right": null,
            "top": null,
            "visibility": null,
            "width": null
          }
        },
        "6748fbf43c6746f493f854b0b077de06": {
          "model_module": "@jupyter-widgets/controls",
          "model_name": "DescriptionStyleModel",
          "model_module_version": "1.5.0",
          "state": {
            "_model_module": "@jupyter-widgets/controls",
            "_model_module_version": "1.5.0",
            "_model_name": "DescriptionStyleModel",
            "_view_count": null,
            "_view_module": "@jupyter-widgets/base",
            "_view_module_version": "1.2.0",
            "_view_name": "StyleView",
            "description_width": ""
          }
        },
        "1c5824a941ea4a89b46dd6b573202993": {
          "model_module": "@jupyter-widgets/base",
          "model_name": "LayoutModel",
          "model_module_version": "1.2.0",
          "state": {
            "_model_module": "@jupyter-widgets/base",
            "_model_module_version": "1.2.0",
            "_model_name": "LayoutModel",
            "_view_count": null,
            "_view_module": "@jupyter-widgets/base",
            "_view_module_version": "1.2.0",
            "_view_name": "LayoutView",
            "align_content": null,
            "align_items": null,
            "align_self": null,
            "border": null,
            "bottom": null,
            "display": null,
            "flex": null,
            "flex_flow": null,
            "grid_area": null,
            "grid_auto_columns": null,
            "grid_auto_flow": null,
            "grid_auto_rows": null,
            "grid_column": null,
            "grid_gap": null,
            "grid_row": null,
            "grid_template_areas": null,
            "grid_template_columns": null,
            "grid_template_rows": null,
            "height": null,
            "justify_content": null,
            "justify_items": null,
            "left": null,
            "margin": null,
            "max_height": null,
            "max_width": null,
            "min_height": null,
            "min_width": null,
            "object_fit": null,
            "object_position": null,
            "order": null,
            "overflow": null,
            "overflow_x": null,
            "overflow_y": null,
            "padding": null,
            "right": null,
            "top": null,
            "visibility": null,
            "width": null
          }
        },
        "1ae3714b8af446779c14b219fa45a83c": {
          "model_module": "@jupyter-widgets/controls",
          "model_name": "ProgressStyleModel",
          "model_module_version": "1.5.0",
          "state": {
            "_model_module": "@jupyter-widgets/controls",
            "_model_module_version": "1.5.0",
            "_model_name": "ProgressStyleModel",
            "_view_count": null,
            "_view_module": "@jupyter-widgets/base",
            "_view_module_version": "1.2.0",
            "_view_name": "StyleView",
            "bar_color": null,
            "description_width": ""
          }
        },
        "a600fe3b8d124ec98e28aeb500cb5a06": {
          "model_module": "@jupyter-widgets/base",
          "model_name": "LayoutModel",
          "model_module_version": "1.2.0",
          "state": {
            "_model_module": "@jupyter-widgets/base",
            "_model_module_version": "1.2.0",
            "_model_name": "LayoutModel",
            "_view_count": null,
            "_view_module": "@jupyter-widgets/base",
            "_view_module_version": "1.2.0",
            "_view_name": "LayoutView",
            "align_content": null,
            "align_items": null,
            "align_self": null,
            "border": null,
            "bottom": null,
            "display": null,
            "flex": null,
            "flex_flow": null,
            "grid_area": null,
            "grid_auto_columns": null,
            "grid_auto_flow": null,
            "grid_auto_rows": null,
            "grid_column": null,
            "grid_gap": null,
            "grid_row": null,
            "grid_template_areas": null,
            "grid_template_columns": null,
            "grid_template_rows": null,
            "height": null,
            "justify_content": null,
            "justify_items": null,
            "left": null,
            "margin": null,
            "max_height": null,
            "max_width": null,
            "min_height": null,
            "min_width": null,
            "object_fit": null,
            "object_position": null,
            "order": null,
            "overflow": null,
            "overflow_x": null,
            "overflow_y": null,
            "padding": null,
            "right": null,
            "top": null,
            "visibility": null,
            "width": null
          }
        },
        "06e2cd550aee46868eda9cbebad370c1": {
          "model_module": "@jupyter-widgets/controls",
          "model_name": "DescriptionStyleModel",
          "model_module_version": "1.5.0",
          "state": {
            "_model_module": "@jupyter-widgets/controls",
            "_model_module_version": "1.5.0",
            "_model_name": "DescriptionStyleModel",
            "_view_count": null,
            "_view_module": "@jupyter-widgets/base",
            "_view_module_version": "1.2.0",
            "_view_name": "StyleView",
            "description_width": ""
          }
        },
        "2bd911c8aa6a4ed3b83fc3ff4fbdee30": {
          "model_module": "@jupyter-widgets/controls",
          "model_name": "HBoxModel",
          "model_module_version": "1.5.0",
          "state": {
            "_dom_classes": [],
            "_model_module": "@jupyter-widgets/controls",
            "_model_module_version": "1.5.0",
            "_model_name": "HBoxModel",
            "_view_count": null,
            "_view_module": "@jupyter-widgets/controls",
            "_view_module_version": "1.5.0",
            "_view_name": "HBoxView",
            "box_style": "",
            "children": [
              "IPY_MODEL_6fd399f269284564b9d8bb5658326241",
              "IPY_MODEL_77d8f360e3804970b2b3173897ee1a59",
              "IPY_MODEL_a6732f929570400f82e9fb8ee4ee3bb6"
            ],
            "layout": "IPY_MODEL_1e52d959c399433fa5c0ce0a6c2c4d85"
          }
        },
        "6fd399f269284564b9d8bb5658326241": {
          "model_module": "@jupyter-widgets/controls",
          "model_name": "HTMLModel",
          "model_module_version": "1.5.0",
          "state": {
            "_dom_classes": [],
            "_model_module": "@jupyter-widgets/controls",
            "_model_module_version": "1.5.0",
            "_model_name": "HTMLModel",
            "_view_count": null,
            "_view_module": "@jupyter-widgets/controls",
            "_view_module_version": "1.5.0",
            "_view_name": "HTMLView",
            "description": "",
            "description_tooltip": null,
            "layout": "IPY_MODEL_e8b8c85ff860473f8d2ff57cd0f94c7f",
            "placeholder": "​",
            "style": "IPY_MODEL_26466843f03f47a68bc41da8e3963ff7",
            "value": "100%"
          }
        },
        "77d8f360e3804970b2b3173897ee1a59": {
          "model_module": "@jupyter-widgets/controls",
          "model_name": "FloatProgressModel",
          "model_module_version": "1.5.0",
          "state": {
            "_dom_classes": [],
            "_model_module": "@jupyter-widgets/controls",
            "_model_module_version": "1.5.0",
            "_model_name": "FloatProgressModel",
            "_view_count": null,
            "_view_module": "@jupyter-widgets/controls",
            "_view_module_version": "1.5.0",
            "_view_name": "ProgressView",
            "bar_style": "success",
            "description": "",
            "description_tooltip": null,
            "layout": "IPY_MODEL_ef5b8d5854d048c49bfc85d526360345",
            "max": 100,
            "min": 0,
            "orientation": "horizontal",
            "style": "IPY_MODEL_c833438d6f024f7d97c51f16a74a7db3",
            "value": 100
          }
        },
        "a6732f929570400f82e9fb8ee4ee3bb6": {
          "model_module": "@jupyter-widgets/controls",
          "model_name": "HTMLModel",
          "model_module_version": "1.5.0",
          "state": {
            "_dom_classes": [],
            "_model_module": "@jupyter-widgets/controls",
            "_model_module_version": "1.5.0",
            "_model_name": "HTMLModel",
            "_view_count": null,
            "_view_module": "@jupyter-widgets/controls",
            "_view_module_version": "1.5.0",
            "_view_name": "HTMLView",
            "description": "",
            "description_tooltip": null,
            "layout": "IPY_MODEL_23821c0bc41043b0a69c407ecae16f59",
            "placeholder": "​",
            "style": "IPY_MODEL_dd43ae5f47914897ab9e193516d0d64b",
            "value": " 100/100 [00:45&lt;00:00,  2.25it/s]"
          }
        },
        "1e52d959c399433fa5c0ce0a6c2c4d85": {
          "model_module": "@jupyter-widgets/base",
          "model_name": "LayoutModel",
          "model_module_version": "1.2.0",
          "state": {
            "_model_module": "@jupyter-widgets/base",
            "_model_module_version": "1.2.0",
            "_model_name": "LayoutModel",
            "_view_count": null,
            "_view_module": "@jupyter-widgets/base",
            "_view_module_version": "1.2.0",
            "_view_name": "LayoutView",
            "align_content": null,
            "align_items": null,
            "align_self": null,
            "border": null,
            "bottom": null,
            "display": null,
            "flex": null,
            "flex_flow": null,
            "grid_area": null,
            "grid_auto_columns": null,
            "grid_auto_flow": null,
            "grid_auto_rows": null,
            "grid_column": null,
            "grid_gap": null,
            "grid_row": null,
            "grid_template_areas": null,
            "grid_template_columns": null,
            "grid_template_rows": null,
            "height": null,
            "justify_content": null,
            "justify_items": null,
            "left": null,
            "margin": null,
            "max_height": null,
            "max_width": null,
            "min_height": null,
            "min_width": null,
            "object_fit": null,
            "object_position": null,
            "order": null,
            "overflow": null,
            "overflow_x": null,
            "overflow_y": null,
            "padding": null,
            "right": null,
            "top": null,
            "visibility": null,
            "width": null
          }
        },
        "e8b8c85ff860473f8d2ff57cd0f94c7f": {
          "model_module": "@jupyter-widgets/base",
          "model_name": "LayoutModel",
          "model_module_version": "1.2.0",
          "state": {
            "_model_module": "@jupyter-widgets/base",
            "_model_module_version": "1.2.0",
            "_model_name": "LayoutModel",
            "_view_count": null,
            "_view_module": "@jupyter-widgets/base",
            "_view_module_version": "1.2.0",
            "_view_name": "LayoutView",
            "align_content": null,
            "align_items": null,
            "align_self": null,
            "border": null,
            "bottom": null,
            "display": null,
            "flex": null,
            "flex_flow": null,
            "grid_area": null,
            "grid_auto_columns": null,
            "grid_auto_flow": null,
            "grid_auto_rows": null,
            "grid_column": null,
            "grid_gap": null,
            "grid_row": null,
            "grid_template_areas": null,
            "grid_template_columns": null,
            "grid_template_rows": null,
            "height": null,
            "justify_content": null,
            "justify_items": null,
            "left": null,
            "margin": null,
            "max_height": null,
            "max_width": null,
            "min_height": null,
            "min_width": null,
            "object_fit": null,
            "object_position": null,
            "order": null,
            "overflow": null,
            "overflow_x": null,
            "overflow_y": null,
            "padding": null,
            "right": null,
            "top": null,
            "visibility": null,
            "width": null
          }
        },
        "26466843f03f47a68bc41da8e3963ff7": {
          "model_module": "@jupyter-widgets/controls",
          "model_name": "DescriptionStyleModel",
          "model_module_version": "1.5.0",
          "state": {
            "_model_module": "@jupyter-widgets/controls",
            "_model_module_version": "1.5.0",
            "_model_name": "DescriptionStyleModel",
            "_view_count": null,
            "_view_module": "@jupyter-widgets/base",
            "_view_module_version": "1.2.0",
            "_view_name": "StyleView",
            "description_width": ""
          }
        },
        "ef5b8d5854d048c49bfc85d526360345": {
          "model_module": "@jupyter-widgets/base",
          "model_name": "LayoutModel",
          "model_module_version": "1.2.0",
          "state": {
            "_model_module": "@jupyter-widgets/base",
            "_model_module_version": "1.2.0",
            "_model_name": "LayoutModel",
            "_view_count": null,
            "_view_module": "@jupyter-widgets/base",
            "_view_module_version": "1.2.0",
            "_view_name": "LayoutView",
            "align_content": null,
            "align_items": null,
            "align_self": null,
            "border": null,
            "bottom": null,
            "display": null,
            "flex": null,
            "flex_flow": null,
            "grid_area": null,
            "grid_auto_columns": null,
            "grid_auto_flow": null,
            "grid_auto_rows": null,
            "grid_column": null,
            "grid_gap": null,
            "grid_row": null,
            "grid_template_areas": null,
            "grid_template_columns": null,
            "grid_template_rows": null,
            "height": null,
            "justify_content": null,
            "justify_items": null,
            "left": null,
            "margin": null,
            "max_height": null,
            "max_width": null,
            "min_height": null,
            "min_width": null,
            "object_fit": null,
            "object_position": null,
            "order": null,
            "overflow": null,
            "overflow_x": null,
            "overflow_y": null,
            "padding": null,
            "right": null,
            "top": null,
            "visibility": null,
            "width": null
          }
        },
        "c833438d6f024f7d97c51f16a74a7db3": {
          "model_module": "@jupyter-widgets/controls",
          "model_name": "ProgressStyleModel",
          "model_module_version": "1.5.0",
          "state": {
            "_model_module": "@jupyter-widgets/controls",
            "_model_module_version": "1.5.0",
            "_model_name": "ProgressStyleModel",
            "_view_count": null,
            "_view_module": "@jupyter-widgets/base",
            "_view_module_version": "1.2.0",
            "_view_name": "StyleView",
            "bar_color": null,
            "description_width": ""
          }
        },
        "23821c0bc41043b0a69c407ecae16f59": {
          "model_module": "@jupyter-widgets/base",
          "model_name": "LayoutModel",
          "model_module_version": "1.2.0",
          "state": {
            "_model_module": "@jupyter-widgets/base",
            "_model_module_version": "1.2.0",
            "_model_name": "LayoutModel",
            "_view_count": null,
            "_view_module": "@jupyter-widgets/base",
            "_view_module_version": "1.2.0",
            "_view_name": "LayoutView",
            "align_content": null,
            "align_items": null,
            "align_self": null,
            "border": null,
            "bottom": null,
            "display": null,
            "flex": null,
            "flex_flow": null,
            "grid_area": null,
            "grid_auto_columns": null,
            "grid_auto_flow": null,
            "grid_auto_rows": null,
            "grid_column": null,
            "grid_gap": null,
            "grid_row": null,
            "grid_template_areas": null,
            "grid_template_columns": null,
            "grid_template_rows": null,
            "height": null,
            "justify_content": null,
            "justify_items": null,
            "left": null,
            "margin": null,
            "max_height": null,
            "max_width": null,
            "min_height": null,
            "min_width": null,
            "object_fit": null,
            "object_position": null,
            "order": null,
            "overflow": null,
            "overflow_x": null,
            "overflow_y": null,
            "padding": null,
            "right": null,
            "top": null,
            "visibility": null,
            "width": null
          }
        },
        "dd43ae5f47914897ab9e193516d0d64b": {
          "model_module": "@jupyter-widgets/controls",
          "model_name": "DescriptionStyleModel",
          "model_module_version": "1.5.0",
          "state": {
            "_model_module": "@jupyter-widgets/controls",
            "_model_module_version": "1.5.0",
            "_model_name": "DescriptionStyleModel",
            "_view_count": null,
            "_view_module": "@jupyter-widgets/base",
            "_view_module_version": "1.2.0",
            "_view_name": "StyleView",
            "description_width": ""
          }
        },
        "e7b6162e44fa411ba051aff4539f2f4a": {
          "model_module": "@jupyter-widgets/controls",
          "model_name": "HBoxModel",
          "model_module_version": "1.5.0",
          "state": {
            "_dom_classes": [],
            "_model_module": "@jupyter-widgets/controls",
            "_model_module_version": "1.5.0",
            "_model_name": "HBoxModel",
            "_view_count": null,
            "_view_module": "@jupyter-widgets/controls",
            "_view_module_version": "1.5.0",
            "_view_name": "HBoxView",
            "box_style": "",
            "children": [
              "IPY_MODEL_a24969db52494f339f1408577a9559b5",
              "IPY_MODEL_b2b30511df8a4abea1041a0c157b2406",
              "IPY_MODEL_3ac49194aaed4a459c7ee594e75d61a6"
            ],
            "layout": "IPY_MODEL_3d340d0d34904628920c34b7795accee"
          }
        },
        "a24969db52494f339f1408577a9559b5": {
          "model_module": "@jupyter-widgets/controls",
          "model_name": "HTMLModel",
          "model_module_version": "1.5.0",
          "state": {
            "_dom_classes": [],
            "_model_module": "@jupyter-widgets/controls",
            "_model_module_version": "1.5.0",
            "_model_name": "HTMLModel",
            "_view_count": null,
            "_view_module": "@jupyter-widgets/controls",
            "_view_module_version": "1.5.0",
            "_view_name": "HTMLView",
            "description": "",
            "description_tooltip": null,
            "layout": "IPY_MODEL_2e724e7b287c43788d308c822cd38ef8",
            "placeholder": "​",
            "style": "IPY_MODEL_565befc3db8445b58233050e6deec918",
            "value": "100%"
          }
        },
        "b2b30511df8a4abea1041a0c157b2406": {
          "model_module": "@jupyter-widgets/controls",
          "model_name": "FloatProgressModel",
          "model_module_version": "1.5.0",
          "state": {
            "_dom_classes": [],
            "_model_module": "@jupyter-widgets/controls",
            "_model_module_version": "1.5.0",
            "_model_name": "FloatProgressModel",
            "_view_count": null,
            "_view_module": "@jupyter-widgets/controls",
            "_view_module_version": "1.5.0",
            "_view_name": "ProgressView",
            "bar_style": "success",
            "description": "",
            "description_tooltip": null,
            "layout": "IPY_MODEL_3fd9ad51ca054e0ebf48f1c1052d17f6",
            "max": 100,
            "min": 0,
            "orientation": "horizontal",
            "style": "IPY_MODEL_2ecaa7b449a741a28632d9b28352c567",
            "value": 100
          }
        },
        "3ac49194aaed4a459c7ee594e75d61a6": {
          "model_module": "@jupyter-widgets/controls",
          "model_name": "HTMLModel",
          "model_module_version": "1.5.0",
          "state": {
            "_dom_classes": [],
            "_model_module": "@jupyter-widgets/controls",
            "_model_module_version": "1.5.0",
            "_model_name": "HTMLModel",
            "_view_count": null,
            "_view_module": "@jupyter-widgets/controls",
            "_view_module_version": "1.5.0",
            "_view_name": "HTMLView",
            "description": "",
            "description_tooltip": null,
            "layout": "IPY_MODEL_c23ab5d6624e41aa922ad70afa39481f",
            "placeholder": "​",
            "style": "IPY_MODEL_9e9b41051a494e92bfaae4006b7ceb6e",
            "value": " 100/100 [00:55&lt;00:00,  1.84it/s]"
          }
        },
        "3d340d0d34904628920c34b7795accee": {
          "model_module": "@jupyter-widgets/base",
          "model_name": "LayoutModel",
          "model_module_version": "1.2.0",
          "state": {
            "_model_module": "@jupyter-widgets/base",
            "_model_module_version": "1.2.0",
            "_model_name": "LayoutModel",
            "_view_count": null,
            "_view_module": "@jupyter-widgets/base",
            "_view_module_version": "1.2.0",
            "_view_name": "LayoutView",
            "align_content": null,
            "align_items": null,
            "align_self": null,
            "border": null,
            "bottom": null,
            "display": null,
            "flex": null,
            "flex_flow": null,
            "grid_area": null,
            "grid_auto_columns": null,
            "grid_auto_flow": null,
            "grid_auto_rows": null,
            "grid_column": null,
            "grid_gap": null,
            "grid_row": null,
            "grid_template_areas": null,
            "grid_template_columns": null,
            "grid_template_rows": null,
            "height": null,
            "justify_content": null,
            "justify_items": null,
            "left": null,
            "margin": null,
            "max_height": null,
            "max_width": null,
            "min_height": null,
            "min_width": null,
            "object_fit": null,
            "object_position": null,
            "order": null,
            "overflow": null,
            "overflow_x": null,
            "overflow_y": null,
            "padding": null,
            "right": null,
            "top": null,
            "visibility": null,
            "width": null
          }
        },
        "2e724e7b287c43788d308c822cd38ef8": {
          "model_module": "@jupyter-widgets/base",
          "model_name": "LayoutModel",
          "model_module_version": "1.2.0",
          "state": {
            "_model_module": "@jupyter-widgets/base",
            "_model_module_version": "1.2.0",
            "_model_name": "LayoutModel",
            "_view_count": null,
            "_view_module": "@jupyter-widgets/base",
            "_view_module_version": "1.2.0",
            "_view_name": "LayoutView",
            "align_content": null,
            "align_items": null,
            "align_self": null,
            "border": null,
            "bottom": null,
            "display": null,
            "flex": null,
            "flex_flow": null,
            "grid_area": null,
            "grid_auto_columns": null,
            "grid_auto_flow": null,
            "grid_auto_rows": null,
            "grid_column": null,
            "grid_gap": null,
            "grid_row": null,
            "grid_template_areas": null,
            "grid_template_columns": null,
            "grid_template_rows": null,
            "height": null,
            "justify_content": null,
            "justify_items": null,
            "left": null,
            "margin": null,
            "max_height": null,
            "max_width": null,
            "min_height": null,
            "min_width": null,
            "object_fit": null,
            "object_position": null,
            "order": null,
            "overflow": null,
            "overflow_x": null,
            "overflow_y": null,
            "padding": null,
            "right": null,
            "top": null,
            "visibility": null,
            "width": null
          }
        },
        "565befc3db8445b58233050e6deec918": {
          "model_module": "@jupyter-widgets/controls",
          "model_name": "DescriptionStyleModel",
          "model_module_version": "1.5.0",
          "state": {
            "_model_module": "@jupyter-widgets/controls",
            "_model_module_version": "1.5.0",
            "_model_name": "DescriptionStyleModel",
            "_view_count": null,
            "_view_module": "@jupyter-widgets/base",
            "_view_module_version": "1.2.0",
            "_view_name": "StyleView",
            "description_width": ""
          }
        },
        "3fd9ad51ca054e0ebf48f1c1052d17f6": {
          "model_module": "@jupyter-widgets/base",
          "model_name": "LayoutModel",
          "model_module_version": "1.2.0",
          "state": {
            "_model_module": "@jupyter-widgets/base",
            "_model_module_version": "1.2.0",
            "_model_name": "LayoutModel",
            "_view_count": null,
            "_view_module": "@jupyter-widgets/base",
            "_view_module_version": "1.2.0",
            "_view_name": "LayoutView",
            "align_content": null,
            "align_items": null,
            "align_self": null,
            "border": null,
            "bottom": null,
            "display": null,
            "flex": null,
            "flex_flow": null,
            "grid_area": null,
            "grid_auto_columns": null,
            "grid_auto_flow": null,
            "grid_auto_rows": null,
            "grid_column": null,
            "grid_gap": null,
            "grid_row": null,
            "grid_template_areas": null,
            "grid_template_columns": null,
            "grid_template_rows": null,
            "height": null,
            "justify_content": null,
            "justify_items": null,
            "left": null,
            "margin": null,
            "max_height": null,
            "max_width": null,
            "min_height": null,
            "min_width": null,
            "object_fit": null,
            "object_position": null,
            "order": null,
            "overflow": null,
            "overflow_x": null,
            "overflow_y": null,
            "padding": null,
            "right": null,
            "top": null,
            "visibility": null,
            "width": null
          }
        },
        "2ecaa7b449a741a28632d9b28352c567": {
          "model_module": "@jupyter-widgets/controls",
          "model_name": "ProgressStyleModel",
          "model_module_version": "1.5.0",
          "state": {
            "_model_module": "@jupyter-widgets/controls",
            "_model_module_version": "1.5.0",
            "_model_name": "ProgressStyleModel",
            "_view_count": null,
            "_view_module": "@jupyter-widgets/base",
            "_view_module_version": "1.2.0",
            "_view_name": "StyleView",
            "bar_color": null,
            "description_width": ""
          }
        },
        "c23ab5d6624e41aa922ad70afa39481f": {
          "model_module": "@jupyter-widgets/base",
          "model_name": "LayoutModel",
          "model_module_version": "1.2.0",
          "state": {
            "_model_module": "@jupyter-widgets/base",
            "_model_module_version": "1.2.0",
            "_model_name": "LayoutModel",
            "_view_count": null,
            "_view_module": "@jupyter-widgets/base",
            "_view_module_version": "1.2.0",
            "_view_name": "LayoutView",
            "align_content": null,
            "align_items": null,
            "align_self": null,
            "border": null,
            "bottom": null,
            "display": null,
            "flex": null,
            "flex_flow": null,
            "grid_area": null,
            "grid_auto_columns": null,
            "grid_auto_flow": null,
            "grid_auto_rows": null,
            "grid_column": null,
            "grid_gap": null,
            "grid_row": null,
            "grid_template_areas": null,
            "grid_template_columns": null,
            "grid_template_rows": null,
            "height": null,
            "justify_content": null,
            "justify_items": null,
            "left": null,
            "margin": null,
            "max_height": null,
            "max_width": null,
            "min_height": null,
            "min_width": null,
            "object_fit": null,
            "object_position": null,
            "order": null,
            "overflow": null,
            "overflow_x": null,
            "overflow_y": null,
            "padding": null,
            "right": null,
            "top": null,
            "visibility": null,
            "width": null
          }
        },
        "9e9b41051a494e92bfaae4006b7ceb6e": {
          "model_module": "@jupyter-widgets/controls",
          "model_name": "DescriptionStyleModel",
          "model_module_version": "1.5.0",
          "state": {
            "_model_module": "@jupyter-widgets/controls",
            "_model_module_version": "1.5.0",
            "_model_name": "DescriptionStyleModel",
            "_view_count": null,
            "_view_module": "@jupyter-widgets/base",
            "_view_module_version": "1.2.0",
            "_view_name": "StyleView",
            "description_width": ""
          }
        },
        "b9fda346c34c47f5bd0e805e89573ed7": {
          "model_module": "@jupyter-widgets/controls",
          "model_name": "HBoxModel",
          "model_module_version": "1.5.0",
          "state": {
            "_dom_classes": [],
            "_model_module": "@jupyter-widgets/controls",
            "_model_module_version": "1.5.0",
            "_model_name": "HBoxModel",
            "_view_count": null,
            "_view_module": "@jupyter-widgets/controls",
            "_view_module_version": "1.5.0",
            "_view_name": "HBoxView",
            "box_style": "",
            "children": [
              "IPY_MODEL_9372fb0835ec43a8a50c9ef5d0f0e1e3",
              "IPY_MODEL_4b39f3c2e1314054a78d93b4a9b31c15",
              "IPY_MODEL_37ae2623d4724a37b939eb20e02fcf4c"
            ],
            "layout": "IPY_MODEL_8f21aecf87c8488495c17b62ea87485d"
          }
        },
        "9372fb0835ec43a8a50c9ef5d0f0e1e3": {
          "model_module": "@jupyter-widgets/controls",
          "model_name": "HTMLModel",
          "model_module_version": "1.5.0",
          "state": {
            "_dom_classes": [],
            "_model_module": "@jupyter-widgets/controls",
            "_model_module_version": "1.5.0",
            "_model_name": "HTMLModel",
            "_view_count": null,
            "_view_module": "@jupyter-widgets/controls",
            "_view_module_version": "1.5.0",
            "_view_name": "HTMLView",
            "description": "",
            "description_tooltip": null,
            "layout": "IPY_MODEL_62ea6277ca214c7fa95c3ea38a690f80",
            "placeholder": "​",
            "style": "IPY_MODEL_35b06e37733f4964bcacbf1f9b5041d1",
            "value": "100%"
          }
        },
        "4b39f3c2e1314054a78d93b4a9b31c15": {
          "model_module": "@jupyter-widgets/controls",
          "model_name": "FloatProgressModel",
          "model_module_version": "1.5.0",
          "state": {
            "_dom_classes": [],
            "_model_module": "@jupyter-widgets/controls",
            "_model_module_version": "1.5.0",
            "_model_name": "FloatProgressModel",
            "_view_count": null,
            "_view_module": "@jupyter-widgets/controls",
            "_view_module_version": "1.5.0",
            "_view_name": "ProgressView",
            "bar_style": "success",
            "description": "",
            "description_tooltip": null,
            "layout": "IPY_MODEL_affa57082ccc408fbc49fb5a5111f537",
            "max": 100,
            "min": 0,
            "orientation": "horizontal",
            "style": "IPY_MODEL_3b2461499665464a8892cb9a8e4b90e4",
            "value": 100
          }
        },
        "37ae2623d4724a37b939eb20e02fcf4c": {
          "model_module": "@jupyter-widgets/controls",
          "model_name": "HTMLModel",
          "model_module_version": "1.5.0",
          "state": {
            "_dom_classes": [],
            "_model_module": "@jupyter-widgets/controls",
            "_model_module_version": "1.5.0",
            "_model_name": "HTMLModel",
            "_view_count": null,
            "_view_module": "@jupyter-widgets/controls",
            "_view_module_version": "1.5.0",
            "_view_name": "HTMLView",
            "description": "",
            "description_tooltip": null,
            "layout": "IPY_MODEL_eef4ce5bb8844d008334e6ed6289005f",
            "placeholder": "​",
            "style": "IPY_MODEL_c8d27849f5dc47fdb5428aad5168f3d9",
            "value": " 100/100 [01:05&lt;00:00,  1.46it/s]"
          }
        },
        "8f21aecf87c8488495c17b62ea87485d": {
          "model_module": "@jupyter-widgets/base",
          "model_name": "LayoutModel",
          "model_module_version": "1.2.0",
          "state": {
            "_model_module": "@jupyter-widgets/base",
            "_model_module_version": "1.2.0",
            "_model_name": "LayoutModel",
            "_view_count": null,
            "_view_module": "@jupyter-widgets/base",
            "_view_module_version": "1.2.0",
            "_view_name": "LayoutView",
            "align_content": null,
            "align_items": null,
            "align_self": null,
            "border": null,
            "bottom": null,
            "display": null,
            "flex": null,
            "flex_flow": null,
            "grid_area": null,
            "grid_auto_columns": null,
            "grid_auto_flow": null,
            "grid_auto_rows": null,
            "grid_column": null,
            "grid_gap": null,
            "grid_row": null,
            "grid_template_areas": null,
            "grid_template_columns": null,
            "grid_template_rows": null,
            "height": null,
            "justify_content": null,
            "justify_items": null,
            "left": null,
            "margin": null,
            "max_height": null,
            "max_width": null,
            "min_height": null,
            "min_width": null,
            "object_fit": null,
            "object_position": null,
            "order": null,
            "overflow": null,
            "overflow_x": null,
            "overflow_y": null,
            "padding": null,
            "right": null,
            "top": null,
            "visibility": null,
            "width": null
          }
        },
        "62ea6277ca214c7fa95c3ea38a690f80": {
          "model_module": "@jupyter-widgets/base",
          "model_name": "LayoutModel",
          "model_module_version": "1.2.0",
          "state": {
            "_model_module": "@jupyter-widgets/base",
            "_model_module_version": "1.2.0",
            "_model_name": "LayoutModel",
            "_view_count": null,
            "_view_module": "@jupyter-widgets/base",
            "_view_module_version": "1.2.0",
            "_view_name": "LayoutView",
            "align_content": null,
            "align_items": null,
            "align_self": null,
            "border": null,
            "bottom": null,
            "display": null,
            "flex": null,
            "flex_flow": null,
            "grid_area": null,
            "grid_auto_columns": null,
            "grid_auto_flow": null,
            "grid_auto_rows": null,
            "grid_column": null,
            "grid_gap": null,
            "grid_row": null,
            "grid_template_areas": null,
            "grid_template_columns": null,
            "grid_template_rows": null,
            "height": null,
            "justify_content": null,
            "justify_items": null,
            "left": null,
            "margin": null,
            "max_height": null,
            "max_width": null,
            "min_height": null,
            "min_width": null,
            "object_fit": null,
            "object_position": null,
            "order": null,
            "overflow": null,
            "overflow_x": null,
            "overflow_y": null,
            "padding": null,
            "right": null,
            "top": null,
            "visibility": null,
            "width": null
          }
        },
        "35b06e37733f4964bcacbf1f9b5041d1": {
          "model_module": "@jupyter-widgets/controls",
          "model_name": "DescriptionStyleModel",
          "model_module_version": "1.5.0",
          "state": {
            "_model_module": "@jupyter-widgets/controls",
            "_model_module_version": "1.5.0",
            "_model_name": "DescriptionStyleModel",
            "_view_count": null,
            "_view_module": "@jupyter-widgets/base",
            "_view_module_version": "1.2.0",
            "_view_name": "StyleView",
            "description_width": ""
          }
        },
        "affa57082ccc408fbc49fb5a5111f537": {
          "model_module": "@jupyter-widgets/base",
          "model_name": "LayoutModel",
          "model_module_version": "1.2.0",
          "state": {
            "_model_module": "@jupyter-widgets/base",
            "_model_module_version": "1.2.0",
            "_model_name": "LayoutModel",
            "_view_count": null,
            "_view_module": "@jupyter-widgets/base",
            "_view_module_version": "1.2.0",
            "_view_name": "LayoutView",
            "align_content": null,
            "align_items": null,
            "align_self": null,
            "border": null,
            "bottom": null,
            "display": null,
            "flex": null,
            "flex_flow": null,
            "grid_area": null,
            "grid_auto_columns": null,
            "grid_auto_flow": null,
            "grid_auto_rows": null,
            "grid_column": null,
            "grid_gap": null,
            "grid_row": null,
            "grid_template_areas": null,
            "grid_template_columns": null,
            "grid_template_rows": null,
            "height": null,
            "justify_content": null,
            "justify_items": null,
            "left": null,
            "margin": null,
            "max_height": null,
            "max_width": null,
            "min_height": null,
            "min_width": null,
            "object_fit": null,
            "object_position": null,
            "order": null,
            "overflow": null,
            "overflow_x": null,
            "overflow_y": null,
            "padding": null,
            "right": null,
            "top": null,
            "visibility": null,
            "width": null
          }
        },
        "3b2461499665464a8892cb9a8e4b90e4": {
          "model_module": "@jupyter-widgets/controls",
          "model_name": "ProgressStyleModel",
          "model_module_version": "1.5.0",
          "state": {
            "_model_module": "@jupyter-widgets/controls",
            "_model_module_version": "1.5.0",
            "_model_name": "ProgressStyleModel",
            "_view_count": null,
            "_view_module": "@jupyter-widgets/base",
            "_view_module_version": "1.2.0",
            "_view_name": "StyleView",
            "bar_color": null,
            "description_width": ""
          }
        },
        "eef4ce5bb8844d008334e6ed6289005f": {
          "model_module": "@jupyter-widgets/base",
          "model_name": "LayoutModel",
          "model_module_version": "1.2.0",
          "state": {
            "_model_module": "@jupyter-widgets/base",
            "_model_module_version": "1.2.0",
            "_model_name": "LayoutModel",
            "_view_count": null,
            "_view_module": "@jupyter-widgets/base",
            "_view_module_version": "1.2.0",
            "_view_name": "LayoutView",
            "align_content": null,
            "align_items": null,
            "align_self": null,
            "border": null,
            "bottom": null,
            "display": null,
            "flex": null,
            "flex_flow": null,
            "grid_area": null,
            "grid_auto_columns": null,
            "grid_auto_flow": null,
            "grid_auto_rows": null,
            "grid_column": null,
            "grid_gap": null,
            "grid_row": null,
            "grid_template_areas": null,
            "grid_template_columns": null,
            "grid_template_rows": null,
            "height": null,
            "justify_content": null,
            "justify_items": null,
            "left": null,
            "margin": null,
            "max_height": null,
            "max_width": null,
            "min_height": null,
            "min_width": null,
            "object_fit": null,
            "object_position": null,
            "order": null,
            "overflow": null,
            "overflow_x": null,
            "overflow_y": null,
            "padding": null,
            "right": null,
            "top": null,
            "visibility": null,
            "width": null
          }
        },
        "c8d27849f5dc47fdb5428aad5168f3d9": {
          "model_module": "@jupyter-widgets/controls",
          "model_name": "DescriptionStyleModel",
          "model_module_version": "1.5.0",
          "state": {
            "_model_module": "@jupyter-widgets/controls",
            "_model_module_version": "1.5.0",
            "_model_name": "DescriptionStyleModel",
            "_view_count": null,
            "_view_module": "@jupyter-widgets/base",
            "_view_module_version": "1.2.0",
            "_view_name": "StyleView",
            "description_width": ""
          }
        },
        "dbefb643cf7a48fcb507c72e394bc013": {
          "model_module": "@jupyter-widgets/controls",
          "model_name": "HBoxModel",
          "model_module_version": "1.5.0",
          "state": {
            "_dom_classes": [],
            "_model_module": "@jupyter-widgets/controls",
            "_model_module_version": "1.5.0",
            "_model_name": "HBoxModel",
            "_view_count": null,
            "_view_module": "@jupyter-widgets/controls",
            "_view_module_version": "1.5.0",
            "_view_name": "HBoxView",
            "box_style": "",
            "children": [
              "IPY_MODEL_9f9a27e984444c5da0ebabf000579de1",
              "IPY_MODEL_179763c6ae454363adf8104238388964",
              "IPY_MODEL_3ecd0e72bf1f4991894daca4dc13538b"
            ],
            "layout": "IPY_MODEL_dd1d171aaa2e46f4ab7ba5cda2bc1ed1"
          }
        },
        "9f9a27e984444c5da0ebabf000579de1": {
          "model_module": "@jupyter-widgets/controls",
          "model_name": "HTMLModel",
          "model_module_version": "1.5.0",
          "state": {
            "_dom_classes": [],
            "_model_module": "@jupyter-widgets/controls",
            "_model_module_version": "1.5.0",
            "_model_name": "HTMLModel",
            "_view_count": null,
            "_view_module": "@jupyter-widgets/controls",
            "_view_module_version": "1.5.0",
            "_view_name": "HTMLView",
            "description": "",
            "description_tooltip": null,
            "layout": "IPY_MODEL_c5b029aa93d0487e994658d72dd68261",
            "placeholder": "​",
            "style": "IPY_MODEL_9b9ba09454c243c282dce1094da4ecfd",
            "value": "100%"
          }
        },
        "179763c6ae454363adf8104238388964": {
          "model_module": "@jupyter-widgets/controls",
          "model_name": "FloatProgressModel",
          "model_module_version": "1.5.0",
          "state": {
            "_dom_classes": [],
            "_model_module": "@jupyter-widgets/controls",
            "_model_module_version": "1.5.0",
            "_model_name": "FloatProgressModel",
            "_view_count": null,
            "_view_module": "@jupyter-widgets/controls",
            "_view_module_version": "1.5.0",
            "_view_name": "ProgressView",
            "bar_style": "success",
            "description": "",
            "description_tooltip": null,
            "layout": "IPY_MODEL_0c2925fc5ee549238603b319fa4dab06",
            "max": 16,
            "min": 0,
            "orientation": "horizontal",
            "style": "IPY_MODEL_0d871f8bee094470a3a7e22d67f3f805",
            "value": 16
          }
        },
        "3ecd0e72bf1f4991894daca4dc13538b": {
          "model_module": "@jupyter-widgets/controls",
          "model_name": "HTMLModel",
          "model_module_version": "1.5.0",
          "state": {
            "_dom_classes": [],
            "_model_module": "@jupyter-widgets/controls",
            "_model_module_version": "1.5.0",
            "_model_name": "HTMLModel",
            "_view_count": null,
            "_view_module": "@jupyter-widgets/controls",
            "_view_module_version": "1.5.0",
            "_view_name": "HTMLView",
            "description": "",
            "description_tooltip": null,
            "layout": "IPY_MODEL_ecaa653b3cba46f0ac8270568baed4b6",
            "placeholder": "​",
            "style": "IPY_MODEL_77bd950ad6cc4e0ab46a934d09a9fe7d",
            "value": " 16/16 [00:02&lt;00:00,  4.43it/s]"
          }
        },
        "dd1d171aaa2e46f4ab7ba5cda2bc1ed1": {
          "model_module": "@jupyter-widgets/base",
          "model_name": "LayoutModel",
          "model_module_version": "1.2.0",
          "state": {
            "_model_module": "@jupyter-widgets/base",
            "_model_module_version": "1.2.0",
            "_model_name": "LayoutModel",
            "_view_count": null,
            "_view_module": "@jupyter-widgets/base",
            "_view_module_version": "1.2.0",
            "_view_name": "LayoutView",
            "align_content": null,
            "align_items": null,
            "align_self": null,
            "border": null,
            "bottom": null,
            "display": null,
            "flex": null,
            "flex_flow": null,
            "grid_area": null,
            "grid_auto_columns": null,
            "grid_auto_flow": null,
            "grid_auto_rows": null,
            "grid_column": null,
            "grid_gap": null,
            "grid_row": null,
            "grid_template_areas": null,
            "grid_template_columns": null,
            "grid_template_rows": null,
            "height": null,
            "justify_content": null,
            "justify_items": null,
            "left": null,
            "margin": null,
            "max_height": null,
            "max_width": null,
            "min_height": null,
            "min_width": null,
            "object_fit": null,
            "object_position": null,
            "order": null,
            "overflow": null,
            "overflow_x": null,
            "overflow_y": null,
            "padding": null,
            "right": null,
            "top": null,
            "visibility": null,
            "width": null
          }
        },
        "c5b029aa93d0487e994658d72dd68261": {
          "model_module": "@jupyter-widgets/base",
          "model_name": "LayoutModel",
          "model_module_version": "1.2.0",
          "state": {
            "_model_module": "@jupyter-widgets/base",
            "_model_module_version": "1.2.0",
            "_model_name": "LayoutModel",
            "_view_count": null,
            "_view_module": "@jupyter-widgets/base",
            "_view_module_version": "1.2.0",
            "_view_name": "LayoutView",
            "align_content": null,
            "align_items": null,
            "align_self": null,
            "border": null,
            "bottom": null,
            "display": null,
            "flex": null,
            "flex_flow": null,
            "grid_area": null,
            "grid_auto_columns": null,
            "grid_auto_flow": null,
            "grid_auto_rows": null,
            "grid_column": null,
            "grid_gap": null,
            "grid_row": null,
            "grid_template_areas": null,
            "grid_template_columns": null,
            "grid_template_rows": null,
            "height": null,
            "justify_content": null,
            "justify_items": null,
            "left": null,
            "margin": null,
            "max_height": null,
            "max_width": null,
            "min_height": null,
            "min_width": null,
            "object_fit": null,
            "object_position": null,
            "order": null,
            "overflow": null,
            "overflow_x": null,
            "overflow_y": null,
            "padding": null,
            "right": null,
            "top": null,
            "visibility": null,
            "width": null
          }
        },
        "9b9ba09454c243c282dce1094da4ecfd": {
          "model_module": "@jupyter-widgets/controls",
          "model_name": "DescriptionStyleModel",
          "model_module_version": "1.5.0",
          "state": {
            "_model_module": "@jupyter-widgets/controls",
            "_model_module_version": "1.5.0",
            "_model_name": "DescriptionStyleModel",
            "_view_count": null,
            "_view_module": "@jupyter-widgets/base",
            "_view_module_version": "1.2.0",
            "_view_name": "StyleView",
            "description_width": ""
          }
        },
        "0c2925fc5ee549238603b319fa4dab06": {
          "model_module": "@jupyter-widgets/base",
          "model_name": "LayoutModel",
          "model_module_version": "1.2.0",
          "state": {
            "_model_module": "@jupyter-widgets/base",
            "_model_module_version": "1.2.0",
            "_model_name": "LayoutModel",
            "_view_count": null,
            "_view_module": "@jupyter-widgets/base",
            "_view_module_version": "1.2.0",
            "_view_name": "LayoutView",
            "align_content": null,
            "align_items": null,
            "align_self": null,
            "border": null,
            "bottom": null,
            "display": null,
            "flex": null,
            "flex_flow": null,
            "grid_area": null,
            "grid_auto_columns": null,
            "grid_auto_flow": null,
            "grid_auto_rows": null,
            "grid_column": null,
            "grid_gap": null,
            "grid_row": null,
            "grid_template_areas": null,
            "grid_template_columns": null,
            "grid_template_rows": null,
            "height": null,
            "justify_content": null,
            "justify_items": null,
            "left": null,
            "margin": null,
            "max_height": null,
            "max_width": null,
            "min_height": null,
            "min_width": null,
            "object_fit": null,
            "object_position": null,
            "order": null,
            "overflow": null,
            "overflow_x": null,
            "overflow_y": null,
            "padding": null,
            "right": null,
            "top": null,
            "visibility": null,
            "width": null
          }
        },
        "0d871f8bee094470a3a7e22d67f3f805": {
          "model_module": "@jupyter-widgets/controls",
          "model_name": "ProgressStyleModel",
          "model_module_version": "1.5.0",
          "state": {
            "_model_module": "@jupyter-widgets/controls",
            "_model_module_version": "1.5.0",
            "_model_name": "ProgressStyleModel",
            "_view_count": null,
            "_view_module": "@jupyter-widgets/base",
            "_view_module_version": "1.2.0",
            "_view_name": "StyleView",
            "bar_color": null,
            "description_width": ""
          }
        },
        "ecaa653b3cba46f0ac8270568baed4b6": {
          "model_module": "@jupyter-widgets/base",
          "model_name": "LayoutModel",
          "model_module_version": "1.2.0",
          "state": {
            "_model_module": "@jupyter-widgets/base",
            "_model_module_version": "1.2.0",
            "_model_name": "LayoutModel",
            "_view_count": null,
            "_view_module": "@jupyter-widgets/base",
            "_view_module_version": "1.2.0",
            "_view_name": "LayoutView",
            "align_content": null,
            "align_items": null,
            "align_self": null,
            "border": null,
            "bottom": null,
            "display": null,
            "flex": null,
            "flex_flow": null,
            "grid_area": null,
            "grid_auto_columns": null,
            "grid_auto_flow": null,
            "grid_auto_rows": null,
            "grid_column": null,
            "grid_gap": null,
            "grid_row": null,
            "grid_template_areas": null,
            "grid_template_columns": null,
            "grid_template_rows": null,
            "height": null,
            "justify_content": null,
            "justify_items": null,
            "left": null,
            "margin": null,
            "max_height": null,
            "max_width": null,
            "min_height": null,
            "min_width": null,
            "object_fit": null,
            "object_position": null,
            "order": null,
            "overflow": null,
            "overflow_x": null,
            "overflow_y": null,
            "padding": null,
            "right": null,
            "top": null,
            "visibility": null,
            "width": null
          }
        },
        "77bd950ad6cc4e0ab46a934d09a9fe7d": {
          "model_module": "@jupyter-widgets/controls",
          "model_name": "DescriptionStyleModel",
          "model_module_version": "1.5.0",
          "state": {
            "_model_module": "@jupyter-widgets/controls",
            "_model_module_version": "1.5.0",
            "_model_name": "DescriptionStyleModel",
            "_view_count": null,
            "_view_module": "@jupyter-widgets/base",
            "_view_module_version": "1.2.0",
            "_view_name": "StyleView",
            "description_width": ""
          }
        },
        "51801c6122e740cc9d3505370488f127": {
          "model_module": "@jupyter-widgets/controls",
          "model_name": "HBoxModel",
          "model_module_version": "1.5.0",
          "state": {
            "_dom_classes": [],
            "_model_module": "@jupyter-widgets/controls",
            "_model_module_version": "1.5.0",
            "_model_name": "HBoxModel",
            "_view_count": null,
            "_view_module": "@jupyter-widgets/controls",
            "_view_module_version": "1.5.0",
            "_view_name": "HBoxView",
            "box_style": "",
            "children": [
              "IPY_MODEL_0cb93604656740aebd364e0674d27d40",
              "IPY_MODEL_0d5ab81579224f43ace831e10a038a45",
              "IPY_MODEL_224c791afa6445e2811f7b6768eaeba6"
            ],
            "layout": "IPY_MODEL_26cea4e80a9248419c9e26a0efa89a91"
          }
        },
        "0cb93604656740aebd364e0674d27d40": {
          "model_module": "@jupyter-widgets/controls",
          "model_name": "HTMLModel",
          "model_module_version": "1.5.0",
          "state": {
            "_dom_classes": [],
            "_model_module": "@jupyter-widgets/controls",
            "_model_module_version": "1.5.0",
            "_model_name": "HTMLModel",
            "_view_count": null,
            "_view_module": "@jupyter-widgets/controls",
            "_view_module_version": "1.5.0",
            "_view_name": "HTMLView",
            "description": "",
            "description_tooltip": null,
            "layout": "IPY_MODEL_639cf786797440fdba1633f101f26faa",
            "placeholder": "​",
            "style": "IPY_MODEL_cfcef53bf2df41198281c70fe9b97f47",
            "value": "100%"
          }
        },
        "0d5ab81579224f43ace831e10a038a45": {
          "model_module": "@jupyter-widgets/controls",
          "model_name": "FloatProgressModel",
          "model_module_version": "1.5.0",
          "state": {
            "_dom_classes": [],
            "_model_module": "@jupyter-widgets/controls",
            "_model_module_version": "1.5.0",
            "_model_name": "FloatProgressModel",
            "_view_count": null,
            "_view_module": "@jupyter-widgets/controls",
            "_view_module_version": "1.5.0",
            "_view_name": "ProgressView",
            "bar_style": "success",
            "description": "",
            "description_tooltip": null,
            "layout": "IPY_MODEL_44d0a1e4af824b69a0cde005b2786717",
            "max": 100,
            "min": 0,
            "orientation": "horizontal",
            "style": "IPY_MODEL_fec04afe72f9437389e49f6e0ae99bc4",
            "value": 100
          }
        },
        "224c791afa6445e2811f7b6768eaeba6": {
          "model_module": "@jupyter-widgets/controls",
          "model_name": "HTMLModel",
          "model_module_version": "1.5.0",
          "state": {
            "_dom_classes": [],
            "_model_module": "@jupyter-widgets/controls",
            "_model_module_version": "1.5.0",
            "_model_name": "HTMLModel",
            "_view_count": null,
            "_view_module": "@jupyter-widgets/controls",
            "_view_module_version": "1.5.0",
            "_view_name": "HTMLView",
            "description": "",
            "description_tooltip": null,
            "layout": "IPY_MODEL_55dd3856d1384d2e92134d3116355ce1",
            "placeholder": "​",
            "style": "IPY_MODEL_f2981087cbe84b508b054f1868bd090b",
            "value": " 100/100 [00:27&lt;00:00,  4.31it/s]"
          }
        },
        "26cea4e80a9248419c9e26a0efa89a91": {
          "model_module": "@jupyter-widgets/base",
          "model_name": "LayoutModel",
          "model_module_version": "1.2.0",
          "state": {
            "_model_module": "@jupyter-widgets/base",
            "_model_module_version": "1.2.0",
            "_model_name": "LayoutModel",
            "_view_count": null,
            "_view_module": "@jupyter-widgets/base",
            "_view_module_version": "1.2.0",
            "_view_name": "LayoutView",
            "align_content": null,
            "align_items": null,
            "align_self": null,
            "border": null,
            "bottom": null,
            "display": null,
            "flex": null,
            "flex_flow": null,
            "grid_area": null,
            "grid_auto_columns": null,
            "grid_auto_flow": null,
            "grid_auto_rows": null,
            "grid_column": null,
            "grid_gap": null,
            "grid_row": null,
            "grid_template_areas": null,
            "grid_template_columns": null,
            "grid_template_rows": null,
            "height": null,
            "justify_content": null,
            "justify_items": null,
            "left": null,
            "margin": null,
            "max_height": null,
            "max_width": null,
            "min_height": null,
            "min_width": null,
            "object_fit": null,
            "object_position": null,
            "order": null,
            "overflow": null,
            "overflow_x": null,
            "overflow_y": null,
            "padding": null,
            "right": null,
            "top": null,
            "visibility": null,
            "width": null
          }
        },
        "639cf786797440fdba1633f101f26faa": {
          "model_module": "@jupyter-widgets/base",
          "model_name": "LayoutModel",
          "model_module_version": "1.2.0",
          "state": {
            "_model_module": "@jupyter-widgets/base",
            "_model_module_version": "1.2.0",
            "_model_name": "LayoutModel",
            "_view_count": null,
            "_view_module": "@jupyter-widgets/base",
            "_view_module_version": "1.2.0",
            "_view_name": "LayoutView",
            "align_content": null,
            "align_items": null,
            "align_self": null,
            "border": null,
            "bottom": null,
            "display": null,
            "flex": null,
            "flex_flow": null,
            "grid_area": null,
            "grid_auto_columns": null,
            "grid_auto_flow": null,
            "grid_auto_rows": null,
            "grid_column": null,
            "grid_gap": null,
            "grid_row": null,
            "grid_template_areas": null,
            "grid_template_columns": null,
            "grid_template_rows": null,
            "height": null,
            "justify_content": null,
            "justify_items": null,
            "left": null,
            "margin": null,
            "max_height": null,
            "max_width": null,
            "min_height": null,
            "min_width": null,
            "object_fit": null,
            "object_position": null,
            "order": null,
            "overflow": null,
            "overflow_x": null,
            "overflow_y": null,
            "padding": null,
            "right": null,
            "top": null,
            "visibility": null,
            "width": null
          }
        },
        "cfcef53bf2df41198281c70fe9b97f47": {
          "model_module": "@jupyter-widgets/controls",
          "model_name": "DescriptionStyleModel",
          "model_module_version": "1.5.0",
          "state": {
            "_model_module": "@jupyter-widgets/controls",
            "_model_module_version": "1.5.0",
            "_model_name": "DescriptionStyleModel",
            "_view_count": null,
            "_view_module": "@jupyter-widgets/base",
            "_view_module_version": "1.2.0",
            "_view_name": "StyleView",
            "description_width": ""
          }
        },
        "44d0a1e4af824b69a0cde005b2786717": {
          "model_module": "@jupyter-widgets/base",
          "model_name": "LayoutModel",
          "model_module_version": "1.2.0",
          "state": {
            "_model_module": "@jupyter-widgets/base",
            "_model_module_version": "1.2.0",
            "_model_name": "LayoutModel",
            "_view_count": null,
            "_view_module": "@jupyter-widgets/base",
            "_view_module_version": "1.2.0",
            "_view_name": "LayoutView",
            "align_content": null,
            "align_items": null,
            "align_self": null,
            "border": null,
            "bottom": null,
            "display": null,
            "flex": null,
            "flex_flow": null,
            "grid_area": null,
            "grid_auto_columns": null,
            "grid_auto_flow": null,
            "grid_auto_rows": null,
            "grid_column": null,
            "grid_gap": null,
            "grid_row": null,
            "grid_template_areas": null,
            "grid_template_columns": null,
            "grid_template_rows": null,
            "height": null,
            "justify_content": null,
            "justify_items": null,
            "left": null,
            "margin": null,
            "max_height": null,
            "max_width": null,
            "min_height": null,
            "min_width": null,
            "object_fit": null,
            "object_position": null,
            "order": null,
            "overflow": null,
            "overflow_x": null,
            "overflow_y": null,
            "padding": null,
            "right": null,
            "top": null,
            "visibility": null,
            "width": null
          }
        },
        "fec04afe72f9437389e49f6e0ae99bc4": {
          "model_module": "@jupyter-widgets/controls",
          "model_name": "ProgressStyleModel",
          "model_module_version": "1.5.0",
          "state": {
            "_model_module": "@jupyter-widgets/controls",
            "_model_module_version": "1.5.0",
            "_model_name": "ProgressStyleModel",
            "_view_count": null,
            "_view_module": "@jupyter-widgets/base",
            "_view_module_version": "1.2.0",
            "_view_name": "StyleView",
            "bar_color": null,
            "description_width": ""
          }
        },
        "55dd3856d1384d2e92134d3116355ce1": {
          "model_module": "@jupyter-widgets/base",
          "model_name": "LayoutModel",
          "model_module_version": "1.2.0",
          "state": {
            "_model_module": "@jupyter-widgets/base",
            "_model_module_version": "1.2.0",
            "_model_name": "LayoutModel",
            "_view_count": null,
            "_view_module": "@jupyter-widgets/base",
            "_view_module_version": "1.2.0",
            "_view_name": "LayoutView",
            "align_content": null,
            "align_items": null,
            "align_self": null,
            "border": null,
            "bottom": null,
            "display": null,
            "flex": null,
            "flex_flow": null,
            "grid_area": null,
            "grid_auto_columns": null,
            "grid_auto_flow": null,
            "grid_auto_rows": null,
            "grid_column": null,
            "grid_gap": null,
            "grid_row": null,
            "grid_template_areas": null,
            "grid_template_columns": null,
            "grid_template_rows": null,
            "height": null,
            "justify_content": null,
            "justify_items": null,
            "left": null,
            "margin": null,
            "max_height": null,
            "max_width": null,
            "min_height": null,
            "min_width": null,
            "object_fit": null,
            "object_position": null,
            "order": null,
            "overflow": null,
            "overflow_x": null,
            "overflow_y": null,
            "padding": null,
            "right": null,
            "top": null,
            "visibility": null,
            "width": null
          }
        },
        "f2981087cbe84b508b054f1868bd090b": {
          "model_module": "@jupyter-widgets/controls",
          "model_name": "DescriptionStyleModel",
          "model_module_version": "1.5.0",
          "state": {
            "_model_module": "@jupyter-widgets/controls",
            "_model_module_version": "1.5.0",
            "_model_name": "DescriptionStyleModel",
            "_view_count": null,
            "_view_module": "@jupyter-widgets/base",
            "_view_module_version": "1.2.0",
            "_view_name": "StyleView",
            "description_width": ""
          }
        },
        "acb774c90225464b84869c1a989cc1fd": {
          "model_module": "@jupyter-widgets/controls",
          "model_name": "HBoxModel",
          "model_module_version": "1.5.0",
          "state": {
            "_dom_classes": [],
            "_model_module": "@jupyter-widgets/controls",
            "_model_module_version": "1.5.0",
            "_model_name": "HBoxModel",
            "_view_count": null,
            "_view_module": "@jupyter-widgets/controls",
            "_view_module_version": "1.5.0",
            "_view_name": "HBoxView",
            "box_style": "",
            "children": [
              "IPY_MODEL_a8133030b16f463da3d1e96bf54ad4d3",
              "IPY_MODEL_90bbd9b7983d47f38fbc00f635a44ba0",
              "IPY_MODEL_2131774f207a4b70a11c3784cca9bfef"
            ],
            "layout": "IPY_MODEL_123a035a620240eba52d3b770667de00"
          }
        },
        "a8133030b16f463da3d1e96bf54ad4d3": {
          "model_module": "@jupyter-widgets/controls",
          "model_name": "HTMLModel",
          "model_module_version": "1.5.0",
          "state": {
            "_dom_classes": [],
            "_model_module": "@jupyter-widgets/controls",
            "_model_module_version": "1.5.0",
            "_model_name": "HTMLModel",
            "_view_count": null,
            "_view_module": "@jupyter-widgets/controls",
            "_view_module_version": "1.5.0",
            "_view_name": "HTMLView",
            "description": "",
            "description_tooltip": null,
            "layout": "IPY_MODEL_f379493389a848d69cdd8db4f60c5bb4",
            "placeholder": "​",
            "style": "IPY_MODEL_c0f4aab246a843159efa3f62cc927702",
            "value": "100%"
          }
        },
        "90bbd9b7983d47f38fbc00f635a44ba0": {
          "model_module": "@jupyter-widgets/controls",
          "model_name": "FloatProgressModel",
          "model_module_version": "1.5.0",
          "state": {
            "_dom_classes": [],
            "_model_module": "@jupyter-widgets/controls",
            "_model_module_version": "1.5.0",
            "_model_name": "FloatProgressModel",
            "_view_count": null,
            "_view_module": "@jupyter-widgets/controls",
            "_view_module_version": "1.5.0",
            "_view_name": "ProgressView",
            "bar_style": "success",
            "description": "",
            "description_tooltip": null,
            "layout": "IPY_MODEL_ea57f5eb0b6d4f18a7cc643b5acf8630",
            "max": 100,
            "min": 0,
            "orientation": "horizontal",
            "style": "IPY_MODEL_d0110fd3db2c43f8a0d71776a3b3d160",
            "value": 100
          }
        },
        "2131774f207a4b70a11c3784cca9bfef": {
          "model_module": "@jupyter-widgets/controls",
          "model_name": "HTMLModel",
          "model_module_version": "1.5.0",
          "state": {
            "_dom_classes": [],
            "_model_module": "@jupyter-widgets/controls",
            "_model_module_version": "1.5.0",
            "_model_name": "HTMLModel",
            "_view_count": null,
            "_view_module": "@jupyter-widgets/controls",
            "_view_module_version": "1.5.0",
            "_view_name": "HTMLView",
            "description": "",
            "description_tooltip": null,
            "layout": "IPY_MODEL_d0c0b2b635134b388eda0998cf560eff",
            "placeholder": "​",
            "style": "IPY_MODEL_377356d67a6b4e8ba0eb69cbd734585b",
            "value": " 100/100 [00:32&lt;00:00,  3.16it/s]"
          }
        },
        "123a035a620240eba52d3b770667de00": {
          "model_module": "@jupyter-widgets/base",
          "model_name": "LayoutModel",
          "model_module_version": "1.2.0",
          "state": {
            "_model_module": "@jupyter-widgets/base",
            "_model_module_version": "1.2.0",
            "_model_name": "LayoutModel",
            "_view_count": null,
            "_view_module": "@jupyter-widgets/base",
            "_view_module_version": "1.2.0",
            "_view_name": "LayoutView",
            "align_content": null,
            "align_items": null,
            "align_self": null,
            "border": null,
            "bottom": null,
            "display": null,
            "flex": null,
            "flex_flow": null,
            "grid_area": null,
            "grid_auto_columns": null,
            "grid_auto_flow": null,
            "grid_auto_rows": null,
            "grid_column": null,
            "grid_gap": null,
            "grid_row": null,
            "grid_template_areas": null,
            "grid_template_columns": null,
            "grid_template_rows": null,
            "height": null,
            "justify_content": null,
            "justify_items": null,
            "left": null,
            "margin": null,
            "max_height": null,
            "max_width": null,
            "min_height": null,
            "min_width": null,
            "object_fit": null,
            "object_position": null,
            "order": null,
            "overflow": null,
            "overflow_x": null,
            "overflow_y": null,
            "padding": null,
            "right": null,
            "top": null,
            "visibility": null,
            "width": null
          }
        },
        "f379493389a848d69cdd8db4f60c5bb4": {
          "model_module": "@jupyter-widgets/base",
          "model_name": "LayoutModel",
          "model_module_version": "1.2.0",
          "state": {
            "_model_module": "@jupyter-widgets/base",
            "_model_module_version": "1.2.0",
            "_model_name": "LayoutModel",
            "_view_count": null,
            "_view_module": "@jupyter-widgets/base",
            "_view_module_version": "1.2.0",
            "_view_name": "LayoutView",
            "align_content": null,
            "align_items": null,
            "align_self": null,
            "border": null,
            "bottom": null,
            "display": null,
            "flex": null,
            "flex_flow": null,
            "grid_area": null,
            "grid_auto_columns": null,
            "grid_auto_flow": null,
            "grid_auto_rows": null,
            "grid_column": null,
            "grid_gap": null,
            "grid_row": null,
            "grid_template_areas": null,
            "grid_template_columns": null,
            "grid_template_rows": null,
            "height": null,
            "justify_content": null,
            "justify_items": null,
            "left": null,
            "margin": null,
            "max_height": null,
            "max_width": null,
            "min_height": null,
            "min_width": null,
            "object_fit": null,
            "object_position": null,
            "order": null,
            "overflow": null,
            "overflow_x": null,
            "overflow_y": null,
            "padding": null,
            "right": null,
            "top": null,
            "visibility": null,
            "width": null
          }
        },
        "c0f4aab246a843159efa3f62cc927702": {
          "model_module": "@jupyter-widgets/controls",
          "model_name": "DescriptionStyleModel",
          "model_module_version": "1.5.0",
          "state": {
            "_model_module": "@jupyter-widgets/controls",
            "_model_module_version": "1.5.0",
            "_model_name": "DescriptionStyleModel",
            "_view_count": null,
            "_view_module": "@jupyter-widgets/base",
            "_view_module_version": "1.2.0",
            "_view_name": "StyleView",
            "description_width": ""
          }
        },
        "ea57f5eb0b6d4f18a7cc643b5acf8630": {
          "model_module": "@jupyter-widgets/base",
          "model_name": "LayoutModel",
          "model_module_version": "1.2.0",
          "state": {
            "_model_module": "@jupyter-widgets/base",
            "_model_module_version": "1.2.0",
            "_model_name": "LayoutModel",
            "_view_count": null,
            "_view_module": "@jupyter-widgets/base",
            "_view_module_version": "1.2.0",
            "_view_name": "LayoutView",
            "align_content": null,
            "align_items": null,
            "align_self": null,
            "border": null,
            "bottom": null,
            "display": null,
            "flex": null,
            "flex_flow": null,
            "grid_area": null,
            "grid_auto_columns": null,
            "grid_auto_flow": null,
            "grid_auto_rows": null,
            "grid_column": null,
            "grid_gap": null,
            "grid_row": null,
            "grid_template_areas": null,
            "grid_template_columns": null,
            "grid_template_rows": null,
            "height": null,
            "justify_content": null,
            "justify_items": null,
            "left": null,
            "margin": null,
            "max_height": null,
            "max_width": null,
            "min_height": null,
            "min_width": null,
            "object_fit": null,
            "object_position": null,
            "order": null,
            "overflow": null,
            "overflow_x": null,
            "overflow_y": null,
            "padding": null,
            "right": null,
            "top": null,
            "visibility": null,
            "width": null
          }
        },
        "d0110fd3db2c43f8a0d71776a3b3d160": {
          "model_module": "@jupyter-widgets/controls",
          "model_name": "ProgressStyleModel",
          "model_module_version": "1.5.0",
          "state": {
            "_model_module": "@jupyter-widgets/controls",
            "_model_module_version": "1.5.0",
            "_model_name": "ProgressStyleModel",
            "_view_count": null,
            "_view_module": "@jupyter-widgets/base",
            "_view_module_version": "1.2.0",
            "_view_name": "StyleView",
            "bar_color": null,
            "description_width": ""
          }
        },
        "d0c0b2b635134b388eda0998cf560eff": {
          "model_module": "@jupyter-widgets/base",
          "model_name": "LayoutModel",
          "model_module_version": "1.2.0",
          "state": {
            "_model_module": "@jupyter-widgets/base",
            "_model_module_version": "1.2.0",
            "_model_name": "LayoutModel",
            "_view_count": null,
            "_view_module": "@jupyter-widgets/base",
            "_view_module_version": "1.2.0",
            "_view_name": "LayoutView",
            "align_content": null,
            "align_items": null,
            "align_self": null,
            "border": null,
            "bottom": null,
            "display": null,
            "flex": null,
            "flex_flow": null,
            "grid_area": null,
            "grid_auto_columns": null,
            "grid_auto_flow": null,
            "grid_auto_rows": null,
            "grid_column": null,
            "grid_gap": null,
            "grid_row": null,
            "grid_template_areas": null,
            "grid_template_columns": null,
            "grid_template_rows": null,
            "height": null,
            "justify_content": null,
            "justify_items": null,
            "left": null,
            "margin": null,
            "max_height": null,
            "max_width": null,
            "min_height": null,
            "min_width": null,
            "object_fit": null,
            "object_position": null,
            "order": null,
            "overflow": null,
            "overflow_x": null,
            "overflow_y": null,
            "padding": null,
            "right": null,
            "top": null,
            "visibility": null,
            "width": null
          }
        },
        "377356d67a6b4e8ba0eb69cbd734585b": {
          "model_module": "@jupyter-widgets/controls",
          "model_name": "DescriptionStyleModel",
          "model_module_version": "1.5.0",
          "state": {
            "_model_module": "@jupyter-widgets/controls",
            "_model_module_version": "1.5.0",
            "_model_name": "DescriptionStyleModel",
            "_view_count": null,
            "_view_module": "@jupyter-widgets/base",
            "_view_module_version": "1.2.0",
            "_view_name": "StyleView",
            "description_width": ""
          }
        },
        "346f0ef9aac9466996caf06149fb3413": {
          "model_module": "@jupyter-widgets/controls",
          "model_name": "HBoxModel",
          "model_module_version": "1.5.0",
          "state": {
            "_dom_classes": [],
            "_model_module": "@jupyter-widgets/controls",
            "_model_module_version": "1.5.0",
            "_model_name": "HBoxModel",
            "_view_count": null,
            "_view_module": "@jupyter-widgets/controls",
            "_view_module_version": "1.5.0",
            "_view_name": "HBoxView",
            "box_style": "",
            "children": [
              "IPY_MODEL_82b9eeb229a543c0910ceea38000ea5b",
              "IPY_MODEL_d79751b0235f4c43ba02710dabc950e6",
              "IPY_MODEL_d7d2290228b54d9ea3c9d5fef254f6f8"
            ],
            "layout": "IPY_MODEL_11cc132b7c304399aac5cbed7ae522a6"
          }
        },
        "82b9eeb229a543c0910ceea38000ea5b": {
          "model_module": "@jupyter-widgets/controls",
          "model_name": "HTMLModel",
          "model_module_version": "1.5.0",
          "state": {
            "_dom_classes": [],
            "_model_module": "@jupyter-widgets/controls",
            "_model_module_version": "1.5.0",
            "_model_name": "HTMLModel",
            "_view_count": null,
            "_view_module": "@jupyter-widgets/controls",
            "_view_module_version": "1.5.0",
            "_view_name": "HTMLView",
            "description": "",
            "description_tooltip": null,
            "layout": "IPY_MODEL_8efcb08c06f048dd88c510ce62b266e4",
            "placeholder": "​",
            "style": "IPY_MODEL_8231d601b3a74fc2bacc57dbc10993f6",
            "value": "100%"
          }
        },
        "d79751b0235f4c43ba02710dabc950e6": {
          "model_module": "@jupyter-widgets/controls",
          "model_name": "FloatProgressModel",
          "model_module_version": "1.5.0",
          "state": {
            "_dom_classes": [],
            "_model_module": "@jupyter-widgets/controls",
            "_model_module_version": "1.5.0",
            "_model_name": "FloatProgressModel",
            "_view_count": null,
            "_view_module": "@jupyter-widgets/controls",
            "_view_module_version": "1.5.0",
            "_view_name": "ProgressView",
            "bar_style": "success",
            "description": "",
            "description_tooltip": null,
            "layout": "IPY_MODEL_8076389670f94ff1a9c48f76374c7ee1",
            "max": 100,
            "min": 0,
            "orientation": "horizontal",
            "style": "IPY_MODEL_c3c202cd00f8443593d2d35a34e49f1a",
            "value": 100
          }
        },
        "d7d2290228b54d9ea3c9d5fef254f6f8": {
          "model_module": "@jupyter-widgets/controls",
          "model_name": "HTMLModel",
          "model_module_version": "1.5.0",
          "state": {
            "_dom_classes": [],
            "_model_module": "@jupyter-widgets/controls",
            "_model_module_version": "1.5.0",
            "_model_name": "HTMLModel",
            "_view_count": null,
            "_view_module": "@jupyter-widgets/controls",
            "_view_module_version": "1.5.0",
            "_view_name": "HTMLView",
            "description": "",
            "description_tooltip": null,
            "layout": "IPY_MODEL_0810745998b4439589285464a16b8887",
            "placeholder": "​",
            "style": "IPY_MODEL_5d4ede0cee33452e8d10b0abe584bebc",
            "value": " 100/100 [00:42&lt;00:00,  2.45it/s]"
          }
        },
        "11cc132b7c304399aac5cbed7ae522a6": {
          "model_module": "@jupyter-widgets/base",
          "model_name": "LayoutModel",
          "model_module_version": "1.2.0",
          "state": {
            "_model_module": "@jupyter-widgets/base",
            "_model_module_version": "1.2.0",
            "_model_name": "LayoutModel",
            "_view_count": null,
            "_view_module": "@jupyter-widgets/base",
            "_view_module_version": "1.2.0",
            "_view_name": "LayoutView",
            "align_content": null,
            "align_items": null,
            "align_self": null,
            "border": null,
            "bottom": null,
            "display": null,
            "flex": null,
            "flex_flow": null,
            "grid_area": null,
            "grid_auto_columns": null,
            "grid_auto_flow": null,
            "grid_auto_rows": null,
            "grid_column": null,
            "grid_gap": null,
            "grid_row": null,
            "grid_template_areas": null,
            "grid_template_columns": null,
            "grid_template_rows": null,
            "height": null,
            "justify_content": null,
            "justify_items": null,
            "left": null,
            "margin": null,
            "max_height": null,
            "max_width": null,
            "min_height": null,
            "min_width": null,
            "object_fit": null,
            "object_position": null,
            "order": null,
            "overflow": null,
            "overflow_x": null,
            "overflow_y": null,
            "padding": null,
            "right": null,
            "top": null,
            "visibility": null,
            "width": null
          }
        },
        "8efcb08c06f048dd88c510ce62b266e4": {
          "model_module": "@jupyter-widgets/base",
          "model_name": "LayoutModel",
          "model_module_version": "1.2.0",
          "state": {
            "_model_module": "@jupyter-widgets/base",
            "_model_module_version": "1.2.0",
            "_model_name": "LayoutModel",
            "_view_count": null,
            "_view_module": "@jupyter-widgets/base",
            "_view_module_version": "1.2.0",
            "_view_name": "LayoutView",
            "align_content": null,
            "align_items": null,
            "align_self": null,
            "border": null,
            "bottom": null,
            "display": null,
            "flex": null,
            "flex_flow": null,
            "grid_area": null,
            "grid_auto_columns": null,
            "grid_auto_flow": null,
            "grid_auto_rows": null,
            "grid_column": null,
            "grid_gap": null,
            "grid_row": null,
            "grid_template_areas": null,
            "grid_template_columns": null,
            "grid_template_rows": null,
            "height": null,
            "justify_content": null,
            "justify_items": null,
            "left": null,
            "margin": null,
            "max_height": null,
            "max_width": null,
            "min_height": null,
            "min_width": null,
            "object_fit": null,
            "object_position": null,
            "order": null,
            "overflow": null,
            "overflow_x": null,
            "overflow_y": null,
            "padding": null,
            "right": null,
            "top": null,
            "visibility": null,
            "width": null
          }
        },
        "8231d601b3a74fc2bacc57dbc10993f6": {
          "model_module": "@jupyter-widgets/controls",
          "model_name": "DescriptionStyleModel",
          "model_module_version": "1.5.0",
          "state": {
            "_model_module": "@jupyter-widgets/controls",
            "_model_module_version": "1.5.0",
            "_model_name": "DescriptionStyleModel",
            "_view_count": null,
            "_view_module": "@jupyter-widgets/base",
            "_view_module_version": "1.2.0",
            "_view_name": "StyleView",
            "description_width": ""
          }
        },
        "8076389670f94ff1a9c48f76374c7ee1": {
          "model_module": "@jupyter-widgets/base",
          "model_name": "LayoutModel",
          "model_module_version": "1.2.0",
          "state": {
            "_model_module": "@jupyter-widgets/base",
            "_model_module_version": "1.2.0",
            "_model_name": "LayoutModel",
            "_view_count": null,
            "_view_module": "@jupyter-widgets/base",
            "_view_module_version": "1.2.0",
            "_view_name": "LayoutView",
            "align_content": null,
            "align_items": null,
            "align_self": null,
            "border": null,
            "bottom": null,
            "display": null,
            "flex": null,
            "flex_flow": null,
            "grid_area": null,
            "grid_auto_columns": null,
            "grid_auto_flow": null,
            "grid_auto_rows": null,
            "grid_column": null,
            "grid_gap": null,
            "grid_row": null,
            "grid_template_areas": null,
            "grid_template_columns": null,
            "grid_template_rows": null,
            "height": null,
            "justify_content": null,
            "justify_items": null,
            "left": null,
            "margin": null,
            "max_height": null,
            "max_width": null,
            "min_height": null,
            "min_width": null,
            "object_fit": null,
            "object_position": null,
            "order": null,
            "overflow": null,
            "overflow_x": null,
            "overflow_y": null,
            "padding": null,
            "right": null,
            "top": null,
            "visibility": null,
            "width": null
          }
        },
        "c3c202cd00f8443593d2d35a34e49f1a": {
          "model_module": "@jupyter-widgets/controls",
          "model_name": "ProgressStyleModel",
          "model_module_version": "1.5.0",
          "state": {
            "_model_module": "@jupyter-widgets/controls",
            "_model_module_version": "1.5.0",
            "_model_name": "ProgressStyleModel",
            "_view_count": null,
            "_view_module": "@jupyter-widgets/base",
            "_view_module_version": "1.2.0",
            "_view_name": "StyleView",
            "bar_color": null,
            "description_width": ""
          }
        },
        "0810745998b4439589285464a16b8887": {
          "model_module": "@jupyter-widgets/base",
          "model_name": "LayoutModel",
          "model_module_version": "1.2.0",
          "state": {
            "_model_module": "@jupyter-widgets/base",
            "_model_module_version": "1.2.0",
            "_model_name": "LayoutModel",
            "_view_count": null,
            "_view_module": "@jupyter-widgets/base",
            "_view_module_version": "1.2.0",
            "_view_name": "LayoutView",
            "align_content": null,
            "align_items": null,
            "align_self": null,
            "border": null,
            "bottom": null,
            "display": null,
            "flex": null,
            "flex_flow": null,
            "grid_area": null,
            "grid_auto_columns": null,
            "grid_auto_flow": null,
            "grid_auto_rows": null,
            "grid_column": null,
            "grid_gap": null,
            "grid_row": null,
            "grid_template_areas": null,
            "grid_template_columns": null,
            "grid_template_rows": null,
            "height": null,
            "justify_content": null,
            "justify_items": null,
            "left": null,
            "margin": null,
            "max_height": null,
            "max_width": null,
            "min_height": null,
            "min_width": null,
            "object_fit": null,
            "object_position": null,
            "order": null,
            "overflow": null,
            "overflow_x": null,
            "overflow_y": null,
            "padding": null,
            "right": null,
            "top": null,
            "visibility": null,
            "width": null
          }
        },
        "5d4ede0cee33452e8d10b0abe584bebc": {
          "model_module": "@jupyter-widgets/controls",
          "model_name": "DescriptionStyleModel",
          "model_module_version": "1.5.0",
          "state": {
            "_model_module": "@jupyter-widgets/controls",
            "_model_module_version": "1.5.0",
            "_model_name": "DescriptionStyleModel",
            "_view_count": null,
            "_view_module": "@jupyter-widgets/base",
            "_view_module_version": "1.2.0",
            "_view_name": "StyleView",
            "description_width": ""
          }
        },
        "fddb460dfe6f4cbb958022a715bb0816": {
          "model_module": "@jupyter-widgets/controls",
          "model_name": "HBoxModel",
          "model_module_version": "1.5.0",
          "state": {
            "_dom_classes": [],
            "_model_module": "@jupyter-widgets/controls",
            "_model_module_version": "1.5.0",
            "_model_name": "HBoxModel",
            "_view_count": null,
            "_view_module": "@jupyter-widgets/controls",
            "_view_module_version": "1.5.0",
            "_view_name": "HBoxView",
            "box_style": "",
            "children": [
              "IPY_MODEL_f2b8da1a7f1c4c6ba6b8bb3c9f03fd2c",
              "IPY_MODEL_4054104bc9ea48208ad7c57f1420a7d0",
              "IPY_MODEL_5b12a90dd0ec4ab6b7168610da3fa649"
            ],
            "layout": "IPY_MODEL_ce25f78362d949e6a2da7ff8ba46cf44"
          }
        },
        "f2b8da1a7f1c4c6ba6b8bb3c9f03fd2c": {
          "model_module": "@jupyter-widgets/controls",
          "model_name": "HTMLModel",
          "model_module_version": "1.5.0",
          "state": {
            "_dom_classes": [],
            "_model_module": "@jupyter-widgets/controls",
            "_model_module_version": "1.5.0",
            "_model_name": "HTMLModel",
            "_view_count": null,
            "_view_module": "@jupyter-widgets/controls",
            "_view_module_version": "1.5.0",
            "_view_name": "HTMLView",
            "description": "",
            "description_tooltip": null,
            "layout": "IPY_MODEL_c691a08f903e468080555798e92abd99",
            "placeholder": "​",
            "style": "IPY_MODEL_04bddc91b0484af38e206c05a9bbbe20",
            "value": "100%"
          }
        },
        "4054104bc9ea48208ad7c57f1420a7d0": {
          "model_module": "@jupyter-widgets/controls",
          "model_name": "FloatProgressModel",
          "model_module_version": "1.5.0",
          "state": {
            "_dom_classes": [],
            "_model_module": "@jupyter-widgets/controls",
            "_model_module_version": "1.5.0",
            "_model_name": "FloatProgressModel",
            "_view_count": null,
            "_view_module": "@jupyter-widgets/controls",
            "_view_module_version": "1.5.0",
            "_view_name": "ProgressView",
            "bar_style": "success",
            "description": "",
            "description_tooltip": null,
            "layout": "IPY_MODEL_c4642ecb577b49cc8539534b1d467519",
            "max": 100,
            "min": 0,
            "orientation": "horizontal",
            "style": "IPY_MODEL_50634e2c10f442778860874742850748",
            "value": 100
          }
        },
        "5b12a90dd0ec4ab6b7168610da3fa649": {
          "model_module": "@jupyter-widgets/controls",
          "model_name": "HTMLModel",
          "model_module_version": "1.5.0",
          "state": {
            "_dom_classes": [],
            "_model_module": "@jupyter-widgets/controls",
            "_model_module_version": "1.5.0",
            "_model_name": "HTMLModel",
            "_view_count": null,
            "_view_module": "@jupyter-widgets/controls",
            "_view_module_version": "1.5.0",
            "_view_name": "HTMLView",
            "description": "",
            "description_tooltip": null,
            "layout": "IPY_MODEL_b0916bfe5e8945c283f923b0742fdab3",
            "placeholder": "​",
            "style": "IPY_MODEL_12bcaf7cfc2e4b89b44279d6015b5fcc",
            "value": " 100/100 [00:51&lt;00:00,  2.00it/s]"
          }
        },
        "ce25f78362d949e6a2da7ff8ba46cf44": {
          "model_module": "@jupyter-widgets/base",
          "model_name": "LayoutModel",
          "model_module_version": "1.2.0",
          "state": {
            "_model_module": "@jupyter-widgets/base",
            "_model_module_version": "1.2.0",
            "_model_name": "LayoutModel",
            "_view_count": null,
            "_view_module": "@jupyter-widgets/base",
            "_view_module_version": "1.2.0",
            "_view_name": "LayoutView",
            "align_content": null,
            "align_items": null,
            "align_self": null,
            "border": null,
            "bottom": null,
            "display": null,
            "flex": null,
            "flex_flow": null,
            "grid_area": null,
            "grid_auto_columns": null,
            "grid_auto_flow": null,
            "grid_auto_rows": null,
            "grid_column": null,
            "grid_gap": null,
            "grid_row": null,
            "grid_template_areas": null,
            "grid_template_columns": null,
            "grid_template_rows": null,
            "height": null,
            "justify_content": null,
            "justify_items": null,
            "left": null,
            "margin": null,
            "max_height": null,
            "max_width": null,
            "min_height": null,
            "min_width": null,
            "object_fit": null,
            "object_position": null,
            "order": null,
            "overflow": null,
            "overflow_x": null,
            "overflow_y": null,
            "padding": null,
            "right": null,
            "top": null,
            "visibility": null,
            "width": null
          }
        },
        "c691a08f903e468080555798e92abd99": {
          "model_module": "@jupyter-widgets/base",
          "model_name": "LayoutModel",
          "model_module_version": "1.2.0",
          "state": {
            "_model_module": "@jupyter-widgets/base",
            "_model_module_version": "1.2.0",
            "_model_name": "LayoutModel",
            "_view_count": null,
            "_view_module": "@jupyter-widgets/base",
            "_view_module_version": "1.2.0",
            "_view_name": "LayoutView",
            "align_content": null,
            "align_items": null,
            "align_self": null,
            "border": null,
            "bottom": null,
            "display": null,
            "flex": null,
            "flex_flow": null,
            "grid_area": null,
            "grid_auto_columns": null,
            "grid_auto_flow": null,
            "grid_auto_rows": null,
            "grid_column": null,
            "grid_gap": null,
            "grid_row": null,
            "grid_template_areas": null,
            "grid_template_columns": null,
            "grid_template_rows": null,
            "height": null,
            "justify_content": null,
            "justify_items": null,
            "left": null,
            "margin": null,
            "max_height": null,
            "max_width": null,
            "min_height": null,
            "min_width": null,
            "object_fit": null,
            "object_position": null,
            "order": null,
            "overflow": null,
            "overflow_x": null,
            "overflow_y": null,
            "padding": null,
            "right": null,
            "top": null,
            "visibility": null,
            "width": null
          }
        },
        "04bddc91b0484af38e206c05a9bbbe20": {
          "model_module": "@jupyter-widgets/controls",
          "model_name": "DescriptionStyleModel",
          "model_module_version": "1.5.0",
          "state": {
            "_model_module": "@jupyter-widgets/controls",
            "_model_module_version": "1.5.0",
            "_model_name": "DescriptionStyleModel",
            "_view_count": null,
            "_view_module": "@jupyter-widgets/base",
            "_view_module_version": "1.2.0",
            "_view_name": "StyleView",
            "description_width": ""
          }
        },
        "c4642ecb577b49cc8539534b1d467519": {
          "model_module": "@jupyter-widgets/base",
          "model_name": "LayoutModel",
          "model_module_version": "1.2.0",
          "state": {
            "_model_module": "@jupyter-widgets/base",
            "_model_module_version": "1.2.0",
            "_model_name": "LayoutModel",
            "_view_count": null,
            "_view_module": "@jupyter-widgets/base",
            "_view_module_version": "1.2.0",
            "_view_name": "LayoutView",
            "align_content": null,
            "align_items": null,
            "align_self": null,
            "border": null,
            "bottom": null,
            "display": null,
            "flex": null,
            "flex_flow": null,
            "grid_area": null,
            "grid_auto_columns": null,
            "grid_auto_flow": null,
            "grid_auto_rows": null,
            "grid_column": null,
            "grid_gap": null,
            "grid_row": null,
            "grid_template_areas": null,
            "grid_template_columns": null,
            "grid_template_rows": null,
            "height": null,
            "justify_content": null,
            "justify_items": null,
            "left": null,
            "margin": null,
            "max_height": null,
            "max_width": null,
            "min_height": null,
            "min_width": null,
            "object_fit": null,
            "object_position": null,
            "order": null,
            "overflow": null,
            "overflow_x": null,
            "overflow_y": null,
            "padding": null,
            "right": null,
            "top": null,
            "visibility": null,
            "width": null
          }
        },
        "50634e2c10f442778860874742850748": {
          "model_module": "@jupyter-widgets/controls",
          "model_name": "ProgressStyleModel",
          "model_module_version": "1.5.0",
          "state": {
            "_model_module": "@jupyter-widgets/controls",
            "_model_module_version": "1.5.0",
            "_model_name": "ProgressStyleModel",
            "_view_count": null,
            "_view_module": "@jupyter-widgets/base",
            "_view_module_version": "1.2.0",
            "_view_name": "StyleView",
            "bar_color": null,
            "description_width": ""
          }
        },
        "b0916bfe5e8945c283f923b0742fdab3": {
          "model_module": "@jupyter-widgets/base",
          "model_name": "LayoutModel",
          "model_module_version": "1.2.0",
          "state": {
            "_model_module": "@jupyter-widgets/base",
            "_model_module_version": "1.2.0",
            "_model_name": "LayoutModel",
            "_view_count": null,
            "_view_module": "@jupyter-widgets/base",
            "_view_module_version": "1.2.0",
            "_view_name": "LayoutView",
            "align_content": null,
            "align_items": null,
            "align_self": null,
            "border": null,
            "bottom": null,
            "display": null,
            "flex": null,
            "flex_flow": null,
            "grid_area": null,
            "grid_auto_columns": null,
            "grid_auto_flow": null,
            "grid_auto_rows": null,
            "grid_column": null,
            "grid_gap": null,
            "grid_row": null,
            "grid_template_areas": null,
            "grid_template_columns": null,
            "grid_template_rows": null,
            "height": null,
            "justify_content": null,
            "justify_items": null,
            "left": null,
            "margin": null,
            "max_height": null,
            "max_width": null,
            "min_height": null,
            "min_width": null,
            "object_fit": null,
            "object_position": null,
            "order": null,
            "overflow": null,
            "overflow_x": null,
            "overflow_y": null,
            "padding": null,
            "right": null,
            "top": null,
            "visibility": null,
            "width": null
          }
        },
        "12bcaf7cfc2e4b89b44279d6015b5fcc": {
          "model_module": "@jupyter-widgets/controls",
          "model_name": "DescriptionStyleModel",
          "model_module_version": "1.5.0",
          "state": {
            "_model_module": "@jupyter-widgets/controls",
            "_model_module_version": "1.5.0",
            "_model_name": "DescriptionStyleModel",
            "_view_count": null,
            "_view_module": "@jupyter-widgets/base",
            "_view_module_version": "1.2.0",
            "_view_name": "StyleView",
            "description_width": ""
          }
        },
        "167c9fcf0df649acb72c69d72d445100": {
          "model_module": "@jupyter-widgets/controls",
          "model_name": "HBoxModel",
          "model_module_version": "1.5.0",
          "state": {
            "_dom_classes": [],
            "_model_module": "@jupyter-widgets/controls",
            "_model_module_version": "1.5.0",
            "_model_name": "HBoxModel",
            "_view_count": null,
            "_view_module": "@jupyter-widgets/controls",
            "_view_module_version": "1.5.0",
            "_view_name": "HBoxView",
            "box_style": "",
            "children": [
              "IPY_MODEL_6a7e94c85abc4981807f1de2a4ecc283",
              "IPY_MODEL_c99f2cd6c46444ba9f04a403414ea634",
              "IPY_MODEL_045bfbcf209b4fda9a7e345df57db5c1"
            ],
            "layout": "IPY_MODEL_6f6f9d9796e84a17910e35f6c6090881"
          }
        },
        "6a7e94c85abc4981807f1de2a4ecc283": {
          "model_module": "@jupyter-widgets/controls",
          "model_name": "HTMLModel",
          "model_module_version": "1.5.0",
          "state": {
            "_dom_classes": [],
            "_model_module": "@jupyter-widgets/controls",
            "_model_module_version": "1.5.0",
            "_model_name": "HTMLModel",
            "_view_count": null,
            "_view_module": "@jupyter-widgets/controls",
            "_view_module_version": "1.5.0",
            "_view_name": "HTMLView",
            "description": "",
            "description_tooltip": null,
            "layout": "IPY_MODEL_6147bf07259c433db21aade5e0705d18",
            "placeholder": "​",
            "style": "IPY_MODEL_9bd13c6d4ce943738291f52b25c398e3",
            "value": "100%"
          }
        },
        "c99f2cd6c46444ba9f04a403414ea634": {
          "model_module": "@jupyter-widgets/controls",
          "model_name": "FloatProgressModel",
          "model_module_version": "1.5.0",
          "state": {
            "_dom_classes": [],
            "_model_module": "@jupyter-widgets/controls",
            "_model_module_version": "1.5.0",
            "_model_name": "FloatProgressModel",
            "_view_count": null,
            "_view_module": "@jupyter-widgets/controls",
            "_view_module_version": "1.5.0",
            "_view_name": "ProgressView",
            "bar_style": "success",
            "description": "",
            "description_tooltip": null,
            "layout": "IPY_MODEL_1a2440f702f944f58b491f1e496985cf",
            "max": 100,
            "min": 0,
            "orientation": "horizontal",
            "style": "IPY_MODEL_69fee8ff6356489f842466e48d2b9ab8",
            "value": 100
          }
        },
        "045bfbcf209b4fda9a7e345df57db5c1": {
          "model_module": "@jupyter-widgets/controls",
          "model_name": "HTMLModel",
          "model_module_version": "1.5.0",
          "state": {
            "_dom_classes": [],
            "_model_module": "@jupyter-widgets/controls",
            "_model_module_version": "1.5.0",
            "_model_name": "HTMLModel",
            "_view_count": null,
            "_view_module": "@jupyter-widgets/controls",
            "_view_module_version": "1.5.0",
            "_view_name": "HTMLView",
            "description": "",
            "description_tooltip": null,
            "layout": "IPY_MODEL_353c8458dc094b6cbfb5441bb7e2a7d0",
            "placeholder": "​",
            "style": "IPY_MODEL_bb15f7beaac84651abbba79adddb3643",
            "value": " 100/100 [01:01&lt;00:00,  1.64it/s]"
          }
        },
        "6f6f9d9796e84a17910e35f6c6090881": {
          "model_module": "@jupyter-widgets/base",
          "model_name": "LayoutModel",
          "model_module_version": "1.2.0",
          "state": {
            "_model_module": "@jupyter-widgets/base",
            "_model_module_version": "1.2.0",
            "_model_name": "LayoutModel",
            "_view_count": null,
            "_view_module": "@jupyter-widgets/base",
            "_view_module_version": "1.2.0",
            "_view_name": "LayoutView",
            "align_content": null,
            "align_items": null,
            "align_self": null,
            "border": null,
            "bottom": null,
            "display": null,
            "flex": null,
            "flex_flow": null,
            "grid_area": null,
            "grid_auto_columns": null,
            "grid_auto_flow": null,
            "grid_auto_rows": null,
            "grid_column": null,
            "grid_gap": null,
            "grid_row": null,
            "grid_template_areas": null,
            "grid_template_columns": null,
            "grid_template_rows": null,
            "height": null,
            "justify_content": null,
            "justify_items": null,
            "left": null,
            "margin": null,
            "max_height": null,
            "max_width": null,
            "min_height": null,
            "min_width": null,
            "object_fit": null,
            "object_position": null,
            "order": null,
            "overflow": null,
            "overflow_x": null,
            "overflow_y": null,
            "padding": null,
            "right": null,
            "top": null,
            "visibility": null,
            "width": null
          }
        },
        "6147bf07259c433db21aade5e0705d18": {
          "model_module": "@jupyter-widgets/base",
          "model_name": "LayoutModel",
          "model_module_version": "1.2.0",
          "state": {
            "_model_module": "@jupyter-widgets/base",
            "_model_module_version": "1.2.0",
            "_model_name": "LayoutModel",
            "_view_count": null,
            "_view_module": "@jupyter-widgets/base",
            "_view_module_version": "1.2.0",
            "_view_name": "LayoutView",
            "align_content": null,
            "align_items": null,
            "align_self": null,
            "border": null,
            "bottom": null,
            "display": null,
            "flex": null,
            "flex_flow": null,
            "grid_area": null,
            "grid_auto_columns": null,
            "grid_auto_flow": null,
            "grid_auto_rows": null,
            "grid_column": null,
            "grid_gap": null,
            "grid_row": null,
            "grid_template_areas": null,
            "grid_template_columns": null,
            "grid_template_rows": null,
            "height": null,
            "justify_content": null,
            "justify_items": null,
            "left": null,
            "margin": null,
            "max_height": null,
            "max_width": null,
            "min_height": null,
            "min_width": null,
            "object_fit": null,
            "object_position": null,
            "order": null,
            "overflow": null,
            "overflow_x": null,
            "overflow_y": null,
            "padding": null,
            "right": null,
            "top": null,
            "visibility": null,
            "width": null
          }
        },
        "9bd13c6d4ce943738291f52b25c398e3": {
          "model_module": "@jupyter-widgets/controls",
          "model_name": "DescriptionStyleModel",
          "model_module_version": "1.5.0",
          "state": {
            "_model_module": "@jupyter-widgets/controls",
            "_model_module_version": "1.5.0",
            "_model_name": "DescriptionStyleModel",
            "_view_count": null,
            "_view_module": "@jupyter-widgets/base",
            "_view_module_version": "1.2.0",
            "_view_name": "StyleView",
            "description_width": ""
          }
        },
        "1a2440f702f944f58b491f1e496985cf": {
          "model_module": "@jupyter-widgets/base",
          "model_name": "LayoutModel",
          "model_module_version": "1.2.0",
          "state": {
            "_model_module": "@jupyter-widgets/base",
            "_model_module_version": "1.2.0",
            "_model_name": "LayoutModel",
            "_view_count": null,
            "_view_module": "@jupyter-widgets/base",
            "_view_module_version": "1.2.0",
            "_view_name": "LayoutView",
            "align_content": null,
            "align_items": null,
            "align_self": null,
            "border": null,
            "bottom": null,
            "display": null,
            "flex": null,
            "flex_flow": null,
            "grid_area": null,
            "grid_auto_columns": null,
            "grid_auto_flow": null,
            "grid_auto_rows": null,
            "grid_column": null,
            "grid_gap": null,
            "grid_row": null,
            "grid_template_areas": null,
            "grid_template_columns": null,
            "grid_template_rows": null,
            "height": null,
            "justify_content": null,
            "justify_items": null,
            "left": null,
            "margin": null,
            "max_height": null,
            "max_width": null,
            "min_height": null,
            "min_width": null,
            "object_fit": null,
            "object_position": null,
            "order": null,
            "overflow": null,
            "overflow_x": null,
            "overflow_y": null,
            "padding": null,
            "right": null,
            "top": null,
            "visibility": null,
            "width": null
          }
        },
        "69fee8ff6356489f842466e48d2b9ab8": {
          "model_module": "@jupyter-widgets/controls",
          "model_name": "ProgressStyleModel",
          "model_module_version": "1.5.0",
          "state": {
            "_model_module": "@jupyter-widgets/controls",
            "_model_module_version": "1.5.0",
            "_model_name": "ProgressStyleModel",
            "_view_count": null,
            "_view_module": "@jupyter-widgets/base",
            "_view_module_version": "1.2.0",
            "_view_name": "StyleView",
            "bar_color": null,
            "description_width": ""
          }
        },
        "353c8458dc094b6cbfb5441bb7e2a7d0": {
          "model_module": "@jupyter-widgets/base",
          "model_name": "LayoutModel",
          "model_module_version": "1.2.0",
          "state": {
            "_model_module": "@jupyter-widgets/base",
            "_model_module_version": "1.2.0",
            "_model_name": "LayoutModel",
            "_view_count": null,
            "_view_module": "@jupyter-widgets/base",
            "_view_module_version": "1.2.0",
            "_view_name": "LayoutView",
            "align_content": null,
            "align_items": null,
            "align_self": null,
            "border": null,
            "bottom": null,
            "display": null,
            "flex": null,
            "flex_flow": null,
            "grid_area": null,
            "grid_auto_columns": null,
            "grid_auto_flow": null,
            "grid_auto_rows": null,
            "grid_column": null,
            "grid_gap": null,
            "grid_row": null,
            "grid_template_areas": null,
            "grid_template_columns": null,
            "grid_template_rows": null,
            "height": null,
            "justify_content": null,
            "justify_items": null,
            "left": null,
            "margin": null,
            "max_height": null,
            "max_width": null,
            "min_height": null,
            "min_width": null,
            "object_fit": null,
            "object_position": null,
            "order": null,
            "overflow": null,
            "overflow_x": null,
            "overflow_y": null,
            "padding": null,
            "right": null,
            "top": null,
            "visibility": null,
            "width": null
          }
        },
        "bb15f7beaac84651abbba79adddb3643": {
          "model_module": "@jupyter-widgets/controls",
          "model_name": "DescriptionStyleModel",
          "model_module_version": "1.5.0",
          "state": {
            "_model_module": "@jupyter-widgets/controls",
            "_model_module_version": "1.5.0",
            "_model_name": "DescriptionStyleModel",
            "_view_count": null,
            "_view_module": "@jupyter-widgets/base",
            "_view_module_version": "1.2.0",
            "_view_name": "StyleView",
            "description_width": ""
          }
        },
        "111348ccf0a94b47b5c38a9d33294809": {
          "model_module": "@jupyter-widgets/controls",
          "model_name": "HBoxModel",
          "model_module_version": "1.5.0",
          "state": {
            "_dom_classes": [],
            "_model_module": "@jupyter-widgets/controls",
            "_model_module_version": "1.5.0",
            "_model_name": "HBoxModel",
            "_view_count": null,
            "_view_module": "@jupyter-widgets/controls",
            "_view_module_version": "1.5.0",
            "_view_name": "HBoxView",
            "box_style": "",
            "children": [
              "IPY_MODEL_42f4214fed424a84a4c296c1912b6d47",
              "IPY_MODEL_f484a1d241a44a42b23a1dfec8fd5a7c",
              "IPY_MODEL_c46d59e8b8d244898065487c1a62c7b0"
            ],
            "layout": "IPY_MODEL_d4399d196b404246a7f8cf8820bf11af"
          }
        },
        "42f4214fed424a84a4c296c1912b6d47": {
          "model_module": "@jupyter-widgets/controls",
          "model_name": "HTMLModel",
          "model_module_version": "1.5.0",
          "state": {
            "_dom_classes": [],
            "_model_module": "@jupyter-widgets/controls",
            "_model_module_version": "1.5.0",
            "_model_name": "HTMLModel",
            "_view_count": null,
            "_view_module": "@jupyter-widgets/controls",
            "_view_module_version": "1.5.0",
            "_view_name": "HTMLView",
            "description": "",
            "description_tooltip": null,
            "layout": "IPY_MODEL_8ba581db4dbb4635b4ec93fde27bff59",
            "placeholder": "​",
            "style": "IPY_MODEL_df4774de8ad046969aac6659ab10c13a",
            "value": "100%"
          }
        },
        "f484a1d241a44a42b23a1dfec8fd5a7c": {
          "model_module": "@jupyter-widgets/controls",
          "model_name": "FloatProgressModel",
          "model_module_version": "1.5.0",
          "state": {
            "_dom_classes": [],
            "_model_module": "@jupyter-widgets/controls",
            "_model_module_version": "1.5.0",
            "_model_name": "FloatProgressModel",
            "_view_count": null,
            "_view_module": "@jupyter-widgets/controls",
            "_view_module_version": "1.5.0",
            "_view_name": "ProgressView",
            "bar_style": "success",
            "description": "",
            "description_tooltip": null,
            "layout": "IPY_MODEL_6dda512995ad4e5e926144a8790d4e70",
            "max": 16,
            "min": 0,
            "orientation": "horizontal",
            "style": "IPY_MODEL_fa7b1b7958ac46f5837a0ad849de6f46",
            "value": 16
          }
        },
        "c46d59e8b8d244898065487c1a62c7b0": {
          "model_module": "@jupyter-widgets/controls",
          "model_name": "HTMLModel",
          "model_module_version": "1.5.0",
          "state": {
            "_dom_classes": [],
            "_model_module": "@jupyter-widgets/controls",
            "_model_module_version": "1.5.0",
            "_model_name": "HTMLModel",
            "_view_count": null,
            "_view_module": "@jupyter-widgets/controls",
            "_view_module_version": "1.5.0",
            "_view_name": "HTMLView",
            "description": "",
            "description_tooltip": null,
            "layout": "IPY_MODEL_a7a41ab8fbdc44b698253297117e2ff4",
            "placeholder": "​",
            "style": "IPY_MODEL_08eb37b9f88b4542aabe0d5d84715547",
            "value": " 16/16 [00:02&lt;00:00,  2.75it/s]"
          }
        },
        "d4399d196b404246a7f8cf8820bf11af": {
          "model_module": "@jupyter-widgets/base",
          "model_name": "LayoutModel",
          "model_module_version": "1.2.0",
          "state": {
            "_model_module": "@jupyter-widgets/base",
            "_model_module_version": "1.2.0",
            "_model_name": "LayoutModel",
            "_view_count": null,
            "_view_module": "@jupyter-widgets/base",
            "_view_module_version": "1.2.0",
            "_view_name": "LayoutView",
            "align_content": null,
            "align_items": null,
            "align_self": null,
            "border": null,
            "bottom": null,
            "display": null,
            "flex": null,
            "flex_flow": null,
            "grid_area": null,
            "grid_auto_columns": null,
            "grid_auto_flow": null,
            "grid_auto_rows": null,
            "grid_column": null,
            "grid_gap": null,
            "grid_row": null,
            "grid_template_areas": null,
            "grid_template_columns": null,
            "grid_template_rows": null,
            "height": null,
            "justify_content": null,
            "justify_items": null,
            "left": null,
            "margin": null,
            "max_height": null,
            "max_width": null,
            "min_height": null,
            "min_width": null,
            "object_fit": null,
            "object_position": null,
            "order": null,
            "overflow": null,
            "overflow_x": null,
            "overflow_y": null,
            "padding": null,
            "right": null,
            "top": null,
            "visibility": null,
            "width": null
          }
        },
        "8ba581db4dbb4635b4ec93fde27bff59": {
          "model_module": "@jupyter-widgets/base",
          "model_name": "LayoutModel",
          "model_module_version": "1.2.0",
          "state": {
            "_model_module": "@jupyter-widgets/base",
            "_model_module_version": "1.2.0",
            "_model_name": "LayoutModel",
            "_view_count": null,
            "_view_module": "@jupyter-widgets/base",
            "_view_module_version": "1.2.0",
            "_view_name": "LayoutView",
            "align_content": null,
            "align_items": null,
            "align_self": null,
            "border": null,
            "bottom": null,
            "display": null,
            "flex": null,
            "flex_flow": null,
            "grid_area": null,
            "grid_auto_columns": null,
            "grid_auto_flow": null,
            "grid_auto_rows": null,
            "grid_column": null,
            "grid_gap": null,
            "grid_row": null,
            "grid_template_areas": null,
            "grid_template_columns": null,
            "grid_template_rows": null,
            "height": null,
            "justify_content": null,
            "justify_items": null,
            "left": null,
            "margin": null,
            "max_height": null,
            "max_width": null,
            "min_height": null,
            "min_width": null,
            "object_fit": null,
            "object_position": null,
            "order": null,
            "overflow": null,
            "overflow_x": null,
            "overflow_y": null,
            "padding": null,
            "right": null,
            "top": null,
            "visibility": null,
            "width": null
          }
        },
        "df4774de8ad046969aac6659ab10c13a": {
          "model_module": "@jupyter-widgets/controls",
          "model_name": "DescriptionStyleModel",
          "model_module_version": "1.5.0",
          "state": {
            "_model_module": "@jupyter-widgets/controls",
            "_model_module_version": "1.5.0",
            "_model_name": "DescriptionStyleModel",
            "_view_count": null,
            "_view_module": "@jupyter-widgets/base",
            "_view_module_version": "1.2.0",
            "_view_name": "StyleView",
            "description_width": ""
          }
        },
        "6dda512995ad4e5e926144a8790d4e70": {
          "model_module": "@jupyter-widgets/base",
          "model_name": "LayoutModel",
          "model_module_version": "1.2.0",
          "state": {
            "_model_module": "@jupyter-widgets/base",
            "_model_module_version": "1.2.0",
            "_model_name": "LayoutModel",
            "_view_count": null,
            "_view_module": "@jupyter-widgets/base",
            "_view_module_version": "1.2.0",
            "_view_name": "LayoutView",
            "align_content": null,
            "align_items": null,
            "align_self": null,
            "border": null,
            "bottom": null,
            "display": null,
            "flex": null,
            "flex_flow": null,
            "grid_area": null,
            "grid_auto_columns": null,
            "grid_auto_flow": null,
            "grid_auto_rows": null,
            "grid_column": null,
            "grid_gap": null,
            "grid_row": null,
            "grid_template_areas": null,
            "grid_template_columns": null,
            "grid_template_rows": null,
            "height": null,
            "justify_content": null,
            "justify_items": null,
            "left": null,
            "margin": null,
            "max_height": null,
            "max_width": null,
            "min_height": null,
            "min_width": null,
            "object_fit": null,
            "object_position": null,
            "order": null,
            "overflow": null,
            "overflow_x": null,
            "overflow_y": null,
            "padding": null,
            "right": null,
            "top": null,
            "visibility": null,
            "width": null
          }
        },
        "fa7b1b7958ac46f5837a0ad849de6f46": {
          "model_module": "@jupyter-widgets/controls",
          "model_name": "ProgressStyleModel",
          "model_module_version": "1.5.0",
          "state": {
            "_model_module": "@jupyter-widgets/controls",
            "_model_module_version": "1.5.0",
            "_model_name": "ProgressStyleModel",
            "_view_count": null,
            "_view_module": "@jupyter-widgets/base",
            "_view_module_version": "1.2.0",
            "_view_name": "StyleView",
            "bar_color": null,
            "description_width": ""
          }
        },
        "a7a41ab8fbdc44b698253297117e2ff4": {
          "model_module": "@jupyter-widgets/base",
          "model_name": "LayoutModel",
          "model_module_version": "1.2.0",
          "state": {
            "_model_module": "@jupyter-widgets/base",
            "_model_module_version": "1.2.0",
            "_model_name": "LayoutModel",
            "_view_count": null,
            "_view_module": "@jupyter-widgets/base",
            "_view_module_version": "1.2.0",
            "_view_name": "LayoutView",
            "align_content": null,
            "align_items": null,
            "align_self": null,
            "border": null,
            "bottom": null,
            "display": null,
            "flex": null,
            "flex_flow": null,
            "grid_area": null,
            "grid_auto_columns": null,
            "grid_auto_flow": null,
            "grid_auto_rows": null,
            "grid_column": null,
            "grid_gap": null,
            "grid_row": null,
            "grid_template_areas": null,
            "grid_template_columns": null,
            "grid_template_rows": null,
            "height": null,
            "justify_content": null,
            "justify_items": null,
            "left": null,
            "margin": null,
            "max_height": null,
            "max_width": null,
            "min_height": null,
            "min_width": null,
            "object_fit": null,
            "object_position": null,
            "order": null,
            "overflow": null,
            "overflow_x": null,
            "overflow_y": null,
            "padding": null,
            "right": null,
            "top": null,
            "visibility": null,
            "width": null
          }
        },
        "08eb37b9f88b4542aabe0d5d84715547": {
          "model_module": "@jupyter-widgets/controls",
          "model_name": "DescriptionStyleModel",
          "model_module_version": "1.5.0",
          "state": {
            "_model_module": "@jupyter-widgets/controls",
            "_model_module_version": "1.5.0",
            "_model_name": "DescriptionStyleModel",
            "_view_count": null,
            "_view_module": "@jupyter-widgets/base",
            "_view_module_version": "1.2.0",
            "_view_name": "StyleView",
            "description_width": ""
          }
        }
      }
    },
    "accelerator": "GPU"
  },
  "nbformat": 4,
  "nbformat_minor": 0
}