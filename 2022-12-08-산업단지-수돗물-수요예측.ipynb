{
  "cells": [
    {
      "cell_type": "markdown",
      "metadata": {
        "id": "view-in-github",
        "colab_type": "text"
      },
      "source": [
        "<a href=\"https://colab.research.google.com/github/Jaesu26/aifactory-water-demand-forecasting/blob/main/2022-12-08-%EC%82%B0%EC%97%85%EB%8B%A8%EC%A7%80-%EC%88%98%EB%8F%97%EB%AC%BC-%EC%88%98%EC%9A%94%EC%98%88%EC%B8%A1.ipynb\" target=\"_parent\"><img src=\"https://colab.research.google.com/assets/colab-badge.svg\" alt=\"Open In Colab\"/></a>"
      ]
    },
    {
      "cell_type": "markdown",
      "metadata": {
        "id": "75xRhMA-ZZ4g"
      },
      "source": [
        "# [2022 제2회 K-water AI 경진대회] 수돗물 수요예측 AI 알고리즘 개발\n",
        "\n",
        "- [2022-Task 3] 4공단 : 경상북도 구미시 산동읍, 장천면, 양포동"
      ]
    },
    {
      "cell_type": "markdown",
      "metadata": {
        "id": "68xM6jF0ZchA"
      },
      "source": [
        "## 데이터 불러오기"
      ]
    },
    {
      "cell_type": "code",
      "execution_count": 1,
      "metadata": {
        "id": "zJnLWFhmMGG4"
      },
      "outputs": [],
      "source": [
        "import numpy as np\n",
        "import pandas as pd\n",
        "import seaborn as sns\n",
        "import matplotlib.pyplot as plt\n",
        "import warnings\n",
        "import pickle\n",
        "import random\n",
        "import math\n",
        "import os\n",
        "import gc\n",
        "\n",
        "import statsmodels.graphics.tsaplots as sgt\n",
        "\n",
        "from typing import List, Optional, Tuple, Union\n",
        "from numpy.typing import NDArray\n",
        "from easydict import EasyDict\n",
        "\n",
        "from tqdm.auto import tqdm\n",
        "from glob import glob\n",
        "\n",
        "warnings.filterwarnings('ignore') "
      ]
    },
    {
      "cell_type": "code",
      "execution_count": 2,
      "metadata": {
        "colab": {
          "base_uri": "https://localhost:8080/"
        },
        "id": "GjvmmVOVMW_P",
        "outputId": "97cc7294-c4d4-46d2-906e-685f43e06315"
      },
      "outputs": [
        {
          "output_type": "stream",
          "name": "stdout",
          "text": [
            "Mounted at /content/drive\n"
          ]
        }
      ],
      "source": [
        "from google.colab import drive\n",
        "\n",
        "drive.mount('/content/drive')  # 구글코랩과 구글드라이브 연결"
      ]
    },
    {
      "cell_type": "code",
      "execution_count": 3,
      "metadata": {
        "colab": {
          "base_uri": "https://localhost:8080/"
        },
        "id": "eVxuuFzhM72P",
        "outputId": "7cf296cb-0a71-4ab2-e8ae-f617cb8d6b2b"
      },
      "outputs": [
        {
          "output_type": "stream",
          "name": "stdout",
          "text": [
            "/content/drive/MyDrive/Colab Notebooks/산업단지-수돗물-수요예측\n"
          ]
        }
      ],
      "source": [
        "%cd  /content/drive/MyDrive/Colab Notebooks/산업단지-수돗물-수요예측"
      ]
    },
    {
      "cell_type": "markdown",
      "metadata": {
        "id": "MRrJ4A5RKC4B"
      },
      "source": [
        "- 데이터 불러오기"
      ]
    },
    {
      "cell_type": "code",
      "execution_count": 4,
      "metadata": {
        "id": "N7JdJZofCXED"
      },
      "outputs": [],
      "source": [
        "train_path = './data/data_tr_4dist.csv'\n",
        "test_path = './data/data_ts_4dist.csv'\n",
        "submission_path = './data/sample_4dist.csv'"
      ]
    },
    {
      "cell_type": "code",
      "execution_count": 5,
      "metadata": {
        "id": "dl5XJ4wb7joA"
      },
      "outputs": [],
      "source": [
        "df = pd.read_csv(train_path)\n",
        "test = pd.read_csv(test_path)\n",
        "submission = pd.read_csv(submission_path)"
      ]
    },
    {
      "cell_type": "code",
      "execution_count": 6,
      "metadata": {
        "id": "TOJPBmADOWLF"
      },
      "outputs": [],
      "source": [
        "# 변수 이름을 영문으로 변경\n",
        "df = df.rename(columns={'4단지배수지 공업 유출유량 적산차':'flow'})\n",
        "test = test.rename(columns={'4단지배수지 공업 유출유량 적산차':'flow'})\n",
        "\n",
        "\n",
        "# 날짜를 datetime 형식으로 변경\n",
        "df['datetime'] = pd.to_datetime(df['datetime'])\n",
        "test['datetime'] = pd.to_datetime(test['datetime'])\n",
        "submission['datetime'] = pd.to_datetime(submission['datetime'])"
      ]
    },
    {
      "cell_type": "code",
      "source": [
        "test2 = test.copy()"
      ],
      "metadata": {
        "id": "G-uMAmgBKe70"
      },
      "execution_count": 7,
      "outputs": []
    },
    {
      "cell_type": "markdown",
      "metadata": {
        "id": "II2XMQAVsAQt"
      },
      "source": [
        "- 가중치 저장폴더"
      ]
    },
    {
      "cell_type": "code",
      "execution_count": 8,
      "metadata": {
        "id": "YnpAfBHMsCb1"
      },
      "outputs": [],
      "source": [
        "def create_folder(path: str) -> None:\n",
        "    try:\n",
        "        if not os.path.exists(path):\n",
        "            os.makedirs(path)\n",
        "    except OSError as error:\n",
        "        print(error)"
      ]
    },
    {
      "cell_type": "markdown",
      "metadata": {
        "id": "S16IL8xJR81a"
      },
      "source": [
        "- 데이터 설명\n",
        "\n",
        "`-` 유량: 단위시간 당 얼마만큼의 체적에 해당하는 액체가 이동했는지 나타냄 ($m^3/h$)\n",
        "\n",
        "`-` 적산값: 1시간마다 측정한 값이 계속 누적 (i.g. $100 \\xrightarrow{~+170~} 270 \\xrightarrow{~+150~} 420 \\xrightarrow{~+110~} 530$)  \n",
        "\n",
        "`-` 적산차값: 적산의 매시간 차이를 계산 ($\\approx$ 시간 단위 공급량,$\\quad$ i.g. $\\operatorname{NA},170, 150, 110$)"
      ]
    },
    {
      "cell_type": "markdown",
      "metadata": {
        "id": "C_dKoED1K0go"
      },
      "source": [
        "## 전처리\n",
        "\n",
        "`-` 데이터는 항상 시간상의 순서대로 존재해야 한다\n",
        "\n",
        "`-` 데이터에서 특정 시점의 적산차값이 결측치일 수도 있지만 특정 시점 자체가 누락되면 안된다 \n",
        "\n",
        "`-` 그래프에 추세는 없어보인다\n",
        "\n",
        "`-` 데이터에 결측치가 존재한다\n",
        "\n",
        "`-` 결측치는 계절성을 고려하여 전날 같은 시각의 적산차값으로 채워주자\n",
        "\n",
        "`-` 이상치가 존재한다 (예컨대 음수 또는 매우 큰 양수)\n",
        "\n",
        "`-` 로그 변환\n",
        "\n",
        "`-` 후처리는 반올림"
      ]
    },
    {
      "cell_type": "markdown",
      "metadata": {
        "id": "n9adsWRfyT_Y"
      },
      "source": [
        "- 이상치와 결측치 처리"
      ]
    },
    {
      "cell_type": "code",
      "execution_count": 9,
      "metadata": {
        "colab": {
          "base_uri": "https://localhost:8080/",
          "height": 283
        },
        "id": "H8s8AF0SxyzB",
        "outputId": "93cd8a10-4021-4ee9-defd-369b9c75fd6a"
      },
      "outputs": [
        {
          "output_type": "execute_result",
          "data": {
            "text/plain": [
              "<matplotlib.axes._subplots.AxesSubplot at 0x7eff4c45a2b0>"
            ]
          },
          "metadata": {},
          "execution_count": 9
        },
        {
          "output_type": "display_data",
          "data": {
            "text/plain": [
              "<Figure size 432x288 with 1 Axes>"
            ],
            "image/png": "[encoded data removed]"
          },
          "metadata": {
            "needs_background": "light"
          }
        }
      ],
      "source": [
        "df.query('0 < flow < 1000').flow.plot.box()"
      ]
    },
    {
      "cell_type": "markdown",
      "metadata": {
        "id": "XOddn-B5Oq-c"
      },
      "source": [
        "`-` 1,000,000을 넘기는 매우 큰 값이 존재한다\n",
        "\n",
        "`-` 또한, 음수값도 존재하는데 이들은 모두 -1,000,000보다 작다\n",
        "\n",
        "`-` 위와 같은 경우는 계측기에 문제가 있는 것으로 보인다\n",
        "\n",
        "`-` 0인 경우도 존재한는데 계측기의 오류 또는 모종의 이유로 물이 흐르지 않은 것으로 보인다 (i.g. 배수지 청소로 인해 단수)\n",
        "\n",
        "`-` 이런 경우 적산차값만 사용해 예측하는 것은 불가능하므로 이상치로 처리하겠다  \n",
        "\n",
        "`-` 한편, 큰 양수의 경우 이상치의 기준은 1000을 넘지 않는 값 중 최댓값으로 하겠다 (위의 box-plot에 기반함)\n",
        "\n",
        "`-` 이상치와 결측치는 계절성을 고려하여 전날 같은 시각의 적산차값으로 대체하겠다"
      ]
    },
    {
      "cell_type": "code",
      "execution_count": 10,
      "metadata": {
        "id": "g8FoMs9hYhZA"
      },
      "outputs": [],
      "source": [
        "def fillna(time_series: pd.Series, m: int = 24) -> pd.Series:\n",
        "    \"\"\"m 시점 앞의 값으로 결측치를 재귀적으로 채우고 데이터를 반환\"\"\"\n",
        "    assert time_series.ndim == 1\n",
        "    time_series = time_series.copy()  # 원본이 변하지 않도록 복제 \n",
        "    na_idx = time_series[time_series.isnull()].index.values\n",
        "    fill_idx = na_idx - m  # m 시점 앞의 값으로 결측치를 채운다\n",
        "    fill_idx = np.where(fill_idx < 0, fill_idx + m, fill_idx)\n",
        "\n",
        "    if not na_idx.size:                  # 결측치가 존재하지 않으면 원본을 반환\n",
        "        return time_series\n",
        "    if np.in1d(fill_idx, na_idx).all():  # m 시점 앞의 값이 결측치면 원본을 반환\n",
        "        return time_series\n",
        "\n",
        "    time_series[na_idx] = time_series[fill_idx]\n",
        "    return fillna(time_series, m)"
      ]
    },
    {
      "cell_type": "code",
      "execution_count": 11,
      "metadata": {
        "id": "OCTJffl_zdp4"
      },
      "outputs": [],
      "source": [
        "# 이상치는 결측치로 처리한다\n",
        "tmp = df.flow[df.flow < 1000].max()\n",
        "df['flow'] = df['flow'].apply(lambda x: x if 0 < x <= tmp else np.nan)\n",
        "test2['flow'] = test2['flow'].apply(lambda x: x if 0 < x <= tmp else np.nan)"
      ]
    },
    {
      "cell_type": "code",
      "execution_count": 12,
      "metadata": {
        "id": "7FiEFzqFJmbQ"
      },
      "outputs": [],
      "source": [
        "# 결측치는 계절성을 고려하여 전날 같은 시각의 적산차값으로 채운다 \n",
        "df['flow'] = fillna(df['flow']).fillna(method='ffill').fillna(0)\n",
        "test2['flow'] = fillna(test2['flow']).fillna(method='ffill').fillna(0)"
      ]
    },
    {
      "cell_type": "markdown",
      "metadata": {
        "id": "bvB62nkihj3a"
      },
      "source": [
        "## 시각화"
      ]
    },
    {
      "cell_type": "code",
      "execution_count": 13,
      "metadata": {
        "id": "V0EIo2-sFMK9"
      },
      "outputs": [],
      "source": [
        "sns.set_theme(style='white')"
      ]
    },
    {
      "cell_type": "code",
      "source": [
        "# 연도별 적산차의 분포\n",
        "df.assign(year = df.datetime.dt.year).\\\n",
        "groupby('year').flow.describe()"
      ],
      "metadata": {
        "colab": {
          "base_uri": "https://localhost:8080/",
          "height": 206
        },
        "id": "FCT68mm7ibpI",
        "outputId": "fbb60150-6f30-4c83-804a-13762b34d2ec"
      },
      "execution_count": 14,
      "outputs": [
        {
          "output_type": "execute_result",
          "data": {
            "text/plain": [
              "       count        mean         std    min    25%    50%    75%    max\n",
              "year                                                                   \n",
              "2017  8759.0  634.430022  211.662095   19.0  458.0  612.0  828.0  999.0\n",
              "2018  8760.0  445.473528  116.198157  132.0  355.0  442.0  529.0  864.0\n",
              "2019  8760.0  441.700222  125.493928   74.0  352.0  442.0  523.0  998.0\n",
              "2020  8784.0  410.043183  119.617685   92.0  318.0  406.0  498.0  906.0"
            ],
            "text/html": [
              "\n",
              "  <div id=\"df-5d4a93b7-1213-443e-9f14-acfa9c069db5\">\n",
              "    <div class=\"colab-df-container\">\n",
              "      <div>\n",
              "<style scoped>\n",
              "    .dataframe tbody tr th:only-of-type {\n",
              "        vertical-align: middle;\n",
              "    }\n",
              "\n",
              "    .dataframe tbody tr th {\n",
              "        vertical-align: top;\n",
              "    }\n",
              "\n",
              "    .dataframe thead th {\n",
              "        text-align: right;\n",
              "    }\n",
              "</style>\n",
              "<table border=\"1\" class=\"dataframe\">\n",
              "  <thead>\n",
              "    <tr style=\"text-align: right;\">\n",
              "      <th></th>\n",
              "      <th>count</th>\n",
              "      <th>mean</th>\n",
              "      <th>std</th>\n",
              "      <th>min</th>\n",
              "      <th>25%</th>\n",
              "      <th>50%</th>\n",
              "      <th>75%</th>\n",
              "      <th>max</th>\n",
              "    </tr>\n",
              "    <tr>\n",
              "      <th>year</th>\n",
              "      <th></th>\n",
              "      <th></th>\n",
              "      <th></th>\n",
              "      <th></th>\n",
              "      <th></th>\n",
              "      <th></th>\n",
              "      <th></th>\n",
              "      <th></th>\n",
              "    </tr>\n",
              "  </thead>\n",
              "  <tbody>\n",
              "    <tr>\n",
              "      <th>2017</th>\n",
              "      <td>8759.0</td>\n",
              "      <td>634.430022</td>\n",
              "      <td>211.662095</td>\n",
              "      <td>19.0</td>\n",
              "      <td>458.0</td>\n",
              "      <td>612.0</td>\n",
              "      <td>828.0</td>\n",
              "      <td>999.0</td>\n",
              "    </tr>\n",
              "    <tr>\n",
              "      <th>2018</th>\n",
              "      <td>8760.0</td>\n",
              "      <td>445.473528</td>\n",
              "      <td>116.198157</td>\n",
              "      <td>132.0</td>\n",
              "      <td>355.0</td>\n",
              "      <td>442.0</td>\n",
              "      <td>529.0</td>\n",
              "      <td>864.0</td>\n",
              "    </tr>\n",
              "    <tr>\n",
              "      <th>2019</th>\n",
              "      <td>8760.0</td>\n",
              "      <td>441.700222</td>\n",
              "      <td>125.493928</td>\n",
              "      <td>74.0</td>\n",
              "      <td>352.0</td>\n",
              "      <td>442.0</td>\n",
              "      <td>523.0</td>\n",
              "      <td>998.0</td>\n",
              "    </tr>\n",
              "    <tr>\n",
              "      <th>2020</th>\n",
              "      <td>8784.0</td>\n",
              "      <td>410.043183</td>\n",
              "      <td>119.617685</td>\n",
              "      <td>92.0</td>\n",
              "      <td>318.0</td>\n",
              "      <td>406.0</td>\n",
              "      <td>498.0</td>\n",
              "      <td>906.0</td>\n",
              "    </tr>\n",
              "  </tbody>\n",
              "</table>\n",
              "</div>\n",
              "      <button class=\"colab-df-convert\" onclick=\"convertToInteractive('df-5d4a93b7-1213-443e-9f14-acfa9c069db5')\"\n",
              "              title=\"Convert this dataframe to an interactive table.\"\n",
              "              style=\"display:none;\">\n",
              "        \n",
              "  <svg xmlns=\"http://www.w3.org/2000/svg\" height=\"24px\"viewBox=\"0 0 24 24\"\n",
              "       width=\"24px\">\n",
              "    <path d=\"M0 0h24v24H0V0z\" fill=\"none\"/>\n",
              "    <path d=\"M18.56 5.44l.94 2.06.94-2.06 2.06-.94-2.06-.94-.94-2.06-.94 2.06-2.06.94zm-11 1L8.5 8.5l.94-2.06 2.06-.94-2.06-.94L8.5 2.5l-.94 2.06-2.06.94zm10 10l.94 2.06.94-2.06 2.06-.94-2.06-.94-.94-2.06-.94 2.06-2.06.94z\"/><path d=\"M17.41 7.96l-1.37-1.37c-.4-.4-.92-.59-1.43-.59-.52 0-1.04.2-1.43.59L10.3 9.45l-7.72 7.72c-.78.78-.78 2.05 0 2.83L4 21.41c.39.39.9.59 1.41.59.51 0 1.02-.2 1.41-.59l7.78-7.78 2.81-2.81c.8-.78.8-2.07 0-2.86zM5.41 20L4 18.59l7.72-7.72 1.47 1.35L5.41 20z\"/>\n",
              "  </svg>\n",
              "      </button>\n",
              "      \n",
              "  <style>\n",
              "    .colab-df-container {\n",
              "      display:flex;\n",
              "      flex-wrap:wrap;\n",
              "      gap: 12px;\n",
              "    }\n",
              "\n",
              "    .colab-df-convert {\n",
              "      background-color: #E8F0FE;\n",
              "      border: none;\n",
              "      border-radius: 50%;\n",
              "      cursor: pointer;\n",
              "      display: none;\n",
              "      fill: #1967D2;\n",
              "      height: 32px;\n",
              "      padding: 0 0 0 0;\n",
              "      width: 32px;\n",
              "    }\n",
              "\n",
              "    .colab-df-convert:hover {\n",
              "      background-color: #E2EBFA;\n",
              "      box-shadow: 0px 1px 2px rgba(60, 64, 67, 0.3), 0px 1px 3px 1px rgba(60, 64, 67, 0.15);\n",
              "      fill: #174EA6;\n",
              "    }\n",
              "\n",
              "    [theme=dark] .colab-df-convert {\n",
              "      background-color: #3B4455;\n",
              "      fill: #D2E3FC;\n",
              "    }\n",
              "\n",
              "    [theme=dark] .colab-df-convert:hover {\n",
              "      background-color: #434B5C;\n",
              "      box-shadow: 0px 1px 3px 1px rgba(0, 0, 0, 0.15);\n",
              "      filter: drop-shadow(0px 1px 2px rgba(0, 0, 0, 0.3));\n",
              "      fill: #FFFFFF;\n",
              "    }\n",
              "  </style>\n",
              "\n",
              "      <script>\n",
              "        const buttonEl =\n",
              "          document.querySelector('#df-5d4a93b7-1213-443e-9f14-acfa9c069db5 button.colab-df-convert');\n",
              "        buttonEl.style.display =\n",
              "          google.colab.kernel.accessAllowed ? 'block' : 'none';\n",
              "\n",
              "        async function convertToInteractive(key) {\n",
              "          const element = document.querySelector('#df-5d4a93b7-1213-443e-9f14-acfa9c069db5');\n",
              "          const dataTable =\n",
              "            await google.colab.kernel.invokeFunction('convertToInteractive',\n",
              "                                                     [key], {});\n",
              "          if (!dataTable) return;\n",
              "\n",
              "          const docLinkHtml = 'Like what you see? Visit the ' +\n",
              "            '<a target=\"_blank\" href=https://colab.research.google.com/notebooks/data_table.ipynb>data table notebook</a>'\n",
              "            + ' to learn more about interactive tables.';\n",
              "          element.innerHTML = '';\n",
              "          dataTable['output_type'] = 'display_data';\n",
              "          await google.colab.output.renderOutput(dataTable, element);\n",
              "          const docLink = document.createElement('div');\n",
              "          docLink.innerHTML = docLinkHtml;\n",
              "          element.appendChild(docLink);\n",
              "        }\n",
              "      </script>\n",
              "    </div>\n",
              "  </div>\n",
              "  "
            ]
          },
          "metadata": {},
          "execution_count": 14
        }
      ]
    },
    {
      "cell_type": "code",
      "execution_count": 15,
      "metadata": {
        "colab": {
          "base_uri": "https://localhost:8080/",
          "height": 324
        },
        "id": "l3eOIr0N2P6f",
        "outputId": "27fdb17c-136f-4f21-d99c-e36c911444e9"
      },
      "outputs": [
        {
          "output_type": "execute_result",
          "data": {
            "text/plain": [
              "<matplotlib.axes._subplots.AxesSubplot at 0x7eff4c7dcfd0>"
            ]
          },
          "metadata": {},
          "execution_count": 15
        },
        {
          "output_type": "display_data",
          "data": {
            "text/plain": [
              "<Figure size 432x288 with 1 Axes>"
            ],
            "image/png": "[encoded data removed]"
          },
          "metadata": {}
        }
      ],
      "source": [
        "# 연도별 적산차의 분포\n",
        "df.assign(year = df.datetime.dt.year).boxplot(column='flow', by='year', grid=False)"
      ]
    },
    {
      "cell_type": "markdown",
      "metadata": {
        "id": "aIipbcAj1tNG"
      },
      "source": [
        "`-` 적산차의 경우 2017년과 나머지 연도는 다른 분포를 띄고있다 (평균과 분산이 더 작아졌다)\n",
        "\n",
        "`-` 배수지를 신설한 듯 하다\n",
        "\n",
        "`-` 모델 훈련에 2017년 데이터를 사용하지 않는게 미래를 예측하는데 더 나을 수 있다"
      ]
    },
    {
      "cell_type": "code",
      "source": [
        "# 월별 적산차의 분포\n",
        "df.assign(month = df.datetime.dt.month).boxplot(column='flow', by='month', grid=False)"
      ],
      "metadata": {
        "colab": {
          "base_uri": "https://localhost:8080/",
          "height": 324
        },
        "id": "GlcUS87iVwOZ",
        "outputId": "e9bc1844-a047-4524-ca6b-f8e1ffc7f693"
      },
      "execution_count": 16,
      "outputs": [
        {
          "output_type": "execute_result",
          "data": {
            "text/plain": [
              "<matplotlib.axes._subplots.AxesSubplot at 0x7eff4bf66d30>"
            ]
          },
          "metadata": {},
          "execution_count": 16
        },
        {
          "output_type": "display_data",
          "data": {
            "text/plain": [
              "<Figure size 432x288 with 1 Axes>"
            ],
            "image/png": "[encoded data removed]"
          },
          "metadata": {}
        }
      ]
    },
    {
      "cell_type": "markdown",
      "source": [
        "`-` 9월의 수돗물 수요가 평균적으로 가장 많다"
      ],
      "metadata": {
        "id": "AfxB2IRCtT5r"
      }
    },
    {
      "cell_type": "code",
      "source": [
        "# 일별 적산차의 분포\n",
        "df.assign(day = df.datetime.dt.day).boxplot(column='flow', by='day', grid=False)"
      ],
      "metadata": {
        "colab": {
          "base_uri": "https://localhost:8080/",
          "height": 324
        },
        "id": "gkIS4wXcWelh",
        "outputId": "09c1713f-a0b7-476b-c969-b571520b6d40"
      },
      "execution_count": 17,
      "outputs": [
        {
          "output_type": "execute_result",
          "data": {
            "text/plain": [
              "<matplotlib.axes._subplots.AxesSubplot at 0x7eff4bfc8f70>"
            ]
          },
          "metadata": {},
          "execution_count": 17
        },
        {
          "output_type": "display_data",
          "data": {
            "text/plain": [
              "<Figure size 432x288 with 1 Axes>"
            ],
            "image/png": "[encoded data removed]"
          },
          "metadata": {}
        }
      ]
    },
    {
      "cell_type": "code",
      "source": [
        "# 시간별 적산차의 분포\n",
        "df.assign(hour = df.datetime.dt.hour).boxplot(column='flow', by='hour', grid=False)"
      ],
      "metadata": {
        "colab": {
          "base_uri": "https://localhost:8080/",
          "height": 324
        },
        "id": "F8UOXHCCWuNR",
        "outputId": "6213bf1b-9b3f-411e-b953-bdd7677593eb"
      },
      "execution_count": 18,
      "outputs": [
        {
          "output_type": "execute_result",
          "data": {
            "text/plain": [
              "<matplotlib.axes._subplots.AxesSubplot at 0x7eff4c029e50>"
            ]
          },
          "metadata": {},
          "execution_count": 18
        },
        {
          "output_type": "display_data",
          "data": {
            "text/plain": [
              "<Figure size 432x288 with 1 Axes>"
            ],
            "image/png": "[encoded data removed]"
          },
          "metadata": {}
        }
      ]
    },
    {
      "cell_type": "markdown",
      "source": [
        "`-` 적산차가 비슷하다"
      ],
      "metadata": {
        "id": "eyWBOHYTFtr0"
      }
    },
    {
      "cell_type": "code",
      "execution_count": 19,
      "metadata": {
        "colab": {
          "base_uri": "https://localhost:8080/",
          "height": 340
        },
        "id": "5lkHLhKReVPo",
        "outputId": "3c428b8e-6ec6-49da-85f5-541063c3fcdd"
      },
      "outputs": [
        {
          "output_type": "execute_result",
          "data": {
            "text/plain": [
              "<matplotlib.axes._subplots.AxesSubplot at 0x7eff4c0b4dc0>"
            ]
          },
          "metadata": {},
          "execution_count": 19
        },
        {
          "output_type": "display_data",
          "data": {
            "text/plain": [
              "<Figure size 864x360 with 1 Axes>"
            ],
            "image/png": "[encoded data removed]"
          },
          "metadata": {}
        }
      ],
      "source": [
        "fig, ax = plt.subplots(figsize=(12, 5))\n",
        "sns.lineplot(data=df['flow'], ax=ax)"
      ]
    },
    {
      "cell_type": "code",
      "execution_count": 20,
      "metadata": {
        "colab": {
          "base_uri": "https://localhost:8080/",
          "height": 501
        },
        "id": "z08EvLmvIJv5",
        "outputId": "cfb617c7-a44a-4d3c-a682-3813f8533fef"
      },
      "outputs": [
        {
          "output_type": "display_data",
          "data": {
            "text/plain": [
              "<Figure size 720x576 with 2 Axes>"
            ],
            "image/png": "[encoded data removed]"
          },
          "metadata": {}
        }
      ],
      "source": [
        "fig, (ax1, ax2) = plt.subplots(2, 1, figsize=(10, 8))\n",
        "sgt.plot_acf(df['flow'], lags = 100, ax=ax1);\n",
        "sgt.plot_pacf(df['flow'], lags = 100, ax=ax2);"
      ]
    },
    {
      "cell_type": "markdown",
      "metadata": {
        "id": "aQ0MbMTP593M"
      },
      "source": [
        "`-` 그래프에 2017년을 제외하면 추세는 존재하지 않고 강한 계절성이 존재한다\n",
        "\n",
        "`-` ACF, PACF의 정의에 따라 0시점 차이는 의미가 없으므로 무시한다\n",
        "\n",
        "`-` ACF가 천천히 감소하는 것으로 보아 확률적 계절성이 존재하며 그 계절성이 매우 강하다"
      ]
    },
    {
      "cell_type": "markdown",
      "source": [
        "## 딥러닝 모델 학습"
      ],
      "metadata": {
        "id": "pbnHw9XBQ-Qr"
      }
    },
    {
      "cell_type": "code",
      "execution_count": 21,
      "metadata": {
        "id": "wHqcoMavJK1Q"
      },
      "outputs": [],
      "source": [
        "!git clone https://github.com/ts-kim/RevIN.git"
      ]
    },
    {
      "cell_type": "code",
      "execution_count": 22,
      "metadata": {
        "id": "n8LBsMPybBJx"
      },
      "outputs": [],
      "source": [
        "import torch\n",
        "import torch.nn as nn\n",
        "import torch.optim as optim\n",
        "import torch.nn.functional as F\n",
        "from torch import Tensor\n",
        "from torch.utils.data import Dataset, DataLoader\n",
        "from torch.optim.lr_scheduler import _LRScheduler\n",
        "from torch.nn.modules.loss import _Loss\n",
        "from torch.optim import Optimizer\n",
        "from torch.autograd import Variable\n",
        "\n",
        "import sklearn\n",
        "from sklearn.preprocessing import MinMaxScaler\n",
        "from sklearn.metrics import mean_absolute_error, mean_squared_error\n",
        "\n",
        "from RevIN.RevIN import RevIN"
      ]
    },
    {
      "cell_type": "markdown",
      "source": [
        "- base score"
      ],
      "metadata": {
        "id": "bXB8fwZ1vxtA"
      }
    },
    {
      "cell_type": "code",
      "source": [
        "tmp = df['flow'].values\n",
        "m = 24\n",
        "mean_absolute_error(tmp[m:], tmp[:-m])"
      ],
      "metadata": {
        "colab": {
          "base_uri": "https://localhost:8080/"
        },
        "id": "NzeGxpivvhFJ",
        "outputId": "f0a74ac9-5680-4b4d-94f1-35b52e595146"
      },
      "execution_count": 23,
      "outputs": [
        {
          "output_type": "execute_result",
          "data": {
            "text/plain": [
              "118.35823675903993"
            ]
          },
          "metadata": {},
          "execution_count": 23
        }
      ]
    },
    {
      "cell_type": "code",
      "source": [
        "mean_absolute_error(df['flow'].values[m:], df['flow'].ewm(span=8).mean().values[:-m])"
      ],
      "metadata": {
        "colab": {
          "base_uri": "https://localhost:8080/"
        },
        "id": "RH1e5vC9wHx_",
        "outputId": "7f0c4e17-7cb6-407c-8a06-72548c5acfab"
      },
      "execution_count": 24,
      "outputs": [
        {
          "output_type": "execute_result",
          "data": {
            "text/plain": [
              "93.7231358094982"
            ]
          },
          "metadata": {},
          "execution_count": 24
        }
      ]
    },
    {
      "cell_type": "markdown",
      "metadata": {
        "id": "0k2BNfj7EAll"
      },
      "source": [
        "- 학습 방법\n",
        "\n",
        "`-` 336시간 분량의 데이터를 넣으면 그 다음부터 336시간을 생성하도록 학습시키겠다 "
      ]
    },
    {
      "cell_type": "markdown",
      "source": [
        "- 전처리"
      ],
      "metadata": {
        "id": "qU-JFQKOWKe_"
      }
    },
    {
      "cell_type": "code",
      "execution_count": 25,
      "metadata": {
        "id": "HGvNlbWPGnsq"
      },
      "outputs": [],
      "source": [
        "def ts_train2supervised(\n",
        "    ts: NDArray[np.float_], \n",
        "    window: int = 24,\n",
        "    gap: int = 1, \n",
        "    step: int = 336\n",
        ") -> Tuple[NDArray[np.float_], NDArray[np.float_]]:\n",
        "    assert ts.ndim == 2 and ts.shape[1] == 1\n",
        "    X, y = [], []\n",
        "    for t in range(len(ts) - (window+gap+step) + 2):\n",
        "        X.append(ts[t:t+window])\n",
        "        y.append(ts[t+window+gap-1 : t+window+gap+step-1])\n",
        "    X, y = np.array(X), np.array(y)  \n",
        "    return X, y"
      ]
    },
    {
      "cell_type": "markdown",
      "metadata": {
        "id": "ksSFOul4X4Kn"
      },
      "source": [
        "`-` 예측을 위해 train과 test를 병합 "
      ]
    },
    {
      "cell_type": "code",
      "execution_count": 26,
      "metadata": {
        "id": "7HYc-KVpX0df"
      },
      "outputs": [],
      "source": [
        "def ts_test2supervised(\n",
        "    ts: NDArray[np.float_], \n",
        "    window: int = 24\n",
        ") -> NDArray[np.float_]:\n",
        "    assert ts.ndim == 2 and ts.shape[1] == 1\n",
        "    X = []\n",
        "    for t in range(len(ts) - window + 1):\n",
        "        X.append(ts[t:t+window])\n",
        "    X = np.array(X)\n",
        "    return X"
      ]
    },
    {
      "cell_type": "markdown",
      "source": [
        "- 난수 고정, gpu 설정"
      ],
      "metadata": {
        "id": "vZNIkGjNWMMB"
      }
    },
    {
      "cell_type": "code",
      "execution_count": 28,
      "metadata": {
        "id": "v019psysRPs_"
      },
      "outputs": [],
      "source": [
        "def seed_everything(seed):\n",
        "    random.seed(seed)\n",
        "    os.environ['PYTHONHASHSEED'] = str(seed)\n",
        "    np.random.seed(seed)\n",
        "    torch.manual_seed(seed)\n",
        "    torch.cuda.manual_seed(seed)\n",
        "    torch.backends.cudnn.deterministic = True\n",
        "    torch.backends.cudnn.benchmark = False\n",
        "    torch.backends.cudnn.enabled = False  "
      ]
    },
    {
      "cell_type": "code",
      "execution_count": 29,
      "metadata": {
        "id": "pWvI00B4QjAw"
      },
      "outputs": [],
      "source": [
        "def clear_gpu() -> None:\n",
        "    gc.collect()\n",
        "    torch.cuda.empty_cache()"
      ]
    },
    {
      "cell_type": "code",
      "execution_count": 30,
      "metadata": {
        "colab": {
          "base_uri": "https://localhost:8080/"
        },
        "id": "NF4nZggTCFrk",
        "outputId": "6809c7f0-aa40-4195-a62b-4bd0df126f81"
      },
      "outputs": [
        {
          "output_type": "stream",
          "name": "stdout",
          "text": [
            "현재 device는 cuda입니다\n"
          ]
        }
      ],
      "source": [
        "DEVICE = torch.device('cuda' if torch.cuda.is_available() else 'cpu')\n",
        "print(f'현재 device는 {DEVICE}입니다')"
      ]
    },
    {
      "cell_type": "markdown",
      "metadata": {
        "id": "qDLcPXXlnMNp"
      },
      "source": [
        "- 피쳐 스케일링"
      ]
    },
    {
      "cell_type": "markdown",
      "metadata": {
        "id": "hTgXV10duoi9"
      },
      "source": [
        "`-` 0 ~ 1 사이로 정규화\n",
        "\n",
        "`-` 2017년은 빼고하는 것이 합리적이지만 2017년 데이터는 최댓값, 최솟값에 영향을 주지 않으므로 괜찮다"
      ]
    },
    {
      "cell_type": "code",
      "execution_count": 31,
      "metadata": {
        "id": "mzutTB9enN9p"
      },
      "outputs": [],
      "source": [
        "minmax_scaler = MinMaxScaler()\n",
        "flow_scaled = minmax_scaler.fit_transform(df['flow'].values.reshape(-1, 1))  \n",
        "flow_scaled_test = minmax_scaler.transform(test2['flow'].values.reshape(-1, 1))   "
      ]
    },
    {
      "cell_type": "markdown",
      "metadata": {
        "id": "wBTn29ty8G60"
      },
      "source": [
        "- 데이터 셋과 데이터 로더"
      ]
    },
    {
      "cell_type": "code",
      "execution_count": 32,
      "metadata": {
        "id": "h2fyJFdrkPMw"
      },
      "outputs": [],
      "source": [
        "class CustomDataset(Dataset):\n",
        "    def __init__(self, X: NDArray[np.float_], y: Optional[NDArray[np.float_]] = None) -> None:\n",
        "        super(CustomDataset, self).__init__()\n",
        "        self.X = X\n",
        "        self.y = y\n",
        "\n",
        "    def __getitem__(self, idx: int) -> Union[Tuple[Tensor, Tensor], Tensor]:\n",
        "        X = torch.FloatTensor(self.X[idx])\n",
        "        if self.y is not None:\n",
        "            y = torch.FloatTensor(self.y[idx])\n",
        "            return X, y\n",
        "        return X\n",
        "\n",
        "    def __len__(self) -> int:\n",
        "        return self.X.shape[0]"
      ]
    },
    {
      "cell_type": "code",
      "execution_count": 33,
      "metadata": {
        "id": "Sh9y6n1z8OAc"
      },
      "outputs": [],
      "source": [
        "def get_dataloader(\n",
        "    X: NDArray[np.float_], \n",
        "    y: Optional[NDArray[np.float_]] = None, \n",
        "    batch_size: int = 64, \n",
        "    shuffle: bool = True\n",
        ") -> DataLoader:\n",
        "    dataset = CustomDataset(X, y)    \n",
        "    dataloader = DataLoader(dataset, batch_size=batch_size, shuffle=shuffle)\n",
        "    return dataloader"
      ]
    },
    {
      "cell_type": "markdown",
      "metadata": {
        "id": "8Zcka8vB9vVd"
      },
      "source": [
        "- early stopping"
      ]
    },
    {
      "cell_type": "code",
      "execution_count": 34,
      "metadata": {
        "id": "GThXBWqi7NE1"
      },
      "outputs": [],
      "source": [
        "# ref: https://github.com/Bjarten/early-stopping-pytorch/blob/master/pytorchtools.py\n",
        "class EarlyStopping:\n",
        "    \"\"\"주어진 patience 횟수 이후로 validation score가 개선되지 않으면 학습을 조기 중단\"\"\"\n",
        "    mode_dict = {'min':-1, 'max':1}\n",
        "    score_metrics = [\n",
        "        'accuracy',\n",
        "        'f1_score',\n",
        "        'mae',\n",
        "    ]\n",
        "\n",
        "    def __init__(\n",
        "        self, \n",
        "        patience: int = 7, \n",
        "        monitor: str = 'loss', \n",
        "        mode: str = 'min', \n",
        "        min_delta: float = 0.0, \n",
        "        folder_path: str = './weights', \n",
        "        model_name: str = '',\n",
        "    ) -> None:\n",
        "        self.patience = patience\n",
        "        self.counter = 0\n",
        "        self.mode = mode\n",
        "        self.direction = self.mode_dict[mode]\n",
        "        self.monitor = monitor\n",
        "        self.best_score = -np.Inf\n",
        "        self.valid_loss = np.Inf\n",
        "        self.valid_metric_score = None  # 평가지표 (i.g. accuracy)\n",
        "        self.early_stop = False\n",
        "        self.min_delta = min_delta\n",
        "        self.folder_path = folder_path    \n",
        "        self.model_name = model_name\n",
        "        self.reset_fold()  # for k-fold cross validation\n",
        "\n",
        "    def __call__(\n",
        "        self, \n",
        "        model: nn.Module, \n",
        "        valid_loss: float, \n",
        "        valid_metric_score: Optional[float] = None\n",
        "    ) -> None:\n",
        "        # score는 클수록 좋다\n",
        "        if self.monitor == 'loss':\n",
        "            score = valid_loss * self.direction\n",
        "        elif self.monitor in self.score_metrics:\n",
        "            score = valid_metric_score * self.direction\n",
        "        else:\n",
        "            score = None\n",
        "\n",
        "        # score가 개선되었는지 확인\n",
        "        if score <= self.best_score + self.min_delta: \n",
        "            self.counter += 1 \n",
        "            if self.counter > self.patience:  # 만약 score가 개선되지 않은 에폭이 patience 횟수보다 크다면 조기 중단\n",
        "                self.early_stop = True\n",
        "        else: \n",
        "            self.best_score = score \n",
        "            self.save_checkpoint(model, valid_loss, valid_metric_score) \n",
        "            self.counter = 0  # score가 개선되었으므로 0으로 변경\n",
        "\n",
        "    def save_checkpoint(\n",
        "        self, \n",
        "        model: nn.Module, \n",
        "        valid_loss: float, \n",
        "        valid_metric_score: Optional[float] = None\n",
        "    ) -> None:\n",
        "        \"\"\"validation score가 개선되면 모델을 저장\"\"\"\n",
        "        torch.save(model.state_dict(), self.path) \n",
        "        self.valid_loss = valid_loss  # 모델이 더 좋게 갱신되었으므로 이때의 valid loss를 기준치로 변경\n",
        "        self.valid_metric_score = valid_metric_score  # 이때의 valid metric score도 변경\n",
        "\n",
        "    @property\n",
        "    def path(self) -> str:\n",
        "        return f'{self.folder_path}/{self.model_name}_best_{self.fold}.pt'\n",
        "\n",
        "    def reset_fold(self) -> None:\n",
        "        self.fold = 0\n",
        "\n",
        "    def update_fold(self) -> None:\n",
        "        self.fold += 1\n",
        "\n",
        "    def reset_score(self) -> None:\n",
        "        \"\"\"다음 fold 학습을 위해 score 관련 파라미터를 초기화\"\"\"\n",
        "        self.counter = 0\n",
        "        self.best_score = -np.Inf\n",
        "        self.valid_loss = np.Inf\n",
        "        self.valid_metric_score = None\n",
        "        self.early_stop = False"
      ]
    },
    {
      "cell_type": "markdown",
      "metadata": {
        "id": "Kd-RlDPrAvyT"
      },
      "source": [
        "- 손실 함수"
      ]
    },
    {
      "cell_type": "code",
      "execution_count": 35,
      "metadata": {
        "id": "PvuxFxaFAwwD"
      },
      "outputs": [],
      "source": [
        "loss_fn = nn.L1Loss()"
      ]
    },
    {
      "cell_type": "markdown",
      "source": [
        "- 학습 및 검증"
      ],
      "metadata": {
        "id": "ixIZ19boV4tq"
      }
    },
    {
      "cell_type": "code",
      "execution_count": 36,
      "metadata": {
        "id": "3TYzo_fJAdd0"
      },
      "outputs": [],
      "source": [
        "def train(\n",
        "    model: nn.Module,\n",
        "    dataloader: DataLoader, \n",
        "    device: torch.device,\n",
        "    args: EasyDict,\n",
        "    loss_fn: _Loss, \n",
        "    optimizer: Optimizer, \n",
        "    scheduler: Optional[_LRScheduler] = None\n",
        ") -> Tuple[nn.Module, float]:\n",
        "    \"\"\"dataloader의 데이터로 모델을 학습시킨 후 학습된 모델과 평균 배치 훈련 오차를 반환\"\"\"  \n",
        "    train_loss = 0.0\n",
        "    model.to(device)\n",
        "    model.train()\n",
        "    scaler = torch.cuda.amp.GradScaler()\n",
        "\n",
        "    for X, y in dataloader:  \n",
        "        X, y = X.to(device), y.to(device) \n",
        "        with torch.cuda.amp.autocast():\n",
        "            y_hat = model(X)\n",
        "            loss = loss_fn(y_hat, y)  \n",
        "\n",
        "        optimizer.zero_grad()  \n",
        "        scaler.scale(loss).backward()\n",
        "        scaler.unscale_(optimizer)\n",
        "        torch.nn.utils.clip_grad_norm_(model.parameters(), max_norm=args.max_norm)\n",
        "        scaler.step(optimizer)\n",
        "        scaler.update()\n",
        "        train_loss += (loss.item() / len(dataloader)) \n",
        "  \n",
        "    # 에폭마다 학습률 조절\n",
        "    if scheduler is not None:\n",
        "        scheduler.step()\n",
        "        \n",
        "    return model, train_loss"
      ]
    },
    {
      "cell_type": "code",
      "execution_count": 37,
      "metadata": {
        "id": "fVZDILgmAnfl"
      },
      "outputs": [],
      "source": [
        "def evaluate(\n",
        "    model: nn.Module, \n",
        "    dataloader: DataLoader, \n",
        "    device: torch.device,\n",
        "    args: EasyDict,\n",
        "    loss_fn: _Loss\n",
        ") -> Tuple[float, float]:\n",
        "    \"\"\"dataloader의 데이터를 모델이 평가한 후 평균 배치 검증 오차와 ACD f1 score를 반환\"\"\"\n",
        "    valid_loss = 0.0\n",
        "    y_list, yhat_list = np.array([]).reshape(0, args.num_classes), np.array([]).reshape(0, args.num_classes)\n",
        "    model.to(device)\n",
        "    model.eval()  \n",
        "\n",
        "    with torch.no_grad():  \n",
        "        for X, y in dataloader:  \n",
        "            X, y = X.to(device), y.to(device) \n",
        "            with torch.cuda.amp.autocast():\n",
        "                y_hat = model(X)\n",
        "                loss = loss_fn(y_hat, y)  \n",
        "                \n",
        "            y = y.detach().cpu().numpy()  # y shape: (B, 336)\n",
        "            y_hat = y_hat.detach().cpu().numpy()  # yhat shape: (B, 336)\n",
        "            y_list = np.concatenate([y_list, minmax_scaler.inverse_transform(y)])\n",
        "            yhat_list = np.concatenate([yhat_list, minmax_scaler.inverse_transform(y_hat)])\n",
        "            valid_loss += (loss.item() / len(dataloader))\n",
        "\n",
        "    valid_mae = mean_absolute_error(y_list, yhat_list)        \n",
        "    return valid_loss, valid_mae"
      ]
    },
    {
      "cell_type": "code",
      "execution_count": 38,
      "metadata": {
        "id": "aqXGOMVTAp0V"
      },
      "outputs": [],
      "source": [
        "def holdout_validate(\n",
        "    model: nn.Module, \n",
        "    X_train: NDArray[np.float_],\n",
        "    y_train: NDArray[np.float_],\n",
        "    X_val: NDArray[np.float_],\n",
        "    y_val: NDArray[np.float_],\n",
        "    loss_fn: _Loss, \n",
        "    early_stopping: EarlyStopping,\n",
        "    device: torch.device,\n",
        "    args: EasyDict \n",
        ") -> Tuple[nn.Module, List[List[float]], List[List[float]]]:\n",
        "    \"\"\"K겹 교차검증을 통해 모델의 성능을 평가하고 학습된 모델과 폴드별 훈련 손실, 검증 손실을 반환\"\"\"\n",
        "    seed_everything(args.seed)  # 정확한 재현을 위함\n",
        "    fold_valid_loss = []   # 폴드별 best 검증 손실\n",
        "    fold_train_losses_per_epoch = [[]]  # 폴드별 1 에폭에 따른 훈련 배치 손실\n",
        "    fold_valid_losses_per_epoch = [[]]  # 폴드별 1 에폭에 따른 검증 배치 손실\n",
        "    early_stopping.reset_fold()  # fold 초기화\n",
        "\n",
        "    print(f'[1 / 1] Fold Training......')\n",
        "\n",
        "    # 메모리 절약\n",
        "    clear_gpu()\n",
        "\n",
        "    # Dataloader\n",
        "    train_dataloader = get_dataloader(X_train, y_train, args.bs)\n",
        "    valid_dataloader = get_dataloader(X_val, y_val, args.bs, shuffle=False)\n",
        "\n",
        "    # optimizer\n",
        "    optimizer = optim.AdamW(model.parameters(), lr=args.lr, weight_decay=args.weight_decay) \n",
        "\n",
        "    # scheduler\n",
        "    scheduler = optim.lr_scheduler.ExponentialLR(optimizer, gamma=0.95)\n",
        "\n",
        "    # early stopping, 다음 폴드 학습을 위해 score 관련 파라미터 초기화\n",
        "    early_stopping.reset_score()\n",
        "    early_stopping.update_fold()  \n",
        "    \n",
        "    # 폴드마다 모델 학습\n",
        "    for epoch in tqdm(range(1, args.num_epochs+1)):  # (배치사이즈 X 에폭) 만큼 훈련시킴           \n",
        "        model, train_loss = train(model, train_dataloader, device, args, loss_fn, optimizer, scheduler)  # 모델 학습\n",
        "        valid_loss, valid_mae = evaluate(model, valid_dataloader, device, args, loss_fn)  # 모델 평가\n",
        "        fold_train_losses_per_epoch[0].append(train_loss) \n",
        "        fold_valid_losses_per_epoch[0].append(valid_loss)  \n",
        "\n",
        "        print_score_condition = (epoch == 1 or epoch % 5 == 0 or epoch == args.num_epochs)  \n",
        "        score_information = f'[Epoch: {epoch:>2}]  train loss = {train_loss:.5f}  valid loss = {valid_loss:.5f}  valid MAE = {valid_mae:.5f}'\n",
        "\n",
        "        # 평균 배치 훈련 오차와 검증 오차 출력\n",
        "        if print_score_condition:  \n",
        "            print(score_information)  \n",
        "            \n",
        "        # 에폭마다 early stopping 실행\n",
        "        early_stopping(model, valid_loss, valid_mae)  \n",
        "        if early_stopping.early_stop: \n",
        "            if not print_score_condition:  # 이미 출력한 에폭에 대해 중복으로 출력하지 않기 위함\n",
        "                print(score_information) \n",
        "            print('Early Stopping!')\n",
        "            break \n",
        "\n",
        "    fold_valid_loss.append(early_stopping.valid_loss)  # 폴드별 best 검증 손실\n",
        "      \n",
        "    # 폴드별 학습 및 검증 종료시 best 검증 손실을 출력\n",
        "    print(f'1 Fold -> Valid Loss: {early_stopping.valid_loss:.5f}  Valid MAE: {early_stopping.valid_metric_score:.5f}')\n",
        "    return model, fold_train_losses_per_epoch, fold_valid_losses_per_epoch"
      ]
    },
    {
      "cell_type": "markdown",
      "metadata": {
        "id": "pWYLU7_oUqRA"
      },
      "source": [
        "- 에폭에 따른 손실의 변화"
      ]
    },
    {
      "cell_type": "code",
      "execution_count": 39,
      "metadata": {
        "id": "FbH8KhGHTVgA"
      },
      "outputs": [],
      "source": [
        "def show_loss_plot(\n",
        "    fold_train_losses: List[List[float]],\n",
        "    fold_valid_losses: List[List[float]]\n",
        ") -> None:\n",
        "    \"\"\"폴드별로 에폭에 따른 모델의 훈련 손실과 검증 손실의 변화를 시각화\"\"\"\n",
        "    assert len(fold_train_losses) == len(fold_valid_losses)\n",
        "    num_folds = len(fold_train_losses)\n",
        "    ncols = 3\n",
        "    nrows = 1 + (num_folds - 1)//ncols\n",
        "    fig, axes = plt.subplots(nrows, ncols, figsize=(ncols*4, nrows*4)) \n",
        "\n",
        "    # 폴드마다 에폭에 따른 훈련 손실과 검증 손실의 변화를 시각화\n",
        "    for fold, (ax, train_losses, valid_losses) in enumerate(zip(axes.flatten(), fold_train_losses, fold_valid_losses), start=1):\n",
        "        assert len(train_losses) == len(valid_losses) \n",
        "        if fold > num_folds:\n",
        "            break\n",
        "\n",
        "        num_epochs = len(train_losses)\n",
        "        ax.set_title(f'{fold} Fold')\n",
        "        ax.plot(range(1, num_epochs+1), train_losses, label='Train')\n",
        "        ax.plot(range(1, num_epochs+1), valid_losses, label='Valid')\n",
        "        ax.set_xlabel('Epoch')\n",
        "        ax.set_ylabel('Loss')\n",
        "        ax.legend()\n",
        "\n",
        "    fig.suptitle('Train Loss and Valid Loss', x=0.51, y=1.05, fontsize=15)\n",
        "    fig.tight_layout()\n",
        "\n",
        "    # 남는 서브 플랏 제거\n",
        "    for ax in axes.flatten():\n",
        "        if not ax.has_data():\n",
        "            fig.delaxes(ax)"
      ]
    },
    {
      "cell_type": "markdown",
      "source": [
        "- Test 예측"
      ],
      "metadata": {
        "id": "czEnyW8-RuuB"
      }
    },
    {
      "cell_type": "code",
      "execution_count": 40,
      "metadata": {
        "id": "QYwPFyu3jq2X"
      },
      "outputs": [],
      "source": [
        "def predict(\n",
        "    model: nn.Module, \n",
        "    X: NDArray[np.float_],\n",
        "    device: torch.device,\n",
        "    args: EasyDict\n",
        ") -> Tensor:   \n",
        "    weight_paths = glob(args.weight_folder_path + '/*.pt')\n",
        "    dataloader = get_dataloader(X, shuffle=False)\n",
        "    test_preds = torch.zeros(len(dataloader.dataset), args.num_classes)  \n",
        "    num_folds = len([weight_path for weight_path in weight_paths if args.model_name in weight_path])\n",
        "     \n",
        "    for weight_path in tqdm(weight_paths):\n",
        "        if args.model_name not in weight_path:\n",
        "            continue\n",
        "            \n",
        "        preds = np.array([]).reshape(0, args.num_classes)\n",
        "        model.load_state_dict(torch.load(weight_path, map_location=device))\n",
        "        model.to(device)\n",
        "        model.eval()\n",
        "\n",
        "        with torch.no_grad(): \n",
        "            for X in dataloader:  # test 데이터는 라벨(y)이 없다\n",
        "                X = X.to(device)  # shape of X: (Batch, Sequence, Feature)\n",
        "                y_hat = model(X).detach().cpu().numpy()  # shape of yhat: (Batch, Class)\n",
        "                preds = np.concatenate([preds, y_hat]) \n",
        "\n",
        "        test_preds += (preds / num_folds) \n",
        "    return test_preds     "
      ]
    },
    {
      "cell_type": "markdown",
      "source": [
        "- 후처리\n",
        "\n",
        "`-` 훈련 데이터를 보면 적산차값이 모두 정수형이다\n",
        "\n",
        "`-` 예측값도 반올림하여 정수로 만들어주겠다\n",
        "\n",
        "`-` 최솟값과 최댓값을 제한"
      ],
      "metadata": {
        "id": "32lGyi98VsOE"
      }
    },
    {
      "cell_type": "code",
      "source": [
        "MAX = df['flow'].values.max()\n",
        "MIN = df['flow'].values.min()"
      ],
      "metadata": {
        "id": "XtkEbf0aXVrA"
      },
      "execution_count": 41,
      "outputs": []
    },
    {
      "cell_type": "code",
      "source": [
        "def postprocessing(pred: NDArray[np.float_], minimum: float, maximum: float) -> NDArray[np.float_]:\n",
        "    pred = np.clip(pred, minimum, maximum)\n",
        "    pred = np.round(pred)\n",
        "    return pred"
      ],
      "metadata": {
        "id": "ljuUBoGLWb0G"
      },
      "execution_count": 42,
      "outputs": []
    },
    {
      "cell_type": "markdown",
      "metadata": {
        "id": "LgkTD-g3WHrB"
      },
      "source": [
        "### SCI Net 모델 학습"
      ]
    },
    {
      "cell_type": "markdown",
      "metadata": {
        "id": "eIJ2BlapnPXm"
      },
      "source": [
        "#### 모델 학습 준비"
      ]
    },
    {
      "cell_type": "code",
      "execution_count": 56,
      "metadata": {
        "id": "ZelBODt_nR2W"
      },
      "outputs": [],
      "source": [
        "sci_args = EasyDict({\n",
        "    'weight_folder_path':'./weights',\n",
        "    'model_name':'sci',\n",
        "    'window':96,\n",
        "    'gap':1,\n",
        "    'num_classes':336,\n",
        "    'num_epochs':60,\n",
        "    'bs':64,\n",
        "    'lr':2e-4,\n",
        "    'lr_gamma':0.97,\n",
        "    'weight_decay':1e-2,\n",
        "    'max_norm':1.0,\n",
        "    'seed':2022,\n",
        "})"
      ]
    },
    {
      "cell_type": "code",
      "source": [
        "fold = 5\n",
        "\n",
        "Xs, ys = ts_train2supervised(flow_scaled, window=sci_args.window, gap=sci_args.gap, step=sci_args.num_classes)  # s == scaled\n",
        "Xs, ys = Xs[24*365:], ys[24*365:]  # 2017년 제거\n",
        "ys = ys.squeeze(2)\n",
        "\n",
        "Xs_train, ys_train = Xs[:-(Xs.shape[0]//fold)], ys[:-(ys.shape[0]//fold)] \n",
        "Xs_val, ys_val = Xs[-(Xs.shape[0]//fold):], ys[-(ys.shape[0]//fold):]"
      ],
      "metadata": {
        "id": "ILru_SvKvQAX"
      },
      "execution_count": 57,
      "outputs": []
    },
    {
      "cell_type": "code",
      "execution_count": 58,
      "metadata": {
        "id": "Ac6jf_elcyAl"
      },
      "outputs": [],
      "source": [
        "early_stopping = EarlyStopping(patience=10,\n",
        "                               monitor='mae',\n",
        "                               mode='min',\n",
        "                               folder_path=sci_args.weight_folder_path,\n",
        "                               model_name=sci_args.model_name)"
      ]
    },
    {
      "cell_type": "code",
      "execution_count": 49,
      "metadata": {
        "id": "hZOu5RQjjvSh"
      },
      "outputs": [],
      "source": [
        "# https://github.com/ts-kim/RevIN/blob/master/baselines/SCINet/models/SCINet.py\n",
        "# Copyright (c) 2022 Electronics and Telecommunications Research Institute (ETRI) \n",
        "class Splitting(nn.Module):\n",
        "    def __init__(self):\n",
        "        super(Splitting, self).__init__()\n",
        "\n",
        "    def even(self, x):\n",
        "        return x[:, ::2, :]\n",
        "\n",
        "    def odd(self, x):\n",
        "        return x[:, 1::2, :]\n",
        "\n",
        "    def forward(self, x):\n",
        "        \"\"\"Returns the odd and even part\"\"\"\n",
        "        return (self.even(x), self.odd(x))\n",
        "\n",
        "\n",
        "class Interactor(nn.Module):\n",
        "    def __init__(self, in_planes, splitting=True,\n",
        "                 kernel=5, dropout=0.5, groups=1, hidden_size=1, INN=True):\n",
        "        super(Interactor, self).__init__()\n",
        "        self.modified = INN\n",
        "        self.kernel_size = kernel\n",
        "        self.dilation = 1\n",
        "        self.dropout = dropout\n",
        "        self.hidden_size = hidden_size\n",
        "        self.groups = groups\n",
        "\n",
        "        if self.kernel_size % 2 == 0:\n",
        "            pad_l = self.dilation * (self.kernel_size - 2) // 2 + 1  # by default: stride==1 \n",
        "            pad_r = self.dilation * (self.kernel_size) // 2 + 1  # by default: stride==1 \n",
        "        else:\n",
        "            pad_l = self.dilation * (self.kernel_size - 1) // 2 + 1  # we fix the kernel size of the second layer as 3.\n",
        "            pad_r = self.dilation * (self.kernel_size - 1) // 2 + 1\n",
        "\n",
        "        self.splitting = splitting\n",
        "        self.split = Splitting()\n",
        "\n",
        "        modules_P = []\n",
        "        modules_U = []\n",
        "        modules_psi = []\n",
        "        modules_phi = []\n",
        "        prev_size = 1\n",
        "\n",
        "        size_hidden = self.hidden_size\n",
        "        modules_P += [\n",
        "            nn.ReplicationPad1d((pad_l, pad_r)),\n",
        "\n",
        "            nn.Conv1d(in_planes * prev_size, int(in_planes * size_hidden),\n",
        "                      kernel_size=self.kernel_size, dilation=self.dilation, stride=1, groups=self.groups),\n",
        "            nn.LeakyReLU(negative_slope=0.01, inplace=True),\n",
        "\n",
        "            nn.Dropout(self.dropout),\n",
        "            nn.Conv1d(int(in_planes * size_hidden), in_planes,\n",
        "                      kernel_size=3, stride=1, groups=self.groups),\n",
        "            nn.Tanh()\n",
        "        ]\n",
        "        modules_U += [\n",
        "            nn.ReplicationPad1d((pad_l, pad_r)),\n",
        "            nn.Conv1d(in_planes * prev_size, int(in_planes * size_hidden),\n",
        "                      kernel_size=self.kernel_size, dilation=self.dilation, stride=1, groups=self.groups),\n",
        "            nn.LeakyReLU(negative_slope=0.01, inplace=True),\n",
        "            nn.Dropout(self.dropout),\n",
        "            nn.Conv1d(int(in_planes * size_hidden), in_planes,\n",
        "                      kernel_size=3, stride=1, groups=self.groups),\n",
        "            nn.Tanh()\n",
        "        ]\n",
        "\n",
        "        modules_phi += [\n",
        "            nn.ReplicationPad1d((pad_l, pad_r)),\n",
        "            nn.Conv1d(in_planes * prev_size, int(in_planes * size_hidden),\n",
        "                      kernel_size=self.kernel_size, dilation=self.dilation, stride=1, groups=self.groups),\n",
        "            nn.LeakyReLU(negative_slope=0.01, inplace=True),\n",
        "            nn.Dropout(self.dropout),\n",
        "            nn.Conv1d(int(in_planes * size_hidden), in_planes,\n",
        "                      kernel_size=3, stride=1, groups=self.groups),\n",
        "            nn.Tanh()\n",
        "        ]\n",
        "        modules_psi += [\n",
        "            nn.ReplicationPad1d((pad_l, pad_r)),\n",
        "            nn.Conv1d(in_planes * prev_size, int(in_planes * size_hidden),\n",
        "                      kernel_size=self.kernel_size, dilation=self.dilation, stride=1, groups=self.groups),\n",
        "            nn.LeakyReLU(negative_slope=0.01, inplace=True),\n",
        "            nn.Dropout(self.dropout),\n",
        "            nn.Conv1d(int(in_planes * size_hidden), in_planes,\n",
        "                      kernel_size=3, stride=1, groups=self.groups),\n",
        "            nn.Tanh()\n",
        "        ]\n",
        "        self.phi = nn.Sequential(*modules_phi)\n",
        "        self.psi = nn.Sequential(*modules_psi)\n",
        "        self.P = nn.Sequential(*modules_P)\n",
        "        self.U = nn.Sequential(*modules_U)\n",
        "\n",
        "    def forward(self, x):\n",
        "        if self.splitting:\n",
        "            (x_even, x_odd) = self.split(x)\n",
        "        else:\n",
        "            (x_even, x_odd) = x\n",
        "\n",
        "        if self.modified:\n",
        "            x_even = x_even.permute(0, 2, 1)\n",
        "            x_odd = x_odd.permute(0, 2, 1)\n",
        "\n",
        "            d = x_odd.mul(torch.exp(self.phi(x_even)))\n",
        "            c = x_even.mul(torch.exp(self.psi(x_odd)))\n",
        "\n",
        "            x_even_update = c + self.U(d)\n",
        "            x_odd_update = d - self.P(c)\n",
        "            return (x_even_update, x_odd_update)\n",
        "        else:\n",
        "            x_even = x_even.permute(0, 2, 1)\n",
        "            x_odd = x_odd.permute(0, 2, 1)\n",
        "\n",
        "            d = x_odd - self.P(x_even)\n",
        "            c = x_even + self.U(d)\n",
        "            return (c, d)\n",
        "\n",
        "\n",
        "class InteractorLevel(nn.Module):\n",
        "    def __init__(self, in_planes, kernel, dropout, groups , hidden_size, INN):\n",
        "        super(InteractorLevel, self).__init__()\n",
        "        self.level = Interactor(in_planes=in_planes, splitting=True,\n",
        "                 kernel=kernel, dropout=dropout, groups=groups, hidden_size=hidden_size, INN=INN)\n",
        "\n",
        "    def forward(self, x):\n",
        "        (x_even_update, x_odd_update) = self.level(x)\n",
        "        return (x_even_update, x_odd_update)\n",
        "\n",
        "class LevelSCINet(nn.Module):\n",
        "    def __init__(self,in_planes, kernel_size, dropout, groups, hidden_size, INN):\n",
        "        super(LevelSCINet, self).__init__()\n",
        "        self.interact = InteractorLevel(in_planes=in_planes, kernel=kernel_size, dropout=dropout, groups=groups , hidden_size=hidden_size, INN=INN)\n",
        "\n",
        "    def forward(self, x):\n",
        "        (x_even_update, x_odd_update) = self.interact(x)\n",
        "        return x_even_update.permute(0, 2, 1), x_odd_update.permute(0, 2, 1) #even: B, T, D odd: B, T, D\n",
        "\n",
        "class SCINet_Tree(nn.Module):\n",
        "    def __init__(self, in_planes, current_level, kernel_size, dropout, groups, hidden_size, INN):\n",
        "        super().__init__()\n",
        "        self.current_level = current_level\n",
        "\n",
        "        self.workingblock = LevelSCINet(\n",
        "            in_planes=in_planes,\n",
        "            kernel_size=kernel_size,\n",
        "            dropout=dropout,\n",
        "            groups=groups,\n",
        "            hidden_size=hidden_size,\n",
        "            INN=INN)\n",
        "\n",
        "        if current_level != 0:\n",
        "            self.SCINet_Tree_odd=SCINet_Tree(in_planes, current_level-1, kernel_size, dropout, groups, hidden_size, INN)\n",
        "            self.SCINet_Tree_even=SCINet_Tree(in_planes, current_level-1, kernel_size, dropout, groups, hidden_size, INN)\n",
        "    \n",
        "    def zip_up_the_pants(self, even, odd):\n",
        "        even = even.permute(1, 0, 2)\n",
        "        odd = odd.permute(1, 0, 2)  # L, B, D\n",
        "        even_len = even.shape[0]\n",
        "        odd_len = odd.shape[0]\n",
        "        mlen = min((odd_len, even_len))\n",
        "        _ = []\n",
        "        for i in range(mlen):\n",
        "            _.append(even[i].unsqueeze(0))\n",
        "            _.append(odd[i].unsqueeze(0))\n",
        "        if odd_len < even_len: \n",
        "            _.append(even[-1].unsqueeze(0))\n",
        "        return torch.cat(_, 0).permute(1, 0, 2)  # B, L, D\n",
        "        \n",
        "    def forward(self, x):\n",
        "        x_even_update, x_odd_update = self.workingblock(x)\n",
        "        # We recursively reordered these sub-series. You can run the ./utils/recursive_demo.py to emulate this procedure. \n",
        "        if self.current_level == 0:\n",
        "            return self.zip_up_the_pants(x_even_update, x_odd_update)\n",
        "        else:\n",
        "            return self.zip_up_the_pants(self.SCINet_Tree_even(x_even_update), self.SCINet_Tree_odd(x_odd_update))\n",
        "\n",
        "class EncoderTree(nn.Module):\n",
        "    def __init__(self, in_planes,  num_levels, kernel_size, dropout, groups, hidden_size, INN):\n",
        "        super().__init__()\n",
        "        self.levels=num_levels\n",
        "        self.SCINet_Tree=SCINet_Tree(\n",
        "            in_planes=in_planes,\n",
        "            current_level=num_levels-1,\n",
        "            kernel_size=kernel_size,\n",
        "            dropout=dropout ,\n",
        "            groups=groups,\n",
        "            hidden_size=hidden_size,\n",
        "            INN=INN)\n",
        "        \n",
        "    def forward(self, x):\n",
        "        x = self.SCINet_Tree(x)\n",
        "        return x\n",
        "\n",
        "class SCINet(nn.Module):\n",
        "    def __init__(self, output_len, input_len, input_dim=1, hid_size=1, num_stacks=1,\n",
        "                num_levels=3, concat_len=0, groups=1, kernel=5, dropout=0.5,\n",
        "                 single_step_output_One=0, input_len_seg=0, positionalE=False, modified=True):\n",
        "        super(SCINet, self).__init__()\n",
        "        self.input_dim = input_dim\n",
        "        self.input_len = input_len\n",
        "        self.output_len = output_len\n",
        "        self.hidden_size = hid_size\n",
        "        self.num_levels = num_levels\n",
        "        self.groups = groups\n",
        "        self.modified = modified\n",
        "        self.kernel_size = kernel\n",
        "        self.dropout = dropout\n",
        "        self.single_step_output_One = single_step_output_One\n",
        "        self.concat_len = concat_len\n",
        "        self.pe = positionalE\n",
        "        self.revin = RevIN(input_dim)  # b, s, f means b, f\n",
        "\n",
        "        self.blocks1 = EncoderTree(\n",
        "            in_planes=self.input_dim,\n",
        "            num_levels=self.num_levels,\n",
        "            kernel_size=self.kernel_size,\n",
        "            dropout=self.dropout,\n",
        "            groups=self.groups,\n",
        "            hidden_size=self.hidden_size,\n",
        "            INN=modified)\n",
        "\n",
        "        if num_stacks == 2: # we only implement two stacks at most.\n",
        "            self.blocks2 = EncoderTree(\n",
        "                in_planes=self.input_dim,\n",
        "                num_levels=self.num_levels,\n",
        "                kernel_size=self.kernel_size,\n",
        "                dropout=self.dropout,\n",
        "                groups=self.groups,\n",
        "                hidden_size=self.hidden_size,\n",
        "                INN=modified)\n",
        "\n",
        "        self.stacks = num_stacks\n",
        "\n",
        "        for m in self.modules():\n",
        "            if isinstance(m, nn.Conv2d):\n",
        "                n = m.kernel_size[0] * m.kernel_size[1] * m.out_channels\n",
        "                m.weight.data.normal_(0, math.sqrt(2. / n))\n",
        "            elif isinstance(m, nn.BatchNorm2d):\n",
        "                m.weight.data.fill_(1)\n",
        "                m.bias.data.zero_()\n",
        "            elif isinstance(m, nn.Linear):\n",
        "                m.bias.data.zero_()\n",
        "        self.projection1 = nn.Conv1d(self.input_len, self.output_len, kernel_size=1, stride=1, bias=False)\n",
        "        \n",
        "        if self.single_step_output_One:  # only output the N_th timestep.\n",
        "            if self.stacks == 2:\n",
        "                if self.concat_len:\n",
        "                    self.projection2 = nn.Conv1d(self.concat_len + self.output_len, 1,\n",
        "                                                kernel_size = 1, bias = False)\n",
        "                else:\n",
        "                    self.projection2 = nn.Conv1d(self.input_len + self.output_len, 1,\n",
        "                                                kernel_size = 1, bias = False)\n",
        "        else: # output the N timesteps.\n",
        "            if self.stacks == 2:\n",
        "                if self.concat_len:\n",
        "                    self.projection2 = nn.Conv1d(self.concat_len + self.output_len, self.output_len,\n",
        "                                                kernel_size = 1, bias = False)\n",
        "                else:\n",
        "                    self.projection2 = nn.Conv1d(self.input_len + self.output_len, self.output_len,\n",
        "                                                kernel_size = 1, bias = False)\n",
        "\n",
        "        # For positional encoding\n",
        "        self.pe_hidden_size = input_dim\n",
        "        if self.pe_hidden_size % 2 == 1:\n",
        "            self.pe_hidden_size += 1\n",
        "    \n",
        "        num_timescales = self.pe_hidden_size // 2\n",
        "        max_timescale = 10000.0\n",
        "        min_timescale = 1.0\n",
        "\n",
        "        log_timescale_increment = (\n",
        "                math.log(float(max_timescale) / float(min_timescale)) /\n",
        "                max(num_timescales - 1, 1))\n",
        "        temp = torch.arange(num_timescales, dtype=torch.float32)\n",
        "        inv_timescales = min_timescale * torch.exp(\n",
        "            torch.arange(num_timescales, dtype=torch.float32) *\n",
        "            -log_timescale_increment)\n",
        "        self.register_buffer('inv_timescales', inv_timescales)\n",
        "    \n",
        "    def get_position_encoding(self, x):\n",
        "        max_length = x.size()[1]\n",
        "        position = torch.arange(max_length, dtype=torch.float32, device=x.device)  # tensor([0., 1., 2., 3., 4.], device='cuda:0')\n",
        "        temp1 = position.unsqueeze(1)  # 5 1\n",
        "        temp2 = self.inv_timescales.unsqueeze(0)  # 1 256\n",
        "        scaled_time = position.unsqueeze(1) * self.inv_timescales.unsqueeze(0)  # 5 256\n",
        "        signal = torch.cat([torch.sin(scaled_time), torch.cos(scaled_time)], dim=1)  # [T, C]\n",
        "        signal = F.pad(signal, (0, 0, 0, self.pe_hidden_size % 2))\n",
        "        signal = signal.view(1, max_length, self.pe_hidden_size)\n",
        "        return signal\n",
        "\n",
        "    def forward(self, x):\n",
        "        assert self.input_len % (np.power(2, self.num_levels)) == 0  # evenly divided the input length into two parts. (e.g., 32 -> 16 -> 8 -> 4 for 3 levels)\n",
        "        x = self.revin(x, 'norm')\n",
        "\n",
        "        if self.pe:\n",
        "            pe = self.get_position_encoding(x)\n",
        "            if pe.shape[2] > x.shape[2]:\n",
        "                x += pe[:, :, :-1]\n",
        "            else:\n",
        "                x += self.get_position_encoding(x)\n",
        "        # the first stack\n",
        "        res1 = x\n",
        "        x = self.blocks1(x)\n",
        "        x += res1\n",
        "        x = self.projection1(x)\n",
        "\n",
        "        if self.stacks == 1:\n",
        "            x = self.revin(x,'denorm')\n",
        "            x = x.squeeze(2)\n",
        "            return x  # maybe forecast\n",
        "        elif self.stacks == 2:\n",
        "            MidOutPut = x  # maybe forecast\n",
        "            if self.concat_len:\n",
        "                x = torch.cat((res1[:, -self.concat_len:,:], x), dim=1)\n",
        "            else:\n",
        "                x = torch.cat((res1, x), dim=1)\n",
        "\n",
        "            # the second stack\n",
        "            res2 = x\n",
        "            x = self.blocks2(x)\n",
        "            x += res2\n",
        "            x = self.projection2(x)\n",
        "            MidOutPut = self.revin(MidOutPut, 'denorm')\n",
        "            x = self.revin(x, 'denorm')\n",
        "            x = x.squeeze(2)\n",
        "            return x, MidOutPut\n",
        "\n",
        "\n",
        "def get_variable(x):\n",
        "    x = Variable(x)\n",
        "    return x.cuda() if torch.cuda.is_available() else x"
      ]
    },
    {
      "cell_type": "markdown",
      "metadata": {
        "id": "vRw8WNzinSZe"
      },
      "source": [
        "#### 모델 학습 및 검증"
      ]
    },
    {
      "cell_type": "code",
      "execution_count": 59,
      "metadata": {
        "id": "SO7E4Be9kCCw"
      },
      "outputs": [],
      "source": [
        "seed_everything(sci_args.seed)\n",
        "model = SCINet(output_len=sci_args.num_classes, input_len=sci_args.window, input_dim=1, hid_size=1, num_stacks=1,\n",
        "               num_levels=3, concat_len=0, groups=1, kernel=7, dropout=0.25,\n",
        "               single_step_output_One=0, positionalE=False, modified=True)"
      ]
    },
    {
      "cell_type": "code",
      "execution_count": 60,
      "metadata": {
        "id": "lcRGVLUXkR2X",
        "colab": {
          "base_uri": "https://localhost:8080/",
          "height": 268,
          "referenced_widgets": [
            "a5097c9a60da4aadb76ccf1ac0f6419b",
            "83af749f200049d2b41765255955fbd7",
            "cddf110ed4074a65bd5063a41e298852",
            "beb34605471545a182848b52b9a24fe4",
            "5838c6ad42754d409105d8ae27609d98",
            "993743e20a294da89a8a488ec392342f",
            "4817e2b4ad744e31944df7914c9b7e1f",
            "4e359b014da64ef3b04372f6ec7ab04d",
            "616d730e78b74536b69425595176ae29",
            "76aefaa3cc434cc89c8cd5a750ff5a33",
            "3a3475604b5d4592943f1bc48c3b434f"
          ]
        },
        "outputId": "efe47201-b2c4-493b-c245-3c3be977d4f1"
      },
      "outputs": [
        {
          "output_type": "stream",
          "name": "stdout",
          "text": [
            "[1 / 1] Fold Training......\n"
          ]
        },
        {
          "output_type": "display_data",
          "data": {
            "text/plain": [
              "  0%|          | 0/60 [00:00<?, ?it/s]"
            ],
            "application/vnd.jupyter.widget-view+json": {
              "version_major": 2,
              "version_minor": 0,
              "model_id": "a5097c9a60da4aadb76ccf1ac0f6419b"
            }
          },
          "metadata": {}
        },
        {
          "output_type": "stream",
          "name": "stdout",
          "text": [
            "[Epoch:  1]  train loss = 0.11819  valid loss = 0.11416  valid MAE = 111.86186\n",
            "[Epoch:  5]  train loss = 0.09863  valid loss = 0.10347  valid MAE = 101.39454\n",
            "[Epoch: 10]  train loss = 0.09761  valid loss = 0.10288  valid MAE = 100.81871\n",
            "[Epoch: 15]  train loss = 0.09742  valid loss = 0.10279  valid MAE = 100.72770\n",
            "[Epoch: 20]  train loss = 0.09735  valid loss = 0.10276  valid MAE = 100.69981\n",
            "[Epoch: 25]  train loss = 0.09729  valid loss = 0.10276  valid MAE = 100.69376\n",
            "[Epoch: 30]  train loss = 0.09726  valid loss = 0.10276  valid MAE = 100.69300\n",
            "[Epoch: 35]  train loss = 0.09724  valid loss = 0.10276  valid MAE = 100.69669\n",
            "[Epoch: 39]  train loss = 0.09722  valid loss = 0.10276  valid MAE = 100.69968\n",
            "Early Stopping!\n",
            "1 Fold -> Valid Loss: 0.10276  Valid MAE: 100.69216\n"
          ]
        }
      ],
      "source": [
        "model, fold_train_losses_per_epoch, fold_valid_losses_per_epoch = holdout_validate(model, Xs_train, ys_train, Xs_val, ys_val,\n",
        "                                                                                   loss_fn, early_stopping, DEVICE, sci_args)"
      ]
    },
    {
      "cell_type": "code",
      "source": [
        "show_loss_plot(fold_train_losses_per_epoch, fold_valid_losses_per_epoch)"
      ],
      "metadata": {
        "colab": {
          "base_uri": "https://localhost:8080/",
          "height": 320
        },
        "id": "b6pkZgeWy0mb",
        "outputId": "4591ab74-3618-4133-b9a7-2802126ff750"
      },
      "execution_count": 61,
      "outputs": [
        {
          "output_type": "display_data",
          "data": {
            "text/plain": [
              "<Figure size 864x288 with 1 Axes>"
            ],
            "image/png": "[encoded data removed]"
          },
          "metadata": {}
        }
      ]
    },
    {
      "cell_type": "markdown",
      "metadata": {
        "id": "2-QS8Ik7uZHp"
      },
      "source": [
        "#### Test 예측"
      ]
    },
    {
      "cell_type": "code",
      "source": [
        "flow_scaled_all = np.concatenate([flow_scaled[-sci_args.window:], flow_scaled_test])  # train + test\n",
        "Xs_test = ts_test2supervised(flow_scaled_all, window=sci_args.window)   "
      ],
      "metadata": {
        "id": "kawu0ynzx0Vz"
      },
      "execution_count": 62,
      "outputs": []
    },
    {
      "cell_type": "code",
      "execution_count": 63,
      "metadata": {
        "colab": {
          "base_uri": "https://localhost:8080/",
          "height": 49,
          "referenced_widgets": [
            "9676937979b94fb097d6b7a98ca48f17",
            "69b7d16ead09406db50f93ae6eed8e53",
            "e185c4b294a94864905e105faaef598e",
            "9bb068e264d74d859ec023b5f4c72a62",
            "c19302e7728546229cb007713678f4f2",
            "4860176b960f4ecc9f342f4dfb078694",
            "44e6371f2288401d9ae623e369092f54",
            "a4a223fef3c84a77a400d606c51836b1",
            "b48a0f6d590748ec912bfd4a39fb2d62",
            "0872a583d258408b92e0474a5e481f4b",
            "5c5b6e3bce6f4dbcabc5809705ea7ffc"
          ]
        },
        "id": "_AyK94l0gURU",
        "outputId": "cc024515-3281-44a9-97c1-a8d62eabe216"
      },
      "outputs": [
        {
          "output_type": "display_data",
          "data": {
            "text/plain": [
              "  0%|          | 0/1 [00:00<?, ?it/s]"
            ],
            "application/vnd.jupyter.widget-view+json": {
              "version_major": 2,
              "version_minor": 0,
              "model_id": "9676937979b94fb097d6b7a98ca48f17"
            }
          },
          "metadata": {}
        }
      ],
      "source": [
        "preds = predict(model, Xs_test, DEVICE, sci_args)"
      ]
    },
    {
      "cell_type": "code",
      "execution_count": 64,
      "metadata": {
        "id": "y1557nWvgaJE"
      },
      "outputs": [],
      "source": [
        "preds = minmax_scaler.inverse_transform(preds)\n",
        "submission.loc[:, 'h0':'h335'] = postprocessing(preds, MIN, MAX)\n",
        "submission.to_csv(f'./data/submission_4dist_{sci_args.model_name}.csv', index=False)"
      ]
    },
    {
      "cell_type": "markdown",
      "metadata": {
        "id": "G-IX37u2gd_N"
      },
      "source": [
        "- 성능 확인"
      ]
    },
    {
      "cell_type": "code",
      "execution_count": 65,
      "metadata": {
        "colab": {
          "base_uri": "https://localhost:8080/"
        },
        "id": "WU08YjBDgiDM",
        "outputId": "26e9dc0b-40b7-4aed-f9c5-461805cb5427"
      },
      "outputs": [
        {
          "output_type": "execute_result",
          "data": {
            "text/plain": [
              "115.26836451912943"
            ]
          },
          "metadata": {},
          "execution_count": 65
        }
      ],
      "source": [
        "tmp = test.copy()\n",
        "for w in range(1, 336):\n",
        "    tmp[f'flow{w}'] = tmp['flow'].shift(-w)\n",
        "\n",
        "y_hat = submission.loc[:, 'h0':'h335'].to_numpy()[:8089]\n",
        "tmp = tmp.dropna().loc[:, 'flow':'flow335'].to_numpy()\n",
        "mean_absolute_error(tmp, y_hat)"
      ]
    },
    {
      "cell_type": "code",
      "source": [
        "idx = 24*10\n",
        "plt.plot(tmp[idx][:24], label='real')\n",
        "plt.plot(submission.loc[idx, 'h0':'h335'].values[:24], label='pred')\n",
        "plt.legend()"
      ],
      "metadata": {
        "colab": {
          "base_uri": "https://localhost:8080/",
          "height": 286
        },
        "id": "FKZaQmWsOtv4",
        "outputId": "d6285b60-0b59-4230-c81b-77c1b3de3ae2"
      },
      "execution_count": 66,
      "outputs": [
        {
          "output_type": "execute_result",
          "data": {
            "text/plain": [
              "<matplotlib.legend.Legend at 0x7efec94ec7f0>"
            ]
          },
          "metadata": {},
          "execution_count": 66
        },
        {
          "output_type": "display_data",
          "data": {
            "text/plain": [
              "<Figure size 432x288 with 1 Axes>"
            ],
            "image/png": "[encoded data removed]"
          },
          "metadata": {}
        }
      ]
    },
    {
      "cell_type": "code",
      "source": [],
      "metadata": {
        "id": "a3e4reboIO7M"
      },
      "execution_count": null,
      "outputs": []
    }
  ],
  "metadata": {
    "colab": {
      "provenance": [],
      "toc_visible": true,
      "include_colab_link": true
    },
    "gpuClass": "standard",
    "kernelspec": {
      "display_name": "Python 3 (ipykernel)",
      "language": "python",
      "name": "python3"
    },
    "language_info": {
      "codemirror_mode": {
        "name": "ipython",
        "version": 3
      },
      "file_extension": ".py",
      "mimetype": "text/x-python",
      "name": "python",
      "nbconvert_exporter": "python",
      "pygments_lexer": "ipython3",
      "version": "3.8.11"
    },
    "widgets": {
      "application/vnd.jupyter.widget-state+json": {
        "a5097c9a60da4aadb76ccf1ac0f6419b": {
          "model_module": "@jupyter-widgets/controls",
          "model_name": "HBoxModel",
          "model_module_version": "1.5.0",
          "state": {
            "_dom_classes": [],
            "_model_module": "@jupyter-widgets/controls",
            "_model_module_version": "1.5.0",
            "_model_name": "HBoxModel",
            "_view_count": null,
            "_view_module": "@jupyter-widgets/controls",
            "_view_module_version": "1.5.0",
            "_view_name": "HBoxView",
            "box_style": "",
            "children": [
              "IPY_MODEL_83af749f200049d2b41765255955fbd7",
              "IPY_MODEL_cddf110ed4074a65bd5063a41e298852",
              "IPY_MODEL_beb34605471545a182848b52b9a24fe4"
            ],
            "layout": "IPY_MODEL_5838c6ad42754d409105d8ae27609d98"
          }
        },
        "83af749f200049d2b41765255955fbd7": {
          "model_module": "@jupyter-widgets/controls",
          "model_name": "HTMLModel",
          "model_module_version": "1.5.0",
          "state": {
            "_dom_classes": [],
            "_model_module": "@jupyter-widgets/controls",
            "_model_module_version": "1.5.0",
            "_model_name": "HTMLModel",
            "_view_count": null,
            "_view_module": "@jupyter-widgets/controls",
            "_view_module_version": "1.5.0",
            "_view_name": "HTMLView",
            "description": "",
            "description_tooltip": null,
            "layout": "IPY_MODEL_993743e20a294da89a8a488ec392342f",
            "placeholder": "​",
            "style": "IPY_MODEL_4817e2b4ad744e31944df7914c9b7e1f",
            "value": " 63%"
          }
        },
        "cddf110ed4074a65bd5063a41e298852": {
          "model_module": "@jupyter-widgets/controls",
          "model_name": "FloatProgressModel",
          "model_module_version": "1.5.0",
          "state": {
            "_dom_classes": [],
            "_model_module": "@jupyter-widgets/controls",
            "_model_module_version": "1.5.0",
            "_model_name": "FloatProgressModel",
            "_view_count": null,
            "_view_module": "@jupyter-widgets/controls",
            "_view_module_version": "1.5.0",
            "_view_name": "ProgressView",
            "bar_style": "danger",
            "description": "",
            "description_tooltip": null,
            "layout": "IPY_MODEL_4e359b014da64ef3b04372f6ec7ab04d",
            "max": 60,
            "min": 0,
            "orientation": "horizontal",
            "style": "IPY_MODEL_616d730e78b74536b69425595176ae29",
            "value": 38
          }
        },
        "beb34605471545a182848b52b9a24fe4": {
          "model_module": "@jupyter-widgets/controls",
          "model_name": "HTMLModel",
          "model_module_version": "1.5.0",
          "state": {
            "_dom_classes": [],
            "_model_module": "@jupyter-widgets/controls",
            "_model_module_version": "1.5.0",
            "_model_name": "HTMLModel",
            "_view_count": null,
            "_view_module": "@jupyter-widgets/controls",
            "_view_module_version": "1.5.0",
            "_view_name": "HTMLView",
            "description": "",
            "description_tooltip": null,
            "layout": "IPY_MODEL_76aefaa3cc434cc89c8cd5a750ff5a33",
            "placeholder": "​",
            "style": "IPY_MODEL_3a3475604b5d4592943f1bc48c3b434f",
            "value": " 38/60 [37:09&lt;21:18, 58.10s/it]"
          }
        },
        "5838c6ad42754d409105d8ae27609d98": {
          "model_module": "@jupyter-widgets/base",
          "model_name": "LayoutModel",
          "model_module_version": "1.2.0",
          "state": {
            "_model_module": "@jupyter-widgets/base",
            "_model_module_version": "1.2.0",
            "_model_name": "LayoutModel",
            "_view_count": null,
            "_view_module": "@jupyter-widgets/base",
            "_view_module_version": "1.2.0",
            "_view_name": "LayoutView",
            "align_content": null,
            "align_items": null,
            "align_self": null,
            "border": null,
            "bottom": null,
            "display": null,
            "flex": null,
            "flex_flow": null,
            "grid_area": null,
            "grid_auto_columns": null,
            "grid_auto_flow": null,
            "grid_auto_rows": null,
            "grid_column": null,
            "grid_gap": null,
            "grid_row": null,
            "grid_template_areas": null,
            "grid_template_columns": null,
            "grid_template_rows": null,
            "height": null,
            "justify_content": null,
            "justify_items": null,
            "left": null,
            "margin": null,
            "max_height": null,
            "max_width": null,
            "min_height": null,
            "min_width": null,
            "object_fit": null,
            "object_position": null,
            "order": null,
            "overflow": null,
            "overflow_x": null,
            "overflow_y": null,
            "padding": null,
            "right": null,
            "top": null,
            "visibility": null,
            "width": null
          }
        },
        "993743e20a294da89a8a488ec392342f": {
          "model_module": "@jupyter-widgets/base",
          "model_name": "LayoutModel",
          "model_module_version": "1.2.0",
          "state": {
            "_model_module": "@jupyter-widgets/base",
            "_model_module_version": "1.2.0",
            "_model_name": "LayoutModel",
            "_view_count": null,
            "_view_module": "@jupyter-widgets/base",
            "_view_module_version": "1.2.0",
            "_view_name": "LayoutView",
            "align_content": null,
            "align_items": null,
            "align_self": null,
            "border": null,
            "bottom": null,
            "display": null,
            "flex": null,
            "flex_flow": null,
            "grid_area": null,
            "grid_auto_columns": null,
            "grid_auto_flow": null,
            "grid_auto_rows": null,
            "grid_column": null,
            "grid_gap": null,
            "grid_row": null,
            "grid_template_areas": null,
            "grid_template_columns": null,
            "grid_template_rows": null,
            "height": null,
            "justify_content": null,
            "justify_items": null,
            "left": null,
            "margin": null,
            "max_height": null,
            "max_width": null,
            "min_height": null,
            "min_width": null,
            "object_fit": null,
            "object_position": null,
            "order": null,
            "overflow": null,
            "overflow_x": null,
            "overflow_y": null,
            "padding": null,
            "right": null,
            "top": null,
            "visibility": null,
            "width": null
          }
        },
        "4817e2b4ad744e31944df7914c9b7e1f": {
          "model_module": "@jupyter-widgets/controls",
          "model_name": "DescriptionStyleModel",
          "model_module_version": "1.5.0",
          "state": {
            "_model_module": "@jupyter-widgets/controls",
            "_model_module_version": "1.5.0",
            "_model_name": "DescriptionStyleModel",
            "_view_count": null,
            "_view_module": "@jupyter-widgets/base",
            "_view_module_version": "1.2.0",
            "_view_name": "StyleView",
            "description_width": ""
          }
        },
        "4e359b014da64ef3b04372f6ec7ab04d": {
          "model_module": "@jupyter-widgets/base",
          "model_name": "LayoutModel",
          "model_module_version": "1.2.0",
          "state": {
            "_model_module": "@jupyter-widgets/base",
            "_model_module_version": "1.2.0",
            "_model_name": "LayoutModel",
            "_view_count": null,
            "_view_module": "@jupyter-widgets/base",
            "_view_module_version": "1.2.0",
            "_view_name": "LayoutView",
            "align_content": null,
            "align_items": null,
            "align_self": null,
            "border": null,
            "bottom": null,
            "display": null,
            "flex": null,
            "flex_flow": null,
            "grid_area": null,
            "grid_auto_columns": null,
            "grid_auto_flow": null,
            "grid_auto_rows": null,
            "grid_column": null,
            "grid_gap": null,
            "grid_row": null,
            "grid_template_areas": null,
            "grid_template_columns": null,
            "grid_template_rows": null,
            "height": null,
            "justify_content": null,
            "justify_items": null,
            "left": null,
            "margin": null,
            "max_height": null,
            "max_width": null,
            "min_height": null,
            "min_width": null,
            "object_fit": null,
            "object_position": null,
            "order": null,
            "overflow": null,
            "overflow_x": null,
            "overflow_y": null,
            "padding": null,
            "right": null,
            "top": null,
            "visibility": null,
            "width": null
          }
        },
        "616d730e78b74536b69425595176ae29": {
          "model_module": "@jupyter-widgets/controls",
          "model_name": "ProgressStyleModel",
          "model_module_version": "1.5.0",
          "state": {
            "_model_module": "@jupyter-widgets/controls",
            "_model_module_version": "1.5.0",
            "_model_name": "ProgressStyleModel",
            "_view_count": null,
            "_view_module": "@jupyter-widgets/base",
            "_view_module_version": "1.2.0",
            "_view_name": "StyleView",
            "bar_color": null,
            "description_width": ""
          }
        },
        "76aefaa3cc434cc89c8cd5a750ff5a33": {
          "model_module": "@jupyter-widgets/base",
          "model_name": "LayoutModel",
          "model_module_version": "1.2.0",
          "state": {
            "_model_module": "@jupyter-widgets/base",
            "_model_module_version": "1.2.0",
            "_model_name": "LayoutModel",
            "_view_count": null,
            "_view_module": "@jupyter-widgets/base",
            "_view_module_version": "1.2.0",
            "_view_name": "LayoutView",
            "align_content": null,
            "align_items": null,
            "align_self": null,
            "border": null,
            "bottom": null,
            "display": null,
            "flex": null,
            "flex_flow": null,
            "grid_area": null,
            "grid_auto_columns": null,
            "grid_auto_flow": null,
            "grid_auto_rows": null,
            "grid_column": null,
            "grid_gap": null,
            "grid_row": null,
            "grid_template_areas": null,
            "grid_template_columns": null,
            "grid_template_rows": null,
            "height": null,
            "justify_content": null,
            "justify_items": null,
            "left": null,
            "margin": null,
            "max_height": null,
            "max_width": null,
            "min_height": null,
            "min_width": null,
            "object_fit": null,
            "object_position": null,
            "order": null,
            "overflow": null,
            "overflow_x": null,
            "overflow_y": null,
            "padding": null,
            "right": null,
            "top": null,
            "visibility": null,
            "width": null
          }
        },
        "3a3475604b5d4592943f1bc48c3b434f": {
          "model_module": "@jupyter-widgets/controls",
          "model_name": "DescriptionStyleModel",
          "model_module_version": "1.5.0",
          "state": {
            "_model_module": "@jupyter-widgets/controls",
            "_model_module_version": "1.5.0",
            "_model_name": "DescriptionStyleModel",
            "_view_count": null,
            "_view_module": "@jupyter-widgets/base",
            "_view_module_version": "1.2.0",
            "_view_name": "StyleView",
            "description_width": ""
          }
        },
        "9676937979b94fb097d6b7a98ca48f17": {
          "model_module": "@jupyter-widgets/controls",
          "model_name": "HBoxModel",
          "model_module_version": "1.5.0",
          "state": {
            "_dom_classes": [],
            "_model_module": "@jupyter-widgets/controls",
            "_model_module_version": "1.5.0",
            "_model_name": "HBoxModel",
            "_view_count": null,
            "_view_module": "@jupyter-widgets/controls",
            "_view_module_version": "1.5.0",
            "_view_name": "HBoxView",
            "box_style": "",
            "children": [
              "IPY_MODEL_69b7d16ead09406db50f93ae6eed8e53",
              "IPY_MODEL_e185c4b294a94864905e105faaef598e",
              "IPY_MODEL_9bb068e264d74d859ec023b5f4c72a62"
            ],
            "layout": "IPY_MODEL_c19302e7728546229cb007713678f4f2"
          }
        },
        "69b7d16ead09406db50f93ae6eed8e53": {
          "model_module": "@jupyter-widgets/controls",
          "model_name": "HTMLModel",
          "model_module_version": "1.5.0",
          "state": {
            "_dom_classes": [],
            "_model_module": "@jupyter-widgets/controls",
            "_model_module_version": "1.5.0",
            "_model_name": "HTMLModel",
            "_view_count": null,
            "_view_module": "@jupyter-widgets/controls",
            "_view_module_version": "1.5.0",
            "_view_name": "HTMLView",
            "description": "",
            "description_tooltip": null,
            "layout": "IPY_MODEL_4860176b960f4ecc9f342f4dfb078694",
            "placeholder": "​",
            "style": "IPY_MODEL_44e6371f2288401d9ae623e369092f54",
            "value": "100%"
          }
        },
        "e185c4b294a94864905e105faaef598e": {
          "model_module": "@jupyter-widgets/controls",
          "model_name": "FloatProgressModel",
          "model_module_version": "1.5.0",
          "state": {
            "_dom_classes": [],
            "_model_module": "@jupyter-widgets/controls",
            "_model_module_version": "1.5.0",
            "_model_name": "FloatProgressModel",
            "_view_count": null,
            "_view_module": "@jupyter-widgets/controls",
            "_view_module_version": "1.5.0",
            "_view_name": "ProgressView",
            "bar_style": "success",
            "description": "",
            "description_tooltip": null,
            "layout": "IPY_MODEL_a4a223fef3c84a77a400d606c51836b1",
            "max": 1,
            "min": 0,
            "orientation": "horizontal",
            "style": "IPY_MODEL_b48a0f6d590748ec912bfd4a39fb2d62",
            "value": 1
          }
        },
        "9bb068e264d74d859ec023b5f4c72a62": {
          "model_module": "@jupyter-widgets/controls",
          "model_name": "HTMLModel",
          "model_module_version": "1.5.0",
          "state": {
            "_dom_classes": [],
            "_model_module": "@jupyter-widgets/controls",
            "_model_module_version": "1.5.0",
            "_model_name": "HTMLModel",
            "_view_count": null,
            "_view_module": "@jupyter-widgets/controls",
            "_view_module_version": "1.5.0",
            "_view_name": "HTMLView",
            "description": "",
            "description_tooltip": null,
            "layout": "IPY_MODEL_0872a583d258408b92e0474a5e481f4b",
            "placeholder": "​",
            "style": "IPY_MODEL_5c5b6e3bce6f4dbcabc5809705ea7ffc",
            "value": " 1/1 [00:07&lt;00:00,  7.28s/it]"
          }
        },
        "c19302e7728546229cb007713678f4f2": {
          "model_module": "@jupyter-widgets/base",
          "model_name": "LayoutModel",
          "model_module_version": "1.2.0",
          "state": {
            "_model_module": "@jupyter-widgets/base",
            "_model_module_version": "1.2.0",
            "_model_name": "LayoutModel",
            "_view_count": null,
            "_view_module": "@jupyter-widgets/base",
            "_view_module_version": "1.2.0",
            "_view_name": "LayoutView",
            "align_content": null,
            "align_items": null,
            "align_self": null,
            "border": null,
            "bottom": null,
            "display": null,
            "flex": null,
            "flex_flow": null,
            "grid_area": null,
            "grid_auto_columns": null,
            "grid_auto_flow": null,
            "grid_auto_rows": null,
            "grid_column": null,
            "grid_gap": null,
            "grid_row": null,
            "grid_template_areas": null,
            "grid_template_columns": null,
            "grid_template_rows": null,
            "height": null,
            "justify_content": null,
            "justify_items": null,
            "left": null,
            "margin": null,
            "max_height": null,
            "max_width": null,
            "min_height": null,
            "min_width": null,
            "object_fit": null,
            "object_position": null,
            "order": null,
            "overflow": null,
            "overflow_x": null,
            "overflow_y": null,
            "padding": null,
            "right": null,
            "top": null,
            "visibility": null,
            "width": null
          }
        },
        "4860176b960f4ecc9f342f4dfb078694": {
          "model_module": "@jupyter-widgets/base",
          "model_name": "LayoutModel",
          "model_module_version": "1.2.0",
          "state": {
            "_model_module": "@jupyter-widgets/base",
            "_model_module_version": "1.2.0",
            "_model_name": "LayoutModel",
            "_view_count": null,
            "_view_module": "@jupyter-widgets/base",
            "_view_module_version": "1.2.0",
            "_view_name": "LayoutView",
            "align_content": null,
            "align_items": null,
            "align_self": null,
            "border": null,
            "bottom": null,
            "display": null,
            "flex": null,
            "flex_flow": null,
            "grid_area": null,
            "grid_auto_columns": null,
            "grid_auto_flow": null,
            "grid_auto_rows": null,
            "grid_column": null,
            "grid_gap": null,
            "grid_row": null,
            "grid_template_areas": null,
            "grid_template_columns": null,
            "grid_template_rows": null,
            "height": null,
            "justify_content": null,
            "justify_items": null,
            "left": null,
            "margin": null,
            "max_height": null,
            "max_width": null,
            "min_height": null,
            "min_width": null,
            "object_fit": null,
            "object_position": null,
            "order": null,
            "overflow": null,
            "overflow_x": null,
            "overflow_y": null,
            "padding": null,
            "right": null,
            "top": null,
            "visibility": null,
            "width": null
          }
        },
        "44e6371f2288401d9ae623e369092f54": {
          "model_module": "@jupyter-widgets/controls",
          "model_name": "DescriptionStyleModel",
          "model_module_version": "1.5.0",
          "state": {
            "_model_module": "@jupyter-widgets/controls",
            "_model_module_version": "1.5.0",
            "_model_name": "DescriptionStyleModel",
            "_view_count": null,
            "_view_module": "@jupyter-widgets/base",
            "_view_module_version": "1.2.0",
            "_view_name": "StyleView",
            "description_width": ""
          }
        },
        "a4a223fef3c84a77a400d606c51836b1": {
          "model_module": "@jupyter-widgets/base",
          "model_name": "LayoutModel",
          "model_module_version": "1.2.0",
          "state": {
            "_model_module": "@jupyter-widgets/base",
            "_model_module_version": "1.2.0",
            "_model_name": "LayoutModel",
            "_view_count": null,
            "_view_module": "@jupyter-widgets/base",
            "_view_module_version": "1.2.0",
            "_view_name": "LayoutView",
            "align_content": null,
            "align_items": null,
            "align_self": null,
            "border": null,
            "bottom": null,
            "display": null,
            "flex": null,
            "flex_flow": null,
            "grid_area": null,
            "grid_auto_columns": null,
            "grid_auto_flow": null,
            "grid_auto_rows": null,
            "grid_column": null,
            "grid_gap": null,
            "grid_row": null,
            "grid_template_areas": null,
            "grid_template_columns": null,
            "grid_template_rows": null,
            "height": null,
            "justify_content": null,
            "justify_items": null,
            "left": null,
            "margin": null,
            "max_height": null,
            "max_width": null,
            "min_height": null,
            "min_width": null,
            "object_fit": null,
            "object_position": null,
            "order": null,
            "overflow": null,
            "overflow_x": null,
            "overflow_y": null,
            "padding": null,
            "right": null,
            "top": null,
            "visibility": null,
            "width": null
          }
        },
        "b48a0f6d590748ec912bfd4a39fb2d62": {
          "model_module": "@jupyter-widgets/controls",
          "model_name": "ProgressStyleModel",
          "model_module_version": "1.5.0",
          "state": {
            "_model_module": "@jupyter-widgets/controls",
            "_model_module_version": "1.5.0",
            "_model_name": "ProgressStyleModel",
            "_view_count": null,
            "_view_module": "@jupyter-widgets/base",
            "_view_module_version": "1.2.0",
            "_view_name": "StyleView",
            "bar_color": null,
            "description_width": ""
          }
        },
        "0872a583d258408b92e0474a5e481f4b": {
          "model_module": "@jupyter-widgets/base",
          "model_name": "LayoutModel",
          "model_module_version": "1.2.0",
          "state": {
            "_model_module": "@jupyter-widgets/base",
            "_model_module_version": "1.2.0",
            "_model_name": "LayoutModel",
            "_view_count": null,
            "_view_module": "@jupyter-widgets/base",
            "_view_module_version": "1.2.0",
            "_view_name": "LayoutView",
            "align_content": null,
            "align_items": null,
            "align_self": null,
            "border": null,
            "bottom": null,
            "display": null,
            "flex": null,
            "flex_flow": null,
            "grid_area": null,
            "grid_auto_columns": null,
            "grid_auto_flow": null,
            "grid_auto_rows": null,
            "grid_column": null,
            "grid_gap": null,
            "grid_row": null,
            "grid_template_areas": null,
            "grid_template_columns": null,
            "grid_template_rows": null,
            "height": null,
            "justify_content": null,
            "justify_items": null,
            "left": null,
            "margin": null,
            "max_height": null,
            "max_width": null,
            "min_height": null,
            "min_width": null,
            "object_fit": null,
            "object_position": null,
            "order": null,
            "overflow": null,
            "overflow_x": null,
            "overflow_y": null,
            "padding": null,
            "right": null,
            "top": null,
            "visibility": null,
            "width": null
          }
        },
        "5c5b6e3bce6f4dbcabc5809705ea7ffc": {
          "model_module": "@jupyter-widgets/controls",
          "model_name": "DescriptionStyleModel",
          "model_module_version": "1.5.0",
          "state": {
            "_model_module": "@jupyter-widgets/controls",
            "_model_module_version": "1.5.0",
            "_model_name": "DescriptionStyleModel",
            "_view_count": null,
            "_view_module": "@jupyter-widgets/base",
            "_view_module_version": "1.2.0",
            "_view_name": "StyleView",
            "description_width": ""
          }
        }
      }
    },
    "accelerator": "GPU"
  },
  "nbformat": 4,
  "nbformat_minor": 0
}