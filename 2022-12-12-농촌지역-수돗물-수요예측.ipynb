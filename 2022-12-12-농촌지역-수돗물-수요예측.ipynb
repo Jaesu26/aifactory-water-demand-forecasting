{
  "cells": [
    {
      "cell_type": "markdown",
      "metadata": {
        "id": "view-in-github",
        "colab_type": "text"
      },
      "source": [
        "<a href=\"https://colab.research.google.com/github/Jaesu26/aifactory-water-demand-forecasting/blob/main/2022-12-12-%EB%86%8D%EC%B4%8C%EC%A7%80%EC%97%AD-%EC%88%98%EB%8F%97%EB%AC%BC-%EC%88%98%EC%9A%94%EC%98%88%EC%B8%A1.ipynb\" target=\"_parent\"><img src=\"https://colab.research.google.com/assets/colab-badge.svg\" alt=\"Open In Colab\"/></a>"
      ]
    },
    {
      "cell_type": "markdown",
      "metadata": {
        "id": "75xRhMA-ZZ4g"
      },
      "source": [
        "# [2022 제2회 K-water AI 경진대회] 수돗물 수요예측 AI 알고리즘 개발\n",
        "\n",
        "- [2022-Task 2] 아포 : 경상북도 김천시 아포읍"
      ]
    },
    {
      "cell_type": "markdown",
      "source": [
        "`-` **private 데이터는 test 데이터와 오직 연도만 다르다 가정하고 코드를 작성했습니다, 양식을 꼭 맞춰주세요**"
      ],
      "metadata": {
        "id": "w56I6RSaLm6y"
      }
    },
    {
      "cell_type": "code",
      "source": [
        "import platform"
      ],
      "metadata": {
        "id": "Fis-1n0RrEaE"
      },
      "execution_count": 1,
      "outputs": []
    },
    {
      "cell_type": "code",
      "source": [
        "platform.platform()"
      ],
      "metadata": {
        "colab": {
          "base_uri": "https://localhost:8080/",
          "height": 35
        },
        "id": "iX7on1aorFfs",
        "outputId": "b036d3ee-1757-49ab-959b-94ae955978eb"
      },
      "execution_count": 2,
      "outputs": [
        {
          "output_type": "execute_result",
          "data": {
            "text/plain": [
              "'Linux-5.10.133+-x86_64-with-glibc2.27'"
            ],
            "application/vnd.google.colaboratory.intrinsic+json": {
              "type": "string"
            }
          },
          "metadata": {},
          "execution_count": 2
        }
      ]
    },
    {
      "cell_type": "code",
      "source": [
        "!cat /etc/issue.net"
      ],
      "metadata": {
        "colab": {
          "base_uri": "https://localhost:8080/"
        },
        "id": "IME3R6lPrGfF",
        "outputId": "fca77415-f342-4123-f31a-7a94667c123e"
      },
      "execution_count": 3,
      "outputs": [
        {
          "output_type": "stream",
          "name": "stdout",
          "text": [
            "Ubuntu 18.04.6 LTS\n"
          ]
        }
      ]
    },
    {
      "cell_type": "code",
      "source": [
        "!python --version"
      ],
      "metadata": {
        "colab": {
          "base_uri": "https://localhost:8080/"
        },
        "id": "n7FziWthrHmU",
        "outputId": "a678fc0b-7d23-4a44-9199-79334d87f129"
      },
      "execution_count": 4,
      "outputs": [
        {
          "output_type": "stream",
          "name": "stdout",
          "text": [
            "Python 3.8.16\n"
          ]
        }
      ]
    },
    {
      "cell_type": "code",
      "source": [
        "!nvcc --version"
      ],
      "metadata": {
        "colab": {
          "base_uri": "https://localhost:8080/"
        },
        "id": "f1jtmYuPsUna",
        "outputId": "8f20314d-8877-4e91-9715-9709cf665b19"
      },
      "execution_count": 5,
      "outputs": [
        {
          "output_type": "stream",
          "name": "stdout",
          "text": [
            "nvcc: NVIDIA (R) Cuda compiler driver\n",
            "Copyright (c) 2005-2021 NVIDIA Corporation\n",
            "Built on Sun_Feb_14_21:12:58_PST_2021\n",
            "Cuda compilation tools, release 11.2, V11.2.152\n",
            "Build cuda_11.2.r11.2/compiler.29618528_0\n"
          ]
        }
      ]
    },
    {
      "cell_type": "code",
      "source": [
        "!nvidia-smi"
      ],
      "metadata": {
        "colab": {
          "base_uri": "https://localhost:8080/"
        },
        "id": "Vd5Lew_2q8_V",
        "outputId": "58214aaa-0be5-48ed-86fa-b2d2d5991e2a"
      },
      "execution_count": 6,
      "outputs": [
        {
          "output_type": "stream",
          "name": "stdout",
          "text": [
            "Mon Dec 12 11:34:55 2022       \n",
            "+-----------------------------------------------------------------------------+\n",
            "| NVIDIA-SMI 460.32.03    Driver Version: 460.32.03    CUDA Version: 11.2     |\n",
            "|-------------------------------+----------------------+----------------------+\n",
            "| GPU  Name        Persistence-M| Bus-Id        Disp.A | Volatile Uncorr. ECC |\n",
            "| Fan  Temp  Perf  Pwr:Usage/Cap|         Memory-Usage | GPU-Util  Compute M. |\n",
            "|                               |                      |               MIG M. |\n",
            "|===============================+======================+======================|\n",
            "|   0  Tesla T4            Off  | 00000000:00:04.0 Off |                    0 |\n",
            "| N/A   46C    P0    26W /  70W |      0MiB / 15109MiB |      0%      Default |\n",
            "|                               |                      |                  N/A |\n",
            "+-------------------------------+----------------------+----------------------+\n",
            "                                                                               \n",
            "+-----------------------------------------------------------------------------+\n",
            "| Processes:                                                                  |\n",
            "|  GPU   GI   CI        PID   Type   Process name                  GPU Memory |\n",
            "|        ID   ID                                                   Usage      |\n",
            "|=============================================================================|\n",
            "|  No running processes found                                                 |\n",
            "+-----------------------------------------------------------------------------+\n"
          ]
        }
      ]
    },
    {
      "cell_type": "markdown",
      "source": [
        "- 개발 환경\n",
        "\n",
        "구글 코랩\n",
        "\n",
        "런타임 유형: GPU\n",
        "\n",
        "Linux-5.10.133+-x86_64-with-glibc2.27\n",
        "\n",
        "Ubuntu 18.04.6 LTS\n",
        "\n",
        "Python Version: 3.8.16\n",
        "\n",
        "Driver Version: 460.32.03 \n",
        "\n",
        "CUDA Version: 11.2"
      ],
      "metadata": {
        "id": "V0vqsPi1rCkk"
      }
    },
    {
      "cell_type": "markdown",
      "source": [
        "- 라이브러리 설치\n",
        "\n",
        "`-` 처음 코랩에 접속하면 기본적으로 설치되어있는 라이브러리를 사용\n",
        "\n",
        "`-` 코랩은 torch 버전을 주기적으로 업데이트 하므로 torch 버전이 바뀔 수 있으니 설치하겠음\n",
        "\n",
        "`-` torch 1.13.0+cu116 버전 설치"
      ],
      "metadata": {
        "id": "tJOD35qB1J_D"
      }
    },
    {
      "cell_type": "code",
      "source": [
        "!pip3 install torch torchvision torchaudio --extra-index-url https://download.pytorch.org/whl/cu116"
      ],
      "metadata": {
        "colab": {
          "base_uri": "https://localhost:8080/"
        },
        "id": "j1xMPtAVyVZE",
        "outputId": "1546c099-7b01-48d2-ebe7-fe6af080d26f"
      },
      "execution_count": 7,
      "outputs": [
        {
          "output_type": "stream",
          "name": "stdout",
          "text": [
            "Looking in indexes: https://pypi.org/simple, https://us-python.pkg.dev/colab-wheels/public/simple/, https://download.pytorch.org/whl/cu116\n",
            "Requirement already satisfied: torch in /usr/local/lib/python3.8/dist-packages (1.13.0+cu116)\n",
            "Requirement already satisfied: torchvision in /usr/local/lib/python3.8/dist-packages (0.14.0+cu116)\n",
            "Requirement already satisfied: torchaudio in /usr/local/lib/python3.8/dist-packages (0.13.0+cu116)\n",
            "Requirement already satisfied: typing-extensions in /usr/local/lib/python3.8/dist-packages (from torch) (4.4.0)\n",
            "Requirement already satisfied: pillow!=8.3.*,>=5.3.0 in /usr/local/lib/python3.8/dist-packages (from torchvision) (7.1.2)\n",
            "Requirement already satisfied: requests in /usr/local/lib/python3.8/dist-packages (from torchvision) (2.23.0)\n",
            "Requirement already satisfied: numpy in /usr/local/lib/python3.8/dist-packages (from torchvision) (1.21.6)\n",
            "Requirement already satisfied: chardet<4,>=3.0.2 in /usr/local/lib/python3.8/dist-packages (from requests->torchvision) (3.0.4)\n",
            "Requirement already satisfied: certifi>=2017.4.17 in /usr/local/lib/python3.8/dist-packages (from requests->torchvision) (2022.9.24)\n",
            "Requirement already satisfied: idna<3,>=2.5 in /usr/local/lib/python3.8/dist-packages (from requests->torchvision) (2.10)\n",
            "Requirement already satisfied: urllib3!=1.25.0,!=1.25.1,<1.26,>=1.21.1 in /usr/local/lib/python3.8/dist-packages (from requests->torchvision) (1.24.3)\n"
          ]
        }
      ]
    },
    {
      "cell_type": "markdown",
      "metadata": {
        "id": "68xM6jF0ZchA"
      },
      "source": [
        "## 라이브러리 및 데이터 불러오기"
      ]
    },
    {
      "cell_type": "code",
      "execution_count": 8,
      "metadata": {
        "id": "zJnLWFhmMGG4"
      },
      "outputs": [],
      "source": [
        "import numpy as np\n",
        "import pandas as pd\n",
        "import seaborn as sns\n",
        "import matplotlib.pyplot as plt\n",
        "import warnings\n",
        "import random\n",
        "import os\n",
        "import gc\n",
        "\n",
        "import statsmodels.graphics.tsaplots as sgt\n",
        "\n",
        "from typing import List, Optional, Tuple, Union\n",
        "from numpy.typing import NDArray\n",
        "from easydict import EasyDict\n",
        "\n",
        "from tqdm.auto import tqdm\n",
        "from glob import glob\n",
        "\n",
        "warnings.filterwarnings('ignore') "
      ]
    },
    {
      "cell_type": "code",
      "execution_count": 9,
      "metadata": {
        "colab": {
          "base_uri": "https://localhost:8080/"
        },
        "id": "GjvmmVOVMW_P",
        "outputId": "08526e63-d234-46a1-adef-007b777a1310"
      },
      "outputs": [
        {
          "output_type": "stream",
          "name": "stdout",
          "text": [
            "Mounted at /content/drive\n"
          ]
        }
      ],
      "source": [
        "from google.colab import drive\n",
        "\n",
        "drive.mount('/content/drive')  # 구글코랩과 구글드라이브 연결"
      ]
    },
    {
      "cell_type": "markdown",
      "metadata": {
        "id": "MRrJ4A5RKC4B"
      },
      "source": [
        "- 데이터 불러오기"
      ]
    },
    {
      "cell_type": "code",
      "execution_count": 11,
      "metadata": {
        "colab": {
          "base_uri": "https://localhost:8080/"
        },
        "id": "eVxuuFzhM72P",
        "outputId": "18175dc6-0b45-4f70-8819-d1bdf10a8b48"
      },
      "outputs": [
        {
          "output_type": "stream",
          "name": "stdout",
          "text": [
            "/content/drive/MyDrive/Colab Notebooks/농촌지역-수돗물-수요예측\n"
          ]
        }
      ],
      "source": [
        "# 현재 디렉토리 경로를 변경\n",
        "# 바뀐 디렉토리는 아래의 구조를 따라야 함\n",
        "%cd  /content/drive/MyDrive/Colab Notebooks/농촌지역-수돗물-수요예측  "
      ]
    },
    {
      "cell_type": "markdown",
      "source": [
        "- **디렉토리 구조 (중요)**"
      ],
      "metadata": {
        "id": "6xQ3_dh_ICu-"
      }
    },
    {
      "cell_type": "markdown",
      "source": [
        "```\n",
        "current_dir\n",
        "    |--농촌지역-수돗물-수요예측.ipynb  # 모델 학습 + test 재현 및 예측 + private 예측\n",
        "    |--data\n",
        "        |--data_tr_apo.csv\n",
        "        |--data_ts_apo.csv\n",
        "        |--sample_apo.csv\n",
        "        |--private_apo.csv  # data_ts_apo.csv와 연도만 다른 private 데이터\n",
        "        |--submission_private_apo.csv  # private 예측 후 생성될 제출 파일\n",
        "    |--pretrained_weights   # 학습된 모델의 가중치 (압축 파일을 해제하여 사용)\n",
        "        |--lstm_best_1.pt\n",
        "        |--lstm_best_2.pt\n",
        "        |--lstm_best_3.pt\n",
        "        |--lstm_best_4.pt\n",
        "        |--lstm_best_5.pt\n",
        "    |--weights  # 학습시킬 모델의 가중치가 저장될 폴더 \n",
        "```"
      ],
      "metadata": {
        "id": "IX28NA-q-5rm"
      }
    },
    {
      "cell_type": "markdown",
      "source": [
        "`-` **2022년 private 데이터 경로를 private_path 변수에 할당해 주세요**\n",
        "\n",
        "`-` **학습된 모델의 가중치 폴더 경로를 pretrained_weight_folder_path 변수에 할당해 주세요**"
      ],
      "metadata": {
        "id": "V2yJ2Yq5-iA3"
      }
    },
    {
      "cell_type": "code",
      "execution_count": 13,
      "metadata": {
        "id": "N7JdJZofCXED"
      },
      "outputs": [],
      "source": [
        "train_path = './data/data_tr_apo.csv'\n",
        "test_path = './data/data_ts_apo.csv'\n",
        "submission_path = './data/sample_apo.csv'\n",
        "private_path = './data/private_apo.csv'  \n",
        "pretrained_weight_folder_path = './pretrained_weights'\n",
        "weight_folder_path = './weights'  # 학습시킬 모델의 가중치가 저장될 폴더"
      ]
    },
    {
      "cell_type": "code",
      "execution_count": 14,
      "metadata": {
        "id": "dl5XJ4wb7joA"
      },
      "outputs": [],
      "source": [
        "df = pd.read_csv(train_path)\n",
        "test = pd.read_csv(test_path)\n",
        "submission = pd.read_csv(submission_path)\n",
        "private = pd.read_csv(private_path)  # 2022년 private 데이터"
      ]
    },
    {
      "cell_type": "code",
      "execution_count": 15,
      "metadata": {
        "id": "TOJPBmADOWLF"
      },
      "outputs": [],
      "source": [
        "# 변수 이름을 영문으로 변경\n",
        "df = df.rename(columns={'구미 아포배수지 유출유량 적산차':'flow'})\n",
        "test = test.rename(columns={'구미 아포배수지 유출유량 적산차':'flow'})\n",
        "private = private.rename(columns={'구미 아포배수지 유출유량 적산차':'flow'})\n",
        "\n",
        "\n",
        "# 날짜를 datetime 형식으로 변경\n",
        "df['datetime'] = pd.to_datetime(df['datetime'])\n",
        "test['datetime'] = pd.to_datetime(test['datetime'])\n",
        "submission['datetime'] = pd.to_datetime(submission['datetime'])\n",
        "private['datetime'] = pd.to_datetime(private['datetime'])"
      ]
    },
    {
      "cell_type": "code",
      "source": [
        "private = private.sort_values(by='datetime')"
      ],
      "metadata": {
        "id": "c6Afn9e6pmhd"
      },
      "execution_count": 16,
      "outputs": []
    },
    {
      "cell_type": "code",
      "source": [
        "# test 데이터의 마지막 일자는 2021년 12월 17일\n",
        "# private 데이터의 시작 일자는 아마도 2022년 1월 1일 \n",
        "# private 데이터를 예측하려면 예측할 시점 전의 적산차가 필요한데 존재하지 않음\n",
        "# private 예측을 위해 test, private 사이의 시간 공백을 채워줌 \n",
        "\n",
        "start = test.datetime[len(test) - 1] + pd.DateOffset(hours=1)\n",
        "end = private.datetime[0]\n",
        "tmp = pd.DataFrame(pd.date_range(start, end, freq='H', closed='left'), columns=['datetime'])  # flow는 결측치로 코딩, 추후에 결측치를 채워줄 것임\n",
        "private = pd.concat([test, tmp, private]).reset_index(drop=True)"
      ],
      "metadata": {
        "id": "kPXwUhFT_98p"
      },
      "execution_count": 17,
      "outputs": []
    },
    {
      "cell_type": "markdown",
      "metadata": {
        "id": "II2XMQAVsAQt"
      },
      "source": [
        "- 가중치 저장폴더"
      ]
    },
    {
      "cell_type": "code",
      "execution_count": 18,
      "metadata": {
        "id": "YnpAfBHMsCb1"
      },
      "outputs": [],
      "source": [
        "def create_folder(path: str) -> None:\n",
        "    try:\n",
        "        if not os.path.exists(path):\n",
        "            os.makedirs(path)\n",
        "    except OSError as error:\n",
        "        print(error)"
      ]
    },
    {
      "cell_type": "code",
      "source": [
        "create_folder(weight_folder_path)"
      ],
      "metadata": {
        "id": "y1c29sF1HIos"
      },
      "execution_count": 19,
      "outputs": []
    },
    {
      "cell_type": "markdown",
      "metadata": {
        "id": "C_dKoED1K0go"
      },
      "source": [
        "## 전처리\n"
      ]
    },
    {
      "cell_type": "markdown",
      "metadata": {
        "id": "n9adsWRfyT_Y"
      },
      "source": [
        "- 이상치와 결측치 처리"
      ]
    },
    {
      "cell_type": "code",
      "execution_count": 20,
      "metadata": {
        "colab": {
          "base_uri": "https://localhost:8080/",
          "height": 283
        },
        "id": "H8s8AF0SxyzB",
        "outputId": "961c9eb0-e1ba-4728-d794-d6576c6f46ed"
      },
      "outputs": [
        {
          "output_type": "execute_result",
          "data": {
            "text/plain": [
              "<matplotlib.axes._subplots.AxesSubplot at 0x7fbd7f104a30>"
            ]
          },
          "metadata": {},
          "execution_count": 20
        },
        {
          "output_type": "display_data",
          "data": {
            "text/plain": [
              "<Figure size 432x288 with 1 Axes>"
            ],
            "image/png": "[encoded data removed]"
          },
          "metadata": {
            "needs_background": "light"
          }
        }
      ],
      "source": [
        "df.query('0 < flow < 500').flow.plot.box()"
      ]
    },
    {
      "cell_type": "markdown",
      "metadata": {
        "id": "XOddn-B5Oq-c"
      },
      "source": [
        "`-` 매우 큰 값 또는 작은 값이 나타난다 (계측기에 문제가 있는 것으로 보임)\n",
        "\n",
        "`-` 0인 경우도 존재한는데 계측기의 오류 또는 모종의 이유로 물이 흐르지 않은 것으로 보인다 (i.g. 배수지 청소로 인해 단수)\n",
        "\n",
        "`-` 이런 경우 적산차값만 사용해 예측하는 것은 불가능하므로 이상치로 처리하겠다  \n",
        "\n",
        "`-` 한편, 큰 양수의 경우 이상치의 기준은 300을 넘지 않는 값 중 최댓값으로 하겠다 (위의 box-plot에 기반함, IQR을 넘는 값들을 보면 300부터 절단되어 빈도수가 작아짐)\n",
        "\n",
        "`-` 이상치와 결측치는 계절성을 고려하여 전날 같은 시각의 적산차값으로 대체하겠다"
      ]
    },
    {
      "cell_type": "code",
      "execution_count": 21,
      "metadata": {
        "id": "g8FoMs9hYhZA"
      },
      "outputs": [],
      "source": [
        "def outlier2na(\n",
        "    time_series: pd.Series, \n",
        "    *, \n",
        "    minimum: float = 0.0, \n",
        "    maximum: float = np.inf\n",
        ") -> pd.Series:\n",
        "    time_series = time_series.copy()\n",
        "    time_series = time_series.apply(lambda x: x if minimum < x <= maximum else np.nan)\n",
        "    return time_series\n",
        "\n",
        "\n",
        "def fillna_seasonality(time_series: pd.Series, period: int = 24) -> pd.Series:\n",
        "    \"\"\"period 시점 앞의 값으로 결측치를 재귀적으로 채우고 데이터를 반환\"\"\"\n",
        "    assert time_series.ndim == 1\n",
        "    time_series = time_series.copy()  # 원본이 변하지 않도록 복제 \n",
        "    na_idx = time_series[time_series.isnull()].index.values\n",
        "    fill_idx = na_idx - period  # period 시점 앞의 값으로 결측치를 채운다\n",
        "    fill_idx = np.where(fill_idx < 0, fill_idx + period, fill_idx)\n",
        "\n",
        "    if not na_idx.size:                  # 결측치가 존재하지 않으면 원본을 반환\n",
        "        return time_series\n",
        "    if np.in1d(fill_idx, na_idx).all():  # 모든 결측치에 대해 period 시점 앞의 값이 결측치면 원본을 반환\n",
        "        return time_series\n",
        "\n",
        "    time_series[na_idx] = time_series[fill_idx]\n",
        "    return fillna_seasonality(time_series, period)\n",
        "\n",
        "\n",
        "def fillna(time_series: pd.Series, period: int = 24) -> pd.Series:\n",
        "    return fillna_seasonality(time_series, period).fillna(method='ffill').fillna(0)"
      ]
    },
    {
      "cell_type": "code",
      "execution_count": 22,
      "metadata": {
        "id": "OCTJffl_zdp4"
      },
      "outputs": [],
      "source": [
        "# 이상치는 결측치로 처리한다\n",
        "cut_max_value = 300 \n",
        "df_max = df.flow[df.flow < cut_max_value].max()\n",
        "df['flow'] = outlier2na(df['flow'], maximum=df_max)\n",
        "test['flow'] = outlier2na(test['flow'], maximum=df_max)\n",
        "private['flow'] = outlier2na(private['flow'], maximum=df_max)"
      ]
    },
    {
      "cell_type": "code",
      "execution_count": 23,
      "metadata": {
        "id": "7FiEFzqFJmbQ"
      },
      "outputs": [],
      "source": [
        "# 결측치는 계절성을 고려하여 전날 같은 시각의 적산차값으로 채운다 \n",
        "df['flow'] = fillna(df['flow'])\n",
        "test['flow'] = fillna(test['flow'])\n",
        "private['flow'] = fillna(private['flow'])"
      ]
    },
    {
      "cell_type": "code",
      "source": [
        "private = private[private.datetime >= start].reset_index(drop=True)"
      ],
      "metadata": {
        "id": "MAZHRI0PJ2H6"
      },
      "execution_count": 24,
      "outputs": []
    },
    {
      "cell_type": "markdown",
      "metadata": {
        "id": "bvB62nkihj3a"
      },
      "source": [
        "## 시각화 (모델 학습과 무관)"
      ]
    },
    {
      "cell_type": "markdown",
      "source": [
        "`-` **모델 학습과 무관한 파트입니다**\n",
        "\n",
        "`-` **생략하셔도 코드 실행에 문제가 없습니다**"
      ],
      "metadata": {
        "id": "Nwxb_GiyS07k"
      }
    },
    {
      "cell_type": "code",
      "execution_count": 25,
      "metadata": {
        "id": "V0EIo2-sFMK9"
      },
      "outputs": [],
      "source": [
        "sns.set_theme(style='white')"
      ]
    },
    {
      "cell_type": "code",
      "execution_count": 26,
      "metadata": {
        "colab": {
          "base_uri": "https://localhost:8080/",
          "height": 324
        },
        "id": "l3eOIr0N2P6f",
        "outputId": "6f82273e-6a00-44b4-d5bf-851375155c68"
      },
      "outputs": [
        {
          "output_type": "execute_result",
          "data": {
            "text/plain": [
              "<matplotlib.axes._subplots.AxesSubplot at 0x7fbd92d95ca0>"
            ]
          },
          "metadata": {},
          "execution_count": 26
        },
        {
          "output_type": "display_data",
          "data": {
            "text/plain": [
              "<Figure size 432x288 with 1 Axes>"
            ],
            "image/png": "[encoded data removed]"
          },
          "metadata": {}
        }
      ],
      "source": [
        "# 연도별 적산차의 분포\n",
        "df.assign(year = df.datetime.dt.year).boxplot(column='flow', by='year', grid=False)"
      ]
    },
    {
      "cell_type": "markdown",
      "metadata": {
        "id": "aIipbcAj1tNG"
      },
      "source": [
        "`-` 적산차의 경우 2017년과 나머지 연도는 다른 분포를 띄고있다 (평균과 분산이 더 커졌다)\n",
        "\n",
        "`-` 모델 훈련에 2017년 데이터를 사용하지 않겠다"
      ]
    },
    {
      "cell_type": "code",
      "execution_count": 27,
      "metadata": {
        "colab": {
          "base_uri": "https://localhost:8080/",
          "height": 357
        },
        "id": "5lkHLhKReVPo",
        "outputId": "858c9857-bc4a-4925-bf6d-c1754842c040"
      },
      "outputs": [
        {
          "output_type": "execute_result",
          "data": {
            "text/plain": [
              "<matplotlib.axes._subplots.AxesSubplot at 0x7fbd92d95b80>"
            ]
          },
          "metadata": {},
          "execution_count": 27
        },
        {
          "output_type": "display_data",
          "data": {
            "text/plain": [
              "<Figure size 720x360 with 1 Axes>"
            ],
            "image/png": "[encoded data removed]"
          },
          "metadata": {}
        }
      ],
      "source": [
        "fig, ax = plt.subplots(figsize=(10, 5))\n",
        "sns.lineplot(x='datetime', y='flow', data=df, ax=ax)"
      ]
    },
    {
      "cell_type": "code",
      "execution_count": 28,
      "metadata": {
        "colab": {
          "base_uri": "https://localhost:8080/",
          "height": 501
        },
        "id": "z08EvLmvIJv5",
        "outputId": "0f29f890-b692-4610-b37c-383ccecfcad2"
      },
      "outputs": [
        {
          "output_type": "display_data",
          "data": {
            "text/plain": [
              "<Figure size 720x576 with 2 Axes>"
            ],
            "image/png": "[encoded data removed]"
          },
          "metadata": {}
        }
      ],
      "source": [
        "fig, (ax1, ax2) = plt.subplots(2, 1, figsize=(10, 8))\n",
        "sgt.plot_acf(df['flow'], lags = 100, ax=ax1);\n",
        "sgt.plot_pacf(df['flow'], lags = 100, ax=ax2);"
      ]
    },
    {
      "cell_type": "markdown",
      "metadata": {
        "id": "aQ0MbMTP593M"
      },
      "source": [
        "`-` 그래프에 2017년을 제외하면 추세는 존재하지 않고 강한 계절성이 존재한다\n",
        "\n",
        "`-` ACF, PACF의 정의에 따라 0시점 차이는 의미가 없으므로 무시한다\n",
        "\n",
        "`-` 계절성이 매우 강하다\n",
        "\n",
        "`-` 사이클(W 모양)이 대략 24시간 마다 반복되므로 최소 24시간 분량의 변수를 모델의 입력으로 사용해야 한다"
      ]
    },
    {
      "cell_type": "markdown",
      "source": [
        "- 고점 판단"
      ],
      "metadata": {
        "id": "J4mpIchKGpQR"
      }
    },
    {
      "cell_type": "markdown",
      "source": [
        "`-` 시각화하면 알 수 있는데 고점은 하루에 2번 나타난다 (9시 부근, 20시 부근, 나머지는 잡음으로 생각)"
      ],
      "metadata": {
        "id": "ZDb64B8GI5wg"
      }
    },
    {
      "cell_type": "code",
      "source": [
        "high_value = np.quantile(df['flow'].values, q=1-2/24)  # 하루에 고점은 2번 (시각화로 확인함)\n",
        "\n",
        "# 하루 24시간 적산차의 변화\n",
        "fig, (ax1, ax2) = plt.subplots(1, 2, figsize=(10, 5))\n",
        "sns.lineplot(data=df['flow'].iloc[-24:].reset_index(drop=True), ax=ax1)\n",
        "\n",
        "\n",
        "# 고점의 분포\n",
        "df.assign(year = df.datetime.dt.year).query('year > 2017').\\\n",
        "assign(is_high = (df.flow > high_value).astype(int)).\\\n",
        "assign(hour = df.datetime.dt.hour).\\\n",
        "groupby('hour').agg(high_counts=('is_high', np.sum)).\\\n",
        "reset_index().plot.bar(x='hour', y='high_counts', rot=0, ax=ax2)"
      ],
      "metadata": {
        "colab": {
          "base_uri": "https://localhost:8080/",
          "height": 357
        },
        "id": "BZlAh9c3OkbE",
        "outputId": "9106967a-94ba-43a8-8fc1-cd9c3d25fff8"
      },
      "execution_count": 29,
      "outputs": [
        {
          "output_type": "execute_result",
          "data": {
            "text/plain": [
              "<matplotlib.axes._subplots.AxesSubplot at 0x7fbd7c3fa310>"
            ]
          },
          "metadata": {},
          "execution_count": 29
        },
        {
          "output_type": "display_data",
          "data": {
            "text/plain": [
              "<Figure size 720x360 with 2 Axes>"
            ],
            "image/png": "[encoded data removed]"
          },
          "metadata": {}
        }
      ]
    },
    {
      "cell_type": "markdown",
      "source": [
        "`-` 모델 학습에서 가장 큰 문제점은 고점이 언제인지 판단하는 것이다"
      ],
      "metadata": {
        "id": "I6_sMr-OGF_J"
      }
    },
    {
      "cell_type": "markdown",
      "source": [
        "## 학습 및 예측에 사용할 함수 선언"
      ],
      "metadata": {
        "id": "pbnHw9XBQ-Qr"
      }
    },
    {
      "cell_type": "code",
      "execution_count": 24,
      "metadata": {
        "id": "wHqcoMavJK1Q",
        "colab": {
          "base_uri": "https://localhost:8080/"
        },
        "outputId": "f99ee177-b296-460d-9f7a-891029bf0b4c"
      },
      "outputs": [
        {
          "output_type": "stream",
          "name": "stdout",
          "text": [
            "Cloning into 'RevIN'...\n",
            "remote: Enumerating objects: 181, done.\u001b[K\n",
            "remote: Counting objects: 100% (181/181), done.\u001b[K\n",
            "remote: Compressing objects: 100% (154/154), done.\u001b[K\n",
            "remote: Total 181 (delta 62), reused 93 (delta 20), pack-reused 0\u001b[K\n",
            "Receiving objects: 100% (181/181), 2.84 MiB | 15.15 MiB/s, done.\n",
            "Resolving deltas: 100% (62/62), done.\n"
          ]
        }
      ],
      "source": [
        "!git clone https://github.com/ts-kim/RevIN.git"
      ]
    },
    {
      "cell_type": "code",
      "execution_count": 30,
      "metadata": {
        "id": "n8LBsMPybBJx"
      },
      "outputs": [],
      "source": [
        "import torch\n",
        "import torch.nn as nn\n",
        "import torch.optim as optim\n",
        "import torch.nn.functional as F\n",
        "from torch import Tensor\n",
        "from torch.utils.data import Dataset, DataLoader\n",
        "from torch.optim.lr_scheduler import _LRScheduler\n",
        "from torch.nn.modules.loss import _Loss\n",
        "from torch.optim import Optimizer\n",
        "\n",
        "import sklearn\n",
        "from sklearn.preprocessing import MinMaxScaler\n",
        "from sklearn.model_selection import TimeSeriesSplit\n",
        "from sklearn.metrics import mean_absolute_error, mean_squared_error\n",
        "\n",
        "from RevIN.RevIN import RevIN  # RevIN 폴더안에 있는 RevIN.py 안에 있는 RevIN 클래스를 import"
      ]
    },
    {
      "cell_type": "markdown",
      "metadata": {
        "id": "0k2BNfj7EAll"
      },
      "source": [
        "- 학습 방법\n",
        "\n",
        "`-` 96시간의 적산차를 이용해 다음 시점을 포함하여 336시간 분량의 적산차를 예측하는 모델을 적합"
      ]
    },
    {
      "cell_type": "markdown",
      "source": [
        "- 데이터 형태 변경"
      ],
      "metadata": {
        "id": "qU-JFQKOWKe_"
      }
    },
    {
      "cell_type": "code",
      "execution_count": 31,
      "metadata": {
        "id": "HGvNlbWPGnsq"
      },
      "outputs": [],
      "source": [
        "def ts_train2supervised(\n",
        "    ts: NDArray[np.float_], \n",
        "    window: int = 24,\n",
        "    gap: int = 1, \n",
        "    step: int = 336\n",
        ") -> Tuple[NDArray[np.float_], NDArray[np.float_]]:\n",
        "    assert ts.ndim == 2 and ts.shape[1] == 1\n",
        "    X, y = [], []\n",
        "    for t in range(len(ts) - (window+gap+step) + 2):\n",
        "        X.append(ts[t:t+window])\n",
        "        y.append(ts[t+window+gap-1 : t+window+gap+step-1])\n",
        "    X, y = np.array(X), np.array(y)  \n",
        "    return X, y"
      ]
    },
    {
      "cell_type": "code",
      "execution_count": 32,
      "metadata": {
        "id": "7HYc-KVpX0df"
      },
      "outputs": [],
      "source": [
        "def ts_test2supervised(\n",
        "    ts: NDArray[np.float_], \n",
        "    window: int = 24\n",
        ") -> NDArray[np.float_]:\n",
        "    assert ts.ndim == 2 and ts.shape[1] == 1\n",
        "    X = []\n",
        "    for t in range(len(ts) - window + 1):\n",
        "        X.append(ts[t:t+window])\n",
        "    X = np.array(X)\n",
        "    return X"
      ]
    },
    {
      "cell_type": "markdown",
      "source": [
        "- 난수 고정"
      ],
      "metadata": {
        "id": "vZNIkGjNWMMB"
      }
    },
    {
      "cell_type": "code",
      "execution_count": 33,
      "metadata": {
        "id": "v019psysRPs_"
      },
      "outputs": [],
      "source": [
        "def seed_everything(seed):\n",
        "    random.seed(seed)\n",
        "    os.environ['PYTHONHASHSEED'] = str(seed)\n",
        "    np.random.seed(seed)\n",
        "    torch.manual_seed(seed)\n",
        "    torch.cuda.manual_seed(seed)\n",
        "    torch.backends.cudnn.deterministic = True\n",
        "    torch.backends.cudnn.benchmark = False\n",
        "    torch.backends.cudnn.enabled = False  "
      ]
    },
    {
      "cell_type": "code",
      "execution_count": 34,
      "metadata": {
        "id": "pWvI00B4QjAw"
      },
      "outputs": [],
      "source": [
        "def clear_gpu() -> None:\n",
        "    gc.collect()\n",
        "    torch.cuda.empty_cache()"
      ]
    },
    {
      "cell_type": "markdown",
      "metadata": {
        "id": "qDLcPXXlnMNp"
      },
      "source": [
        "- 피쳐 스케일링"
      ]
    },
    {
      "cell_type": "markdown",
      "metadata": {
        "id": "hTgXV10duoi9"
      },
      "source": [
        "`-` 0 ~ 1 사이로 정규화"
      ]
    },
    {
      "cell_type": "code",
      "execution_count": 35,
      "metadata": {
        "id": "mzutTB9enN9p"
      },
      "outputs": [],
      "source": [
        "minmax_scaler = MinMaxScaler()\n",
        "flow_scaled = minmax_scaler.fit_transform(df['flow'].values.reshape(-1, 1))  \n",
        "flow_scaled_test = minmax_scaler.transform(test['flow'].values.reshape(-1, 1))   \n",
        "flow_scaled_private = minmax_scaler.transform(private['flow'].values.reshape(-1, 1))   "
      ]
    },
    {
      "cell_type": "markdown",
      "metadata": {
        "id": "wBTn29ty8G60"
      },
      "source": [
        "- 데이터 셋과 데이터 로더"
      ]
    },
    {
      "cell_type": "code",
      "execution_count": 36,
      "metadata": {
        "id": "h2fyJFdrkPMw"
      },
      "outputs": [],
      "source": [
        "class CustomDataset(Dataset):\n",
        "    def __init__(self, X: NDArray[np.float_], y: Optional[NDArray[np.float_]] = None) -> None:\n",
        "        super(CustomDataset, self).__init__()\n",
        "        self.X = X\n",
        "        self.y = y\n",
        "\n",
        "    def __getitem__(self, idx: int) -> Union[Tuple[Tensor, Tensor], Tensor]:\n",
        "        X = torch.FloatTensor(self.X[idx])\n",
        "        if self.y is not None:\n",
        "            y = torch.FloatTensor(self.y[idx])\n",
        "            return X, y\n",
        "        return X\n",
        "\n",
        "    def __len__(self) -> int:\n",
        "        return self.X.shape[0]"
      ]
    },
    {
      "cell_type": "code",
      "execution_count": 37,
      "metadata": {
        "id": "Sh9y6n1z8OAc"
      },
      "outputs": [],
      "source": [
        "def get_dataloader(\n",
        "    X: NDArray[np.float_], \n",
        "    y: Optional[NDArray[np.float_]] = None, \n",
        "    batch_size: int = 64, \n",
        "    shuffle: bool = True\n",
        ") -> DataLoader:\n",
        "    dataset = CustomDataset(X, y)    \n",
        "    dataloader = DataLoader(dataset, batch_size=batch_size, shuffle=shuffle)\n",
        "    return dataloader"
      ]
    },
    {
      "cell_type": "markdown",
      "metadata": {
        "id": "8Zcka8vB9vVd"
      },
      "source": [
        "- 조기 중단"
      ]
    },
    {
      "cell_type": "code",
      "execution_count": 38,
      "metadata": {
        "id": "GThXBWqi7NE1"
      },
      "outputs": [],
      "source": [
        "# ref: https://github.com/Bjarten/early-stopping-pytorch/blob/master/pytorchtools.py\n",
        "class EarlyStopping:\n",
        "    \"\"\"주어진 patience 횟수 이후로 validation score가 개선되지 않으면 학습을 조기 중단\"\"\"\n",
        "    mode_dict = {'min':-1, 'max':1}\n",
        "    score_metrics = [\n",
        "        'accuracy',\n",
        "        'f1_score',\n",
        "        'mae',\n",
        "    ]\n",
        "\n",
        "    def __init__(\n",
        "        self, \n",
        "        patience: int = 7, \n",
        "        monitor: str = 'loss', \n",
        "        mode: str = 'min', \n",
        "        min_delta: float = 0.0, \n",
        "        folder_path: str = './weights', \n",
        "        model_name: str = '',\n",
        "    ) -> None:\n",
        "        self.patience = patience\n",
        "        self.counter = 0\n",
        "        self.mode = mode\n",
        "        self.direction = self.mode_dict[mode]\n",
        "        self.monitor = monitor\n",
        "        self.best_score = -np.Inf\n",
        "        self.valid_loss = np.Inf\n",
        "        self.valid_metric_score = None  # 평가지표 (i.g. accuracy)\n",
        "        self.early_stop = False\n",
        "        self.min_delta = min_delta\n",
        "        self.folder_path = folder_path    \n",
        "        self.model_name = model_name\n",
        "        self.reset_fold()  # for k-fold cross validation\n",
        "\n",
        "    def __call__(\n",
        "        self, \n",
        "        model: nn.Module, \n",
        "        valid_loss: float, \n",
        "        valid_metric_score: Optional[float] = None\n",
        "    ) -> None:\n",
        "        # score는 클수록 좋다\n",
        "        if self.monitor == 'loss':\n",
        "            score = valid_loss * self.direction\n",
        "        elif self.monitor in self.score_metrics:\n",
        "            score = valid_metric_score * self.direction\n",
        "        else:\n",
        "            score = None\n",
        "\n",
        "        # score가 개선되었는지 확인\n",
        "        if score <= self.best_score + self.min_delta: \n",
        "            self.counter += 1 \n",
        "            if self.counter > self.patience:  # 만약 score가 개선되지 않은 에폭이 patience 횟수보다 크다면 조기 중단\n",
        "                self.early_stop = True\n",
        "        else: \n",
        "            self.best_score = score \n",
        "            self.save_checkpoint(model, valid_loss, valid_metric_score) \n",
        "            self.counter = 0  # score가 개선되었으므로 0으로 변경\n",
        "\n",
        "    def save_checkpoint(\n",
        "        self, \n",
        "        model: nn.Module, \n",
        "        valid_loss: float, \n",
        "        valid_metric_score: Optional[float] = None\n",
        "    ) -> None:\n",
        "        \"\"\"validation score가 개선되면 모델을 저장\"\"\"\n",
        "        torch.save(model.state_dict(), self.path) \n",
        "        self.valid_loss = valid_loss  # 모델이 더 좋게 갱신되었으므로 이때의 valid loss를 기준치로 변경\n",
        "        self.valid_metric_score = valid_metric_score  # 이때의 valid metric score도 변경\n",
        "\n",
        "    @property\n",
        "    def path(self) -> str:\n",
        "        return f'{self.folder_path}/{self.model_name}_best_{self.fold}.pt'\n",
        "\n",
        "    def reset_fold(self) -> None:\n",
        "        self.fold = 0\n",
        "\n",
        "    def update_fold(self) -> None:\n",
        "        self.fold += 1\n",
        "\n",
        "    def reset_score(self) -> None:\n",
        "        \"\"\"다음 fold 학습을 위해 score 관련 파라미터를 초기화\"\"\"\n",
        "        self.counter = 0\n",
        "        self.best_score = -np.Inf\n",
        "        self.valid_loss = np.Inf\n",
        "        self.valid_metric_score = None\n",
        "        self.early_stop = False"
      ]
    },
    {
      "cell_type": "markdown",
      "metadata": {
        "id": "Kd-RlDPrAvyT"
      },
      "source": [
        "- 손실 함수"
      ]
    },
    {
      "cell_type": "code",
      "execution_count": 39,
      "metadata": {
        "id": "PvuxFxaFAwwD"
      },
      "outputs": [],
      "source": [
        "loss_fn = nn.L1Loss()  # MAE"
      ]
    },
    {
      "cell_type": "markdown",
      "source": [
        "- 학습 및 검증"
      ],
      "metadata": {
        "id": "ixIZ19boV4tq"
      }
    },
    {
      "cell_type": "code",
      "execution_count": 40,
      "metadata": {
        "id": "3TYzo_fJAdd0"
      },
      "outputs": [],
      "source": [
        "def train(\n",
        "    model: nn.Module,\n",
        "    dataloader: DataLoader, \n",
        "    loss_fn: _Loss, \n",
        "    scaler: torch.cuda.amp.GradScaler,\n",
        "    optimizer: Optimizer, \n",
        "    scheduler: Optional[_LRScheduler] = None,\n",
        "    args: EasyDict = None\n",
        ") -> Tuple[nn.Module, float]:\n",
        "    \"\"\"dataloader의 데이터로 모델을 학습시킨 후 학습된 모델과 평균 배치 훈련 오차를 반환\"\"\"  \n",
        "    train_loss = 0.0\n",
        "    model.to(args.device)\n",
        "    model.train()\n",
        "\n",
        "    for X, y in dataloader:  \n",
        "        X, y = X.to(args.device), y.to(args.device) \n",
        "        with torch.cuda.amp.autocast():\n",
        "            y_hat = model(X)\n",
        "            loss = loss_fn(y_hat, y)  \n",
        "\n",
        "        optimizer.zero_grad()  \n",
        "        scaler.scale(loss).backward()\n",
        "        scaler.unscale_(optimizer)\n",
        "        torch.nn.utils.clip_grad_norm_(model.parameters(), max_norm=args.max_norm)\n",
        "        scaler.step(optimizer)\n",
        "        scaler.update()\n",
        "        train_loss += (loss.item() / len(dataloader)) \n",
        "  \n",
        "    # 에폭마다 학습률 조절\n",
        "    if scheduler is not None:\n",
        "        scheduler.step()\n",
        "        \n",
        "    return model, train_loss"
      ]
    },
    {
      "cell_type": "code",
      "execution_count": 41,
      "metadata": {
        "id": "fVZDILgmAnfl"
      },
      "outputs": [],
      "source": [
        "def evaluate(\n",
        "    model: nn.Module, \n",
        "    dataloader: DataLoader, \n",
        "    loss_fn: _Loss,\n",
        "    args: EasyDict\n",
        ") -> Tuple[float, float]:\n",
        "    \"\"\"dataloader의 데이터를 모델이 평가한 후 평균 배치 검증 오차와 MAE를 반환\"\"\"\n",
        "    valid_loss = 0.0\n",
        "    y_array, yhat_array = np.array([]).reshape(0, args.num_classes), np.array([]).reshape(0, args.num_classes)\n",
        "    model.to(args.device)\n",
        "    model.eval()  \n",
        "\n",
        "    with torch.no_grad():  \n",
        "        for X, y in dataloader:  \n",
        "            X, y = X.to(args.device), y.to(args.device) \n",
        "            with torch.cuda.amp.autocast():\n",
        "                y_hat = model(X)\n",
        "                loss = loss_fn(y_hat, y)\n",
        "                  \n",
        "            y = y.detach().cpu().numpy()  \n",
        "            y_hat = y_hat.detach().cpu().numpy()  \n",
        "            y_array = np.concatenate([y_array, minmax_scaler.inverse_transform(y)])\n",
        "            yhat_array = np.concatenate([yhat_array, minmax_scaler.inverse_transform(y_hat)])\n",
        "            valid_loss += (loss.item() / len(dataloader))\n",
        "\n",
        "    valid_mae = mean_absolute_error(y_array, yhat_array)        \n",
        "    return valid_loss, valid_mae"
      ]
    },
    {
      "cell_type": "code",
      "execution_count": 42,
      "metadata": {
        "id": "aqXGOMVTAp0V"
      },
      "outputs": [],
      "source": [
        "def kfold_cross_validate(\n",
        "    model: nn.Module, \n",
        "    X: NDArray[np.float_],\n",
        "    y: NDArray[np.float_],\n",
        "    loss_fn: _Loss, \n",
        "    early_stopping: EarlyStopping,\n",
        "    args: EasyDict \n",
        ") -> Tuple[nn.Module, List[List[float]], List[List[float]]]:\n",
        "    \"\"\"K겹 교차검증을 통해 모델의 성능을 평가하고 학습된 모델과 폴드별 훈련 손실, 검증 손실을 반환\"\"\"\n",
        "    seed_everything(args.seed)   # 정확한 재현을 위함\n",
        "    fold_valid_loss = []         # 폴드별 best 검증 손실\n",
        "    fold_valid_mae = []          # 폴드별 best 검증 MAE\n",
        "    fold_train_losses_per_epoch = [[] for _ in range(args.num_folds)]  # 폴드별 1 에폭에 따른 훈련 배치 손실\n",
        "    fold_valid_losses_per_epoch = [[] for _ in range(args.num_folds)]  # 폴드별 1 에폭에 따른 검증 배치 손실\n",
        "    early_stopping.reset_fold()  # 폴드 순서 0 번째로 초기화\n",
        "    tscv = TimeSeriesSplit(n_splits=args.num_folds)     \n",
        "\n",
        "    for fold, (train_idx, val_idx) in enumerate(tscv.split(X)):\n",
        "        print(f'[{fold + 1} / {args.num_folds}] Fold Training......')\n",
        "\n",
        "        # 메모리 절약\n",
        "        clear_gpu()\n",
        "\n",
        "        # 훈련 데이터와 검증 데이터로 분할\n",
        "        X_train, y_train = X[train_idx], y[train_idx] \n",
        "        X_val, y_val =  X[val_idx], y[val_idx]\n",
        "\n",
        "        # Dataloader\n",
        "        train_dataloader = get_dataloader(X_train, y_train, args.bs)\n",
        "        valid_dataloader = get_dataloader(X_val, y_val, args.bs, shuffle=False)\n",
        "\n",
        "        # optimizer\n",
        "        optimizer = optim.AdamW(model.parameters(), lr=args.lr, weight_decay=args.weight_decay) \n",
        "\n",
        "        # scheduler\n",
        "        scheduler = optim.lr_scheduler.ExponentialLR(optimizer, gamma=args.lr_gamma)\n",
        "\n",
        "        # grad scalder\n",
        "        scaler = torch.cuda.amp.GradScaler()\n",
        "\n",
        "        # early stopping, 다음 폴드 학습을 위해 score 관련 파라미터 초기화\n",
        "        early_stopping.reset_score()\n",
        "        early_stopping.update_fold()  \n",
        "        \n",
        "        # 폴드마다 모델 학습\n",
        "        for epoch in tqdm(range(1, args.num_epochs+1)):  # (배치사이즈 * 에폭) 만큼 훈련시킴           \n",
        "            model, train_loss = train(model, train_dataloader, loss_fn, scaler, optimizer, scheduler, args)  # 모델 학습\n",
        "            valid_loss, valid_mae = evaluate(model, valid_dataloader, loss_fn, args)  # 모델 평가\n",
        "            fold_train_losses_per_epoch[fold].append(train_loss) \n",
        "            fold_valid_losses_per_epoch[fold].append(valid_loss)  \n",
        "\n",
        "            print_score_condition = (epoch == 1 or epoch % 10 == 0 or epoch == args.num_epochs)  \n",
        "            score_information = f'[Epoch: {epoch:>2}]  train loss = {train_loss:.5f}  valid loss = {valid_loss:.5f}  valid MAE = {valid_mae:.5f}'\n",
        "\n",
        "            # 평균 배치 훈련 오차와 검증 오차 출력\n",
        "            if print_score_condition:  \n",
        "                print(score_information)  \n",
        "                \n",
        "            # 에폭마다 early stopping 실행\n",
        "            early_stopping(model, valid_loss, valid_mae)  \n",
        "            if early_stopping.early_stop: \n",
        "                if not print_score_condition:  # 이미 출력한 에폭에 대해 중복으로 출력하지 않기 위함\n",
        "                    print(score_information) \n",
        "                print('Early Stopping!')\n",
        "                break \n",
        "\n",
        "        fold_valid_loss.append(early_stopping.valid_loss)         # 폴드별 best 검증 손실\n",
        "        fold_valid_mae.append(early_stopping.valid_metric_score)  # 폴드별 best 검증 MAE\n",
        "\n",
        "        # 폴드 학습 및 검증 종료시 best 검증 손실과 매트릭 스코어를 출력\n",
        "        print(f'{fold + 1} Fold Best -> Valid Loss: {early_stopping.valid_loss:.5f} Valid MAE: {early_stopping.valid_metric_score:.5f}', end='\\n'*2)\n",
        "      \n",
        "    # 폴드별 best 모델의 평균 검증 손실과 평균 매트릭 스코어를 출력\n",
        "    print(f'{args.num_folds} Fold Mean Valid Loss: {np.mean(fold_valid_loss):.5f}')\n",
        "    print(f'{args.num_folds} Fold Mean Valid Accuracy: {np.mean(fold_valid_mae):.5f}')\n",
        "    return model, fold_train_losses_per_epoch, fold_valid_losses_per_epoch"
      ]
    },
    {
      "cell_type": "markdown",
      "metadata": {
        "id": "pWYLU7_oUqRA"
      },
      "source": [
        "- 에폭에 따른 손실의 변화"
      ]
    },
    {
      "cell_type": "code",
      "execution_count": 43,
      "metadata": {
        "id": "FbH8KhGHTVgA"
      },
      "outputs": [],
      "source": [
        "def show_loss_plot(\n",
        "    fold_train_losses: List[List[float]],\n",
        "    fold_valid_losses: List[List[float]]\n",
        ") -> None:\n",
        "    \"\"\"폴드별로 에폭에 따른 모델의 훈련 손실과 검증 손실의 변화를 시각화\"\"\"\n",
        "    assert len(fold_train_losses) == len(fold_valid_losses)\n",
        "    num_folds = len(fold_train_losses)\n",
        "    ncols = 3\n",
        "    nrows = 1 + (num_folds - 1)//ncols\n",
        "    fig, axes = plt.subplots(nrows, ncols, figsize=(ncols*4, nrows*4)) \n",
        "\n",
        "    # 폴드마다 에폭에 따른 훈련 손실과 검증 손실의 변화를 시각화\n",
        "    for fold, (ax, train_losses, valid_losses) in enumerate(zip(axes.flatten(), fold_train_losses, fold_valid_losses), start=1):\n",
        "        assert len(train_losses) == len(valid_losses) \n",
        "        if fold > num_folds:\n",
        "            break\n",
        "\n",
        "        num_epochs = len(train_losses)\n",
        "        ax.set_title(f'{fold} Fold')\n",
        "        ax.plot(range(1, num_epochs+1), train_losses, label='Train')\n",
        "        ax.plot(range(1, num_epochs+1), valid_losses, label='Valid')\n",
        "        ax.set_xlabel('Epoch')\n",
        "        ax.set_ylabel('Loss')\n",
        "        ax.legend()\n",
        "\n",
        "    fig.suptitle('Train Loss and Valid Loss', x=0.51, y=1.05, fontsize=15)\n",
        "    fig.tight_layout()\n",
        "\n",
        "    # 남는 서브 플랏 제거\n",
        "    for ax in axes.flatten():\n",
        "        if not ax.has_data():\n",
        "            fig.delaxes(ax)"
      ]
    },
    {
      "cell_type": "markdown",
      "source": [
        "- Test 예측"
      ],
      "metadata": {
        "id": "czEnyW8-RuuB"
      }
    },
    {
      "cell_type": "code",
      "execution_count": 44,
      "metadata": {
        "id": "QYwPFyu3jq2X"
      },
      "outputs": [],
      "source": [
        "def predict(\n",
        "    model: nn.Module, \n",
        "    X: NDArray[np.float_],\n",
        "    weight_folder_path: str,\n",
        "    args: EasyDict\n",
        ") -> Tensor:   \n",
        "    weight_paths = glob(weight_folder_path + '/*.pt')\n",
        "    dataloader = get_dataloader(X, shuffle=False)\n",
        "    test_preds = torch.zeros(len(dataloader.dataset), args.num_classes)  \n",
        "    num_folds = len([weight_path for weight_path in weight_paths if args.model_name in weight_path])\n",
        "     \n",
        "    for weight_path in tqdm(weight_paths):\n",
        "        if args.model_name not in weight_path:\n",
        "            continue\n",
        "            \n",
        "        preds = np.array([]).reshape(0, args.num_classes)\n",
        "        model.load_state_dict(torch.load(weight_path, map_location=args.device))\n",
        "        model.to(args.device)\n",
        "        model.eval()\n",
        "\n",
        "        with torch.no_grad(): \n",
        "            for X in dataloader:  # test 데이터는 라벨(y)이 없다\n",
        "                X = X.to(args.device)  \n",
        "                y_hat = model(X).detach().cpu().numpy()   \n",
        "                preds = np.concatenate([preds, y_hat]) \n",
        "\n",
        "        test_preds += (preds / num_folds) \n",
        "    return test_preds     "
      ]
    },
    {
      "cell_type": "markdown",
      "source": [
        "- 후처리\n",
        "\n",
        "`-` 훈련 데이터를 보면 적산차값이 모두 정수형이다\n",
        "\n",
        "`-` 예측값도 반올림하여 정수로 만들어주겠다\n",
        "\n",
        "`-` 최솟값과 최댓값을 제한"
      ],
      "metadata": {
        "id": "32lGyi98VsOE"
      }
    },
    {
      "cell_type": "code",
      "source": [
        "MAX = df['flow'].values.max()\n",
        "MIN = df['flow'].values.min()"
      ],
      "metadata": {
        "id": "XtkEbf0aXVrA"
      },
      "execution_count": 45,
      "outputs": []
    },
    {
      "cell_type": "code",
      "source": [
        "def postprocessing(\n",
        "    pred: NDArray[np.float_], \n",
        "    *, \n",
        "    minimum: float, \n",
        "    maximum: float\n",
        ") -> NDArray[np.float_]:\n",
        "    pred = np.clip(pred, minimum, maximum)\n",
        "    pred = np.round(pred)\n",
        "    return pred"
      ],
      "metadata": {
        "id": "ljuUBoGLWb0G"
      },
      "execution_count": 46,
      "outputs": []
    },
    {
      "cell_type": "markdown",
      "source": [
        "## LSTM 모델"
      ],
      "metadata": {
        "id": "9iBD-nIkB6pe"
      }
    },
    {
      "cell_type": "markdown",
      "metadata": {
        "id": "miXCkgdyROMY"
      },
      "source": [
        "### 모델 학습 준비"
      ]
    },
    {
      "cell_type": "code",
      "execution_count": 47,
      "metadata": {
        "id": "hWjTbSt88Zp1"
      },
      "outputs": [],
      "source": [
        "args = EasyDict({\n",
        "    'model_name':'lstm',\n",
        "    'window':96,\n",
        "    'gap':1,\n",
        "    'input_size':1,\n",
        "    'hidden_size':512,\n",
        "    'num_layers':2,\n",
        "    'dropout':0.5,\n",
        "    'num_classes':336,\n",
        "    'num_epochs':200,\n",
        "    'num_folds':5,\n",
        "    'bs':512,\n",
        "    'lr':2e-3,\n",
        "    'lr_gamma':0.965,\n",
        "    'weight_decay':1e-2,\n",
        "    'max_norm':1.0,\n",
        "    'device':torch.device('cuda' if torch.cuda.is_available() else 'cpu'),\n",
        "    'seed':2022,\n",
        "})"
      ]
    },
    {
      "cell_type": "markdown",
      "metadata": {
        "id": "defexgRJ8B_E"
      },
      "source": [
        "- 데이터 생성"
      ]
    },
    {
      "cell_type": "code",
      "execution_count": 48,
      "metadata": {
        "id": "nPGsiX_ZovQA"
      },
      "outputs": [],
      "source": [
        "Xs, ys = ts_train2supervised(flow_scaled, window=args.window, gap=args.gap, step=args.num_classes)  # s == scaled\n",
        "Xs, ys = Xs[24*365:], ys[24*365:]  # 2017년 제거\n",
        "ys = ys.squeeze(2)"
      ]
    },
    {
      "cell_type": "markdown",
      "metadata": {
        "id": "B53DxlV8BHCE"
      },
      "source": [
        "### 모델 학습 및 검증"
      ]
    },
    {
      "cell_type": "code",
      "execution_count": 49,
      "metadata": {
        "id": "kmPZ-LAhTK4P"
      },
      "outputs": [],
      "source": [
        "class LSTMModel(nn.Module):\n",
        "    def __init__(\n",
        "        self, \n",
        "        input_size=1, \n",
        "        hidden_size=512, \n",
        "        num_layers=2, \n",
        "        num_classes=336, \n",
        "        dropout=0.5\n",
        "    ):\n",
        "        super(LSTMModel, self).__init__()\n",
        "        self.lstm = nn.LSTM(input_size, \n",
        "                            hidden_size, \n",
        "                            num_layers, \n",
        "                            batch_first=True, \n",
        "                            dropout=dropout)\n",
        "        \n",
        "        self.fc = nn.Linear(hidden_size, num_classes)\n",
        "        self.revin_layer = RevIN(input_size)  \n",
        "\n",
        "    def forward(self, x):  # shape of x: (batch, sequence, features)\n",
        "        x = self.revin_layer(x, 'norm')\n",
        "        hidden, _ = self.lstm(x)  \n",
        "        x = self.fc(hidden[:, -1, :])  \n",
        "        x = x.unsqueeze(2)  \n",
        "        x = self.revin_layer(x, 'denorm')\n",
        "        x = x.squeeze(2)\n",
        "        return x"
      ]
    },
    {
      "cell_type": "code",
      "execution_count": 50,
      "metadata": {
        "id": "5G_xoCI49yLE"
      },
      "outputs": [],
      "source": [
        "early_stopping = EarlyStopping(patience=20,\n",
        "                               monitor='mae',\n",
        "                               mode='min',\n",
        "                               folder_path=weight_folder_path,\n",
        "                               model_name=args.model_name)"
      ]
    },
    {
      "cell_type": "code",
      "execution_count": 70,
      "metadata": {
        "id": "U5mefyHqRWIK"
      },
      "outputs": [],
      "source": [
        "seed_everything(args.seed)\n",
        "model = LSTMModel(input_size=args.input_size, \n",
        "                  hidden_size=args.hidden_size, \n",
        "                  num_layers=args.num_layers, \n",
        "                  num_classes=args.num_classes, \n",
        "                  dropout=args.dropout)"
      ]
    },
    {
      "cell_type": "code",
      "source": [
        "model, fold_train_losses_per_epoch, fold_valid_losses_per_epoch = kfold_cross_validate(model, Xs, ys, loss_fn, \n",
        "                                                                                       early_stopping, args)"
      ],
      "metadata": {
        "colab": {
          "base_uri": "https://localhost:8080/",
          "height": 1000,
          "referenced_widgets": [
            "de77a813db06476181e7b13c2d931003",
            "cc1d4cb9397c4ce6b1f002836939a4f4",
            "eeebaccc43f6473bb2b54e2df8244e42",
            "3880ec0e9010400aa1c9e91ceaeb5e5a",
            "71b0fd4beaf142848100fe968ffdd3ff",
            "8a4310c77c084f99ae16e70cf05cbc00",
            "3ed2728d2c8e4101a311f219dd528034",
            "6c2c27424c2f45f0b86cb05c1ffdd268",
            "83f7b856162049afb9f8b53f58858a32",
            "a5175f20f59a4c7d9ceb959bf99cc9de",
            "51a5fc16298741038a7de2676e4272f5",
            "279654a0df2c442394c72a0595bf5948",
            "c2d2770f7dfa462598febdfec8de1870",
            "a41bee6eca144315b7c28724b8af7729",
            "8c3f0f72d85e4c48b9b137a35a0b3efc",
            "db7b68dc85a041c0b0e706e3ad568c52",
            "e3f7dff721824cf8abafa5729151d049",
            "089fb52977274ca5a995e30614fd7f13",
            "f68d9a8fb85f4a1f97de39936b326253",
            "518321ba35174375ae57aad16d730707",
            "04bd071f08624da3be8f9300d231342e",
            "7a143007cf794fa793cd1d03e86993f1",
            "c07d8965b8fb4e90bb246747264e9ff9",
            "9c0b990038ff497085739b6bddd7752d",
            "9030e3f155a240578d2c515e13e43900",
            "c1c53d3b19fd481cb292e88054f2bf0a",
            "3c99a915fc10449b990f42f0e3cc4632",
            "6da321f2d37d43e8807767303c27e343",
            "43d5bb8536674444ba5814b0a6fa2e4f",
            "1c0e89a76dd7429c8bad78ce4a3ca3b0",
            "10267858e59445bdb34ab2b7ee825b8f",
            "d64ec5968d614d86b8f42ce278c47534",
            "d0da42badab346d18fefbf79ec6415e0",
            "a3fb9468714b457ba81946378e7c3e12",
            "288eb65792f74dedb9cc4c52a2c5d6c5",
            "6cce1d82a0594aa286626f8d26e9e825",
            "5d5b5ba5661b48bfa849e87229b7a196",
            "e6fffd5fbbf8419dbaed07c555ae030c",
            "f5c82d7413a14ebc9b3ebf7a94de4208",
            "8f4e59fe5891404b8011c4e4734b16ca",
            "4c11deb9243e4153abe20d0a3153ef2c",
            "6341199d2e424e93aa6c6f52ecd4c134",
            "af65df05ab9b4a31b896f8eb8d9a09cd",
            "ae99e88d248f4eee8aa4c7b7ee0326a6",
            "ccb57d77674c47bfb8413bbd155c9b09",
            "23a62ad6711448c8816460ab110ea20a",
            "a408b3aae949498b90fe39dd474e3fcd",
            "2285b28cde634daf9ed8f8dc6610a9e0",
            "2e115a6fd20343fe89494b49386e095d",
            "816b3051f4cd48ee8d969010ef1f2db9",
            "ddad6a65e54a4ca8990c4b880360abdb",
            "778bfc90b54e4b979341bcbd677f5db8",
            "df5112a93dbc4f6a9c25d4b5021f8589",
            "a94b3caecda342a2a4026033cea4bc16",
            "41f8aebcaa2d49b6aa8d36d31fb65798"
          ]
        },
        "id": "Silgxdi002OA",
        "outputId": "91ccde9a-7df2-4af8-9f8c-05ff53c9b79f"
      },
      "execution_count": 71,
      "outputs": [
        {
          "output_type": "stream",
          "name": "stdout",
          "text": [
            "[1 / 5] Fold Training......\n"
          ]
        },
        {
          "output_type": "display_data",
          "data": {
            "text/plain": [
              "  0%|          | 0/200 [00:00<?, ?it/s]"
            ],
            "application/vnd.jupyter.widget-view+json": {
              "version_major": 2,
              "version_minor": 0,
              "model_id": "de77a813db06476181e7b13c2d931003"
            }
          },
          "metadata": {}
        },
        {
          "output_type": "stream",
          "name": "stdout",
          "text": [
            "[Epoch:  1]  train loss = 0.11295  valid loss = 0.11921  valid MAE = 35.18269\n",
            "[Epoch: 10]  train loss = 0.07870  valid loss = 0.07987  valid MAE = 23.51748\n",
            "[Epoch: 20]  train loss = 0.07574  valid loss = 0.07727  valid MAE = 22.69758\n",
            "[Epoch: 30]  train loss = 0.07452  valid loss = 0.07658  valid MAE = 22.48942\n",
            "[Epoch: 40]  train loss = 0.07418  valid loss = 0.07593  valid MAE = 22.29907\n",
            "[Epoch: 50]  train loss = 0.07380  valid loss = 0.07567  valid MAE = 22.22796\n",
            "[Epoch: 60]  train loss = 0.07348  valid loss = 0.07524  valid MAE = 22.11024\n",
            "[Epoch: 70]  train loss = 0.07317  valid loss = 0.07527  valid MAE = 22.12504\n",
            "[Epoch: 80]  train loss = 0.07272  valid loss = 0.07604  valid MAE = 22.36319\n",
            "[Epoch: 84]  train loss = 0.07256  valid loss = 0.07615  valid MAE = 22.39477\n",
            "Early Stopping!\n",
            "1 Fold Best -> Valid Loss: 0.07520 Valid MAE: 22.09275\n",
            "\n",
            "[2 / 5] Fold Training......\n"
          ]
        },
        {
          "output_type": "display_data",
          "data": {
            "text/plain": [
              "  0%|          | 0/200 [00:00<?, ?it/s]"
            ],
            "application/vnd.jupyter.widget-view+json": {
              "version_major": 2,
              "version_minor": 0,
              "model_id": "279654a0df2c442394c72a0595bf5948"
            }
          },
          "metadata": {}
        },
        {
          "output_type": "stream",
          "name": "stdout",
          "text": [
            "[Epoch:  1]  train loss = 0.10624  valid loss = 0.08331  valid MAE = 24.24710\n",
            "[Epoch: 10]  train loss = 0.07551  valid loss = 0.07355  valid MAE = 21.41071\n",
            "[Epoch: 20]  train loss = 0.07464  valid loss = 0.07135  valid MAE = 20.74943\n",
            "[Epoch: 30]  train loss = 0.07375  valid loss = 0.07039  valid MAE = 20.51683\n",
            "[Epoch: 40]  train loss = 0.07300  valid loss = 0.06992  valid MAE = 20.39977\n",
            "[Epoch: 50]  train loss = 0.07224  valid loss = 0.07002  valid MAE = 20.43735\n",
            "[Epoch: 60]  train loss = 0.07153  valid loss = 0.07051  valid MAE = 20.57359\n",
            "[Epoch: 68]  train loss = 0.07116  valid loss = 0.07000  valid MAE = 20.41700\n",
            "Early Stopping!\n",
            "2 Fold Best -> Valid Loss: 0.06973 Valid MAE: 20.34029\n",
            "\n",
            "[3 / 5] Fold Training......\n"
          ]
        },
        {
          "output_type": "display_data",
          "data": {
            "text/plain": [
              "  0%|          | 0/200 [00:00<?, ?it/s]"
            ],
            "application/vnd.jupyter.widget-view+json": {
              "version_major": 2,
              "version_minor": 0,
              "model_id": "c07d8965b8fb4e90bb246747264e9ff9"
            }
          },
          "metadata": {}
        },
        {
          "output_type": "stream",
          "name": "stdout",
          "text": [
            "[Epoch:  1]  train loss = 0.11426  valid loss = 0.10084  valid MAE = 29.75482\n",
            "[Epoch: 10]  train loss = 0.07446  valid loss = 0.07611  valid MAE = 22.41924\n",
            "[Epoch: 20]  train loss = 0.07321  valid loss = 0.07458  valid MAE = 21.95659\n",
            "[Epoch: 30]  train loss = 0.07223  valid loss = 0.07354  valid MAE = 21.65809\n",
            "[Epoch: 40]  train loss = 0.07178  valid loss = 0.07384  valid MAE = 21.74023\n",
            "[Epoch: 50]  train loss = 0.07105  valid loss = 0.07385  valid MAE = 21.75201\n",
            "[Epoch: 60]  train loss = 0.07059  valid loss = 0.07363  valid MAE = 21.67616\n",
            "[Epoch: 70]  train loss = 0.07019  valid loss = 0.07363  valid MAE = 21.68042\n",
            "[Epoch: 73]  train loss = 0.07006  valid loss = 0.07391  valid MAE = 21.76437\n",
            "Early Stopping!\n",
            "3 Fold Best -> Valid Loss: 0.07337 Valid MAE: 21.60208\n",
            "\n",
            "[4 / 5] Fold Training......\n"
          ]
        },
        {
          "output_type": "display_data",
          "data": {
            "text/plain": [
              "  0%|          | 0/200 [00:00<?, ?it/s]"
            ],
            "application/vnd.jupyter.widget-view+json": {
              "version_major": 2,
              "version_minor": 0,
              "model_id": "a3fb9468714b457ba81946378e7c3e12"
            }
          },
          "metadata": {}
        },
        {
          "output_type": "stream",
          "name": "stdout",
          "text": [
            "[Epoch:  1]  train loss = 0.10261  valid loss = 0.08999  valid MAE = 26.39280\n",
            "[Epoch: 10]  train loss = 0.07378  valid loss = 0.07621  valid MAE = 22.32692\n",
            "[Epoch: 20]  train loss = 0.07247  valid loss = 0.07760  valid MAE = 22.74879\n",
            "[Epoch: 30]  train loss = 0.07141  valid loss = 0.07461  valid MAE = 21.86211\n",
            "[Epoch: 40]  train loss = 0.07081  valid loss = 0.07450  valid MAE = 21.79927\n",
            "[Epoch: 50]  train loss = 0.06996  valid loss = 0.07464  valid MAE = 21.83670\n",
            "[Epoch: 60]  train loss = 0.06946  valid loss = 0.07456  valid MAE = 21.81231\n",
            "[Epoch: 66]  train loss = 0.06925  valid loss = 0.07458  valid MAE = 21.82008\n",
            "Early Stopping!\n",
            "4 Fold Best -> Valid Loss: 0.07438 Valid MAE: 21.77204\n",
            "\n",
            "[5 / 5] Fold Training......\n"
          ]
        },
        {
          "output_type": "display_data",
          "data": {
            "text/plain": [
              "  0%|          | 0/200 [00:00<?, ?it/s]"
            ],
            "application/vnd.jupyter.widget-view+json": {
              "version_major": 2,
              "version_minor": 0,
              "model_id": "ccb57d77674c47bfb8413bbd155c9b09"
            }
          },
          "metadata": {}
        },
        {
          "output_type": "stream",
          "name": "stdout",
          "text": [
            "[Epoch:  1]  train loss = 0.07848  valid loss = 0.07503  valid MAE = 21.95615\n",
            "[Epoch: 10]  train loss = 0.07138  valid loss = 0.07433  valid MAE = 21.79656\n",
            "[Epoch: 20]  train loss = 0.06969  valid loss = 0.07403  valid MAE = 21.71082\n",
            "[Epoch: 30]  train loss = 0.06879  valid loss = 0.07434  valid MAE = 21.81018\n",
            "[Epoch: 40]  train loss = 0.06812  valid loss = 0.07418  valid MAE = 21.74858\n",
            "[Epoch: 43]  train loss = 0.06790  valid loss = 0.07429  valid MAE = 21.77502\n",
            "Early Stopping!\n",
            "5 Fold Best -> Valid Loss: 0.07395 Valid MAE: 21.70009\n",
            "\n",
            "5 Fold Mean Valid Loss: 0.07333\n",
            "5 Fold Mean Valid Accuracy: 21.50145\n"
          ]
        }
      ]
    },
    {
      "cell_type": "code",
      "execution_count": 73,
      "metadata": {
        "colab": {
          "base_uri": "https://localhost:8080/",
          "height": 623
        },
        "id": "ksgGH67RTXZo",
        "outputId": "c973ee96-56cd-4cf8-9298-a14d6d0919d3"
      },
      "outputs": [
        {
          "output_type": "display_data",
          "data": {
            "text/plain": [
              "<Figure size 864x576 with 5 Axes>"
            ],
            "image/png": "[encoded data removed]"
          },
          "metadata": {}
        }
      ],
      "source": [
        "show_loss_plot(fold_train_losses_per_epoch, fold_valid_losses_per_epoch)  "
      ]
    },
    {
      "cell_type": "markdown",
      "metadata": {
        "id": "_qJHHb6SqxkE"
      },
      "source": [
        "### Test 예측"
      ]
    },
    {
      "cell_type": "code",
      "source": [
        "flow_scaled_test = np.concatenate([flow_scaled[-args.window:], flow_scaled_test])  # train + test\n",
        "Xs_test = ts_test2supervised(flow_scaled_test, window=args.window)   "
      ],
      "metadata": {
        "id": "bUTr2eQFdW5-"
      },
      "execution_count": 52,
      "outputs": []
    },
    {
      "cell_type": "markdown",
      "source": [
        "#### 사전학습된 가중치로 예측"
      ],
      "metadata": {
        "id": "03a8YbexWdN5"
      }
    },
    {
      "cell_type": "code",
      "execution_count": 53,
      "metadata": {
        "colab": {
          "base_uri": "https://localhost:8080/",
          "height": 49,
          "referenced_widgets": [
            "d6e8cbcb3cc047d4944f60fc5786d3ed",
            "c5d88918ca614a6690f53b15908cc3b6",
            "8fae6a689eb140eca050225255f8e221",
            "fa3846a1b8734f978b72f455bccb13a2",
            "92ee0b7e37c141d7a4e09bff20096cda",
            "26022d065edd4359b631194cc1f63cef",
            "80684ab4c2b34ef3bada27f428fb8ac7",
            "c1b23d92972540f7a0428ab6b860f0d9",
            "01a7e7a3ddd0409898cf47525647854a",
            "32cffa7f20454f06abec8066ecab87f1",
            "d65c989be55a4708b26d079e91e993cf"
          ]
        },
        "id": "cCDgzN-prDCB",
        "outputId": "70a66104-2dac-4876-edba-5cbc6125e42d"
      },
      "outputs": [
        {
          "output_type": "display_data",
          "data": {
            "text/plain": [
              "  0%|          | 0/5 [00:00<?, ?it/s]"
            ],
            "application/vnd.jupyter.widget-view+json": {
              "version_major": 2,
              "version_minor": 0,
              "model_id": "d6e8cbcb3cc047d4944f60fc5786d3ed"
            }
          },
          "metadata": {}
        }
      ],
      "source": [
        "preds = predict(model, Xs_test, pretrained_weight_folder_path, args)"
      ]
    },
    {
      "cell_type": "code",
      "execution_count": 54,
      "metadata": {
        "id": "sh4c4lWMruF5"
      },
      "outputs": [],
      "source": [
        "preds = minmax_scaler.inverse_transform(preds)\n",
        "submission.loc[:, 'h0':'h335'] = postprocessing(preds, minimum=MIN, maximum=MAX)\n",
        "submission.to_csv(f'./data/submission_apo_pretrained_{args.model_name}.csv', index=False)"
      ]
    },
    {
      "cell_type": "markdown",
      "source": [
        "#### 학습한 가중치로 예측"
      ],
      "metadata": {
        "id": "klwuTAD7W4WX"
      }
    },
    {
      "cell_type": "code",
      "source": [
        "preds = predict(model, Xs_test, weight_folder_path, args)"
      ],
      "metadata": {
        "id": "uE2kmnj_W7Qw",
        "colab": {
          "base_uri": "https://localhost:8080/",
          "height": 49,
          "referenced_widgets": [
            "2ef8ce53e7ce4a28806243d90f2494bb",
            "cb2e1d9651984ab4a61a45386473a013",
            "082c5de7416c4076a446f1909713d37a",
            "049611e6b1e9410da30d988f61200c29",
            "ecdf4abe5bb7491b95498422c4aa61d4",
            "ac4fb12fdccd49f6a2684bfe48cd1b20",
            "db57e9c88bcd47b5bc7902e1a81f8543",
            "b8d1b0eb0f6a4f5dab226801747120f0",
            "53f4b086e1be4ed8a1ac5d32630f6821",
            "de514f8838b541baa36dd02147bca885",
            "606f3d6399db41868d5f51551393af1e"
          ]
        },
        "outputId": "5a8c5598-18fd-45dd-ce98-f18854fadfc1"
      },
      "execution_count": 74,
      "outputs": [
        {
          "output_type": "display_data",
          "data": {
            "text/plain": [
              "  0%|          | 0/5 [00:00<?, ?it/s]"
            ],
            "application/vnd.jupyter.widget-view+json": {
              "version_major": 2,
              "version_minor": 0,
              "model_id": "2ef8ce53e7ce4a28806243d90f2494bb"
            }
          },
          "metadata": {}
        }
      ]
    },
    {
      "cell_type": "code",
      "source": [
        "preds = minmax_scaler.inverse_transform(preds)\n",
        "submission.loc[:, 'h0':'h335'] = postprocessing(preds, minimum=MIN, maximum=MAX)\n",
        "submission.to_csv(f'./data/submission_apo_{args.model_name}.csv', index=False)"
      ],
      "metadata": {
        "id": "YuCmY62bW8aA"
      },
      "execution_count": 75,
      "outputs": []
    },
    {
      "cell_type": "markdown",
      "source": [
        "## Private 예측"
      ],
      "metadata": {
        "id": "6nHJuC4c7XP2"
      }
    },
    {
      "cell_type": "code",
      "source": [
        "submission_private = pd.DataFrame(pd.date_range(end, private.datetime[len(private) - 1] + pd.DateOffset(hours=1), freq='H'),\n",
        "                                  columns=['datetime'])\n",
        "\n",
        "submission_private[[f'h{t}' for t in range(336)]] = 0.0"
      ],
      "metadata": {
        "id": "o85gi97-fDu_"
      },
      "execution_count": 62,
      "outputs": []
    },
    {
      "cell_type": "code",
      "source": [
        "flow_scaled_private = np.concatenate([flow_scaled_test[-args.window:], flow_scaled_private])  # test + private\n",
        "Xs_private = ts_test2supervised(flow_scaled_private, window=args.window)   "
      ],
      "metadata": {
        "id": "3K6rpfW7qn_i"
      },
      "execution_count": 63,
      "outputs": []
    },
    {
      "cell_type": "code",
      "source": [
        "preds = predict(model, Xs_private, weight_folder_path, args)"
      ],
      "metadata": {
        "colab": {
          "base_uri": "https://localhost:8080/",
          "height": 49,
          "referenced_widgets": [
            "af4afb22e8ae4ab0aae75ce0c95cb1d8",
            "2be9f2bdcc3747b88c18ef19b3df3804",
            "d81e3a62a1514d8daa9157487f4ecbf8",
            "cfd7a670c2ae4ee2a46f3ebcd359f33b",
            "e6fb141bad764ea288c2c70b0fa1fe64",
            "fab32f8bbf04438a82a4a593342b1d59",
            "691e62cec7a0465bb6a69d2b9fac429a",
            "cf41cb6560d740ffb70572a522cbe607",
            "7ed39ff1743140bf873f95d03edfb5f2",
            "106b991a64d442eba3cf326e53d35fc7",
            "5fa121e4024946e78cdc3b6c949c2313"
          ]
        },
        "id": "4PgDLjnUqpsK",
        "outputId": "0d570ba7-801a-4c43-8baa-0c9c63cfbcaa"
      },
      "execution_count": 64,
      "outputs": [
        {
          "output_type": "display_data",
          "data": {
            "text/plain": [
              "  0%|          | 0/5 [00:00<?, ?it/s]"
            ],
            "application/vnd.jupyter.widget-view+json": {
              "version_major": 2,
              "version_minor": 0,
              "model_id": "af4afb22e8ae4ab0aae75ce0c95cb1d8"
            }
          },
          "metadata": {}
        }
      ]
    },
    {
      "cell_type": "code",
      "source": [
        "preds = minmax_scaler.inverse_transform(preds[-len(submission_private):])\n",
        "submission_private.loc[:, 'h0':'h335'] = postprocessing(preds, minimum=MIN, maximum=MAX)\n",
        "submission_private.to_csv(f'./data/submission_private_apo_{args.model_name}.csv', index=False)"
      ],
      "metadata": {
        "id": "Zyyq9rVwqqni"
      },
      "execution_count": 65,
      "outputs": []
    },
    {
      "cell_type": "code",
      "source": [],
      "metadata": {
        "id": "311dp7COZgrG"
      },
      "execution_count": null,
      "outputs": []
    }
  ],
  "metadata": {
    "colab": {
      "provenance": [],
      "toc_visible": true,
      "include_colab_link": true
    },
    "gpuClass": "standard",
    "kernelspec": {
      "display_name": "Python 3 (ipykernel)",
      "language": "python",
      "name": "python3"
    },
    "language_info": {
      "codemirror_mode": {
        "name": "ipython",
        "version": 3
      },
      "file_extension": ".py",
      "mimetype": "text/x-python",
      "name": "python",
      "nbconvert_exporter": "python",
      "pygments_lexer": "ipython3",
      "version": "3.8.11"
    },
    "widgets": {
      "application/vnd.jupyter.widget-state+json": {
        "de77a813db06476181e7b13c2d931003": {
          "model_module": "@jupyter-widgets/controls",
          "model_name": "HBoxModel",
          "model_module_version": "1.5.0",
          "state": {
            "_dom_classes": [],
            "_model_module": "@jupyter-widgets/controls",
            "_model_module_version": "1.5.0",
            "_model_name": "HBoxModel",
            "_view_count": null,
            "_view_module": "@jupyter-widgets/controls",
            "_view_module_version": "1.5.0",
            "_view_name": "HBoxView",
            "box_style": "",
            "children": [
              "IPY_MODEL_cc1d4cb9397c4ce6b1f002836939a4f4",
              "IPY_MODEL_eeebaccc43f6473bb2b54e2df8244e42",
              "IPY_MODEL_3880ec0e9010400aa1c9e91ceaeb5e5a"
            ],
            "layout": "IPY_MODEL_71b0fd4beaf142848100fe968ffdd3ff"
          }
        },
        "cc1d4cb9397c4ce6b1f002836939a4f4": {
          "model_module": "@jupyter-widgets/controls",
          "model_name": "HTMLModel",
          "model_module_version": "1.5.0",
          "state": {
            "_dom_classes": [],
            "_model_module": "@jupyter-widgets/controls",
            "_model_module_version": "1.5.0",
            "_model_name": "HTMLModel",
            "_view_count": null,
            "_view_module": "@jupyter-widgets/controls",
            "_view_module_version": "1.5.0",
            "_view_name": "HTMLView",
            "description": "",
            "description_tooltip": null,
            "layout": "IPY_MODEL_8a4310c77c084f99ae16e70cf05cbc00",
            "placeholder": "​",
            "style": "IPY_MODEL_3ed2728d2c8e4101a311f219dd528034",
            "value": " 42%"
          }
        },
        "eeebaccc43f6473bb2b54e2df8244e42": {
          "model_module": "@jupyter-widgets/controls",
          "model_name": "FloatProgressModel",
          "model_module_version": "1.5.0",
          "state": {
            "_dom_classes": [],
            "_model_module": "@jupyter-widgets/controls",
            "_model_module_version": "1.5.0",
            "_model_name": "FloatProgressModel",
            "_view_count": null,
            "_view_module": "@jupyter-widgets/controls",
            "_view_module_version": "1.5.0",
            "_view_name": "ProgressView",
            "bar_style": "danger",
            "description": "",
            "description_tooltip": null,
            "layout": "IPY_MODEL_6c2c27424c2f45f0b86cb05c1ffdd268",
            "max": 200,
            "min": 0,
            "orientation": "horizontal",
            "style": "IPY_MODEL_83f7b856162049afb9f8b53f58858a32",
            "value": 83
          }
        },
        "3880ec0e9010400aa1c9e91ceaeb5e5a": {
          "model_module": "@jupyter-widgets/controls",
          "model_name": "HTMLModel",
          "model_module_version": "1.5.0",
          "state": {
            "_dom_classes": [],
            "_model_module": "@jupyter-widgets/controls",
            "_model_module_version": "1.5.0",
            "_model_name": "HTMLModel",
            "_view_count": null,
            "_view_module": "@jupyter-widgets/controls",
            "_view_module_version": "1.5.0",
            "_view_name": "HTMLView",
            "description": "",
            "description_tooltip": null,
            "layout": "IPY_MODEL_a5175f20f59a4c7d9ceb959bf99cc9de",
            "placeholder": "​",
            "style": "IPY_MODEL_51a5fc16298741038a7de2676e4272f5",
            "value": " 83/200 [02:05&lt;02:53,  1.48s/it]"
          }
        },
        "71b0fd4beaf142848100fe968ffdd3ff": {
          "model_module": "@jupyter-widgets/base",
          "model_name": "LayoutModel",
          "model_module_version": "1.2.0",
          "state": {
            "_model_module": "@jupyter-widgets/base",
            "_model_module_version": "1.2.0",
            "_model_name": "LayoutModel",
            "_view_count": null,
            "_view_module": "@jupyter-widgets/base",
            "_view_module_version": "1.2.0",
            "_view_name": "LayoutView",
            "align_content": null,
            "align_items": null,
            "align_self": null,
            "border": null,
            "bottom": null,
            "display": null,
            "flex": null,
            "flex_flow": null,
            "grid_area": null,
            "grid_auto_columns": null,
            "grid_auto_flow": null,
            "grid_auto_rows": null,
            "grid_column": null,
            "grid_gap": null,
            "grid_row": null,
            "grid_template_areas": null,
            "grid_template_columns": null,
            "grid_template_rows": null,
            "height": null,
            "justify_content": null,
            "justify_items": null,
            "left": null,
            "margin": null,
            "max_height": null,
            "max_width": null,
            "min_height": null,
            "min_width": null,
            "object_fit": null,
            "object_position": null,
            "order": null,
            "overflow": null,
            "overflow_x": null,
            "overflow_y": null,
            "padding": null,
            "right": null,
            "top": null,
            "visibility": null,
            "width": null
          }
        },
        "8a4310c77c084f99ae16e70cf05cbc00": {
          "model_module": "@jupyter-widgets/base",
          "model_name": "LayoutModel",
          "model_module_version": "1.2.0",
          "state": {
            "_model_module": "@jupyter-widgets/base",
            "_model_module_version": "1.2.0",
            "_model_name": "LayoutModel",
            "_view_count": null,
            "_view_module": "@jupyter-widgets/base",
            "_view_module_version": "1.2.0",
            "_view_name": "LayoutView",
            "align_content": null,
            "align_items": null,
            "align_self": null,
            "border": null,
            "bottom": null,
            "display": null,
            "flex": null,
            "flex_flow": null,
            "grid_area": null,
            "grid_auto_columns": null,
            "grid_auto_flow": null,
            "grid_auto_rows": null,
            "grid_column": null,
            "grid_gap": null,
            "grid_row": null,
            "grid_template_areas": null,
            "grid_template_columns": null,
            "grid_template_rows": null,
            "height": null,
            "justify_content": null,
            "justify_items": null,
            "left": null,
            "margin": null,
            "max_height": null,
            "max_width": null,
            "min_height": null,
            "min_width": null,
            "object_fit": null,
            "object_position": null,
            "order": null,
            "overflow": null,
            "overflow_x": null,
            "overflow_y": null,
            "padding": null,
            "right": null,
            "top": null,
            "visibility": null,
            "width": null
          }
        },
        "3ed2728d2c8e4101a311f219dd528034": {
          "model_module": "@jupyter-widgets/controls",
          "model_name": "DescriptionStyleModel",
          "model_module_version": "1.5.0",
          "state": {
            "_model_module": "@jupyter-widgets/controls",
            "_model_module_version": "1.5.0",
            "_model_name": "DescriptionStyleModel",
            "_view_count": null,
            "_view_module": "@jupyter-widgets/base",
            "_view_module_version": "1.2.0",
            "_view_name": "StyleView",
            "description_width": ""
          }
        },
        "6c2c27424c2f45f0b86cb05c1ffdd268": {
          "model_module": "@jupyter-widgets/base",
          "model_name": "LayoutModel",
          "model_module_version": "1.2.0",
          "state": {
            "_model_module": "@jupyter-widgets/base",
            "_model_module_version": "1.2.0",
            "_model_name": "LayoutModel",
            "_view_count": null,
            "_view_module": "@jupyter-widgets/base",
            "_view_module_version": "1.2.0",
            "_view_name": "LayoutView",
            "align_content": null,
            "align_items": null,
            "align_self": null,
            "border": null,
            "bottom": null,
            "display": null,
            "flex": null,
            "flex_flow": null,
            "grid_area": null,
            "grid_auto_columns": null,
            "grid_auto_flow": null,
            "grid_auto_rows": null,
            "grid_column": null,
            "grid_gap": null,
            "grid_row": null,
            "grid_template_areas": null,
            "grid_template_columns": null,
            "grid_template_rows": null,
            "height": null,
            "justify_content": null,
            "justify_items": null,
            "left": null,
            "margin": null,
            "max_height": null,
            "max_width": null,
            "min_height": null,
            "min_width": null,
            "object_fit": null,
            "object_position": null,
            "order": null,
            "overflow": null,
            "overflow_x": null,
            "overflow_y": null,
            "padding": null,
            "right": null,
            "top": null,
            "visibility": null,
            "width": null
          }
        },
        "83f7b856162049afb9f8b53f58858a32": {
          "model_module": "@jupyter-widgets/controls",
          "model_name": "ProgressStyleModel",
          "model_module_version": "1.5.0",
          "state": {
            "_model_module": "@jupyter-widgets/controls",
            "_model_module_version": "1.5.0",
            "_model_name": "ProgressStyleModel",
            "_view_count": null,
            "_view_module": "@jupyter-widgets/base",
            "_view_module_version": "1.2.0",
            "_view_name": "StyleView",
            "bar_color": null,
            "description_width": ""
          }
        },
        "a5175f20f59a4c7d9ceb959bf99cc9de": {
          "model_module": "@jupyter-widgets/base",
          "model_name": "LayoutModel",
          "model_module_version": "1.2.0",
          "state": {
            "_model_module": "@jupyter-widgets/base",
            "_model_module_version": "1.2.0",
            "_model_name": "LayoutModel",
            "_view_count": null,
            "_view_module": "@jupyter-widgets/base",
            "_view_module_version": "1.2.0",
            "_view_name": "LayoutView",
            "align_content": null,
            "align_items": null,
            "align_self": null,
            "border": null,
            "bottom": null,
            "display": null,
            "flex": null,
            "flex_flow": null,
            "grid_area": null,
            "grid_auto_columns": null,
            "grid_auto_flow": null,
            "grid_auto_rows": null,
            "grid_column": null,
            "grid_gap": null,
            "grid_row": null,
            "grid_template_areas": null,
            "grid_template_columns": null,
            "grid_template_rows": null,
            "height": null,
            "justify_content": null,
            "justify_items": null,
            "left": null,
            "margin": null,
            "max_height": null,
            "max_width": null,
            "min_height": null,
            "min_width": null,
            "object_fit": null,
            "object_position": null,
            "order": null,
            "overflow": null,
            "overflow_x": null,
            "overflow_y": null,
            "padding": null,
            "right": null,
            "top": null,
            "visibility": null,
            "width": null
          }
        },
        "51a5fc16298741038a7de2676e4272f5": {
          "model_module": "@jupyter-widgets/controls",
          "model_name": "DescriptionStyleModel",
          "model_module_version": "1.5.0",
          "state": {
            "_model_module": "@jupyter-widgets/controls",
            "_model_module_version": "1.5.0",
            "_model_name": "DescriptionStyleModel",
            "_view_count": null,
            "_view_module": "@jupyter-widgets/base",
            "_view_module_version": "1.2.0",
            "_view_name": "StyleView",
            "description_width": ""
          }
        },
        "279654a0df2c442394c72a0595bf5948": {
          "model_module": "@jupyter-widgets/controls",
          "model_name": "HBoxModel",
          "model_module_version": "1.5.0",
          "state": {
            "_dom_classes": [],
            "_model_module": "@jupyter-widgets/controls",
            "_model_module_version": "1.5.0",
            "_model_name": "HBoxModel",
            "_view_count": null,
            "_view_module": "@jupyter-widgets/controls",
            "_view_module_version": "1.5.0",
            "_view_name": "HBoxView",
            "box_style": "",
            "children": [
              "IPY_MODEL_c2d2770f7dfa462598febdfec8de1870",
              "IPY_MODEL_a41bee6eca144315b7c28724b8af7729",
              "IPY_MODEL_8c3f0f72d85e4c48b9b137a35a0b3efc"
            ],
            "layout": "IPY_MODEL_db7b68dc85a041c0b0e706e3ad568c52"
          }
        },
        "c2d2770f7dfa462598febdfec8de1870": {
          "model_module": "@jupyter-widgets/controls",
          "model_name": "HTMLModel",
          "model_module_version": "1.5.0",
          "state": {
            "_dom_classes": [],
            "_model_module": "@jupyter-widgets/controls",
            "_model_module_version": "1.5.0",
            "_model_name": "HTMLModel",
            "_view_count": null,
            "_view_module": "@jupyter-widgets/controls",
            "_view_module_version": "1.5.0",
            "_view_name": "HTMLView",
            "description": "",
            "description_tooltip": null,
            "layout": "IPY_MODEL_e3f7dff721824cf8abafa5729151d049",
            "placeholder": "​",
            "style": "IPY_MODEL_089fb52977274ca5a995e30614fd7f13",
            "value": " 34%"
          }
        },
        "a41bee6eca144315b7c28724b8af7729": {
          "model_module": "@jupyter-widgets/controls",
          "model_name": "FloatProgressModel",
          "model_module_version": "1.5.0",
          "state": {
            "_dom_classes": [],
            "_model_module": "@jupyter-widgets/controls",
            "_model_module_version": "1.5.0",
            "_model_name": "FloatProgressModel",
            "_view_count": null,
            "_view_module": "@jupyter-widgets/controls",
            "_view_module_version": "1.5.0",
            "_view_name": "ProgressView",
            "bar_style": "danger",
            "description": "",
            "description_tooltip": null,
            "layout": "IPY_MODEL_f68d9a8fb85f4a1f97de39936b326253",
            "max": 200,
            "min": 0,
            "orientation": "horizontal",
            "style": "IPY_MODEL_518321ba35174375ae57aad16d730707",
            "value": 67
          }
        },
        "8c3f0f72d85e4c48b9b137a35a0b3efc": {
          "model_module": "@jupyter-widgets/controls",
          "model_name": "HTMLModel",
          "model_module_version": "1.5.0",
          "state": {
            "_dom_classes": [],
            "_model_module": "@jupyter-widgets/controls",
            "_model_module_version": "1.5.0",
            "_model_name": "HTMLModel",
            "_view_count": null,
            "_view_module": "@jupyter-widgets/controls",
            "_view_module_version": "1.5.0",
            "_view_name": "HTMLView",
            "description": "",
            "description_tooltip": null,
            "layout": "IPY_MODEL_04bd071f08624da3be8f9300d231342e",
            "placeholder": "​",
            "style": "IPY_MODEL_7a143007cf794fa793cd1d03e86993f1",
            "value": " 67/200 [02:52&lt;05:44,  2.59s/it]"
          }
        },
        "db7b68dc85a041c0b0e706e3ad568c52": {
          "model_module": "@jupyter-widgets/base",
          "model_name": "LayoutModel",
          "model_module_version": "1.2.0",
          "state": {
            "_model_module": "@jupyter-widgets/base",
            "_model_module_version": "1.2.0",
            "_model_name": "LayoutModel",
            "_view_count": null,
            "_view_module": "@jupyter-widgets/base",
            "_view_module_version": "1.2.0",
            "_view_name": "LayoutView",
            "align_content": null,
            "align_items": null,
            "align_self": null,
            "border": null,
            "bottom": null,
            "display": null,
            "flex": null,
            "flex_flow": null,
            "grid_area": null,
            "grid_auto_columns": null,
            "grid_auto_flow": null,
            "grid_auto_rows": null,
            "grid_column": null,
            "grid_gap": null,
            "grid_row": null,
            "grid_template_areas": null,
            "grid_template_columns": null,
            "grid_template_rows": null,
            "height": null,
            "justify_content": null,
            "justify_items": null,
            "left": null,
            "margin": null,
            "max_height": null,
            "max_width": null,
            "min_height": null,
            "min_width": null,
            "object_fit": null,
            "object_position": null,
            "order": null,
            "overflow": null,
            "overflow_x": null,
            "overflow_y": null,
            "padding": null,
            "right": null,
            "top": null,
            "visibility": null,
            "width": null
          }
        },
        "e3f7dff721824cf8abafa5729151d049": {
          "model_module": "@jupyter-widgets/base",
          "model_name": "LayoutModel",
          "model_module_version": "1.2.0",
          "state": {
            "_model_module": "@jupyter-widgets/base",
            "_model_module_version": "1.2.0",
            "_model_name": "LayoutModel",
            "_view_count": null,
            "_view_module": "@jupyter-widgets/base",
            "_view_module_version": "1.2.0",
            "_view_name": "LayoutView",
            "align_content": null,
            "align_items": null,
            "align_self": null,
            "border": null,
            "bottom": null,
            "display": null,
            "flex": null,
            "flex_flow": null,
            "grid_area": null,
            "grid_auto_columns": null,
            "grid_auto_flow": null,
            "grid_auto_rows": null,
            "grid_column": null,
            "grid_gap": null,
            "grid_row": null,
            "grid_template_areas": null,
            "grid_template_columns": null,
            "grid_template_rows": null,
            "height": null,
            "justify_content": null,
            "justify_items": null,
            "left": null,
            "margin": null,
            "max_height": null,
            "max_width": null,
            "min_height": null,
            "min_width": null,
            "object_fit": null,
            "object_position": null,
            "order": null,
            "overflow": null,
            "overflow_x": null,
            "overflow_y": null,
            "padding": null,
            "right": null,
            "top": null,
            "visibility": null,
            "width": null
          }
        },
        "089fb52977274ca5a995e30614fd7f13": {
          "model_module": "@jupyter-widgets/controls",
          "model_name": "DescriptionStyleModel",
          "model_module_version": "1.5.0",
          "state": {
            "_model_module": "@jupyter-widgets/controls",
            "_model_module_version": "1.5.0",
            "_model_name": "DescriptionStyleModel",
            "_view_count": null,
            "_view_module": "@jupyter-widgets/base",
            "_view_module_version": "1.2.0",
            "_view_name": "StyleView",
            "description_width": ""
          }
        },
        "f68d9a8fb85f4a1f97de39936b326253": {
          "model_module": "@jupyter-widgets/base",
          "model_name": "LayoutModel",
          "model_module_version": "1.2.0",
          "state": {
            "_model_module": "@jupyter-widgets/base",
            "_model_module_version": "1.2.0",
            "_model_name": "LayoutModel",
            "_view_count": null,
            "_view_module": "@jupyter-widgets/base",
            "_view_module_version": "1.2.0",
            "_view_name": "LayoutView",
            "align_content": null,
            "align_items": null,
            "align_self": null,
            "border": null,
            "bottom": null,
            "display": null,
            "flex": null,
            "flex_flow": null,
            "grid_area": null,
            "grid_auto_columns": null,
            "grid_auto_flow": null,
            "grid_auto_rows": null,
            "grid_column": null,
            "grid_gap": null,
            "grid_row": null,
            "grid_template_areas": null,
            "grid_template_columns": null,
            "grid_template_rows": null,
            "height": null,
            "justify_content": null,
            "justify_items": null,
            "left": null,
            "margin": null,
            "max_height": null,
            "max_width": null,
            "min_height": null,
            "min_width": null,
            "object_fit": null,
            "object_position": null,
            "order": null,
            "overflow": null,
            "overflow_x": null,
            "overflow_y": null,
            "padding": null,
            "right": null,
            "top": null,
            "visibility": null,
            "width": null
          }
        },
        "518321ba35174375ae57aad16d730707": {
          "model_module": "@jupyter-widgets/controls",
          "model_name": "ProgressStyleModel",
          "model_module_version": "1.5.0",
          "state": {
            "_model_module": "@jupyter-widgets/controls",
            "_model_module_version": "1.5.0",
            "_model_name": "ProgressStyleModel",
            "_view_count": null,
            "_view_module": "@jupyter-widgets/base",
            "_view_module_version": "1.2.0",
            "_view_name": "StyleView",
            "bar_color": null,
            "description_width": ""
          }
        },
        "04bd071f08624da3be8f9300d231342e": {
          "model_module": "@jupyter-widgets/base",
          "model_name": "LayoutModel",
          "model_module_version": "1.2.0",
          "state": {
            "_model_module": "@jupyter-widgets/base",
            "_model_module_version": "1.2.0",
            "_model_name": "LayoutModel",
            "_view_count": null,
            "_view_module": "@jupyter-widgets/base",
            "_view_module_version": "1.2.0",
            "_view_name": "LayoutView",
            "align_content": null,
            "align_items": null,
            "align_self": null,
            "border": null,
            "bottom": null,
            "display": null,
            "flex": null,
            "flex_flow": null,
            "grid_area": null,
            "grid_auto_columns": null,
            "grid_auto_flow": null,
            "grid_auto_rows": null,
            "grid_column": null,
            "grid_gap": null,
            "grid_row": null,
            "grid_template_areas": null,
            "grid_template_columns": null,
            "grid_template_rows": null,
            "height": null,
            "justify_content": null,
            "justify_items": null,
            "left": null,
            "margin": null,
            "max_height": null,
            "max_width": null,
            "min_height": null,
            "min_width": null,
            "object_fit": null,
            "object_position": null,
            "order": null,
            "overflow": null,
            "overflow_x": null,
            "overflow_y": null,
            "padding": null,
            "right": null,
            "top": null,
            "visibility": null,
            "width": null
          }
        },
        "7a143007cf794fa793cd1d03e86993f1": {
          "model_module": "@jupyter-widgets/controls",
          "model_name": "DescriptionStyleModel",
          "model_module_version": "1.5.0",
          "state": {
            "_model_module": "@jupyter-widgets/controls",
            "_model_module_version": "1.5.0",
            "_model_name": "DescriptionStyleModel",
            "_view_count": null,
            "_view_module": "@jupyter-widgets/base",
            "_view_module_version": "1.2.0",
            "_view_name": "StyleView",
            "description_width": ""
          }
        },
        "c07d8965b8fb4e90bb246747264e9ff9": {
          "model_module": "@jupyter-widgets/controls",
          "model_name": "HBoxModel",
          "model_module_version": "1.5.0",
          "state": {
            "_dom_classes": [],
            "_model_module": "@jupyter-widgets/controls",
            "_model_module_version": "1.5.0",
            "_model_name": "HBoxModel",
            "_view_count": null,
            "_view_module": "@jupyter-widgets/controls",
            "_view_module_version": "1.5.0",
            "_view_name": "HBoxView",
            "box_style": "",
            "children": [
              "IPY_MODEL_9c0b990038ff497085739b6bddd7752d",
              "IPY_MODEL_9030e3f155a240578d2c515e13e43900",
              "IPY_MODEL_c1c53d3b19fd481cb292e88054f2bf0a"
            ],
            "layout": "IPY_MODEL_3c99a915fc10449b990f42f0e3cc4632"
          }
        },
        "9c0b990038ff497085739b6bddd7752d": {
          "model_module": "@jupyter-widgets/controls",
          "model_name": "HTMLModel",
          "model_module_version": "1.5.0",
          "state": {
            "_dom_classes": [],
            "_model_module": "@jupyter-widgets/controls",
            "_model_module_version": "1.5.0",
            "_model_name": "HTMLModel",
            "_view_count": null,
            "_view_module": "@jupyter-widgets/controls",
            "_view_module_version": "1.5.0",
            "_view_name": "HTMLView",
            "description": "",
            "description_tooltip": null,
            "layout": "IPY_MODEL_6da321f2d37d43e8807767303c27e343",
            "placeholder": "​",
            "style": "IPY_MODEL_43d5bb8536674444ba5814b0a6fa2e4f",
            "value": " 36%"
          }
        },
        "9030e3f155a240578d2c515e13e43900": {
          "model_module": "@jupyter-widgets/controls",
          "model_name": "FloatProgressModel",
          "model_module_version": "1.5.0",
          "state": {
            "_dom_classes": [],
            "_model_module": "@jupyter-widgets/controls",
            "_model_module_version": "1.5.0",
            "_model_name": "FloatProgressModel",
            "_view_count": null,
            "_view_module": "@jupyter-widgets/controls",
            "_view_module_version": "1.5.0",
            "_view_name": "ProgressView",
            "bar_style": "danger",
            "description": "",
            "description_tooltip": null,
            "layout": "IPY_MODEL_1c0e89a76dd7429c8bad78ce4a3ca3b0",
            "max": 200,
            "min": 0,
            "orientation": "horizontal",
            "style": "IPY_MODEL_10267858e59445bdb34ab2b7ee825b8f",
            "value": 72
          }
        },
        "c1c53d3b19fd481cb292e88054f2bf0a": {
          "model_module": "@jupyter-widgets/controls",
          "model_name": "HTMLModel",
          "model_module_version": "1.5.0",
          "state": {
            "_dom_classes": [],
            "_model_module": "@jupyter-widgets/controls",
            "_model_module_version": "1.5.0",
            "_model_name": "HTMLModel",
            "_view_count": null,
            "_view_module": "@jupyter-widgets/controls",
            "_view_module_version": "1.5.0",
            "_view_name": "HTMLView",
            "description": "",
            "description_tooltip": null,
            "layout": "IPY_MODEL_d64ec5968d614d86b8f42ce278c47534",
            "placeholder": "​",
            "style": "IPY_MODEL_d0da42badab346d18fefbf79ec6415e0",
            "value": " 72/200 [04:14&lt;07:23,  3.46s/it]"
          }
        },
        "3c99a915fc10449b990f42f0e3cc4632": {
          "model_module": "@jupyter-widgets/base",
          "model_name": "LayoutModel",
          "model_module_version": "1.2.0",
          "state": {
            "_model_module": "@jupyter-widgets/base",
            "_model_module_version": "1.2.0",
            "_model_name": "LayoutModel",
            "_view_count": null,
            "_view_module": "@jupyter-widgets/base",
            "_view_module_version": "1.2.0",
            "_view_name": "LayoutView",
            "align_content": null,
            "align_items": null,
            "align_self": null,
            "border": null,
            "bottom": null,
            "display": null,
            "flex": null,
            "flex_flow": null,
            "grid_area": null,
            "grid_auto_columns": null,
            "grid_auto_flow": null,
            "grid_auto_rows": null,
            "grid_column": null,
            "grid_gap": null,
            "grid_row": null,
            "grid_template_areas": null,
            "grid_template_columns": null,
            "grid_template_rows": null,
            "height": null,
            "justify_content": null,
            "justify_items": null,
            "left": null,
            "margin": null,
            "max_height": null,
            "max_width": null,
            "min_height": null,
            "min_width": null,
            "object_fit": null,
            "object_position": null,
            "order": null,
            "overflow": null,
            "overflow_x": null,
            "overflow_y": null,
            "padding": null,
            "right": null,
            "top": null,
            "visibility": null,
            "width": null
          }
        },
        "6da321f2d37d43e8807767303c27e343": {
          "model_module": "@jupyter-widgets/base",
          "model_name": "LayoutModel",
          "model_module_version": "1.2.0",
          "state": {
            "_model_module": "@jupyter-widgets/base",
            "_model_module_version": "1.2.0",
            "_model_name": "LayoutModel",
            "_view_count": null,
            "_view_module": "@jupyter-widgets/base",
            "_view_module_version": "1.2.0",
            "_view_name": "LayoutView",
            "align_content": null,
            "align_items": null,
            "align_self": null,
            "border": null,
            "bottom": null,
            "display": null,
            "flex": null,
            "flex_flow": null,
            "grid_area": null,
            "grid_auto_columns": null,
            "grid_auto_flow": null,
            "grid_auto_rows": null,
            "grid_column": null,
            "grid_gap": null,
            "grid_row": null,
            "grid_template_areas": null,
            "grid_template_columns": null,
            "grid_template_rows": null,
            "height": null,
            "justify_content": null,
            "justify_items": null,
            "left": null,
            "margin": null,
            "max_height": null,
            "max_width": null,
            "min_height": null,
            "min_width": null,
            "object_fit": null,
            "object_position": null,
            "order": null,
            "overflow": null,
            "overflow_x": null,
            "overflow_y": null,
            "padding": null,
            "right": null,
            "top": null,
            "visibility": null,
            "width": null
          }
        },
        "43d5bb8536674444ba5814b0a6fa2e4f": {
          "model_module": "@jupyter-widgets/controls",
          "model_name": "DescriptionStyleModel",
          "model_module_version": "1.5.0",
          "state": {
            "_model_module": "@jupyter-widgets/controls",
            "_model_module_version": "1.5.0",
            "_model_name": "DescriptionStyleModel",
            "_view_count": null,
            "_view_module": "@jupyter-widgets/base",
            "_view_module_version": "1.2.0",
            "_view_name": "StyleView",
            "description_width": ""
          }
        },
        "1c0e89a76dd7429c8bad78ce4a3ca3b0": {
          "model_module": "@jupyter-widgets/base",
          "model_name": "LayoutModel",
          "model_module_version": "1.2.0",
          "state": {
            "_model_module": "@jupyter-widgets/base",
            "_model_module_version": "1.2.0",
            "_model_name": "LayoutModel",
            "_view_count": null,
            "_view_module": "@jupyter-widgets/base",
            "_view_module_version": "1.2.0",
            "_view_name": "LayoutView",
            "align_content": null,
            "align_items": null,
            "align_self": null,
            "border": null,
            "bottom": null,
            "display": null,
            "flex": null,
            "flex_flow": null,
            "grid_area": null,
            "grid_auto_columns": null,
            "grid_auto_flow": null,
            "grid_auto_rows": null,
            "grid_column": null,
            "grid_gap": null,
            "grid_row": null,
            "grid_template_areas": null,
            "grid_template_columns": null,
            "grid_template_rows": null,
            "height": null,
            "justify_content": null,
            "justify_items": null,
            "left": null,
            "margin": null,
            "max_height": null,
            "max_width": null,
            "min_height": null,
            "min_width": null,
            "object_fit": null,
            "object_position": null,
            "order": null,
            "overflow": null,
            "overflow_x": null,
            "overflow_y": null,
            "padding": null,
            "right": null,
            "top": null,
            "visibility": null,
            "width": null
          }
        },
        "10267858e59445bdb34ab2b7ee825b8f": {
          "model_module": "@jupyter-widgets/controls",
          "model_name": "ProgressStyleModel",
          "model_module_version": "1.5.0",
          "state": {
            "_model_module": "@jupyter-widgets/controls",
            "_model_module_version": "1.5.0",
            "_model_name": "ProgressStyleModel",
            "_view_count": null,
            "_view_module": "@jupyter-widgets/base",
            "_view_module_version": "1.2.0",
            "_view_name": "StyleView",
            "bar_color": null,
            "description_width": ""
          }
        },
        "d64ec5968d614d86b8f42ce278c47534": {
          "model_module": "@jupyter-widgets/base",
          "model_name": "LayoutModel",
          "model_module_version": "1.2.0",
          "state": {
            "_model_module": "@jupyter-widgets/base",
            "_model_module_version": "1.2.0",
            "_model_name": "LayoutModel",
            "_view_count": null,
            "_view_module": "@jupyter-widgets/base",
            "_view_module_version": "1.2.0",
            "_view_name": "LayoutView",
            "align_content": null,
            "align_items": null,
            "align_self": null,
            "border": null,
            "bottom": null,
            "display": null,
            "flex": null,
            "flex_flow": null,
            "grid_area": null,
            "grid_auto_columns": null,
            "grid_auto_flow": null,
            "grid_auto_rows": null,
            "grid_column": null,
            "grid_gap": null,
            "grid_row": null,
            "grid_template_areas": null,
            "grid_template_columns": null,
            "grid_template_rows": null,
            "height": null,
            "justify_content": null,
            "justify_items": null,
            "left": null,
            "margin": null,
            "max_height": null,
            "max_width": null,
            "min_height": null,
            "min_width": null,
            "object_fit": null,
            "object_position": null,
            "order": null,
            "overflow": null,
            "overflow_x": null,
            "overflow_y": null,
            "padding": null,
            "right": null,
            "top": null,
            "visibility": null,
            "width": null
          }
        },
        "d0da42badab346d18fefbf79ec6415e0": {
          "model_module": "@jupyter-widgets/controls",
          "model_name": "DescriptionStyleModel",
          "model_module_version": "1.5.0",
          "state": {
            "_model_module": "@jupyter-widgets/controls",
            "_model_module_version": "1.5.0",
            "_model_name": "DescriptionStyleModel",
            "_view_count": null,
            "_view_module": "@jupyter-widgets/base",
            "_view_module_version": "1.2.0",
            "_view_name": "StyleView",
            "description_width": ""
          }
        },
        "a3fb9468714b457ba81946378e7c3e12": {
          "model_module": "@jupyter-widgets/controls",
          "model_name": "HBoxModel",
          "model_module_version": "1.5.0",
          "state": {
            "_dom_classes": [],
            "_model_module": "@jupyter-widgets/controls",
            "_model_module_version": "1.5.0",
            "_model_name": "HBoxModel",
            "_view_count": null,
            "_view_module": "@jupyter-widgets/controls",
            "_view_module_version": "1.5.0",
            "_view_name": "HBoxView",
            "box_style": "",
            "children": [
              "IPY_MODEL_288eb65792f74dedb9cc4c52a2c5d6c5",
              "IPY_MODEL_6cce1d82a0594aa286626f8d26e9e825",
              "IPY_MODEL_5d5b5ba5661b48bfa849e87229b7a196"
            ],
            "layout": "IPY_MODEL_e6fffd5fbbf8419dbaed07c555ae030c"
          }
        },
        "288eb65792f74dedb9cc4c52a2c5d6c5": {
          "model_module": "@jupyter-widgets/controls",
          "model_name": "HTMLModel",
          "model_module_version": "1.5.0",
          "state": {
            "_dom_classes": [],
            "_model_module": "@jupyter-widgets/controls",
            "_model_module_version": "1.5.0",
            "_model_name": "HTMLModel",
            "_view_count": null,
            "_view_module": "@jupyter-widgets/controls",
            "_view_module_version": "1.5.0",
            "_view_name": "HTMLView",
            "description": "",
            "description_tooltip": null,
            "layout": "IPY_MODEL_f5c82d7413a14ebc9b3ebf7a94de4208",
            "placeholder": "​",
            "style": "IPY_MODEL_8f4e59fe5891404b8011c4e4734b16ca",
            "value": " 32%"
          }
        },
        "6cce1d82a0594aa286626f8d26e9e825": {
          "model_module": "@jupyter-widgets/controls",
          "model_name": "FloatProgressModel",
          "model_module_version": "1.5.0",
          "state": {
            "_dom_classes": [],
            "_model_module": "@jupyter-widgets/controls",
            "_model_module_version": "1.5.0",
            "_model_name": "FloatProgressModel",
            "_view_count": null,
            "_view_module": "@jupyter-widgets/controls",
            "_view_module_version": "1.5.0",
            "_view_name": "ProgressView",
            "bar_style": "danger",
            "description": "",
            "description_tooltip": null,
            "layout": "IPY_MODEL_4c11deb9243e4153abe20d0a3153ef2c",
            "max": 200,
            "min": 0,
            "orientation": "horizontal",
            "style": "IPY_MODEL_6341199d2e424e93aa6c6f52ecd4c134",
            "value": 65
          }
        },
        "5d5b5ba5661b48bfa849e87229b7a196": {
          "model_module": "@jupyter-widgets/controls",
          "model_name": "HTMLModel",
          "model_module_version": "1.5.0",
          "state": {
            "_dom_classes": [],
            "_model_module": "@jupyter-widgets/controls",
            "_model_module_version": "1.5.0",
            "_model_name": "HTMLModel",
            "_view_count": null,
            "_view_module": "@jupyter-widgets/controls",
            "_view_module_version": "1.5.0",
            "_view_name": "HTMLView",
            "description": "",
            "description_tooltip": null,
            "layout": "IPY_MODEL_af65df05ab9b4a31b896f8eb8d9a09cd",
            "placeholder": "​",
            "style": "IPY_MODEL_ae99e88d248f4eee8aa4c7b7ee0326a6",
            "value": " 65/200 [04:51&lt;09:55,  4.41s/it]"
          }
        },
        "e6fffd5fbbf8419dbaed07c555ae030c": {
          "model_module": "@jupyter-widgets/base",
          "model_name": "LayoutModel",
          "model_module_version": "1.2.0",
          "state": {
            "_model_module": "@jupyter-widgets/base",
            "_model_module_version": "1.2.0",
            "_model_name": "LayoutModel",
            "_view_count": null,
            "_view_module": "@jupyter-widgets/base",
            "_view_module_version": "1.2.0",
            "_view_name": "LayoutView",
            "align_content": null,
            "align_items": null,
            "align_self": null,
            "border": null,
            "bottom": null,
            "display": null,
            "flex": null,
            "flex_flow": null,
            "grid_area": null,
            "grid_auto_columns": null,
            "grid_auto_flow": null,
            "grid_auto_rows": null,
            "grid_column": null,
            "grid_gap": null,
            "grid_row": null,
            "grid_template_areas": null,
            "grid_template_columns": null,
            "grid_template_rows": null,
            "height": null,
            "justify_content": null,
            "justify_items": null,
            "left": null,
            "margin": null,
            "max_height": null,
            "max_width": null,
            "min_height": null,
            "min_width": null,
            "object_fit": null,
            "object_position": null,
            "order": null,
            "overflow": null,
            "overflow_x": null,
            "overflow_y": null,
            "padding": null,
            "right": null,
            "top": null,
            "visibility": null,
            "width": null
          }
        },
        "f5c82d7413a14ebc9b3ebf7a94de4208": {
          "model_module": "@jupyter-widgets/base",
          "model_name": "LayoutModel",
          "model_module_version": "1.2.0",
          "state": {
            "_model_module": "@jupyter-widgets/base",
            "_model_module_version": "1.2.0",
            "_model_name": "LayoutModel",
            "_view_count": null,
            "_view_module": "@jupyter-widgets/base",
            "_view_module_version": "1.2.0",
            "_view_name": "LayoutView",
            "align_content": null,
            "align_items": null,
            "align_self": null,
            "border": null,
            "bottom": null,
            "display": null,
            "flex": null,
            "flex_flow": null,
            "grid_area": null,
            "grid_auto_columns": null,
            "grid_auto_flow": null,
            "grid_auto_rows": null,
            "grid_column": null,
            "grid_gap": null,
            "grid_row": null,
            "grid_template_areas": null,
            "grid_template_columns": null,
            "grid_template_rows": null,
            "height": null,
            "justify_content": null,
            "justify_items": null,
            "left": null,
            "margin": null,
            "max_height": null,
            "max_width": null,
            "min_height": null,
            "min_width": null,
            "object_fit": null,
            "object_position": null,
            "order": null,
            "overflow": null,
            "overflow_x": null,
            "overflow_y": null,
            "padding": null,
            "right": null,
            "top": null,
            "visibility": null,
            "width": null
          }
        },
        "8f4e59fe5891404b8011c4e4734b16ca": {
          "model_module": "@jupyter-widgets/controls",
          "model_name": "DescriptionStyleModel",
          "model_module_version": "1.5.0",
          "state": {
            "_model_module": "@jupyter-widgets/controls",
            "_model_module_version": "1.5.0",
            "_model_name": "DescriptionStyleModel",
            "_view_count": null,
            "_view_module": "@jupyter-widgets/base",
            "_view_module_version": "1.2.0",
            "_view_name": "StyleView",
            "description_width": ""
          }
        },
        "4c11deb9243e4153abe20d0a3153ef2c": {
          "model_module": "@jupyter-widgets/base",
          "model_name": "LayoutModel",
          "model_module_version": "1.2.0",
          "state": {
            "_model_module": "@jupyter-widgets/base",
            "_model_module_version": "1.2.0",
            "_model_name": "LayoutModel",
            "_view_count": null,
            "_view_module": "@jupyter-widgets/base",
            "_view_module_version": "1.2.0",
            "_view_name": "LayoutView",
            "align_content": null,
            "align_items": null,
            "align_self": null,
            "border": null,
            "bottom": null,
            "display": null,
            "flex": null,
            "flex_flow": null,
            "grid_area": null,
            "grid_auto_columns": null,
            "grid_auto_flow": null,
            "grid_auto_rows": null,
            "grid_column": null,
            "grid_gap": null,
            "grid_row": null,
            "grid_template_areas": null,
            "grid_template_columns": null,
            "grid_template_rows": null,
            "height": null,
            "justify_content": null,
            "justify_items": null,
            "left": null,
            "margin": null,
            "max_height": null,
            "max_width": null,
            "min_height": null,
            "min_width": null,
            "object_fit": null,
            "object_position": null,
            "order": null,
            "overflow": null,
            "overflow_x": null,
            "overflow_y": null,
            "padding": null,
            "right": null,
            "top": null,
            "visibility": null,
            "width": null
          }
        },
        "6341199d2e424e93aa6c6f52ecd4c134": {
          "model_module": "@jupyter-widgets/controls",
          "model_name": "ProgressStyleModel",
          "model_module_version": "1.5.0",
          "state": {
            "_model_module": "@jupyter-widgets/controls",
            "_model_module_version": "1.5.0",
            "_model_name": "ProgressStyleModel",
            "_view_count": null,
            "_view_module": "@jupyter-widgets/base",
            "_view_module_version": "1.2.0",
            "_view_name": "StyleView",
            "bar_color": null,
            "description_width": ""
          }
        },
        "af65df05ab9b4a31b896f8eb8d9a09cd": {
          "model_module": "@jupyter-widgets/base",
          "model_name": "LayoutModel",
          "model_module_version": "1.2.0",
          "state": {
            "_model_module": "@jupyter-widgets/base",
            "_model_module_version": "1.2.0",
            "_model_name": "LayoutModel",
            "_view_count": null,
            "_view_module": "@jupyter-widgets/base",
            "_view_module_version": "1.2.0",
            "_view_name": "LayoutView",
            "align_content": null,
            "align_items": null,
            "align_self": null,
            "border": null,
            "bottom": null,
            "display": null,
            "flex": null,
            "flex_flow": null,
            "grid_area": null,
            "grid_auto_columns": null,
            "grid_auto_flow": null,
            "grid_auto_rows": null,
            "grid_column": null,
            "grid_gap": null,
            "grid_row": null,
            "grid_template_areas": null,
            "grid_template_columns": null,
            "grid_template_rows": null,
            "height": null,
            "justify_content": null,
            "justify_items": null,
            "left": null,
            "margin": null,
            "max_height": null,
            "max_width": null,
            "min_height": null,
            "min_width": null,
            "object_fit": null,
            "object_position": null,
            "order": null,
            "overflow": null,
            "overflow_x": null,
            "overflow_y": null,
            "padding": null,
            "right": null,
            "top": null,
            "visibility": null,
            "width": null
          }
        },
        "ae99e88d248f4eee8aa4c7b7ee0326a6": {
          "model_module": "@jupyter-widgets/controls",
          "model_name": "DescriptionStyleModel",
          "model_module_version": "1.5.0",
          "state": {
            "_model_module": "@jupyter-widgets/controls",
            "_model_module_version": "1.5.0",
            "_model_name": "DescriptionStyleModel",
            "_view_count": null,
            "_view_module": "@jupyter-widgets/base",
            "_view_module_version": "1.2.0",
            "_view_name": "StyleView",
            "description_width": ""
          }
        },
        "ccb57d77674c47bfb8413bbd155c9b09": {
          "model_module": "@jupyter-widgets/controls",
          "model_name": "HBoxModel",
          "model_module_version": "1.5.0",
          "state": {
            "_dom_classes": [],
            "_model_module": "@jupyter-widgets/controls",
            "_model_module_version": "1.5.0",
            "_model_name": "HBoxModel",
            "_view_count": null,
            "_view_module": "@jupyter-widgets/controls",
            "_view_module_version": "1.5.0",
            "_view_name": "HBoxView",
            "box_style": "",
            "children": [
              "IPY_MODEL_23a62ad6711448c8816460ab110ea20a",
              "IPY_MODEL_a408b3aae949498b90fe39dd474e3fcd",
              "IPY_MODEL_2285b28cde634daf9ed8f8dc6610a9e0"
            ],
            "layout": "IPY_MODEL_2e115a6fd20343fe89494b49386e095d"
          }
        },
        "23a62ad6711448c8816460ab110ea20a": {
          "model_module": "@jupyter-widgets/controls",
          "model_name": "HTMLModel",
          "model_module_version": "1.5.0",
          "state": {
            "_dom_classes": [],
            "_model_module": "@jupyter-widgets/controls",
            "_model_module_version": "1.5.0",
            "_model_name": "HTMLModel",
            "_view_count": null,
            "_view_module": "@jupyter-widgets/controls",
            "_view_module_version": "1.5.0",
            "_view_name": "HTMLView",
            "description": "",
            "description_tooltip": null,
            "layout": "IPY_MODEL_816b3051f4cd48ee8d969010ef1f2db9",
            "placeholder": "​",
            "style": "IPY_MODEL_ddad6a65e54a4ca8990c4b880360abdb",
            "value": " 21%"
          }
        },
        "a408b3aae949498b90fe39dd474e3fcd": {
          "model_module": "@jupyter-widgets/controls",
          "model_name": "FloatProgressModel",
          "model_module_version": "1.5.0",
          "state": {
            "_dom_classes": [],
            "_model_module": "@jupyter-widgets/controls",
            "_model_module_version": "1.5.0",
            "_model_name": "FloatProgressModel",
            "_view_count": null,
            "_view_module": "@jupyter-widgets/controls",
            "_view_module_version": "1.5.0",
            "_view_name": "ProgressView",
            "bar_style": "danger",
            "description": "",
            "description_tooltip": null,
            "layout": "IPY_MODEL_778bfc90b54e4b979341bcbd677f5db8",
            "max": 200,
            "min": 0,
            "orientation": "horizontal",
            "style": "IPY_MODEL_df5112a93dbc4f6a9c25d4b5021f8589",
            "value": 42
          }
        },
        "2285b28cde634daf9ed8f8dc6610a9e0": {
          "model_module": "@jupyter-widgets/controls",
          "model_name": "HTMLModel",
          "model_module_version": "1.5.0",
          "state": {
            "_dom_classes": [],
            "_model_module": "@jupyter-widgets/controls",
            "_model_module_version": "1.5.0",
            "_model_name": "HTMLModel",
            "_view_count": null,
            "_view_module": "@jupyter-widgets/controls",
            "_view_module_version": "1.5.0",
            "_view_name": "HTMLView",
            "description": "",
            "description_tooltip": null,
            "layout": "IPY_MODEL_a94b3caecda342a2a4026033cea4bc16",
            "placeholder": "​",
            "style": "IPY_MODEL_41f8aebcaa2d49b6aa8d36d31fb65798",
            "value": " 42/200 [03:54&lt;14:20,  5.45s/it]"
          }
        },
        "2e115a6fd20343fe89494b49386e095d": {
          "model_module": "@jupyter-widgets/base",
          "model_name": "LayoutModel",
          "model_module_version": "1.2.0",
          "state": {
            "_model_module": "@jupyter-widgets/base",
            "_model_module_version": "1.2.0",
            "_model_name": "LayoutModel",
            "_view_count": null,
            "_view_module": "@jupyter-widgets/base",
            "_view_module_version": "1.2.0",
            "_view_name": "LayoutView",
            "align_content": null,
            "align_items": null,
            "align_self": null,
            "border": null,
            "bottom": null,
            "display": null,
            "flex": null,
            "flex_flow": null,
            "grid_area": null,
            "grid_auto_columns": null,
            "grid_auto_flow": null,
            "grid_auto_rows": null,
            "grid_column": null,
            "grid_gap": null,
            "grid_row": null,
            "grid_template_areas": null,
            "grid_template_columns": null,
            "grid_template_rows": null,
            "height": null,
            "justify_content": null,
            "justify_items": null,
            "left": null,
            "margin": null,
            "max_height": null,
            "max_width": null,
            "min_height": null,
            "min_width": null,
            "object_fit": null,
            "object_position": null,
            "order": null,
            "overflow": null,
            "overflow_x": null,
            "overflow_y": null,
            "padding": null,
            "right": null,
            "top": null,
            "visibility": null,
            "width": null
          }
        },
        "816b3051f4cd48ee8d969010ef1f2db9": {
          "model_module": "@jupyter-widgets/base",
          "model_name": "LayoutModel",
          "model_module_version": "1.2.0",
          "state": {
            "_model_module": "@jupyter-widgets/base",
            "_model_module_version": "1.2.0",
            "_model_name": "LayoutModel",
            "_view_count": null,
            "_view_module": "@jupyter-widgets/base",
            "_view_module_version": "1.2.0",
            "_view_name": "LayoutView",
            "align_content": null,
            "align_items": null,
            "align_self": null,
            "border": null,
            "bottom": null,
            "display": null,
            "flex": null,
            "flex_flow": null,
            "grid_area": null,
            "grid_auto_columns": null,
            "grid_auto_flow": null,
            "grid_auto_rows": null,
            "grid_column": null,
            "grid_gap": null,
            "grid_row": null,
            "grid_template_areas": null,
            "grid_template_columns": null,
            "grid_template_rows": null,
            "height": null,
            "justify_content": null,
            "justify_items": null,
            "left": null,
            "margin": null,
            "max_height": null,
            "max_width": null,
            "min_height": null,
            "min_width": null,
            "object_fit": null,
            "object_position": null,
            "order": null,
            "overflow": null,
            "overflow_x": null,
            "overflow_y": null,
            "padding": null,
            "right": null,
            "top": null,
            "visibility": null,
            "width": null
          }
        },
        "ddad6a65e54a4ca8990c4b880360abdb": {
          "model_module": "@jupyter-widgets/controls",
          "model_name": "DescriptionStyleModel",
          "model_module_version": "1.5.0",
          "state": {
            "_model_module": "@jupyter-widgets/controls",
            "_model_module_version": "1.5.0",
            "_model_name": "DescriptionStyleModel",
            "_view_count": null,
            "_view_module": "@jupyter-widgets/base",
            "_view_module_version": "1.2.0",
            "_view_name": "StyleView",
            "description_width": ""
          }
        },
        "778bfc90b54e4b979341bcbd677f5db8": {
          "model_module": "@jupyter-widgets/base",
          "model_name": "LayoutModel",
          "model_module_version": "1.2.0",
          "state": {
            "_model_module": "@jupyter-widgets/base",
            "_model_module_version": "1.2.0",
            "_model_name": "LayoutModel",
            "_view_count": null,
            "_view_module": "@jupyter-widgets/base",
            "_view_module_version": "1.2.0",
            "_view_name": "LayoutView",
            "align_content": null,
            "align_items": null,
            "align_self": null,
            "border": null,
            "bottom": null,
            "display": null,
            "flex": null,
            "flex_flow": null,
            "grid_area": null,
            "grid_auto_columns": null,
            "grid_auto_flow": null,
            "grid_auto_rows": null,
            "grid_column": null,
            "grid_gap": null,
            "grid_row": null,
            "grid_template_areas": null,
            "grid_template_columns": null,
            "grid_template_rows": null,
            "height": null,
            "justify_content": null,
            "justify_items": null,
            "left": null,
            "margin": null,
            "max_height": null,
            "max_width": null,
            "min_height": null,
            "min_width": null,
            "object_fit": null,
            "object_position": null,
            "order": null,
            "overflow": null,
            "overflow_x": null,
            "overflow_y": null,
            "padding": null,
            "right": null,
            "top": null,
            "visibility": null,
            "width": null
          }
        },
        "df5112a93dbc4f6a9c25d4b5021f8589": {
          "model_module": "@jupyter-widgets/controls",
          "model_name": "ProgressStyleModel",
          "model_module_version": "1.5.0",
          "state": {
            "_model_module": "@jupyter-widgets/controls",
            "_model_module_version": "1.5.0",
            "_model_name": "ProgressStyleModel",
            "_view_count": null,
            "_view_module": "@jupyter-widgets/base",
            "_view_module_version": "1.2.0",
            "_view_name": "StyleView",
            "bar_color": null,
            "description_width": ""
          }
        },
        "a94b3caecda342a2a4026033cea4bc16": {
          "model_module": "@jupyter-widgets/base",
          "model_name": "LayoutModel",
          "model_module_version": "1.2.0",
          "state": {
            "_model_module": "@jupyter-widgets/base",
            "_model_module_version": "1.2.0",
            "_model_name": "LayoutModel",
            "_view_count": null,
            "_view_module": "@jupyter-widgets/base",
            "_view_module_version": "1.2.0",
            "_view_name": "LayoutView",
            "align_content": null,
            "align_items": null,
            "align_self": null,
            "border": null,
            "bottom": null,
            "display": null,
            "flex": null,
            "flex_flow": null,
            "grid_area": null,
            "grid_auto_columns": null,
            "grid_auto_flow": null,
            "grid_auto_rows": null,
            "grid_column": null,
            "grid_gap": null,
            "grid_row": null,
            "grid_template_areas": null,
            "grid_template_columns": null,
            "grid_template_rows": null,
            "height": null,
            "justify_content": null,
            "justify_items": null,
            "left": null,
            "margin": null,
            "max_height": null,
            "max_width": null,
            "min_height": null,
            "min_width": null,
            "object_fit": null,
            "object_position": null,
            "order": null,
            "overflow": null,
            "overflow_x": null,
            "overflow_y": null,
            "padding": null,
            "right": null,
            "top": null,
            "visibility": null,
            "width": null
          }
        },
        "41f8aebcaa2d49b6aa8d36d31fb65798": {
          "model_module": "@jupyter-widgets/controls",
          "model_name": "DescriptionStyleModel",
          "model_module_version": "1.5.0",
          "state": {
            "_model_module": "@jupyter-widgets/controls",
            "_model_module_version": "1.5.0",
            "_model_name": "DescriptionStyleModel",
            "_view_count": null,
            "_view_module": "@jupyter-widgets/base",
            "_view_module_version": "1.2.0",
            "_view_name": "StyleView",
            "description_width": ""
          }
        },
        "d6e8cbcb3cc047d4944f60fc5786d3ed": {
          "model_module": "@jupyter-widgets/controls",
          "model_name": "HBoxModel",
          "model_module_version": "1.5.0",
          "state": {
            "_dom_classes": [],
            "_model_module": "@jupyter-widgets/controls",
            "_model_module_version": "1.5.0",
            "_model_name": "HBoxModel",
            "_view_count": null,
            "_view_module": "@jupyter-widgets/controls",
            "_view_module_version": "1.5.0",
            "_view_name": "HBoxView",
            "box_style": "",
            "children": [
              "IPY_MODEL_c5d88918ca614a6690f53b15908cc3b6",
              "IPY_MODEL_8fae6a689eb140eca050225255f8e221",
              "IPY_MODEL_fa3846a1b8734f978b72f455bccb13a2"
            ],
            "layout": "IPY_MODEL_92ee0b7e37c141d7a4e09bff20096cda"
          }
        },
        "c5d88918ca614a6690f53b15908cc3b6": {
          "model_module": "@jupyter-widgets/controls",
          "model_name": "HTMLModel",
          "model_module_version": "1.5.0",
          "state": {
            "_dom_classes": [],
            "_model_module": "@jupyter-widgets/controls",
            "_model_module_version": "1.5.0",
            "_model_name": "HTMLModel",
            "_view_count": null,
            "_view_module": "@jupyter-widgets/controls",
            "_view_module_version": "1.5.0",
            "_view_name": "HTMLView",
            "description": "",
            "description_tooltip": null,
            "layout": "IPY_MODEL_26022d065edd4359b631194cc1f63cef",
            "placeholder": "​",
            "style": "IPY_MODEL_80684ab4c2b34ef3bada27f428fb8ac7",
            "value": "100%"
          }
        },
        "8fae6a689eb140eca050225255f8e221": {
          "model_module": "@jupyter-widgets/controls",
          "model_name": "FloatProgressModel",
          "model_module_version": "1.5.0",
          "state": {
            "_dom_classes": [],
            "_model_module": "@jupyter-widgets/controls",
            "_model_module_version": "1.5.0",
            "_model_name": "FloatProgressModel",
            "_view_count": null,
            "_view_module": "@jupyter-widgets/controls",
            "_view_module_version": "1.5.0",
            "_view_name": "ProgressView",
            "bar_style": "success",
            "description": "",
            "description_tooltip": null,
            "layout": "IPY_MODEL_c1b23d92972540f7a0428ab6b860f0d9",
            "max": 5,
            "min": 0,
            "orientation": "horizontal",
            "style": "IPY_MODEL_01a7e7a3ddd0409898cf47525647854a",
            "value": 5
          }
        },
        "fa3846a1b8734f978b72f455bccb13a2": {
          "model_module": "@jupyter-widgets/controls",
          "model_name": "HTMLModel",
          "model_module_version": "1.5.0",
          "state": {
            "_dom_classes": [],
            "_model_module": "@jupyter-widgets/controls",
            "_model_module_version": "1.5.0",
            "_model_name": "HTMLModel",
            "_view_count": null,
            "_view_module": "@jupyter-widgets/controls",
            "_view_module_version": "1.5.0",
            "_view_name": "HTMLView",
            "description": "",
            "description_tooltip": null,
            "layout": "IPY_MODEL_32cffa7f20454f06abec8066ecab87f1",
            "placeholder": "​",
            "style": "IPY_MODEL_d65c989be55a4708b26d079e91e993cf",
            "value": " 5/5 [00:27&lt;00:00,  4.85s/it]"
          }
        },
        "92ee0b7e37c141d7a4e09bff20096cda": {
          "model_module": "@jupyter-widgets/base",
          "model_name": "LayoutModel",
          "model_module_version": "1.2.0",
          "state": {
            "_model_module": "@jupyter-widgets/base",
            "_model_module_version": "1.2.0",
            "_model_name": "LayoutModel",
            "_view_count": null,
            "_view_module": "@jupyter-widgets/base",
            "_view_module_version": "1.2.0",
            "_view_name": "LayoutView",
            "align_content": null,
            "align_items": null,
            "align_self": null,
            "border": null,
            "bottom": null,
            "display": null,
            "flex": null,
            "flex_flow": null,
            "grid_area": null,
            "grid_auto_columns": null,
            "grid_auto_flow": null,
            "grid_auto_rows": null,
            "grid_column": null,
            "grid_gap": null,
            "grid_row": null,
            "grid_template_areas": null,
            "grid_template_columns": null,
            "grid_template_rows": null,
            "height": null,
            "justify_content": null,
            "justify_items": null,
            "left": null,
            "margin": null,
            "max_height": null,
            "max_width": null,
            "min_height": null,
            "min_width": null,
            "object_fit": null,
            "object_position": null,
            "order": null,
            "overflow": null,
            "overflow_x": null,
            "overflow_y": null,
            "padding": null,
            "right": null,
            "top": null,
            "visibility": null,
            "width": null
          }
        },
        "26022d065edd4359b631194cc1f63cef": {
          "model_module": "@jupyter-widgets/base",
          "model_name": "LayoutModel",
          "model_module_version": "1.2.0",
          "state": {
            "_model_module": "@jupyter-widgets/base",
            "_model_module_version": "1.2.0",
            "_model_name": "LayoutModel",
            "_view_count": null,
            "_view_module": "@jupyter-widgets/base",
            "_view_module_version": "1.2.0",
            "_view_name": "LayoutView",
            "align_content": null,
            "align_items": null,
            "align_self": null,
            "border": null,
            "bottom": null,
            "display": null,
            "flex": null,
            "flex_flow": null,
            "grid_area": null,
            "grid_auto_columns": null,
            "grid_auto_flow": null,
            "grid_auto_rows": null,
            "grid_column": null,
            "grid_gap": null,
            "grid_row": null,
            "grid_template_areas": null,
            "grid_template_columns": null,
            "grid_template_rows": null,
            "height": null,
            "justify_content": null,
            "justify_items": null,
            "left": null,
            "margin": null,
            "max_height": null,
            "max_width": null,
            "min_height": null,
            "min_width": null,
            "object_fit": null,
            "object_position": null,
            "order": null,
            "overflow": null,
            "overflow_x": null,
            "overflow_y": null,
            "padding": null,
            "right": null,
            "top": null,
            "visibility": null,
            "width": null
          }
        },
        "80684ab4c2b34ef3bada27f428fb8ac7": {
          "model_module": "@jupyter-widgets/controls",
          "model_name": "DescriptionStyleModel",
          "model_module_version": "1.5.0",
          "state": {
            "_model_module": "@jupyter-widgets/controls",
            "_model_module_version": "1.5.0",
            "_model_name": "DescriptionStyleModel",
            "_view_count": null,
            "_view_module": "@jupyter-widgets/base",
            "_view_module_version": "1.2.0",
            "_view_name": "StyleView",
            "description_width": ""
          }
        },
        "c1b23d92972540f7a0428ab6b860f0d9": {
          "model_module": "@jupyter-widgets/base",
          "model_name": "LayoutModel",
          "model_module_version": "1.2.0",
          "state": {
            "_model_module": "@jupyter-widgets/base",
            "_model_module_version": "1.2.0",
            "_model_name": "LayoutModel",
            "_view_count": null,
            "_view_module": "@jupyter-widgets/base",
            "_view_module_version": "1.2.0",
            "_view_name": "LayoutView",
            "align_content": null,
            "align_items": null,
            "align_self": null,
            "border": null,
            "bottom": null,
            "display": null,
            "flex": null,
            "flex_flow": null,
            "grid_area": null,
            "grid_auto_columns": null,
            "grid_auto_flow": null,
            "grid_auto_rows": null,
            "grid_column": null,
            "grid_gap": null,
            "grid_row": null,
            "grid_template_areas": null,
            "grid_template_columns": null,
            "grid_template_rows": null,
            "height": null,
            "justify_content": null,
            "justify_items": null,
            "left": null,
            "margin": null,
            "max_height": null,
            "max_width": null,
            "min_height": null,
            "min_width": null,
            "object_fit": null,
            "object_position": null,
            "order": null,
            "overflow": null,
            "overflow_x": null,
            "overflow_y": null,
            "padding": null,
            "right": null,
            "top": null,
            "visibility": null,
            "width": null
          }
        },
        "01a7e7a3ddd0409898cf47525647854a": {
          "model_module": "@jupyter-widgets/controls",
          "model_name": "ProgressStyleModel",
          "model_module_version": "1.5.0",
          "state": {
            "_model_module": "@jupyter-widgets/controls",
            "_model_module_version": "1.5.0",
            "_model_name": "ProgressStyleModel",
            "_view_count": null,
            "_view_module": "@jupyter-widgets/base",
            "_view_module_version": "1.2.0",
            "_view_name": "StyleView",
            "bar_color": null,
            "description_width": ""
          }
        },
        "32cffa7f20454f06abec8066ecab87f1": {
          "model_module": "@jupyter-widgets/base",
          "model_name": "LayoutModel",
          "model_module_version": "1.2.0",
          "state": {
            "_model_module": "@jupyter-widgets/base",
            "_model_module_version": "1.2.0",
            "_model_name": "LayoutModel",
            "_view_count": null,
            "_view_module": "@jupyter-widgets/base",
            "_view_module_version": "1.2.0",
            "_view_name": "LayoutView",
            "align_content": null,
            "align_items": null,
            "align_self": null,
            "border": null,
            "bottom": null,
            "display": null,
            "flex": null,
            "flex_flow": null,
            "grid_area": null,
            "grid_auto_columns": null,
            "grid_auto_flow": null,
            "grid_auto_rows": null,
            "grid_column": null,
            "grid_gap": null,
            "grid_row": null,
            "grid_template_areas": null,
            "grid_template_columns": null,
            "grid_template_rows": null,
            "height": null,
            "justify_content": null,
            "justify_items": null,
            "left": null,
            "margin": null,
            "max_height": null,
            "max_width": null,
            "min_height": null,
            "min_width": null,
            "object_fit": null,
            "object_position": null,
            "order": null,
            "overflow": null,
            "overflow_x": null,
            "overflow_y": null,
            "padding": null,
            "right": null,
            "top": null,
            "visibility": null,
            "width": null
          }
        },
        "d65c989be55a4708b26d079e91e993cf": {
          "model_module": "@jupyter-widgets/controls",
          "model_name": "DescriptionStyleModel",
          "model_module_version": "1.5.0",
          "state": {
            "_model_module": "@jupyter-widgets/controls",
            "_model_module_version": "1.5.0",
            "_model_name": "DescriptionStyleModel",
            "_view_count": null,
            "_view_module": "@jupyter-widgets/base",
            "_view_module_version": "1.2.0",
            "_view_name": "StyleView",
            "description_width": ""
          }
        },
        "2ef8ce53e7ce4a28806243d90f2494bb": {
          "model_module": "@jupyter-widgets/controls",
          "model_name": "HBoxModel",
          "model_module_version": "1.5.0",
          "state": {
            "_dom_classes": [],
            "_model_module": "@jupyter-widgets/controls",
            "_model_module_version": "1.5.0",
            "_model_name": "HBoxModel",
            "_view_count": null,
            "_view_module": "@jupyter-widgets/controls",
            "_view_module_version": "1.5.0",
            "_view_name": "HBoxView",
            "box_style": "",
            "children": [
              "IPY_MODEL_cb2e1d9651984ab4a61a45386473a013",
              "IPY_MODEL_082c5de7416c4076a446f1909713d37a",
              "IPY_MODEL_049611e6b1e9410da30d988f61200c29"
            ],
            "layout": "IPY_MODEL_ecdf4abe5bb7491b95498422c4aa61d4"
          }
        },
        "cb2e1d9651984ab4a61a45386473a013": {
          "model_module": "@jupyter-widgets/controls",
          "model_name": "HTMLModel",
          "model_module_version": "1.5.0",
          "state": {
            "_dom_classes": [],
            "_model_module": "@jupyter-widgets/controls",
            "_model_module_version": "1.5.0",
            "_model_name": "HTMLModel",
            "_view_count": null,
            "_view_module": "@jupyter-widgets/controls",
            "_view_module_version": "1.5.0",
            "_view_name": "HTMLView",
            "description": "",
            "description_tooltip": null,
            "layout": "IPY_MODEL_ac4fb12fdccd49f6a2684bfe48cd1b20",
            "placeholder": "​",
            "style": "IPY_MODEL_db57e9c88bcd47b5bc7902e1a81f8543",
            "value": "100%"
          }
        },
        "082c5de7416c4076a446f1909713d37a": {
          "model_module": "@jupyter-widgets/controls",
          "model_name": "FloatProgressModel",
          "model_module_version": "1.5.0",
          "state": {
            "_dom_classes": [],
            "_model_module": "@jupyter-widgets/controls",
            "_model_module_version": "1.5.0",
            "_model_name": "FloatProgressModel",
            "_view_count": null,
            "_view_module": "@jupyter-widgets/controls",
            "_view_module_version": "1.5.0",
            "_view_name": "ProgressView",
            "bar_style": "success",
            "description": "",
            "description_tooltip": null,
            "layout": "IPY_MODEL_b8d1b0eb0f6a4f5dab226801747120f0",
            "max": 5,
            "min": 0,
            "orientation": "horizontal",
            "style": "IPY_MODEL_53f4b086e1be4ed8a1ac5d32630f6821",
            "value": 5
          }
        },
        "049611e6b1e9410da30d988f61200c29": {
          "model_module": "@jupyter-widgets/controls",
          "model_name": "HTMLModel",
          "model_module_version": "1.5.0",
          "state": {
            "_dom_classes": [],
            "_model_module": "@jupyter-widgets/controls",
            "_model_module_version": "1.5.0",
            "_model_name": "HTMLModel",
            "_view_count": null,
            "_view_module": "@jupyter-widgets/controls",
            "_view_module_version": "1.5.0",
            "_view_name": "HTMLView",
            "description": "",
            "description_tooltip": null,
            "layout": "IPY_MODEL_de514f8838b541baa36dd02147bca885",
            "placeholder": "​",
            "style": "IPY_MODEL_606f3d6399db41868d5f51551393af1e",
            "value": " 5/5 [00:15&lt;00:00,  3.03s/it]"
          }
        },
        "ecdf4abe5bb7491b95498422c4aa61d4": {
          "model_module": "@jupyter-widgets/base",
          "model_name": "LayoutModel",
          "model_module_version": "1.2.0",
          "state": {
            "_model_module": "@jupyter-widgets/base",
            "_model_module_version": "1.2.0",
            "_model_name": "LayoutModel",
            "_view_count": null,
            "_view_module": "@jupyter-widgets/base",
            "_view_module_version": "1.2.0",
            "_view_name": "LayoutView",
            "align_content": null,
            "align_items": null,
            "align_self": null,
            "border": null,
            "bottom": null,
            "display": null,
            "flex": null,
            "flex_flow": null,
            "grid_area": null,
            "grid_auto_columns": null,
            "grid_auto_flow": null,
            "grid_auto_rows": null,
            "grid_column": null,
            "grid_gap": null,
            "grid_row": null,
            "grid_template_areas": null,
            "grid_template_columns": null,
            "grid_template_rows": null,
            "height": null,
            "justify_content": null,
            "justify_items": null,
            "left": null,
            "margin": null,
            "max_height": null,
            "max_width": null,
            "min_height": null,
            "min_width": null,
            "object_fit": null,
            "object_position": null,
            "order": null,
            "overflow": null,
            "overflow_x": null,
            "overflow_y": null,
            "padding": null,
            "right": null,
            "top": null,
            "visibility": null,
            "width": null
          }
        },
        "ac4fb12fdccd49f6a2684bfe48cd1b20": {
          "model_module": "@jupyter-widgets/base",
          "model_name": "LayoutModel",
          "model_module_version": "1.2.0",
          "state": {
            "_model_module": "@jupyter-widgets/base",
            "_model_module_version": "1.2.0",
            "_model_name": "LayoutModel",
            "_view_count": null,
            "_view_module": "@jupyter-widgets/base",
            "_view_module_version": "1.2.0",
            "_view_name": "LayoutView",
            "align_content": null,
            "align_items": null,
            "align_self": null,
            "border": null,
            "bottom": null,
            "display": null,
            "flex": null,
            "flex_flow": null,
            "grid_area": null,
            "grid_auto_columns": null,
            "grid_auto_flow": null,
            "grid_auto_rows": null,
            "grid_column": null,
            "grid_gap": null,
            "grid_row": null,
            "grid_template_areas": null,
            "grid_template_columns": null,
            "grid_template_rows": null,
            "height": null,
            "justify_content": null,
            "justify_items": null,
            "left": null,
            "margin": null,
            "max_height": null,
            "max_width": null,
            "min_height": null,
            "min_width": null,
            "object_fit": null,
            "object_position": null,
            "order": null,
            "overflow": null,
            "overflow_x": null,
            "overflow_y": null,
            "padding": null,
            "right": null,
            "top": null,
            "visibility": null,
            "width": null
          }
        },
        "db57e9c88bcd47b5bc7902e1a81f8543": {
          "model_module": "@jupyter-widgets/controls",
          "model_name": "DescriptionStyleModel",
          "model_module_version": "1.5.0",
          "state": {
            "_model_module": "@jupyter-widgets/controls",
            "_model_module_version": "1.5.0",
            "_model_name": "DescriptionStyleModel",
            "_view_count": null,
            "_view_module": "@jupyter-widgets/base",
            "_view_module_version": "1.2.0",
            "_view_name": "StyleView",
            "description_width": ""
          }
        },
        "b8d1b0eb0f6a4f5dab226801747120f0": {
          "model_module": "@jupyter-widgets/base",
          "model_name": "LayoutModel",
          "model_module_version": "1.2.0",
          "state": {
            "_model_module": "@jupyter-widgets/base",
            "_model_module_version": "1.2.0",
            "_model_name": "LayoutModel",
            "_view_count": null,
            "_view_module": "@jupyter-widgets/base",
            "_view_module_version": "1.2.0",
            "_view_name": "LayoutView",
            "align_content": null,
            "align_items": null,
            "align_self": null,
            "border": null,
            "bottom": null,
            "display": null,
            "flex": null,
            "flex_flow": null,
            "grid_area": null,
            "grid_auto_columns": null,
            "grid_auto_flow": null,
            "grid_auto_rows": null,
            "grid_column": null,
            "grid_gap": null,
            "grid_row": null,
            "grid_template_areas": null,
            "grid_template_columns": null,
            "grid_template_rows": null,
            "height": null,
            "justify_content": null,
            "justify_items": null,
            "left": null,
            "margin": null,
            "max_height": null,
            "max_width": null,
            "min_height": null,
            "min_width": null,
            "object_fit": null,
            "object_position": null,
            "order": null,
            "overflow": null,
            "overflow_x": null,
            "overflow_y": null,
            "padding": null,
            "right": null,
            "top": null,
            "visibility": null,
            "width": null
          }
        },
        "53f4b086e1be4ed8a1ac5d32630f6821": {
          "model_module": "@jupyter-widgets/controls",
          "model_name": "ProgressStyleModel",
          "model_module_version": "1.5.0",
          "state": {
            "_model_module": "@jupyter-widgets/controls",
            "_model_module_version": "1.5.0",
            "_model_name": "ProgressStyleModel",
            "_view_count": null,
            "_view_module": "@jupyter-widgets/base",
            "_view_module_version": "1.2.0",
            "_view_name": "StyleView",
            "bar_color": null,
            "description_width": ""
          }
        },
        "de514f8838b541baa36dd02147bca885": {
          "model_module": "@jupyter-widgets/base",
          "model_name": "LayoutModel",
          "model_module_version": "1.2.0",
          "state": {
            "_model_module": "@jupyter-widgets/base",
            "_model_module_version": "1.2.0",
            "_model_name": "LayoutModel",
            "_view_count": null,
            "_view_module": "@jupyter-widgets/base",
            "_view_module_version": "1.2.0",
            "_view_name": "LayoutView",
            "align_content": null,
            "align_items": null,
            "align_self": null,
            "border": null,
            "bottom": null,
            "display": null,
            "flex": null,
            "flex_flow": null,
            "grid_area": null,
            "grid_auto_columns": null,
            "grid_auto_flow": null,
            "grid_auto_rows": null,
            "grid_column": null,
            "grid_gap": null,
            "grid_row": null,
            "grid_template_areas": null,
            "grid_template_columns": null,
            "grid_template_rows": null,
            "height": null,
            "justify_content": null,
            "justify_items": null,
            "left": null,
            "margin": null,
            "max_height": null,
            "max_width": null,
            "min_height": null,
            "min_width": null,
            "object_fit": null,
            "object_position": null,
            "order": null,
            "overflow": null,
            "overflow_x": null,
            "overflow_y": null,
            "padding": null,
            "right": null,
            "top": null,
            "visibility": null,
            "width": null
          }
        },
        "606f3d6399db41868d5f51551393af1e": {
          "model_module": "@jupyter-widgets/controls",
          "model_name": "DescriptionStyleModel",
          "model_module_version": "1.5.0",
          "state": {
            "_model_module": "@jupyter-widgets/controls",
            "_model_module_version": "1.5.0",
            "_model_name": "DescriptionStyleModel",
            "_view_count": null,
            "_view_module": "@jupyter-widgets/base",
            "_view_module_version": "1.2.0",
            "_view_name": "StyleView",
            "description_width": ""
          }
        },
        "af4afb22e8ae4ab0aae75ce0c95cb1d8": {
          "model_module": "@jupyter-widgets/controls",
          "model_name": "HBoxModel",
          "model_module_version": "1.5.0",
          "state": {
            "_dom_classes": [],
            "_model_module": "@jupyter-widgets/controls",
            "_model_module_version": "1.5.0",
            "_model_name": "HBoxModel",
            "_view_count": null,
            "_view_module": "@jupyter-widgets/controls",
            "_view_module_version": "1.5.0",
            "_view_name": "HBoxView",
            "box_style": "",
            "children": [
              "IPY_MODEL_2be9f2bdcc3747b88c18ef19b3df3804",
              "IPY_MODEL_d81e3a62a1514d8daa9157487f4ecbf8",
              "IPY_MODEL_cfd7a670c2ae4ee2a46f3ebcd359f33b"
            ],
            "layout": "IPY_MODEL_e6fb141bad764ea288c2c70b0fa1fe64"
          }
        },
        "2be9f2bdcc3747b88c18ef19b3df3804": {
          "model_module": "@jupyter-widgets/controls",
          "model_name": "HTMLModel",
          "model_module_version": "1.5.0",
          "state": {
            "_dom_classes": [],
            "_model_module": "@jupyter-widgets/controls",
            "_model_module_version": "1.5.0",
            "_model_name": "HTMLModel",
            "_view_count": null,
            "_view_module": "@jupyter-widgets/controls",
            "_view_module_version": "1.5.0",
            "_view_name": "HTMLView",
            "description": "",
            "description_tooltip": null,
            "layout": "IPY_MODEL_fab32f8bbf04438a82a4a593342b1d59",
            "placeholder": "​",
            "style": "IPY_MODEL_691e62cec7a0465bb6a69d2b9fac429a",
            "value": "100%"
          }
        },
        "d81e3a62a1514d8daa9157487f4ecbf8": {
          "model_module": "@jupyter-widgets/controls",
          "model_name": "FloatProgressModel",
          "model_module_version": "1.5.0",
          "state": {
            "_dom_classes": [],
            "_model_module": "@jupyter-widgets/controls",
            "_model_module_version": "1.5.0",
            "_model_name": "FloatProgressModel",
            "_view_count": null,
            "_view_module": "@jupyter-widgets/controls",
            "_view_module_version": "1.5.0",
            "_view_name": "ProgressView",
            "bar_style": "success",
            "description": "",
            "description_tooltip": null,
            "layout": "IPY_MODEL_cf41cb6560d740ffb70572a522cbe607",
            "max": 5,
            "min": 0,
            "orientation": "horizontal",
            "style": "IPY_MODEL_7ed39ff1743140bf873f95d03edfb5f2",
            "value": 5
          }
        },
        "cfd7a670c2ae4ee2a46f3ebcd359f33b": {
          "model_module": "@jupyter-widgets/controls",
          "model_name": "HTMLModel",
          "model_module_version": "1.5.0",
          "state": {
            "_dom_classes": [],
            "_model_module": "@jupyter-widgets/controls",
            "_model_module_version": "1.5.0",
            "_model_name": "HTMLModel",
            "_view_count": null,
            "_view_module": "@jupyter-widgets/controls",
            "_view_module_version": "1.5.0",
            "_view_name": "HTMLView",
            "description": "",
            "description_tooltip": null,
            "layout": "IPY_MODEL_106b991a64d442eba3cf326e53d35fc7",
            "placeholder": "​",
            "style": "IPY_MODEL_5fa121e4024946e78cdc3b6c949c2313",
            "value": " 5/5 [00:15&lt;00:00,  3.01s/it]"
          }
        },
        "e6fb141bad764ea288c2c70b0fa1fe64": {
          "model_module": "@jupyter-widgets/base",
          "model_name": "LayoutModel",
          "model_module_version": "1.2.0",
          "state": {
            "_model_module": "@jupyter-widgets/base",
            "_model_module_version": "1.2.0",
            "_model_name": "LayoutModel",
            "_view_count": null,
            "_view_module": "@jupyter-widgets/base",
            "_view_module_version": "1.2.0",
            "_view_name": "LayoutView",
            "align_content": null,
            "align_items": null,
            "align_self": null,
            "border": null,
            "bottom": null,
            "display": null,
            "flex": null,
            "flex_flow": null,
            "grid_area": null,
            "grid_auto_columns": null,
            "grid_auto_flow": null,
            "grid_auto_rows": null,
            "grid_column": null,
            "grid_gap": null,
            "grid_row": null,
            "grid_template_areas": null,
            "grid_template_columns": null,
            "grid_template_rows": null,
            "height": null,
            "justify_content": null,
            "justify_items": null,
            "left": null,
            "margin": null,
            "max_height": null,
            "max_width": null,
            "min_height": null,
            "min_width": null,
            "object_fit": null,
            "object_position": null,
            "order": null,
            "overflow": null,
            "overflow_x": null,
            "overflow_y": null,
            "padding": null,
            "right": null,
            "top": null,
            "visibility": null,
            "width": null
          }
        },
        "fab32f8bbf04438a82a4a593342b1d59": {
          "model_module": "@jupyter-widgets/base",
          "model_name": "LayoutModel",
          "model_module_version": "1.2.0",
          "state": {
            "_model_module": "@jupyter-widgets/base",
            "_model_module_version": "1.2.0",
            "_model_name": "LayoutModel",
            "_view_count": null,
            "_view_module": "@jupyter-widgets/base",
            "_view_module_version": "1.2.0",
            "_view_name": "LayoutView",
            "align_content": null,
            "align_items": null,
            "align_self": null,
            "border": null,
            "bottom": null,
            "display": null,
            "flex": null,
            "flex_flow": null,
            "grid_area": null,
            "grid_auto_columns": null,
            "grid_auto_flow": null,
            "grid_auto_rows": null,
            "grid_column": null,
            "grid_gap": null,
            "grid_row": null,
            "grid_template_areas": null,
            "grid_template_columns": null,
            "grid_template_rows": null,
            "height": null,
            "justify_content": null,
            "justify_items": null,
            "left": null,
            "margin": null,
            "max_height": null,
            "max_width": null,
            "min_height": null,
            "min_width": null,
            "object_fit": null,
            "object_position": null,
            "order": null,
            "overflow": null,
            "overflow_x": null,
            "overflow_y": null,
            "padding": null,
            "right": null,
            "top": null,
            "visibility": null,
            "width": null
          }
        },
        "691e62cec7a0465bb6a69d2b9fac429a": {
          "model_module": "@jupyter-widgets/controls",
          "model_name": "DescriptionStyleModel",
          "model_module_version": "1.5.0",
          "state": {
            "_model_module": "@jupyter-widgets/controls",
            "_model_module_version": "1.5.0",
            "_model_name": "DescriptionStyleModel",
            "_view_count": null,
            "_view_module": "@jupyter-widgets/base",
            "_view_module_version": "1.2.0",
            "_view_name": "StyleView",
            "description_width": ""
          }
        },
        "cf41cb6560d740ffb70572a522cbe607": {
          "model_module": "@jupyter-widgets/base",
          "model_name": "LayoutModel",
          "model_module_version": "1.2.0",
          "state": {
            "_model_module": "@jupyter-widgets/base",
            "_model_module_version": "1.2.0",
            "_model_name": "LayoutModel",
            "_view_count": null,
            "_view_module": "@jupyter-widgets/base",
            "_view_module_version": "1.2.0",
            "_view_name": "LayoutView",
            "align_content": null,
            "align_items": null,
            "align_self": null,
            "border": null,
            "bottom": null,
            "display": null,
            "flex": null,
            "flex_flow": null,
            "grid_area": null,
            "grid_auto_columns": null,
            "grid_auto_flow": null,
            "grid_auto_rows": null,
            "grid_column": null,
            "grid_gap": null,
            "grid_row": null,
            "grid_template_areas": null,
            "grid_template_columns": null,
            "grid_template_rows": null,
            "height": null,
            "justify_content": null,
            "justify_items": null,
            "left": null,
            "margin": null,
            "max_height": null,
            "max_width": null,
            "min_height": null,
            "min_width": null,
            "object_fit": null,
            "object_position": null,
            "order": null,
            "overflow": null,
            "overflow_x": null,
            "overflow_y": null,
            "padding": null,
            "right": null,
            "top": null,
            "visibility": null,
            "width": null
          }
        },
        "7ed39ff1743140bf873f95d03edfb5f2": {
          "model_module": "@jupyter-widgets/controls",
          "model_name": "ProgressStyleModel",
          "model_module_version": "1.5.0",
          "state": {
            "_model_module": "@jupyter-widgets/controls",
            "_model_module_version": "1.5.0",
            "_model_name": "ProgressStyleModel",
            "_view_count": null,
            "_view_module": "@jupyter-widgets/base",
            "_view_module_version": "1.2.0",
            "_view_name": "StyleView",
            "bar_color": null,
            "description_width": ""
          }
        },
        "106b991a64d442eba3cf326e53d35fc7": {
          "model_module": "@jupyter-widgets/base",
          "model_name": "LayoutModel",
          "model_module_version": "1.2.0",
          "state": {
            "_model_module": "@jupyter-widgets/base",
            "_model_module_version": "1.2.0",
            "_model_name": "LayoutModel",
            "_view_count": null,
            "_view_module": "@jupyter-widgets/base",
            "_view_module_version": "1.2.0",
            "_view_name": "LayoutView",
            "align_content": null,
            "align_items": null,
            "align_self": null,
            "border": null,
            "bottom": null,
            "display": null,
            "flex": null,
            "flex_flow": null,
            "grid_area": null,
            "grid_auto_columns": null,
            "grid_auto_flow": null,
            "grid_auto_rows": null,
            "grid_column": null,
            "grid_gap": null,
            "grid_row": null,
            "grid_template_areas": null,
            "grid_template_columns": null,
            "grid_template_rows": null,
            "height": null,
            "justify_content": null,
            "justify_items": null,
            "left": null,
            "margin": null,
            "max_height": null,
            "max_width": null,
            "min_height": null,
            "min_width": null,
            "object_fit": null,
            "object_position": null,
            "order": null,
            "overflow": null,
            "overflow_x": null,
            "overflow_y": null,
            "padding": null,
            "right": null,
            "top": null,
            "visibility": null,
            "width": null
          }
        },
        "5fa121e4024946e78cdc3b6c949c2313": {
          "model_module": "@jupyter-widgets/controls",
          "model_name": "DescriptionStyleModel",
          "model_module_version": "1.5.0",
          "state": {
            "_model_module": "@jupyter-widgets/controls",
            "_model_module_version": "1.5.0",
            "_model_name": "DescriptionStyleModel",
            "_view_count": null,
            "_view_module": "@jupyter-widgets/base",
            "_view_module_version": "1.2.0",
            "_view_name": "StyleView",
            "description_width": ""
          }
        }
      }
    },
    "accelerator": "GPU"
  },
  "nbformat": 4,
  "nbformat_minor": 0
}