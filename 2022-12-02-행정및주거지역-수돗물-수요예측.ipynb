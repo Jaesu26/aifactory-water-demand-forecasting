{
  "cells": [
    {
      "cell_type": "markdown",
      "metadata": {
        "id": "view-in-github",
        "colab_type": "text"
      },
      "source": [
        "<a href=\"https://colab.research.google.com/github/Jaesu26/aifactory-water-demand-forecasting/blob/main/2022-12-02-%ED%96%89%EC%A0%95%EB%B0%8F%EC%A3%BC%EA%B1%B0%EC%A7%80%EC%97%AD-%EC%88%98%EB%8F%97%EB%AC%BC-%EC%88%98%EC%9A%94%EC%98%88%EC%B8%A1.ipynb\" target=\"_parent\"><img src=\"https://colab.research.google.com/assets/colab-badge.svg\" alt=\"Open In Colab\"/></a>"
      ]
    },
    {
      "cell_type": "markdown",
      "metadata": {
        "id": "75xRhMA-ZZ4g"
      },
      "source": [
        "# [2022 제2회 K-water AI 경진대회] 수돗물 수요예측 AI 알고리즘 개발\n",
        "\n",
        "- [2022-Task 1] 혁신도시: 경상북도 김천시 율곡동"
      ]
    },
    {
      "cell_type": "code",
      "execution_count": 1,
      "metadata": {
        "id": "_LAUwqDR_ucz"
      },
      "outputs": [],
      "source": [
        "# !pip install xgboost==0.90"
      ]
    },
    {
      "cell_type": "markdown",
      "metadata": {
        "id": "68xM6jF0ZchA"
      },
      "source": [
        "## 데이터 불러오기"
      ]
    },
    {
      "cell_type": "code",
      "execution_count": 2,
      "metadata": {
        "id": "zJnLWFhmMGG4"
      },
      "outputs": [],
      "source": [
        "import numpy as np\n",
        "import pandas as pd\n",
        "import seaborn as sns\n",
        "import matplotlib.pyplot as plt\n",
        "import warnings\n",
        "import pickle\n",
        "import random\n",
        "import math\n",
        "import os\n",
        "import gc\n",
        "\n",
        "import statsmodels.graphics.tsaplots as sgt\n",
        "\n",
        "from typing import Any, Dict, List, Optional, Tuple, Union\n",
        "from numpy.typing import NDArray\n",
        "from easydict import EasyDict\n",
        "\n",
        "from tqdm.auto import tqdm\n",
        "from glob import glob\n",
        "\n",
        "warnings.filterwarnings('ignore') "
      ]
    },
    {
      "cell_type": "code",
      "execution_count": 3,
      "metadata": {
        "colab": {
          "base_uri": "https://localhost:8080/"
        },
        "id": "GjvmmVOVMW_P",
        "outputId": "680f03a8-298d-4a7f-a582-ec5dedf26320"
      },
      "outputs": [
        {
          "output_type": "stream",
          "name": "stdout",
          "text": [
            "Mounted at /content/drive\n"
          ]
        }
      ],
      "source": [
        "from google.colab import drive\n",
        "\n",
        "drive.mount('/content/drive')  ## 구글코랩과 구글드라이브 연결"
      ]
    },
    {
      "cell_type": "code",
      "execution_count": 5,
      "metadata": {
        "colab": {
          "base_uri": "https://localhost:8080/"
        },
        "id": "eVxuuFzhM72P",
        "outputId": "d2d43f67-d232-4711-a97d-dff4646bade9"
      },
      "outputs": [
        {
          "output_type": "stream",
          "name": "stdout",
          "text": [
            "/content/drive/MyDrive/Colab Notebooks/행정및주거지역-수돗물-수요예측\n"
          ]
        }
      ],
      "source": [
        "%cd  /content/drive/MyDrive/Colab Notebooks/행정및주거지역-수돗물-수요예측"
      ]
    },
    {
      "cell_type": "markdown",
      "metadata": {
        "id": "MRrJ4A5RKC4B"
      },
      "source": [
        "- 데이터 불러오기"
      ]
    },
    {
      "cell_type": "code",
      "execution_count": 6,
      "metadata": {
        "id": "N7JdJZofCXED"
      },
      "outputs": [],
      "source": [
        "train_path = './data/data_tr_city.csv'\n",
        "test_path = './data/data_ts_city.csv'\n",
        "submission_path = './data/sample_city.csv'"
      ]
    },
    {
      "cell_type": "code",
      "execution_count": 340,
      "metadata": {
        "id": "dl5XJ4wb7joA"
      },
      "outputs": [],
      "source": [
        "df = pd.read_csv(train_path)\n",
        "test = pd.read_csv(test_path)\n",
        "submission = pd.read_csv(submission_path)"
      ]
    },
    {
      "cell_type": "code",
      "execution_count": 341,
      "metadata": {
        "id": "TOJPBmADOWLF"
      },
      "outputs": [],
      "source": [
        "# 변수 이름을 영문으로 변경\n",
        "df = df.rename(columns={'구미 혁신도시배수지 유출유량 적산차':'flow'})\n",
        "test = test.rename(columns={'구미 혁신도시배수지 유출유량 적산차':'flow'})\n",
        "\n",
        "\n",
        "# 날짜를 datetime 형식으로 변경\n",
        "df['datetime'] = pd.to_datetime(df['datetime'])\n",
        "test['datetime'] = pd.to_datetime(test['datetime'])"
      ]
    },
    {
      "cell_type": "markdown",
      "metadata": {
        "id": "II2XMQAVsAQt"
      },
      "source": [
        "- 가중치 저장폴더"
      ]
    },
    {
      "cell_type": "code",
      "execution_count": 10,
      "metadata": {
        "id": "YnpAfBHMsCb1"
      },
      "outputs": [],
      "source": [
        "def create_folder(path: str) -> None:\n",
        "    try:\n",
        "        if not os.path.exists(path):\n",
        "            os.makedirs(path)\n",
        "    except OSError as error:\n",
        "        print(error)"
      ]
    },
    {
      "cell_type": "markdown",
      "metadata": {
        "id": "S16IL8xJR81a"
      },
      "source": [
        "- 데이터 설명\n",
        "\n",
        "`-` 유량: 단위시간 당 얼마만큼의 체적에 해당하는 액체가 이동했는지 나타냄 ($m^3/h$)\n",
        "\n",
        "`-` 적산값: 1시간마다 측정한 값이 계속 누적 (i.g. $100 \\xrightarrow{~+170~} 270 \\xrightarrow{~+150~} 420 \\xrightarrow{~+110~} 530$)  \n",
        "\n",
        "`-` 적산차값: 적산의 매시간 차이를 계산 ($\\approx$ 시간 단위 공급량,$\\quad$ i.g. $\\operatorname{NA},170, 150, 110$)"
      ]
    },
    {
      "cell_type": "markdown",
      "metadata": {
        "id": "C_dKoED1K0go"
      },
      "source": [
        "## 전처리\n",
        "\n",
        "`-` 데이터는 항상 시간상의 순서대로 존재해야 한다\n",
        "\n",
        "`-` 데이터에서 특정 시점의 적산차값이 결측치일 수도 있지만 특정 시점 자체가 누락되면 안된다 \n",
        "\n",
        "`-` 그래프에 추세는 없어보인다\n",
        "\n",
        "`-` 데이터에 결측치가 존재한다\n",
        "\n",
        "`-` 결측치는 계절성을 고려하여 전날 같은 시각의 적산차값으로 채워주자\n",
        "\n",
        "`-` 이상치가 존재한다 (예컨대 음수 또는 매우 큰 양수)\n",
        "\n",
        "`-` 로그 변환\n",
        "\n",
        "`-` 후처리는 반올림"
      ]
    },
    {
      "cell_type": "markdown",
      "metadata": {
        "id": "n9adsWRfyT_Y"
      },
      "source": [
        "- 이상치와 결측치 처리"
      ]
    },
    {
      "cell_type": "code",
      "source": [
        "df.query('0 < flow < 2000').flow.plot.box()"
      ],
      "metadata": {
        "colab": {
          "base_uri": "https://localhost:8080/",
          "height": 288
        },
        "id": "V4VMvdLQ0a3M",
        "outputId": "84db00e4-aee5-4798-c532-ec344ebd9f43"
      },
      "execution_count": 342,
      "outputs": [
        {
          "output_type": "execute_result",
          "data": {
            "text/plain": [
              "<matplotlib.axes._subplots.AxesSubplot at 0x7f0b5a552610>"
            ]
          },
          "metadata": {},
          "execution_count": 342
        },
        {
          "output_type": "display_data",
          "data": {
            "text/plain": [
              "<Figure size 432x288 with 1 Axes>"
            ],
            "image/png": "[encoded data removed]"
          },
          "metadata": {}
        }
      ]
    },
    {
      "cell_type": "markdown",
      "metadata": {
        "id": "XOddn-B5Oq-c"
      },
      "source": [
        "`-` 1,000,000을 넘기는 매우 큰 값이 존재한다\n",
        "\n",
        "`-` 또한, 음수값도 존재하는데 이들은 모두 -1,000,000보다 작다\n",
        "\n",
        "`-` 위와 같은 경우는 계측기에 문제가 있는 것으로 보인다\n",
        "\n",
        "`-` 0인 경우도 존재한는데 계측기의 오류 또는 모종의 이유로 물이 흐르지 않은 것으로 보인다 (i.g. 배수지 청소로 인해 단수)\n",
        "\n",
        "`-` 이런 경우 적산차값만 사용해 예측하는 것은 불가능하므로 이상치로 처리하겠다  \n",
        "\n",
        "`-` 한편, 큰 양수의 경우 이상치의 기준은 IQR을 고려하여 1500으로 설정하겠다\n",
        "\n",
        "`-` 이상치와 결측치는 계절성을 고려하여 전날 같은 시각의 적산차값으로 대체하겠다"
      ]
    },
    {
      "cell_type": "code",
      "execution_count": 282,
      "metadata": {
        "id": "g8FoMs9hYhZA"
      },
      "outputs": [],
      "source": [
        "def fillna(time_series: pd.Series, m: int = 24) -> pd.Series:\n",
        "    \"\"\"m 시점 앞의 값으로 결측치를 재귀적으로 채우고 데이터를 반환\"\"\"\n",
        "    assert time_series.ndim == 1\n",
        "    time_series = time_series.copy()  # 원본이 변하지 않도록 복제 \n",
        "    na_idx = time_series[time_series.isnull()].index.values\n",
        "    fill_idx = na_idx - m  # m 시점 앞의 값으로 결측치를 채운다\n",
        "    fill_idx = np.where(fill_idx < 0, fill_idx + m, fill_idx)\n",
        "\n",
        "    if not na_idx.size:                  # 결측치가 존재하지 않으면 원본을 반환\n",
        "        return time_series\n",
        "    if np.in1d(fill_idx, na_idx).all():  # m 시점 앞의 값이 결측치면 원본을 반환\n",
        "        return time_series\n",
        "\n",
        "    time_series[na_idx] = time_series[fill_idx]\n",
        "    return fillna(time_series, m)"
      ]
    },
    {
      "cell_type": "code",
      "execution_count": 343,
      "metadata": {
        "id": "OCTJffl_zdp4"
      },
      "outputs": [],
      "source": [
        "# 이상치는 결측치로 처리한다\n",
        "tmp = df.flow[df.flow < 1500].max()\n",
        "df['flow'] = df['flow'].apply(lambda x: x if 0 < x <= tmp else np.nan)"
      ]
    },
    {
      "cell_type": "code",
      "execution_count": 344,
      "metadata": {
        "id": "7FiEFzqFJmbQ"
      },
      "outputs": [],
      "source": [
        "# 결측치는 계절성을 고려하여 전날 같은 시각의 적산차값으로 채운다 \n",
        "df['flow'] = fillna(df['flow']).fillna(method='ffill').fillna(0)"
      ]
    },
    {
      "cell_type": "markdown",
      "metadata": {
        "id": "bvB62nkihj3a"
      },
      "source": [
        "## 시각화"
      ]
    },
    {
      "cell_type": "code",
      "execution_count": 256,
      "metadata": {
        "id": "V0EIo2-sFMK9"
      },
      "outputs": [],
      "source": [
        "sns.set_theme(style='white')"
      ]
    },
    {
      "cell_type": "code",
      "execution_count": 345,
      "metadata": {
        "colab": {
          "base_uri": "https://localhost:8080/",
          "height": 206
        },
        "id": "sNRl90281KE_",
        "outputId": "38dbfad2-75f0-4d90-8e94-e94131adb8e9"
      },
      "outputs": [
        {
          "output_type": "execute_result",
          "data": {
            "text/plain": [
              "       count        mean         std   min    25%    50%     75%     max\n",
              "year                                                                    \n",
              "2017  8759.0  211.097679  149.741577   1.0   92.0  190.0  301.00  1295.0\n",
              "2018  8760.0  235.800887  156.857000  10.0  106.0  217.0  346.00  1209.0\n",
              "2019  8760.0  248.190135  166.164603  11.0  109.0  231.0  363.25  1274.0\n",
              "2020  8784.0  254.597728  168.770647   7.0  115.0  240.0  372.00   962.0"
            ],
            "text/html": [
              "\n",
              "  <div id=\"df-8966599c-a20b-4a89-90e0-e00c11ebf8fc\">\n",
              "    <div class=\"colab-df-container\">\n",
              "      <div>\n",
              "<style scoped>\n",
              "    .dataframe tbody tr th:only-of-type {\n",
              "        vertical-align: middle;\n",
              "    }\n",
              "\n",
              "    .dataframe tbody tr th {\n",
              "        vertical-align: top;\n",
              "    }\n",
              "\n",
              "    .dataframe thead th {\n",
              "        text-align: right;\n",
              "    }\n",
              "</style>\n",
              "<table border=\"1\" class=\"dataframe\">\n",
              "  <thead>\n",
              "    <tr style=\"text-align: right;\">\n",
              "      <th></th>\n",
              "      <th>count</th>\n",
              "      <th>mean</th>\n",
              "      <th>std</th>\n",
              "      <th>min</th>\n",
              "      <th>25%</th>\n",
              "      <th>50%</th>\n",
              "      <th>75%</th>\n",
              "      <th>max</th>\n",
              "    </tr>\n",
              "    <tr>\n",
              "      <th>year</th>\n",
              "      <th></th>\n",
              "      <th></th>\n",
              "      <th></th>\n",
              "      <th></th>\n",
              "      <th></th>\n",
              "      <th></th>\n",
              "      <th></th>\n",
              "      <th></th>\n",
              "    </tr>\n",
              "  </thead>\n",
              "  <tbody>\n",
              "    <tr>\n",
              "      <th>2017</th>\n",
              "      <td>8759.0</td>\n",
              "      <td>211.097679</td>\n",
              "      <td>149.741577</td>\n",
              "      <td>1.0</td>\n",
              "      <td>92.0</td>\n",
              "      <td>190.0</td>\n",
              "      <td>301.00</td>\n",
              "      <td>1295.0</td>\n",
              "    </tr>\n",
              "    <tr>\n",
              "      <th>2018</th>\n",
              "      <td>8760.0</td>\n",
              "      <td>235.800887</td>\n",
              "      <td>156.857000</td>\n",
              "      <td>10.0</td>\n",
              "      <td>106.0</td>\n",
              "      <td>217.0</td>\n",
              "      <td>346.00</td>\n",
              "      <td>1209.0</td>\n",
              "    </tr>\n",
              "    <tr>\n",
              "      <th>2019</th>\n",
              "      <td>8760.0</td>\n",
              "      <td>248.190135</td>\n",
              "      <td>166.164603</td>\n",
              "      <td>11.0</td>\n",
              "      <td>109.0</td>\n",
              "      <td>231.0</td>\n",
              "      <td>363.25</td>\n",
              "      <td>1274.0</td>\n",
              "    </tr>\n",
              "    <tr>\n",
              "      <th>2020</th>\n",
              "      <td>8784.0</td>\n",
              "      <td>254.597728</td>\n",
              "      <td>168.770647</td>\n",
              "      <td>7.0</td>\n",
              "      <td>115.0</td>\n",
              "      <td>240.0</td>\n",
              "      <td>372.00</td>\n",
              "      <td>962.0</td>\n",
              "    </tr>\n",
              "  </tbody>\n",
              "</table>\n",
              "</div>\n",
              "      <button class=\"colab-df-convert\" onclick=\"convertToInteractive('df-8966599c-a20b-4a89-90e0-e00c11ebf8fc')\"\n",
              "              title=\"Convert this dataframe to an interactive table.\"\n",
              "              style=\"display:none;\">\n",
              "        \n",
              "  <svg xmlns=\"http://www.w3.org/2000/svg\" height=\"24px\"viewBox=\"0 0 24 24\"\n",
              "       width=\"24px\">\n",
              "    <path d=\"M0 0h24v24H0V0z\" fill=\"none\"/>\n",
              "    <path d=\"M18.56 5.44l.94 2.06.94-2.06 2.06-.94-2.06-.94-.94-2.06-.94 2.06-2.06.94zm-11 1L8.5 8.5l.94-2.06 2.06-.94-2.06-.94L8.5 2.5l-.94 2.06-2.06.94zm10 10l.94 2.06.94-2.06 2.06-.94-2.06-.94-.94-2.06-.94 2.06-2.06.94z\"/><path d=\"M17.41 7.96l-1.37-1.37c-.4-.4-.92-.59-1.43-.59-.52 0-1.04.2-1.43.59L10.3 9.45l-7.72 7.72c-.78.78-.78 2.05 0 2.83L4 21.41c.39.39.9.59 1.41.59.51 0 1.02-.2 1.41-.59l7.78-7.78 2.81-2.81c.8-.78.8-2.07 0-2.86zM5.41 20L4 18.59l7.72-7.72 1.47 1.35L5.41 20z\"/>\n",
              "  </svg>\n",
              "      </button>\n",
              "      \n",
              "  <style>\n",
              "    .colab-df-container {\n",
              "      display:flex;\n",
              "      flex-wrap:wrap;\n",
              "      gap: 12px;\n",
              "    }\n",
              "\n",
              "    .colab-df-convert {\n",
              "      background-color: #E8F0FE;\n",
              "      border: none;\n",
              "      border-radius: 50%;\n",
              "      cursor: pointer;\n",
              "      display: none;\n",
              "      fill: #1967D2;\n",
              "      height: 32px;\n",
              "      padding: 0 0 0 0;\n",
              "      width: 32px;\n",
              "    }\n",
              "\n",
              "    .colab-df-convert:hover {\n",
              "      background-color: #E2EBFA;\n",
              "      box-shadow: 0px 1px 2px rgba(60, 64, 67, 0.3), 0px 1px 3px 1px rgba(60, 64, 67, 0.15);\n",
              "      fill: #174EA6;\n",
              "    }\n",
              "\n",
              "    [theme=dark] .colab-df-convert {\n",
              "      background-color: #3B4455;\n",
              "      fill: #D2E3FC;\n",
              "    }\n",
              "\n",
              "    [theme=dark] .colab-df-convert:hover {\n",
              "      background-color: #434B5C;\n",
              "      box-shadow: 0px 1px 3px 1px rgba(0, 0, 0, 0.15);\n",
              "      filter: drop-shadow(0px 1px 2px rgba(0, 0, 0, 0.3));\n",
              "      fill: #FFFFFF;\n",
              "    }\n",
              "  </style>\n",
              "\n",
              "      <script>\n",
              "        const buttonEl =\n",
              "          document.querySelector('#df-8966599c-a20b-4a89-90e0-e00c11ebf8fc button.colab-df-convert');\n",
              "        buttonEl.style.display =\n",
              "          google.colab.kernel.accessAllowed ? 'block' : 'none';\n",
              "\n",
              "        async function convertToInteractive(key) {\n",
              "          const element = document.querySelector('#df-8966599c-a20b-4a89-90e0-e00c11ebf8fc');\n",
              "          const dataTable =\n",
              "            await google.colab.kernel.invokeFunction('convertToInteractive',\n",
              "                                                     [key], {});\n",
              "          if (!dataTable) return;\n",
              "\n",
              "          const docLinkHtml = 'Like what you see? Visit the ' +\n",
              "            '<a target=\"_blank\" href=https://colab.research.google.com/notebooks/data_table.ipynb>data table notebook</a>'\n",
              "            + ' to learn more about interactive tables.';\n",
              "          element.innerHTML = '';\n",
              "          dataTable['output_type'] = 'display_data';\n",
              "          await google.colab.output.renderOutput(dataTable, element);\n",
              "          const docLink = document.createElement('div');\n",
              "          docLink.innerHTML = docLinkHtml;\n",
              "          element.appendChild(docLink);\n",
              "        }\n",
              "      </script>\n",
              "    </div>\n",
              "  </div>\n",
              "  "
            ]
          },
          "metadata": {},
          "execution_count": 345
        }
      ],
      "source": [
        "# 연도별 적산차의 분포\n",
        "df.assign(year = df.datetime.dt.year).\\\n",
        "groupby('year').flow.describe()"
      ]
    },
    {
      "cell_type": "code",
      "execution_count": 346,
      "metadata": {
        "colab": {
          "base_uri": "https://localhost:8080/",
          "height": 324
        },
        "id": "l3eOIr0N2P6f",
        "outputId": "97ccdd4d-51ac-49ce-de00-fb70212f39fe"
      },
      "outputs": [
        {
          "output_type": "execute_result",
          "data": {
            "text/plain": [
              "<matplotlib.axes._subplots.AxesSubplot at 0x7f0ba08225e0>"
            ]
          },
          "metadata": {},
          "execution_count": 346
        },
        {
          "output_type": "display_data",
          "data": {
            "text/plain": [
              "<Figure size 432x288 with 1 Axes>"
            ],
            "image/png": "[encoded data removed]"
          },
          "metadata": {}
        }
      ],
      "source": [
        "# 연도별 적산차의 분포\n",
        "df.assign(year = df.datetime.dt.year).boxplot(column='flow', by='year', grid=False)"
      ]
    },
    {
      "cell_type": "markdown",
      "metadata": {
        "id": "aIipbcAj1tNG"
      },
      "source": [
        "`-` 적산차의 경우 배수지 확장으로 인해 시간이 지날수록 평균과 분산이 커지고 있다"
      ]
    },
    {
      "cell_type": "code",
      "execution_count": 348,
      "metadata": {
        "colab": {
          "base_uri": "https://localhost:8080/",
          "height": 340
        },
        "id": "5lkHLhKReVPo",
        "outputId": "70810764-b676-4155-c2bb-238247636bae"
      },
      "outputs": [
        {
          "output_type": "execute_result",
          "data": {
            "text/plain": [
              "<matplotlib.axes._subplots.AxesSubplot at 0x7f0ba05ddd60>"
            ]
          },
          "metadata": {},
          "execution_count": 348
        },
        {
          "output_type": "display_data",
          "data": {
            "text/plain": [
              "<Figure size 1440x360 with 1 Axes>"
            ],
            "image/png": "[encoded data removed]"
          },
          "metadata": {}
        }
      ],
      "source": [
        "fig, ax = plt.subplots(figsize=(20, 5))\n",
        "sns.lineplot(data=df['flow'], ax=ax)"
      ]
    },
    {
      "cell_type": "code",
      "execution_count": 349,
      "metadata": {
        "colab": {
          "base_uri": "https://localhost:8080/",
          "height": 501
        },
        "id": "z08EvLmvIJv5",
        "outputId": "cdd6d4d4-b063-4738-873a-c1b468d58cce"
      },
      "outputs": [
        {
          "output_type": "display_data",
          "data": {
            "text/plain": [
              "<Figure size 720x576 with 2 Axes>"
            ],
            "image/png": "[encoded data removed]"
          },
          "metadata": {}
        }
      ],
      "source": [
        "fig, (ax1, ax2) = plt.subplots(2, 1, figsize=(10, 8))\n",
        "sgt.plot_acf(df['flow'], lags = 100, ax=ax1);\n",
        "sgt.plot_pacf(df['flow'], lags = 100, ax=ax2);"
      ]
    },
    {
      "cell_type": "markdown",
      "metadata": {
        "id": "aQ0MbMTP593M"
      },
      "source": [
        "`-` 그래프에 2017년을 제외하면 추세는 존재하지 않고 강한 계절성이 존재한다\n",
        "\n",
        "`-` ACF, PACF의 정의에 따라 0시점 차이는 의미가 없으므로 무시한다\n",
        "\n",
        "`-` 계절성이 매우 강하다 (6시간, 18시간, 24시간, 1주, 1달, 1년 등)\n",
        "\n",
        "`-` 신기한 것은 12시점(12시간)차이의 경우 자기상관이 존재하지 않는다\n",
        "\n",
        "`-` 사이클(W 모양)이 대략 24시간 마다 반복되므로 최소 24시간 분량의 변수를 모델의 입력으로 사용해야 한다\n",
        "\n",
        "- 추가 설명\n",
        "\n",
        "`-`  hello 라는 단어를 생각해보자, 다음의 같은 사이클이 반복된다\n",
        "\n",
        "`-` h $\\to$ e, e $\\to$ l, l $\\to$ l, l $\\to$ o, o $\\to$ h \n",
        "\n",
        "`-` 만약 단어 하나만이 입력으로 주어진다면 l이 입력으로 들어왔을 때 다음에 오는 단어가 l인지 o인지 알 수 없다\n",
        "\n",
        "`-` 하지만 연속된 단어 두개가 입력으로 주어진다면 다음에 올 단어를 예측할 수 있다\n",
        "\n",
        "`-` 예컨대 ll 이면 o, lo 이면 h이다\n",
        "\n",
        "`-` 이는 적산차를 예측하는 문제에서도 마찬가지이다"
      ]
    },
    {
      "cell_type": "markdown",
      "source": [
        "## 딥러닝 모델 학습"
      ],
      "metadata": {
        "id": "pbnHw9XBQ-Qr"
      }
    },
    {
      "cell_type": "code",
      "execution_count": 181,
      "metadata": {
        "id": "wHqcoMavJK1Q"
      },
      "outputs": [],
      "source": [
        "# !git clone https://github.com/ts-kim/RevIN.git"
      ]
    },
    {
      "cell_type": "code",
      "execution_count": 30,
      "metadata": {
        "id": "n8LBsMPybBJx"
      },
      "outputs": [],
      "source": [
        "import torch\n",
        "import torch.nn as nn\n",
        "import torch.optim as optim\n",
        "import torch.nn.functional as F\n",
        "from torch import Tensor\n",
        "from torch.utils.data import Dataset, DataLoader\n",
        "from torch.optim.lr_scheduler import _LRScheduler\n",
        "from torch.nn.modules.loss import _Loss\n",
        "from torch.optim import Optimizer\n",
        "from torch.autograd import Variable\n",
        "\n",
        "import scipy.sparse as sp\n",
        "\n",
        "import sklearn\n",
        "from sklearn.multioutput import RegressorChain\n",
        "from sklearn.preprocessing import MinMaxScaler\n",
        "from sklearn.metrics import mean_absolute_error\n",
        "from sklearn.utils import check_random_state\n",
        "from sklearn.utils.validation import check_is_fitted\n",
        "from sklearn.base import clone\n",
        "\n",
        "import xgboost\n",
        "from xgboost import XGBRegressor\n",
        "\n",
        "from RevIN.RevIN import RevIN"
      ]
    },
    {
      "cell_type": "markdown",
      "metadata": {
        "id": "0k2BNfj7EAll"
      },
      "source": [
        "- 학습 방법\n",
        "\n",
        "`-` private 데이터는 2022-01-01-00:00:00 부터 존재할 것이다\n",
        "\n",
        "`-` public 데이터는 2021-12-17 23:00:00 까지 존재한다\n",
        "\n",
        "`-` 2021-12-17 23:00:00 에서 337시간 뒤는 2022-01-01 00:00:00 이다\n",
        "\n",
        "`-` 337시간 후의 적산차를 예측하는 모델을 만드는게 적합하지만 그러면 시간상의 차이가 많이 나서 성능이 떨어진다\n",
        "\n",
        "`-` 따라서 1시간 후의 적산차를 예측하는 모델을 만들고 존재하지 않는 시각의 정보는 예측한 정보로 대체하여 사용하겠다\n",
        "\n",
        "`-` 1시간 후의 적산차를 예측하기 위해 pacf 그래프에 근거해 24시간의 배수에 해당하는 분량을 사용하겠다\n",
        "\n",
        "`-` 사이클을 포함하는(24시간 이상) 시계열 중 24시간 차이가 나는 데이터간의 직접적인 상관관계가 가장 크다\n",
        "\n",
        "`-` 하나의 사이클을 포함하면서 과적합을 피하기 위해 336시간 분량을 사용하겠다"
      ]
    },
    {
      "cell_type": "markdown",
      "source": [
        "- 전처리"
      ],
      "metadata": {
        "id": "qU-JFQKOWKe_"
      }
    },
    {
      "cell_type": "code",
      "execution_count": 31,
      "metadata": {
        "id": "HGvNlbWPGnsq"
      },
      "outputs": [],
      "source": [
        "def ts_train2supervised(\n",
        "    ts: NDArray[np.float_], \n",
        "    window: int = 24,\n",
        "    gap: int = 1, \n",
        "    step: int = 336\n",
        ") -> Tuple[NDArray[np.float_], NDArray[np.float_]]:\n",
        "    assert ts.ndim == 2 and ts.shape[1] == 1\n",
        "    X, y = [], []\n",
        "    for t in range(len(ts) - (window+gap+step) + 2):\n",
        "        X.append(ts[t:t+window])\n",
        "        y.append(ts[t+window+gap-1 : t+window+gap+step-1])\n",
        "    X, y = np.array(X), np.array(y)  \n",
        "    return X, y"
      ]
    },
    {
      "cell_type": "markdown",
      "metadata": {
        "id": "ksSFOul4X4Kn"
      },
      "source": [
        "`-` 예측을 위해 train과 test를 병합 "
      ]
    },
    {
      "cell_type": "code",
      "execution_count": 32,
      "metadata": {
        "id": "7HYc-KVpX0df"
      },
      "outputs": [],
      "source": [
        "def ts_test2supervised(\n",
        "    ts: NDArray[np.float_], \n",
        "    window: int = 24\n",
        ") -> NDArray[np.float_]:\n",
        "    assert ts.ndim == 2 and ts.shape[1] == 1\n",
        "    X = []\n",
        "    for t in range(len(ts) - window + 1):\n",
        "        X.append(ts[t:t+window])\n",
        "    X = np.array(X)\n",
        "    return X"
      ]
    },
    {
      "cell_type": "markdown",
      "source": [
        "- 난수 고정, gpu 설정"
      ],
      "metadata": {
        "id": "vZNIkGjNWMMB"
      }
    },
    {
      "cell_type": "code",
      "execution_count": 33,
      "metadata": {
        "id": "v019psysRPs_"
      },
      "outputs": [],
      "source": [
        "def seed_everything(seed):\n",
        "    random.seed(seed)\n",
        "    os.environ['PYTHONHASHSEED'] = str(seed)\n",
        "    np.random.seed(seed)\n",
        "    torch.manual_seed(seed)\n",
        "    torch.cuda.manual_seed(seed)\n",
        "    torch.backends.cudnn.deterministic = True\n",
        "    torch.backends.cudnn.benchmark = False\n",
        "    # torch.backends.cudnn.enabled = False  # False 이면 재현이 가능하지만 매우 느려지므로 마지막에 사용하자"
      ]
    },
    {
      "cell_type": "code",
      "execution_count": 34,
      "metadata": {
        "id": "pWvI00B4QjAw"
      },
      "outputs": [],
      "source": [
        "def clear_gpu() -> None:\n",
        "    gc.collect()\n",
        "    torch.cuda.empty_cache()"
      ]
    },
    {
      "cell_type": "code",
      "execution_count": 35,
      "metadata": {
        "colab": {
          "base_uri": "https://localhost:8080/"
        },
        "id": "NF4nZggTCFrk",
        "outputId": "f8b7546d-74cf-4d40-9244-c48c6d56574f"
      },
      "outputs": [
        {
          "output_type": "stream",
          "name": "stdout",
          "text": [
            "현재 device는 cuda입니다\n"
          ]
        }
      ],
      "source": [
        "DEVICE = torch.device('cuda' if torch.cuda.is_available() else 'cpu')\n",
        "print(f'현재 device는 {DEVICE}입니다')"
      ]
    },
    {
      "cell_type": "markdown",
      "metadata": {
        "id": "qDLcPXXlnMNp"
      },
      "source": [
        "- 피쳐 스케일링"
      ]
    },
    {
      "cell_type": "markdown",
      "metadata": {
        "id": "hTgXV10duoi9"
      },
      "source": [
        "`-` 0 ~ 1 사이로 정규화"
      ]
    },
    {
      "cell_type": "code",
      "execution_count": 301,
      "metadata": {
        "id": "mzutTB9enN9p"
      },
      "outputs": [],
      "source": [
        "minmax_scaler = MinMaxScaler()\n",
        "flow_scaled = minmax_scaler.fit_transform(df['flow'].values.reshape(-1, 1))  \n",
        "flow_scaled_test = minmax_scaler.transform(test['flow'].values.reshape(-1, 1))   "
      ]
    },
    {
      "cell_type": "markdown",
      "metadata": {
        "id": "wBTn29ty8G60"
      },
      "source": [
        "- 데이터 셋과 데이터 로더"
      ]
    },
    {
      "cell_type": "code",
      "execution_count": 37,
      "metadata": {
        "id": "h2fyJFdrkPMw"
      },
      "outputs": [],
      "source": [
        "class CustomDataset(Dataset):\n",
        "    def __init__(self, X: NDArray[np.float_], y: Optional[NDArray[np.float_]] = None) -> None:\n",
        "        super(CustomDataset, self).__init__()\n",
        "        self.X = X\n",
        "        self.y = y\n",
        "\n",
        "    def __getitem__(self, idx: int) -> Union[Tuple[Tensor, Tensor], Tensor]:\n",
        "        X = torch.FloatTensor(self.X[idx])\n",
        "        if self.y is not None:\n",
        "            y = torch.FloatTensor(self.y[idx])\n",
        "            return X, y\n",
        "        return X\n",
        "\n",
        "    def __len__(self) -> int:\n",
        "        return self.X.shape[0]"
      ]
    },
    {
      "cell_type": "code",
      "execution_count": 38,
      "metadata": {
        "id": "Sh9y6n1z8OAc"
      },
      "outputs": [],
      "source": [
        "def get_dataloader(\n",
        "    X: NDArray[np.float_], \n",
        "    y: Optional[NDArray[np.float_]] = None, \n",
        "    batch_size: int = 64, \n",
        "    shuffle: bool = True\n",
        ") -> DataLoader:\n",
        "    dataset = CustomDataset(X, y)    \n",
        "    dataloader = DataLoader(dataset, batch_size=batch_size, shuffle=shuffle)\n",
        "    return dataloader"
      ]
    },
    {
      "cell_type": "markdown",
      "metadata": {
        "id": "8Zcka8vB9vVd"
      },
      "source": [
        "- early stopping"
      ]
    },
    {
      "cell_type": "code",
      "execution_count": 39,
      "metadata": {
        "id": "GThXBWqi7NE1"
      },
      "outputs": [],
      "source": [
        "# ref: https://github.com/Bjarten/early-stopping-pytorch/blob/master/pytorchtools.py\n",
        "class EarlyStopping:\n",
        "    \"\"\"주어진 patience 횟수 이후로 validation score가 개선되지 않으면 학습을 조기 중단\"\"\"\n",
        "    mode_dict = {'min':-1, 'max':1}\n",
        "    score_metrics = [\n",
        "        'accuracy',\n",
        "        'f1_score',\n",
        "        'mae',\n",
        "    ]\n",
        "\n",
        "    def __init__(\n",
        "        self, \n",
        "        patience: int = 7, \n",
        "        monitor: str = 'loss', \n",
        "        mode: str = 'min', \n",
        "        min_delta: float = 0.0, \n",
        "        folder_path: str = './weights', \n",
        "        model_name: str = '',\n",
        "    ) -> None:\n",
        "        self.patience = patience\n",
        "        self.counter = 0\n",
        "        self.mode = mode\n",
        "        self.direction = self.mode_dict[mode]\n",
        "        self.monitor = monitor\n",
        "        self.best_score = -np.Inf\n",
        "        self.valid_loss = np.Inf\n",
        "        self.valid_metric_score = None  # 평가지표 (i.g. accuracy)\n",
        "        self.early_stop = False\n",
        "        self.min_delta = min_delta\n",
        "        self.folder_path = folder_path    \n",
        "        self.model_name = model_name\n",
        "        self.reset_fold()  # for k-fold cross validation\n",
        "\n",
        "    def __call__(\n",
        "        self, \n",
        "        model: nn.Module, \n",
        "        valid_loss: float, \n",
        "        valid_metric_score: Optional[float] = None\n",
        "    ) -> None:\n",
        "        # score는 클수록 좋다\n",
        "        if self.monitor == 'loss':\n",
        "            score = valid_loss * self.direction\n",
        "        elif self.monitor in self.score_metrics:\n",
        "            score = valid_metric_score * self.direction\n",
        "        else:\n",
        "            score = None\n",
        "\n",
        "        # score가 개선되었는지 확인\n",
        "        if score <= self.best_score + self.min_delta: \n",
        "            self.counter += 1 \n",
        "            if self.counter > self.patience:  # 만약 score가 개선되지 않은 에폭이 patience 횟수보다 크다면 조기 중단\n",
        "                self.early_stop = True\n",
        "        else: \n",
        "            self.best_score = score \n",
        "            self.save_checkpoint(model, valid_loss, valid_metric_score) \n",
        "            self.counter = 0  # score가 개선되었으므로 0으로 변경\n",
        "\n",
        "    def save_checkpoint(\n",
        "        self, \n",
        "        model: nn.Module, \n",
        "        valid_loss: float, \n",
        "        valid_metric_score: Optional[float] = None\n",
        "    ) -> None:\n",
        "        \"\"\"validation score가 개선되면 모델을 저장\"\"\"\n",
        "        torch.save(model.state_dict(), self.path) \n",
        "        self.valid_loss = valid_loss  # 모델이 더 좋게 갱신되었으므로 이때의 valid loss를 기준치로 변경\n",
        "        self.valid_metric_score = valid_metric_score  # 이때의 valid metric score도 변경\n",
        "\n",
        "    @property\n",
        "    def path(self) -> str:\n",
        "        return f'{self.folder_path}/{self.model_name}_best_{self.fold}.pt'\n",
        "\n",
        "    def reset_fold(self) -> None:\n",
        "        self.fold = 0\n",
        "\n",
        "    def update_fold(self) -> None:\n",
        "        self.fold += 1\n",
        "\n",
        "    def reset_score(self) -> None:\n",
        "        \"\"\"다음 fold 학습을 위해 score 관련 파라미터를 초기화\"\"\"\n",
        "        self.counter = 0\n",
        "        self.best_score = -np.Inf\n",
        "        self.valid_loss = np.Inf\n",
        "        self.valid_metric_score = None\n",
        "        self.early_stop = False"
      ]
    },
    {
      "cell_type": "markdown",
      "metadata": {
        "id": "Kd-RlDPrAvyT"
      },
      "source": [
        "- 손실 함수"
      ]
    },
    {
      "cell_type": "code",
      "execution_count": 40,
      "metadata": {
        "id": "PvuxFxaFAwwD"
      },
      "outputs": [],
      "source": [
        "loss_fn = nn.L1Loss()  # MAE"
      ]
    },
    {
      "cell_type": "markdown",
      "source": [
        "- 학습 및 검증"
      ],
      "metadata": {
        "id": "ixIZ19boV4tq"
      }
    },
    {
      "cell_type": "code",
      "execution_count": 262,
      "metadata": {
        "id": "3TYzo_fJAdd0"
      },
      "outputs": [],
      "source": [
        "def train(\n",
        "    model: nn.Module,\n",
        "    dataloader: DataLoader, \n",
        "    device: torch.device,\n",
        "    args: EasyDict,\n",
        "    loss_fn: _Loss, \n",
        "    optimizer: Optimizer, \n",
        "    scheduler: Optional[_LRScheduler] = None\n",
        ") -> Tuple[nn.Module, float]:\n",
        "    \"\"\"dataloader의 데이터로 모델을 학습시킨 후 학습된 모델과 평균 배치 훈련 오차를 반환\"\"\"  \n",
        "    train_loss = 0.0\n",
        "    model.to(device)\n",
        "    model.train()\n",
        "    scaler = torch.cuda.amp.GradScaler()\n",
        "\n",
        "    for X, y in dataloader:  \n",
        "        X, y = X.to(device), y.to(device) \n",
        "        with torch.cuda.amp.autocast():\n",
        "            y_hat = model(X)\n",
        "            y_hat = y_hat.squeeze(2)\n",
        "            loss = loss_fn(y_hat, y)  \n",
        "\n",
        "        optimizer.zero_grad()  \n",
        "        scaler.scale(loss).backward()\n",
        "        scaler.unscale_(optimizer)\n",
        "        torch.nn.utils.clip_grad_norm_(model.parameters(), max_norm=args.max_norm)\n",
        "        scaler.step(optimizer)\n",
        "        scaler.update()\n",
        "        train_loss += (loss.item() / len(dataloader)) \n",
        "  \n",
        "    # 에폭마다 학습률 조절\n",
        "    if scheduler is not None:\n",
        "        scheduler.step()\n",
        "        \n",
        "    return model, train_loss"
      ]
    },
    {
      "cell_type": "code",
      "execution_count": 263,
      "metadata": {
        "id": "fVZDILgmAnfl"
      },
      "outputs": [],
      "source": [
        "def evaluate(\n",
        "    model: nn.Module, \n",
        "    dataloader: DataLoader, \n",
        "    device: torch.device,\n",
        "    args: EasyDict,\n",
        "    loss_fn: _Loss\n",
        ") -> Tuple[float, float]:\n",
        "    \"\"\"dataloader의 데이터를 모델이 평가한 후 평균 배치 검증 오차와 ACD f1 score를 반환\"\"\"\n",
        "    valid_loss = 0.0\n",
        "    y_list, yhat_list = np.array([]).reshape(0, args.num_classes), np.array([]).reshape(0, args.num_classes)\n",
        "    model.to(device)\n",
        "    model.eval()  \n",
        "\n",
        "    with torch.no_grad():  \n",
        "        for X, y in dataloader:  \n",
        "            X, y = X.to(device), y.to(device) \n",
        "            with torch.cuda.amp.autocast():\n",
        "                y_hat = model(X)\n",
        "                y_hat = y_hat.squeeze(2)\n",
        "                loss = loss_fn(y_hat, y)  \n",
        "\n",
        "            y = y.detach().cpu().numpy()  # y shape: (B, 336)\n",
        "            y_hat = y_hat.detach().cpu().numpy()  # yhat shape: (B, 336)\n",
        "            y_list = np.concatenate([y_list, minmax_scaler.inverse_transform(y)])\n",
        "            yhat_list = np.concatenate([yhat_list, minmax_scaler.inverse_transform(y_hat)])\n",
        "            valid_loss += (loss.item() / len(dataloader))\n",
        "\n",
        "    valid_mae = mean_absolute_error(y_list, yhat_list)        \n",
        "    return valid_loss, valid_mae"
      ]
    },
    {
      "cell_type": "code",
      "execution_count": 264,
      "metadata": {
        "id": "aqXGOMVTAp0V"
      },
      "outputs": [],
      "source": [
        "def holdout_validate(\n",
        "    model: nn.Module, \n",
        "    X_train: NDArray[np.float_],\n",
        "    y_train: NDArray[np.float_],\n",
        "    X_val: NDArray[np.float_],\n",
        "    y_val: NDArray[np.float_],\n",
        "    loss_fn: _Loss, \n",
        "    early_stopping: EarlyStopping,\n",
        "    device: torch.device,\n",
        "    args: EasyDict \n",
        ") -> Tuple[nn.Module, List[List[float]], List[List[float]]]:\n",
        "    \"\"\"K겹 교차검증을 통해 모델의 성능을 평가하고 학습된 모델과 폴드별 훈련 손실, 검증 손실을 반환\"\"\"\n",
        "    seed_everything(args.seed)  # 정확한 재현을 위함\n",
        "    fold_valid_loss = []   # 폴드별 best 검증 손실\n",
        "    fold_train_losses_per_epoch = [[]]  # 폴드별 1 에폭에 따른 훈련 배치 손실\n",
        "    fold_valid_losses_per_epoch = [[]]  # 폴드별 1 에폭에 따른 검증 배치 손실\n",
        "    early_stopping.reset_fold()  # fold 초기화\n",
        "\n",
        "    print(f'[1 / 1] Fold Training......')\n",
        "\n",
        "    # 메모리 절약\n",
        "    clear_gpu()\n",
        "\n",
        "    # Dataloader\n",
        "    train_dataloader = get_dataloader(X_train, y_train, args.bs)\n",
        "    valid_dataloader = get_dataloader(X_val, y_val, args.bs, shuffle=False)\n",
        "\n",
        "    # optimizer\n",
        "    optimizer = optim.AdamW(model.parameters(), lr=args.lr, weight_decay=args.weight_decay) \n",
        "\n",
        "    # scheduler\n",
        "    scheduler = optim.lr_scheduler.ExponentialLR(optimizer, gamma=0.95)\n",
        "\n",
        "    # early stopping, 다음 폴드 학습을 위해 score 관련 파라미터 초기화\n",
        "    early_stopping.reset_score()\n",
        "    early_stopping.update_fold()  \n",
        "    \n",
        "    # 폴드마다 모델 학습\n",
        "    for epoch in tqdm(range(1, args.num_epochs+1)):  # (배치사이즈 X 에폭) 만큼 훈련시킴           \n",
        "        model, train_loss = train(model, train_dataloader, device, args, loss_fn, optimizer, scheduler)  # 모델 학습\n",
        "        valid_loss, valid_mae = evaluate(model, valid_dataloader, device, args, loss_fn)  # 모델 평가\n",
        "        fold_train_losses_per_epoch[0].append(train_loss) \n",
        "        fold_valid_losses_per_epoch[0].append(valid_loss)  \n",
        "\n",
        "        print_score_condition = (epoch == 1 or epoch % 5 == 0 or epoch == args.num_epochs)  \n",
        "        score_information = f'[Epoch: {epoch:>2}]  train loss = {train_loss:.5f}  valid loss = {valid_loss:.5f}  valid MAE = {valid_mae:.5f}'\n",
        "\n",
        "        # 평균 배치 훈련 오차와 검증 오차 출력\n",
        "        if print_score_condition:  \n",
        "            print(score_information)  \n",
        "            \n",
        "        # 에폭마다 early stopping 실행\n",
        "        early_stopping(model, valid_loss, valid_mae)  \n",
        "        if early_stopping.early_stop: \n",
        "            if not print_score_condition:  # 이미 출력한 에폭에 대해 중복으로 출력하지 않기 위함\n",
        "                print(score_information) \n",
        "            print('Early Stopping!')\n",
        "            break \n",
        "\n",
        "    fold_valid_loss.append(early_stopping.valid_loss)  # 폴드별 best 검증 손실\n",
        "      \n",
        "    # 폴드별 학습 및 검증 종료시 best 검증 손실을 출력\n",
        "    print(f'1 Fold -> Valid Loss: {early_stopping.valid_loss:.5f}  Valid MAE: {early_stopping.valid_metric_score:.5f}')\n",
        "    return model, fold_train_losses_per_epoch, fold_valid_losses_per_epoch"
      ]
    },
    {
      "cell_type": "markdown",
      "metadata": {
        "id": "pWYLU7_oUqRA"
      },
      "source": [
        "- 에폭에 따른 손실의 변화"
      ]
    },
    {
      "cell_type": "code",
      "execution_count": 44,
      "metadata": {
        "id": "FbH8KhGHTVgA"
      },
      "outputs": [],
      "source": [
        "def show_loss_plot(\n",
        "    fold_train_losses: List[List[float]],\n",
        "    fold_valid_losses: List[List[float]]\n",
        ") -> None:\n",
        "    \"\"\"폴드별로 에폭에 따른 모델의 훈련 손실과 검증 손실의 변화를 시각화\"\"\"\n",
        "    assert len(fold_train_losses) == len(fold_valid_losses)\n",
        "    num_folds = len(fold_train_losses)\n",
        "    ncols = 3\n",
        "    nrows = 1 + (num_folds - 1)//ncols\n",
        "    fig, axes = plt.subplots(nrows, ncols, figsize=(ncols*4, nrows*4)) \n",
        "\n",
        "    # 폴드마다 에폭에 따른 훈련 손실과 검증 손실의 변화를 시각화\n",
        "    for fold, (ax, train_losses, valid_losses) in enumerate(zip(axes.flatten(), fold_train_losses, fold_valid_losses), start=1):\n",
        "        assert len(train_losses) == len(valid_losses) \n",
        "        if fold > num_folds:\n",
        "            break\n",
        "\n",
        "        num_epochs = len(train_losses)\n",
        "        ax.set_title(f'{fold} Fold')\n",
        "        ax.plot(range(1, num_epochs+1), train_losses, label='Train')\n",
        "        ax.plot(range(1, num_epochs+1), valid_losses, label='Valid')\n",
        "        ax.set_xlabel('Epoch')\n",
        "        ax.set_ylabel('Loss')\n",
        "        ax.legend()\n",
        "\n",
        "    fig.suptitle('Train Loss and Valid Loss', x=0.51, y=1.05, fontsize=15)\n",
        "    fig.tight_layout()\n",
        "\n",
        "    # 남는 서브 플랏 제거\n",
        "    for ax in axes.flatten():\n",
        "        if not ax.has_data():\n",
        "            fig.delaxes(ax)"
      ]
    },
    {
      "cell_type": "markdown",
      "source": [
        "- Test 예측"
      ],
      "metadata": {
        "id": "czEnyW8-RuuB"
      }
    },
    {
      "cell_type": "code",
      "execution_count": 45,
      "metadata": {
        "id": "QYwPFyu3jq2X"
      },
      "outputs": [],
      "source": [
        "def predict(\n",
        "    model: nn.Module, \n",
        "    X: NDArray[np.float_],\n",
        "    device: torch.device,\n",
        "    args: EasyDict\n",
        ") -> Tensor:   \n",
        "    weight_paths = glob(args.weight_folder_path + '/*.pt')\n",
        "    dataloader = get_dataloader(X, shuffle=False)\n",
        "    test_preds = torch.zeros(len(dataloader.dataset), args.num_classes)  \n",
        "    num_folds = len([weight_path for weight_path in weight_paths if args.model_name in weight_path])\n",
        "     \n",
        "    for weight_path in tqdm(weight_paths):\n",
        "        if args.model_name not in weight_path:\n",
        "            continue\n",
        "            \n",
        "        preds = np.array([]).reshape(0, args.num_classes)\n",
        "        model.load_state_dict(torch.load(weight_path, map_location=device))\n",
        "        model.to(device)\n",
        "        model.eval()\n",
        "\n",
        "        with torch.no_grad(): \n",
        "            for X in dataloader:  # test 데이터는 라벨(y)이 없다\n",
        "                X = X.to(device)  # shape of X: (Batch, Sequence, Feature)\n",
        "                y_hat = model(X).detach().cpu().squeeze(2).numpy()  # shape of yhat: (Batch, Class)\n",
        "                preds = np.concatenate([preds, y_hat]) \n",
        "\n",
        "        test_preds += (preds / num_folds) \n",
        "    return test_preds     "
      ]
    },
    {
      "cell_type": "markdown",
      "source": [
        "- 후처리\n",
        "\n",
        "`-` 훈련 데이터를 보면 적산차값이 모두 정수형이다\n",
        "\n",
        "`-` 예측값도 반올림하여 정수로 만들어주겠다\n",
        "\n",
        "`-` 최솟값과 최댓값을 제한"
      ],
      "metadata": {
        "id": "32lGyi98VsOE"
      }
    },
    {
      "cell_type": "code",
      "source": [
        "MAX = df['flow'].values.max()\n",
        "MIN = df['flow'].values.min()"
      ],
      "metadata": {
        "id": "XtkEbf0aXVrA"
      },
      "execution_count": 417,
      "outputs": []
    },
    {
      "cell_type": "code",
      "source": [
        "def postprocessing(pred: NDArray[np.float_], minimum: float, maximum: float) -> NDArray[np.float_]:\n",
        "    pred = np.clip(pred, minimum, maximum)\n",
        "    pred = np.round(pred)\n",
        "    return pred"
      ],
      "metadata": {
        "id": "ljuUBoGLWb0G"
      },
      "execution_count": 375,
      "outputs": []
    },
    {
      "cell_type": "markdown",
      "metadata": {
        "id": "hiQylcQBg6Rs"
      },
      "source": [
        "### LSTM 모델 학습"
      ]
    },
    {
      "cell_type": "markdown",
      "metadata": {
        "id": "miXCkgdyROMY"
      },
      "source": [
        "#### 모델 학습 준비"
      ]
    },
    {
      "cell_type": "code",
      "execution_count": 426,
      "metadata": {
        "id": "hWjTbSt88Zp1"
      },
      "outputs": [],
      "source": [
        "lstm_args = EasyDict({\n",
        "    'weight_folder_path':'./weights',\n",
        "    'model_name':'lstm',\n",
        "    'window':336,\n",
        "    'gap':1,\n",
        "    'num_classes':336,\n",
        "    'num_epochs':60,\n",
        "    'bs':64,\n",
        "    'lr':1e-4,\n",
        "    'weight_decay':1e-2,\n",
        "    'max_norm':1.0,\n",
        "    'seed':22,\n",
        "})"
      ]
    },
    {
      "cell_type": "code",
      "execution_count": 427,
      "metadata": {
        "id": "kQzTwX5w99dk"
      },
      "outputs": [],
      "source": [
        "create_folder(lstm_args.weight_folder_path)"
      ]
    },
    {
      "cell_type": "markdown",
      "metadata": {
        "id": "defexgRJ8B_E"
      },
      "source": [
        "- 데이터 생성"
      ]
    },
    {
      "cell_type": "code",
      "execution_count": 428,
      "metadata": {
        "id": "nPGsiX_ZovQA"
      },
      "outputs": [],
      "source": [
        "Xs, ys = ts_train2supervised(flow_scaled, window=lstm_args.window, gap=lstm_args.gap, step=lstm_args.num_classes)  # s == scaled\n",
        "ys = ys.squeeze(2)"
      ]
    },
    {
      "cell_type": "code",
      "execution_count": 429,
      "metadata": {
        "id": "ln-YGxvmsX-X"
      },
      "outputs": [],
      "source": [
        "# 8:2로 분할 (9:1로 분할하면 성능이 MAE 기준 0.02 더 낫지만 속도와 모델의 견고성 측면에서 8:2로 분할하겠다)\n",
        "Xs_train, ys_train = Xs[:-(Xs.shape[0]//5)], ys[:-(ys.shape[0]//5)] \n",
        "Xs_val, ys_val = Xs[-(Xs.shape[0]//5):], ys[-(ys.shape[0]//5):]"
      ]
    },
    {
      "cell_type": "markdown",
      "metadata": {
        "id": "B53DxlV8BHCE"
      },
      "source": [
        "#### 모델 학습 및 검증"
      ]
    },
    {
      "cell_type": "code",
      "execution_count": 76,
      "metadata": {
        "id": "kmPZ-LAhTK4P"
      },
      "outputs": [],
      "source": [
        "# 참고: https://pytorch.org/docs/stable/generated/torch.nn.LSTM.html\n",
        "# 참고할 것: https://teddylee777.github.io/pytorch/pytorch-rnn\n",
        "# input of shape (batch, sequence, feature(=input size)) \n",
        "class LSTMModel(nn.Module):\n",
        "    def __init__(self, input_size=1, hidden_size=256, num_layers=4, num_classes=336, dropout_prob=0.1):\n",
        "        super(LSTMModel, self).__init__()\n",
        "        self.lstm = nn.LSTM(input_size, hidden_size, num_layers, batch_first=True, dropout=dropout_prob)\n",
        "        self.fc = nn.Linear(hidden_size, num_classes)\n",
        "        self.revin_layer = RevIN(input_size)  # 시간에 따라 변하는 시계열의 평균과 분산을 스케일링\n",
        "\n",
        "    def forward(self, x):  # shape of x: (Batch, Sequence, Feature)\n",
        "        # x shape: (B, 96(=sequence), input_size)\n",
        "        x = self.revin_layer(x, 'norm')\n",
        "        # x shape: (B, 96, input_size)\n",
        "        x, _ = self.lstm(x)  # h_0, c_0 기본값은 0으로 채워진 텐서\n",
        "        # x shape: (B, 96, hidden_size)\n",
        "        x = self.fc(x[:,-1,:])  \n",
        "        # x shape: (B, num_classes)\n",
        "        x = x.unsqueeze(2)\n",
        "        # x shape: (B, num_classes, input_size)\n",
        "        x = self.revin_layer(x, 'denorm')\n",
        "        # x shape: (B, num_classes, input_size)\n",
        "        return x"
      ]
    },
    {
      "cell_type": "code",
      "execution_count": 430,
      "metadata": {
        "id": "5G_xoCI49yLE"
      },
      "outputs": [],
      "source": [
        "early_stopping = EarlyStopping(patience=10,\n",
        "                               monitor='mae',\n",
        "                               mode='min',\n",
        "                               folder_path=lstm_args.weight_folder_path,\n",
        "                               model_name=lstm_args.model_name)"
      ]
    },
    {
      "cell_type": "code",
      "execution_count": 431,
      "metadata": {
        "id": "U5mefyHqRWIK"
      },
      "outputs": [],
      "source": [
        "seed_everything(lstm_args.seed)\n",
        "model = LSTMModel(input_size=1, hidden_size=256, num_layers=4, num_classes=lstm_args.num_classes, dropout_prob=0.1)"
      ]
    },
    {
      "cell_type": "code",
      "execution_count": 432,
      "metadata": {
        "colab": {
          "base_uri": "https://localhost:8080/",
          "height": 177,
          "referenced_widgets": [
            "0b5c0fd4c4b24b71a5eebf23bc915cd7",
            "ccf206c05130425d81bc45b0f66ffd65",
            "6d119f93804540cd9b7e6d9f6121eef3",
            "d7a8f392f4e54d959eee09257083a52b",
            "fd36bcf37e4c45479e389b4b0710336a",
            "e2a59dcf749f4d33827f30fdc3b77fa1",
            "aae51dd4c08045168f7005aa1a2022e2",
            "5d73d90a981644c78bfe174bf4d9abe4",
            "36e2f067f9d9491ca0f7ebf98585c9dc",
            "cbbbd5f2404c4a6aacf7e87745d0b888",
            "27367c081af7414db0fa54864f340a57"
          ]
        },
        "id": "i71Lk1M2nsz0",
        "outputId": "7af63b5d-a346-42e9-a4a2-22580d51125d"
      },
      "outputs": [
        {
          "output_type": "stream",
          "name": "stdout",
          "text": [
            "[1 / 1] Fold Training......\n"
          ]
        },
        {
          "output_type": "display_data",
          "data": {
            "text/plain": [
              "  0%|          | 0/60 [00:00<?, ?it/s]"
            ],
            "application/vnd.jupyter.widget-view+json": {
              "version_major": 2,
              "version_minor": 0,
              "model_id": "0b5c0fd4c4b24b71a5eebf23bc915cd7"
            }
          },
          "metadata": {}
        },
        {
          "output_type": "stream",
          "name": "stdout",
          "text": [
            "[Epoch:  1]  train loss = 0.15036  valid loss = 0.13075  valid MAE = 91.25009\n",
            "[Epoch:  5]  train loss = 0.13488  valid loss = 0.13691  valid MAE = 95.56920\n",
            "[Epoch: 10]  train loss = 0.13444  valid loss = 0.13165  valid MAE = 91.88464\n",
            "[Epoch: 15]  train loss = 0.13511  valid loss = 0.13140  valid MAE = 91.70355\n",
            "Early Stopping!\n",
            "1 Fold -> Valid Loss: 0.13043  Valid MAE: 91.02367\n"
          ]
        }
      ],
      "source": [
        "model, fold_train_losses_per_epoch, fold_valid_losses_per_epoch = holdout_validate(model, Xs_train, ys_train, Xs_val, ys_val,\n",
        "                                                                                   loss_fn, early_stopping, DEVICE, lstm_args)"
      ]
    },
    {
      "cell_type": "code",
      "execution_count": 433,
      "metadata": {
        "colab": {
          "base_uri": "https://localhost:8080/",
          "height": 320
        },
        "id": "ksgGH67RTXZo",
        "outputId": "9c665f35-3a1b-4cfa-ccc7-019f7f05205b"
      },
      "outputs": [
        {
          "output_type": "display_data",
          "data": {
            "text/plain": [
              "<Figure size 864x288 with 1 Axes>"
            ],
            "image/png": "[encoded data removed]"
          },
          "metadata": {}
        }
      ],
      "source": [
        "show_loss_plot(fold_train_losses_per_epoch, fold_valid_losses_per_epoch)"
      ]
    },
    {
      "cell_type": "markdown",
      "metadata": {
        "id": "_qJHHb6SqxkE"
      },
      "source": [
        "#### Test 예측"
      ]
    },
    {
      "cell_type": "code",
      "source": [
        "flow_scaled_all = np.concatenate([flow_scaled[-lstm_args.window:], flow_scaled_test])  # train + test\n",
        "Xs_test = ts_test2supervised(flow_scaled_all, window=lstm_args.window)   "
      ],
      "metadata": {
        "id": "bUTr2eQFdW5-"
      },
      "execution_count": 434,
      "outputs": []
    },
    {
      "cell_type": "code",
      "execution_count": 435,
      "metadata": {
        "colab": {
          "base_uri": "https://localhost:8080/",
          "height": 49,
          "referenced_widgets": [
            "aaf7d5235d4545938b1495bfc28fd02c",
            "10b5a2816c964d2ebf6c847a33a4e750",
            "d291e6d0b6e1440c88deb8f0deff75ba",
            "33dd20e3539d444d97fad9309f4593fa",
            "4c74d9beea354af8817ba92017c27d16",
            "a9eb862948c74104b7e387990b60af26",
            "96a7d47025454d3585b073ee494f3053",
            "5c5e92a1e1a64bf3a841e6571ba07767",
            "c78b7c5704aa418ca798477b0f29e74c",
            "ac4d27189eb84a0394707f9752513ede",
            "36bbdb037f2c499b8bdf24601e64803a"
          ]
        },
        "id": "cCDgzN-prDCB",
        "outputId": "75453ea3-4f3a-408c-cc0c-02e08a287756"
      },
      "outputs": [
        {
          "output_type": "display_data",
          "data": {
            "text/plain": [
              "  0%|          | 0/4 [00:00<?, ?it/s]"
            ],
            "application/vnd.jupyter.widget-view+json": {
              "version_major": 2,
              "version_minor": 0,
              "model_id": "aaf7d5235d4545938b1495bfc28fd02c"
            }
          },
          "metadata": {}
        }
      ],
      "source": [
        "preds = predict(model, Xs_test, DEVICE, lstm_args)"
      ]
    },
    {
      "cell_type": "code",
      "execution_count": 437,
      "metadata": {
        "id": "sh4c4lWMruF5"
      },
      "outputs": [],
      "source": [
        "preds = minmax_scaler.inverse_transform(preds)\n",
        "submission.loc[:, 'h0':'h335'] = postprocessing(preds, MIN, MAX)\n",
        "submission.to_csv(f'./data/submission_city_{lstm_args.model_name}.csv', index=False)"
      ]
    },
    {
      "cell_type": "markdown",
      "metadata": {
        "id": "R7aqcvAkYlT1"
      },
      "source": [
        "- 성능 확인"
      ]
    },
    {
      "cell_type": "code",
      "execution_count": 438,
      "metadata": {
        "colab": {
          "base_uri": "https://localhost:8080/"
        },
        "id": "kcFFI6ONpsUT",
        "outputId": "b6d1fe0e-4ab6-4d58-8b3f-ff6fa53093cc"
      },
      "outputs": [
        {
          "output_type": "execute_result",
          "data": {
            "text/plain": [
              "94.02416273716806"
            ]
          },
          "metadata": {},
          "execution_count": 438
        }
      ],
      "source": [
        "tmp = test.copy()\n",
        "for w in range(1, 336):\n",
        "    tmp[f'flow{w}'] = tmp['flow'].shift(-w)\n",
        "\n",
        "y_hat = submission.loc[:, 'h0':'h335'].to_numpy()[:8089]\n",
        "tmp = tmp.dropna().loc[:, 'flow':'flow335'].to_numpy()\n",
        "mean_absolute_error(tmp, y_hat)"
      ]
    },
    {
      "cell_type": "markdown",
      "metadata": {
        "id": "LgkTD-g3WHrB"
      },
      "source": [
        "### SCI Net 모델 학습"
      ]
    },
    {
      "cell_type": "markdown",
      "metadata": {
        "id": "eIJ2BlapnPXm"
      },
      "source": [
        "#### 모델 학습 준비"
      ]
    },
    {
      "cell_type": "code",
      "execution_count": 122,
      "metadata": {
        "id": "ZelBODt_nR2W"
      },
      "outputs": [],
      "source": [
        "sci_args = EasyDict({\n",
        "    'weight_folder_path':'./weights',\n",
        "    'model_name':'sci',\n",
        "    'window':336,\n",
        "    'gap':1,\n",
        "    'num_classes':336,\n",
        "    'num_epochs':60,\n",
        "    'bs':512,\n",
        "    'lr':1e-3,\n",
        "    'weight_decay':1e-2,\n",
        "    'max_norm':1.0,\n",
        "    'seed':22,\n",
        "})"
      ]
    },
    {
      "cell_type": "code",
      "source": [
        "Xs, ys = ts_train2supervised(flow_scaled, window=sci_args.window, gap=sci_args.gap, step=sci_args.num_classes)  # s == scaled\n",
        "ys = ys.squeeze(2)\n",
        "\n",
        "Xs_train, ys_train = Xs[:-(Xs.shape[0]//5)], ys[:-(ys.shape[0]//5)] \n",
        "Xs_val, ys_val = Xs[-(Xs.shape[0]//5):], ys[-(ys.shape[0]//5):]"
      ],
      "metadata": {
        "id": "ILru_SvKvQAX"
      },
      "execution_count": 123,
      "outputs": []
    },
    {
      "cell_type": "code",
      "execution_count": 124,
      "metadata": {
        "id": "Ac6jf_elcyAl"
      },
      "outputs": [],
      "source": [
        "early_stopping = EarlyStopping(patience=10,\n",
        "                               monitor='mae',\n",
        "                               mode='min',\n",
        "                               folder_path=sci_args.weight_folder_path,\n",
        "                               model_name=sci_args.model_name)"
      ]
    },
    {
      "cell_type": "code",
      "execution_count": 125,
      "metadata": {
        "id": "hZOu5RQjjvSh"
      },
      "outputs": [],
      "source": [
        "# https://github.com/ts-kim/RevIN/blob/master/baselines/SCINet/models/SCINet.py\n",
        "# Copyright (c) 2022 Electronics and Telecommunications Research Institute (ETRI) \n",
        "class Splitting(nn.Module):\n",
        "    def __init__(self):\n",
        "        super(Splitting, self).__init__()\n",
        "\n",
        "    def even(self, x):\n",
        "        return x[:, ::2, :]\n",
        "\n",
        "    def odd(self, x):\n",
        "        return x[:, 1::2, :]\n",
        "\n",
        "    def forward(self, x):\n",
        "        \"\"\"Returns the odd and even part\"\"\"\n",
        "        return (self.even(x), self.odd(x))\n",
        "\n",
        "\n",
        "class Interactor(nn.Module):\n",
        "    def __init__(self, in_planes, splitting=True,\n",
        "                 kernel=5, dropout=0.5, groups=1, hidden_size=1, INN=True):\n",
        "        super(Interactor, self).__init__()\n",
        "        self.modified = INN\n",
        "        self.kernel_size = kernel\n",
        "        self.dilation = 1\n",
        "        self.dropout = dropout\n",
        "        self.hidden_size = hidden_size\n",
        "        self.groups = groups\n",
        "\n",
        "        if self.kernel_size % 2 == 0:\n",
        "            pad_l = self.dilation * (self.kernel_size - 2) // 2 + 1  # by default: stride==1 \n",
        "            pad_r = self.dilation * (self.kernel_size) // 2 + 1  # by default: stride==1 \n",
        "        else:\n",
        "            pad_l = self.dilation * (self.kernel_size - 1) // 2 + 1  # we fix the kernel size of the second layer as 3.\n",
        "            pad_r = self.dilation * (self.kernel_size - 1) // 2 + 1\n",
        "\n",
        "        self.splitting = splitting\n",
        "        self.split = Splitting()\n",
        "\n",
        "        modules_P = []\n",
        "        modules_U = []\n",
        "        modules_psi = []\n",
        "        modules_phi = []\n",
        "        prev_size = 1\n",
        "\n",
        "        size_hidden = self.hidden_size\n",
        "        modules_P += [\n",
        "            nn.ReplicationPad1d((pad_l, pad_r)),\n",
        "\n",
        "            nn.Conv1d(in_planes * prev_size, int(in_planes * size_hidden),\n",
        "                      kernel_size=self.kernel_size, dilation=self.dilation, stride=1, groups=self.groups),\n",
        "            nn.LeakyReLU(negative_slope=0.01, inplace=True),\n",
        "\n",
        "            nn.Dropout(self.dropout),\n",
        "            nn.Conv1d(int(in_planes * size_hidden), in_planes,\n",
        "                      kernel_size=3, stride=1, groups=self.groups),\n",
        "            nn.Tanh()\n",
        "        ]\n",
        "        modules_U += [\n",
        "            nn.ReplicationPad1d((pad_l, pad_r)),\n",
        "            nn.Conv1d(in_planes * prev_size, int(in_planes * size_hidden),\n",
        "                      kernel_size=self.kernel_size, dilation=self.dilation, stride=1, groups=self.groups),\n",
        "            nn.LeakyReLU(negative_slope=0.01, inplace=True),\n",
        "            nn.Dropout(self.dropout),\n",
        "            nn.Conv1d(int(in_planes * size_hidden), in_planes,\n",
        "                      kernel_size=3, stride=1, groups=self.groups),\n",
        "            nn.Tanh()\n",
        "        ]\n",
        "\n",
        "        modules_phi += [\n",
        "            nn.ReplicationPad1d((pad_l, pad_r)),\n",
        "            nn.Conv1d(in_planes * prev_size, int(in_planes * size_hidden),\n",
        "                      kernel_size=self.kernel_size, dilation=self.dilation, stride=1, groups=self.groups),\n",
        "            nn.LeakyReLU(negative_slope=0.01, inplace=True),\n",
        "            nn.Dropout(self.dropout),\n",
        "            nn.Conv1d(int(in_planes * size_hidden), in_planes,\n",
        "                      kernel_size=3, stride=1, groups=self.groups),\n",
        "            nn.Tanh()\n",
        "        ]\n",
        "        modules_psi += [\n",
        "            nn.ReplicationPad1d((pad_l, pad_r)),\n",
        "            nn.Conv1d(in_planes * prev_size, int(in_planes * size_hidden),\n",
        "                      kernel_size=self.kernel_size, dilation=self.dilation, stride=1, groups=self.groups),\n",
        "            nn.LeakyReLU(negative_slope=0.01, inplace=True),\n",
        "            nn.Dropout(self.dropout),\n",
        "            nn.Conv1d(int(in_planes * size_hidden), in_planes,\n",
        "                      kernel_size=3, stride=1, groups=self.groups),\n",
        "            nn.Tanh()\n",
        "        ]\n",
        "        self.phi = nn.Sequential(*modules_phi)\n",
        "        self.psi = nn.Sequential(*modules_psi)\n",
        "        self.P = nn.Sequential(*modules_P)\n",
        "        self.U = nn.Sequential(*modules_U)\n",
        "\n",
        "    def forward(self, x):\n",
        "        if self.splitting:\n",
        "            (x_even, x_odd) = self.split(x)\n",
        "        else:\n",
        "            (x_even, x_odd) = x\n",
        "\n",
        "        if self.modified:\n",
        "            x_even = x_even.permute(0, 2, 1)\n",
        "            x_odd = x_odd.permute(0, 2, 1)\n",
        "\n",
        "            d = x_odd.mul(torch.exp(self.phi(x_even)))\n",
        "            c = x_even.mul(torch.exp(self.psi(x_odd)))\n",
        "\n",
        "            x_even_update = c + self.U(d)\n",
        "            x_odd_update = d - self.P(c)\n",
        "            return (x_even_update, x_odd_update)\n",
        "        else:\n",
        "            x_even = x_even.permute(0, 2, 1)\n",
        "            x_odd = x_odd.permute(0, 2, 1)\n",
        "\n",
        "            d = x_odd - self.P(x_even)\n",
        "            c = x_even + self.U(d)\n",
        "            return (c, d)\n",
        "\n",
        "\n",
        "class InteractorLevel(nn.Module):\n",
        "    def __init__(self, in_planes, kernel, dropout, groups , hidden_size, INN):\n",
        "        super(InteractorLevel, self).__init__()\n",
        "        self.level = Interactor(in_planes=in_planes, splitting=True,\n",
        "                 kernel=kernel, dropout=dropout, groups=groups, hidden_size=hidden_size, INN=INN)\n",
        "\n",
        "    def forward(self, x):\n",
        "        (x_even_update, x_odd_update) = self.level(x)\n",
        "        return (x_even_update, x_odd_update)\n",
        "\n",
        "class LevelSCINet(nn.Module):\n",
        "    def __init__(self,in_planes, kernel_size, dropout, groups, hidden_size, INN):\n",
        "        super(LevelSCINet, self).__init__()\n",
        "        self.interact = InteractorLevel(in_planes=in_planes, kernel=kernel_size, dropout=dropout, groups=groups , hidden_size=hidden_size, INN=INN)\n",
        "\n",
        "    def forward(self, x):\n",
        "        (x_even_update, x_odd_update) = self.interact(x)\n",
        "        return x_even_update.permute(0, 2, 1), x_odd_update.permute(0, 2, 1) #even: B, T, D odd: B, T, D\n",
        "\n",
        "class SCINet_Tree(nn.Module):\n",
        "    def __init__(self, in_planes, current_level, kernel_size, dropout, groups, hidden_size, INN):\n",
        "        super().__init__()\n",
        "        self.current_level = current_level\n",
        "\n",
        "        self.workingblock = LevelSCINet(\n",
        "            in_planes=in_planes,\n",
        "            kernel_size=kernel_size,\n",
        "            dropout=dropout,\n",
        "            groups=groups,\n",
        "            hidden_size=hidden_size,\n",
        "            INN=INN)\n",
        "\n",
        "        if current_level != 0:\n",
        "            self.SCINet_Tree_odd=SCINet_Tree(in_planes, current_level-1, kernel_size, dropout, groups, hidden_size, INN)\n",
        "            self.SCINet_Tree_even=SCINet_Tree(in_planes, current_level-1, kernel_size, dropout, groups, hidden_size, INN)\n",
        "    \n",
        "    def zip_up_the_pants(self, even, odd):\n",
        "        even = even.permute(1, 0, 2)\n",
        "        odd = odd.permute(1, 0, 2)  # L, B, D\n",
        "        even_len = even.shape[0]\n",
        "        odd_len = odd.shape[0]\n",
        "        mlen = min((odd_len, even_len))\n",
        "        _ = []\n",
        "        for i in range(mlen):\n",
        "            _.append(even[i].unsqueeze(0))\n",
        "            _.append(odd[i].unsqueeze(0))\n",
        "        if odd_len < even_len: \n",
        "            _.append(even[-1].unsqueeze(0))\n",
        "        return torch.cat(_, 0).permute(1, 0, 2)  # B, L, D\n",
        "        \n",
        "    def forward(self, x):\n",
        "        x_even_update, x_odd_update = self.workingblock(x)\n",
        "        # We recursively reordered these sub-series. You can run the ./utils/recursive_demo.py to emulate this procedure. \n",
        "        if self.current_level == 0:\n",
        "            return self.zip_up_the_pants(x_even_update, x_odd_update)\n",
        "        else:\n",
        "            return self.zip_up_the_pants(self.SCINet_Tree_even(x_even_update), self.SCINet_Tree_odd(x_odd_update))\n",
        "\n",
        "class EncoderTree(nn.Module):\n",
        "    def __init__(self, in_planes,  num_levels, kernel_size, dropout, groups, hidden_size, INN):\n",
        "        super().__init__()\n",
        "        self.levels=num_levels\n",
        "        self.SCINet_Tree=SCINet_Tree(\n",
        "            in_planes=in_planes,\n",
        "            current_level=num_levels-1,\n",
        "            kernel_size=kernel_size,\n",
        "            dropout=dropout ,\n",
        "            groups=groups,\n",
        "            hidden_size=hidden_size,\n",
        "            INN=INN)\n",
        "        \n",
        "    def forward(self, x):\n",
        "        x = self.SCINet_Tree(x)\n",
        "        return x\n",
        "\n",
        "class SCINet(nn.Module):\n",
        "    def __init__(self, output_len, input_len, input_dim=1, hid_size=1, num_stacks=1,\n",
        "                num_levels=3, concat_len=0, groups=1, kernel=5, dropout=0.5,\n",
        "                 single_step_output_One=0, input_len_seg=0, positionalE=False, modified=True):\n",
        "        super(SCINet, self).__init__()\n",
        "        self.input_dim = input_dim\n",
        "        self.input_len = input_len\n",
        "        self.output_len = output_len\n",
        "        self.hidden_size = hid_size\n",
        "        self.num_levels = num_levels\n",
        "        self.groups = groups\n",
        "        self.modified = modified\n",
        "        self.kernel_size = kernel\n",
        "        self.dropout = dropout\n",
        "        self.single_step_output_One = single_step_output_One\n",
        "        self.concat_len = concat_len\n",
        "        self.pe = positionalE\n",
        "        self.revin = RevIN(input_dim)  # b, s, f means b, f\n",
        "\n",
        "        self.blocks1 = EncoderTree(\n",
        "            in_planes=self.input_dim,\n",
        "            num_levels=self.num_levels,\n",
        "            kernel_size=self.kernel_size,\n",
        "            dropout=self.dropout,\n",
        "            groups=self.groups,\n",
        "            hidden_size=self.hidden_size,\n",
        "            INN=modified)\n",
        "\n",
        "        if num_stacks == 2: # we only implement two stacks at most.\n",
        "            self.blocks2 = EncoderTree(\n",
        "                in_planes=self.input_dim,\n",
        "                num_levels=self.num_levels,\n",
        "                kernel_size=self.kernel_size,\n",
        "                dropout=self.dropout,\n",
        "                groups=self.groups,\n",
        "                hidden_size=self.hidden_size,\n",
        "                INN=modified)\n",
        "\n",
        "        self.stacks = num_stacks\n",
        "\n",
        "        for m in self.modules():\n",
        "            if isinstance(m, nn.Conv2d):\n",
        "                n = m.kernel_size[0] * m.kernel_size[1] * m.out_channels\n",
        "                m.weight.data.normal_(0, math.sqrt(2. / n))\n",
        "            elif isinstance(m, nn.BatchNorm2d):\n",
        "                m.weight.data.fill_(1)\n",
        "                m.bias.data.zero_()\n",
        "            elif isinstance(m, nn.Linear):\n",
        "                m.bias.data.zero_()\n",
        "        self.projection1 = nn.Conv1d(self.input_len, self.output_len, kernel_size=1, stride=1, bias=False)\n",
        "        \n",
        "        if self.single_step_output_One:  # only output the N_th timestep.\n",
        "            if self.stacks == 2:\n",
        "                if self.concat_len:\n",
        "                    self.projection2 = nn.Conv1d(self.concat_len + self.output_len, 1,\n",
        "                                                kernel_size = 1, bias = False)\n",
        "                else:\n",
        "                    self.projection2 = nn.Conv1d(self.input_len + self.output_len, 1,\n",
        "                                                kernel_size = 1, bias = False)\n",
        "        else: # output the N timesteps.\n",
        "            if self.stacks == 2:\n",
        "                if self.concat_len:\n",
        "                    self.projection2 = nn.Conv1d(self.concat_len + self.output_len, self.output_len,\n",
        "                                                kernel_size = 1, bias = False)\n",
        "                else:\n",
        "                    self.projection2 = nn.Conv1d(self.input_len + self.output_len, self.output_len,\n",
        "                                                kernel_size = 1, bias = False)\n",
        "\n",
        "        # For positional encoding\n",
        "        self.pe_hidden_size = input_dim\n",
        "        if self.pe_hidden_size % 2 == 1:\n",
        "            self.pe_hidden_size += 1\n",
        "    \n",
        "        num_timescales = self.pe_hidden_size // 2\n",
        "        max_timescale = 10000.0\n",
        "        min_timescale = 1.0\n",
        "\n",
        "        log_timescale_increment = (\n",
        "                math.log(float(max_timescale) / float(min_timescale)) /\n",
        "                max(num_timescales - 1, 1))\n",
        "        temp = torch.arange(num_timescales, dtype=torch.float32)\n",
        "        inv_timescales = min_timescale * torch.exp(\n",
        "            torch.arange(num_timescales, dtype=torch.float32) *\n",
        "            -log_timescale_increment)\n",
        "        self.register_buffer('inv_timescales', inv_timescales)\n",
        "    \n",
        "    def get_position_encoding(self, x):\n",
        "        max_length = x.size()[1]\n",
        "        position = torch.arange(max_length, dtype=torch.float32, device=x.device)  # tensor([0., 1., 2., 3., 4.], device='cuda:0')\n",
        "        temp1 = position.unsqueeze(1)  # 5 1\n",
        "        temp2 = self.inv_timescales.unsqueeze(0)  # 1 256\n",
        "        scaled_time = position.unsqueeze(1) * self.inv_timescales.unsqueeze(0)  # 5 256\n",
        "        signal = torch.cat([torch.sin(scaled_time), torch.cos(scaled_time)], dim=1)  # [T, C]\n",
        "        signal = F.pad(signal, (0, 0, 0, self.pe_hidden_size % 2))\n",
        "        signal = signal.view(1, max_length, self.pe_hidden_size)\n",
        "        return signal\n",
        "\n",
        "    def forward(self, x):\n",
        "        assert self.input_len % (np.power(2, self.num_levels)) == 0  # evenly divided the input length into two parts. (e.g., 32 -> 16 -> 8 -> 4 for 3 levels)\n",
        "        x = self.revin(x, 'norm')\n",
        "\n",
        "        if self.pe:\n",
        "            pe = self.get_position_encoding(x)\n",
        "            if pe.shape[2] > x.shape[2]:\n",
        "                x += pe[:, :, :-1]\n",
        "            else:\n",
        "                x += self.get_position_encoding(x)\n",
        "        # the first stack\n",
        "        res1 = x\n",
        "        x = self.blocks1(x)\n",
        "        x += res1\n",
        "        x = self.projection1(x)\n",
        "\n",
        "        if self.stacks == 1:\n",
        "            x = self.revin(x,'denorm')\n",
        "            return x  # maybe forecast\n",
        "        elif self.stacks == 2:\n",
        "            MidOutPut = x  # maybe forecast\n",
        "            if self.concat_len:\n",
        "                x = torch.cat((res1[:, -self.concat_len:,:], x), dim=1)\n",
        "            else:\n",
        "                x = torch.cat((res1, x), dim=1)\n",
        "\n",
        "            # the second stack\n",
        "            res2 = x\n",
        "            x = self.blocks2(x)\n",
        "            x += res2\n",
        "            x = self.projection2(x)\n",
        "            MidOutPut = self.revin(MidOutPut, 'denorm')\n",
        "            x = self.revin(x, 'denorm')\n",
        "            return x, MidOutPut\n",
        "\n",
        "\n",
        "def get_variable(x):\n",
        "    x = Variable(x)\n",
        "    return x.cuda() if torch.cuda.is_available() else x"
      ]
    },
    {
      "cell_type": "markdown",
      "metadata": {
        "id": "vRw8WNzinSZe"
      },
      "source": [
        "#### 모델 학습 및 검증"
      ]
    },
    {
      "cell_type": "code",
      "execution_count": 126,
      "metadata": {
        "id": "SO7E4Be9kCCw"
      },
      "outputs": [],
      "source": [
        "seed_everything(sci_args.seed)\n",
        "model = SCINet(output_len=sci_args.num_classes, input_len=sci_args.window, input_dim=1, hid_size=1, num_stacks=1,\n",
        "               num_levels=3, concat_len=0, groups=1, kernel=7, dropout=0.5,\n",
        "               single_step_output_One=0, positionalE=True, modified=True)"
      ]
    },
    {
      "cell_type": "code",
      "execution_count": 127,
      "metadata": {
        "id": "lcRGVLUXkR2X",
        "colab": {
          "base_uri": "https://localhost:8080/",
          "height": 323,
          "referenced_widgets": [
            "bbff148ca9d840e285427b6bcabf182d",
            "5f460df6698a4711951c463f33bb2a72",
            "c2cbd8b02d0c496badeb30f70e76faff",
            "b12f8becd105491485c4424e237bbf86",
            "333c466c8485493f8c36e00e46cce343",
            "d252a5ff63af4da895c95adbb2211f0e",
            "95bfff457e7040a58303d918b8cc58fe",
            "acb5a2942f954360a6603694619ac1f1",
            "0639df7fdabb43b294c16328aade78b4",
            "aa39d3d2c7c843b1914694091e1ff039",
            "3a574eabc9294d6e84c8cdeecbf619e2"
          ]
        },
        "outputId": "149c3266-6913-4098-8e7c-ea7ac36fb96b"
      },
      "outputs": [
        {
          "output_type": "stream",
          "name": "stdout",
          "text": [
            "[1 / 1] Fold Training......\n"
          ]
        },
        {
          "output_type": "display_data",
          "data": {
            "text/plain": [
              "  0%|          | 0/60 [00:00<?, ?it/s]"
            ],
            "application/vnd.jupyter.widget-view+json": {
              "version_major": 2,
              "version_minor": 0,
              "model_id": "bbff148ca9d840e285427b6bcabf182d"
            }
          },
          "metadata": {}
        },
        {
          "output_type": "stream",
          "name": "stdout",
          "text": [
            "[Epoch:  1]  train loss = 0.11267  valid loss = 0.08472  valid MAE = 110.00612\n",
            "[Epoch:  5]  train loss = 0.07176  valid loss = 0.06984  valid MAE = 90.60529\n",
            "[Epoch: 10]  train loss = 0.07070  valid loss = 0.06914  valid MAE = 89.68883\n",
            "[Epoch: 15]  train loss = 0.07049  valid loss = 0.06906  valid MAE = 89.58863\n",
            "[Epoch: 20]  train loss = 0.07036  valid loss = 0.06895  valid MAE = 89.45446\n",
            "[Epoch: 25]  train loss = 0.07026  valid loss = 0.06890  valid MAE = 89.39528\n",
            "[Epoch: 30]  train loss = 0.07019  valid loss = 0.06887  valid MAE = 89.34550\n",
            "[Epoch: 35]  train loss = 0.07013  valid loss = 0.06883  valid MAE = 89.29827\n",
            "[Epoch: 40]  train loss = 0.07009  valid loss = 0.06883  valid MAE = 89.30683\n",
            "[Epoch: 45]  train loss = 0.07005  valid loss = 0.06881  valid MAE = 89.27546\n",
            "[Epoch: 50]  train loss = 0.07001  valid loss = 0.06880  valid MAE = 89.25537\n",
            "[Epoch: 55]  train loss = 0.06999  valid loss = 0.06880  valid MAE = 89.25624\n",
            "[Epoch: 60]  train loss = 0.06997  valid loss = 0.06879  valid MAE = 89.24638\n",
            "1 Fold -> Valid Loss: 0.06878  Valid MAE: 89.23720\n"
          ]
        }
      ],
      "source": [
        "model, fold_train_losses_per_epoch, fold_valid_losses_per_epoch = holdout_validate(model, Xs_train, ys_train, Xs_val, ys_val,\n",
        "                                                                                   loss_fn, early_stopping, DEVICE, sci_args)"
      ]
    },
    {
      "cell_type": "code",
      "source": [
        "show_loss_plot(fold_train_losses_per_epoch, fold_valid_losses_per_epoch)"
      ],
      "metadata": {
        "colab": {
          "base_uri": "https://localhost:8080/",
          "height": 320
        },
        "id": "b6pkZgeWy0mb",
        "outputId": "3cea0046-49e3-4a3d-e753-b053e3a2cbb0"
      },
      "execution_count": 128,
      "outputs": [
        {
          "output_type": "display_data",
          "data": {
            "text/plain": [
              "<Figure size 864x288 with 1 Axes>"
            ],
            "image/png": "[encoded data removed]"
          },
          "metadata": {}
        }
      ]
    },
    {
      "cell_type": "markdown",
      "metadata": {
        "id": "2-QS8Ik7uZHp"
      },
      "source": [
        "#### Test 예측"
      ]
    },
    {
      "cell_type": "code",
      "source": [
        "flow_scaled_all = np.concatenate([flow_scaled[-sci_args.window:], flow_scaled_test])  # train + test\n",
        "Xs_test = ts_test2supervised(flow_scaled_all, window=sci_args.window)   "
      ],
      "metadata": {
        "id": "kawu0ynzx0Vz"
      },
      "execution_count": 129,
      "outputs": []
    },
    {
      "cell_type": "code",
      "execution_count": 130,
      "metadata": {
        "colab": {
          "base_uri": "https://localhost:8080/",
          "height": 49,
          "referenced_widgets": [
            "47f55dd25e8c413d96e86d4582a3ea75",
            "af3e0f361a054741b4eee8a8a8f45a55",
            "406596c13e544d529775933edacf5b58",
            "31551fdc3b614ee086150773b643544f",
            "df9d708c984e40cebe17d236f4bce5e1",
            "0729ef9b86514c2591384df7f92c0053",
            "996de05611f44978ac7c1276890a7db6",
            "d4f5316ca52a4350812a08efc8cf3a96",
            "b6ee695a4faf4222be33f307eb1373be",
            "118d1381106e4081bcaef28ca05be4f9",
            "32bdf18b817e440892197fea188c49da"
          ]
        },
        "id": "_AyK94l0gURU",
        "outputId": "36051976-482a-4d99-9c08-06db5e1a69c0"
      },
      "outputs": [
        {
          "output_type": "display_data",
          "data": {
            "text/plain": [
              "  0%|          | 0/4 [00:00<?, ?it/s]"
            ],
            "application/vnd.jupyter.widget-view+json": {
              "version_major": 2,
              "version_minor": 0,
              "model_id": "47f55dd25e8c413d96e86d4582a3ea75"
            }
          },
          "metadata": {}
        }
      ],
      "source": [
        "preds = predict(model, Xs_test, DEVICE, sci_args)"
      ]
    },
    {
      "cell_type": "code",
      "execution_count": 131,
      "metadata": {
        "id": "y1557nWvgaJE"
      },
      "outputs": [],
      "source": [
        "preds = minmax_scaler.inverse_transform(preds)\n",
        "submission.loc[:, 'h0':'h335'] = postprocessing(preds, MIN, MAX)\n",
        "submission.to_csv(f'./data/submission_city_{sci_args.model_name}.csv', index=False)"
      ]
    },
    {
      "cell_type": "markdown",
      "metadata": {
        "id": "G-IX37u2gd_N"
      },
      "source": [
        "- 성능 확인"
      ]
    },
    {
      "cell_type": "code",
      "execution_count": 132,
      "metadata": {
        "colab": {
          "base_uri": "https://localhost:8080/"
        },
        "id": "WU08YjBDgiDM",
        "outputId": "cc1624a2-e95f-4961-8070-7bb46dd7fa8f"
      },
      "outputs": [
        {
          "output_type": "execute_result",
          "data": {
            "text/plain": [
              "89.76802050403546"
            ]
          },
          "metadata": {},
          "execution_count": 132
        }
      ],
      "source": [
        "tmp = test.copy()\n",
        "for w in range(1, 336):\n",
        "    tmp[f'flow{w}'] = tmp['flow'].shift(-w)\n",
        "\n",
        "y_hat = submission.loc[:, 'h0':'h335'].to_numpy()[:8089]\n",
        "tmp = tmp.dropna().loc[:, 'flow':'flow335'].to_numpy()\n",
        "mean_absolute_error(tmp, y_hat)"
      ]
    },
    {
      "cell_type": "markdown",
      "source": [
        "### DLinear 모델 학습"
      ],
      "metadata": {
        "id": "tYYMvziLnTsS"
      }
    },
    {
      "cell_type": "markdown",
      "source": [
        "#### 모델 학습 준비"
      ],
      "metadata": {
        "id": "jCiYE5Brr7AH"
      }
    },
    {
      "cell_type": "code",
      "source": [
        "dlinear_args = EasyDict({\n",
        "    'weight_folder_path':'./weights',\n",
        "    'model_name':'dlinear',\n",
        "    'window':336,\n",
        "    'gap':1,\n",
        "    'num_classes':336,\n",
        "    'num_epochs':100,\n",
        "    'bs':64,\n",
        "    'lr':1e-4,\n",
        "    'weight_decay':1e-2,\n",
        "    'max_norm':1.0,\n",
        "    'seed':22,\n",
        "    'seq_len':336,\n",
        "    'pred_len':336,\n",
        "    'enc_in':1,\n",
        "    'individual':False,\n",
        "})"
      ],
      "metadata": {
        "id": "2Wnj0XKTr8Q3"
      },
      "execution_count": 382,
      "outputs": []
    },
    {
      "cell_type": "code",
      "source": [
        "create_folder(dlinear_args.weight_folder_path)"
      ],
      "metadata": {
        "id": "icQ1retgdGZP"
      },
      "execution_count": 383,
      "outputs": []
    },
    {
      "cell_type": "code",
      "source": [
        "Xs, ys = ts_train2supervised(flow_scaled, window=dlinear_args.window, gap=dlinear_args.gap, step=dlinear_args.num_classes)  # s == scaled\n",
        "ys = ys.squeeze(2)\n",
        "\n",
        "Xs_train, ys_train = Xs[:-(Xs.shape[0]//5)], ys[:-(ys.shape[0]//5)] \n",
        "Xs_val, ys_val = Xs[-(Xs.shape[0]//5):], ys[-(ys.shape[0]//5):]"
      ],
      "metadata": {
        "id": "8936Tl5rvLOY"
      },
      "execution_count": 384,
      "outputs": []
    },
    {
      "cell_type": "code",
      "source": [
        "early_stopping = EarlyStopping(patience=10,\n",
        "                               monitor='mae',\n",
        "                               mode='min',\n",
        "                               folder_path=dlinear_args.weight_folder_path,\n",
        "                               model_name=dlinear_args.model_name)"
      ],
      "metadata": {
        "id": "sEFvOtDlsEV4"
      },
      "execution_count": 385,
      "outputs": []
    },
    {
      "cell_type": "code",
      "source": [
        "# ref: https://github.com/cure-lab/LTSF-Linear/blob/main/models/DLinear.py\n",
        "class moving_avg(nn.Module):\n",
        "    \"\"\"\n",
        "    Moving average block to highlight the trend of time series\n",
        "    \"\"\"\n",
        "    def __init__(self, kernel_size, stride):\n",
        "        super(moving_avg, self).__init__()\n",
        "        self.kernel_size = kernel_size\n",
        "        self.avg = nn.AvgPool1d(kernel_size=kernel_size, stride=stride, padding=0)\n",
        "\n",
        "    def forward(self, x):\n",
        "        # padding on the both ends of time series\n",
        "        front = x[:, 0:1, :].repeat(1, (self.kernel_size - 1) // 2, 1)\n",
        "        end = x[:, -1:, :].repeat(1, (self.kernel_size - 1) // 2, 1)\n",
        "        x = torch.cat([front, x, end], dim=1)\n",
        "        x = self.avg(x.permute(0, 2, 1))\n",
        "        x = x.permute(0, 2, 1)\n",
        "        return x\n",
        "\n",
        "\n",
        "class series_decomp(nn.Module):\n",
        "    \"\"\"\n",
        "    Series decomposition block\n",
        "    \"\"\"\n",
        "    def __init__(self, kernel_size):\n",
        "        super(series_decomp, self).__init__()\n",
        "        self.moving_avg = moving_avg(kernel_size, stride=1)\n",
        "\n",
        "    def forward(self, x):\n",
        "        moving_mean = self.moving_avg(x)\n",
        "        res = x - moving_mean\n",
        "        return res, moving_mean\n",
        "\n",
        "class DLinear(nn.Module):\n",
        "    \"\"\"\n",
        "    Decomposition-Linear\n",
        "    \"\"\"\n",
        "    def __init__(self, configs):\n",
        "        super(DLinear, self).__init__()\n",
        "        self.seq_len = configs.seq_len\n",
        "        self.pred_len = configs.pred_len\n",
        "        self.revin_layer = RevIN(configs.enc_in)  # 시간에 따라 변하는 시계열의 평균과 분산을 스케일링\n",
        "\n",
        "        # Decompsition Kernel Size\n",
        "        kernel_size = 25\n",
        "        self.decompsition = series_decomp(kernel_size)\n",
        "        self.individual = configs.individual\n",
        "        self.channels = configs.enc_in\n",
        "\n",
        "        if self.individual:\n",
        "            self.Linear_Seasonal = nn.ModuleList()\n",
        "            self.Linear_Trend = nn.ModuleList()\n",
        "            \n",
        "            for i in range(self.channels):\n",
        "                self.Linear_Seasonal.append(nn.Linear(self.seq_len, self.pred_len))\n",
        "                self.Linear_Trend.append(nn.Linear(self.seq_len, self.pred_len))\n",
        "\n",
        "                # Use this two lines if you want to visualize the weights\n",
        "                # self.Linear_Seasonal[i].weight = nn.Parameter((1/self.seq_len)*torch.ones([self.pred_len, self.seq_len]))\n",
        "                # self.Linear_Trend[i].weight = nn.Parameter((1/self.seq_len)*torch.ones([self.pred_len, self.seq_len]))\n",
        "        else:\n",
        "            self.Linear_Seasonal = nn.Linear(self.seq_len, self.pred_len)\n",
        "            self.Linear_Trend = nn.Linear(self.seq_len, self.pred_len)\n",
        "            \n",
        "            # Use this two lines if you want to visualize the weights\n",
        "            # self.Linear_Seasonal.weight = nn.Parameter((1/self.seq_len)*torch.ones([self.pred_len,self.seq_len]))\n",
        "            # self.Linear_Trend.weight = nn.Parameter((1/self.seq_len)*torch.ones([self.pred_len,self.seq_len]))\n",
        "\n",
        "    def forward(self, x):\n",
        "        x = self.revin_layer(x, 'norm')\n",
        "        # x: [Batch, Input length, Channel]\n",
        "        seasonal_init, trend_init = self.decompsition(x)\n",
        "        seasonal_init, trend_init = seasonal_init.permute(0,2,1), trend_init.permute(0,2,1)\n",
        "        if self.individual:\n",
        "            seasonal_output = torch.zeros([seasonal_init.size(0),seasonal_init.size(1),self.pred_len], dtype=seasonal_init.dtype).to(seasonal_init.device)\n",
        "            trend_output = torch.zeros([trend_init.size(0),trend_init.size(1),self.pred_len],dtype=trend_init.dtype).to(trend_init.device)\n",
        "            for i in range(self.channels):\n",
        "                seasonal_output[:,i,:] = self.Linear_Seasonal[i](seasonal_init[:,i,:])\n",
        "                trend_output[:,i,:] = self.Linear_Trend[i](trend_init[:,i,:])\n",
        "        else:\n",
        "            seasonal_output = self.Linear_Seasonal(seasonal_init)\n",
        "            trend_output = self.Linear_Trend(trend_init)\n",
        "\n",
        "        x = seasonal_output + trend_output\n",
        "        x = self.revin_layer(x, 'denorm')\n",
        "        return x.permute(0,2,1) # to [Batch, Output length, Channel]"
      ],
      "metadata": {
        "id": "lvHvoNuOGavd"
      },
      "execution_count": 414,
      "outputs": []
    },
    {
      "cell_type": "markdown",
      "source": [
        "#### 모델 학습 및 검증"
      ],
      "metadata": {
        "id": "x_TCsywLsI46"
      }
    },
    {
      "cell_type": "code",
      "source": [
        "seed_everything(dlinear_args.seed)\n",
        "model = DLinear(dlinear_args)"
      ],
      "metadata": {
        "id": "yysiz2UdsRbH"
      },
      "execution_count": 415,
      "outputs": []
    },
    {
      "cell_type": "code",
      "source": [
        "model, fold_train_losses_per_epoch, fold_valid_losses_per_epoch = holdout_validate(model, Xs_train, ys_train, Xs_val, ys_val,\n",
        "                                                                                   loss_fn, early_stopping, DEVICE, dlinear_args)"
      ],
      "metadata": {
        "colab": {
          "base_uri": "https://localhost:8080/",
          "height": 469,
          "referenced_widgets": [
            "a23eaf4a6fda406fa29d7e33c6b3e952",
            "43305611ed7e41f3a6ba73b4df96b0c6",
            "c37d363e40de4b439638408d3f48cb63",
            "6eaf062fd10c4ab289706a388c4f5546",
            "1eccb2a08d1848f79923b96bda8381b1",
            "a3d1be346e4142478a2dbc0a159841d4",
            "e8891ebe92c74ebcbf338e8baaca2f3a",
            "1b306744496847a68b724208fe441820",
            "fee97033354a412480258dacf60625e2",
            "e7891f47a6f946d2baeb574956e38ae3",
            "a90ed76d5eb9462088b6f0a70908d7a8"
          ]
        },
        "id": "YVMooCiCOFA_",
        "outputId": "d50cb201-f501-472b-a6f0-651446d58ec2"
      },
      "execution_count": 416,
      "outputs": [
        {
          "output_type": "stream",
          "name": "stdout",
          "text": [
            "[1 / 1] Fold Training......\n"
          ]
        },
        {
          "output_type": "display_data",
          "data": {
            "text/plain": [
              "  0%|          | 0/100 [00:00<?, ?it/s]"
            ],
            "application/vnd.jupyter.widget-view+json": {
              "version_major": 2,
              "version_minor": 0,
              "model_id": "a23eaf4a6fda406fa29d7e33c6b3e952"
            }
          },
          "metadata": {}
        },
        {
          "output_type": "stream",
          "name": "stdout",
          "text": [
            "[Epoch:  1]  train loss = 0.15650  valid loss = 0.14105  valid MAE = 98.45846\n",
            "[Epoch:  5]  train loss = 0.13216  valid loss = 0.12874  valid MAE = 89.86666\n",
            "[Epoch: 10]  train loss = 0.12877  valid loss = 0.12621  valid MAE = 88.09792\n",
            "[Epoch: 15]  train loss = 0.12793  valid loss = 0.12562  valid MAE = 87.68503\n",
            "[Epoch: 20]  train loss = 0.12761  valid loss = 0.12538  valid MAE = 87.52213\n",
            "[Epoch: 25]  train loss = 0.12745  valid loss = 0.12529  valid MAE = 87.45485\n",
            "[Epoch: 30]  train loss = 0.12736  valid loss = 0.12524  valid MAE = 87.42593\n",
            "[Epoch: 35]  train loss = 0.12730  valid loss = 0.12521  valid MAE = 87.40297\n",
            "[Epoch: 40]  train loss = 0.12726  valid loss = 0.12520  valid MAE = 87.39443\n",
            "[Epoch: 45]  train loss = 0.12723  valid loss = 0.12519  valid MAE = 87.38803\n",
            "[Epoch: 50]  train loss = 0.12720  valid loss = 0.12519  valid MAE = 87.38682\n",
            "[Epoch: 55]  train loss = 0.12719  valid loss = 0.12518  valid MAE = 87.38339\n",
            "[Epoch: 60]  train loss = 0.12718  valid loss = 0.12518  valid MAE = 87.38119\n",
            "[Epoch: 65]  train loss = 0.12717  valid loss = 0.12518  valid MAE = 87.38075\n",
            "[Epoch: 70]  train loss = 0.12716  valid loss = 0.12518  valid MAE = 87.37995\n",
            "[Epoch: 75]  train loss = 0.12715  valid loss = 0.12518  valid MAE = 87.37856\n",
            "[Epoch: 80]  train loss = 0.12715  valid loss = 0.12518  valid MAE = 87.37883\n",
            "[Epoch: 85]  train loss = 0.12715  valid loss = 0.12518  valid MAE = 87.37846\n",
            "[Epoch: 90]  train loss = 0.12714  valid loss = 0.12518  valid MAE = 87.37814\n",
            "[Epoch: 95]  train loss = 0.12714  valid loss = 0.12518  valid MAE = 87.37818\n",
            "[Epoch: 100]  train loss = 0.12714  valid loss = 0.12518  valid MAE = 87.37809\n",
            "1 Fold -> Valid Loss: 0.12518  Valid MAE: 87.37800\n"
          ]
        }
      ]
    },
    {
      "cell_type": "code",
      "source": [
        "show_loss_plot(fold_train_losses_per_epoch, fold_valid_losses_per_epoch)"
      ],
      "metadata": {
        "colab": {
          "base_uri": "https://localhost:8080/",
          "height": 320
        },
        "id": "RF93bFv1S3IQ",
        "outputId": "43c0389d-5608-4fff-d544-ae17679d8c45"
      },
      "execution_count": 420,
      "outputs": [
        {
          "output_type": "display_data",
          "data": {
            "text/plain": [
              "<Figure size 864x288 with 1 Axes>"
            ],
            "image/png": "[encoded data removed]"
          },
          "metadata": {}
        }
      ]
    },
    {
      "cell_type": "markdown",
      "source": [
        "#### Test 예측"
      ],
      "metadata": {
        "id": "EVxp8sa7JQnT"
      }
    },
    {
      "cell_type": "code",
      "source": [
        "flow_scaled_all = np.concatenate([flow_scaled[-dlinear_args.window:], flow_scaled_test])  # train + test\n",
        "Xs_test = ts_test2supervised(flow_scaled_all, window=dlinear_args.window)   "
      ],
      "metadata": {
        "id": "1bWTVvZLYO-P"
      },
      "execution_count": 418,
      "outputs": []
    },
    {
      "cell_type": "code",
      "source": [
        "preds = predict(model, Xs_test, DEVICE, dlinear_args)"
      ],
      "metadata": {
        "colab": {
          "base_uri": "https://localhost:8080/",
          "height": 49,
          "referenced_widgets": [
            "a8349b28e6504edf9dbecbaf9dbff79e",
            "32ca5bac4d544be384cee101c34f4c49",
            "12f9c7db287d4737aec466e597eb6f63",
            "5b3ec0d8ab044a6398286cc2a144a2ea",
            "9d06b45f85eb42d781f2a98a96a2571c",
            "75319200596b4c3cac929c4ba5908058",
            "14058058466a402489b555fdbc225212",
            "2c6f3eff83834536bc048542709e6f6b",
            "ef74f00e0b7842b1a51d914e7b9db3dc",
            "f0627e2a92384878b36da5158a4ed4d6",
            "fe367fd2a1e0488585d65b8e12691780"
          ]
        },
        "id": "EYVl_U0qJYhs",
        "outputId": "9fbb141c-80a0-4eeb-8978-a88244b5bf06"
      },
      "execution_count": 419,
      "outputs": [
        {
          "output_type": "display_data",
          "data": {
            "text/plain": [
              "  0%|          | 0/4 [00:00<?, ?it/s]"
            ],
            "application/vnd.jupyter.widget-view+json": {
              "version_major": 2,
              "version_minor": 0,
              "model_id": "a8349b28e6504edf9dbecbaf9dbff79e"
            }
          },
          "metadata": {}
        }
      ]
    },
    {
      "cell_type": "code",
      "source": [
        "preds = minmax_scaler.inverse_transform(preds)\n",
        "submission.loc[:, 'h0':'h335'] = postprocessing(preds, MIN, MAX)\n",
        "submission.to_csv(f'./data/submission_city_{dlinear_args.model_name}.csv', index=False)"
      ],
      "metadata": {
        "id": "gMyFz-XDJbMj"
      },
      "execution_count": 421,
      "outputs": []
    },
    {
      "cell_type": "markdown",
      "source": [
        "- 성능 확인"
      ],
      "metadata": {
        "id": "TJ_EEHeLKKfK"
      }
    },
    {
      "cell_type": "code",
      "source": [
        "tmp = test.copy()\n",
        "for w in range(1, 336):\n",
        "    tmp[f'flow{w}'] = tmp['flow'].shift(-w)\n",
        "\n",
        "y_hat = submission.loc[:, 'h0':'h335'].to_numpy()[:8089]\n",
        "tmp = tmp.dropna().loc[:, 'flow':'flow335'].to_numpy()\n",
        "mean_absolute_error(tmp, y_hat)"
      ],
      "metadata": {
        "colab": {
          "base_uri": "https://localhost:8080/"
        },
        "id": "15u5KWHcJle6",
        "outputId": "ed808c5f-6eef-44d4-bcb5-d6399f6adb70"
      },
      "execution_count": 422,
      "outputs": [
        {
          "output_type": "execute_result",
          "data": {
            "text/plain": [
              "89.82467445502122"
            ]
          },
          "metadata": {},
          "execution_count": 422
        }
      ]
    },
    {
      "cell_type": "markdown",
      "source": [
        "### NLinear 모델 학습\n"
      ],
      "metadata": {
        "id": "m4cgzujcKNAh"
      }
    },
    {
      "cell_type": "markdown",
      "source": [
        "#### 모델 학습 준비"
      ],
      "metadata": {
        "id": "wFObQBSDLECa"
      }
    },
    {
      "cell_type": "code",
      "source": [
        "nlinear_args = EasyDict({\n",
        "    'weight_folder_path':'./weights',\n",
        "    'model_name':'nlinear',\n",
        "    'window':336,\n",
        "    'gap':1,\n",
        "    'num_classes':336,\n",
        "    'num_epochs':60,\n",
        "    'bs':512,\n",
        "    'lr':1e-3,\n",
        "    'weight_decay':1e-2,\n",
        "    'max_norm':1.0,\n",
        "    'seed':22,\n",
        "    'seq_len':336,\n",
        "    'pred_len':336,\n",
        "    'enc_in':1,\n",
        "    'individual':False,\n",
        "})"
      ],
      "metadata": {
        "id": "yzZdE-BTLFvz"
      },
      "execution_count": 114,
      "outputs": []
    },
    {
      "cell_type": "code",
      "source": [
        "create_folder(nlinear_args.weight_folder_path)"
      ],
      "metadata": {
        "id": "Ygkvh1RadI7v"
      },
      "execution_count": 49,
      "outputs": []
    },
    {
      "cell_type": "code",
      "source": [
        "Xs, ys = ts_train2supervised(flow_scaled, window=nlinear_args.window, gap=nlinear_args.gap, step=nlinear_args.num_classes)  # s == scaled\n",
        "ys = ys.squeeze(2)\n",
        "\n",
        "Xs_train, ys_train = Xs[:-(Xs.shape[0]//5)], ys[:-(ys.shape[0]//5)] \n",
        "Xs_val, ys_val = Xs[-(Xs.shape[0]//5):], ys[-(ys.shape[0]//5):]"
      ],
      "metadata": {
        "id": "M5pQnztALUj7"
      },
      "execution_count": 50,
      "outputs": []
    },
    {
      "cell_type": "code",
      "source": [
        "early_stopping = EarlyStopping(patience=10,\n",
        "                               monitor='mae',\n",
        "                               mode='min',\n",
        "                               folder_path=nlinear_args.weight_folder_path,\n",
        "                               model_name=nlinear_args.model_name)"
      ],
      "metadata": {
        "id": "fmiyG42ELYH7"
      },
      "execution_count": 51,
      "outputs": []
    },
    {
      "cell_type": "code",
      "source": [
        "class NLinear(nn.Module):\n",
        "    \"\"\"\n",
        "    Normalization-Linear\n",
        "    \"\"\"\n",
        "    def __init__(self, configs):\n",
        "        super(NLinear, self).__init__()\n",
        "        self.seq_len = configs.seq_len\n",
        "        self.pred_len = configs.pred_len\n",
        "        self.Linear = nn.Linear(self.seq_len, self.pred_len)\n",
        "        self.revin_layer = RevIN(configs.enc_in)  # 시간에 따라 변하는 시계열의 평균과 분산을 스케일링\n",
        "        # Use this line if you want to visualize the weights\n",
        "        # self.Linear.weight = nn.Parameter((1/self.seq_len)*torch.ones([self.pred_len,self.seq_len]))\n",
        "\n",
        "    def forward(self, x):\n",
        "        x = self.revin_layer(x, 'norm')\n",
        "        # x: [Batch, Input length, Channel]\n",
        "        seq_last = x[:,-1:,:].detach()\n",
        "        x = x - seq_last\n",
        "        x = self.Linear(x.permute(0,2,1)).permute(0,2,1)\n",
        "        x = x + seq_last\n",
        "        x = self.revin_layer(x, 'denorm')\n",
        "        return x # [Batch, Output length, Channel]"
      ],
      "metadata": {
        "id": "TRdXEBaBLsD5"
      },
      "execution_count": 52,
      "outputs": []
    },
    {
      "cell_type": "markdown",
      "source": [
        "#### 모델 학습 및 검증"
      ],
      "metadata": {
        "id": "ZZAEfg88Lcn5"
      }
    },
    {
      "cell_type": "code",
      "source": [
        "seed_everything(nlinear_args.seed)\n",
        "model = NLinear(nlinear_args)"
      ],
      "metadata": {
        "id": "ZzCydpJVLnph"
      },
      "execution_count": 115,
      "outputs": []
    },
    {
      "cell_type": "code",
      "source": [
        "model, fold_train_losses_per_epoch, fold_valid_losses_per_epoch = holdout_validate(model, Xs_train, ys_train, Xs_val, ys_val,\n",
        "                                                                                   loss_fn, early_stopping, DEVICE, nlinear_args)"
      ],
      "metadata": {
        "colab": {
          "base_uri": "https://localhost:8080/",
          "height": 323,
          "referenced_widgets": [
            "beb9f42b7778453b92600b2c08ed25c8",
            "08a935d2169e4f7d8f23032491387c24",
            "517b83ed7db048dd8cd10fb481447327",
            "a3aae0be370045f4940ce2c1b8e6ce00",
            "ee07f87b46514c0db1b720fa805785cd",
            "7686578b756946168024d7744a7dbbf5",
            "46888522133c4e4081d6229f511e21f4",
            "dbeeed63f17342fab2de501e360bece7",
            "e28c9633cbb64b77b1bbbec4f1cd2cd5",
            "783856274837485a8281fd7d9b9ed31e",
            "07bf3893ff7c41a1829e627f196ca317"
          ]
        },
        "id": "4xuGGGkeLqKK",
        "outputId": "40f008bc-2725-4ce3-e3ce-920281679062"
      },
      "execution_count": 116,
      "outputs": [
        {
          "output_type": "stream",
          "name": "stdout",
          "text": [
            "[1 / 1] Fold Training......\n"
          ]
        },
        {
          "output_type": "display_data",
          "data": {
            "text/plain": [
              "  0%|          | 0/60 [00:00<?, ?it/s]"
            ],
            "application/vnd.jupyter.widget-view+json": {
              "version_major": 2,
              "version_minor": 0,
              "model_id": "beb9f42b7778453b92600b2c08ed25c8"
            }
          },
          "metadata": {}
        },
        {
          "output_type": "stream",
          "name": "stdout",
          "text": [
            "[Epoch:  1]  train loss = 0.09256  valid loss = 0.07929  valid MAE = 102.84707\n",
            "[Epoch:  5]  train loss = 0.07264  valid loss = 0.07082  valid MAE = 91.87332\n",
            "[Epoch: 10]  train loss = 0.07072  valid loss = 0.06940  valid MAE = 90.02496\n",
            "[Epoch: 15]  train loss = 0.07035  valid loss = 0.06909  valid MAE = 89.62687\n",
            "[Epoch: 20]  train loss = 0.07021  valid loss = 0.06900  valid MAE = 89.51166\n",
            "[Epoch: 25]  train loss = 0.07014  valid loss = 0.06896  valid MAE = 89.46518\n",
            "[Epoch: 30]  train loss = 0.07009  valid loss = 0.06894  valid MAE = 89.43128\n",
            "[Epoch: 35]  train loss = 0.07005  valid loss = 0.06891  valid MAE = 89.40037\n",
            "[Epoch: 40]  train loss = 0.07002  valid loss = 0.06890  valid MAE = 89.37800\n",
            "[Epoch: 45]  train loss = 0.07000  valid loss = 0.06889  valid MAE = 89.36884\n",
            "[Epoch: 50]  train loss = 0.06999  valid loss = 0.06888  valid MAE = 89.35549\n",
            "[Epoch: 55]  train loss = 0.06997  valid loss = 0.06887  valid MAE = 89.34390\n",
            "[Epoch: 60]  train loss = 0.06996  valid loss = 0.06887  valid MAE = 89.34143\n",
            "1 Fold -> Valid Loss: 0.06887  Valid MAE: 89.34143\n"
          ]
        }
      ]
    },
    {
      "cell_type": "code",
      "source": [
        "show_loss_plot(fold_train_losses_per_epoch, fold_valid_losses_per_epoch)"
      ],
      "metadata": {
        "colab": {
          "base_uri": "https://localhost:8080/",
          "height": 320
        },
        "id": "Mkh02vAb3ubc",
        "outputId": "14772b64-5480-4faf-96ba-b35619347576"
      },
      "execution_count": 117,
      "outputs": [
        {
          "output_type": "display_data",
          "data": {
            "text/plain": [
              "<Figure size 864x288 with 1 Axes>"
            ],
            "image/png": "[encoded data removed]"
          },
          "metadata": {}
        }
      ]
    },
    {
      "cell_type": "markdown",
      "source": [
        "#### Test 예측"
      ],
      "metadata": {
        "id": "pt4WcdahLg9Z"
      }
    },
    {
      "cell_type": "code",
      "source": [
        "flow_scaled_all = np.concatenate([flow_scaled[-nlinear_args.window:], flow_scaled_test])  # train + test\n",
        "Xs_test = ts_test2supervised(flow_scaled_all, window=nlinear_args.window)   "
      ],
      "metadata": {
        "id": "MPrBE6T0OU0i"
      },
      "execution_count": 118,
      "outputs": []
    },
    {
      "cell_type": "code",
      "source": [
        "preds = predict(model, Xs_test, DEVICE, nlinear_args)"
      ],
      "metadata": {
        "colab": {
          "base_uri": "https://localhost:8080/",
          "height": 49,
          "referenced_widgets": [
            "b83bab49873b4001b34db51325aac1ac",
            "5015d56fb1ab4d3c8317a79b904468d3",
            "c39411910c0943c7aa6be2c65ab9d42a",
            "0cf5711bc56d479e9b9fc2f066b2d346",
            "f2c007bdcc394ab780fc4063f61b2ad7",
            "da274a15592e4cadb1f9f814b1d0b3e5",
            "e3b1bd588feb4f0bb3993a2721177c58",
            "e58a72945dda42648532056721a3a4e9",
            "08a02e69ec0041f6997dbc7c1e260541",
            "291945d5bb8d4157b619496add6a0e01",
            "b903718222f746ad9de518ed7f666e8d"
          ]
        },
        "id": "EnTydPTda09_",
        "outputId": "2f5a3299-0e82-41df-ca58-f5153787519e"
      },
      "execution_count": 119,
      "outputs": [
        {
          "output_type": "display_data",
          "data": {
            "text/plain": [
              "  0%|          | 0/3 [00:00<?, ?it/s]"
            ],
            "application/vnd.jupyter.widget-view+json": {
              "version_major": 2,
              "version_minor": 0,
              "model_id": "b83bab49873b4001b34db51325aac1ac"
            }
          },
          "metadata": {}
        }
      ]
    },
    {
      "cell_type": "code",
      "source": [
        "preds = minmax_scaler.inverse_transform(preds)\n",
        "submission.loc[:, 'h0':'h335'] = postprocessing(preds, MIN, MAX)\n",
        "# submission.to_csv(f'./data/submission_city_{nlinear_args.model_name}.csv', index=False)"
      ],
      "metadata": {
        "id": "WVjbY_FILmGp"
      },
      "execution_count": 120,
      "outputs": []
    },
    {
      "cell_type": "markdown",
      "source": [
        "- 성능 확인"
      ],
      "metadata": {
        "id": "qeQ8r42zMr8q"
      }
    },
    {
      "cell_type": "code",
      "source": [
        "tmp = test.copy()\n",
        "for w in range(1, 336):\n",
        "    tmp[f'flow{w}'] = tmp['flow'].shift(-w)\n",
        "\n",
        "y_hat = submission.loc[:, 'h0':'h335'].to_numpy()[:8089]\n",
        "tmp = tmp.dropna().loc[:, 'flow':'flow335'].to_numpy()\n",
        "mean_absolute_error(tmp, y_hat)"
      ],
      "metadata": {
        "colab": {
          "base_uri": "https://localhost:8080/"
        },
        "id": "SvZYThTqMs-5",
        "outputId": "61654c29-a269-4084-e9f3-413f1592bf4b"
      },
      "execution_count": 121,
      "outputs": [
        {
          "output_type": "execute_result",
          "data": {
            "text/plain": [
              "89.81283923199642"
            ]
          },
          "metadata": {},
          "execution_count": 121
        }
      ]
    },
    {
      "cell_type": "code",
      "source": [],
      "metadata": {
        "id": "l-7zhF7JKFUf"
      },
      "execution_count": null,
      "outputs": []
    }
  ],
  "metadata": {
    "colab": {
      "provenance": [],
      "toc_visible": true,
      "collapsed_sections": [
        "vRw8WNzinSZe"
      ],
      "include_colab_link": true
    },
    "gpuClass": "standard",
    "kernelspec": {
      "display_name": "Python 3 (ipykernel)",
      "language": "python",
      "name": "python3"
    },
    "language_info": {
      "codemirror_mode": {
        "name": "ipython",
        "version": 3
      },
      "file_extension": ".py",
      "mimetype": "text/x-python",
      "name": "python",
      "nbconvert_exporter": "python",
      "pygments_lexer": "ipython3",
      "version": "3.8.11"
    },
    "widgets": {
      "application/vnd.jupyter.widget-state+json": {
        "0b5c0fd4c4b24b71a5eebf23bc915cd7": {
          "model_module": "@jupyter-widgets/controls",
          "model_name": "HBoxModel",
          "model_module_version": "1.5.0",
          "state": {
            "_dom_classes": [],
            "_model_module": "@jupyter-widgets/controls",
            "_model_module_version": "1.5.0",
            "_model_name": "HBoxModel",
            "_view_count": null,
            "_view_module": "@jupyter-widgets/controls",
            "_view_module_version": "1.5.0",
            "_view_name": "HBoxView",
            "box_style": "",
            "children": [
              "IPY_MODEL_ccf206c05130425d81bc45b0f66ffd65",
              "IPY_MODEL_6d119f93804540cd9b7e6d9f6121eef3",
              "IPY_MODEL_d7a8f392f4e54d959eee09257083a52b"
            ],
            "layout": "IPY_MODEL_fd36bcf37e4c45479e389b4b0710336a"
          }
        },
        "ccf206c05130425d81bc45b0f66ffd65": {
          "model_module": "@jupyter-widgets/controls",
          "model_name": "HTMLModel",
          "model_module_version": "1.5.0",
          "state": {
            "_dom_classes": [],
            "_model_module": "@jupyter-widgets/controls",
            "_model_module_version": "1.5.0",
            "_model_name": "HTMLModel",
            "_view_count": null,
            "_view_module": "@jupyter-widgets/controls",
            "_view_module_version": "1.5.0",
            "_view_name": "HTMLView",
            "description": "",
            "description_tooltip": null,
            "layout": "IPY_MODEL_e2a59dcf749f4d33827f30fdc3b77fa1",
            "placeholder": "​",
            "style": "IPY_MODEL_aae51dd4c08045168f7005aa1a2022e2",
            "value": " 23%"
          }
        },
        "6d119f93804540cd9b7e6d9f6121eef3": {
          "model_module": "@jupyter-widgets/controls",
          "model_name": "FloatProgressModel",
          "model_module_version": "1.5.0",
          "state": {
            "_dom_classes": [],
            "_model_module": "@jupyter-widgets/controls",
            "_model_module_version": "1.5.0",
            "_model_name": "FloatProgressModel",
            "_view_count": null,
            "_view_module": "@jupyter-widgets/controls",
            "_view_module_version": "1.5.0",
            "_view_name": "ProgressView",
            "bar_style": "danger",
            "description": "",
            "description_tooltip": null,
            "layout": "IPY_MODEL_5d73d90a981644c78bfe174bf4d9abe4",
            "max": 60,
            "min": 0,
            "orientation": "horizontal",
            "style": "IPY_MODEL_36e2f067f9d9491ca0f7ebf98585c9dc",
            "value": 14
          }
        },
        "d7a8f392f4e54d959eee09257083a52b": {
          "model_module": "@jupyter-widgets/controls",
          "model_name": "HTMLModel",
          "model_module_version": "1.5.0",
          "state": {
            "_dom_classes": [],
            "_model_module": "@jupyter-widgets/controls",
            "_model_module_version": "1.5.0",
            "_model_name": "HTMLModel",
            "_view_count": null,
            "_view_module": "@jupyter-widgets/controls",
            "_view_module_version": "1.5.0",
            "_view_name": "HTMLView",
            "description": "",
            "description_tooltip": null,
            "layout": "IPY_MODEL_cbbbd5f2404c4a6aacf7e87745d0b888",
            "placeholder": "​",
            "style": "IPY_MODEL_27367c081af7414db0fa54864f340a57",
            "value": " 14/60 [06:57&lt;21:32, 28.10s/it]"
          }
        },
        "fd36bcf37e4c45479e389b4b0710336a": {
          "model_module": "@jupyter-widgets/base",
          "model_name": "LayoutModel",
          "model_module_version": "1.2.0",
          "state": {
            "_model_module": "@jupyter-widgets/base",
            "_model_module_version": "1.2.0",
            "_model_name": "LayoutModel",
            "_view_count": null,
            "_view_module": "@jupyter-widgets/base",
            "_view_module_version": "1.2.0",
            "_view_name": "LayoutView",
            "align_content": null,
            "align_items": null,
            "align_self": null,
            "border": null,
            "bottom": null,
            "display": null,
            "flex": null,
            "flex_flow": null,
            "grid_area": null,
            "grid_auto_columns": null,
            "grid_auto_flow": null,
            "grid_auto_rows": null,
            "grid_column": null,
            "grid_gap": null,
            "grid_row": null,
            "grid_template_areas": null,
            "grid_template_columns": null,
            "grid_template_rows": null,
            "height": null,
            "justify_content": null,
            "justify_items": null,
            "left": null,
            "margin": null,
            "max_height": null,
            "max_width": null,
            "min_height": null,
            "min_width": null,
            "object_fit": null,
            "object_position": null,
            "order": null,
            "overflow": null,
            "overflow_x": null,
            "overflow_y": null,
            "padding": null,
            "right": null,
            "top": null,
            "visibility": null,
            "width": null
          }
        },
        "e2a59dcf749f4d33827f30fdc3b77fa1": {
          "model_module": "@jupyter-widgets/base",
          "model_name": "LayoutModel",
          "model_module_version": "1.2.0",
          "state": {
            "_model_module": "@jupyter-widgets/base",
            "_model_module_version": "1.2.0",
            "_model_name": "LayoutModel",
            "_view_count": null,
            "_view_module": "@jupyter-widgets/base",
            "_view_module_version": "1.2.0",
            "_view_name": "LayoutView",
            "align_content": null,
            "align_items": null,
            "align_self": null,
            "border": null,
            "bottom": null,
            "display": null,
            "flex": null,
            "flex_flow": null,
            "grid_area": null,
            "grid_auto_columns": null,
            "grid_auto_flow": null,
            "grid_auto_rows": null,
            "grid_column": null,
            "grid_gap": null,
            "grid_row": null,
            "grid_template_areas": null,
            "grid_template_columns": null,
            "grid_template_rows": null,
            "height": null,
            "justify_content": null,
            "justify_items": null,
            "left": null,
            "margin": null,
            "max_height": null,
            "max_width": null,
            "min_height": null,
            "min_width": null,
            "object_fit": null,
            "object_position": null,
            "order": null,
            "overflow": null,
            "overflow_x": null,
            "overflow_y": null,
            "padding": null,
            "right": null,
            "top": null,
            "visibility": null,
            "width": null
          }
        },
        "aae51dd4c08045168f7005aa1a2022e2": {
          "model_module": "@jupyter-widgets/controls",
          "model_name": "DescriptionStyleModel",
          "model_module_version": "1.5.0",
          "state": {
            "_model_module": "@jupyter-widgets/controls",
            "_model_module_version": "1.5.0",
            "_model_name": "DescriptionStyleModel",
            "_view_count": null,
            "_view_module": "@jupyter-widgets/base",
            "_view_module_version": "1.2.0",
            "_view_name": "StyleView",
            "description_width": ""
          }
        },
        "5d73d90a981644c78bfe174bf4d9abe4": {
          "model_module": "@jupyter-widgets/base",
          "model_name": "LayoutModel",
          "model_module_version": "1.2.0",
          "state": {
            "_model_module": "@jupyter-widgets/base",
            "_model_module_version": "1.2.0",
            "_model_name": "LayoutModel",
            "_view_count": null,
            "_view_module": "@jupyter-widgets/base",
            "_view_module_version": "1.2.0",
            "_view_name": "LayoutView",
            "align_content": null,
            "align_items": null,
            "align_self": null,
            "border": null,
            "bottom": null,
            "display": null,
            "flex": null,
            "flex_flow": null,
            "grid_area": null,
            "grid_auto_columns": null,
            "grid_auto_flow": null,
            "grid_auto_rows": null,
            "grid_column": null,
            "grid_gap": null,
            "grid_row": null,
            "grid_template_areas": null,
            "grid_template_columns": null,
            "grid_template_rows": null,
            "height": null,
            "justify_content": null,
            "justify_items": null,
            "left": null,
            "margin": null,
            "max_height": null,
            "max_width": null,
            "min_height": null,
            "min_width": null,
            "object_fit": null,
            "object_position": null,
            "order": null,
            "overflow": null,
            "overflow_x": null,
            "overflow_y": null,
            "padding": null,
            "right": null,
            "top": null,
            "visibility": null,
            "width": null
          }
        },
        "36e2f067f9d9491ca0f7ebf98585c9dc": {
          "model_module": "@jupyter-widgets/controls",
          "model_name": "ProgressStyleModel",
          "model_module_version": "1.5.0",
          "state": {
            "_model_module": "@jupyter-widgets/controls",
            "_model_module_version": "1.5.0",
            "_model_name": "ProgressStyleModel",
            "_view_count": null,
            "_view_module": "@jupyter-widgets/base",
            "_view_module_version": "1.2.0",
            "_view_name": "StyleView",
            "bar_color": null,
            "description_width": ""
          }
        },
        "cbbbd5f2404c4a6aacf7e87745d0b888": {
          "model_module": "@jupyter-widgets/base",
          "model_name": "LayoutModel",
          "model_module_version": "1.2.0",
          "state": {
            "_model_module": "@jupyter-widgets/base",
            "_model_module_version": "1.2.0",
            "_model_name": "LayoutModel",
            "_view_count": null,
            "_view_module": "@jupyter-widgets/base",
            "_view_module_version": "1.2.0",
            "_view_name": "LayoutView",
            "align_content": null,
            "align_items": null,
            "align_self": null,
            "border": null,
            "bottom": null,
            "display": null,
            "flex": null,
            "flex_flow": null,
            "grid_area": null,
            "grid_auto_columns": null,
            "grid_auto_flow": null,
            "grid_auto_rows": null,
            "grid_column": null,
            "grid_gap": null,
            "grid_row": null,
            "grid_template_areas": null,
            "grid_template_columns": null,
            "grid_template_rows": null,
            "height": null,
            "justify_content": null,
            "justify_items": null,
            "left": null,
            "margin": null,
            "max_height": null,
            "max_width": null,
            "min_height": null,
            "min_width": null,
            "object_fit": null,
            "object_position": null,
            "order": null,
            "overflow": null,
            "overflow_x": null,
            "overflow_y": null,
            "padding": null,
            "right": null,
            "top": null,
            "visibility": null,
            "width": null
          }
        },
        "27367c081af7414db0fa54864f340a57": {
          "model_module": "@jupyter-widgets/controls",
          "model_name": "DescriptionStyleModel",
          "model_module_version": "1.5.0",
          "state": {
            "_model_module": "@jupyter-widgets/controls",
            "_model_module_version": "1.5.0",
            "_model_name": "DescriptionStyleModel",
            "_view_count": null,
            "_view_module": "@jupyter-widgets/base",
            "_view_module_version": "1.2.0",
            "_view_name": "StyleView",
            "description_width": ""
          }
        },
        "aaf7d5235d4545938b1495bfc28fd02c": {
          "model_module": "@jupyter-widgets/controls",
          "model_name": "HBoxModel",
          "model_module_version": "1.5.0",
          "state": {
            "_dom_classes": [],
            "_model_module": "@jupyter-widgets/controls",
            "_model_module_version": "1.5.0",
            "_model_name": "HBoxModel",
            "_view_count": null,
            "_view_module": "@jupyter-widgets/controls",
            "_view_module_version": "1.5.0",
            "_view_name": "HBoxView",
            "box_style": "",
            "children": [
              "IPY_MODEL_10b5a2816c964d2ebf6c847a33a4e750",
              "IPY_MODEL_d291e6d0b6e1440c88deb8f0deff75ba",
              "IPY_MODEL_33dd20e3539d444d97fad9309f4593fa"
            ],
            "layout": "IPY_MODEL_4c74d9beea354af8817ba92017c27d16"
          }
        },
        "10b5a2816c964d2ebf6c847a33a4e750": {
          "model_module": "@jupyter-widgets/controls",
          "model_name": "HTMLModel",
          "model_module_version": "1.5.0",
          "state": {
            "_dom_classes": [],
            "_model_module": "@jupyter-widgets/controls",
            "_model_module_version": "1.5.0",
            "_model_name": "HTMLModel",
            "_view_count": null,
            "_view_module": "@jupyter-widgets/controls",
            "_view_module_version": "1.5.0",
            "_view_name": "HTMLView",
            "description": "",
            "description_tooltip": null,
            "layout": "IPY_MODEL_a9eb862948c74104b7e387990b60af26",
            "placeholder": "​",
            "style": "IPY_MODEL_96a7d47025454d3585b073ee494f3053",
            "value": "100%"
          }
        },
        "d291e6d0b6e1440c88deb8f0deff75ba": {
          "model_module": "@jupyter-widgets/controls",
          "model_name": "FloatProgressModel",
          "model_module_version": "1.5.0",
          "state": {
            "_dom_classes": [],
            "_model_module": "@jupyter-widgets/controls",
            "_model_module_version": "1.5.0",
            "_model_name": "FloatProgressModel",
            "_view_count": null,
            "_view_module": "@jupyter-widgets/controls",
            "_view_module_version": "1.5.0",
            "_view_name": "ProgressView",
            "bar_style": "success",
            "description": "",
            "description_tooltip": null,
            "layout": "IPY_MODEL_5c5e92a1e1a64bf3a841e6571ba07767",
            "max": 4,
            "min": 0,
            "orientation": "horizontal",
            "style": "IPY_MODEL_c78b7c5704aa418ca798477b0f29e74c",
            "value": 4
          }
        },
        "33dd20e3539d444d97fad9309f4593fa": {
          "model_module": "@jupyter-widgets/controls",
          "model_name": "HTMLModel",
          "model_module_version": "1.5.0",
          "state": {
            "_dom_classes": [],
            "_model_module": "@jupyter-widgets/controls",
            "_model_module_version": "1.5.0",
            "_model_name": "HTMLModel",
            "_view_count": null,
            "_view_module": "@jupyter-widgets/controls",
            "_view_module_version": "1.5.0",
            "_view_name": "HTMLView",
            "description": "",
            "description_tooltip": null,
            "layout": "IPY_MODEL_ac4d27189eb84a0394707f9752513ede",
            "placeholder": "​",
            "style": "IPY_MODEL_36bbdb037f2c499b8bdf24601e64803a",
            "value": " 4/4 [00:05&lt;00:00,  1.88s/it]"
          }
        },
        "4c74d9beea354af8817ba92017c27d16": {
          "model_module": "@jupyter-widgets/base",
          "model_name": "LayoutModel",
          "model_module_version": "1.2.0",
          "state": {
            "_model_module": "@jupyter-widgets/base",
            "_model_module_version": "1.2.0",
            "_model_name": "LayoutModel",
            "_view_count": null,
            "_view_module": "@jupyter-widgets/base",
            "_view_module_version": "1.2.0",
            "_view_name": "LayoutView",
            "align_content": null,
            "align_items": null,
            "align_self": null,
            "border": null,
            "bottom": null,
            "display": null,
            "flex": null,
            "flex_flow": null,
            "grid_area": null,
            "grid_auto_columns": null,
            "grid_auto_flow": null,
            "grid_auto_rows": null,
            "grid_column": null,
            "grid_gap": null,
            "grid_row": null,
            "grid_template_areas": null,
            "grid_template_columns": null,
            "grid_template_rows": null,
            "height": null,
            "justify_content": null,
            "justify_items": null,
            "left": null,
            "margin": null,
            "max_height": null,
            "max_width": null,
            "min_height": null,
            "min_width": null,
            "object_fit": null,
            "object_position": null,
            "order": null,
            "overflow": null,
            "overflow_x": null,
            "overflow_y": null,
            "padding": null,
            "right": null,
            "top": null,
            "visibility": null,
            "width": null
          }
        },
        "a9eb862948c74104b7e387990b60af26": {
          "model_module": "@jupyter-widgets/base",
          "model_name": "LayoutModel",
          "model_module_version": "1.2.0",
          "state": {
            "_model_module": "@jupyter-widgets/base",
            "_model_module_version": "1.2.0",
            "_model_name": "LayoutModel",
            "_view_count": null,
            "_view_module": "@jupyter-widgets/base",
            "_view_module_version": "1.2.0",
            "_view_name": "LayoutView",
            "align_content": null,
            "align_items": null,
            "align_self": null,
            "border": null,
            "bottom": null,
            "display": null,
            "flex": null,
            "flex_flow": null,
            "grid_area": null,
            "grid_auto_columns": null,
            "grid_auto_flow": null,
            "grid_auto_rows": null,
            "grid_column": null,
            "grid_gap": null,
            "grid_row": null,
            "grid_template_areas": null,
            "grid_template_columns": null,
            "grid_template_rows": null,
            "height": null,
            "justify_content": null,
            "justify_items": null,
            "left": null,
            "margin": null,
            "max_height": null,
            "max_width": null,
            "min_height": null,
            "min_width": null,
            "object_fit": null,
            "object_position": null,
            "order": null,
            "overflow": null,
            "overflow_x": null,
            "overflow_y": null,
            "padding": null,
            "right": null,
            "top": null,
            "visibility": null,
            "width": null
          }
        },
        "96a7d47025454d3585b073ee494f3053": {
          "model_module": "@jupyter-widgets/controls",
          "model_name": "DescriptionStyleModel",
          "model_module_version": "1.5.0",
          "state": {
            "_model_module": "@jupyter-widgets/controls",
            "_model_module_version": "1.5.0",
            "_model_name": "DescriptionStyleModel",
            "_view_count": null,
            "_view_module": "@jupyter-widgets/base",
            "_view_module_version": "1.2.0",
            "_view_name": "StyleView",
            "description_width": ""
          }
        },
        "5c5e92a1e1a64bf3a841e6571ba07767": {
          "model_module": "@jupyter-widgets/base",
          "model_name": "LayoutModel",
          "model_module_version": "1.2.0",
          "state": {
            "_model_module": "@jupyter-widgets/base",
            "_model_module_version": "1.2.0",
            "_model_name": "LayoutModel",
            "_view_count": null,
            "_view_module": "@jupyter-widgets/base",
            "_view_module_version": "1.2.0",
            "_view_name": "LayoutView",
            "align_content": null,
            "align_items": null,
            "align_self": null,
            "border": null,
            "bottom": null,
            "display": null,
            "flex": null,
            "flex_flow": null,
            "grid_area": null,
            "grid_auto_columns": null,
            "grid_auto_flow": null,
            "grid_auto_rows": null,
            "grid_column": null,
            "grid_gap": null,
            "grid_row": null,
            "grid_template_areas": null,
            "grid_template_columns": null,
            "grid_template_rows": null,
            "height": null,
            "justify_content": null,
            "justify_items": null,
            "left": null,
            "margin": null,
            "max_height": null,
            "max_width": null,
            "min_height": null,
            "min_width": null,
            "object_fit": null,
            "object_position": null,
            "order": null,
            "overflow": null,
            "overflow_x": null,
            "overflow_y": null,
            "padding": null,
            "right": null,
            "top": null,
            "visibility": null,
            "width": null
          }
        },
        "c78b7c5704aa418ca798477b0f29e74c": {
          "model_module": "@jupyter-widgets/controls",
          "model_name": "ProgressStyleModel",
          "model_module_version": "1.5.0",
          "state": {
            "_model_module": "@jupyter-widgets/controls",
            "_model_module_version": "1.5.0",
            "_model_name": "ProgressStyleModel",
            "_view_count": null,
            "_view_module": "@jupyter-widgets/base",
            "_view_module_version": "1.2.0",
            "_view_name": "StyleView",
            "bar_color": null,
            "description_width": ""
          }
        },
        "ac4d27189eb84a0394707f9752513ede": {
          "model_module": "@jupyter-widgets/base",
          "model_name": "LayoutModel",
          "model_module_version": "1.2.0",
          "state": {
            "_model_module": "@jupyter-widgets/base",
            "_model_module_version": "1.2.0",
            "_model_name": "LayoutModel",
            "_view_count": null,
            "_view_module": "@jupyter-widgets/base",
            "_view_module_version": "1.2.0",
            "_view_name": "LayoutView",
            "align_content": null,
            "align_items": null,
            "align_self": null,
            "border": null,
            "bottom": null,
            "display": null,
            "flex": null,
            "flex_flow": null,
            "grid_area": null,
            "grid_auto_columns": null,
            "grid_auto_flow": null,
            "grid_auto_rows": null,
            "grid_column": null,
            "grid_gap": null,
            "grid_row": null,
            "grid_template_areas": null,
            "grid_template_columns": null,
            "grid_template_rows": null,
            "height": null,
            "justify_content": null,
            "justify_items": null,
            "left": null,
            "margin": null,
            "max_height": null,
            "max_width": null,
            "min_height": null,
            "min_width": null,
            "object_fit": null,
            "object_position": null,
            "order": null,
            "overflow": null,
            "overflow_x": null,
            "overflow_y": null,
            "padding": null,
            "right": null,
            "top": null,
            "visibility": null,
            "width": null
          }
        },
        "36bbdb037f2c499b8bdf24601e64803a": {
          "model_module": "@jupyter-widgets/controls",
          "model_name": "DescriptionStyleModel",
          "model_module_version": "1.5.0",
          "state": {
            "_model_module": "@jupyter-widgets/controls",
            "_model_module_version": "1.5.0",
            "_model_name": "DescriptionStyleModel",
            "_view_count": null,
            "_view_module": "@jupyter-widgets/base",
            "_view_module_version": "1.2.0",
            "_view_name": "StyleView",
            "description_width": ""
          }
        },
        "bbff148ca9d840e285427b6bcabf182d": {
          "model_module": "@jupyter-widgets/controls",
          "model_name": "HBoxModel",
          "model_module_version": "1.5.0",
          "state": {
            "_dom_classes": [],
            "_model_module": "@jupyter-widgets/controls",
            "_model_module_version": "1.5.0",
            "_model_name": "HBoxModel",
            "_view_count": null,
            "_view_module": "@jupyter-widgets/controls",
            "_view_module_version": "1.5.0",
            "_view_name": "HBoxView",
            "box_style": "",
            "children": [
              "IPY_MODEL_5f460df6698a4711951c463f33bb2a72",
              "IPY_MODEL_c2cbd8b02d0c496badeb30f70e76faff",
              "IPY_MODEL_b12f8becd105491485c4424e237bbf86"
            ],
            "layout": "IPY_MODEL_333c466c8485493f8c36e00e46cce343"
          }
        },
        "5f460df6698a4711951c463f33bb2a72": {
          "model_module": "@jupyter-widgets/controls",
          "model_name": "HTMLModel",
          "model_module_version": "1.5.0",
          "state": {
            "_dom_classes": [],
            "_model_module": "@jupyter-widgets/controls",
            "_model_module_version": "1.5.0",
            "_model_name": "HTMLModel",
            "_view_count": null,
            "_view_module": "@jupyter-widgets/controls",
            "_view_module_version": "1.5.0",
            "_view_name": "HTMLView",
            "description": "",
            "description_tooltip": null,
            "layout": "IPY_MODEL_d252a5ff63af4da895c95adbb2211f0e",
            "placeholder": "​",
            "style": "IPY_MODEL_95bfff457e7040a58303d918b8cc58fe",
            "value": "100%"
          }
        },
        "c2cbd8b02d0c496badeb30f70e76faff": {
          "model_module": "@jupyter-widgets/controls",
          "model_name": "FloatProgressModel",
          "model_module_version": "1.5.0",
          "state": {
            "_dom_classes": [],
            "_model_module": "@jupyter-widgets/controls",
            "_model_module_version": "1.5.0",
            "_model_name": "FloatProgressModel",
            "_view_count": null,
            "_view_module": "@jupyter-widgets/controls",
            "_view_module_version": "1.5.0",
            "_view_name": "ProgressView",
            "bar_style": "success",
            "description": "",
            "description_tooltip": null,
            "layout": "IPY_MODEL_acb5a2942f954360a6603694619ac1f1",
            "max": 60,
            "min": 0,
            "orientation": "horizontal",
            "style": "IPY_MODEL_0639df7fdabb43b294c16328aade78b4",
            "value": 60
          }
        },
        "b12f8becd105491485c4424e237bbf86": {
          "model_module": "@jupyter-widgets/controls",
          "model_name": "HTMLModel",
          "model_module_version": "1.5.0",
          "state": {
            "_dom_classes": [],
            "_model_module": "@jupyter-widgets/controls",
            "_model_module_version": "1.5.0",
            "_model_name": "HTMLModel",
            "_view_count": null,
            "_view_module": "@jupyter-widgets/controls",
            "_view_module_version": "1.5.0",
            "_view_name": "HTMLView",
            "description": "",
            "description_tooltip": null,
            "layout": "IPY_MODEL_aa39d3d2c7c843b1914694091e1ff039",
            "placeholder": "​",
            "style": "IPY_MODEL_3a574eabc9294d6e84c8cdeecbf619e2",
            "value": " 60/60 [06:06&lt;00:00,  5.94s/it]"
          }
        },
        "333c466c8485493f8c36e00e46cce343": {
          "model_module": "@jupyter-widgets/base",
          "model_name": "LayoutModel",
          "model_module_version": "1.2.0",
          "state": {
            "_model_module": "@jupyter-widgets/base",
            "_model_module_version": "1.2.0",
            "_model_name": "LayoutModel",
            "_view_count": null,
            "_view_module": "@jupyter-widgets/base",
            "_view_module_version": "1.2.0",
            "_view_name": "LayoutView",
            "align_content": null,
            "align_items": null,
            "align_self": null,
            "border": null,
            "bottom": null,
            "display": null,
            "flex": null,
            "flex_flow": null,
            "grid_area": null,
            "grid_auto_columns": null,
            "grid_auto_flow": null,
            "grid_auto_rows": null,
            "grid_column": null,
            "grid_gap": null,
            "grid_row": null,
            "grid_template_areas": null,
            "grid_template_columns": null,
            "grid_template_rows": null,
            "height": null,
            "justify_content": null,
            "justify_items": null,
            "left": null,
            "margin": null,
            "max_height": null,
            "max_width": null,
            "min_height": null,
            "min_width": null,
            "object_fit": null,
            "object_position": null,
            "order": null,
            "overflow": null,
            "overflow_x": null,
            "overflow_y": null,
            "padding": null,
            "right": null,
            "top": null,
            "visibility": null,
            "width": null
          }
        },
        "d252a5ff63af4da895c95adbb2211f0e": {
          "model_module": "@jupyter-widgets/base",
          "model_name": "LayoutModel",
          "model_module_version": "1.2.0",
          "state": {
            "_model_module": "@jupyter-widgets/base",
            "_model_module_version": "1.2.0",
            "_model_name": "LayoutModel",
            "_view_count": null,
            "_view_module": "@jupyter-widgets/base",
            "_view_module_version": "1.2.0",
            "_view_name": "LayoutView",
            "align_content": null,
            "align_items": null,
            "align_self": null,
            "border": null,
            "bottom": null,
            "display": null,
            "flex": null,
            "flex_flow": null,
            "grid_area": null,
            "grid_auto_columns": null,
            "grid_auto_flow": null,
            "grid_auto_rows": null,
            "grid_column": null,
            "grid_gap": null,
            "grid_row": null,
            "grid_template_areas": null,
            "grid_template_columns": null,
            "grid_template_rows": null,
            "height": null,
            "justify_content": null,
            "justify_items": null,
            "left": null,
            "margin": null,
            "max_height": null,
            "max_width": null,
            "min_height": null,
            "min_width": null,
            "object_fit": null,
            "object_position": null,
            "order": null,
            "overflow": null,
            "overflow_x": null,
            "overflow_y": null,
            "padding": null,
            "right": null,
            "top": null,
            "visibility": null,
            "width": null
          }
        },
        "95bfff457e7040a58303d918b8cc58fe": {
          "model_module": "@jupyter-widgets/controls",
          "model_name": "DescriptionStyleModel",
          "model_module_version": "1.5.0",
          "state": {
            "_model_module": "@jupyter-widgets/controls",
            "_model_module_version": "1.5.0",
            "_model_name": "DescriptionStyleModel",
            "_view_count": null,
            "_view_module": "@jupyter-widgets/base",
            "_view_module_version": "1.2.0",
            "_view_name": "StyleView",
            "description_width": ""
          }
        },
        "acb5a2942f954360a6603694619ac1f1": {
          "model_module": "@jupyter-widgets/base",
          "model_name": "LayoutModel",
          "model_module_version": "1.2.0",
          "state": {
            "_model_module": "@jupyter-widgets/base",
            "_model_module_version": "1.2.0",
            "_model_name": "LayoutModel",
            "_view_count": null,
            "_view_module": "@jupyter-widgets/base",
            "_view_module_version": "1.2.0",
            "_view_name": "LayoutView",
            "align_content": null,
            "align_items": null,
            "align_self": null,
            "border": null,
            "bottom": null,
            "display": null,
            "flex": null,
            "flex_flow": null,
            "grid_area": null,
            "grid_auto_columns": null,
            "grid_auto_flow": null,
            "grid_auto_rows": null,
            "grid_column": null,
            "grid_gap": null,
            "grid_row": null,
            "grid_template_areas": null,
            "grid_template_columns": null,
            "grid_template_rows": null,
            "height": null,
            "justify_content": null,
            "justify_items": null,
            "left": null,
            "margin": null,
            "max_height": null,
            "max_width": null,
            "min_height": null,
            "min_width": null,
            "object_fit": null,
            "object_position": null,
            "order": null,
            "overflow": null,
            "overflow_x": null,
            "overflow_y": null,
            "padding": null,
            "right": null,
            "top": null,
            "visibility": null,
            "width": null
          }
        },
        "0639df7fdabb43b294c16328aade78b4": {
          "model_module": "@jupyter-widgets/controls",
          "model_name": "ProgressStyleModel",
          "model_module_version": "1.5.0",
          "state": {
            "_model_module": "@jupyter-widgets/controls",
            "_model_module_version": "1.5.0",
            "_model_name": "ProgressStyleModel",
            "_view_count": null,
            "_view_module": "@jupyter-widgets/base",
            "_view_module_version": "1.2.0",
            "_view_name": "StyleView",
            "bar_color": null,
            "description_width": ""
          }
        },
        "aa39d3d2c7c843b1914694091e1ff039": {
          "model_module": "@jupyter-widgets/base",
          "model_name": "LayoutModel",
          "model_module_version": "1.2.0",
          "state": {
            "_model_module": "@jupyter-widgets/base",
            "_model_module_version": "1.2.0",
            "_model_name": "LayoutModel",
            "_view_count": null,
            "_view_module": "@jupyter-widgets/base",
            "_view_module_version": "1.2.0",
            "_view_name": "LayoutView",
            "align_content": null,
            "align_items": null,
            "align_self": null,
            "border": null,
            "bottom": null,
            "display": null,
            "flex": null,
            "flex_flow": null,
            "grid_area": null,
            "grid_auto_columns": null,
            "grid_auto_flow": null,
            "grid_auto_rows": null,
            "grid_column": null,
            "grid_gap": null,
            "grid_row": null,
            "grid_template_areas": null,
            "grid_template_columns": null,
            "grid_template_rows": null,
            "height": null,
            "justify_content": null,
            "justify_items": null,
            "left": null,
            "margin": null,
            "max_height": null,
            "max_width": null,
            "min_height": null,
            "min_width": null,
            "object_fit": null,
            "object_position": null,
            "order": null,
            "overflow": null,
            "overflow_x": null,
            "overflow_y": null,
            "padding": null,
            "right": null,
            "top": null,
            "visibility": null,
            "width": null
          }
        },
        "3a574eabc9294d6e84c8cdeecbf619e2": {
          "model_module": "@jupyter-widgets/controls",
          "model_name": "DescriptionStyleModel",
          "model_module_version": "1.5.0",
          "state": {
            "_model_module": "@jupyter-widgets/controls",
            "_model_module_version": "1.5.0",
            "_model_name": "DescriptionStyleModel",
            "_view_count": null,
            "_view_module": "@jupyter-widgets/base",
            "_view_module_version": "1.2.0",
            "_view_name": "StyleView",
            "description_width": ""
          }
        },
        "47f55dd25e8c413d96e86d4582a3ea75": {
          "model_module": "@jupyter-widgets/controls",
          "model_name": "HBoxModel",
          "model_module_version": "1.5.0",
          "state": {
            "_dom_classes": [],
            "_model_module": "@jupyter-widgets/controls",
            "_model_module_version": "1.5.0",
            "_model_name": "HBoxModel",
            "_view_count": null,
            "_view_module": "@jupyter-widgets/controls",
            "_view_module_version": "1.5.0",
            "_view_name": "HBoxView",
            "box_style": "",
            "children": [
              "IPY_MODEL_af3e0f361a054741b4eee8a8a8f45a55",
              "IPY_MODEL_406596c13e544d529775933edacf5b58",
              "IPY_MODEL_31551fdc3b614ee086150773b643544f"
            ],
            "layout": "IPY_MODEL_df9d708c984e40cebe17d236f4bce5e1"
          }
        },
        "af3e0f361a054741b4eee8a8a8f45a55": {
          "model_module": "@jupyter-widgets/controls",
          "model_name": "HTMLModel",
          "model_module_version": "1.5.0",
          "state": {
            "_dom_classes": [],
            "_model_module": "@jupyter-widgets/controls",
            "_model_module_version": "1.5.0",
            "_model_name": "HTMLModel",
            "_view_count": null,
            "_view_module": "@jupyter-widgets/controls",
            "_view_module_version": "1.5.0",
            "_view_name": "HTMLView",
            "description": "",
            "description_tooltip": null,
            "layout": "IPY_MODEL_0729ef9b86514c2591384df7f92c0053",
            "placeholder": "​",
            "style": "IPY_MODEL_996de05611f44978ac7c1276890a7db6",
            "value": "100%"
          }
        },
        "406596c13e544d529775933edacf5b58": {
          "model_module": "@jupyter-widgets/controls",
          "model_name": "FloatProgressModel",
          "model_module_version": "1.5.0",
          "state": {
            "_dom_classes": [],
            "_model_module": "@jupyter-widgets/controls",
            "_model_module_version": "1.5.0",
            "_model_name": "FloatProgressModel",
            "_view_count": null,
            "_view_module": "@jupyter-widgets/controls",
            "_view_module_version": "1.5.0",
            "_view_name": "ProgressView",
            "bar_style": "success",
            "description": "",
            "description_tooltip": null,
            "layout": "IPY_MODEL_d4f5316ca52a4350812a08efc8cf3a96",
            "max": 4,
            "min": 0,
            "orientation": "horizontal",
            "style": "IPY_MODEL_b6ee695a4faf4222be33f307eb1373be",
            "value": 4
          }
        },
        "31551fdc3b614ee086150773b643544f": {
          "model_module": "@jupyter-widgets/controls",
          "model_name": "HTMLModel",
          "model_module_version": "1.5.0",
          "state": {
            "_dom_classes": [],
            "_model_module": "@jupyter-widgets/controls",
            "_model_module_version": "1.5.0",
            "_model_name": "HTMLModel",
            "_view_count": null,
            "_view_module": "@jupyter-widgets/controls",
            "_view_module_version": "1.5.0",
            "_view_name": "HTMLView",
            "description": "",
            "description_tooltip": null,
            "layout": "IPY_MODEL_118d1381106e4081bcaef28ca05be4f9",
            "placeholder": "​",
            "style": "IPY_MODEL_32bdf18b817e440892197fea188c49da",
            "value": " 4/4 [00:02&lt;00:00,  1.52it/s]"
          }
        },
        "df9d708c984e40cebe17d236f4bce5e1": {
          "model_module": "@jupyter-widgets/base",
          "model_name": "LayoutModel",
          "model_module_version": "1.2.0",
          "state": {
            "_model_module": "@jupyter-widgets/base",
            "_model_module_version": "1.2.0",
            "_model_name": "LayoutModel",
            "_view_count": null,
            "_view_module": "@jupyter-widgets/base",
            "_view_module_version": "1.2.0",
            "_view_name": "LayoutView",
            "align_content": null,
            "align_items": null,
            "align_self": null,
            "border": null,
            "bottom": null,
            "display": null,
            "flex": null,
            "flex_flow": null,
            "grid_area": null,
            "grid_auto_columns": null,
            "grid_auto_flow": null,
            "grid_auto_rows": null,
            "grid_column": null,
            "grid_gap": null,
            "grid_row": null,
            "grid_template_areas": null,
            "grid_template_columns": null,
            "grid_template_rows": null,
            "height": null,
            "justify_content": null,
            "justify_items": null,
            "left": null,
            "margin": null,
            "max_height": null,
            "max_width": null,
            "min_height": null,
            "min_width": null,
            "object_fit": null,
            "object_position": null,
            "order": null,
            "overflow": null,
            "overflow_x": null,
            "overflow_y": null,
            "padding": null,
            "right": null,
            "top": null,
            "visibility": null,
            "width": null
          }
        },
        "0729ef9b86514c2591384df7f92c0053": {
          "model_module": "@jupyter-widgets/base",
          "model_name": "LayoutModel",
          "model_module_version": "1.2.0",
          "state": {
            "_model_module": "@jupyter-widgets/base",
            "_model_module_version": "1.2.0",
            "_model_name": "LayoutModel",
            "_view_count": null,
            "_view_module": "@jupyter-widgets/base",
            "_view_module_version": "1.2.0",
            "_view_name": "LayoutView",
            "align_content": null,
            "align_items": null,
            "align_self": null,
            "border": null,
            "bottom": null,
            "display": null,
            "flex": null,
            "flex_flow": null,
            "grid_area": null,
            "grid_auto_columns": null,
            "grid_auto_flow": null,
            "grid_auto_rows": null,
            "grid_column": null,
            "grid_gap": null,
            "grid_row": null,
            "grid_template_areas": null,
            "grid_template_columns": null,
            "grid_template_rows": null,
            "height": null,
            "justify_content": null,
            "justify_items": null,
            "left": null,
            "margin": null,
            "max_height": null,
            "max_width": null,
            "min_height": null,
            "min_width": null,
            "object_fit": null,
            "object_position": null,
            "order": null,
            "overflow": null,
            "overflow_x": null,
            "overflow_y": null,
            "padding": null,
            "right": null,
            "top": null,
            "visibility": null,
            "width": null
          }
        },
        "996de05611f44978ac7c1276890a7db6": {
          "model_module": "@jupyter-widgets/controls",
          "model_name": "DescriptionStyleModel",
          "model_module_version": "1.5.0",
          "state": {
            "_model_module": "@jupyter-widgets/controls",
            "_model_module_version": "1.5.0",
            "_model_name": "DescriptionStyleModel",
            "_view_count": null,
            "_view_module": "@jupyter-widgets/base",
            "_view_module_version": "1.2.0",
            "_view_name": "StyleView",
            "description_width": ""
          }
        },
        "d4f5316ca52a4350812a08efc8cf3a96": {
          "model_module": "@jupyter-widgets/base",
          "model_name": "LayoutModel",
          "model_module_version": "1.2.0",
          "state": {
            "_model_module": "@jupyter-widgets/base",
            "_model_module_version": "1.2.0",
            "_model_name": "LayoutModel",
            "_view_count": null,
            "_view_module": "@jupyter-widgets/base",
            "_view_module_version": "1.2.0",
            "_view_name": "LayoutView",
            "align_content": null,
            "align_items": null,
            "align_self": null,
            "border": null,
            "bottom": null,
            "display": null,
            "flex": null,
            "flex_flow": null,
            "grid_area": null,
            "grid_auto_columns": null,
            "grid_auto_flow": null,
            "grid_auto_rows": null,
            "grid_column": null,
            "grid_gap": null,
            "grid_row": null,
            "grid_template_areas": null,
            "grid_template_columns": null,
            "grid_template_rows": null,
            "height": null,
            "justify_content": null,
            "justify_items": null,
            "left": null,
            "margin": null,
            "max_height": null,
            "max_width": null,
            "min_height": null,
            "min_width": null,
            "object_fit": null,
            "object_position": null,
            "order": null,
            "overflow": null,
            "overflow_x": null,
            "overflow_y": null,
            "padding": null,
            "right": null,
            "top": null,
            "visibility": null,
            "width": null
          }
        },
        "b6ee695a4faf4222be33f307eb1373be": {
          "model_module": "@jupyter-widgets/controls",
          "model_name": "ProgressStyleModel",
          "model_module_version": "1.5.0",
          "state": {
            "_model_module": "@jupyter-widgets/controls",
            "_model_module_version": "1.5.0",
            "_model_name": "ProgressStyleModel",
            "_view_count": null,
            "_view_module": "@jupyter-widgets/base",
            "_view_module_version": "1.2.0",
            "_view_name": "StyleView",
            "bar_color": null,
            "description_width": ""
          }
        },
        "118d1381106e4081bcaef28ca05be4f9": {
          "model_module": "@jupyter-widgets/base",
          "model_name": "LayoutModel",
          "model_module_version": "1.2.0",
          "state": {
            "_model_module": "@jupyter-widgets/base",
            "_model_module_version": "1.2.0",
            "_model_name": "LayoutModel",
            "_view_count": null,
            "_view_module": "@jupyter-widgets/base",
            "_view_module_version": "1.2.0",
            "_view_name": "LayoutView",
            "align_content": null,
            "align_items": null,
            "align_self": null,
            "border": null,
            "bottom": null,
            "display": null,
            "flex": null,
            "flex_flow": null,
            "grid_area": null,
            "grid_auto_columns": null,
            "grid_auto_flow": null,
            "grid_auto_rows": null,
            "grid_column": null,
            "grid_gap": null,
            "grid_row": null,
            "grid_template_areas": null,
            "grid_template_columns": null,
            "grid_template_rows": null,
            "height": null,
            "justify_content": null,
            "justify_items": null,
            "left": null,
            "margin": null,
            "max_height": null,
            "max_width": null,
            "min_height": null,
            "min_width": null,
            "object_fit": null,
            "object_position": null,
            "order": null,
            "overflow": null,
            "overflow_x": null,
            "overflow_y": null,
            "padding": null,
            "right": null,
            "top": null,
            "visibility": null,
            "width": null
          }
        },
        "32bdf18b817e440892197fea188c49da": {
          "model_module": "@jupyter-widgets/controls",
          "model_name": "DescriptionStyleModel",
          "model_module_version": "1.5.0",
          "state": {
            "_model_module": "@jupyter-widgets/controls",
            "_model_module_version": "1.5.0",
            "_model_name": "DescriptionStyleModel",
            "_view_count": null,
            "_view_module": "@jupyter-widgets/base",
            "_view_module_version": "1.2.0",
            "_view_name": "StyleView",
            "description_width": ""
          }
        },
        "a23eaf4a6fda406fa29d7e33c6b3e952": {
          "model_module": "@jupyter-widgets/controls",
          "model_name": "HBoxModel",
          "model_module_version": "1.5.0",
          "state": {
            "_dom_classes": [],
            "_model_module": "@jupyter-widgets/controls",
            "_model_module_version": "1.5.0",
            "_model_name": "HBoxModel",
            "_view_count": null,
            "_view_module": "@jupyter-widgets/controls",
            "_view_module_version": "1.5.0",
            "_view_name": "HBoxView",
            "box_style": "",
            "children": [
              "IPY_MODEL_43305611ed7e41f3a6ba73b4df96b0c6",
              "IPY_MODEL_c37d363e40de4b439638408d3f48cb63",
              "IPY_MODEL_6eaf062fd10c4ab289706a388c4f5546"
            ],
            "layout": "IPY_MODEL_1eccb2a08d1848f79923b96bda8381b1"
          }
        },
        "43305611ed7e41f3a6ba73b4df96b0c6": {
          "model_module": "@jupyter-widgets/controls",
          "model_name": "HTMLModel",
          "model_module_version": "1.5.0",
          "state": {
            "_dom_classes": [],
            "_model_module": "@jupyter-widgets/controls",
            "_model_module_version": "1.5.0",
            "_model_name": "HTMLModel",
            "_view_count": null,
            "_view_module": "@jupyter-widgets/controls",
            "_view_module_version": "1.5.0",
            "_view_name": "HTMLView",
            "description": "",
            "description_tooltip": null,
            "layout": "IPY_MODEL_a3d1be346e4142478a2dbc0a159841d4",
            "placeholder": "​",
            "style": "IPY_MODEL_e8891ebe92c74ebcbf338e8baaca2f3a",
            "value": "100%"
          }
        },
        "c37d363e40de4b439638408d3f48cb63": {
          "model_module": "@jupyter-widgets/controls",
          "model_name": "FloatProgressModel",
          "model_module_version": "1.5.0",
          "state": {
            "_dom_classes": [],
            "_model_module": "@jupyter-widgets/controls",
            "_model_module_version": "1.5.0",
            "_model_name": "FloatProgressModel",
            "_view_count": null,
            "_view_module": "@jupyter-widgets/controls",
            "_view_module_version": "1.5.0",
            "_view_name": "ProgressView",
            "bar_style": "success",
            "description": "",
            "description_tooltip": null,
            "layout": "IPY_MODEL_1b306744496847a68b724208fe441820",
            "max": 100,
            "min": 0,
            "orientation": "horizontal",
            "style": "IPY_MODEL_fee97033354a412480258dacf60625e2",
            "value": 100
          }
        },
        "6eaf062fd10c4ab289706a388c4f5546": {
          "model_module": "@jupyter-widgets/controls",
          "model_name": "HTMLModel",
          "model_module_version": "1.5.0",
          "state": {
            "_dom_classes": [],
            "_model_module": "@jupyter-widgets/controls",
            "_model_module_version": "1.5.0",
            "_model_name": "HTMLModel",
            "_view_count": null,
            "_view_module": "@jupyter-widgets/controls",
            "_view_module_version": "1.5.0",
            "_view_name": "HTMLView",
            "description": "",
            "description_tooltip": null,
            "layout": "IPY_MODEL_e7891f47a6f946d2baeb574956e38ae3",
            "placeholder": "​",
            "style": "IPY_MODEL_a90ed76d5eb9462088b6f0a70908d7a8",
            "value": " 100/100 [04:57&lt;00:00,  2.96s/it]"
          }
        },
        "1eccb2a08d1848f79923b96bda8381b1": {
          "model_module": "@jupyter-widgets/base",
          "model_name": "LayoutModel",
          "model_module_version": "1.2.0",
          "state": {
            "_model_module": "@jupyter-widgets/base",
            "_model_module_version": "1.2.0",
            "_model_name": "LayoutModel",
            "_view_count": null,
            "_view_module": "@jupyter-widgets/base",
            "_view_module_version": "1.2.0",
            "_view_name": "LayoutView",
            "align_content": null,
            "align_items": null,
            "align_self": null,
            "border": null,
            "bottom": null,
            "display": null,
            "flex": null,
            "flex_flow": null,
            "grid_area": null,
            "grid_auto_columns": null,
            "grid_auto_flow": null,
            "grid_auto_rows": null,
            "grid_column": null,
            "grid_gap": null,
            "grid_row": null,
            "grid_template_areas": null,
            "grid_template_columns": null,
            "grid_template_rows": null,
            "height": null,
            "justify_content": null,
            "justify_items": null,
            "left": null,
            "margin": null,
            "max_height": null,
            "max_width": null,
            "min_height": null,
            "min_width": null,
            "object_fit": null,
            "object_position": null,
            "order": null,
            "overflow": null,
            "overflow_x": null,
            "overflow_y": null,
            "padding": null,
            "right": null,
            "top": null,
            "visibility": null,
            "width": null
          }
        },
        "a3d1be346e4142478a2dbc0a159841d4": {
          "model_module": "@jupyter-widgets/base",
          "model_name": "LayoutModel",
          "model_module_version": "1.2.0",
          "state": {
            "_model_module": "@jupyter-widgets/base",
            "_model_module_version": "1.2.0",
            "_model_name": "LayoutModel",
            "_view_count": null,
            "_view_module": "@jupyter-widgets/base",
            "_view_module_version": "1.2.0",
            "_view_name": "LayoutView",
            "align_content": null,
            "align_items": null,
            "align_self": null,
            "border": null,
            "bottom": null,
            "display": null,
            "flex": null,
            "flex_flow": null,
            "grid_area": null,
            "grid_auto_columns": null,
            "grid_auto_flow": null,
            "grid_auto_rows": null,
            "grid_column": null,
            "grid_gap": null,
            "grid_row": null,
            "grid_template_areas": null,
            "grid_template_columns": null,
            "grid_template_rows": null,
            "height": null,
            "justify_content": null,
            "justify_items": null,
            "left": null,
            "margin": null,
            "max_height": null,
            "max_width": null,
            "min_height": null,
            "min_width": null,
            "object_fit": null,
            "object_position": null,
            "order": null,
            "overflow": null,
            "overflow_x": null,
            "overflow_y": null,
            "padding": null,
            "right": null,
            "top": null,
            "visibility": null,
            "width": null
          }
        },
        "e8891ebe92c74ebcbf338e8baaca2f3a": {
          "model_module": "@jupyter-widgets/controls",
          "model_name": "DescriptionStyleModel",
          "model_module_version": "1.5.0",
          "state": {
            "_model_module": "@jupyter-widgets/controls",
            "_model_module_version": "1.5.0",
            "_model_name": "DescriptionStyleModel",
            "_view_count": null,
            "_view_module": "@jupyter-widgets/base",
            "_view_module_version": "1.2.0",
            "_view_name": "StyleView",
            "description_width": ""
          }
        },
        "1b306744496847a68b724208fe441820": {
          "model_module": "@jupyter-widgets/base",
          "model_name": "LayoutModel",
          "model_module_version": "1.2.0",
          "state": {
            "_model_module": "@jupyter-widgets/base",
            "_model_module_version": "1.2.0",
            "_model_name": "LayoutModel",
            "_view_count": null,
            "_view_module": "@jupyter-widgets/base",
            "_view_module_version": "1.2.0",
            "_view_name": "LayoutView",
            "align_content": null,
            "align_items": null,
            "align_self": null,
            "border": null,
            "bottom": null,
            "display": null,
            "flex": null,
            "flex_flow": null,
            "grid_area": null,
            "grid_auto_columns": null,
            "grid_auto_flow": null,
            "grid_auto_rows": null,
            "grid_column": null,
            "grid_gap": null,
            "grid_row": null,
            "grid_template_areas": null,
            "grid_template_columns": null,
            "grid_template_rows": null,
            "height": null,
            "justify_content": null,
            "justify_items": null,
            "left": null,
            "margin": null,
            "max_height": null,
            "max_width": null,
            "min_height": null,
            "min_width": null,
            "object_fit": null,
            "object_position": null,
            "order": null,
            "overflow": null,
            "overflow_x": null,
            "overflow_y": null,
            "padding": null,
            "right": null,
            "top": null,
            "visibility": null,
            "width": null
          }
        },
        "fee97033354a412480258dacf60625e2": {
          "model_module": "@jupyter-widgets/controls",
          "model_name": "ProgressStyleModel",
          "model_module_version": "1.5.0",
          "state": {
            "_model_module": "@jupyter-widgets/controls",
            "_model_module_version": "1.5.0",
            "_model_name": "ProgressStyleModel",
            "_view_count": null,
            "_view_module": "@jupyter-widgets/base",
            "_view_module_version": "1.2.0",
            "_view_name": "StyleView",
            "bar_color": null,
            "description_width": ""
          }
        },
        "e7891f47a6f946d2baeb574956e38ae3": {
          "model_module": "@jupyter-widgets/base",
          "model_name": "LayoutModel",
          "model_module_version": "1.2.0",
          "state": {
            "_model_module": "@jupyter-widgets/base",
            "_model_module_version": "1.2.0",
            "_model_name": "LayoutModel",
            "_view_count": null,
            "_view_module": "@jupyter-widgets/base",
            "_view_module_version": "1.2.0",
            "_view_name": "LayoutView",
            "align_content": null,
            "align_items": null,
            "align_self": null,
            "border": null,
            "bottom": null,
            "display": null,
            "flex": null,
            "flex_flow": null,
            "grid_area": null,
            "grid_auto_columns": null,
            "grid_auto_flow": null,
            "grid_auto_rows": null,
            "grid_column": null,
            "grid_gap": null,
            "grid_row": null,
            "grid_template_areas": null,
            "grid_template_columns": null,
            "grid_template_rows": null,
            "height": null,
            "justify_content": null,
            "justify_items": null,
            "left": null,
            "margin": null,
            "max_height": null,
            "max_width": null,
            "min_height": null,
            "min_width": null,
            "object_fit": null,
            "object_position": null,
            "order": null,
            "overflow": null,
            "overflow_x": null,
            "overflow_y": null,
            "padding": null,
            "right": null,
            "top": null,
            "visibility": null,
            "width": null
          }
        },
        "a90ed76d5eb9462088b6f0a70908d7a8": {
          "model_module": "@jupyter-widgets/controls",
          "model_name": "DescriptionStyleModel",
          "model_module_version": "1.5.0",
          "state": {
            "_model_module": "@jupyter-widgets/controls",
            "_model_module_version": "1.5.0",
            "_model_name": "DescriptionStyleModel",
            "_view_count": null,
            "_view_module": "@jupyter-widgets/base",
            "_view_module_version": "1.2.0",
            "_view_name": "StyleView",
            "description_width": ""
          }
        },
        "a8349b28e6504edf9dbecbaf9dbff79e": {
          "model_module": "@jupyter-widgets/controls",
          "model_name": "HBoxModel",
          "model_module_version": "1.5.0",
          "state": {
            "_dom_classes": [],
            "_model_module": "@jupyter-widgets/controls",
            "_model_module_version": "1.5.0",
            "_model_name": "HBoxModel",
            "_view_count": null,
            "_view_module": "@jupyter-widgets/controls",
            "_view_module_version": "1.5.0",
            "_view_name": "HBoxView",
            "box_style": "",
            "children": [
              "IPY_MODEL_32ca5bac4d544be384cee101c34f4c49",
              "IPY_MODEL_12f9c7db287d4737aec466e597eb6f63",
              "IPY_MODEL_5b3ec0d8ab044a6398286cc2a144a2ea"
            ],
            "layout": "IPY_MODEL_9d06b45f85eb42d781f2a98a96a2571c"
          }
        },
        "32ca5bac4d544be384cee101c34f4c49": {
          "model_module": "@jupyter-widgets/controls",
          "model_name": "HTMLModel",
          "model_module_version": "1.5.0",
          "state": {
            "_dom_classes": [],
            "_model_module": "@jupyter-widgets/controls",
            "_model_module_version": "1.5.0",
            "_model_name": "HTMLModel",
            "_view_count": null,
            "_view_module": "@jupyter-widgets/controls",
            "_view_module_version": "1.5.0",
            "_view_name": "HTMLView",
            "description": "",
            "description_tooltip": null,
            "layout": "IPY_MODEL_75319200596b4c3cac929c4ba5908058",
            "placeholder": "​",
            "style": "IPY_MODEL_14058058466a402489b555fdbc225212",
            "value": "100%"
          }
        },
        "12f9c7db287d4737aec466e597eb6f63": {
          "model_module": "@jupyter-widgets/controls",
          "model_name": "FloatProgressModel",
          "model_module_version": "1.5.0",
          "state": {
            "_dom_classes": [],
            "_model_module": "@jupyter-widgets/controls",
            "_model_module_version": "1.5.0",
            "_model_name": "FloatProgressModel",
            "_view_count": null,
            "_view_module": "@jupyter-widgets/controls",
            "_view_module_version": "1.5.0",
            "_view_name": "ProgressView",
            "bar_style": "success",
            "description": "",
            "description_tooltip": null,
            "layout": "IPY_MODEL_2c6f3eff83834536bc048542709e6f6b",
            "max": 4,
            "min": 0,
            "orientation": "horizontal",
            "style": "IPY_MODEL_ef74f00e0b7842b1a51d914e7b9db3dc",
            "value": 4
          }
        },
        "5b3ec0d8ab044a6398286cc2a144a2ea": {
          "model_module": "@jupyter-widgets/controls",
          "model_name": "HTMLModel",
          "model_module_version": "1.5.0",
          "state": {
            "_dom_classes": [],
            "_model_module": "@jupyter-widgets/controls",
            "_model_module_version": "1.5.0",
            "_model_name": "HTMLModel",
            "_view_count": null,
            "_view_module": "@jupyter-widgets/controls",
            "_view_module_version": "1.5.0",
            "_view_name": "HTMLView",
            "description": "",
            "description_tooltip": null,
            "layout": "IPY_MODEL_f0627e2a92384878b36da5158a4ed4d6",
            "placeholder": "​",
            "style": "IPY_MODEL_fe367fd2a1e0488585d65b8e12691780",
            "value": " 4/4 [00:00&lt;00:00,  3.60it/s]"
          }
        },
        "9d06b45f85eb42d781f2a98a96a2571c": {
          "model_module": "@jupyter-widgets/base",
          "model_name": "LayoutModel",
          "model_module_version": "1.2.0",
          "state": {
            "_model_module": "@jupyter-widgets/base",
            "_model_module_version": "1.2.0",
            "_model_name": "LayoutModel",
            "_view_count": null,
            "_view_module": "@jupyter-widgets/base",
            "_view_module_version": "1.2.0",
            "_view_name": "LayoutView",
            "align_content": null,
            "align_items": null,
            "align_self": null,
            "border": null,
            "bottom": null,
            "display": null,
            "flex": null,
            "flex_flow": null,
            "grid_area": null,
            "grid_auto_columns": null,
            "grid_auto_flow": null,
            "grid_auto_rows": null,
            "grid_column": null,
            "grid_gap": null,
            "grid_row": null,
            "grid_template_areas": null,
            "grid_template_columns": null,
            "grid_template_rows": null,
            "height": null,
            "justify_content": null,
            "justify_items": null,
            "left": null,
            "margin": null,
            "max_height": null,
            "max_width": null,
            "min_height": null,
            "min_width": null,
            "object_fit": null,
            "object_position": null,
            "order": null,
            "overflow": null,
            "overflow_x": null,
            "overflow_y": null,
            "padding": null,
            "right": null,
            "top": null,
            "visibility": null,
            "width": null
          }
        },
        "75319200596b4c3cac929c4ba5908058": {
          "model_module": "@jupyter-widgets/base",
          "model_name": "LayoutModel",
          "model_module_version": "1.2.0",
          "state": {
            "_model_module": "@jupyter-widgets/base",
            "_model_module_version": "1.2.0",
            "_model_name": "LayoutModel",
            "_view_count": null,
            "_view_module": "@jupyter-widgets/base",
            "_view_module_version": "1.2.0",
            "_view_name": "LayoutView",
            "align_content": null,
            "align_items": null,
            "align_self": null,
            "border": null,
            "bottom": null,
            "display": null,
            "flex": null,
            "flex_flow": null,
            "grid_area": null,
            "grid_auto_columns": null,
            "grid_auto_flow": null,
            "grid_auto_rows": null,
            "grid_column": null,
            "grid_gap": null,
            "grid_row": null,
            "grid_template_areas": null,
            "grid_template_columns": null,
            "grid_template_rows": null,
            "height": null,
            "justify_content": null,
            "justify_items": null,
            "left": null,
            "margin": null,
            "max_height": null,
            "max_width": null,
            "min_height": null,
            "min_width": null,
            "object_fit": null,
            "object_position": null,
            "order": null,
            "overflow": null,
            "overflow_x": null,
            "overflow_y": null,
            "padding": null,
            "right": null,
            "top": null,
            "visibility": null,
            "width": null
          }
        },
        "14058058466a402489b555fdbc225212": {
          "model_module": "@jupyter-widgets/controls",
          "model_name": "DescriptionStyleModel",
          "model_module_version": "1.5.0",
          "state": {
            "_model_module": "@jupyter-widgets/controls",
            "_model_module_version": "1.5.0",
            "_model_name": "DescriptionStyleModel",
            "_view_count": null,
            "_view_module": "@jupyter-widgets/base",
            "_view_module_version": "1.2.0",
            "_view_name": "StyleView",
            "description_width": ""
          }
        },
        "2c6f3eff83834536bc048542709e6f6b": {
          "model_module": "@jupyter-widgets/base",
          "model_name": "LayoutModel",
          "model_module_version": "1.2.0",
          "state": {
            "_model_module": "@jupyter-widgets/base",
            "_model_module_version": "1.2.0",
            "_model_name": "LayoutModel",
            "_view_count": null,
            "_view_module": "@jupyter-widgets/base",
            "_view_module_version": "1.2.0",
            "_view_name": "LayoutView",
            "align_content": null,
            "align_items": null,
            "align_self": null,
            "border": null,
            "bottom": null,
            "display": null,
            "flex": null,
            "flex_flow": null,
            "grid_area": null,
            "grid_auto_columns": null,
            "grid_auto_flow": null,
            "grid_auto_rows": null,
            "grid_column": null,
            "grid_gap": null,
            "grid_row": null,
            "grid_template_areas": null,
            "grid_template_columns": null,
            "grid_template_rows": null,
            "height": null,
            "justify_content": null,
            "justify_items": null,
            "left": null,
            "margin": null,
            "max_height": null,
            "max_width": null,
            "min_height": null,
            "min_width": null,
            "object_fit": null,
            "object_position": null,
            "order": null,
            "overflow": null,
            "overflow_x": null,
            "overflow_y": null,
            "padding": null,
            "right": null,
            "top": null,
            "visibility": null,
            "width": null
          }
        },
        "ef74f00e0b7842b1a51d914e7b9db3dc": {
          "model_module": "@jupyter-widgets/controls",
          "model_name": "ProgressStyleModel",
          "model_module_version": "1.5.0",
          "state": {
            "_model_module": "@jupyter-widgets/controls",
            "_model_module_version": "1.5.0",
            "_model_name": "ProgressStyleModel",
            "_view_count": null,
            "_view_module": "@jupyter-widgets/base",
            "_view_module_version": "1.2.0",
            "_view_name": "StyleView",
            "bar_color": null,
            "description_width": ""
          }
        },
        "f0627e2a92384878b36da5158a4ed4d6": {
          "model_module": "@jupyter-widgets/base",
          "model_name": "LayoutModel",
          "model_module_version": "1.2.0",
          "state": {
            "_model_module": "@jupyter-widgets/base",
            "_model_module_version": "1.2.0",
            "_model_name": "LayoutModel",
            "_view_count": null,
            "_view_module": "@jupyter-widgets/base",
            "_view_module_version": "1.2.0",
            "_view_name": "LayoutView",
            "align_content": null,
            "align_items": null,
            "align_self": null,
            "border": null,
            "bottom": null,
            "display": null,
            "flex": null,
            "flex_flow": null,
            "grid_area": null,
            "grid_auto_columns": null,
            "grid_auto_flow": null,
            "grid_auto_rows": null,
            "grid_column": null,
            "grid_gap": null,
            "grid_row": null,
            "grid_template_areas": null,
            "grid_template_columns": null,
            "grid_template_rows": null,
            "height": null,
            "justify_content": null,
            "justify_items": null,
            "left": null,
            "margin": null,
            "max_height": null,
            "max_width": null,
            "min_height": null,
            "min_width": null,
            "object_fit": null,
            "object_position": null,
            "order": null,
            "overflow": null,
            "overflow_x": null,
            "overflow_y": null,
            "padding": null,
            "right": null,
            "top": null,
            "visibility": null,
            "width": null
          }
        },
        "fe367fd2a1e0488585d65b8e12691780": {
          "model_module": "@jupyter-widgets/controls",
          "model_name": "DescriptionStyleModel",
          "model_module_version": "1.5.0",
          "state": {
            "_model_module": "@jupyter-widgets/controls",
            "_model_module_version": "1.5.0",
            "_model_name": "DescriptionStyleModel",
            "_view_count": null,
            "_view_module": "@jupyter-widgets/base",
            "_view_module_version": "1.2.0",
            "_view_name": "StyleView",
            "description_width": ""
          }
        },
        "beb9f42b7778453b92600b2c08ed25c8": {
          "model_module": "@jupyter-widgets/controls",
          "model_name": "HBoxModel",
          "model_module_version": "1.5.0",
          "state": {
            "_dom_classes": [],
            "_model_module": "@jupyter-widgets/controls",
            "_model_module_version": "1.5.0",
            "_model_name": "HBoxModel",
            "_view_count": null,
            "_view_module": "@jupyter-widgets/controls",
            "_view_module_version": "1.5.0",
            "_view_name": "HBoxView",
            "box_style": "",
            "children": [
              "IPY_MODEL_08a935d2169e4f7d8f23032491387c24",
              "IPY_MODEL_517b83ed7db048dd8cd10fb481447327",
              "IPY_MODEL_a3aae0be370045f4940ce2c1b8e6ce00"
            ],
            "layout": "IPY_MODEL_ee07f87b46514c0db1b720fa805785cd"
          }
        },
        "08a935d2169e4f7d8f23032491387c24": {
          "model_module": "@jupyter-widgets/controls",
          "model_name": "HTMLModel",
          "model_module_version": "1.5.0",
          "state": {
            "_dom_classes": [],
            "_model_module": "@jupyter-widgets/controls",
            "_model_module_version": "1.5.0",
            "_model_name": "HTMLModel",
            "_view_count": null,
            "_view_module": "@jupyter-widgets/controls",
            "_view_module_version": "1.5.0",
            "_view_name": "HTMLView",
            "description": "",
            "description_tooltip": null,
            "layout": "IPY_MODEL_7686578b756946168024d7744a7dbbf5",
            "placeholder": "​",
            "style": "IPY_MODEL_46888522133c4e4081d6229f511e21f4",
            "value": "100%"
          }
        },
        "517b83ed7db048dd8cd10fb481447327": {
          "model_module": "@jupyter-widgets/controls",
          "model_name": "FloatProgressModel",
          "model_module_version": "1.5.0",
          "state": {
            "_dom_classes": [],
            "_model_module": "@jupyter-widgets/controls",
            "_model_module_version": "1.5.0",
            "_model_name": "FloatProgressModel",
            "_view_count": null,
            "_view_module": "@jupyter-widgets/controls",
            "_view_module_version": "1.5.0",
            "_view_name": "ProgressView",
            "bar_style": "success",
            "description": "",
            "description_tooltip": null,
            "layout": "IPY_MODEL_dbeeed63f17342fab2de501e360bece7",
            "max": 60,
            "min": 0,
            "orientation": "horizontal",
            "style": "IPY_MODEL_e28c9633cbb64b77b1bbbec4f1cd2cd5",
            "value": 60
          }
        },
        "a3aae0be370045f4940ce2c1b8e6ce00": {
          "model_module": "@jupyter-widgets/controls",
          "model_name": "HTMLModel",
          "model_module_version": "1.5.0",
          "state": {
            "_dom_classes": [],
            "_model_module": "@jupyter-widgets/controls",
            "_model_module_version": "1.5.0",
            "_model_name": "HTMLModel",
            "_view_count": null,
            "_view_module": "@jupyter-widgets/controls",
            "_view_module_version": "1.5.0",
            "_view_name": "HTMLView",
            "description": "",
            "description_tooltip": null,
            "layout": "IPY_MODEL_783856274837485a8281fd7d9b9ed31e",
            "placeholder": "​",
            "style": "IPY_MODEL_07bf3893ff7c41a1829e627f196ca317",
            "value": " 60/60 [00:54&lt;00:00,  1.14it/s]"
          }
        },
        "ee07f87b46514c0db1b720fa805785cd": {
          "model_module": "@jupyter-widgets/base",
          "model_name": "LayoutModel",
          "model_module_version": "1.2.0",
          "state": {
            "_model_module": "@jupyter-widgets/base",
            "_model_module_version": "1.2.0",
            "_model_name": "LayoutModel",
            "_view_count": null,
            "_view_module": "@jupyter-widgets/base",
            "_view_module_version": "1.2.0",
            "_view_name": "LayoutView",
            "align_content": null,
            "align_items": null,
            "align_self": null,
            "border": null,
            "bottom": null,
            "display": null,
            "flex": null,
            "flex_flow": null,
            "grid_area": null,
            "grid_auto_columns": null,
            "grid_auto_flow": null,
            "grid_auto_rows": null,
            "grid_column": null,
            "grid_gap": null,
            "grid_row": null,
            "grid_template_areas": null,
            "grid_template_columns": null,
            "grid_template_rows": null,
            "height": null,
            "justify_content": null,
            "justify_items": null,
            "left": null,
            "margin": null,
            "max_height": null,
            "max_width": null,
            "min_height": null,
            "min_width": null,
            "object_fit": null,
            "object_position": null,
            "order": null,
            "overflow": null,
            "overflow_x": null,
            "overflow_y": null,
            "padding": null,
            "right": null,
            "top": null,
            "visibility": null,
            "width": null
          }
        },
        "7686578b756946168024d7744a7dbbf5": {
          "model_module": "@jupyter-widgets/base",
          "model_name": "LayoutModel",
          "model_module_version": "1.2.0",
          "state": {
            "_model_module": "@jupyter-widgets/base",
            "_model_module_version": "1.2.0",
            "_model_name": "LayoutModel",
            "_view_count": null,
            "_view_module": "@jupyter-widgets/base",
            "_view_module_version": "1.2.0",
            "_view_name": "LayoutView",
            "align_content": null,
            "align_items": null,
            "align_self": null,
            "border": null,
            "bottom": null,
            "display": null,
            "flex": null,
            "flex_flow": null,
            "grid_area": null,
            "grid_auto_columns": null,
            "grid_auto_flow": null,
            "grid_auto_rows": null,
            "grid_column": null,
            "grid_gap": null,
            "grid_row": null,
            "grid_template_areas": null,
            "grid_template_columns": null,
            "grid_template_rows": null,
            "height": null,
            "justify_content": null,
            "justify_items": null,
            "left": null,
            "margin": null,
            "max_height": null,
            "max_width": null,
            "min_height": null,
            "min_width": null,
            "object_fit": null,
            "object_position": null,
            "order": null,
            "overflow": null,
            "overflow_x": null,
            "overflow_y": null,
            "padding": null,
            "right": null,
            "top": null,
            "visibility": null,
            "width": null
          }
        },
        "46888522133c4e4081d6229f511e21f4": {
          "model_module": "@jupyter-widgets/controls",
          "model_name": "DescriptionStyleModel",
          "model_module_version": "1.5.0",
          "state": {
            "_model_module": "@jupyter-widgets/controls",
            "_model_module_version": "1.5.0",
            "_model_name": "DescriptionStyleModel",
            "_view_count": null,
            "_view_module": "@jupyter-widgets/base",
            "_view_module_version": "1.2.0",
            "_view_name": "StyleView",
            "description_width": ""
          }
        },
        "dbeeed63f17342fab2de501e360bece7": {
          "model_module": "@jupyter-widgets/base",
          "model_name": "LayoutModel",
          "model_module_version": "1.2.0",
          "state": {
            "_model_module": "@jupyter-widgets/base",
            "_model_module_version": "1.2.0",
            "_model_name": "LayoutModel",
            "_view_count": null,
            "_view_module": "@jupyter-widgets/base",
            "_view_module_version": "1.2.0",
            "_view_name": "LayoutView",
            "align_content": null,
            "align_items": null,
            "align_self": null,
            "border": null,
            "bottom": null,
            "display": null,
            "flex": null,
            "flex_flow": null,
            "grid_area": null,
            "grid_auto_columns": null,
            "grid_auto_flow": null,
            "grid_auto_rows": null,
            "grid_column": null,
            "grid_gap": null,
            "grid_row": null,
            "grid_template_areas": null,
            "grid_template_columns": null,
            "grid_template_rows": null,
            "height": null,
            "justify_content": null,
            "justify_items": null,
            "left": null,
            "margin": null,
            "max_height": null,
            "max_width": null,
            "min_height": null,
            "min_width": null,
            "object_fit": null,
            "object_position": null,
            "order": null,
            "overflow": null,
            "overflow_x": null,
            "overflow_y": null,
            "padding": null,
            "right": null,
            "top": null,
            "visibility": null,
            "width": null
          }
        },
        "e28c9633cbb64b77b1bbbec4f1cd2cd5": {
          "model_module": "@jupyter-widgets/controls",
          "model_name": "ProgressStyleModel",
          "model_module_version": "1.5.0",
          "state": {
            "_model_module": "@jupyter-widgets/controls",
            "_model_module_version": "1.5.0",
            "_model_name": "ProgressStyleModel",
            "_view_count": null,
            "_view_module": "@jupyter-widgets/base",
            "_view_module_version": "1.2.0",
            "_view_name": "StyleView",
            "bar_color": null,
            "description_width": ""
          }
        },
        "783856274837485a8281fd7d9b9ed31e": {
          "model_module": "@jupyter-widgets/base",
          "model_name": "LayoutModel",
          "model_module_version": "1.2.0",
          "state": {
            "_model_module": "@jupyter-widgets/base",
            "_model_module_version": "1.2.0",
            "_model_name": "LayoutModel",
            "_view_count": null,
            "_view_module": "@jupyter-widgets/base",
            "_view_module_version": "1.2.0",
            "_view_name": "LayoutView",
            "align_content": null,
            "align_items": null,
            "align_self": null,
            "border": null,
            "bottom": null,
            "display": null,
            "flex": null,
            "flex_flow": null,
            "grid_area": null,
            "grid_auto_columns": null,
            "grid_auto_flow": null,
            "grid_auto_rows": null,
            "grid_column": null,
            "grid_gap": null,
            "grid_row": null,
            "grid_template_areas": null,
            "grid_template_columns": null,
            "grid_template_rows": null,
            "height": null,
            "justify_content": null,
            "justify_items": null,
            "left": null,
            "margin": null,
            "max_height": null,
            "max_width": null,
            "min_height": null,
            "min_width": null,
            "object_fit": null,
            "object_position": null,
            "order": null,
            "overflow": null,
            "overflow_x": null,
            "overflow_y": null,
            "padding": null,
            "right": null,
            "top": null,
            "visibility": null,
            "width": null
          }
        },
        "07bf3893ff7c41a1829e627f196ca317": {
          "model_module": "@jupyter-widgets/controls",
          "model_name": "DescriptionStyleModel",
          "model_module_version": "1.5.0",
          "state": {
            "_model_module": "@jupyter-widgets/controls",
            "_model_module_version": "1.5.0",
            "_model_name": "DescriptionStyleModel",
            "_view_count": null,
            "_view_module": "@jupyter-widgets/base",
            "_view_module_version": "1.2.0",
            "_view_name": "StyleView",
            "description_width": ""
          }
        },
        "b83bab49873b4001b34db51325aac1ac": {
          "model_module": "@jupyter-widgets/controls",
          "model_name": "HBoxModel",
          "model_module_version": "1.5.0",
          "state": {
            "_dom_classes": [],
            "_model_module": "@jupyter-widgets/controls",
            "_model_module_version": "1.5.0",
            "_model_name": "HBoxModel",
            "_view_count": null,
            "_view_module": "@jupyter-widgets/controls",
            "_view_module_version": "1.5.0",
            "_view_name": "HBoxView",
            "box_style": "",
            "children": [
              "IPY_MODEL_5015d56fb1ab4d3c8317a79b904468d3",
              "IPY_MODEL_c39411910c0943c7aa6be2c65ab9d42a",
              "IPY_MODEL_0cf5711bc56d479e9b9fc2f066b2d346"
            ],
            "layout": "IPY_MODEL_f2c007bdcc394ab780fc4063f61b2ad7"
          }
        },
        "5015d56fb1ab4d3c8317a79b904468d3": {
          "model_module": "@jupyter-widgets/controls",
          "model_name": "HTMLModel",
          "model_module_version": "1.5.0",
          "state": {
            "_dom_classes": [],
            "_model_module": "@jupyter-widgets/controls",
            "_model_module_version": "1.5.0",
            "_model_name": "HTMLModel",
            "_view_count": null,
            "_view_module": "@jupyter-widgets/controls",
            "_view_module_version": "1.5.0",
            "_view_name": "HTMLView",
            "description": "",
            "description_tooltip": null,
            "layout": "IPY_MODEL_da274a15592e4cadb1f9f814b1d0b3e5",
            "placeholder": "​",
            "style": "IPY_MODEL_e3b1bd588feb4f0bb3993a2721177c58",
            "value": "100%"
          }
        },
        "c39411910c0943c7aa6be2c65ab9d42a": {
          "model_module": "@jupyter-widgets/controls",
          "model_name": "FloatProgressModel",
          "model_module_version": "1.5.0",
          "state": {
            "_dom_classes": [],
            "_model_module": "@jupyter-widgets/controls",
            "_model_module_version": "1.5.0",
            "_model_name": "FloatProgressModel",
            "_view_count": null,
            "_view_module": "@jupyter-widgets/controls",
            "_view_module_version": "1.5.0",
            "_view_name": "ProgressView",
            "bar_style": "success",
            "description": "",
            "description_tooltip": null,
            "layout": "IPY_MODEL_e58a72945dda42648532056721a3a4e9",
            "max": 3,
            "min": 0,
            "orientation": "horizontal",
            "style": "IPY_MODEL_08a02e69ec0041f6997dbc7c1e260541",
            "value": 3
          }
        },
        "0cf5711bc56d479e9b9fc2f066b2d346": {
          "model_module": "@jupyter-widgets/controls",
          "model_name": "HTMLModel",
          "model_module_version": "1.5.0",
          "state": {
            "_dom_classes": [],
            "_model_module": "@jupyter-widgets/controls",
            "_model_module_version": "1.5.0",
            "_model_name": "HTMLModel",
            "_view_count": null,
            "_view_module": "@jupyter-widgets/controls",
            "_view_module_version": "1.5.0",
            "_view_name": "HTMLView",
            "description": "",
            "description_tooltip": null,
            "layout": "IPY_MODEL_291945d5bb8d4157b619496add6a0e01",
            "placeholder": "​",
            "style": "IPY_MODEL_b903718222f746ad9de518ed7f666e8d",
            "value": " 3/3 [00:00&lt;00:00,  2.17it/s]"
          }
        },
        "f2c007bdcc394ab780fc4063f61b2ad7": {
          "model_module": "@jupyter-widgets/base",
          "model_name": "LayoutModel",
          "model_module_version": "1.2.0",
          "state": {
            "_model_module": "@jupyter-widgets/base",
            "_model_module_version": "1.2.0",
            "_model_name": "LayoutModel",
            "_view_count": null,
            "_view_module": "@jupyter-widgets/base",
            "_view_module_version": "1.2.0",
            "_view_name": "LayoutView",
            "align_content": null,
            "align_items": null,
            "align_self": null,
            "border": null,
            "bottom": null,
            "display": null,
            "flex": null,
            "flex_flow": null,
            "grid_area": null,
            "grid_auto_columns": null,
            "grid_auto_flow": null,
            "grid_auto_rows": null,
            "grid_column": null,
            "grid_gap": null,
            "grid_row": null,
            "grid_template_areas": null,
            "grid_template_columns": null,
            "grid_template_rows": null,
            "height": null,
            "justify_content": null,
            "justify_items": null,
            "left": null,
            "margin": null,
            "max_height": null,
            "max_width": null,
            "min_height": null,
            "min_width": null,
            "object_fit": null,
            "object_position": null,
            "order": null,
            "overflow": null,
            "overflow_x": null,
            "overflow_y": null,
            "padding": null,
            "right": null,
            "top": null,
            "visibility": null,
            "width": null
          }
        },
        "da274a15592e4cadb1f9f814b1d0b3e5": {
          "model_module": "@jupyter-widgets/base",
          "model_name": "LayoutModel",
          "model_module_version": "1.2.0",
          "state": {
            "_model_module": "@jupyter-widgets/base",
            "_model_module_version": "1.2.0",
            "_model_name": "LayoutModel",
            "_view_count": null,
            "_view_module": "@jupyter-widgets/base",
            "_view_module_version": "1.2.0",
            "_view_name": "LayoutView",
            "align_content": null,
            "align_items": null,
            "align_self": null,
            "border": null,
            "bottom": null,
            "display": null,
            "flex": null,
            "flex_flow": null,
            "grid_area": null,
            "grid_auto_columns": null,
            "grid_auto_flow": null,
            "grid_auto_rows": null,
            "grid_column": null,
            "grid_gap": null,
            "grid_row": null,
            "grid_template_areas": null,
            "grid_template_columns": null,
            "grid_template_rows": null,
            "height": null,
            "justify_content": null,
            "justify_items": null,
            "left": null,
            "margin": null,
            "max_height": null,
            "max_width": null,
            "min_height": null,
            "min_width": null,
            "object_fit": null,
            "object_position": null,
            "order": null,
            "overflow": null,
            "overflow_x": null,
            "overflow_y": null,
            "padding": null,
            "right": null,
            "top": null,
            "visibility": null,
            "width": null
          }
        },
        "e3b1bd588feb4f0bb3993a2721177c58": {
          "model_module": "@jupyter-widgets/controls",
          "model_name": "DescriptionStyleModel",
          "model_module_version": "1.5.0",
          "state": {
            "_model_module": "@jupyter-widgets/controls",
            "_model_module_version": "1.5.0",
            "_model_name": "DescriptionStyleModel",
            "_view_count": null,
            "_view_module": "@jupyter-widgets/base",
            "_view_module_version": "1.2.0",
            "_view_name": "StyleView",
            "description_width": ""
          }
        },
        "e58a72945dda42648532056721a3a4e9": {
          "model_module": "@jupyter-widgets/base",
          "model_name": "LayoutModel",
          "model_module_version": "1.2.0",
          "state": {
            "_model_module": "@jupyter-widgets/base",
            "_model_module_version": "1.2.0",
            "_model_name": "LayoutModel",
            "_view_count": null,
            "_view_module": "@jupyter-widgets/base",
            "_view_module_version": "1.2.0",
            "_view_name": "LayoutView",
            "align_content": null,
            "align_items": null,
            "align_self": null,
            "border": null,
            "bottom": null,
            "display": null,
            "flex": null,
            "flex_flow": null,
            "grid_area": null,
            "grid_auto_columns": null,
            "grid_auto_flow": null,
            "grid_auto_rows": null,
            "grid_column": null,
            "grid_gap": null,
            "grid_row": null,
            "grid_template_areas": null,
            "grid_template_columns": null,
            "grid_template_rows": null,
            "height": null,
            "justify_content": null,
            "justify_items": null,
            "left": null,
            "margin": null,
            "max_height": null,
            "max_width": null,
            "min_height": null,
            "min_width": null,
            "object_fit": null,
            "object_position": null,
            "order": null,
            "overflow": null,
            "overflow_x": null,
            "overflow_y": null,
            "padding": null,
            "right": null,
            "top": null,
            "visibility": null,
            "width": null
          }
        },
        "08a02e69ec0041f6997dbc7c1e260541": {
          "model_module": "@jupyter-widgets/controls",
          "model_name": "ProgressStyleModel",
          "model_module_version": "1.5.0",
          "state": {
            "_model_module": "@jupyter-widgets/controls",
            "_model_module_version": "1.5.0",
            "_model_name": "ProgressStyleModel",
            "_view_count": null,
            "_view_module": "@jupyter-widgets/base",
            "_view_module_version": "1.2.0",
            "_view_name": "StyleView",
            "bar_color": null,
            "description_width": ""
          }
        },
        "291945d5bb8d4157b619496add6a0e01": {
          "model_module": "@jupyter-widgets/base",
          "model_name": "LayoutModel",
          "model_module_version": "1.2.0",
          "state": {
            "_model_module": "@jupyter-widgets/base",
            "_model_module_version": "1.2.0",
            "_model_name": "LayoutModel",
            "_view_count": null,
            "_view_module": "@jupyter-widgets/base",
            "_view_module_version": "1.2.0",
            "_view_name": "LayoutView",
            "align_content": null,
            "align_items": null,
            "align_self": null,
            "border": null,
            "bottom": null,
            "display": null,
            "flex": null,
            "flex_flow": null,
            "grid_area": null,
            "grid_auto_columns": null,
            "grid_auto_flow": null,
            "grid_auto_rows": null,
            "grid_column": null,
            "grid_gap": null,
            "grid_row": null,
            "grid_template_areas": null,
            "grid_template_columns": null,
            "grid_template_rows": null,
            "height": null,
            "justify_content": null,
            "justify_items": null,
            "left": null,
            "margin": null,
            "max_height": null,
            "max_width": null,
            "min_height": null,
            "min_width": null,
            "object_fit": null,
            "object_position": null,
            "order": null,
            "overflow": null,
            "overflow_x": null,
            "overflow_y": null,
            "padding": null,
            "right": null,
            "top": null,
            "visibility": null,
            "width": null
          }
        },
        "b903718222f746ad9de518ed7f666e8d": {
          "model_module": "@jupyter-widgets/controls",
          "model_name": "DescriptionStyleModel",
          "model_module_version": "1.5.0",
          "state": {
            "_model_module": "@jupyter-widgets/controls",
            "_model_module_version": "1.5.0",
            "_model_name": "DescriptionStyleModel",
            "_view_count": null,
            "_view_module": "@jupyter-widgets/base",
            "_view_module_version": "1.2.0",
            "_view_name": "StyleView",
            "description_width": ""
          }
        }
      }
    },
    "accelerator": "GPU"
  },
  "nbformat": 4,
  "nbformat_minor": 0
}