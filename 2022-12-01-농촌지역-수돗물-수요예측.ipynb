{
  "cells": [
    {
      "cell_type": "markdown",
      "metadata": {
        "id": "view-in-github",
        "colab_type": "text"
      },
      "source": [
        "<a href=\"https://colab.research.google.com/github/Jaesu26/aifactory-water-demand-forecasting/blob/main/2022-12-01-%EB%86%8D%EC%B4%8C%EC%A7%80%EC%97%AD-%EC%88%98%EB%8F%97%EB%AC%BC-%EC%88%98%EC%9A%94%EC%98%88%EC%B8%A1.ipynb\" target=\"_parent\"><img src=\"https://colab.research.google.com/assets/colab-badge.svg\" alt=\"Open In Colab\"/></a>"
      ]
    },
    {
      "cell_type": "markdown",
      "metadata": {
        "id": "75xRhMA-ZZ4g"
      },
      "source": [
        "# [2022 제2회 K-water AI 경진대회] 수돗물 수요예측 AI 알고리즘 개발\n",
        "\n",
        "- [2022-Task 2] 아포 : 경상북도 김천시 아포읍"
      ]
    },
    {
      "cell_type": "code",
      "execution_count": 1,
      "metadata": {
        "id": "_LAUwqDR_ucz"
      },
      "outputs": [],
      "source": [
        "# !pip install xgboost==0.90"
      ]
    },
    {
      "cell_type": "markdown",
      "metadata": {
        "id": "68xM6jF0ZchA"
      },
      "source": [
        "## 데이터 불러오기"
      ]
    },
    {
      "cell_type": "code",
      "execution_count": 2,
      "metadata": {
        "id": "zJnLWFhmMGG4"
      },
      "outputs": [],
      "source": [
        "import numpy as np\n",
        "import pandas as pd\n",
        "import seaborn as sns\n",
        "import matplotlib.pyplot as plt\n",
        "import warnings\n",
        "import pickle\n",
        "import random\n",
        "import math\n",
        "import os\n",
        "import gc\n",
        "\n",
        "import statsmodels.graphics.tsaplots as sgt\n",
        "\n",
        "from typing import Any, Dict, List, Optional, Tuple, Union\n",
        "from numpy.typing import NDArray\n",
        "from easydict import EasyDict\n",
        "\n",
        "from tqdm.auto import tqdm\n",
        "from glob import glob\n",
        "\n",
        "warnings.filterwarnings('ignore') "
      ]
    },
    {
      "cell_type": "code",
      "execution_count": 3,
      "metadata": {
        "colab": {
          "base_uri": "https://localhost:8080/"
        },
        "id": "GjvmmVOVMW_P",
        "outputId": "09ee996b-488a-4b13-e4cb-5083a968f6ec"
      },
      "outputs": [
        {
          "output_type": "stream",
          "name": "stdout",
          "text": [
            "Drive already mounted at /content/drive; to attempt to forcibly remount, call drive.mount(\"/content/drive\", force_remount=True).\n"
          ]
        }
      ],
      "source": [
        "from google.colab import drive\n",
        "\n",
        "drive.mount('/content/drive')  ## 구글코랩과 구글드라이브 연결"
      ]
    },
    {
      "cell_type": "code",
      "execution_count": 4,
      "metadata": {
        "colab": {
          "base_uri": "https://localhost:8080/"
        },
        "id": "eVxuuFzhM72P",
        "outputId": "81bc05ac-a3bb-42c8-9ebf-2ef552dcb2c8"
      },
      "outputs": [
        {
          "output_type": "stream",
          "name": "stdout",
          "text": [
            "/content/drive/MyDrive/Colab Notebooks/농촌지역-수돗물-수요예측\n"
          ]
        }
      ],
      "source": [
        "%cd  /content/drive/MyDrive/Colab Notebooks/농촌지역-수돗물-수요예측"
      ]
    },
    {
      "cell_type": "markdown",
      "metadata": {
        "id": "MRrJ4A5RKC4B"
      },
      "source": [
        "- 데이터 불러오기"
      ]
    },
    {
      "cell_type": "code",
      "execution_count": 5,
      "metadata": {
        "id": "N7JdJZofCXED"
      },
      "outputs": [],
      "source": [
        "train_path = './data/data_tr_apo.csv'\n",
        "test_path = './data/data_ts_apo.csv'\n",
        "submission_path = './data/sample_apo.csv'"
      ]
    },
    {
      "cell_type": "code",
      "execution_count": 6,
      "metadata": {
        "id": "dl5XJ4wb7joA"
      },
      "outputs": [],
      "source": [
        "df = pd.read_csv(train_path)\n",
        "test = pd.read_csv(test_path)\n",
        "submission = pd.read_csv(submission_path)"
      ]
    },
    {
      "cell_type": "code",
      "execution_count": 7,
      "metadata": {
        "id": "TOJPBmADOWLF"
      },
      "outputs": [],
      "source": [
        "# 변수 이름을 영문으로 변경\n",
        "df = df.rename(columns={'구미 아포배수지 유출유량 적산차':'flow'})\n",
        "test = test.rename(columns={'구미 아포배수지 유출유량 적산차':'flow'})\n",
        "\n",
        "\n",
        "# 날짜를 datetime 형식으로 변경\n",
        "df['datetime'] = pd.to_datetime(df['datetime'])\n",
        "test['datetime'] = pd.to_datetime(test['datetime'])"
      ]
    },
    {
      "cell_type": "markdown",
      "metadata": {
        "id": "II2XMQAVsAQt"
      },
      "source": [
        "- 가중치 저장폴더"
      ]
    },
    {
      "cell_type": "code",
      "execution_count": 8,
      "metadata": {
        "id": "YnpAfBHMsCb1"
      },
      "outputs": [],
      "source": [
        "def create_folder(path: str) -> None:\n",
        "    try:\n",
        "        if not os.path.exists(path):\n",
        "            os.makedirs(path)\n",
        "    except OSError as error:\n",
        "        print(error)"
      ]
    },
    {
      "cell_type": "markdown",
      "metadata": {
        "id": "S16IL8xJR81a"
      },
      "source": [
        "- 데이터 설명\n",
        "\n",
        "`-` 유량: 단위시간 당 얼마만큼의 체적에 해당하는 액체가 이동했는지 나타냄 ($m^3/h$)\n",
        "\n",
        "`-` 적산값: 1시간마다 측정한 값이 계속 누적 (i.g. $100 \\xrightarrow{~+170~} 270 \\xrightarrow{~+150~} 420 \\xrightarrow{~+110~} 530$)  \n",
        "\n",
        "`-` 적산차값: 적산의 매시간 차이를 계산 ($\\approx$ 시간 단위 공급량,$\\quad$ i.g. $\\operatorname{NA},170, 150, 110$)"
      ]
    },
    {
      "cell_type": "markdown",
      "metadata": {
        "id": "C_dKoED1K0go"
      },
      "source": [
        "## 전처리\n",
        "\n",
        "`-` 데이터는 항상 시간상의 순서대로 존재해야 한다\n",
        "\n",
        "`-` 데이터에서 특정 시점의 적산차값이 결측치일 수도 있지만 특정 시점 자체가 누락되면 안된다 \n",
        "\n",
        "`-` 그래프에 추세는 없어보인다\n",
        "\n",
        "`-` 데이터에 결측치가 존재한다\n",
        "\n",
        "`-` 결측치는 계절성을 고려하여 전날 같은 시각의 적산차값으로 채워주자\n",
        "\n",
        "`-` 이상치가 존재한다 (예컨대 음수 또는 매우 큰 양수)\n",
        "\n",
        "`-` 로그 변환\n",
        "\n",
        "`-` 후처리는 반올림"
      ]
    },
    {
      "cell_type": "markdown",
      "metadata": {
        "id": "n9adsWRfyT_Y"
      },
      "source": [
        "- 이상치와 결측치 처리"
      ]
    },
    {
      "cell_type": "code",
      "execution_count": null,
      "metadata": {
        "colab": {
          "base_uri": "https://localhost:8080/",
          "height": 283
        },
        "id": "H8s8AF0SxyzB",
        "outputId": "a90b4fab-6d78-4f57-dacd-142123d5c4e0"
      },
      "outputs": [
        {
          "data": {
            "text/plain": [
              "<matplotlib.axes._subplots.AxesSubplot at 0x7f8a697287d0>"
            ]
          },
          "execution_count": 11,
          "metadata": {},
          "output_type": "execute_result"
        },
        {
          "data": {
            "image/png": "[encoded data removed]",
            "text/plain": [
              "<Figure size 432x288 with 1 Axes>"
            ]
          },
          "metadata": {},
          "output_type": "display_data"
        }
      ],
      "source": [
        "df.query('0 < flow < 1000').flow.plot.box()"
      ]
    },
    {
      "cell_type": "markdown",
      "metadata": {
        "id": "XOddn-B5Oq-c"
      },
      "source": [
        "`-` 100,000을 넘기는 매우 큰 값이 존재한다\n",
        "\n",
        "`-` 또한, 음수값도 존재하는데 이들은 모두 -100,000보다 작다\n",
        "\n",
        "`-` 위와 같은 경우는 계측기에 문제가 있는 것으로 보인다\n",
        "\n",
        "`-` 0인 경우도 존재한는데 계측기의 오류 또는 모종의 이유로 물이 흐르지 않은 것으로 보인다 (i.g. 배수지 청소로 인해 단수)\n",
        "\n",
        "`-` 이런 경우 적산차값만 사용해 예측하는 것은 불가능하므로 이상치로 처리하겠다  \n",
        "\n",
        "`-` 한편, 큰 양수의 경우 이상치의 기준은 400을 넘지 않는 값 중 최댓값으로 하겠다 (위의 box-plot에 기반함, IQR을 넘는 값들을 보면 400부터 절단되어 빈도수가 매우 작아짐)\n",
        "\n",
        "`-` 이상치와 결측치는 계절성을 고려하여 전날 같은 시각의 적산차값으로 대체하겠다"
      ]
    },
    {
      "cell_type": "code",
      "execution_count": 9,
      "metadata": {
        "id": "g8FoMs9hYhZA"
      },
      "outputs": [],
      "source": [
        "def fillna(time_series: pd.Series, m: int = 24) -> pd.Series:\n",
        "    \"\"\"m 시점 앞의 값으로 결측치를 재귀적으로 채우고 데이터를 반환\"\"\"\n",
        "    assert time_series.ndim == 1\n",
        "    time_series = time_series.copy()  # 원본이 변하지 않도록 복제 \n",
        "    na_idx = time_series[time_series.isnull()].index.values\n",
        "    fill_idx = na_idx - m  # m 시점 앞의 값으로 결측치를 채운다\n",
        "    fill_idx = np.where(fill_idx < 0, fill_idx + m, fill_idx)\n",
        "\n",
        "    if not na_idx.size:                  # 결측치가 존재하지 않으면 원본을 반환\n",
        "        return time_series\n",
        "    if np.in1d(fill_idx, na_idx).all():  # m 시점 앞의 값이 결측치면 원본을 반환\n",
        "        return time_series\n",
        "\n",
        "    time_series[na_idx] = time_series[fill_idx]\n",
        "    return fillna(time_series, m)"
      ]
    },
    {
      "cell_type": "code",
      "execution_count": 10,
      "metadata": {
        "id": "OCTJffl_zdp4"
      },
      "outputs": [],
      "source": [
        "# 이상치는 결측치로 처리한다\n",
        "tmp = df.flow[df.flow < 400].max()\n",
        "df['flow'] = df['flow'].apply(lambda x: x if 0 < x <= tmp else np.nan)"
      ]
    },
    {
      "cell_type": "code",
      "execution_count": 11,
      "metadata": {
        "id": "7FiEFzqFJmbQ"
      },
      "outputs": [],
      "source": [
        "# 결측치는 계절성을 고려하여 전날 같은 시각의 적산차값으로 채운다 \n",
        "df['flow'] = fillna(df['flow']).fillna(method='ffill').fillna(0)"
      ]
    },
    {
      "cell_type": "markdown",
      "metadata": {
        "id": "bvB62nkihj3a"
      },
      "source": [
        "## 시각화"
      ]
    },
    {
      "cell_type": "code",
      "execution_count": 12,
      "metadata": {
        "id": "V0EIo2-sFMK9"
      },
      "outputs": [],
      "source": [
        "sns.set_theme(style='white')"
      ]
    },
    {
      "cell_type": "code",
      "execution_count": null,
      "metadata": {
        "colab": {
          "base_uri": "https://localhost:8080/",
          "height": 206
        },
        "id": "sNRl90281KE_",
        "outputId": "e30bfaa9-2aa1-44de-f471-6e932b22ea05"
      },
      "outputs": [
        {
          "data": {
            "text/html": [
              "\n",
              "  <div id=\"df-d48f9f8c-cd61-4f3c-98bd-e47fb46b9da0\">\n",
              "    <div class=\"colab-df-container\">\n",
              "      <div>\n",
              "<style scoped>\n",
              "    .dataframe tbody tr th:only-of-type {\n",
              "        vertical-align: middle;\n",
              "    }\n",
              "\n",
              "    .dataframe tbody tr th {\n",
              "        vertical-align: top;\n",
              "    }\n",
              "\n",
              "    .dataframe thead th {\n",
              "        text-align: right;\n",
              "    }\n",
              "</style>\n",
              "<table border=\"1\" class=\"dataframe\">\n",
              "  <thead>\n",
              "    <tr style=\"text-align: right;\">\n",
              "      <th></th>\n",
              "      <th>count</th>\n",
              "      <th>mean</th>\n",
              "      <th>std</th>\n",
              "      <th>min</th>\n",
              "      <th>25%</th>\n",
              "      <th>50%</th>\n",
              "      <th>75%</th>\n",
              "      <th>max</th>\n",
              "    </tr>\n",
              "    <tr>\n",
              "      <th>year</th>\n",
              "      <th></th>\n",
              "      <th></th>\n",
              "      <th></th>\n",
              "      <th></th>\n",
              "      <th></th>\n",
              "      <th></th>\n",
              "      <th></th>\n",
              "      <th></th>\n",
              "    </tr>\n",
              "  </thead>\n",
              "  <tbody>\n",
              "    <tr>\n",
              "      <th>2017</th>\n",
              "      <td>8759.0</td>\n",
              "      <td>94.024775</td>\n",
              "      <td>39.571984</td>\n",
              "      <td>3.0</td>\n",
              "      <td>66.0</td>\n",
              "      <td>89.0</td>\n",
              "      <td>115.0</td>\n",
              "      <td>273.0</td>\n",
              "    </tr>\n",
              "    <tr>\n",
              "      <th>2018</th>\n",
              "      <td>8760.0</td>\n",
              "      <td>102.403196</td>\n",
              "      <td>48.363907</td>\n",
              "      <td>4.0</td>\n",
              "      <td>68.0</td>\n",
              "      <td>93.0</td>\n",
              "      <td>113.0</td>\n",
              "      <td>370.0</td>\n",
              "    </tr>\n",
              "    <tr>\n",
              "      <th>2019</th>\n",
              "      <td>8760.0</td>\n",
              "      <td>99.048744</td>\n",
              "      <td>48.780636</td>\n",
              "      <td>15.0</td>\n",
              "      <td>63.0</td>\n",
              "      <td>91.0</td>\n",
              "      <td>109.0</td>\n",
              "      <td>340.0</td>\n",
              "    </tr>\n",
              "    <tr>\n",
              "      <th>2020</th>\n",
              "      <td>8784.0</td>\n",
              "      <td>101.770947</td>\n",
              "      <td>49.726643</td>\n",
              "      <td>4.0</td>\n",
              "      <td>64.0</td>\n",
              "      <td>94.0</td>\n",
              "      <td>113.0</td>\n",
              "      <td>364.0</td>\n",
              "    </tr>\n",
              "  </tbody>\n",
              "</table>\n",
              "</div>\n",
              "      <button class=\"colab-df-convert\" onclick=\"convertToInteractive('df-d48f9f8c-cd61-4f3c-98bd-e47fb46b9da0')\"\n",
              "              title=\"Convert this dataframe to an interactive table.\"\n",
              "              style=\"display:none;\">\n",
              "        \n",
              "  <svg xmlns=\"http://www.w3.org/2000/svg\" height=\"24px\"viewBox=\"0 0 24 24\"\n",
              "       width=\"24px\">\n",
              "    <path d=\"M0 0h24v24H0V0z\" fill=\"none\"/>\n",
              "    <path d=\"M18.56 5.44l.94 2.06.94-2.06 2.06-.94-2.06-.94-.94-2.06-.94 2.06-2.06.94zm-11 1L8.5 8.5l.94-2.06 2.06-.94-2.06-.94L8.5 2.5l-.94 2.06-2.06.94zm10 10l.94 2.06.94-2.06 2.06-.94-2.06-.94-.94-2.06-.94 2.06-2.06.94z\"/><path d=\"M17.41 7.96l-1.37-1.37c-.4-.4-.92-.59-1.43-.59-.52 0-1.04.2-1.43.59L10.3 9.45l-7.72 7.72c-.78.78-.78 2.05 0 2.83L4 21.41c.39.39.9.59 1.41.59.51 0 1.02-.2 1.41-.59l7.78-7.78 2.81-2.81c.8-.78.8-2.07 0-2.86zM5.41 20L4 18.59l7.72-7.72 1.47 1.35L5.41 20z\"/>\n",
              "  </svg>\n",
              "      </button>\n",
              "      \n",
              "  <style>\n",
              "    .colab-df-container {\n",
              "      display:flex;\n",
              "      flex-wrap:wrap;\n",
              "      gap: 12px;\n",
              "    }\n",
              "\n",
              "    .colab-df-convert {\n",
              "      background-color: #E8F0FE;\n",
              "      border: none;\n",
              "      border-radius: 50%;\n",
              "      cursor: pointer;\n",
              "      display: none;\n",
              "      fill: #1967D2;\n",
              "      height: 32px;\n",
              "      padding: 0 0 0 0;\n",
              "      width: 32px;\n",
              "    }\n",
              "\n",
              "    .colab-df-convert:hover {\n",
              "      background-color: #E2EBFA;\n",
              "      box-shadow: 0px 1px 2px rgba(60, 64, 67, 0.3), 0px 1px 3px 1px rgba(60, 64, 67, 0.15);\n",
              "      fill: #174EA6;\n",
              "    }\n",
              "\n",
              "    [theme=dark] .colab-df-convert {\n",
              "      background-color: #3B4455;\n",
              "      fill: #D2E3FC;\n",
              "    }\n",
              "\n",
              "    [theme=dark] .colab-df-convert:hover {\n",
              "      background-color: #434B5C;\n",
              "      box-shadow: 0px 1px 3px 1px rgba(0, 0, 0, 0.15);\n",
              "      filter: drop-shadow(0px 1px 2px rgba(0, 0, 0, 0.3));\n",
              "      fill: #FFFFFF;\n",
              "    }\n",
              "  </style>\n",
              "\n",
              "      <script>\n",
              "        const buttonEl =\n",
              "          document.querySelector('#df-d48f9f8c-cd61-4f3c-98bd-e47fb46b9da0 button.colab-df-convert');\n",
              "        buttonEl.style.display =\n",
              "          google.colab.kernel.accessAllowed ? 'block' : 'none';\n",
              "\n",
              "        async function convertToInteractive(key) {\n",
              "          const element = document.querySelector('#df-d48f9f8c-cd61-4f3c-98bd-e47fb46b9da0');\n",
              "          const dataTable =\n",
              "            await google.colab.kernel.invokeFunction('convertToInteractive',\n",
              "                                                     [key], {});\n",
              "          if (!dataTable) return;\n",
              "\n",
              "          const docLinkHtml = 'Like what you see? Visit the ' +\n",
              "            '<a target=\"_blank\" href=https://colab.research.google.com/notebooks/data_table.ipynb>data table notebook</a>'\n",
              "            + ' to learn more about interactive tables.';\n",
              "          element.innerHTML = '';\n",
              "          dataTable['output_type'] = 'display_data';\n",
              "          await google.colab.output.renderOutput(dataTable, element);\n",
              "          const docLink = document.createElement('div');\n",
              "          docLink.innerHTML = docLinkHtml;\n",
              "          element.appendChild(docLink);\n",
              "        }\n",
              "      </script>\n",
              "    </div>\n",
              "  </div>\n",
              "  "
            ],
            "text/plain": [
              "       count        mean        std   min   25%   50%    75%    max\n",
              "year                                                               \n",
              "2017  8759.0   94.024775  39.571984   3.0  66.0  89.0  115.0  273.0\n",
              "2018  8760.0  102.403196  48.363907   4.0  68.0  93.0  113.0  370.0\n",
              "2019  8760.0   99.048744  48.780636  15.0  63.0  91.0  109.0  340.0\n",
              "2020  8784.0  101.770947  49.726643   4.0  64.0  94.0  113.0  364.0"
            ]
          },
          "execution_count": 20,
          "metadata": {},
          "output_type": "execute_result"
        }
      ],
      "source": [
        "# 연도별 적산차의 분포\n",
        "df.assign(year = df.datetime.dt.year).\\\n",
        "groupby('year').flow.describe()"
      ]
    },
    {
      "cell_type": "code",
      "execution_count": null,
      "metadata": {
        "colab": {
          "base_uri": "https://localhost:8080/",
          "height": 324
        },
        "id": "l3eOIr0N2P6f",
        "outputId": "41edea48-c28e-477b-ee7e-30b407f22b8d"
      },
      "outputs": [
        {
          "data": {
            "text/plain": [
              "<matplotlib.axes._subplots.AxesSubplot at 0x7f8152d39d50>"
            ]
          },
          "execution_count": 21,
          "metadata": {},
          "output_type": "execute_result"
        },
        {
          "data": {
            "image/png": "[encoded data removed]",
            "text/plain": [
              "<Figure size 432x288 with 1 Axes>"
            ]
          },
          "metadata": {},
          "output_type": "display_data"
        }
      ],
      "source": [
        "# 연도별 적산차의 분포\n",
        "df.assign(year = df.datetime.dt.year).boxplot(column='flow', by='year', grid=False)"
      ]
    },
    {
      "cell_type": "markdown",
      "metadata": {
        "id": "aIipbcAj1tNG"
      },
      "source": [
        "`-` 적산차의 경우 2017년과 나머지 연도는 다른 분포를 띄고있다 (평균과 분산이 더 커졌다)\n",
        "\n",
        "`-` 원인은 200을 넘어가는 큰 값의 빈도수에 있다\n",
        "\n",
        "`-` 모델 훈련에 2017년 데이터를 사용하지 않는게 미래를 예측하는데 더 나을 수 있다"
      ]
    },
    {
      "cell_type": "code",
      "execution_count": null,
      "metadata": {
        "colab": {
          "base_uri": "https://localhost:8080/",
          "height": 395
        },
        "id": "5lkHLhKReVPo",
        "outputId": "40e4cef5-cfee-4ebf-9494-d109e15f8da5"
      },
      "outputs": [
        {
          "data": {
            "text/plain": [
              "<matplotlib.axes._subplots.AxesSubplot at 0x7f8152e49990>"
            ]
          },
          "execution_count": 22,
          "metadata": {},
          "output_type": "execute_result"
        },
        {
          "data": {
            "image/png": "[encoded data removed]",
            "text/plain": [
              "<Figure size 1008x432 with 1 Axes>"
            ]
          },
          "metadata": {},
          "output_type": "display_data"
        }
      ],
      "source": [
        "fig, ax = plt.subplots(figsize=(14, 6))\n",
        "sns.lineplot(data=df['flow'], ax=ax)"
      ]
    },
    {
      "cell_type": "code",
      "execution_count": null,
      "metadata": {
        "colab": {
          "base_uri": "https://localhost:8080/",
          "height": 501
        },
        "id": "z08EvLmvIJv5",
        "outputId": "27f731be-131e-456c-f0f8-95982f0a7de8"
      },
      "outputs": [
        {
          "data": {
            "image/png": "[encoded data removed]",
            "text/plain": [
              "<Figure size 720x576 with 2 Axes>"
            ]
          },
          "metadata": {},
          "output_type": "display_data"
        }
      ],
      "source": [
        "fig, (ax1, ax2) = plt.subplots(2, 1, figsize=(10, 8))\n",
        "sgt.plot_acf(df['flow'], lags = 100, ax=ax1);\n",
        "sgt.plot_pacf(df['flow'], lags = 100, ax=ax2);"
      ]
    },
    {
      "cell_type": "markdown",
      "metadata": {
        "id": "aQ0MbMTP593M"
      },
      "source": [
        "`-` 그래프에 2017년을 제외하면 추세는 존재하지 않고 강한 계절성이 존재한다\n",
        "\n",
        "`-` ACF, PACF의 정의에 따라 0시점 차이는 의미가 없으므로 무시한다\n",
        "\n",
        "`-` 계절성이 매우 강하다 (6시간, 18시간, 24시간, 1주, 1달, 1년 등)\n",
        "\n",
        "`-` 신기한 것은 12시점(12시간)차이의 경우 자기상관이 존재하지 않는다\n",
        "\n",
        "`-` 사이클(W 모양)이 대략 24시간 마다 반복되므로 최소 24시간 분량의 변수를 모델의 입력으로 사용해야 한다\n",
        "\n",
        "- 추가 설명\n",
        "\n",
        "`-`  hello 라는 단어를 생각해보자, 다음의 같은 사이클이 반복된다\n",
        "\n",
        "`-` h $\\to$ e, e $\\to$ l, l $\\to$ l, l $\\to$ o, o $\\to$ h \n",
        "\n",
        "`-` 만약 단어 하나만이 입력으로 주어진다면 l이 입력으로 들어왔을 때 다음에 오는 단어가 l인지 o인지 알 수 없다\n",
        "\n",
        "`-` 하지만 연속된 단어 두개가 입력으로 주어진다면 다음에 올 단어를 예측할 수 있다\n",
        "\n",
        "`-` 예컨대 ll 이면 o, lo 이면 h이다\n",
        "\n",
        "`-` 이는 적산차를 예측하는 문제에서도 마찬가지이다"
      ]
    },
    {
      "cell_type": "markdown",
      "source": [
        "## 딥러닝 모델 학습"
      ],
      "metadata": {
        "id": "pbnHw9XBQ-Qr"
      }
    },
    {
      "cell_type": "code",
      "execution_count": 16,
      "metadata": {
        "id": "wHqcoMavJK1Q"
      },
      "outputs": [],
      "source": [
        "# !git clone https://github.com/ts-kim/RevIN.git"
      ]
    },
    {
      "cell_type": "code",
      "execution_count": 13,
      "metadata": {
        "id": "n8LBsMPybBJx"
      },
      "outputs": [],
      "source": [
        "import torch\n",
        "import torch.nn as nn\n",
        "import torch.optim as optim\n",
        "import torch.nn.functional as F\n",
        "from torch import Tensor\n",
        "from torch.utils.data import Dataset, DataLoader\n",
        "from torch.optim.lr_scheduler import _LRScheduler\n",
        "from torch.nn.modules.loss import _Loss\n",
        "from torch.optim import Optimizer\n",
        "from torch.autograd import Variable\n",
        "\n",
        "import scipy.sparse as sp\n",
        "\n",
        "import sklearn\n",
        "from sklearn.multioutput import RegressorChain\n",
        "from sklearn.preprocessing import MinMaxScaler\n",
        "from sklearn.metrics import mean_absolute_error\n",
        "from sklearn.utils import check_random_state\n",
        "from sklearn.utils.validation import check_is_fitted\n",
        "from sklearn.base import clone\n",
        "\n",
        "import xgboost\n",
        "from xgboost import XGBRegressor\n",
        "\n",
        "from RevIN.RevIN import RevIN"
      ]
    },
    {
      "cell_type": "markdown",
      "metadata": {
        "id": "0k2BNfj7EAll"
      },
      "source": [
        "- 학습 방법\n",
        "\n",
        "`-` private 데이터는 2022-01-01-00:00:00 부터 존재할 것이다\n",
        "\n",
        "`-` public 데이터는 2021-12-17 23:00:00 까지 존재한다\n",
        "\n",
        "`-` 2021-12-17 23:00:00 에서 337시간 뒤는 2022-01-01 00:00:00 이다\n",
        "\n",
        "`-` 337시간 후의 적산차를 예측하는 모델을 만드는게 적합하지만 그러면 시간상의 차이가 많이 나서 성능이 떨어진다\n",
        "\n",
        "`-` 따라서 1시간 후의 적산차를 예측하는 모델을 만들고 존재하지 않는 시각의 정보는 예측한 정보로 대체하여 사용하겠다\n",
        "\n",
        "`-` 1시간 후의 적산차를 예측하기 위해 pacf 그래프에 근거해 24시간의 배수에 해당하는 분량을 사용하겠다\n",
        "\n",
        "`-` 사이클을 포함하는(24시간 이상) 시계열 중 24시간 차이가 나는 데이터간의 직접적인 상관관계가 가장 크다\n",
        "\n",
        "`-` 하나의 사이클을 포함하면서 과적합을 피하기 위해 336시간 분량을 사용하겠다"
      ]
    },
    {
      "cell_type": "markdown",
      "source": [
        "- 전처리"
      ],
      "metadata": {
        "id": "qU-JFQKOWKe_"
      }
    },
    {
      "cell_type": "code",
      "execution_count": 14,
      "metadata": {
        "id": "HGvNlbWPGnsq"
      },
      "outputs": [],
      "source": [
        "def ts_train2supervised(\n",
        "    ts: NDArray[np.float_], \n",
        "    window: int = 24,\n",
        "    gap: int = 1, \n",
        "    step: int = 336\n",
        ") -> Tuple[NDArray[np.float_], NDArray[np.float_]]:\n",
        "    assert ts.ndim == 2 and ts.shape[1] == 1\n",
        "    X, y = [], []\n",
        "    for t in range(len(ts) - (window+gap+step) + 2):\n",
        "        X.append(ts[t:t+window])\n",
        "        y.append(ts[t+window+gap-1 : t+window+gap+step-1])\n",
        "    X, y = np.array(X), np.array(y)  \n",
        "    return X, y"
      ]
    },
    {
      "cell_type": "markdown",
      "metadata": {
        "id": "ksSFOul4X4Kn"
      },
      "source": [
        "`-` 예측을 위해 train과 test를 병합 "
      ]
    },
    {
      "cell_type": "code",
      "execution_count": 15,
      "metadata": {
        "id": "7HYc-KVpX0df"
      },
      "outputs": [],
      "source": [
        "def ts_test2supervised(\n",
        "    ts: NDArray[np.float_], \n",
        "    window: int = 24\n",
        ") -> NDArray[np.float_]:\n",
        "    assert ts.ndim == 2 and ts.shape[1] == 1\n",
        "    X = []\n",
        "    for t in range(len(ts) - window + 1):\n",
        "        X.append(ts[t:t+window])\n",
        "    X = np.array(X)\n",
        "    return X"
      ]
    },
    {
      "cell_type": "markdown",
      "source": [
        "- 난수 고정, gpu 설정"
      ],
      "metadata": {
        "id": "vZNIkGjNWMMB"
      }
    },
    {
      "cell_type": "code",
      "execution_count": 17,
      "metadata": {
        "id": "v019psysRPs_"
      },
      "outputs": [],
      "source": [
        "def seed_everything(seed):\n",
        "    random.seed(seed)\n",
        "    os.environ['PYTHONHASHSEED'] = str(seed)\n",
        "    np.random.seed(seed)\n",
        "    torch.manual_seed(seed)\n",
        "    torch.cuda.manual_seed(seed)\n",
        "    torch.backends.cudnn.deterministic = True\n",
        "    torch.backends.cudnn.benchmark = False\n",
        "    # torch.backends.cudnn.enabled = False  # False 이면 재현이 가능하지만 매우 느려지므로 마지막에 사용하자"
      ]
    },
    {
      "cell_type": "code",
      "execution_count": 18,
      "metadata": {
        "id": "pWvI00B4QjAw"
      },
      "outputs": [],
      "source": [
        "def clear_gpu() -> None:\n",
        "    gc.collect()\n",
        "    torch.cuda.empty_cache()"
      ]
    },
    {
      "cell_type": "code",
      "execution_count": 19,
      "metadata": {
        "colab": {
          "base_uri": "https://localhost:8080/"
        },
        "id": "NF4nZggTCFrk",
        "outputId": "5daecec1-cc06-4535-d957-604c8aded555"
      },
      "outputs": [
        {
          "output_type": "stream",
          "name": "stdout",
          "text": [
            "현재 device는 cuda입니다\n"
          ]
        }
      ],
      "source": [
        "DEVICE = torch.device('cuda' if torch.cuda.is_available() else 'cpu')\n",
        "print(f'현재 device는 {DEVICE}입니다')"
      ]
    },
    {
      "cell_type": "markdown",
      "metadata": {
        "id": "qDLcPXXlnMNp"
      },
      "source": [
        "- 피쳐 스케일링"
      ]
    },
    {
      "cell_type": "markdown",
      "metadata": {
        "id": "hTgXV10duoi9"
      },
      "source": [
        "`-` 0 ~ 1 사이로 정규화"
      ]
    },
    {
      "cell_type": "code",
      "execution_count": 20,
      "metadata": {
        "id": "mzutTB9enN9p"
      },
      "outputs": [],
      "source": [
        "minmax_scaler = MinMaxScaler()\n",
        "flow_scaled = minmax_scaler.fit_transform(df['flow'].values.reshape(-1, 1))  \n",
        "flow_scaled_test = minmax_scaler.transform(test['flow'].values.reshape(-1, 1))   "
      ]
    },
    {
      "cell_type": "markdown",
      "metadata": {
        "id": "wBTn29ty8G60"
      },
      "source": [
        "- 데이터 셋과 데이터 로더"
      ]
    },
    {
      "cell_type": "code",
      "execution_count": 21,
      "metadata": {
        "id": "h2fyJFdrkPMw"
      },
      "outputs": [],
      "source": [
        "class CustomDataset(Dataset):\n",
        "    def __init__(self, X: NDArray[np.float_], y: Optional[NDArray[np.float_]] = None) -> None:\n",
        "        super(CustomDataset, self).__init__()\n",
        "        self.X = X\n",
        "        self.y = y\n",
        "\n",
        "    def __getitem__(self, idx: int) -> Union[Tuple[Tensor, Tensor], Tensor]:\n",
        "        X = torch.FloatTensor(self.X[idx])\n",
        "        if self.y is not None:\n",
        "            y = torch.FloatTensor(self.y[idx])\n",
        "            return X, y\n",
        "        return X\n",
        "\n",
        "    def __len__(self) -> int:\n",
        "        return self.X.shape[0]"
      ]
    },
    {
      "cell_type": "code",
      "execution_count": 22,
      "metadata": {
        "id": "Sh9y6n1z8OAc"
      },
      "outputs": [],
      "source": [
        "def get_dataloader(\n",
        "    X: NDArray[np.float_], \n",
        "    y: Optional[NDArray[np.float_]] = None, \n",
        "    batch_size: int = 64, \n",
        "    shuffle: bool = True\n",
        ") -> DataLoader:\n",
        "    dataset = CustomDataset(X, y)    \n",
        "    dataloader = DataLoader(dataset, batch_size=batch_size, shuffle=shuffle)\n",
        "    return dataloader"
      ]
    },
    {
      "cell_type": "markdown",
      "metadata": {
        "id": "8Zcka8vB9vVd"
      },
      "source": [
        "- early stopping"
      ]
    },
    {
      "cell_type": "code",
      "execution_count": 23,
      "metadata": {
        "id": "GThXBWqi7NE1"
      },
      "outputs": [],
      "source": [
        "# ref: https://github.com/Bjarten/early-stopping-pytorch/blob/master/pytorchtools.py\n",
        "class EarlyStopping:\n",
        "    \"\"\"주어진 patience 횟수 이후로 validation score가 개선되지 않으면 학습을 조기 중단\"\"\"\n",
        "    mode_dict = {'min':-1, 'max':1}\n",
        "    score_metrics = [\n",
        "        'accuracy',\n",
        "        'f1_score',\n",
        "        'mae',\n",
        "    ]\n",
        "\n",
        "    def __init__(\n",
        "        self, \n",
        "        patience: int = 7, \n",
        "        monitor: str = 'loss', \n",
        "        mode: str = 'min', \n",
        "        min_delta: float = 0.0, \n",
        "        folder_path: str = './weights', \n",
        "        model_name: str = '',\n",
        "    ) -> None:\n",
        "        self.patience = patience\n",
        "        self.counter = 0\n",
        "        self.mode = mode\n",
        "        self.direction = self.mode_dict[mode]\n",
        "        self.monitor = monitor\n",
        "        self.best_score = -np.Inf\n",
        "        self.valid_loss = np.Inf\n",
        "        self.valid_metric_score = None  # 평가지표 (i.g. accuracy)\n",
        "        self.early_stop = False\n",
        "        self.min_delta = min_delta\n",
        "        self.folder_path = folder_path    \n",
        "        self.model_name = model_name\n",
        "        self.reset_fold()  # for k-fold cross validation\n",
        "\n",
        "    def __call__(\n",
        "        self, \n",
        "        model: nn.Module, \n",
        "        valid_loss: float, \n",
        "        valid_metric_score: Optional[float] = None\n",
        "    ) -> None:\n",
        "        # score는 클수록 좋다\n",
        "        if self.monitor == 'loss':\n",
        "            score = valid_loss * self.direction\n",
        "        elif self.monitor in self.score_metrics:\n",
        "            score = valid_metric_score * self.direction\n",
        "        else:\n",
        "            score = None\n",
        "\n",
        "        # score가 개선되었는지 확인\n",
        "        if score <= self.best_score + self.min_delta: \n",
        "            self.counter += 1 \n",
        "            if self.counter > self.patience:  # 만약 score가 개선되지 않은 에폭이 patience 횟수보다 크다면 조기 중단\n",
        "                self.early_stop = True\n",
        "        else: \n",
        "            self.best_score = score \n",
        "            self.save_checkpoint(model, valid_loss, valid_metric_score) \n",
        "            self.counter = 0  # score가 개선되었으므로 0으로 변경\n",
        "\n",
        "    def save_checkpoint(\n",
        "        self, \n",
        "        model: nn.Module, \n",
        "        valid_loss: float, \n",
        "        valid_metric_score: Optional[float] = None\n",
        "    ) -> None:\n",
        "        \"\"\"validation score가 개선되면 모델을 저장\"\"\"\n",
        "        torch.save(model.state_dict(), self.path) \n",
        "        self.valid_loss = valid_loss  # 모델이 더 좋게 갱신되었으므로 이때의 valid loss를 기준치로 변경\n",
        "        self.valid_metric_score = valid_metric_score  # 이때의 valid metric score도 변경\n",
        "\n",
        "    @property\n",
        "    def path(self) -> str:\n",
        "        return f'{self.folder_path}/{self.model_name}_best_{self.fold}.pt'\n",
        "\n",
        "    def reset_fold(self) -> None:\n",
        "        self.fold = 0\n",
        "\n",
        "    def update_fold(self) -> None:\n",
        "        self.fold += 1\n",
        "\n",
        "    def reset_score(self) -> None:\n",
        "        \"\"\"다음 fold 학습을 위해 score 관련 파라미터를 초기화\"\"\"\n",
        "        self.counter = 0\n",
        "        self.best_score = -np.Inf\n",
        "        self.valid_loss = np.Inf\n",
        "        self.valid_metric_score = None\n",
        "        self.early_stop = False"
      ]
    },
    {
      "cell_type": "markdown",
      "metadata": {
        "id": "Kd-RlDPrAvyT"
      },
      "source": [
        "- 손실 함수"
      ]
    },
    {
      "cell_type": "code",
      "execution_count": 24,
      "metadata": {
        "id": "PvuxFxaFAwwD"
      },
      "outputs": [],
      "source": [
        "loss_fn = nn.L1Loss()  # MAE"
      ]
    },
    {
      "cell_type": "markdown",
      "source": [
        "- 학습 및 검증"
      ],
      "metadata": {
        "id": "ixIZ19boV4tq"
      }
    },
    {
      "cell_type": "code",
      "execution_count": 25,
      "metadata": {
        "id": "3TYzo_fJAdd0"
      },
      "outputs": [],
      "source": [
        "def train(\n",
        "    model: nn.Module,\n",
        "    dataloader: DataLoader, \n",
        "    device: torch.device,\n",
        "    args: EasyDict,\n",
        "    loss_fn: _Loss, \n",
        "    optimizer: Optimizer, \n",
        "    scheduler: Optional[_LRScheduler] = None\n",
        ") -> Tuple[nn.Module, float]:\n",
        "    \"\"\"dataloader의 데이터로 모델을 학습시킨 후 학습된 모델과 평균 배치 훈련 오차를 반환\"\"\"  \n",
        "    train_loss = 0.0\n",
        "    model.to(device)\n",
        "    model.train()\n",
        "    scaler = torch.cuda.amp.GradScaler()\n",
        "\n",
        "    for X, y in dataloader:  \n",
        "        X, y = X.to(device), y.to(device) \n",
        "        with torch.cuda.amp.autocast():\n",
        "            y_hat = model(X)\n",
        "            y_hat = y_hat.squeeze(2)\n",
        "            loss = loss_fn(y_hat, y)  \n",
        "\n",
        "        optimizer.zero_grad()  \n",
        "        scaler.scale(loss).backward()\n",
        "        scaler.unscale_(optimizer)\n",
        "        torch.nn.utils.clip_grad_norm_(model.parameters(), max_norm=args.max_norm)\n",
        "        scaler.step(optimizer)\n",
        "        scaler.update()\n",
        "        train_loss += (loss.item() / len(dataloader)) \n",
        "  \n",
        "    # 에폭마다 학습률 조절\n",
        "    if scheduler is not None:\n",
        "        scheduler.step()\n",
        "        \n",
        "    return model, train_loss"
      ]
    },
    {
      "cell_type": "code",
      "execution_count": 26,
      "metadata": {
        "id": "fVZDILgmAnfl"
      },
      "outputs": [],
      "source": [
        "def evaluate(\n",
        "    model: nn.Module, \n",
        "    dataloader: DataLoader, \n",
        "    device: torch.device,\n",
        "    args: EasyDict,\n",
        "    loss_fn: _Loss\n",
        ") -> Tuple[float, float]:\n",
        "    \"\"\"dataloader의 데이터를 모델이 평가한 후 평균 배치 검증 오차와 ACD f1 score를 반환\"\"\"\n",
        "    valid_loss = 0.0\n",
        "    y_list, yhat_list = np.array([]).reshape(0, args.num_classes), np.array([]).reshape(0, args.num_classes)\n",
        "    model.to(device)\n",
        "    model.eval()  \n",
        "\n",
        "    with torch.no_grad():  \n",
        "        for X, y in dataloader:  \n",
        "            X, y = X.to(device), y.to(device) \n",
        "            y_hat = model(X)\n",
        "            y_hat = y_hat.squeeze(2)\n",
        "            loss = loss_fn(y_hat, y)  \n",
        "            y = y.detach().cpu().numpy()  # y shape: (B, 336)\n",
        "            y_hat = y_hat.detach().cpu().numpy()  # yhat shape: (B, 336)\n",
        "            y_list = np.concatenate([y_list, minmax_scaler.inverse_transform(y)])\n",
        "            yhat_list = np.concatenate([yhat_list, minmax_scaler.inverse_transform(y_hat)])\n",
        "            valid_loss += (loss.item() / len(dataloader))\n",
        "\n",
        "    valid_mae = mean_absolute_error(y_list, yhat_list)        \n",
        "    return valid_loss, valid_mae"
      ]
    },
    {
      "cell_type": "code",
      "execution_count": 27,
      "metadata": {
        "id": "aqXGOMVTAp0V"
      },
      "outputs": [],
      "source": [
        "def holdout_validate(\n",
        "    model: nn.Module, \n",
        "    X_train: NDArray[np.float_],\n",
        "    y_train: NDArray[np.float_],\n",
        "    X_val: NDArray[np.float_],\n",
        "    y_val: NDArray[np.float_],\n",
        "    loss_fn: _Loss, \n",
        "    early_stopping: EarlyStopping,\n",
        "    device: torch.device,\n",
        "    args: EasyDict \n",
        ") -> Tuple[nn.Module, List[List[float]], List[List[float]]]:\n",
        "    \"\"\"K겹 교차검증을 통해 모델의 성능을 평가하고 학습된 모델과 폴드별 훈련 손실, 검증 손실을 반환\"\"\"\n",
        "    seed_everything(args.seed)  # 정확한 재현을 위함\n",
        "    fold_valid_loss = []   # 폴드별 best 검증 손실\n",
        "    fold_train_losses_per_epoch = [[]]  # 폴드별 1 에폭에 따른 훈련 배치 손실\n",
        "    fold_valid_losses_per_epoch = [[]]  # 폴드별 1 에폭에 따른 검증 배치 손실\n",
        "    early_stopping.reset_fold()  # fold 초기화\n",
        "\n",
        "    print(f'[1 / 1] Fold Training......')\n",
        "\n",
        "    # 메모리 절약\n",
        "    clear_gpu()\n",
        "\n",
        "    # Dataloader\n",
        "    train_dataloader = get_dataloader(X_train, y_train, args.bs)\n",
        "    valid_dataloader = get_dataloader(X_val, y_val, args.bs, shuffle=False)\n",
        "\n",
        "    # optimizer\n",
        "    optimizer = optim.AdamW(model.parameters(), lr=args.lr, weight_decay=args.weight_decay) \n",
        "\n",
        "    # scheduler\n",
        "    scheduler = optim.lr_scheduler.ExponentialLR(optimizer, gamma=0.95)\n",
        "\n",
        "    # early stopping, 다음 폴드 학습을 위해 score 관련 파라미터 초기화\n",
        "    early_stopping.reset_score()\n",
        "    early_stopping.update_fold()  \n",
        "    \n",
        "    # 폴드마다 모델 학습\n",
        "    for epoch in tqdm(range(1, args.num_epochs+1)):  # (배치사이즈 X 에폭) 만큼 훈련시킴           \n",
        "        model, train_loss = train(model, train_dataloader, device, args, loss_fn, optimizer, scheduler)  # 모델 학습\n",
        "        valid_loss, valid_mae = evaluate(model, valid_dataloader, device, args, loss_fn)  # 모델 평가\n",
        "        fold_train_losses_per_epoch[0].append(train_loss) \n",
        "        fold_valid_losses_per_epoch[0].append(valid_loss)  \n",
        "\n",
        "        print_score_condition = (epoch == 1 or epoch % 5 == 0 or epoch == args.num_epochs)  \n",
        "        score_information = f'[Epoch: {epoch:>2}]  train loss = {train_loss:.5f}  valid loss = {valid_loss:.5f}  valid MAE = {valid_mae:.5f}'\n",
        "\n",
        "        # 평균 배치 훈련 오차와 검증 오차 출력\n",
        "        if print_score_condition:  \n",
        "            print(score_information)  \n",
        "            \n",
        "        # 에폭마다 early stopping 실행\n",
        "        early_stopping(model, valid_loss, valid_mae)  \n",
        "        if early_stopping.early_stop: \n",
        "            if not print_score_condition:  # 이미 출력한 에폭에 대해 중복으로 출력하지 않기 위함\n",
        "                print(score_information) \n",
        "            print('Early Stopping!')\n",
        "            break \n",
        "\n",
        "    fold_valid_loss.append(early_stopping.valid_loss)  # 폴드별 best 검증 손실\n",
        "      \n",
        "    # 폴드별 학습 및 검증 종료시 best 검증 손실을 출력\n",
        "    print(f'1 Fold -> Valid Loss: {early_stopping.valid_loss:.5f}  Valid MAE: {early_stopping.valid_metric_score:.5f}')\n",
        "    return model, fold_train_losses_per_epoch, fold_valid_losses_per_epoch"
      ]
    },
    {
      "cell_type": "markdown",
      "metadata": {
        "id": "pWYLU7_oUqRA"
      },
      "source": [
        "- 에폭에 따른 손실의 변화"
      ]
    },
    {
      "cell_type": "code",
      "execution_count": 28,
      "metadata": {
        "id": "FbH8KhGHTVgA"
      },
      "outputs": [],
      "source": [
        "def show_loss_plot(\n",
        "    fold_train_losses: List[List[float]],\n",
        "    fold_valid_losses: List[List[float]]\n",
        ") -> None:\n",
        "    \"\"\"폴드별로 에폭에 따른 모델의 훈련 손실과 검증 손실의 변화를 시각화\"\"\"\n",
        "    assert len(fold_train_losses) == len(fold_valid_losses)\n",
        "    num_folds = len(fold_train_losses)\n",
        "    ncols = 3\n",
        "    nrows = 1 + (num_folds - 1)//ncols\n",
        "    fig, axes = plt.subplots(nrows, ncols, figsize=(ncols*4, nrows*4)) \n",
        "\n",
        "    # 폴드마다 에폭에 따른 훈련 손실과 검증 손실의 변화를 시각화\n",
        "    for fold, (ax, train_losses, valid_losses) in enumerate(zip(axes.flatten(), fold_train_losses, fold_valid_losses), start=1):\n",
        "        assert len(train_losses) == len(valid_losses) \n",
        "        if fold > num_folds:\n",
        "            break\n",
        "\n",
        "        num_epochs = len(train_losses)\n",
        "        ax.set_title(f'{fold} Fold')\n",
        "        ax.plot(range(1, num_epochs+1), train_losses, label='Train')\n",
        "        ax.plot(range(1, num_epochs+1), valid_losses, label='Valid')\n",
        "        ax.set_xlabel('Epoch')\n",
        "        ax.set_ylabel('Loss')\n",
        "        ax.legend()\n",
        "\n",
        "    fig.suptitle('Train Loss and Valid Loss', x=0.51, y=1.05, fontsize=15)\n",
        "    fig.tight_layout()\n",
        "\n",
        "    # 남는 서브 플랏 제거\n",
        "    for ax in axes.flatten():\n",
        "        if not ax.has_data():\n",
        "            fig.delaxes(ax)"
      ]
    },
    {
      "cell_type": "markdown",
      "source": [
        "- Test 예측"
      ],
      "metadata": {
        "id": "czEnyW8-RuuB"
      }
    },
    {
      "cell_type": "code",
      "execution_count": 29,
      "metadata": {
        "id": "QYwPFyu3jq2X"
      },
      "outputs": [],
      "source": [
        "def predict(\n",
        "    model: nn.Module, \n",
        "    X: NDArray[np.float_],\n",
        "    device: torch.device,\n",
        "    args: EasyDict\n",
        ") -> Tensor:   \n",
        "    weight_paths = glob(args.weight_folder_path + '/*.pt')\n",
        "    dataloader = get_dataloader(X, shuffle=False)\n",
        "    test_preds = torch.zeros(len(dataloader.dataset), args.num_classes)  \n",
        "    num_folds = len([weight_path for weight_path in weight_paths if args.model_name in weight_path])\n",
        "     \n",
        "    for weight_path in tqdm(weight_paths):\n",
        "        if args.model_name not in weight_path:\n",
        "            continue\n",
        "            \n",
        "        preds = np.array([]).reshape(0, args.num_classes)\n",
        "        model.load_state_dict(torch.load(weight_path, map_location=device))\n",
        "        model.to(device)\n",
        "        model.eval()\n",
        "\n",
        "        with torch.no_grad(): \n",
        "            for X in dataloader:  # test 데이터는 라벨(y)이 없다\n",
        "                X = X.to(device)  # shape of X: (Batch, Sequence, Feature)\n",
        "                y_hat = model(X).detach().cpu().squeeze(2).numpy()  # shape of yhat: (Batch, Class)\n",
        "                preds = np.concatenate([preds, y_hat]) \n",
        "\n",
        "        test_preds += (preds / num_folds) \n",
        "    return test_preds     "
      ]
    },
    {
      "cell_type": "markdown",
      "source": [
        "- 후처리\n",
        "\n",
        "`-` 훈련 데이터를 보면 적산차값이 모두 정수형이다\n",
        "\n",
        "`-` 예측값도 반올림하여 정수로 만들어주겠다\n",
        "\n",
        "`-` 최솟값과 최댓값을 제한"
      ],
      "metadata": {
        "id": "32lGyi98VsOE"
      }
    },
    {
      "cell_type": "code",
      "source": [
        "MAX = df['flow'].values.max()\n",
        "MIN = df['flow'].values.min()"
      ],
      "metadata": {
        "id": "XtkEbf0aXVrA"
      },
      "execution_count": 44,
      "outputs": []
    },
    {
      "cell_type": "code",
      "source": [
        "def postprocessing(pred: NDArray[np.float_], minimum: float, maximum: float) -> NDArray[np.float_]:\n",
        "    pred = np.clip(pred, minimum, maximum)\n",
        "    pred = np.round(pred)\n",
        "    return pred"
      ],
      "metadata": {
        "id": "ljuUBoGLWb0G"
      },
      "execution_count": 49,
      "outputs": []
    },
    {
      "cell_type": "markdown",
      "metadata": {
        "id": "hiQylcQBg6Rs"
      },
      "source": [
        "### LSTM 모델 학습"
      ]
    },
    {
      "cell_type": "markdown",
      "metadata": {
        "id": "miXCkgdyROMY"
      },
      "source": [
        "#### 모델 학습 준비"
      ]
    },
    {
      "cell_type": "markdown",
      "source": [
        "`-` 96개의 데이터를 사용"
      ],
      "metadata": {
        "id": "wCvK7a3nnKDe"
      }
    },
    {
      "cell_type": "code",
      "execution_count": 126,
      "metadata": {
        "id": "hWjTbSt88Zp1"
      },
      "outputs": [],
      "source": [
        "lstm_args = EasyDict({\n",
        "    'weight_folder_path':'./weights',\n",
        "    'model_name':'lstm',\n",
        "    'window':96,\n",
        "    'gap':1,\n",
        "    'num_classes':336,\n",
        "    'num_epochs':60,\n",
        "    'bs':64,\n",
        "    'lr':2e-4,\n",
        "    'weight_decay':1e-2,\n",
        "    'max_norm':1.0,\n",
        "    'seed':22,\n",
        "})"
      ]
    },
    {
      "cell_type": "code",
      "execution_count": 127,
      "metadata": {
        "id": "kQzTwX5w99dk"
      },
      "outputs": [],
      "source": [
        "create_folder(lstm_args.weight_folder_path)"
      ]
    },
    {
      "cell_type": "markdown",
      "metadata": {
        "id": "defexgRJ8B_E"
      },
      "source": [
        "- 데이터 생성"
      ]
    },
    {
      "cell_type": "code",
      "execution_count": 128,
      "metadata": {
        "id": "nPGsiX_ZovQA"
      },
      "outputs": [],
      "source": [
        "Xs, ys = ts_train2supervised(flow_scaled, window=lstm_args.window, gap=lstm_args.gap, step=lstm_args.num_classes)  # s == scaled\n",
        "ys = ys.squeeze(2)"
      ]
    },
    {
      "cell_type": "code",
      "execution_count": 129,
      "metadata": {
        "id": "ln-YGxvmsX-X"
      },
      "outputs": [],
      "source": [
        "# 8:2로 분할 (9:1로 분할하면 성능이 MAE 기준 0.02 더 낫지만 속도와 모델의 견고성 측면에서 8:2로 분할하겠다)\n",
        "Xs_train, ys_train = Xs[:-(Xs.shape[0]//5)], ys[:-(ys.shape[0]//5)] \n",
        "Xs_val, ys_val = Xs[-(Xs.shape[0]//5):], ys[-(ys.shape[0]//5):]"
      ]
    },
    {
      "cell_type": "markdown",
      "metadata": {
        "id": "B53DxlV8BHCE"
      },
      "source": [
        "#### 모델 학습 및 검증"
      ]
    },
    {
      "cell_type": "code",
      "execution_count": 130,
      "metadata": {
        "id": "kmPZ-LAhTK4P"
      },
      "outputs": [],
      "source": [
        "# 참고: https://pytorch.org/docs/stable/generated/torch.nn.LSTM.html\n",
        "# 참고할 것: https://teddylee777.github.io/pytorch/pytorch-rnn\n",
        "# input of shape (batch, sequence, feature(=input size)) \n",
        "class LSTMModel(nn.Module):\n",
        "    def __init__(self, input_size=1, hidden_size=256, num_layers=4, num_classes=336, dropout_prob=0.1):\n",
        "        super(LSTMModel, self).__init__()\n",
        "        self.lstm = nn.LSTM(input_size, hidden_size, num_layers, batch_first=True, dropout=dropout_prob)\n",
        "        self.fc = nn.Linear(hidden_size, num_classes)\n",
        "        self.revin_layer = RevIN(input_size)  # 시간에 따라 변하는 시계열의 평균과 분산을 스케일링\n",
        "\n",
        "    def forward(self, x):  # shape of x: (Batch, Sequence, Feature)\n",
        "        # x shape: (B, 96(=sequence), input_size)\n",
        "        x = self.revin_layer(x, 'norm')\n",
        "        # x shape: (B, 96, input_size)\n",
        "        x, _ = self.lstm(x)  # h_0, c_0 기본값은 0으로 채워진 텐서\n",
        "        # x shape: (B, 96, hidden_size)\n",
        "        x = self.fc(x[:,-1,:])  \n",
        "        # x shape: (B, num_classes)\n",
        "        x = x.unsqueeze(2)\n",
        "        # x shape: (B, num_classes, input_size)\n",
        "        x = self.revin_layer(x, 'denorm')\n",
        "        # x shape: (B, num_classes, input_size)\n",
        "        return x"
      ]
    },
    {
      "cell_type": "code",
      "execution_count": 131,
      "metadata": {
        "id": "5G_xoCI49yLE"
      },
      "outputs": [],
      "source": [
        "early_stopping = EarlyStopping(patience=10,\n",
        "                               monitor='mae',\n",
        "                               mode='min',\n",
        "                               folder_path=lstm_args.weight_folder_path,\n",
        "                               model_name=lstm_args.model_name)"
      ]
    },
    {
      "cell_type": "code",
      "execution_count": 132,
      "metadata": {
        "id": "U5mefyHqRWIK"
      },
      "outputs": [],
      "source": [
        "seed_everything(lstm_args.seed)\n",
        "model = LSTMModel(input_size=1, hidden_size=256, num_layers=4, num_classes=lstm_args.num_classes, dropout_prob=0.1).to(DEVICE)"
      ]
    },
    {
      "cell_type": "code",
      "execution_count": 133,
      "metadata": {
        "colab": {
          "base_uri": "https://localhost:8080/",
          "height": 341,
          "referenced_widgets": [
            "6546d9db7382465ca2dd07786b57d39d",
            "1c247ffae8954f3194db3a6075ae62ac",
            "0f34c4ded9514b869b202b9d2db29042",
            "665105db44ac48ebb9a5f4ca835daa38",
            "3b0a980428b34bcd963a8ba8e861990f",
            "0b0d6190671b44e195706a8720b3fc0a",
            "7f5c7ac63bff4fa98e5e2fe63c5d846e",
            "488ffc063e21409f8e5a45e851ca0731",
            "d70613551fb746e39bbbc40097169c44",
            "a78ecbb6dc8c41bf9bba8d0b543d0fa0",
            "c557133b092140c1a7a60cd8bd45c3e0"
          ]
        },
        "id": "i71Lk1M2nsz0",
        "outputId": "9cf25117-70ba-4ebd-d1b9-f46c9b0569ca"
      },
      "outputs": [
        {
          "output_type": "stream",
          "name": "stdout",
          "text": [
            "[1 / 1] Fold Training......\n"
          ]
        },
        {
          "output_type": "display_data",
          "data": {
            "text/plain": [
              "  0%|          | 0/60 [00:00<?, ?it/s]"
            ],
            "application/vnd.jupyter.widget-view+json": {
              "version_major": 2,
              "version_minor": 0,
              "model_id": "6546d9db7382465ca2dd07786b57d39d"
            }
          },
          "metadata": {}
        },
        {
          "output_type": "stream",
          "name": "stdout",
          "text": [
            "[Epoch:  1]  train loss = 0.06861  valid loss = 0.06298  valid MAE = 23.11774\n",
            "[Epoch:  5]  train loss = 0.05982  valid loss = 0.06241  valid MAE = 22.90741\n",
            "[Epoch: 10]  train loss = 0.05724  valid loss = 0.06208  valid MAE = 22.78784\n",
            "[Epoch: 15]  train loss = 0.05260  valid loss = 0.06123  valid MAE = 22.47117\n",
            "[Epoch: 20]  train loss = 0.05190  valid loss = 0.06089  valid MAE = 22.35006\n",
            "[Epoch: 25]  train loss = 0.05145  valid loss = 0.06067  valid MAE = 22.26956\n",
            "[Epoch: 30]  train loss = 0.05112  valid loss = 0.06075  valid MAE = 22.30070\n",
            "[Epoch: 35]  train loss = 0.05084  valid loss = 0.06065  valid MAE = 22.26374\n",
            "[Epoch: 40]  train loss = 0.05065  valid loss = 0.06055  valid MAE = 22.22520\n",
            "[Epoch: 45]  train loss = 0.05048  valid loss = 0.06050  valid MAE = 22.20951\n",
            "[Epoch: 50]  train loss = 0.05037  valid loss = 0.06069  valid MAE = 22.28236\n",
            "[Epoch: 55]  train loss = 0.05026  valid loss = 0.06051  valid MAE = 22.21602\n",
            "[Epoch: 58]  train loss = 0.05023  valid loss = 0.06053  valid MAE = 22.21776\n",
            "Early Stopping!\n",
            "1 Fold -> Valid Loss: 0.06048  Valid MAE: 22.20214\n"
          ]
        }
      ],
      "source": [
        "model, fold_train_losses_per_epoch, fold_valid_losses_per_epoch = holdout_validate(model, Xs_train, ys_train, Xs_val, ys_val,\n",
        "                                                                                   loss_fn, early_stopping, DEVICE, lstm_args)"
      ]
    },
    {
      "cell_type": "code",
      "execution_count": 134,
      "metadata": {
        "colab": {
          "base_uri": "https://localhost:8080/",
          "height": 320
        },
        "id": "ksgGH67RTXZo",
        "outputId": "7e1c8ad2-f8a9-4552-aa51-401118bd1462"
      },
      "outputs": [
        {
          "output_type": "display_data",
          "data": {
            "text/plain": [
              "<Figure size 864x288 with 1 Axes>"
            ],
            "image/png": "[encoded data removed]"
          },
          "metadata": {}
        }
      ],
      "source": [
        "show_loss_plot(fold_train_losses_per_epoch, fold_valid_losses_per_epoch)"
      ]
    },
    {
      "cell_type": "markdown",
      "metadata": {
        "id": "_qJHHb6SqxkE"
      },
      "source": [
        "#### Test 예측"
      ]
    },
    {
      "cell_type": "code",
      "source": [
        "flow_scaled_all = np.concatenate([flow_scaled[-lstm_args.window:], flow_scaled_test])  # train + test\n",
        "Xs_test = ts_test2supervised(flow_scaled_all, window=lstm_args.window)   "
      ],
      "metadata": {
        "id": "bUTr2eQFdW5-"
      },
      "execution_count": 135,
      "outputs": []
    },
    {
      "cell_type": "code",
      "execution_count": 136,
      "metadata": {
        "colab": {
          "base_uri": "https://localhost:8080/",
          "height": 49,
          "referenced_widgets": [
            "611008a1cf164e01954fd8c6ebf5b63a",
            "dd75b92a657e4fa8a8efe9ea2f47a930",
            "da45312bb9bd49eda0bfb43471ef789e",
            "29dda6400d3242678b62ccf13e0036c7",
            "9b5fb83b9ef54b0ea66d24ff8993b5f6",
            "421dc6e3fc214d42abb41e7533b47d1b",
            "2bddd3dcba07440a887930912444fc2d",
            "a17ac96bc1db4bfb86310052fbdf77c7",
            "019f5c7313f24b0e8f7706e827541216",
            "7e87cc3f208644c4a1aa4ef6d455ca23",
            "bf9b5473e56f4518bfb69b33bdd4954a"
          ]
        },
        "id": "cCDgzN-prDCB",
        "outputId": "70c2a21e-331b-4c22-b898-fa68f1cf064e"
      },
      "outputs": [
        {
          "output_type": "display_data",
          "data": {
            "text/plain": [
              "  0%|          | 0/4 [00:00<?, ?it/s]"
            ],
            "application/vnd.jupyter.widget-view+json": {
              "version_major": 2,
              "version_minor": 0,
              "model_id": "611008a1cf164e01954fd8c6ebf5b63a"
            }
          },
          "metadata": {}
        }
      ],
      "source": [
        "preds = predict(model, Xs_test, DEVICE, lstm_args)"
      ]
    },
    {
      "cell_type": "code",
      "execution_count": 139,
      "metadata": {
        "id": "sh4c4lWMruF5"
      },
      "outputs": [],
      "source": [
        "preds = minmax_scaler.inverse_transform(preds)\n",
        "submission.loc[:, 'h0':'h335'] = postprocessing(preds, MIN, MAX)\n",
        "submission.to_csv(f'./data/submission_apo_{lstm_args.model_name}.csv', index=False)"
      ]
    },
    {
      "cell_type": "markdown",
      "metadata": {
        "id": "R7aqcvAkYlT1"
      },
      "source": [
        "- 성능 확인"
      ]
    },
    {
      "cell_type": "code",
      "execution_count": 138,
      "metadata": {
        "colab": {
          "base_uri": "https://localhost:8080/"
        },
        "id": "kcFFI6ONpsUT",
        "outputId": "7690039f-0906-459a-f7fb-435059805851"
      },
      "outputs": [
        {
          "output_type": "execute_result",
          "data": {
            "text/plain": [
              "22.328050953970415"
            ]
          },
          "metadata": {},
          "execution_count": 138
        }
      ],
      "source": [
        "tmp = test.copy()\n",
        "for w in range(1, 336):\n",
        "    tmp[f'flow{w}'] = tmp['flow'].shift(-w)\n",
        "\n",
        "y_hat = submission.loc[:, 'h0':'h335'].to_numpy()[:8089]\n",
        "tmp = tmp.dropna().loc[:, 'flow':'flow335'].to_numpy()\n",
        "mean_absolute_error(tmp, y_hat)"
      ]
    },
    {
      "cell_type": "markdown",
      "metadata": {
        "id": "LgkTD-g3WHrB"
      },
      "source": [
        "### SCI Net 모델 학습"
      ]
    },
    {
      "cell_type": "markdown",
      "metadata": {
        "id": "eIJ2BlapnPXm"
      },
      "source": [
        "#### 모델 학습 준비"
      ]
    },
    {
      "cell_type": "code",
      "execution_count": 140,
      "metadata": {
        "id": "ZelBODt_nR2W"
      },
      "outputs": [],
      "source": [
        "sci_args = EasyDict({\n",
        "    'weight_folder_path':'./weights',\n",
        "    'model_name':'sci',\n",
        "    'window':336,\n",
        "    'gap':1,\n",
        "    'num_classes':336,\n",
        "    'num_epochs':60,\n",
        "    'bs':64,\n",
        "    'lr':2e-4,\n",
        "    'weight_decay':1e-2,\n",
        "    'max_norm':1.0,\n",
        "    'seed':22,\n",
        "})"
      ]
    },
    {
      "cell_type": "code",
      "source": [
        "Xs, ys = ts_train2supervised(flow_scaled, window=sci_args.window, gap=sci_args.gap, step=sci_args.num_classes)  # s == scaled\n",
        "ys = ys.squeeze(2)\n",
        "\n",
        "Xs_train, ys_train = Xs[:-(Xs.shape[0]//5)], ys[:-(ys.shape[0]//5)] \n",
        "Xs_val, ys_val = Xs[-(Xs.shape[0]//5):], ys[-(ys.shape[0]//5):]"
      ],
      "metadata": {
        "id": "ILru_SvKvQAX"
      },
      "execution_count": 141,
      "outputs": []
    },
    {
      "cell_type": "code",
      "execution_count": 142,
      "metadata": {
        "id": "Ac6jf_elcyAl"
      },
      "outputs": [],
      "source": [
        "early_stopping = EarlyStopping(patience=10,\n",
        "                               monitor='mae',\n",
        "                               mode='min',\n",
        "                               folder_path=sci_args.weight_folder_path,\n",
        "                               model_name=sci_args.model_name)"
      ]
    },
    {
      "cell_type": "code",
      "execution_count": 143,
      "metadata": {
        "id": "hZOu5RQjjvSh"
      },
      "outputs": [],
      "source": [
        "# https://github.com/ts-kim/RevIN/blob/master/baselines/SCINet/models/SCINet.py\n",
        "# Copyright (c) 2022 Electronics and Telecommunications Research Institute (ETRI) \n",
        "class Splitting(nn.Module):\n",
        "    def __init__(self):\n",
        "        super(Splitting, self).__init__()\n",
        "\n",
        "    def even(self, x):\n",
        "        return x[:, ::2, :]\n",
        "\n",
        "    def odd(self, x):\n",
        "        return x[:, 1::2, :]\n",
        "\n",
        "    def forward(self, x):\n",
        "        \"\"\"Returns the odd and even part\"\"\"\n",
        "        return (self.even(x), self.odd(x))\n",
        "\n",
        "\n",
        "class Interactor(nn.Module):\n",
        "    def __init__(self, in_planes, splitting=True,\n",
        "                 kernel=5, dropout=0.5, groups=1, hidden_size=1, INN=True):\n",
        "        super(Interactor, self).__init__()\n",
        "        self.modified = INN\n",
        "        self.kernel_size = kernel\n",
        "        self.dilation = 1\n",
        "        self.dropout = dropout\n",
        "        self.hidden_size = hidden_size\n",
        "        self.groups = groups\n",
        "\n",
        "        if self.kernel_size % 2 == 0:\n",
        "            pad_l = self.dilation * (self.kernel_size - 2) // 2 + 1  # by default: stride==1 \n",
        "            pad_r = self.dilation * (self.kernel_size) // 2 + 1  # by default: stride==1 \n",
        "        else:\n",
        "            pad_l = self.dilation * (self.kernel_size - 1) // 2 + 1  # we fix the kernel size of the second layer as 3.\n",
        "            pad_r = self.dilation * (self.kernel_size - 1) // 2 + 1\n",
        "\n",
        "        self.splitting = splitting\n",
        "        self.split = Splitting()\n",
        "\n",
        "        modules_P = []\n",
        "        modules_U = []\n",
        "        modules_psi = []\n",
        "        modules_phi = []\n",
        "        prev_size = 1\n",
        "\n",
        "        size_hidden = self.hidden_size\n",
        "        modules_P += [\n",
        "            nn.ReplicationPad1d((pad_l, pad_r)),\n",
        "\n",
        "            nn.Conv1d(in_planes * prev_size, int(in_planes * size_hidden),\n",
        "                      kernel_size=self.kernel_size, dilation=self.dilation, stride=1, groups=self.groups),\n",
        "            nn.LeakyReLU(negative_slope=0.01, inplace=True),\n",
        "\n",
        "            nn.Dropout(self.dropout),\n",
        "            nn.Conv1d(int(in_planes * size_hidden), in_planes,\n",
        "                      kernel_size=3, stride=1, groups=self.groups),\n",
        "            nn.Tanh()\n",
        "        ]\n",
        "        modules_U += [\n",
        "            nn.ReplicationPad1d((pad_l, pad_r)),\n",
        "            nn.Conv1d(in_planes * prev_size, int(in_planes * size_hidden),\n",
        "                      kernel_size=self.kernel_size, dilation=self.dilation, stride=1, groups=self.groups),\n",
        "            nn.LeakyReLU(negative_slope=0.01, inplace=True),\n",
        "            nn.Dropout(self.dropout),\n",
        "            nn.Conv1d(int(in_planes * size_hidden), in_planes,\n",
        "                      kernel_size=3, stride=1, groups=self.groups),\n",
        "            nn.Tanh()\n",
        "        ]\n",
        "\n",
        "        modules_phi += [\n",
        "            nn.ReplicationPad1d((pad_l, pad_r)),\n",
        "            nn.Conv1d(in_planes * prev_size, int(in_planes * size_hidden),\n",
        "                      kernel_size=self.kernel_size, dilation=self.dilation, stride=1, groups=self.groups),\n",
        "            nn.LeakyReLU(negative_slope=0.01, inplace=True),\n",
        "            nn.Dropout(self.dropout),\n",
        "            nn.Conv1d(int(in_planes * size_hidden), in_planes,\n",
        "                      kernel_size=3, stride=1, groups=self.groups),\n",
        "            nn.Tanh()\n",
        "        ]\n",
        "        modules_psi += [\n",
        "            nn.ReplicationPad1d((pad_l, pad_r)),\n",
        "            nn.Conv1d(in_planes * prev_size, int(in_planes * size_hidden),\n",
        "                      kernel_size=self.kernel_size, dilation=self.dilation, stride=1, groups=self.groups),\n",
        "            nn.LeakyReLU(negative_slope=0.01, inplace=True),\n",
        "            nn.Dropout(self.dropout),\n",
        "            nn.Conv1d(int(in_planes * size_hidden), in_planes,\n",
        "                      kernel_size=3, stride=1, groups=self.groups),\n",
        "            nn.Tanh()\n",
        "        ]\n",
        "        self.phi = nn.Sequential(*modules_phi)\n",
        "        self.psi = nn.Sequential(*modules_psi)\n",
        "        self.P = nn.Sequential(*modules_P)\n",
        "        self.U = nn.Sequential(*modules_U)\n",
        "\n",
        "    def forward(self, x):\n",
        "        if self.splitting:\n",
        "            (x_even, x_odd) = self.split(x)\n",
        "        else:\n",
        "            (x_even, x_odd) = x\n",
        "\n",
        "        if self.modified:\n",
        "            x_even = x_even.permute(0, 2, 1)\n",
        "            x_odd = x_odd.permute(0, 2, 1)\n",
        "\n",
        "            d = x_odd.mul(torch.exp(self.phi(x_even)))\n",
        "            c = x_even.mul(torch.exp(self.psi(x_odd)))\n",
        "\n",
        "            x_even_update = c + self.U(d)\n",
        "            x_odd_update = d - self.P(c)\n",
        "            return (x_even_update, x_odd_update)\n",
        "        else:\n",
        "            x_even = x_even.permute(0, 2, 1)\n",
        "            x_odd = x_odd.permute(0, 2, 1)\n",
        "\n",
        "            d = x_odd - self.P(x_even)\n",
        "            c = x_even + self.U(d)\n",
        "            return (c, d)\n",
        "\n",
        "\n",
        "class InteractorLevel(nn.Module):\n",
        "    def __init__(self, in_planes, kernel, dropout, groups , hidden_size, INN):\n",
        "        super(InteractorLevel, self).__init__()\n",
        "        self.level = Interactor(in_planes=in_planes, splitting=True,\n",
        "                 kernel=kernel, dropout=dropout, groups=groups, hidden_size=hidden_size, INN=INN)\n",
        "\n",
        "    def forward(self, x):\n",
        "        (x_even_update, x_odd_update) = self.level(x)\n",
        "        return (x_even_update, x_odd_update)\n",
        "\n",
        "class LevelSCINet(nn.Module):\n",
        "    def __init__(self,in_planes, kernel_size, dropout, groups, hidden_size, INN):\n",
        "        super(LevelSCINet, self).__init__()\n",
        "        self.interact = InteractorLevel(in_planes=in_planes, kernel=kernel_size, dropout=dropout, groups=groups , hidden_size=hidden_size, INN=INN)\n",
        "\n",
        "    def forward(self, x):\n",
        "        (x_even_update, x_odd_update) = self.interact(x)\n",
        "        return x_even_update.permute(0, 2, 1), x_odd_update.permute(0, 2, 1) #even: B, T, D odd: B, T, D\n",
        "\n",
        "class SCINet_Tree(nn.Module):\n",
        "    def __init__(self, in_planes, current_level, kernel_size, dropout, groups, hidden_size, INN):\n",
        "        super().__init__()\n",
        "        self.current_level = current_level\n",
        "\n",
        "        self.workingblock = LevelSCINet(\n",
        "            in_planes=in_planes,\n",
        "            kernel_size=kernel_size,\n",
        "            dropout=dropout,\n",
        "            groups=groups,\n",
        "            hidden_size=hidden_size,\n",
        "            INN=INN)\n",
        "\n",
        "        if current_level != 0:\n",
        "            self.SCINet_Tree_odd=SCINet_Tree(in_planes, current_level-1, kernel_size, dropout, groups, hidden_size, INN)\n",
        "            self.SCINet_Tree_even=SCINet_Tree(in_planes, current_level-1, kernel_size, dropout, groups, hidden_size, INN)\n",
        "    \n",
        "    def zip_up_the_pants(self, even, odd):\n",
        "        even = even.permute(1, 0, 2)\n",
        "        odd = odd.permute(1, 0, 2)  # L, B, D\n",
        "        even_len = even.shape[0]\n",
        "        odd_len = odd.shape[0]\n",
        "        mlen = min((odd_len, even_len))\n",
        "        _ = []\n",
        "        for i in range(mlen):\n",
        "            _.append(even[i].unsqueeze(0))\n",
        "            _.append(odd[i].unsqueeze(0))\n",
        "        if odd_len < even_len: \n",
        "            _.append(even[-1].unsqueeze(0))\n",
        "        return torch.cat(_, 0).permute(1, 0, 2)  # B, L, D\n",
        "        \n",
        "    def forward(self, x):\n",
        "        x_even_update, x_odd_update = self.workingblock(x)\n",
        "        # We recursively reordered these sub-series. You can run the ./utils/recursive_demo.py to emulate this procedure. \n",
        "        if self.current_level == 0:\n",
        "            return self.zip_up_the_pants(x_even_update, x_odd_update)\n",
        "        else:\n",
        "            return self.zip_up_the_pants(self.SCINet_Tree_even(x_even_update), self.SCINet_Tree_odd(x_odd_update))\n",
        "\n",
        "class EncoderTree(nn.Module):\n",
        "    def __init__(self, in_planes,  num_levels, kernel_size, dropout, groups, hidden_size, INN):\n",
        "        super().__init__()\n",
        "        self.levels=num_levels\n",
        "        self.SCINet_Tree=SCINet_Tree(\n",
        "            in_planes=in_planes,\n",
        "            current_level=num_levels-1,\n",
        "            kernel_size=kernel_size,\n",
        "            dropout=dropout ,\n",
        "            groups=groups,\n",
        "            hidden_size=hidden_size,\n",
        "            INN=INN)\n",
        "        \n",
        "    def forward(self, x):\n",
        "        x = self.SCINet_Tree(x)\n",
        "        return x\n",
        "\n",
        "class SCINet(nn.Module):\n",
        "    def __init__(self, output_len, input_len, input_dim=1, hid_size=1, num_stacks=1,\n",
        "                num_levels=3, concat_len=0, groups=1, kernel=5, dropout=0.5,\n",
        "                 single_step_output_One=0, input_len_seg=0, positionalE=False, modified=True):\n",
        "        super(SCINet, self).__init__()\n",
        "        self.input_dim = input_dim\n",
        "        self.input_len = input_len\n",
        "        self.output_len = output_len\n",
        "        self.hidden_size = hid_size\n",
        "        self.num_levels = num_levels\n",
        "        self.groups = groups\n",
        "        self.modified = modified\n",
        "        self.kernel_size = kernel\n",
        "        self.dropout = dropout\n",
        "        self.single_step_output_One = single_step_output_One\n",
        "        self.concat_len = concat_len\n",
        "        self.pe = positionalE\n",
        "        self.revin = RevIN(input_dim)  # b, s, f means b, f\n",
        "\n",
        "        self.blocks1 = EncoderTree(\n",
        "            in_planes=self.input_dim,\n",
        "            num_levels=self.num_levels,\n",
        "            kernel_size=self.kernel_size,\n",
        "            dropout=self.dropout,\n",
        "            groups=self.groups,\n",
        "            hidden_size=self.hidden_size,\n",
        "            INN=modified)\n",
        "\n",
        "        if num_stacks == 2: # we only implement two stacks at most.\n",
        "            self.blocks2 = EncoderTree(\n",
        "                in_planes=self.input_dim,\n",
        "                num_levels=self.num_levels,\n",
        "                kernel_size=self.kernel_size,\n",
        "                dropout=self.dropout,\n",
        "                groups=self.groups,\n",
        "                hidden_size=self.hidden_size,\n",
        "                INN=modified)\n",
        "\n",
        "        self.stacks = num_stacks\n",
        "\n",
        "        for m in self.modules():\n",
        "            if isinstance(m, nn.Conv2d):\n",
        "                n = m.kernel_size[0] * m.kernel_size[1] * m.out_channels\n",
        "                m.weight.data.normal_(0, math.sqrt(2. / n))\n",
        "            elif isinstance(m, nn.BatchNorm2d):\n",
        "                m.weight.data.fill_(1)\n",
        "                m.bias.data.zero_()\n",
        "            elif isinstance(m, nn.Linear):\n",
        "                m.bias.data.zero_()\n",
        "        self.projection1 = nn.Conv1d(self.input_len, self.output_len, kernel_size=1, stride=1, bias=False)\n",
        "        \n",
        "        if self.single_step_output_One:  # only output the N_th timestep.\n",
        "            if self.stacks == 2:\n",
        "                if self.concat_len:\n",
        "                    self.projection2 = nn.Conv1d(self.concat_len + self.output_len, 1,\n",
        "                                                kernel_size = 1, bias = False)\n",
        "                else:\n",
        "                    self.projection2 = nn.Conv1d(self.input_len + self.output_len, 1,\n",
        "                                                kernel_size = 1, bias = False)\n",
        "        else: # output the N timesteps.\n",
        "            if self.stacks == 2:\n",
        "                if self.concat_len:\n",
        "                    self.projection2 = nn.Conv1d(self.concat_len + self.output_len, self.output_len,\n",
        "                                                kernel_size = 1, bias = False)\n",
        "                else:\n",
        "                    self.projection2 = nn.Conv1d(self.input_len + self.output_len, self.output_len,\n",
        "                                                kernel_size = 1, bias = False)\n",
        "\n",
        "        # For positional encoding\n",
        "        self.pe_hidden_size = input_dim\n",
        "        if self.pe_hidden_size % 2 == 1:\n",
        "            self.pe_hidden_size += 1\n",
        "    \n",
        "        num_timescales = self.pe_hidden_size // 2\n",
        "        max_timescale = 10000.0\n",
        "        min_timescale = 1.0\n",
        "\n",
        "        log_timescale_increment = (\n",
        "                math.log(float(max_timescale) / float(min_timescale)) /\n",
        "                max(num_timescales - 1, 1))\n",
        "        temp = torch.arange(num_timescales, dtype=torch.float32)\n",
        "        inv_timescales = min_timescale * torch.exp(\n",
        "            torch.arange(num_timescales, dtype=torch.float32) *\n",
        "            -log_timescale_increment)\n",
        "        self.register_buffer('inv_timescales', inv_timescales)\n",
        "    \n",
        "    def get_position_encoding(self, x):\n",
        "        max_length = x.size()[1]\n",
        "        position = torch.arange(max_length, dtype=torch.float32, device=x.device)  # tensor([0., 1., 2., 3., 4.], device='cuda:0')\n",
        "        temp1 = position.unsqueeze(1)  # 5 1\n",
        "        temp2 = self.inv_timescales.unsqueeze(0)  # 1 256\n",
        "        scaled_time = position.unsqueeze(1) * self.inv_timescales.unsqueeze(0)  # 5 256\n",
        "        signal = torch.cat([torch.sin(scaled_time), torch.cos(scaled_time)], dim=1)  # [T, C]\n",
        "        signal = F.pad(signal, (0, 0, 0, self.pe_hidden_size % 2))\n",
        "        signal = signal.view(1, max_length, self.pe_hidden_size)\n",
        "        return signal\n",
        "\n",
        "    def forward(self, x):\n",
        "        assert self.input_len % (np.power(2, self.num_levels)) == 0  # evenly divided the input length into two parts. (e.g., 32 -> 16 -> 8 -> 4 for 3 levels)\n",
        "        x = self.revin(x, 'norm')\n",
        "\n",
        "        if self.pe:\n",
        "            pe = self.get_position_encoding(x)\n",
        "            if pe.shape[2] > x.shape[2]:\n",
        "                x += pe[:, :, :-1]\n",
        "            else:\n",
        "                x += self.get_position_encoding(x)\n",
        "        # the first stack\n",
        "        res1 = x\n",
        "        x = self.blocks1(x)\n",
        "        x += res1\n",
        "        x = self.projection1(x)\n",
        "\n",
        "        if self.stacks == 1:\n",
        "            x = self.revin(x,'denorm')\n",
        "            return x  # maybe forecast\n",
        "        elif self.stacks == 2:\n",
        "            MidOutPut = x  # maybe forecast\n",
        "            if self.concat_len:\n",
        "                x = torch.cat((res1[:, -self.concat_len:,:], x), dim=1)\n",
        "            else:\n",
        "                x = torch.cat((res1, x), dim=1)\n",
        "\n",
        "            # the second stack\n",
        "            res2 = x\n",
        "            x = self.blocks2(x)\n",
        "            x += res2\n",
        "            x = self.projection2(x)\n",
        "            MidOutPut = self.revin(MidOutPut, 'denorm')\n",
        "            x = self.revin(x, 'denorm')\n",
        "            return x, MidOutPut\n",
        "\n",
        "\n",
        "def get_variable(x):\n",
        "    x = Variable(x)\n",
        "    return x.cuda() if torch.cuda.is_available() else x"
      ]
    },
    {
      "cell_type": "markdown",
      "metadata": {
        "id": "vRw8WNzinSZe"
      },
      "source": [
        "#### 모델 학습 및 검증"
      ]
    },
    {
      "cell_type": "code",
      "execution_count": 148,
      "metadata": {
        "id": "SO7E4Be9kCCw"
      },
      "outputs": [],
      "source": [
        "seed_everything(sci_args.seed)\n",
        "model = SCINet(output_len=sci_args.num_classes, input_len=sci_args.window, input_dim=1, hid_size=1, num_stacks=1,\n",
        "               num_levels=3, concat_len=0, groups=1, kernel=7, dropout=0.5,\n",
        "               single_step_output_One=0, positionalE=True, modified=True).to(DEVICE)"
      ]
    },
    {
      "cell_type": "code",
      "execution_count": 149,
      "metadata": {
        "id": "lcRGVLUXkR2X",
        "colab": {
          "base_uri": "https://localhost:8080/",
          "height": 323,
          "referenced_widgets": [
            "c3cf0b4407e0446ab2a1d7176d28c54f",
            "e6d3c6e99d204ecab37621354a060463",
            "144ca068aab0448d90d4e2c4ea95e9b1",
            "ced65db999c34dfeac5e0491c4fd7f5e",
            "85572d11a84146fc9e083f8a614c4823",
            "313988ef374d4fcc8585d900e687e8fd",
            "8ea539935b7d437bb16c746db4a3a5ce",
            "758d60a7ae3342bbafbd12f3ba640bcb",
            "045896213e164a22a4a6e15c78d74153",
            "1fe20b8ec01c4eb48cf5ad75d6a5f5ac",
            "1e1ee83ce48f4db193ec72df8e076b43"
          ]
        },
        "outputId": "8fac0f2d-5a1c-436d-a2a6-8228a8844cb0"
      },
      "outputs": [
        {
          "output_type": "stream",
          "name": "stdout",
          "text": [
            "[1 / 1] Fold Training......\n"
          ]
        },
        {
          "output_type": "display_data",
          "data": {
            "text/plain": [
              "  0%|          | 0/60 [00:00<?, ?it/s]"
            ],
            "application/vnd.jupyter.widget-view+json": {
              "version_major": 2,
              "version_minor": 0,
              "model_id": "c3cf0b4407e0446ab2a1d7176d28c54f"
            }
          },
          "metadata": {}
        },
        {
          "output_type": "stream",
          "name": "stdout",
          "text": [
            "[Epoch:  1]  train loss = 0.09729  valid loss = 0.08652  valid MAE = 31.75527\n",
            "[Epoch:  5]  train loss = 0.05613  valid loss = 0.06440  valid MAE = 23.64317\n",
            "[Epoch: 10]  train loss = 0.05484  valid loss = 0.06311  valid MAE = 23.16840\n",
            "[Epoch: 15]  train loss = 0.05423  valid loss = 0.06292  valid MAE = 23.09949\n",
            "[Epoch: 20]  train loss = 0.05375  valid loss = 0.06265  valid MAE = 22.99851\n",
            "[Epoch: 25]  train loss = 0.05356  valid loss = 0.06248  valid MAE = 22.93416\n",
            "[Epoch: 30]  train loss = 0.05343  valid loss = 0.06245  valid MAE = 22.92314\n",
            "[Epoch: 35]  train loss = 0.05335  valid loss = 0.06241  valid MAE = 22.90994\n",
            "[Epoch: 40]  train loss = 0.05330  valid loss = 0.06237  valid MAE = 22.89550\n",
            "[Epoch: 45]  train loss = 0.05325  valid loss = 0.06238  valid MAE = 22.89989\n",
            "[Epoch: 50]  train loss = 0.05321  valid loss = 0.06235  valid MAE = 22.88701\n",
            "[Epoch: 55]  train loss = 0.05319  valid loss = 0.06235  valid MAE = 22.88950\n",
            "[Epoch: 60]  train loss = 0.05317  valid loss = 0.06233  valid MAE = 22.88231\n",
            "1 Fold -> Valid Loss: 0.06233  Valid MAE: 22.88171\n"
          ]
        }
      ],
      "source": [
        "model, fold_train_losses_per_epoch, fold_valid_losses_per_epoch = holdout_validate(model, Xs_train, ys_train, Xs_val, ys_val,\n",
        "                                                                                   loss_fn, early_stopping, DEVICE, sci_args)"
      ]
    },
    {
      "cell_type": "code",
      "source": [
        "show_loss_plot(fold_train_losses_per_epoch, fold_valid_losses_per_epoch)"
      ],
      "metadata": {
        "colab": {
          "base_uri": "https://localhost:8080/",
          "height": 320
        },
        "id": "b6pkZgeWy0mb",
        "outputId": "3b47e207-cead-433a-bf3a-27cb9668c179"
      },
      "execution_count": 155,
      "outputs": [
        {
          "output_type": "display_data",
          "data": {
            "text/plain": [
              "<Figure size 864x288 with 1 Axes>"
            ],
            "image/png": "[encoded data removed]"
          },
          "metadata": {}
        }
      ]
    },
    {
      "cell_type": "markdown",
      "metadata": {
        "id": "2-QS8Ik7uZHp"
      },
      "source": [
        "#### Test 예측"
      ]
    },
    {
      "cell_type": "code",
      "source": [
        "flow_scaled_all = np.concatenate([flow_scaled[-sci_args.window:], flow_scaled_test])  # train + test\n",
        "Xs_test = ts_test2supervised(flow_scaled_all, window=sci_args.window)   "
      ],
      "metadata": {
        "id": "kawu0ynzx0Vz"
      },
      "execution_count": 151,
      "outputs": []
    },
    {
      "cell_type": "code",
      "execution_count": 152,
      "metadata": {
        "colab": {
          "base_uri": "https://localhost:8080/",
          "height": 49,
          "referenced_widgets": [
            "7fdd55821f4541e8a958d8999aa56e42",
            "f3adda29ba464f1190bccdadbe6f6198",
            "adbba18446a24329b6c4d83091fd23e6",
            "77659aff28f54bbc8713bec966eb0231",
            "5f6b0e0bbfbd46de85dff5aa561d2c62",
            "f14906b40eb1439b97c127968a9c1eec",
            "a260717f47f546ed81e613e600a2b352",
            "b1ece11b4289427990b70693c4181d6b",
            "fba8820a13304fa185ce975d7703a5dc",
            "1d70eb54528d45c4a9317cdc1e2cf39d",
            "3b1151e5b4474cc5b0fade161d750eae"
          ]
        },
        "id": "_AyK94l0gURU",
        "outputId": "0a061f32-5076-4582-ce22-3e36283fe91b"
      },
      "outputs": [
        {
          "output_type": "display_data",
          "data": {
            "text/plain": [
              "  0%|          | 0/4 [00:00<?, ?it/s]"
            ],
            "application/vnd.jupyter.widget-view+json": {
              "version_major": 2,
              "version_minor": 0,
              "model_id": "7fdd55821f4541e8a958d8999aa56e42"
            }
          },
          "metadata": {}
        }
      ],
      "source": [
        "preds = predict(model, Xs_test, DEVICE, sci_args)"
      ]
    },
    {
      "cell_type": "code",
      "execution_count": 153,
      "metadata": {
        "id": "y1557nWvgaJE"
      },
      "outputs": [],
      "source": [
        "preds = minmax_scaler.inverse_transform(preds)\n",
        "submission.loc[:, 'h0':'h335'] = postprocessing(preds, MIN, MAX)\n",
        "submission.to_csv(f'./data/submission_apo_{sci_args.model_name}.csv', index=False)"
      ]
    },
    {
      "cell_type": "markdown",
      "metadata": {
        "id": "G-IX37u2gd_N"
      },
      "source": [
        "- 성능 확인"
      ]
    },
    {
      "cell_type": "code",
      "execution_count": 154,
      "metadata": {
        "colab": {
          "base_uri": "https://localhost:8080/"
        },
        "id": "WU08YjBDgiDM",
        "outputId": "d0475864-46bc-4e01-8c08-87a448cd8397"
      },
      "outputs": [
        {
          "output_type": "execute_result",
          "data": {
            "text/plain": [
              "22.83634079790898"
            ]
          },
          "metadata": {},
          "execution_count": 154
        }
      ],
      "source": [
        "tmp = test.copy()\n",
        "for w in range(1, 336):\n",
        "    tmp[f'flow{w}'] = tmp['flow'].shift(-w)\n",
        "\n",
        "y_hat = submission.loc[:, 'h0':'h335'].to_numpy()[:8089]\n",
        "tmp = tmp.dropna().loc[:, 'flow':'flow335'].to_numpy()\n",
        "mean_absolute_error(tmp, y_hat)"
      ]
    },
    {
      "cell_type": "markdown",
      "source": [
        "### DLinear 모델 학습"
      ],
      "metadata": {
        "id": "tYYMvziLnTsS"
      }
    },
    {
      "cell_type": "markdown",
      "source": [
        "#### 모델 학습 준비"
      ],
      "metadata": {
        "id": "jCiYE5Brr7AH"
      }
    },
    {
      "cell_type": "code",
      "source": [
        "dlinear_args = EasyDict({\n",
        "    'weight_folder_path':'./weights',\n",
        "    'model_name':'dlinear',\n",
        "    'window':336,\n",
        "    'gap':1,\n",
        "    'num_classes':336,\n",
        "    'num_epochs':100,\n",
        "    'bs':64,\n",
        "    'lr':2e-4,\n",
        "    'weight_decay':1e-2,\n",
        "    'max_norm':1.0,\n",
        "    'seed':22,\n",
        "    'seq_len':336,\n",
        "    'pred_len':336,\n",
        "    'enc_in':1,\n",
        "    'individual':False,\n",
        "})"
      ],
      "metadata": {
        "id": "2Wnj0XKTr8Q3"
      },
      "execution_count": 31,
      "outputs": []
    },
    {
      "cell_type": "code",
      "source": [
        "create_folder(dlinear_args.weight_folder_path)"
      ],
      "metadata": {
        "id": "icQ1retgdGZP"
      },
      "execution_count": 110,
      "outputs": []
    },
    {
      "cell_type": "code",
      "source": [
        "Xs, ys = ts_train2supervised(flow_scaled, window=dlinear_args.window, gap=dlinear_args.gap, step=dlinear_args.num_classes)  # s == scaled\n",
        "ys = ys.squeeze(2)\n",
        "\n",
        "Xs_train, ys_train = Xs[:-(Xs.shape[0]//5)], ys[:-(ys.shape[0]//5)] \n",
        "Xs_val, ys_val = Xs[-(Xs.shape[0]//5):], ys[-(ys.shape[0]//5):]"
      ],
      "metadata": {
        "id": "8936Tl5rvLOY"
      },
      "execution_count": 32,
      "outputs": []
    },
    {
      "cell_type": "code",
      "source": [
        "early_stopping = EarlyStopping(patience=10,\n",
        "                               monitor='mae',\n",
        "                               mode='min',\n",
        "                               folder_path=dlinear_args.weight_folder_path,\n",
        "                               model_name=dlinear_args.model_name)"
      ],
      "metadata": {
        "id": "sEFvOtDlsEV4"
      },
      "execution_count": 33,
      "outputs": []
    },
    {
      "cell_type": "code",
      "source": [
        "# ref: https://github.com/cure-lab/LTSF-Linear/blob/main/models/DLinear.py\n",
        "class moving_avg(nn.Module):\n",
        "    \"\"\"\n",
        "    Moving average block to highlight the trend of time series\n",
        "    \"\"\"\n",
        "    def __init__(self, kernel_size, stride):\n",
        "        super(moving_avg, self).__init__()\n",
        "        self.kernel_size = kernel_size\n",
        "        self.avg = nn.AvgPool1d(kernel_size=kernel_size, stride=stride, padding=0)\n",
        "\n",
        "    def forward(self, x):\n",
        "        # padding on the both ends of time series\n",
        "        front = x[:, 0:1, :].repeat(1, (self.kernel_size - 1) // 2, 1)\n",
        "        end = x[:, -1:, :].repeat(1, (self.kernel_size - 1) // 2, 1)\n",
        "        x = torch.cat([front, x, end], dim=1)\n",
        "        x = self.avg(x.permute(0, 2, 1))\n",
        "        x = x.permute(0, 2, 1)\n",
        "        return x\n",
        "\n",
        "\n",
        "class series_decomp(nn.Module):\n",
        "    \"\"\"\n",
        "    Series decomposition block\n",
        "    \"\"\"\n",
        "    def __init__(self, kernel_size):\n",
        "        super(series_decomp, self).__init__()\n",
        "        self.moving_avg = moving_avg(kernel_size, stride=1)\n",
        "\n",
        "    def forward(self, x):\n",
        "        moving_mean = self.moving_avg(x)\n",
        "        res = x - moving_mean\n",
        "        return res, moving_mean\n",
        "\n",
        "class DLinear(nn.Module):\n",
        "    \"\"\"\n",
        "    Decomposition-Linear\n",
        "    \"\"\"\n",
        "    def __init__(self, configs):\n",
        "        super(DLinear, self).__init__()\n",
        "        self.seq_len = configs.seq_len\n",
        "        self.pred_len = configs.pred_len\n",
        "        self.revin_layer = RevIN(configs.enc_in)  # 시간에 따라 변하는 시계열의 평균과 분산을 스케일링\n",
        "\n",
        "        # Decompsition Kernel Size\n",
        "        kernel_size = 25\n",
        "        self.decompsition = series_decomp(kernel_size)\n",
        "        self.individual = configs.individual\n",
        "        self.channels = configs.enc_in\n",
        "\n",
        "        if self.individual:\n",
        "            self.Linear_Seasonal = nn.ModuleList()\n",
        "            self.Linear_Trend = nn.ModuleList()\n",
        "            \n",
        "            for i in range(self.channels):\n",
        "                self.Linear_Seasonal.append(nn.Linear(self.seq_len, self.pred_len))\n",
        "                self.Linear_Trend.append(nn.Linear(self.seq_len, self.pred_len))\n",
        "\n",
        "                # Use this two lines if you want to visualize the weights\n",
        "                # self.Linear_Seasonal[i].weight = nn.Parameter((1/self.seq_len)*torch.ones([self.pred_len, self.seq_len]))\n",
        "                # self.Linear_Trend[i].weight = nn.Parameter((1/self.seq_len)*torch.ones([self.pred_len, self.seq_len]))\n",
        "        else:\n",
        "            self.Linear_Seasonal = nn.Linear(self.seq_len, self.pred_len)\n",
        "            self.Linear_Trend = nn.Linear(self.seq_len, self.pred_len)\n",
        "            \n",
        "            # Use this two lines if you want to visualize the weights\n",
        "            # self.Linear_Seasonal.weight = nn.Parameter((1/self.seq_len)*torch.ones([self.pred_len,self.seq_len]))\n",
        "            # self.Linear_Trend.weight = nn.Parameter((1/self.seq_len)*torch.ones([self.pred_len,self.seq_len]))\n",
        "\n",
        "    def forward(self, x):\n",
        "        x = self.revin_layer(x, 'norm')\n",
        "        # x: [Batch, Input length, Channel]\n",
        "        seasonal_init, trend_init = self.decompsition(x)\n",
        "        seasonal_init, trend_init = seasonal_init.permute(0,2,1), trend_init.permute(0,2,1)\n",
        "        if self.individual:\n",
        "            seasonal_output = torch.zeros([seasonal_init.size(0),seasonal_init.size(1),self.pred_len], dtype=seasonal_init.dtype).to(seasonal_init.device)\n",
        "            trend_output = torch.zeros([trend_init.size(0),trend_init.size(1),self.pred_len],dtype=trend_init.dtype).to(trend_init.device)\n",
        "            for i in range(self.channels):\n",
        "                seasonal_output[:,i,:] = self.Linear_Seasonal[i](seasonal_init[:,i,:])\n",
        "                trend_output[:,i,:] = self.Linear_Trend[i](trend_init[:,i,:])\n",
        "        else:\n",
        "            seasonal_output = self.Linear_Seasonal(seasonal_init)\n",
        "            trend_output = self.Linear_Trend(trend_init)\n",
        "\n",
        "        x = seasonal_output + trend_output\n",
        "        x = self.revin_layer(x, 'denorm')\n",
        "        return x.permute(0,2,1) # to [Batch, Output length, Channel]"
      ],
      "metadata": {
        "id": "lvHvoNuOGavd"
      },
      "execution_count": 34,
      "outputs": []
    },
    {
      "cell_type": "markdown",
      "source": [
        "#### 모델 학습 및 검증"
      ],
      "metadata": {
        "id": "x_TCsywLsI46"
      }
    },
    {
      "cell_type": "code",
      "source": [
        "seed_everything(dlinear_args.seed)\n",
        "model = DLinear(dlinear_args)"
      ],
      "metadata": {
        "id": "yysiz2UdsRbH"
      },
      "execution_count": 73,
      "outputs": []
    },
    {
      "cell_type": "code",
      "source": [
        "model, fold_train_losses_per_epoch, fold_valid_losses_per_epoch = holdout_validate(model, Xs_train, ys_train, Xs_val, ys_val,\n",
        "                                                                                   loss_fn, early_stopping, DEVICE, dlinear_args)"
      ],
      "metadata": {
        "id": "0B81Y6ibsLKA",
        "colab": {
          "base_uri": "https://localhost:8080/",
          "height": 250,
          "referenced_widgets": [
            "f5e51ef5e60343ba8fd9e419b42642fb",
            "b1145ed4f6ab4f37a4e757e60815dc8a",
            "4c83bbb96b82414ab1e133cd22f076cb",
            "1ef37d14bd8a4acea1642f16aaddf77c",
            "2fbf014664584cdb83146bfbdc2cdbf5",
            "5e8b306cf35d470381da16fa0c7e6851",
            "a58aaa5af7094a738bd849c0df45a626",
            "ba1bda4685544bc19a8de699818574c4",
            "440fa7f8201748d4804768c672c6473a",
            "c094346e037f497ab88040a6a3842bdb",
            "f23fc540e33749f482348103c0e46511"
          ]
        },
        "outputId": "6498631d-082e-45f1-a275-18f29f83c618"
      },
      "execution_count": 36,
      "outputs": [
        {
          "output_type": "stream",
          "name": "stdout",
          "text": [
            "[1 / 1] Fold Training......\n"
          ]
        },
        {
          "output_type": "display_data",
          "data": {
            "text/plain": [
              "  0%|          | 0/100 [00:00<?, ?it/s]"
            ],
            "application/vnd.jupyter.widget-view+json": {
              "version_major": 2,
              "version_minor": 0,
              "model_id": "f5e51ef5e60343ba8fd9e419b42642fb"
            }
          },
          "metadata": {}
        },
        {
          "output_type": "stream",
          "name": "stdout",
          "text": [
            "[Epoch:  1]  train loss = 0.07073  valid loss = 0.07363  valid MAE = 27.02671\n",
            "[Epoch:  5]  train loss = 0.05517  valid loss = 0.06364  valid MAE = 23.35989\n",
            "[Epoch: 10]  train loss = 0.05466  valid loss = 0.06318  valid MAE = 23.19350\n",
            "[Epoch: 15]  train loss = 0.05457  valid loss = 0.06308  valid MAE = 23.15575\n",
            "[Epoch: 20]  train loss = 0.05453  valid loss = 0.06311  valid MAE = 23.16580\n",
            "[Epoch: 25]  train loss = 0.05449  valid loss = 0.06300  valid MAE = 23.12762\n",
            "[Epoch: 30]  train loss = 0.05446  valid loss = 0.06302  valid MAE = 23.13357\n",
            "[Epoch: 33]  train loss = 0.05445  valid loss = 0.06298  valid MAE = 23.11891\n",
            "Early Stopping!\n",
            "1 Fold -> Valid Loss: 0.06296  Valid MAE: 23.11163\n"
          ]
        }
      ]
    },
    {
      "cell_type": "code",
      "source": [
        "show_loss_plot(fold_train_losses_per_epoch, fold_valid_losses_per_epoch)"
      ],
      "metadata": {
        "colab": {
          "base_uri": "https://localhost:8080/",
          "height": 320
        },
        "id": "RF93bFv1S3IQ",
        "outputId": "23ee484d-b2cb-4731-df9b-e1abe800c27f"
      },
      "execution_count": 40,
      "outputs": [
        {
          "output_type": "display_data",
          "data": {
            "text/plain": [
              "<Figure size 864x288 with 1 Axes>"
            ],
            "image/png": "[encoded data removed]"
          },
          "metadata": {}
        }
      ]
    },
    {
      "cell_type": "markdown",
      "source": [
        "#### Test 예측"
      ],
      "metadata": {
        "id": "EVxp8sa7JQnT"
      }
    },
    {
      "cell_type": "code",
      "source": [
        "flow_scaled_all = np.concatenate([flow_scaled[-dlinear_args.window:], flow_scaled_test])  # train + test\n",
        "Xs_test = ts_test2supervised(flow_scaled_all, window=dlinear_args.window)   "
      ],
      "metadata": {
        "id": "1bWTVvZLYO-P"
      },
      "execution_count": 77,
      "outputs": []
    },
    {
      "cell_type": "code",
      "source": [
        "preds = predict(model, Xs_test, DEVICE, dlinear_args)"
      ],
      "metadata": {
        "colab": {
          "base_uri": "https://localhost:8080/",
          "height": 49,
          "referenced_widgets": [
            "a734613afe6342dea579415a70d3e176",
            "abdb198a1ea14faea5ea9297ca1ecef0",
            "31d2754a4e2347d09e1c86afe99fd132",
            "8d5e07538ec745cf85f0bddc57ef3880",
            "d1474aca54474b51aeb893acc15a0a07",
            "61ba09e8eca24aa69a362fcb80873812",
            "3dab248836504e1bb0abd6f6129df490",
            "4e531e973ad14e8f9a4aee10e88dfaae",
            "4fbfecc32ba045c6b59052744ef4cfa5",
            "740d10e415ef45b1bc988c2a19b83b0a",
            "da06b7186c3a4323b36e3d657d8614f8"
          ]
        },
        "id": "EYVl_U0qJYhs",
        "outputId": "c090d017-1366-4950-a5c2-eac8607f9d7c"
      },
      "execution_count": 78,
      "outputs": [
        {
          "output_type": "display_data",
          "data": {
            "text/plain": [
              "  0%|          | 0/4 [00:00<?, ?it/s]"
            ],
            "application/vnd.jupyter.widget-view+json": {
              "version_major": 2,
              "version_minor": 0,
              "model_id": "a734613afe6342dea579415a70d3e176"
            }
          },
          "metadata": {}
        }
      ]
    },
    {
      "cell_type": "code",
      "source": [
        "preds = minmax_scaler.inverse_transform(preds)\n",
        "submission.loc[:, 'h0':'h335'] = postprocessing(preds, MIN, MAX)\n",
        "submission.to_csv(f'./data/submission_apo_{dlinear_args.model_name}.csv', index=False)"
      ],
      "metadata": {
        "id": "gMyFz-XDJbMj"
      },
      "execution_count": 79,
      "outputs": []
    },
    {
      "cell_type": "markdown",
      "source": [
        "- 성능 확인"
      ],
      "metadata": {
        "id": "TJ_EEHeLKKfK"
      }
    },
    {
      "cell_type": "code",
      "source": [
        "tmp = test.copy()\n",
        "for w in range(1, 336):\n",
        "    tmp[f'flow{w}'] = tmp['flow'].shift(-w)\n",
        "\n",
        "y_hat = submission.loc[:, 'h0':'h335'].to_numpy()[:8089]\n",
        "tmp = tmp.dropna().loc[:, 'flow':'flow335'].to_numpy()\n",
        "mean_absolute_error(tmp, y_hat)"
      ],
      "metadata": {
        "colab": {
          "base_uri": "https://localhost:8080/"
        },
        "id": "15u5KWHcJle6",
        "outputId": "56652eaa-5152-421f-8c44-ba081a0a0019"
      },
      "execution_count": 81,
      "outputs": [
        {
          "output_type": "execute_result",
          "data": {
            "text/plain": [
              "22.89605961064114"
            ]
          },
          "metadata": {},
          "execution_count": 81
        }
      ]
    },
    {
      "cell_type": "markdown",
      "source": [
        "### NLinear 모델 학습\n"
      ],
      "metadata": {
        "id": "m4cgzujcKNAh"
      }
    },
    {
      "cell_type": "markdown",
      "source": [
        "#### 모델 학습 준비"
      ],
      "metadata": {
        "id": "wFObQBSDLECa"
      }
    },
    {
      "cell_type": "code",
      "source": [
        "nlinear_args = EasyDict({\n",
        "    'weight_folder_path':'./weights',\n",
        "    'model_name':'nlinear',\n",
        "    'window':336,\n",
        "    'gap':1,\n",
        "    'num_classes':336,\n",
        "    'num_epochs':60,\n",
        "    'bs':64,\n",
        "    'lr':2e-4,\n",
        "    'weight_decay':1e-2,\n",
        "    'max_norm':1.0,\n",
        "    'seed':22,\n",
        "    'seq_len':336,\n",
        "    'pred_len':336,\n",
        "    'enc_in':1,\n",
        "    'individual':False,\n",
        "})"
      ],
      "metadata": {
        "id": "yzZdE-BTLFvz"
      },
      "execution_count": 59,
      "outputs": []
    },
    {
      "cell_type": "code",
      "source": [
        "create_folder(nlinear_args.weight_folder_path)"
      ],
      "metadata": {
        "id": "Ygkvh1RadI7v"
      },
      "execution_count": 111,
      "outputs": []
    },
    {
      "cell_type": "code",
      "source": [
        "Xs, ys = ts_train2supervised(flow_scaled, window=nlinear_args.window, gap=nlinear_args.gap, step=nlinear_args.num_classes)  # s == scaled\n",
        "ys = ys.squeeze(2)\n",
        "\n",
        "Xs_train, ys_train = Xs[:-(Xs.shape[0]//5)], ys[:-(ys.shape[0]//5)] \n",
        "Xs_val, ys_val = Xs[-(Xs.shape[0]//5):], ys[-(ys.shape[0]//5):]"
      ],
      "metadata": {
        "id": "M5pQnztALUj7"
      },
      "execution_count": 60,
      "outputs": []
    },
    {
      "cell_type": "code",
      "source": [
        "early_stopping = EarlyStopping(patience=10,\n",
        "                               monitor='mae',\n",
        "                               mode='min',\n",
        "                               folder_path=nlinear_args.weight_folder_path,\n",
        "                               model_name=nlinear_args.model_name)"
      ],
      "metadata": {
        "id": "fmiyG42ELYH7"
      },
      "execution_count": 61,
      "outputs": []
    },
    {
      "cell_type": "code",
      "source": [
        "class NLinear(nn.Module):\n",
        "    \"\"\"\n",
        "    Normalization-Linear\n",
        "    \"\"\"\n",
        "    def __init__(self, configs):\n",
        "        super(NLinear, self).__init__()\n",
        "        self.seq_len = configs.seq_len\n",
        "        self.pred_len = configs.pred_len\n",
        "        self.Linear = nn.Linear(self.seq_len, self.pred_len)\n",
        "        self.revin_layer = RevIN(configs.enc_in)  # 시간에 따라 변하는 시계열의 평균과 분산을 스케일링\n",
        "        # Use this line if you want to visualize the weights\n",
        "        # self.Linear.weight = nn.Parameter((1/self.seq_len)*torch.ones([self.pred_len,self.seq_len]))\n",
        "\n",
        "    def forward(self, x):\n",
        "        x = self.revin_layer(x, 'norm')\n",
        "        # x: [Batch, Input length, Channel]\n",
        "        seq_last = x[:,-1:,:].detach()\n",
        "        x = x - seq_last\n",
        "        x = self.Linear(x.permute(0,2,1)).permute(0,2,1)\n",
        "        x = x + seq_last\n",
        "        x = self.revin_layer(x, 'denorm')\n",
        "        return x # [Batch, Output length, Channel]"
      ],
      "metadata": {
        "id": "TRdXEBaBLsD5"
      },
      "execution_count": 101,
      "outputs": []
    },
    {
      "cell_type": "markdown",
      "source": [
        "#### 모델 학습 및 검증"
      ],
      "metadata": {
        "id": "ZZAEfg88Lcn5"
      }
    },
    {
      "cell_type": "code",
      "source": [
        "seed_everything(nlinear_args.seed)\n",
        "model = NLinear(nlinear_args)"
      ],
      "metadata": {
        "id": "ZzCydpJVLnph"
      },
      "execution_count": 102,
      "outputs": []
    },
    {
      "cell_type": "code",
      "source": [
        "model, fold_train_losses_per_epoch, fold_valid_losses_per_epoch = holdout_validate(model, Xs_train, ys_train, Xs_val, ys_val,\n",
        "                                                                                   loss_fn, early_stopping, DEVICE, nlinear_args)"
      ],
      "metadata": {
        "colab": {
          "base_uri": "https://localhost:8080/",
          "height": 323,
          "referenced_widgets": [
            "6b37716ae47e40b4bd848a5735da9001",
            "2f17307a3aad46a5a8f176af105fcb79",
            "07f7e9eb0d5243739ffef6556a5302ac",
            "23bd222794cf4924a31075a912a3bead",
            "f27b156d1d604033985a0f64735784aa",
            "2e035eae8b2f47ef987a6e060627513e",
            "aca192aaba0b4cfeb58d946d23862980",
            "9505c47c28cb4dbe9659210bfd81276a",
            "2166c07b4e4840cdabf618f45196ca93",
            "862a16a8044049af9bd6b710a440843c",
            "88b446a69e5949bdb8d0a28328689244"
          ]
        },
        "id": "4xuGGGkeLqKK",
        "outputId": "5b2b2933-c7b2-4497-90a4-afb3a72a2966"
      },
      "execution_count": 103,
      "outputs": [
        {
          "output_type": "stream",
          "name": "stdout",
          "text": [
            "[1 / 1] Fold Training......\n"
          ]
        },
        {
          "output_type": "display_data",
          "data": {
            "text/plain": [
              "  0%|          | 0/60 [00:00<?, ?it/s]"
            ],
            "application/vnd.jupyter.widget-view+json": {
              "version_major": 2,
              "version_minor": 0,
              "model_id": "6b37716ae47e40b4bd848a5735da9001"
            }
          },
          "metadata": {}
        },
        {
          "output_type": "stream",
          "name": "stdout",
          "text": [
            "[Epoch:  1]  train loss = 0.07745  valid loss = 0.08042  valid MAE = 29.51883\n",
            "[Epoch:  5]  train loss = 0.05676  valid loss = 0.06598  valid MAE = 24.21820\n",
            "[Epoch: 10]  train loss = 0.05497  valid loss = 0.06371  valid MAE = 23.38493\n",
            "[Epoch: 15]  train loss = 0.05467  valid loss = 0.06329  valid MAE = 23.23251\n",
            "[Epoch: 20]  train loss = 0.05457  valid loss = 0.06318  valid MAE = 23.19124\n",
            "[Epoch: 25]  train loss = 0.05452  valid loss = 0.06312  valid MAE = 23.16841\n",
            "[Epoch: 30]  train loss = 0.05448  valid loss = 0.06309  valid MAE = 23.15821\n",
            "[Epoch: 35]  train loss = 0.05446  valid loss = 0.06305  valid MAE = 23.14556\n",
            "[Epoch: 40]  train loss = 0.05443  valid loss = 0.06303  valid MAE = 23.13795\n",
            "[Epoch: 45]  train loss = 0.05442  valid loss = 0.06303  valid MAE = 23.13868\n",
            "[Epoch: 50]  train loss = 0.05441  valid loss = 0.06304  valid MAE = 23.13901\n",
            "[Epoch: 55]  train loss = 0.05440  valid loss = 0.06301  valid MAE = 23.13010\n",
            "[Epoch: 60]  train loss = 0.05439  valid loss = 0.06301  valid MAE = 23.13036\n",
            "1 Fold -> Valid Loss: 0.06300  Valid MAE: 23.12707\n"
          ]
        }
      ]
    },
    {
      "cell_type": "markdown",
      "source": [
        "#### Test 예측"
      ],
      "metadata": {
        "id": "pt4WcdahLg9Z"
      }
    },
    {
      "cell_type": "code",
      "source": [
        "flow_scaled_all = np.concatenate([flow_scaled[-nlinear_args.window:], flow_scaled_test])  # train + test\n",
        "Xs_test = ts_test2supervised(flow_scaled_all, window=nlinear_args.window)   "
      ],
      "metadata": {
        "id": "MPrBE6T0OU0i"
      },
      "execution_count": 104,
      "outputs": []
    },
    {
      "cell_type": "code",
      "source": [
        "preds = predict(model, Xs_test, DEVICE, nlinear_args)"
      ],
      "metadata": {
        "colab": {
          "base_uri": "https://localhost:8080/",
          "height": 49,
          "referenced_widgets": [
            "be3701f48e9c4846b9037427730c4c61",
            "1914f9ce781f46159df5670b75438c55",
            "21b1b3c95d5a442e87d4d2e5c75c6997",
            "292e16772a304326b1c66e461bbd23b2",
            "5b4fa6d1871046f18c4751f96ee10446",
            "0a9de5379e2f42da902a00b491f51aab",
            "946f69c7a7624009829c3522e00301c2",
            "c69c772ee9894d669dd77f7bb0606790",
            "647455fb9a5841e482c4f534504471d8",
            "88e914efa83842c4bf9dfdba636b3034",
            "d8730675e6ec46a2ab8511d90d5fc6d9"
          ]
        },
        "id": "EnTydPTda09_",
        "outputId": "354fc2f2-d516-4682-8e5c-6032c21a7da0"
      },
      "execution_count": 105,
      "outputs": [
        {
          "output_type": "display_data",
          "data": {
            "text/plain": [
              "  0%|          | 0/4 [00:00<?, ?it/s]"
            ],
            "application/vnd.jupyter.widget-view+json": {
              "version_major": 2,
              "version_minor": 0,
              "model_id": "be3701f48e9c4846b9037427730c4c61"
            }
          },
          "metadata": {}
        }
      ]
    },
    {
      "cell_type": "code",
      "source": [
        "preds = minmax_scaler.inverse_transform(preds)\n",
        "submission.loc[:, 'h0':'h335'] = postprocessing(preds, MIN, MAX)\n",
        "submission.to_csv(f'./data/submission_apo_{nlinear_args.model_name}.csv', index=False)"
      ],
      "metadata": {
        "id": "WVjbY_FILmGp"
      },
      "execution_count": 106,
      "outputs": []
    },
    {
      "cell_type": "markdown",
      "source": [
        "- 성능 확인"
      ],
      "metadata": {
        "id": "qeQ8r42zMr8q"
      }
    },
    {
      "cell_type": "code",
      "source": [
        "tmp = test.copy()\n",
        "for w in range(1, 336):\n",
        "    tmp[f'flow{w}'] = tmp['flow'].shift(-w)\n",
        "\n",
        "y_hat = submission.loc[:, 'h0':'h335'].to_numpy()[:8089]\n",
        "tmp = tmp.dropna().loc[:, 'flow':'flow335'].to_numpy()\n",
        "mean_absolute_error(tmp, y_hat)"
      ],
      "metadata": {
        "colab": {
          "base_uri": "https://localhost:8080/"
        },
        "id": "SvZYThTqMs-5",
        "outputId": "1cdd7d6b-0e11-4a41-9999-6348ea1b11d2"
      },
      "execution_count": 107,
      "outputs": [
        {
          "output_type": "execute_result",
          "data": {
            "text/plain": [
              "22.90836026585192"
            ]
          },
          "metadata": {},
          "execution_count": 107
        }
      ]
    },
    {
      "cell_type": "code",
      "source": [],
      "metadata": {
        "id": "d2-lDP4jNHHS"
      },
      "execution_count": null,
      "outputs": []
    }
  ],
  "metadata": {
    "colab": {
      "provenance": [],
      "toc_visible": true,
      "include_colab_link": true
    },
    "gpuClass": "standard",
    "kernelspec": {
      "display_name": "Python 3 (ipykernel)",
      "language": "python",
      "name": "python3"
    },
    "language_info": {
      "codemirror_mode": {
        "name": "ipython",
        "version": 3
      },
      "file_extension": ".py",
      "mimetype": "text/x-python",
      "name": "python",
      "nbconvert_exporter": "python",
      "pygments_lexer": "ipython3",
      "version": "3.8.11"
    },
    "widgets": {
      "application/vnd.jupyter.widget-state+json": {
        "6546d9db7382465ca2dd07786b57d39d": {
          "model_module": "@jupyter-widgets/controls",
          "model_name": "HBoxModel",
          "model_module_version": "1.5.0",
          "state": {
            "_dom_classes": [],
            "_model_module": "@jupyter-widgets/controls",
            "_model_module_version": "1.5.0",
            "_model_name": "HBoxModel",
            "_view_count": null,
            "_view_module": "@jupyter-widgets/controls",
            "_view_module_version": "1.5.0",
            "_view_name": "HBoxView",
            "box_style": "",
            "children": [
              "IPY_MODEL_1c247ffae8954f3194db3a6075ae62ac",
              "IPY_MODEL_0f34c4ded9514b869b202b9d2db29042",
              "IPY_MODEL_665105db44ac48ebb9a5f4ca835daa38"
            ],
            "layout": "IPY_MODEL_3b0a980428b34bcd963a8ba8e861990f"
          }
        },
        "1c247ffae8954f3194db3a6075ae62ac": {
          "model_module": "@jupyter-widgets/controls",
          "model_name": "HTMLModel",
          "model_module_version": "1.5.0",
          "state": {
            "_dom_classes": [],
            "_model_module": "@jupyter-widgets/controls",
            "_model_module_version": "1.5.0",
            "_model_name": "HTMLModel",
            "_view_count": null,
            "_view_module": "@jupyter-widgets/controls",
            "_view_module_version": "1.5.0",
            "_view_name": "HTMLView",
            "description": "",
            "description_tooltip": null,
            "layout": "IPY_MODEL_0b0d6190671b44e195706a8720b3fc0a",
            "placeholder": "​",
            "style": "IPY_MODEL_7f5c7ac63bff4fa98e5e2fe63c5d846e",
            "value": " 95%"
          }
        },
        "0f34c4ded9514b869b202b9d2db29042": {
          "model_module": "@jupyter-widgets/controls",
          "model_name": "FloatProgressModel",
          "model_module_version": "1.5.0",
          "state": {
            "_dom_classes": [],
            "_model_module": "@jupyter-widgets/controls",
            "_model_module_version": "1.5.0",
            "_model_name": "FloatProgressModel",
            "_view_count": null,
            "_view_module": "@jupyter-widgets/controls",
            "_view_module_version": "1.5.0",
            "_view_name": "ProgressView",
            "bar_style": "danger",
            "description": "",
            "description_tooltip": null,
            "layout": "IPY_MODEL_488ffc063e21409f8e5a45e851ca0731",
            "max": 60,
            "min": 0,
            "orientation": "horizontal",
            "style": "IPY_MODEL_d70613551fb746e39bbbc40097169c44",
            "value": 57
          }
        },
        "665105db44ac48ebb9a5f4ca835daa38": {
          "model_module": "@jupyter-widgets/controls",
          "model_name": "HTMLModel",
          "model_module_version": "1.5.0",
          "state": {
            "_dom_classes": [],
            "_model_module": "@jupyter-widgets/controls",
            "_model_module_version": "1.5.0",
            "_model_name": "HTMLModel",
            "_view_count": null,
            "_view_module": "@jupyter-widgets/controls",
            "_view_module_version": "1.5.0",
            "_view_name": "HTMLView",
            "description": "",
            "description_tooltip": null,
            "layout": "IPY_MODEL_a78ecbb6dc8c41bf9bba8d0b543d0fa0",
            "placeholder": "​",
            "style": "IPY_MODEL_c557133b092140c1a7a60cd8bd45c3e0",
            "value": " 57/60 [10:36&lt;00:32, 10.92s/it]"
          }
        },
        "3b0a980428b34bcd963a8ba8e861990f": {
          "model_module": "@jupyter-widgets/base",
          "model_name": "LayoutModel",
          "model_module_version": "1.2.0",
          "state": {
            "_model_module": "@jupyter-widgets/base",
            "_model_module_version": "1.2.0",
            "_model_name": "LayoutModel",
            "_view_count": null,
            "_view_module": "@jupyter-widgets/base",
            "_view_module_version": "1.2.0",
            "_view_name": "LayoutView",
            "align_content": null,
            "align_items": null,
            "align_self": null,
            "border": null,
            "bottom": null,
            "display": null,
            "flex": null,
            "flex_flow": null,
            "grid_area": null,
            "grid_auto_columns": null,
            "grid_auto_flow": null,
            "grid_auto_rows": null,
            "grid_column": null,
            "grid_gap": null,
            "grid_row": null,
            "grid_template_areas": null,
            "grid_template_columns": null,
            "grid_template_rows": null,
            "height": null,
            "justify_content": null,
            "justify_items": null,
            "left": null,
            "margin": null,
            "max_height": null,
            "max_width": null,
            "min_height": null,
            "min_width": null,
            "object_fit": null,
            "object_position": null,
            "order": null,
            "overflow": null,
            "overflow_x": null,
            "overflow_y": null,
            "padding": null,
            "right": null,
            "top": null,
            "visibility": null,
            "width": null
          }
        },
        "0b0d6190671b44e195706a8720b3fc0a": {
          "model_module": "@jupyter-widgets/base",
          "model_name": "LayoutModel",
          "model_module_version": "1.2.0",
          "state": {
            "_model_module": "@jupyter-widgets/base",
            "_model_module_version": "1.2.0",
            "_model_name": "LayoutModel",
            "_view_count": null,
            "_view_module": "@jupyter-widgets/base",
            "_view_module_version": "1.2.0",
            "_view_name": "LayoutView",
            "align_content": null,
            "align_items": null,
            "align_self": null,
            "border": null,
            "bottom": null,
            "display": null,
            "flex": null,
            "flex_flow": null,
            "grid_area": null,
            "grid_auto_columns": null,
            "grid_auto_flow": null,
            "grid_auto_rows": null,
            "grid_column": null,
            "grid_gap": null,
            "grid_row": null,
            "grid_template_areas": null,
            "grid_template_columns": null,
            "grid_template_rows": null,
            "height": null,
            "justify_content": null,
            "justify_items": null,
            "left": null,
            "margin": null,
            "max_height": null,
            "max_width": null,
            "min_height": null,
            "min_width": null,
            "object_fit": null,
            "object_position": null,
            "order": null,
            "overflow": null,
            "overflow_x": null,
            "overflow_y": null,
            "padding": null,
            "right": null,
            "top": null,
            "visibility": null,
            "width": null
          }
        },
        "7f5c7ac63bff4fa98e5e2fe63c5d846e": {
          "model_module": "@jupyter-widgets/controls",
          "model_name": "DescriptionStyleModel",
          "model_module_version": "1.5.0",
          "state": {
            "_model_module": "@jupyter-widgets/controls",
            "_model_module_version": "1.5.0",
            "_model_name": "DescriptionStyleModel",
            "_view_count": null,
            "_view_module": "@jupyter-widgets/base",
            "_view_module_version": "1.2.0",
            "_view_name": "StyleView",
            "description_width": ""
          }
        },
        "488ffc063e21409f8e5a45e851ca0731": {
          "model_module": "@jupyter-widgets/base",
          "model_name": "LayoutModel",
          "model_module_version": "1.2.0",
          "state": {
            "_model_module": "@jupyter-widgets/base",
            "_model_module_version": "1.2.0",
            "_model_name": "LayoutModel",
            "_view_count": null,
            "_view_module": "@jupyter-widgets/base",
            "_view_module_version": "1.2.0",
            "_view_name": "LayoutView",
            "align_content": null,
            "align_items": null,
            "align_self": null,
            "border": null,
            "bottom": null,
            "display": null,
            "flex": null,
            "flex_flow": null,
            "grid_area": null,
            "grid_auto_columns": null,
            "grid_auto_flow": null,
            "grid_auto_rows": null,
            "grid_column": null,
            "grid_gap": null,
            "grid_row": null,
            "grid_template_areas": null,
            "grid_template_columns": null,
            "grid_template_rows": null,
            "height": null,
            "justify_content": null,
            "justify_items": null,
            "left": null,
            "margin": null,
            "max_height": null,
            "max_width": null,
            "min_height": null,
            "min_width": null,
            "object_fit": null,
            "object_position": null,
            "order": null,
            "overflow": null,
            "overflow_x": null,
            "overflow_y": null,
            "padding": null,
            "right": null,
            "top": null,
            "visibility": null,
            "width": null
          }
        },
        "d70613551fb746e39bbbc40097169c44": {
          "model_module": "@jupyter-widgets/controls",
          "model_name": "ProgressStyleModel",
          "model_module_version": "1.5.0",
          "state": {
            "_model_module": "@jupyter-widgets/controls",
            "_model_module_version": "1.5.0",
            "_model_name": "ProgressStyleModel",
            "_view_count": null,
            "_view_module": "@jupyter-widgets/base",
            "_view_module_version": "1.2.0",
            "_view_name": "StyleView",
            "bar_color": null,
            "description_width": ""
          }
        },
        "a78ecbb6dc8c41bf9bba8d0b543d0fa0": {
          "model_module": "@jupyter-widgets/base",
          "model_name": "LayoutModel",
          "model_module_version": "1.2.0",
          "state": {
            "_model_module": "@jupyter-widgets/base",
            "_model_module_version": "1.2.0",
            "_model_name": "LayoutModel",
            "_view_count": null,
            "_view_module": "@jupyter-widgets/base",
            "_view_module_version": "1.2.0",
            "_view_name": "LayoutView",
            "align_content": null,
            "align_items": null,
            "align_self": null,
            "border": null,
            "bottom": null,
            "display": null,
            "flex": null,
            "flex_flow": null,
            "grid_area": null,
            "grid_auto_columns": null,
            "grid_auto_flow": null,
            "grid_auto_rows": null,
            "grid_column": null,
            "grid_gap": null,
            "grid_row": null,
            "grid_template_areas": null,
            "grid_template_columns": null,
            "grid_template_rows": null,
            "height": null,
            "justify_content": null,
            "justify_items": null,
            "left": null,
            "margin": null,
            "max_height": null,
            "max_width": null,
            "min_height": null,
            "min_width": null,
            "object_fit": null,
            "object_position": null,
            "order": null,
            "overflow": null,
            "overflow_x": null,
            "overflow_y": null,
            "padding": null,
            "right": null,
            "top": null,
            "visibility": null,
            "width": null
          }
        },
        "c557133b092140c1a7a60cd8bd45c3e0": {
          "model_module": "@jupyter-widgets/controls",
          "model_name": "DescriptionStyleModel",
          "model_module_version": "1.5.0",
          "state": {
            "_model_module": "@jupyter-widgets/controls",
            "_model_module_version": "1.5.0",
            "_model_name": "DescriptionStyleModel",
            "_view_count": null,
            "_view_module": "@jupyter-widgets/base",
            "_view_module_version": "1.2.0",
            "_view_name": "StyleView",
            "description_width": ""
          }
        },
        "611008a1cf164e01954fd8c6ebf5b63a": {
          "model_module": "@jupyter-widgets/controls",
          "model_name": "HBoxModel",
          "model_module_version": "1.5.0",
          "state": {
            "_dom_classes": [],
            "_model_module": "@jupyter-widgets/controls",
            "_model_module_version": "1.5.0",
            "_model_name": "HBoxModel",
            "_view_count": null,
            "_view_module": "@jupyter-widgets/controls",
            "_view_module_version": "1.5.0",
            "_view_name": "HBoxView",
            "box_style": "",
            "children": [
              "IPY_MODEL_dd75b92a657e4fa8a8efe9ea2f47a930",
              "IPY_MODEL_da45312bb9bd49eda0bfb43471ef789e",
              "IPY_MODEL_29dda6400d3242678b62ccf13e0036c7"
            ],
            "layout": "IPY_MODEL_9b5fb83b9ef54b0ea66d24ff8993b5f6"
          }
        },
        "dd75b92a657e4fa8a8efe9ea2f47a930": {
          "model_module": "@jupyter-widgets/controls",
          "model_name": "HTMLModel",
          "model_module_version": "1.5.0",
          "state": {
            "_dom_classes": [],
            "_model_module": "@jupyter-widgets/controls",
            "_model_module_version": "1.5.0",
            "_model_name": "HTMLModel",
            "_view_count": null,
            "_view_module": "@jupyter-widgets/controls",
            "_view_module_version": "1.5.0",
            "_view_name": "HTMLView",
            "description": "",
            "description_tooltip": null,
            "layout": "IPY_MODEL_421dc6e3fc214d42abb41e7533b47d1b",
            "placeholder": "​",
            "style": "IPY_MODEL_2bddd3dcba07440a887930912444fc2d",
            "value": "100%"
          }
        },
        "da45312bb9bd49eda0bfb43471ef789e": {
          "model_module": "@jupyter-widgets/controls",
          "model_name": "FloatProgressModel",
          "model_module_version": "1.5.0",
          "state": {
            "_dom_classes": [],
            "_model_module": "@jupyter-widgets/controls",
            "_model_module_version": "1.5.0",
            "_model_name": "FloatProgressModel",
            "_view_count": null,
            "_view_module": "@jupyter-widgets/controls",
            "_view_module_version": "1.5.0",
            "_view_name": "ProgressView",
            "bar_style": "success",
            "description": "",
            "description_tooltip": null,
            "layout": "IPY_MODEL_a17ac96bc1db4bfb86310052fbdf77c7",
            "max": 4,
            "min": 0,
            "orientation": "horizontal",
            "style": "IPY_MODEL_019f5c7313f24b0e8f7706e827541216",
            "value": 4
          }
        },
        "29dda6400d3242678b62ccf13e0036c7": {
          "model_module": "@jupyter-widgets/controls",
          "model_name": "HTMLModel",
          "model_module_version": "1.5.0",
          "state": {
            "_dom_classes": [],
            "_model_module": "@jupyter-widgets/controls",
            "_model_module_version": "1.5.0",
            "_model_name": "HTMLModel",
            "_view_count": null,
            "_view_module": "@jupyter-widgets/controls",
            "_view_module_version": "1.5.0",
            "_view_name": "HTMLView",
            "description": "",
            "description_tooltip": null,
            "layout": "IPY_MODEL_7e87cc3f208644c4a1aa4ef6d455ca23",
            "placeholder": "​",
            "style": "IPY_MODEL_bf9b5473e56f4518bfb69b33bdd4954a",
            "value": " 4/4 [00:01&lt;00:00,  1.99s/it]"
          }
        },
        "9b5fb83b9ef54b0ea66d24ff8993b5f6": {
          "model_module": "@jupyter-widgets/base",
          "model_name": "LayoutModel",
          "model_module_version": "1.2.0",
          "state": {
            "_model_module": "@jupyter-widgets/base",
            "_model_module_version": "1.2.0",
            "_model_name": "LayoutModel",
            "_view_count": null,
            "_view_module": "@jupyter-widgets/base",
            "_view_module_version": "1.2.0",
            "_view_name": "LayoutView",
            "align_content": null,
            "align_items": null,
            "align_self": null,
            "border": null,
            "bottom": null,
            "display": null,
            "flex": null,
            "flex_flow": null,
            "grid_area": null,
            "grid_auto_columns": null,
            "grid_auto_flow": null,
            "grid_auto_rows": null,
            "grid_column": null,
            "grid_gap": null,
            "grid_row": null,
            "grid_template_areas": null,
            "grid_template_columns": null,
            "grid_template_rows": null,
            "height": null,
            "justify_content": null,
            "justify_items": null,
            "left": null,
            "margin": null,
            "max_height": null,
            "max_width": null,
            "min_height": null,
            "min_width": null,
            "object_fit": null,
            "object_position": null,
            "order": null,
            "overflow": null,
            "overflow_x": null,
            "overflow_y": null,
            "padding": null,
            "right": null,
            "top": null,
            "visibility": null,
            "width": null
          }
        },
        "421dc6e3fc214d42abb41e7533b47d1b": {
          "model_module": "@jupyter-widgets/base",
          "model_name": "LayoutModel",
          "model_module_version": "1.2.0",
          "state": {
            "_model_module": "@jupyter-widgets/base",
            "_model_module_version": "1.2.0",
            "_model_name": "LayoutModel",
            "_view_count": null,
            "_view_module": "@jupyter-widgets/base",
            "_view_module_version": "1.2.0",
            "_view_name": "LayoutView",
            "align_content": null,
            "align_items": null,
            "align_self": null,
            "border": null,
            "bottom": null,
            "display": null,
            "flex": null,
            "flex_flow": null,
            "grid_area": null,
            "grid_auto_columns": null,
            "grid_auto_flow": null,
            "grid_auto_rows": null,
            "grid_column": null,
            "grid_gap": null,
            "grid_row": null,
            "grid_template_areas": null,
            "grid_template_columns": null,
            "grid_template_rows": null,
            "height": null,
            "justify_content": null,
            "justify_items": null,
            "left": null,
            "margin": null,
            "max_height": null,
            "max_width": null,
            "min_height": null,
            "min_width": null,
            "object_fit": null,
            "object_position": null,
            "order": null,
            "overflow": null,
            "overflow_x": null,
            "overflow_y": null,
            "padding": null,
            "right": null,
            "top": null,
            "visibility": null,
            "width": null
          }
        },
        "2bddd3dcba07440a887930912444fc2d": {
          "model_module": "@jupyter-widgets/controls",
          "model_name": "DescriptionStyleModel",
          "model_module_version": "1.5.0",
          "state": {
            "_model_module": "@jupyter-widgets/controls",
            "_model_module_version": "1.5.0",
            "_model_name": "DescriptionStyleModel",
            "_view_count": null,
            "_view_module": "@jupyter-widgets/base",
            "_view_module_version": "1.2.0",
            "_view_name": "StyleView",
            "description_width": ""
          }
        },
        "a17ac96bc1db4bfb86310052fbdf77c7": {
          "model_module": "@jupyter-widgets/base",
          "model_name": "LayoutModel",
          "model_module_version": "1.2.0",
          "state": {
            "_model_module": "@jupyter-widgets/base",
            "_model_module_version": "1.2.0",
            "_model_name": "LayoutModel",
            "_view_count": null,
            "_view_module": "@jupyter-widgets/base",
            "_view_module_version": "1.2.0",
            "_view_name": "LayoutView",
            "align_content": null,
            "align_items": null,
            "align_self": null,
            "border": null,
            "bottom": null,
            "display": null,
            "flex": null,
            "flex_flow": null,
            "grid_area": null,
            "grid_auto_columns": null,
            "grid_auto_flow": null,
            "grid_auto_rows": null,
            "grid_column": null,
            "grid_gap": null,
            "grid_row": null,
            "grid_template_areas": null,
            "grid_template_columns": null,
            "grid_template_rows": null,
            "height": null,
            "justify_content": null,
            "justify_items": null,
            "left": null,
            "margin": null,
            "max_height": null,
            "max_width": null,
            "min_height": null,
            "min_width": null,
            "object_fit": null,
            "object_position": null,
            "order": null,
            "overflow": null,
            "overflow_x": null,
            "overflow_y": null,
            "padding": null,
            "right": null,
            "top": null,
            "visibility": null,
            "width": null
          }
        },
        "019f5c7313f24b0e8f7706e827541216": {
          "model_module": "@jupyter-widgets/controls",
          "model_name": "ProgressStyleModel",
          "model_module_version": "1.5.0",
          "state": {
            "_model_module": "@jupyter-widgets/controls",
            "_model_module_version": "1.5.0",
            "_model_name": "ProgressStyleModel",
            "_view_count": null,
            "_view_module": "@jupyter-widgets/base",
            "_view_module_version": "1.2.0",
            "_view_name": "StyleView",
            "bar_color": null,
            "description_width": ""
          }
        },
        "7e87cc3f208644c4a1aa4ef6d455ca23": {
          "model_module": "@jupyter-widgets/base",
          "model_name": "LayoutModel",
          "model_module_version": "1.2.0",
          "state": {
            "_model_module": "@jupyter-widgets/base",
            "_model_module_version": "1.2.0",
            "_model_name": "LayoutModel",
            "_view_count": null,
            "_view_module": "@jupyter-widgets/base",
            "_view_module_version": "1.2.0",
            "_view_name": "LayoutView",
            "align_content": null,
            "align_items": null,
            "align_self": null,
            "border": null,
            "bottom": null,
            "display": null,
            "flex": null,
            "flex_flow": null,
            "grid_area": null,
            "grid_auto_columns": null,
            "grid_auto_flow": null,
            "grid_auto_rows": null,
            "grid_column": null,
            "grid_gap": null,
            "grid_row": null,
            "grid_template_areas": null,
            "grid_template_columns": null,
            "grid_template_rows": null,
            "height": null,
            "justify_content": null,
            "justify_items": null,
            "left": null,
            "margin": null,
            "max_height": null,
            "max_width": null,
            "min_height": null,
            "min_width": null,
            "object_fit": null,
            "object_position": null,
            "order": null,
            "overflow": null,
            "overflow_x": null,
            "overflow_y": null,
            "padding": null,
            "right": null,
            "top": null,
            "visibility": null,
            "width": null
          }
        },
        "bf9b5473e56f4518bfb69b33bdd4954a": {
          "model_module": "@jupyter-widgets/controls",
          "model_name": "DescriptionStyleModel",
          "model_module_version": "1.5.0",
          "state": {
            "_model_module": "@jupyter-widgets/controls",
            "_model_module_version": "1.5.0",
            "_model_name": "DescriptionStyleModel",
            "_view_count": null,
            "_view_module": "@jupyter-widgets/base",
            "_view_module_version": "1.2.0",
            "_view_name": "StyleView",
            "description_width": ""
          }
        },
        "c3cf0b4407e0446ab2a1d7176d28c54f": {
          "model_module": "@jupyter-widgets/controls",
          "model_name": "HBoxModel",
          "model_module_version": "1.5.0",
          "state": {
            "_dom_classes": [],
            "_model_module": "@jupyter-widgets/controls",
            "_model_module_version": "1.5.0",
            "_model_name": "HBoxModel",
            "_view_count": null,
            "_view_module": "@jupyter-widgets/controls",
            "_view_module_version": "1.5.0",
            "_view_name": "HBoxView",
            "box_style": "",
            "children": [
              "IPY_MODEL_e6d3c6e99d204ecab37621354a060463",
              "IPY_MODEL_144ca068aab0448d90d4e2c4ea95e9b1",
              "IPY_MODEL_ced65db999c34dfeac5e0491c4fd7f5e"
            ],
            "layout": "IPY_MODEL_85572d11a84146fc9e083f8a614c4823"
          }
        },
        "e6d3c6e99d204ecab37621354a060463": {
          "model_module": "@jupyter-widgets/controls",
          "model_name": "HTMLModel",
          "model_module_version": "1.5.0",
          "state": {
            "_dom_classes": [],
            "_model_module": "@jupyter-widgets/controls",
            "_model_module_version": "1.5.0",
            "_model_name": "HTMLModel",
            "_view_count": null,
            "_view_module": "@jupyter-widgets/controls",
            "_view_module_version": "1.5.0",
            "_view_name": "HTMLView",
            "description": "",
            "description_tooltip": null,
            "layout": "IPY_MODEL_313988ef374d4fcc8585d900e687e8fd",
            "placeholder": "​",
            "style": "IPY_MODEL_8ea539935b7d437bb16c746db4a3a5ce",
            "value": "100%"
          }
        },
        "144ca068aab0448d90d4e2c4ea95e9b1": {
          "model_module": "@jupyter-widgets/controls",
          "model_name": "FloatProgressModel",
          "model_module_version": "1.5.0",
          "state": {
            "_dom_classes": [],
            "_model_module": "@jupyter-widgets/controls",
            "_model_module_version": "1.5.0",
            "_model_name": "FloatProgressModel",
            "_view_count": null,
            "_view_module": "@jupyter-widgets/controls",
            "_view_module_version": "1.5.0",
            "_view_name": "ProgressView",
            "bar_style": "success",
            "description": "",
            "description_tooltip": null,
            "layout": "IPY_MODEL_758d60a7ae3342bbafbd12f3ba640bcb",
            "max": 60,
            "min": 0,
            "orientation": "horizontal",
            "style": "IPY_MODEL_045896213e164a22a4a6e15c78d74153",
            "value": 60
          }
        },
        "ced65db999c34dfeac5e0491c4fd7f5e": {
          "model_module": "@jupyter-widgets/controls",
          "model_name": "HTMLModel",
          "model_module_version": "1.5.0",
          "state": {
            "_dom_classes": [],
            "_model_module": "@jupyter-widgets/controls",
            "_model_module_version": "1.5.0",
            "_model_name": "HTMLModel",
            "_view_count": null,
            "_view_module": "@jupyter-widgets/controls",
            "_view_module_version": "1.5.0",
            "_view_name": "HTMLView",
            "description": "",
            "description_tooltip": null,
            "layout": "IPY_MODEL_1fe20b8ec01c4eb48cf5ad75d6a5f5ac",
            "placeholder": "​",
            "style": "IPY_MODEL_1e1ee83ce48f4db193ec72df8e076b43",
            "value": " 60/60 [41:06&lt;00:00, 41.68s/it]"
          }
        },
        "85572d11a84146fc9e083f8a614c4823": {
          "model_module": "@jupyter-widgets/base",
          "model_name": "LayoutModel",
          "model_module_version": "1.2.0",
          "state": {
            "_model_module": "@jupyter-widgets/base",
            "_model_module_version": "1.2.0",
            "_model_name": "LayoutModel",
            "_view_count": null,
            "_view_module": "@jupyter-widgets/base",
            "_view_module_version": "1.2.0",
            "_view_name": "LayoutView",
            "align_content": null,
            "align_items": null,
            "align_self": null,
            "border": null,
            "bottom": null,
            "display": null,
            "flex": null,
            "flex_flow": null,
            "grid_area": null,
            "grid_auto_columns": null,
            "grid_auto_flow": null,
            "grid_auto_rows": null,
            "grid_column": null,
            "grid_gap": null,
            "grid_row": null,
            "grid_template_areas": null,
            "grid_template_columns": null,
            "grid_template_rows": null,
            "height": null,
            "justify_content": null,
            "justify_items": null,
            "left": null,
            "margin": null,
            "max_height": null,
            "max_width": null,
            "min_height": null,
            "min_width": null,
            "object_fit": null,
            "object_position": null,
            "order": null,
            "overflow": null,
            "overflow_x": null,
            "overflow_y": null,
            "padding": null,
            "right": null,
            "top": null,
            "visibility": null,
            "width": null
          }
        },
        "313988ef374d4fcc8585d900e687e8fd": {
          "model_module": "@jupyter-widgets/base",
          "model_name": "LayoutModel",
          "model_module_version": "1.2.0",
          "state": {
            "_model_module": "@jupyter-widgets/base",
            "_model_module_version": "1.2.0",
            "_model_name": "LayoutModel",
            "_view_count": null,
            "_view_module": "@jupyter-widgets/base",
            "_view_module_version": "1.2.0",
            "_view_name": "LayoutView",
            "align_content": null,
            "align_items": null,
            "align_self": null,
            "border": null,
            "bottom": null,
            "display": null,
            "flex": null,
            "flex_flow": null,
            "grid_area": null,
            "grid_auto_columns": null,
            "grid_auto_flow": null,
            "grid_auto_rows": null,
            "grid_column": null,
            "grid_gap": null,
            "grid_row": null,
            "grid_template_areas": null,
            "grid_template_columns": null,
            "grid_template_rows": null,
            "height": null,
            "justify_content": null,
            "justify_items": null,
            "left": null,
            "margin": null,
            "max_height": null,
            "max_width": null,
            "min_height": null,
            "min_width": null,
            "object_fit": null,
            "object_position": null,
            "order": null,
            "overflow": null,
            "overflow_x": null,
            "overflow_y": null,
            "padding": null,
            "right": null,
            "top": null,
            "visibility": null,
            "width": null
          }
        },
        "8ea539935b7d437bb16c746db4a3a5ce": {
          "model_module": "@jupyter-widgets/controls",
          "model_name": "DescriptionStyleModel",
          "model_module_version": "1.5.0",
          "state": {
            "_model_module": "@jupyter-widgets/controls",
            "_model_module_version": "1.5.0",
            "_model_name": "DescriptionStyleModel",
            "_view_count": null,
            "_view_module": "@jupyter-widgets/base",
            "_view_module_version": "1.2.0",
            "_view_name": "StyleView",
            "description_width": ""
          }
        },
        "758d60a7ae3342bbafbd12f3ba640bcb": {
          "model_module": "@jupyter-widgets/base",
          "model_name": "LayoutModel",
          "model_module_version": "1.2.0",
          "state": {
            "_model_module": "@jupyter-widgets/base",
            "_model_module_version": "1.2.0",
            "_model_name": "LayoutModel",
            "_view_count": null,
            "_view_module": "@jupyter-widgets/base",
            "_view_module_version": "1.2.0",
            "_view_name": "LayoutView",
            "align_content": null,
            "align_items": null,
            "align_self": null,
            "border": null,
            "bottom": null,
            "display": null,
            "flex": null,
            "flex_flow": null,
            "grid_area": null,
            "grid_auto_columns": null,
            "grid_auto_flow": null,
            "grid_auto_rows": null,
            "grid_column": null,
            "grid_gap": null,
            "grid_row": null,
            "grid_template_areas": null,
            "grid_template_columns": null,
            "grid_template_rows": null,
            "height": null,
            "justify_content": null,
            "justify_items": null,
            "left": null,
            "margin": null,
            "max_height": null,
            "max_width": null,
            "min_height": null,
            "min_width": null,
            "object_fit": null,
            "object_position": null,
            "order": null,
            "overflow": null,
            "overflow_x": null,
            "overflow_y": null,
            "padding": null,
            "right": null,
            "top": null,
            "visibility": null,
            "width": null
          }
        },
        "045896213e164a22a4a6e15c78d74153": {
          "model_module": "@jupyter-widgets/controls",
          "model_name": "ProgressStyleModel",
          "model_module_version": "1.5.0",
          "state": {
            "_model_module": "@jupyter-widgets/controls",
            "_model_module_version": "1.5.0",
            "_model_name": "ProgressStyleModel",
            "_view_count": null,
            "_view_module": "@jupyter-widgets/base",
            "_view_module_version": "1.2.0",
            "_view_name": "StyleView",
            "bar_color": null,
            "description_width": ""
          }
        },
        "1fe20b8ec01c4eb48cf5ad75d6a5f5ac": {
          "model_module": "@jupyter-widgets/base",
          "model_name": "LayoutModel",
          "model_module_version": "1.2.0",
          "state": {
            "_model_module": "@jupyter-widgets/base",
            "_model_module_version": "1.2.0",
            "_model_name": "LayoutModel",
            "_view_count": null,
            "_view_module": "@jupyter-widgets/base",
            "_view_module_version": "1.2.0",
            "_view_name": "LayoutView",
            "align_content": null,
            "align_items": null,
            "align_self": null,
            "border": null,
            "bottom": null,
            "display": null,
            "flex": null,
            "flex_flow": null,
            "grid_area": null,
            "grid_auto_columns": null,
            "grid_auto_flow": null,
            "grid_auto_rows": null,
            "grid_column": null,
            "grid_gap": null,
            "grid_row": null,
            "grid_template_areas": null,
            "grid_template_columns": null,
            "grid_template_rows": null,
            "height": null,
            "justify_content": null,
            "justify_items": null,
            "left": null,
            "margin": null,
            "max_height": null,
            "max_width": null,
            "min_height": null,
            "min_width": null,
            "object_fit": null,
            "object_position": null,
            "order": null,
            "overflow": null,
            "overflow_x": null,
            "overflow_y": null,
            "padding": null,
            "right": null,
            "top": null,
            "visibility": null,
            "width": null
          }
        },
        "1e1ee83ce48f4db193ec72df8e076b43": {
          "model_module": "@jupyter-widgets/controls",
          "model_name": "DescriptionStyleModel",
          "model_module_version": "1.5.0",
          "state": {
            "_model_module": "@jupyter-widgets/controls",
            "_model_module_version": "1.5.0",
            "_model_name": "DescriptionStyleModel",
            "_view_count": null,
            "_view_module": "@jupyter-widgets/base",
            "_view_module_version": "1.2.0",
            "_view_name": "StyleView",
            "description_width": ""
          }
        },
        "7fdd55821f4541e8a958d8999aa56e42": {
          "model_module": "@jupyter-widgets/controls",
          "model_name": "HBoxModel",
          "model_module_version": "1.5.0",
          "state": {
            "_dom_classes": [],
            "_model_module": "@jupyter-widgets/controls",
            "_model_module_version": "1.5.0",
            "_model_name": "HBoxModel",
            "_view_count": null,
            "_view_module": "@jupyter-widgets/controls",
            "_view_module_version": "1.5.0",
            "_view_name": "HBoxView",
            "box_style": "",
            "children": [
              "IPY_MODEL_f3adda29ba464f1190bccdadbe6f6198",
              "IPY_MODEL_adbba18446a24329b6c4d83091fd23e6",
              "IPY_MODEL_77659aff28f54bbc8713bec966eb0231"
            ],
            "layout": "IPY_MODEL_5f6b0e0bbfbd46de85dff5aa561d2c62"
          }
        },
        "f3adda29ba464f1190bccdadbe6f6198": {
          "model_module": "@jupyter-widgets/controls",
          "model_name": "HTMLModel",
          "model_module_version": "1.5.0",
          "state": {
            "_dom_classes": [],
            "_model_module": "@jupyter-widgets/controls",
            "_model_module_version": "1.5.0",
            "_model_name": "HTMLModel",
            "_view_count": null,
            "_view_module": "@jupyter-widgets/controls",
            "_view_module_version": "1.5.0",
            "_view_name": "HTMLView",
            "description": "",
            "description_tooltip": null,
            "layout": "IPY_MODEL_f14906b40eb1439b97c127968a9c1eec",
            "placeholder": "​",
            "style": "IPY_MODEL_a260717f47f546ed81e613e600a2b352",
            "value": "100%"
          }
        },
        "adbba18446a24329b6c4d83091fd23e6": {
          "model_module": "@jupyter-widgets/controls",
          "model_name": "FloatProgressModel",
          "model_module_version": "1.5.0",
          "state": {
            "_dom_classes": [],
            "_model_module": "@jupyter-widgets/controls",
            "_model_module_version": "1.5.0",
            "_model_name": "FloatProgressModel",
            "_view_count": null,
            "_view_module": "@jupyter-widgets/controls",
            "_view_module_version": "1.5.0",
            "_view_name": "ProgressView",
            "bar_style": "success",
            "description": "",
            "description_tooltip": null,
            "layout": "IPY_MODEL_b1ece11b4289427990b70693c4181d6b",
            "max": 4,
            "min": 0,
            "orientation": "horizontal",
            "style": "IPY_MODEL_fba8820a13304fa185ce975d7703a5dc",
            "value": 4
          }
        },
        "77659aff28f54bbc8713bec966eb0231": {
          "model_module": "@jupyter-widgets/controls",
          "model_name": "HTMLModel",
          "model_module_version": "1.5.0",
          "state": {
            "_dom_classes": [],
            "_model_module": "@jupyter-widgets/controls",
            "_model_module_version": "1.5.0",
            "_model_name": "HTMLModel",
            "_view_count": null,
            "_view_module": "@jupyter-widgets/controls",
            "_view_module_version": "1.5.0",
            "_view_name": "HTMLView",
            "description": "",
            "description_tooltip": null,
            "layout": "IPY_MODEL_1d70eb54528d45c4a9317cdc1e2cf39d",
            "placeholder": "​",
            "style": "IPY_MODEL_3b1151e5b4474cc5b0fade161d750eae",
            "value": " 4/4 [00:02&lt;00:00,  1.30s/it]"
          }
        },
        "5f6b0e0bbfbd46de85dff5aa561d2c62": {
          "model_module": "@jupyter-widgets/base",
          "model_name": "LayoutModel",
          "model_module_version": "1.2.0",
          "state": {
            "_model_module": "@jupyter-widgets/base",
            "_model_module_version": "1.2.0",
            "_model_name": "LayoutModel",
            "_view_count": null,
            "_view_module": "@jupyter-widgets/base",
            "_view_module_version": "1.2.0",
            "_view_name": "LayoutView",
            "align_content": null,
            "align_items": null,
            "align_self": null,
            "border": null,
            "bottom": null,
            "display": null,
            "flex": null,
            "flex_flow": null,
            "grid_area": null,
            "grid_auto_columns": null,
            "grid_auto_flow": null,
            "grid_auto_rows": null,
            "grid_column": null,
            "grid_gap": null,
            "grid_row": null,
            "grid_template_areas": null,
            "grid_template_columns": null,
            "grid_template_rows": null,
            "height": null,
            "justify_content": null,
            "justify_items": null,
            "left": null,
            "margin": null,
            "max_height": null,
            "max_width": null,
            "min_height": null,
            "min_width": null,
            "object_fit": null,
            "object_position": null,
            "order": null,
            "overflow": null,
            "overflow_x": null,
            "overflow_y": null,
            "padding": null,
            "right": null,
            "top": null,
            "visibility": null,
            "width": null
          }
        },
        "f14906b40eb1439b97c127968a9c1eec": {
          "model_module": "@jupyter-widgets/base",
          "model_name": "LayoutModel",
          "model_module_version": "1.2.0",
          "state": {
            "_model_module": "@jupyter-widgets/base",
            "_model_module_version": "1.2.0",
            "_model_name": "LayoutModel",
            "_view_count": null,
            "_view_module": "@jupyter-widgets/base",
            "_view_module_version": "1.2.0",
            "_view_name": "LayoutView",
            "align_content": null,
            "align_items": null,
            "align_self": null,
            "border": null,
            "bottom": null,
            "display": null,
            "flex": null,
            "flex_flow": null,
            "grid_area": null,
            "grid_auto_columns": null,
            "grid_auto_flow": null,
            "grid_auto_rows": null,
            "grid_column": null,
            "grid_gap": null,
            "grid_row": null,
            "grid_template_areas": null,
            "grid_template_columns": null,
            "grid_template_rows": null,
            "height": null,
            "justify_content": null,
            "justify_items": null,
            "left": null,
            "margin": null,
            "max_height": null,
            "max_width": null,
            "min_height": null,
            "min_width": null,
            "object_fit": null,
            "object_position": null,
            "order": null,
            "overflow": null,
            "overflow_x": null,
            "overflow_y": null,
            "padding": null,
            "right": null,
            "top": null,
            "visibility": null,
            "width": null
          }
        },
        "a260717f47f546ed81e613e600a2b352": {
          "model_module": "@jupyter-widgets/controls",
          "model_name": "DescriptionStyleModel",
          "model_module_version": "1.5.0",
          "state": {
            "_model_module": "@jupyter-widgets/controls",
            "_model_module_version": "1.5.0",
            "_model_name": "DescriptionStyleModel",
            "_view_count": null,
            "_view_module": "@jupyter-widgets/base",
            "_view_module_version": "1.2.0",
            "_view_name": "StyleView",
            "description_width": ""
          }
        },
        "b1ece11b4289427990b70693c4181d6b": {
          "model_module": "@jupyter-widgets/base",
          "model_name": "LayoutModel",
          "model_module_version": "1.2.0",
          "state": {
            "_model_module": "@jupyter-widgets/base",
            "_model_module_version": "1.2.0",
            "_model_name": "LayoutModel",
            "_view_count": null,
            "_view_module": "@jupyter-widgets/base",
            "_view_module_version": "1.2.0",
            "_view_name": "LayoutView",
            "align_content": null,
            "align_items": null,
            "align_self": null,
            "border": null,
            "bottom": null,
            "display": null,
            "flex": null,
            "flex_flow": null,
            "grid_area": null,
            "grid_auto_columns": null,
            "grid_auto_flow": null,
            "grid_auto_rows": null,
            "grid_column": null,
            "grid_gap": null,
            "grid_row": null,
            "grid_template_areas": null,
            "grid_template_columns": null,
            "grid_template_rows": null,
            "height": null,
            "justify_content": null,
            "justify_items": null,
            "left": null,
            "margin": null,
            "max_height": null,
            "max_width": null,
            "min_height": null,
            "min_width": null,
            "object_fit": null,
            "object_position": null,
            "order": null,
            "overflow": null,
            "overflow_x": null,
            "overflow_y": null,
            "padding": null,
            "right": null,
            "top": null,
            "visibility": null,
            "width": null
          }
        },
        "fba8820a13304fa185ce975d7703a5dc": {
          "model_module": "@jupyter-widgets/controls",
          "model_name": "ProgressStyleModel",
          "model_module_version": "1.5.0",
          "state": {
            "_model_module": "@jupyter-widgets/controls",
            "_model_module_version": "1.5.0",
            "_model_name": "ProgressStyleModel",
            "_view_count": null,
            "_view_module": "@jupyter-widgets/base",
            "_view_module_version": "1.2.0",
            "_view_name": "StyleView",
            "bar_color": null,
            "description_width": ""
          }
        },
        "1d70eb54528d45c4a9317cdc1e2cf39d": {
          "model_module": "@jupyter-widgets/base",
          "model_name": "LayoutModel",
          "model_module_version": "1.2.0",
          "state": {
            "_model_module": "@jupyter-widgets/base",
            "_model_module_version": "1.2.0",
            "_model_name": "LayoutModel",
            "_view_count": null,
            "_view_module": "@jupyter-widgets/base",
            "_view_module_version": "1.2.0",
            "_view_name": "LayoutView",
            "align_content": null,
            "align_items": null,
            "align_self": null,
            "border": null,
            "bottom": null,
            "display": null,
            "flex": null,
            "flex_flow": null,
            "grid_area": null,
            "grid_auto_columns": null,
            "grid_auto_flow": null,
            "grid_auto_rows": null,
            "grid_column": null,
            "grid_gap": null,
            "grid_row": null,
            "grid_template_areas": null,
            "grid_template_columns": null,
            "grid_template_rows": null,
            "height": null,
            "justify_content": null,
            "justify_items": null,
            "left": null,
            "margin": null,
            "max_height": null,
            "max_width": null,
            "min_height": null,
            "min_width": null,
            "object_fit": null,
            "object_position": null,
            "order": null,
            "overflow": null,
            "overflow_x": null,
            "overflow_y": null,
            "padding": null,
            "right": null,
            "top": null,
            "visibility": null,
            "width": null
          }
        },
        "3b1151e5b4474cc5b0fade161d750eae": {
          "model_module": "@jupyter-widgets/controls",
          "model_name": "DescriptionStyleModel",
          "model_module_version": "1.5.0",
          "state": {
            "_model_module": "@jupyter-widgets/controls",
            "_model_module_version": "1.5.0",
            "_model_name": "DescriptionStyleModel",
            "_view_count": null,
            "_view_module": "@jupyter-widgets/base",
            "_view_module_version": "1.2.0",
            "_view_name": "StyleView",
            "description_width": ""
          }
        },
        "f5e51ef5e60343ba8fd9e419b42642fb": {
          "model_module": "@jupyter-widgets/controls",
          "model_name": "HBoxModel",
          "model_module_version": "1.5.0",
          "state": {
            "_dom_classes": [],
            "_model_module": "@jupyter-widgets/controls",
            "_model_module_version": "1.5.0",
            "_model_name": "HBoxModel",
            "_view_count": null,
            "_view_module": "@jupyter-widgets/controls",
            "_view_module_version": "1.5.0",
            "_view_name": "HBoxView",
            "box_style": "",
            "children": [
              "IPY_MODEL_b1145ed4f6ab4f37a4e757e60815dc8a",
              "IPY_MODEL_4c83bbb96b82414ab1e133cd22f076cb",
              "IPY_MODEL_1ef37d14bd8a4acea1642f16aaddf77c"
            ],
            "layout": "IPY_MODEL_2fbf014664584cdb83146bfbdc2cdbf5"
          }
        },
        "b1145ed4f6ab4f37a4e757e60815dc8a": {
          "model_module": "@jupyter-widgets/controls",
          "model_name": "HTMLModel",
          "model_module_version": "1.5.0",
          "state": {
            "_dom_classes": [],
            "_model_module": "@jupyter-widgets/controls",
            "_model_module_version": "1.5.0",
            "_model_name": "HTMLModel",
            "_view_count": null,
            "_view_module": "@jupyter-widgets/controls",
            "_view_module_version": "1.5.0",
            "_view_name": "HTMLView",
            "description": "",
            "description_tooltip": null,
            "layout": "IPY_MODEL_5e8b306cf35d470381da16fa0c7e6851",
            "placeholder": "​",
            "style": "IPY_MODEL_a58aaa5af7094a738bd849c0df45a626",
            "value": " 32%"
          }
        },
        "4c83bbb96b82414ab1e133cd22f076cb": {
          "model_module": "@jupyter-widgets/controls",
          "model_name": "FloatProgressModel",
          "model_module_version": "1.5.0",
          "state": {
            "_dom_classes": [],
            "_model_module": "@jupyter-widgets/controls",
            "_model_module_version": "1.5.0",
            "_model_name": "FloatProgressModel",
            "_view_count": null,
            "_view_module": "@jupyter-widgets/controls",
            "_view_module_version": "1.5.0",
            "_view_name": "ProgressView",
            "bar_style": "danger",
            "description": "",
            "description_tooltip": null,
            "layout": "IPY_MODEL_ba1bda4685544bc19a8de699818574c4",
            "max": 100,
            "min": 0,
            "orientation": "horizontal",
            "style": "IPY_MODEL_440fa7f8201748d4804768c672c6473a",
            "value": 32
          }
        },
        "1ef37d14bd8a4acea1642f16aaddf77c": {
          "model_module": "@jupyter-widgets/controls",
          "model_name": "HTMLModel",
          "model_module_version": "1.5.0",
          "state": {
            "_dom_classes": [],
            "_model_module": "@jupyter-widgets/controls",
            "_model_module_version": "1.5.0",
            "_model_name": "HTMLModel",
            "_view_count": null,
            "_view_module": "@jupyter-widgets/controls",
            "_view_module_version": "1.5.0",
            "_view_name": "HTMLView",
            "description": "",
            "description_tooltip": null,
            "layout": "IPY_MODEL_c094346e037f497ab88040a6a3842bdb",
            "placeholder": "​",
            "style": "IPY_MODEL_f23fc540e33749f482348103c0e46511",
            "value": " 32/100 [01:49&lt;03:30,  3.10s/it]"
          }
        },
        "2fbf014664584cdb83146bfbdc2cdbf5": {
          "model_module": "@jupyter-widgets/base",
          "model_name": "LayoutModel",
          "model_module_version": "1.2.0",
          "state": {
            "_model_module": "@jupyter-widgets/base",
            "_model_module_version": "1.2.0",
            "_model_name": "LayoutModel",
            "_view_count": null,
            "_view_module": "@jupyter-widgets/base",
            "_view_module_version": "1.2.0",
            "_view_name": "LayoutView",
            "align_content": null,
            "align_items": null,
            "align_self": null,
            "border": null,
            "bottom": null,
            "display": null,
            "flex": null,
            "flex_flow": null,
            "grid_area": null,
            "grid_auto_columns": null,
            "grid_auto_flow": null,
            "grid_auto_rows": null,
            "grid_column": null,
            "grid_gap": null,
            "grid_row": null,
            "grid_template_areas": null,
            "grid_template_columns": null,
            "grid_template_rows": null,
            "height": null,
            "justify_content": null,
            "justify_items": null,
            "left": null,
            "margin": null,
            "max_height": null,
            "max_width": null,
            "min_height": null,
            "min_width": null,
            "object_fit": null,
            "object_position": null,
            "order": null,
            "overflow": null,
            "overflow_x": null,
            "overflow_y": null,
            "padding": null,
            "right": null,
            "top": null,
            "visibility": null,
            "width": null
          }
        },
        "5e8b306cf35d470381da16fa0c7e6851": {
          "model_module": "@jupyter-widgets/base",
          "model_name": "LayoutModel",
          "model_module_version": "1.2.0",
          "state": {
            "_model_module": "@jupyter-widgets/base",
            "_model_module_version": "1.2.0",
            "_model_name": "LayoutModel",
            "_view_count": null,
            "_view_module": "@jupyter-widgets/base",
            "_view_module_version": "1.2.0",
            "_view_name": "LayoutView",
            "align_content": null,
            "align_items": null,
            "align_self": null,
            "border": null,
            "bottom": null,
            "display": null,
            "flex": null,
            "flex_flow": null,
            "grid_area": null,
            "grid_auto_columns": null,
            "grid_auto_flow": null,
            "grid_auto_rows": null,
            "grid_column": null,
            "grid_gap": null,
            "grid_row": null,
            "grid_template_areas": null,
            "grid_template_columns": null,
            "grid_template_rows": null,
            "height": null,
            "justify_content": null,
            "justify_items": null,
            "left": null,
            "margin": null,
            "max_height": null,
            "max_width": null,
            "min_height": null,
            "min_width": null,
            "object_fit": null,
            "object_position": null,
            "order": null,
            "overflow": null,
            "overflow_x": null,
            "overflow_y": null,
            "padding": null,
            "right": null,
            "top": null,
            "visibility": null,
            "width": null
          }
        },
        "a58aaa5af7094a738bd849c0df45a626": {
          "model_module": "@jupyter-widgets/controls",
          "model_name": "DescriptionStyleModel",
          "model_module_version": "1.5.0",
          "state": {
            "_model_module": "@jupyter-widgets/controls",
            "_model_module_version": "1.5.0",
            "_model_name": "DescriptionStyleModel",
            "_view_count": null,
            "_view_module": "@jupyter-widgets/base",
            "_view_module_version": "1.2.0",
            "_view_name": "StyleView",
            "description_width": ""
          }
        },
        "ba1bda4685544bc19a8de699818574c4": {
          "model_module": "@jupyter-widgets/base",
          "model_name": "LayoutModel",
          "model_module_version": "1.2.0",
          "state": {
            "_model_module": "@jupyter-widgets/base",
            "_model_module_version": "1.2.0",
            "_model_name": "LayoutModel",
            "_view_count": null,
            "_view_module": "@jupyter-widgets/base",
            "_view_module_version": "1.2.0",
            "_view_name": "LayoutView",
            "align_content": null,
            "align_items": null,
            "align_self": null,
            "border": null,
            "bottom": null,
            "display": null,
            "flex": null,
            "flex_flow": null,
            "grid_area": null,
            "grid_auto_columns": null,
            "grid_auto_flow": null,
            "grid_auto_rows": null,
            "grid_column": null,
            "grid_gap": null,
            "grid_row": null,
            "grid_template_areas": null,
            "grid_template_columns": null,
            "grid_template_rows": null,
            "height": null,
            "justify_content": null,
            "justify_items": null,
            "left": null,
            "margin": null,
            "max_height": null,
            "max_width": null,
            "min_height": null,
            "min_width": null,
            "object_fit": null,
            "object_position": null,
            "order": null,
            "overflow": null,
            "overflow_x": null,
            "overflow_y": null,
            "padding": null,
            "right": null,
            "top": null,
            "visibility": null,
            "width": null
          }
        },
        "440fa7f8201748d4804768c672c6473a": {
          "model_module": "@jupyter-widgets/controls",
          "model_name": "ProgressStyleModel",
          "model_module_version": "1.5.0",
          "state": {
            "_model_module": "@jupyter-widgets/controls",
            "_model_module_version": "1.5.0",
            "_model_name": "ProgressStyleModel",
            "_view_count": null,
            "_view_module": "@jupyter-widgets/base",
            "_view_module_version": "1.2.0",
            "_view_name": "StyleView",
            "bar_color": null,
            "description_width": ""
          }
        },
        "c094346e037f497ab88040a6a3842bdb": {
          "model_module": "@jupyter-widgets/base",
          "model_name": "LayoutModel",
          "model_module_version": "1.2.0",
          "state": {
            "_model_module": "@jupyter-widgets/base",
            "_model_module_version": "1.2.0",
            "_model_name": "LayoutModel",
            "_view_count": null,
            "_view_module": "@jupyter-widgets/base",
            "_view_module_version": "1.2.0",
            "_view_name": "LayoutView",
            "align_content": null,
            "align_items": null,
            "align_self": null,
            "border": null,
            "bottom": null,
            "display": null,
            "flex": null,
            "flex_flow": null,
            "grid_area": null,
            "grid_auto_columns": null,
            "grid_auto_flow": null,
            "grid_auto_rows": null,
            "grid_column": null,
            "grid_gap": null,
            "grid_row": null,
            "grid_template_areas": null,
            "grid_template_columns": null,
            "grid_template_rows": null,
            "height": null,
            "justify_content": null,
            "justify_items": null,
            "left": null,
            "margin": null,
            "max_height": null,
            "max_width": null,
            "min_height": null,
            "min_width": null,
            "object_fit": null,
            "object_position": null,
            "order": null,
            "overflow": null,
            "overflow_x": null,
            "overflow_y": null,
            "padding": null,
            "right": null,
            "top": null,
            "visibility": null,
            "width": null
          }
        },
        "f23fc540e33749f482348103c0e46511": {
          "model_module": "@jupyter-widgets/controls",
          "model_name": "DescriptionStyleModel",
          "model_module_version": "1.5.0",
          "state": {
            "_model_module": "@jupyter-widgets/controls",
            "_model_module_version": "1.5.0",
            "_model_name": "DescriptionStyleModel",
            "_view_count": null,
            "_view_module": "@jupyter-widgets/base",
            "_view_module_version": "1.2.0",
            "_view_name": "StyleView",
            "description_width": ""
          }
        },
        "a734613afe6342dea579415a70d3e176": {
          "model_module": "@jupyter-widgets/controls",
          "model_name": "HBoxModel",
          "model_module_version": "1.5.0",
          "state": {
            "_dom_classes": [],
            "_model_module": "@jupyter-widgets/controls",
            "_model_module_version": "1.5.0",
            "_model_name": "HBoxModel",
            "_view_count": null,
            "_view_module": "@jupyter-widgets/controls",
            "_view_module_version": "1.5.0",
            "_view_name": "HBoxView",
            "box_style": "",
            "children": [
              "IPY_MODEL_abdb198a1ea14faea5ea9297ca1ecef0",
              "IPY_MODEL_31d2754a4e2347d09e1c86afe99fd132",
              "IPY_MODEL_8d5e07538ec745cf85f0bddc57ef3880"
            ],
            "layout": "IPY_MODEL_d1474aca54474b51aeb893acc15a0a07"
          }
        },
        "abdb198a1ea14faea5ea9297ca1ecef0": {
          "model_module": "@jupyter-widgets/controls",
          "model_name": "HTMLModel",
          "model_module_version": "1.5.0",
          "state": {
            "_dom_classes": [],
            "_model_module": "@jupyter-widgets/controls",
            "_model_module_version": "1.5.0",
            "_model_name": "HTMLModel",
            "_view_count": null,
            "_view_module": "@jupyter-widgets/controls",
            "_view_module_version": "1.5.0",
            "_view_name": "HTMLView",
            "description": "",
            "description_tooltip": null,
            "layout": "IPY_MODEL_61ba09e8eca24aa69a362fcb80873812",
            "placeholder": "​",
            "style": "IPY_MODEL_3dab248836504e1bb0abd6f6129df490",
            "value": "100%"
          }
        },
        "31d2754a4e2347d09e1c86afe99fd132": {
          "model_module": "@jupyter-widgets/controls",
          "model_name": "FloatProgressModel",
          "model_module_version": "1.5.0",
          "state": {
            "_dom_classes": [],
            "_model_module": "@jupyter-widgets/controls",
            "_model_module_version": "1.5.0",
            "_model_name": "FloatProgressModel",
            "_view_count": null,
            "_view_module": "@jupyter-widgets/controls",
            "_view_module_version": "1.5.0",
            "_view_name": "ProgressView",
            "bar_style": "success",
            "description": "",
            "description_tooltip": null,
            "layout": "IPY_MODEL_4e531e973ad14e8f9a4aee10e88dfaae",
            "max": 4,
            "min": 0,
            "orientation": "horizontal",
            "style": "IPY_MODEL_4fbfecc32ba045c6b59052744ef4cfa5",
            "value": 4
          }
        },
        "8d5e07538ec745cf85f0bddc57ef3880": {
          "model_module": "@jupyter-widgets/controls",
          "model_name": "HTMLModel",
          "model_module_version": "1.5.0",
          "state": {
            "_dom_classes": [],
            "_model_module": "@jupyter-widgets/controls",
            "_model_module_version": "1.5.0",
            "_model_name": "HTMLModel",
            "_view_count": null,
            "_view_module": "@jupyter-widgets/controls",
            "_view_module_version": "1.5.0",
            "_view_name": "HTMLView",
            "description": "",
            "description_tooltip": null,
            "layout": "IPY_MODEL_740d10e415ef45b1bc988c2a19b83b0a",
            "placeholder": "​",
            "style": "IPY_MODEL_da06b7186c3a4323b36e3d657d8614f8",
            "value": " 4/4 [00:00&lt;00:00,  6.18it/s]"
          }
        },
        "d1474aca54474b51aeb893acc15a0a07": {
          "model_module": "@jupyter-widgets/base",
          "model_name": "LayoutModel",
          "model_module_version": "1.2.0",
          "state": {
            "_model_module": "@jupyter-widgets/base",
            "_model_module_version": "1.2.0",
            "_model_name": "LayoutModel",
            "_view_count": null,
            "_view_module": "@jupyter-widgets/base",
            "_view_module_version": "1.2.0",
            "_view_name": "LayoutView",
            "align_content": null,
            "align_items": null,
            "align_self": null,
            "border": null,
            "bottom": null,
            "display": null,
            "flex": null,
            "flex_flow": null,
            "grid_area": null,
            "grid_auto_columns": null,
            "grid_auto_flow": null,
            "grid_auto_rows": null,
            "grid_column": null,
            "grid_gap": null,
            "grid_row": null,
            "grid_template_areas": null,
            "grid_template_columns": null,
            "grid_template_rows": null,
            "height": null,
            "justify_content": null,
            "justify_items": null,
            "left": null,
            "margin": null,
            "max_height": null,
            "max_width": null,
            "min_height": null,
            "min_width": null,
            "object_fit": null,
            "object_position": null,
            "order": null,
            "overflow": null,
            "overflow_x": null,
            "overflow_y": null,
            "padding": null,
            "right": null,
            "top": null,
            "visibility": null,
            "width": null
          }
        },
        "61ba09e8eca24aa69a362fcb80873812": {
          "model_module": "@jupyter-widgets/base",
          "model_name": "LayoutModel",
          "model_module_version": "1.2.0",
          "state": {
            "_model_module": "@jupyter-widgets/base",
            "_model_module_version": "1.2.0",
            "_model_name": "LayoutModel",
            "_view_count": null,
            "_view_module": "@jupyter-widgets/base",
            "_view_module_version": "1.2.0",
            "_view_name": "LayoutView",
            "align_content": null,
            "align_items": null,
            "align_self": null,
            "border": null,
            "bottom": null,
            "display": null,
            "flex": null,
            "flex_flow": null,
            "grid_area": null,
            "grid_auto_columns": null,
            "grid_auto_flow": null,
            "grid_auto_rows": null,
            "grid_column": null,
            "grid_gap": null,
            "grid_row": null,
            "grid_template_areas": null,
            "grid_template_columns": null,
            "grid_template_rows": null,
            "height": null,
            "justify_content": null,
            "justify_items": null,
            "left": null,
            "margin": null,
            "max_height": null,
            "max_width": null,
            "min_height": null,
            "min_width": null,
            "object_fit": null,
            "object_position": null,
            "order": null,
            "overflow": null,
            "overflow_x": null,
            "overflow_y": null,
            "padding": null,
            "right": null,
            "top": null,
            "visibility": null,
            "width": null
          }
        },
        "3dab248836504e1bb0abd6f6129df490": {
          "model_module": "@jupyter-widgets/controls",
          "model_name": "DescriptionStyleModel",
          "model_module_version": "1.5.0",
          "state": {
            "_model_module": "@jupyter-widgets/controls",
            "_model_module_version": "1.5.0",
            "_model_name": "DescriptionStyleModel",
            "_view_count": null,
            "_view_module": "@jupyter-widgets/base",
            "_view_module_version": "1.2.0",
            "_view_name": "StyleView",
            "description_width": ""
          }
        },
        "4e531e973ad14e8f9a4aee10e88dfaae": {
          "model_module": "@jupyter-widgets/base",
          "model_name": "LayoutModel",
          "model_module_version": "1.2.0",
          "state": {
            "_model_module": "@jupyter-widgets/base",
            "_model_module_version": "1.2.0",
            "_model_name": "LayoutModel",
            "_view_count": null,
            "_view_module": "@jupyter-widgets/base",
            "_view_module_version": "1.2.0",
            "_view_name": "LayoutView",
            "align_content": null,
            "align_items": null,
            "align_self": null,
            "border": null,
            "bottom": null,
            "display": null,
            "flex": null,
            "flex_flow": null,
            "grid_area": null,
            "grid_auto_columns": null,
            "grid_auto_flow": null,
            "grid_auto_rows": null,
            "grid_column": null,
            "grid_gap": null,
            "grid_row": null,
            "grid_template_areas": null,
            "grid_template_columns": null,
            "grid_template_rows": null,
            "height": null,
            "justify_content": null,
            "justify_items": null,
            "left": null,
            "margin": null,
            "max_height": null,
            "max_width": null,
            "min_height": null,
            "min_width": null,
            "object_fit": null,
            "object_position": null,
            "order": null,
            "overflow": null,
            "overflow_x": null,
            "overflow_y": null,
            "padding": null,
            "right": null,
            "top": null,
            "visibility": null,
            "width": null
          }
        },
        "4fbfecc32ba045c6b59052744ef4cfa5": {
          "model_module": "@jupyter-widgets/controls",
          "model_name": "ProgressStyleModel",
          "model_module_version": "1.5.0",
          "state": {
            "_model_module": "@jupyter-widgets/controls",
            "_model_module_version": "1.5.0",
            "_model_name": "ProgressStyleModel",
            "_view_count": null,
            "_view_module": "@jupyter-widgets/base",
            "_view_module_version": "1.2.0",
            "_view_name": "StyleView",
            "bar_color": null,
            "description_width": ""
          }
        },
        "740d10e415ef45b1bc988c2a19b83b0a": {
          "model_module": "@jupyter-widgets/base",
          "model_name": "LayoutModel",
          "model_module_version": "1.2.0",
          "state": {
            "_model_module": "@jupyter-widgets/base",
            "_model_module_version": "1.2.0",
            "_model_name": "LayoutModel",
            "_view_count": null,
            "_view_module": "@jupyter-widgets/base",
            "_view_module_version": "1.2.0",
            "_view_name": "LayoutView",
            "align_content": null,
            "align_items": null,
            "align_self": null,
            "border": null,
            "bottom": null,
            "display": null,
            "flex": null,
            "flex_flow": null,
            "grid_area": null,
            "grid_auto_columns": null,
            "grid_auto_flow": null,
            "grid_auto_rows": null,
            "grid_column": null,
            "grid_gap": null,
            "grid_row": null,
            "grid_template_areas": null,
            "grid_template_columns": null,
            "grid_template_rows": null,
            "height": null,
            "justify_content": null,
            "justify_items": null,
            "left": null,
            "margin": null,
            "max_height": null,
            "max_width": null,
            "min_height": null,
            "min_width": null,
            "object_fit": null,
            "object_position": null,
            "order": null,
            "overflow": null,
            "overflow_x": null,
            "overflow_y": null,
            "padding": null,
            "right": null,
            "top": null,
            "visibility": null,
            "width": null
          }
        },
        "da06b7186c3a4323b36e3d657d8614f8": {
          "model_module": "@jupyter-widgets/controls",
          "model_name": "DescriptionStyleModel",
          "model_module_version": "1.5.0",
          "state": {
            "_model_module": "@jupyter-widgets/controls",
            "_model_module_version": "1.5.0",
            "_model_name": "DescriptionStyleModel",
            "_view_count": null,
            "_view_module": "@jupyter-widgets/base",
            "_view_module_version": "1.2.0",
            "_view_name": "StyleView",
            "description_width": ""
          }
        },
        "6b37716ae47e40b4bd848a5735da9001": {
          "model_module": "@jupyter-widgets/controls",
          "model_name": "HBoxModel",
          "model_module_version": "1.5.0",
          "state": {
            "_dom_classes": [],
            "_model_module": "@jupyter-widgets/controls",
            "_model_module_version": "1.5.0",
            "_model_name": "HBoxModel",
            "_view_count": null,
            "_view_module": "@jupyter-widgets/controls",
            "_view_module_version": "1.5.0",
            "_view_name": "HBoxView",
            "box_style": "",
            "children": [
              "IPY_MODEL_2f17307a3aad46a5a8f176af105fcb79",
              "IPY_MODEL_07f7e9eb0d5243739ffef6556a5302ac",
              "IPY_MODEL_23bd222794cf4924a31075a912a3bead"
            ],
            "layout": "IPY_MODEL_f27b156d1d604033985a0f64735784aa"
          }
        },
        "2f17307a3aad46a5a8f176af105fcb79": {
          "model_module": "@jupyter-widgets/controls",
          "model_name": "HTMLModel",
          "model_module_version": "1.5.0",
          "state": {
            "_dom_classes": [],
            "_model_module": "@jupyter-widgets/controls",
            "_model_module_version": "1.5.0",
            "_model_name": "HTMLModel",
            "_view_count": null,
            "_view_module": "@jupyter-widgets/controls",
            "_view_module_version": "1.5.0",
            "_view_name": "HTMLView",
            "description": "",
            "description_tooltip": null,
            "layout": "IPY_MODEL_2e035eae8b2f47ef987a6e060627513e",
            "placeholder": "​",
            "style": "IPY_MODEL_aca192aaba0b4cfeb58d946d23862980",
            "value": "100%"
          }
        },
        "07f7e9eb0d5243739ffef6556a5302ac": {
          "model_module": "@jupyter-widgets/controls",
          "model_name": "FloatProgressModel",
          "model_module_version": "1.5.0",
          "state": {
            "_dom_classes": [],
            "_model_module": "@jupyter-widgets/controls",
            "_model_module_version": "1.5.0",
            "_model_name": "FloatProgressModel",
            "_view_count": null,
            "_view_module": "@jupyter-widgets/controls",
            "_view_module_version": "1.5.0",
            "_view_name": "ProgressView",
            "bar_style": "success",
            "description": "",
            "description_tooltip": null,
            "layout": "IPY_MODEL_9505c47c28cb4dbe9659210bfd81276a",
            "max": 60,
            "min": 0,
            "orientation": "horizontal",
            "style": "IPY_MODEL_2166c07b4e4840cdabf618f45196ca93",
            "value": 60
          }
        },
        "23bd222794cf4924a31075a912a3bead": {
          "model_module": "@jupyter-widgets/controls",
          "model_name": "HTMLModel",
          "model_module_version": "1.5.0",
          "state": {
            "_dom_classes": [],
            "_model_module": "@jupyter-widgets/controls",
            "_model_module_version": "1.5.0",
            "_model_name": "HTMLModel",
            "_view_count": null,
            "_view_module": "@jupyter-widgets/controls",
            "_view_module_version": "1.5.0",
            "_view_name": "HTMLView",
            "description": "",
            "description_tooltip": null,
            "layout": "IPY_MODEL_862a16a8044049af9bd6b710a440843c",
            "placeholder": "​",
            "style": "IPY_MODEL_88b446a69e5949bdb8d0a28328689244",
            "value": " 60/60 [02:19&lt;00:00,  2.33s/it]"
          }
        },
        "f27b156d1d604033985a0f64735784aa": {
          "model_module": "@jupyter-widgets/base",
          "model_name": "LayoutModel",
          "model_module_version": "1.2.0",
          "state": {
            "_model_module": "@jupyter-widgets/base",
            "_model_module_version": "1.2.0",
            "_model_name": "LayoutModel",
            "_view_count": null,
            "_view_module": "@jupyter-widgets/base",
            "_view_module_version": "1.2.0",
            "_view_name": "LayoutView",
            "align_content": null,
            "align_items": null,
            "align_self": null,
            "border": null,
            "bottom": null,
            "display": null,
            "flex": null,
            "flex_flow": null,
            "grid_area": null,
            "grid_auto_columns": null,
            "grid_auto_flow": null,
            "grid_auto_rows": null,
            "grid_column": null,
            "grid_gap": null,
            "grid_row": null,
            "grid_template_areas": null,
            "grid_template_columns": null,
            "grid_template_rows": null,
            "height": null,
            "justify_content": null,
            "justify_items": null,
            "left": null,
            "margin": null,
            "max_height": null,
            "max_width": null,
            "min_height": null,
            "min_width": null,
            "object_fit": null,
            "object_position": null,
            "order": null,
            "overflow": null,
            "overflow_x": null,
            "overflow_y": null,
            "padding": null,
            "right": null,
            "top": null,
            "visibility": null,
            "width": null
          }
        },
        "2e035eae8b2f47ef987a6e060627513e": {
          "model_module": "@jupyter-widgets/base",
          "model_name": "LayoutModel",
          "model_module_version": "1.2.0",
          "state": {
            "_model_module": "@jupyter-widgets/base",
            "_model_module_version": "1.2.0",
            "_model_name": "LayoutModel",
            "_view_count": null,
            "_view_module": "@jupyter-widgets/base",
            "_view_module_version": "1.2.0",
            "_view_name": "LayoutView",
            "align_content": null,
            "align_items": null,
            "align_self": null,
            "border": null,
            "bottom": null,
            "display": null,
            "flex": null,
            "flex_flow": null,
            "grid_area": null,
            "grid_auto_columns": null,
            "grid_auto_flow": null,
            "grid_auto_rows": null,
            "grid_column": null,
            "grid_gap": null,
            "grid_row": null,
            "grid_template_areas": null,
            "grid_template_columns": null,
            "grid_template_rows": null,
            "height": null,
            "justify_content": null,
            "justify_items": null,
            "left": null,
            "margin": null,
            "max_height": null,
            "max_width": null,
            "min_height": null,
            "min_width": null,
            "object_fit": null,
            "object_position": null,
            "order": null,
            "overflow": null,
            "overflow_x": null,
            "overflow_y": null,
            "padding": null,
            "right": null,
            "top": null,
            "visibility": null,
            "width": null
          }
        },
        "aca192aaba0b4cfeb58d946d23862980": {
          "model_module": "@jupyter-widgets/controls",
          "model_name": "DescriptionStyleModel",
          "model_module_version": "1.5.0",
          "state": {
            "_model_module": "@jupyter-widgets/controls",
            "_model_module_version": "1.5.0",
            "_model_name": "DescriptionStyleModel",
            "_view_count": null,
            "_view_module": "@jupyter-widgets/base",
            "_view_module_version": "1.2.0",
            "_view_name": "StyleView",
            "description_width": ""
          }
        },
        "9505c47c28cb4dbe9659210bfd81276a": {
          "model_module": "@jupyter-widgets/base",
          "model_name": "LayoutModel",
          "model_module_version": "1.2.0",
          "state": {
            "_model_module": "@jupyter-widgets/base",
            "_model_module_version": "1.2.0",
            "_model_name": "LayoutModel",
            "_view_count": null,
            "_view_module": "@jupyter-widgets/base",
            "_view_module_version": "1.2.0",
            "_view_name": "LayoutView",
            "align_content": null,
            "align_items": null,
            "align_self": null,
            "border": null,
            "bottom": null,
            "display": null,
            "flex": null,
            "flex_flow": null,
            "grid_area": null,
            "grid_auto_columns": null,
            "grid_auto_flow": null,
            "grid_auto_rows": null,
            "grid_column": null,
            "grid_gap": null,
            "grid_row": null,
            "grid_template_areas": null,
            "grid_template_columns": null,
            "grid_template_rows": null,
            "height": null,
            "justify_content": null,
            "justify_items": null,
            "left": null,
            "margin": null,
            "max_height": null,
            "max_width": null,
            "min_height": null,
            "min_width": null,
            "object_fit": null,
            "object_position": null,
            "order": null,
            "overflow": null,
            "overflow_x": null,
            "overflow_y": null,
            "padding": null,
            "right": null,
            "top": null,
            "visibility": null,
            "width": null
          }
        },
        "2166c07b4e4840cdabf618f45196ca93": {
          "model_module": "@jupyter-widgets/controls",
          "model_name": "ProgressStyleModel",
          "model_module_version": "1.5.0",
          "state": {
            "_model_module": "@jupyter-widgets/controls",
            "_model_module_version": "1.5.0",
            "_model_name": "ProgressStyleModel",
            "_view_count": null,
            "_view_module": "@jupyter-widgets/base",
            "_view_module_version": "1.2.0",
            "_view_name": "StyleView",
            "bar_color": null,
            "description_width": ""
          }
        },
        "862a16a8044049af9bd6b710a440843c": {
          "model_module": "@jupyter-widgets/base",
          "model_name": "LayoutModel",
          "model_module_version": "1.2.0",
          "state": {
            "_model_module": "@jupyter-widgets/base",
            "_model_module_version": "1.2.0",
            "_model_name": "LayoutModel",
            "_view_count": null,
            "_view_module": "@jupyter-widgets/base",
            "_view_module_version": "1.2.0",
            "_view_name": "LayoutView",
            "align_content": null,
            "align_items": null,
            "align_self": null,
            "border": null,
            "bottom": null,
            "display": null,
            "flex": null,
            "flex_flow": null,
            "grid_area": null,
            "grid_auto_columns": null,
            "grid_auto_flow": null,
            "grid_auto_rows": null,
            "grid_column": null,
            "grid_gap": null,
            "grid_row": null,
            "grid_template_areas": null,
            "grid_template_columns": null,
            "grid_template_rows": null,
            "height": null,
            "justify_content": null,
            "justify_items": null,
            "left": null,
            "margin": null,
            "max_height": null,
            "max_width": null,
            "min_height": null,
            "min_width": null,
            "object_fit": null,
            "object_position": null,
            "order": null,
            "overflow": null,
            "overflow_x": null,
            "overflow_y": null,
            "padding": null,
            "right": null,
            "top": null,
            "visibility": null,
            "width": null
          }
        },
        "88b446a69e5949bdb8d0a28328689244": {
          "model_module": "@jupyter-widgets/controls",
          "model_name": "DescriptionStyleModel",
          "model_module_version": "1.5.0",
          "state": {
            "_model_module": "@jupyter-widgets/controls",
            "_model_module_version": "1.5.0",
            "_model_name": "DescriptionStyleModel",
            "_view_count": null,
            "_view_module": "@jupyter-widgets/base",
            "_view_module_version": "1.2.0",
            "_view_name": "StyleView",
            "description_width": ""
          }
        },
        "be3701f48e9c4846b9037427730c4c61": {
          "model_module": "@jupyter-widgets/controls",
          "model_name": "HBoxModel",
          "model_module_version": "1.5.0",
          "state": {
            "_dom_classes": [],
            "_model_module": "@jupyter-widgets/controls",
            "_model_module_version": "1.5.0",
            "_model_name": "HBoxModel",
            "_view_count": null,
            "_view_module": "@jupyter-widgets/controls",
            "_view_module_version": "1.5.0",
            "_view_name": "HBoxView",
            "box_style": "",
            "children": [
              "IPY_MODEL_1914f9ce781f46159df5670b75438c55",
              "IPY_MODEL_21b1b3c95d5a442e87d4d2e5c75c6997",
              "IPY_MODEL_292e16772a304326b1c66e461bbd23b2"
            ],
            "layout": "IPY_MODEL_5b4fa6d1871046f18c4751f96ee10446"
          }
        },
        "1914f9ce781f46159df5670b75438c55": {
          "model_module": "@jupyter-widgets/controls",
          "model_name": "HTMLModel",
          "model_module_version": "1.5.0",
          "state": {
            "_dom_classes": [],
            "_model_module": "@jupyter-widgets/controls",
            "_model_module_version": "1.5.0",
            "_model_name": "HTMLModel",
            "_view_count": null,
            "_view_module": "@jupyter-widgets/controls",
            "_view_module_version": "1.5.0",
            "_view_name": "HTMLView",
            "description": "",
            "description_tooltip": null,
            "layout": "IPY_MODEL_0a9de5379e2f42da902a00b491f51aab",
            "placeholder": "​",
            "style": "IPY_MODEL_946f69c7a7624009829c3522e00301c2",
            "value": "100%"
          }
        },
        "21b1b3c95d5a442e87d4d2e5c75c6997": {
          "model_module": "@jupyter-widgets/controls",
          "model_name": "FloatProgressModel",
          "model_module_version": "1.5.0",
          "state": {
            "_dom_classes": [],
            "_model_module": "@jupyter-widgets/controls",
            "_model_module_version": "1.5.0",
            "_model_name": "FloatProgressModel",
            "_view_count": null,
            "_view_module": "@jupyter-widgets/controls",
            "_view_module_version": "1.5.0",
            "_view_name": "ProgressView",
            "bar_style": "success",
            "description": "",
            "description_tooltip": null,
            "layout": "IPY_MODEL_c69c772ee9894d669dd77f7bb0606790",
            "max": 4,
            "min": 0,
            "orientation": "horizontal",
            "style": "IPY_MODEL_647455fb9a5841e482c4f534504471d8",
            "value": 4
          }
        },
        "292e16772a304326b1c66e461bbd23b2": {
          "model_module": "@jupyter-widgets/controls",
          "model_name": "HTMLModel",
          "model_module_version": "1.5.0",
          "state": {
            "_dom_classes": [],
            "_model_module": "@jupyter-widgets/controls",
            "_model_module_version": "1.5.0",
            "_model_name": "HTMLModel",
            "_view_count": null,
            "_view_module": "@jupyter-widgets/controls",
            "_view_module_version": "1.5.0",
            "_view_name": "HTMLView",
            "description": "",
            "description_tooltip": null,
            "layout": "IPY_MODEL_88e914efa83842c4bf9dfdba636b3034",
            "placeholder": "​",
            "style": "IPY_MODEL_d8730675e6ec46a2ab8511d90d5fc6d9",
            "value": " 4/4 [00:00&lt;00:00,  8.47it/s]"
          }
        },
        "5b4fa6d1871046f18c4751f96ee10446": {
          "model_module": "@jupyter-widgets/base",
          "model_name": "LayoutModel",
          "model_module_version": "1.2.0",
          "state": {
            "_model_module": "@jupyter-widgets/base",
            "_model_module_version": "1.2.0",
            "_model_name": "LayoutModel",
            "_view_count": null,
            "_view_module": "@jupyter-widgets/base",
            "_view_module_version": "1.2.0",
            "_view_name": "LayoutView",
            "align_content": null,
            "align_items": null,
            "align_self": null,
            "border": null,
            "bottom": null,
            "display": null,
            "flex": null,
            "flex_flow": null,
            "grid_area": null,
            "grid_auto_columns": null,
            "grid_auto_flow": null,
            "grid_auto_rows": null,
            "grid_column": null,
            "grid_gap": null,
            "grid_row": null,
            "grid_template_areas": null,
            "grid_template_columns": null,
            "grid_template_rows": null,
            "height": null,
            "justify_content": null,
            "justify_items": null,
            "left": null,
            "margin": null,
            "max_height": null,
            "max_width": null,
            "min_height": null,
            "min_width": null,
            "object_fit": null,
            "object_position": null,
            "order": null,
            "overflow": null,
            "overflow_x": null,
            "overflow_y": null,
            "padding": null,
            "right": null,
            "top": null,
            "visibility": null,
            "width": null
          }
        },
        "0a9de5379e2f42da902a00b491f51aab": {
          "model_module": "@jupyter-widgets/base",
          "model_name": "LayoutModel",
          "model_module_version": "1.2.0",
          "state": {
            "_model_module": "@jupyter-widgets/base",
            "_model_module_version": "1.2.0",
            "_model_name": "LayoutModel",
            "_view_count": null,
            "_view_module": "@jupyter-widgets/base",
            "_view_module_version": "1.2.0",
            "_view_name": "LayoutView",
            "align_content": null,
            "align_items": null,
            "align_self": null,
            "border": null,
            "bottom": null,
            "display": null,
            "flex": null,
            "flex_flow": null,
            "grid_area": null,
            "grid_auto_columns": null,
            "grid_auto_flow": null,
            "grid_auto_rows": null,
            "grid_column": null,
            "grid_gap": null,
            "grid_row": null,
            "grid_template_areas": null,
            "grid_template_columns": null,
            "grid_template_rows": null,
            "height": null,
            "justify_content": null,
            "justify_items": null,
            "left": null,
            "margin": null,
            "max_height": null,
            "max_width": null,
            "min_height": null,
            "min_width": null,
            "object_fit": null,
            "object_position": null,
            "order": null,
            "overflow": null,
            "overflow_x": null,
            "overflow_y": null,
            "padding": null,
            "right": null,
            "top": null,
            "visibility": null,
            "width": null
          }
        },
        "946f69c7a7624009829c3522e00301c2": {
          "model_module": "@jupyter-widgets/controls",
          "model_name": "DescriptionStyleModel",
          "model_module_version": "1.5.0",
          "state": {
            "_model_module": "@jupyter-widgets/controls",
            "_model_module_version": "1.5.0",
            "_model_name": "DescriptionStyleModel",
            "_view_count": null,
            "_view_module": "@jupyter-widgets/base",
            "_view_module_version": "1.2.0",
            "_view_name": "StyleView",
            "description_width": ""
          }
        },
        "c69c772ee9894d669dd77f7bb0606790": {
          "model_module": "@jupyter-widgets/base",
          "model_name": "LayoutModel",
          "model_module_version": "1.2.0",
          "state": {
            "_model_module": "@jupyter-widgets/base",
            "_model_module_version": "1.2.0",
            "_model_name": "LayoutModel",
            "_view_count": null,
            "_view_module": "@jupyter-widgets/base",
            "_view_module_version": "1.2.0",
            "_view_name": "LayoutView",
            "align_content": null,
            "align_items": null,
            "align_self": null,
            "border": null,
            "bottom": null,
            "display": null,
            "flex": null,
            "flex_flow": null,
            "grid_area": null,
            "grid_auto_columns": null,
            "grid_auto_flow": null,
            "grid_auto_rows": null,
            "grid_column": null,
            "grid_gap": null,
            "grid_row": null,
            "grid_template_areas": null,
            "grid_template_columns": null,
            "grid_template_rows": null,
            "height": null,
            "justify_content": null,
            "justify_items": null,
            "left": null,
            "margin": null,
            "max_height": null,
            "max_width": null,
            "min_height": null,
            "min_width": null,
            "object_fit": null,
            "object_position": null,
            "order": null,
            "overflow": null,
            "overflow_x": null,
            "overflow_y": null,
            "padding": null,
            "right": null,
            "top": null,
            "visibility": null,
            "width": null
          }
        },
        "647455fb9a5841e482c4f534504471d8": {
          "model_module": "@jupyter-widgets/controls",
          "model_name": "ProgressStyleModel",
          "model_module_version": "1.5.0",
          "state": {
            "_model_module": "@jupyter-widgets/controls",
            "_model_module_version": "1.5.0",
            "_model_name": "ProgressStyleModel",
            "_view_count": null,
            "_view_module": "@jupyter-widgets/base",
            "_view_module_version": "1.2.0",
            "_view_name": "StyleView",
            "bar_color": null,
            "description_width": ""
          }
        },
        "88e914efa83842c4bf9dfdba636b3034": {
          "model_module": "@jupyter-widgets/base",
          "model_name": "LayoutModel",
          "model_module_version": "1.2.0",
          "state": {
            "_model_module": "@jupyter-widgets/base",
            "_model_module_version": "1.2.0",
            "_model_name": "LayoutModel",
            "_view_count": null,
            "_view_module": "@jupyter-widgets/base",
            "_view_module_version": "1.2.0",
            "_view_name": "LayoutView",
            "align_content": null,
            "align_items": null,
            "align_self": null,
            "border": null,
            "bottom": null,
            "display": null,
            "flex": null,
            "flex_flow": null,
            "grid_area": null,
            "grid_auto_columns": null,
            "grid_auto_flow": null,
            "grid_auto_rows": null,
            "grid_column": null,
            "grid_gap": null,
            "grid_row": null,
            "grid_template_areas": null,
            "grid_template_columns": null,
            "grid_template_rows": null,
            "height": null,
            "justify_content": null,
            "justify_items": null,
            "left": null,
            "margin": null,
            "max_height": null,
            "max_width": null,
            "min_height": null,
            "min_width": null,
            "object_fit": null,
            "object_position": null,
            "order": null,
            "overflow": null,
            "overflow_x": null,
            "overflow_y": null,
            "padding": null,
            "right": null,
            "top": null,
            "visibility": null,
            "width": null
          }
        },
        "d8730675e6ec46a2ab8511d90d5fc6d9": {
          "model_module": "@jupyter-widgets/controls",
          "model_name": "DescriptionStyleModel",
          "model_module_version": "1.5.0",
          "state": {
            "_model_module": "@jupyter-widgets/controls",
            "_model_module_version": "1.5.0",
            "_model_name": "DescriptionStyleModel",
            "_view_count": null,
            "_view_module": "@jupyter-widgets/base",
            "_view_module_version": "1.2.0",
            "_view_name": "StyleView",
            "description_width": ""
          }
        }
      }
    },
    "accelerator": "GPU"
  },
  "nbformat": 4,
  "nbformat_minor": 0
}